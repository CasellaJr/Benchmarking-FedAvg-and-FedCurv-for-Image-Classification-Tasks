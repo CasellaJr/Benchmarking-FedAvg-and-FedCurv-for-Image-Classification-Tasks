{
 "cells": [
  {
   "cell_type": "markdown",
   "id": "fb8f890d",
   "metadata": {},
   "source": [
    "# Federated PyTorch CIFAR10"
   ]
  },
  {
   "cell_type": "code",
   "execution_count": 1,
   "id": "c19e50f2",
   "metadata": {},
   "outputs": [],
   "source": [
    "#!pip install -r requirements.txt"
   ]
  },
  {
   "cell_type": "code",
   "execution_count": 2,
   "id": "1effbc0a",
   "metadata": {},
   "outputs": [
    {
     "name": "stderr",
     "output_type": "stream",
     "text": [
      "/home/ubuntu/anaconda3/envs/openfl/lib/python3.8/site-packages/tqdm/auto.py:22: TqdmWarning: IProgress not found. Please update jupyter and ipywidgets. See https://ipywidgets.readthedocs.io/en/stable/user_install.html\n",
      "  from .autonotebook import tqdm as notebook_tqdm\n",
      "2022-09-11 08:56:47.144630: W tensorflow/stream_executor/platform/default/dso_loader.cc:59] Could not load dynamic library 'libcudart.so.10.1'; dlerror: libcudart.so.10.1: cannot open shared object file: No such file or directory\n",
      "2022-09-11 08:56:47.144661: I tensorflow/stream_executor/cuda/cudart_stub.cc:29] Ignore above cudart dlerror if you do not have a GPU set up on your machine.\n"
     ]
    }
   ],
   "source": [
    "import os\n",
    "import glob\n",
    "\n",
    "from PIL import Image\n",
    "\n",
    "import numpy as np\n",
    "import torch\n",
    "import torch.nn as nn\n",
    "import torch.nn.functional as F\n",
    "import torch.optim as optim\n",
    "from openfl.interface.interactive_api.federation import Federation\n",
    "from openfl.interface.interactive_api.experiment import TaskInterface, DataInterface, ModelInterface, FLExperiment\n",
    "from copy import deepcopy\n",
    "import torchvision\n",
    "from torchvision import transforms as T\n",
    "from torch.utils.data import Dataset\n",
    "from torch.utils.data import DataLoader\n",
    "import tqdm\n",
    "\n",
    "torch.manual_seed(0)\n",
    "np.random.seed(0)"
   ]
  },
  {
   "cell_type": "markdown",
   "id": "9c8ea839",
   "metadata": {},
   "source": [
    "## Connect to the Federation"
   ]
  },
  {
   "cell_type": "code",
   "execution_count": 3,
   "id": "00a81f6d",
   "metadata": {},
   "outputs": [],
   "source": [
    "# Create a federation\n",
    "\n",
    "# please use the same identificator that was used in signed certificate\n",
    "client_id = 'api'\n",
    "cert_dir = 'cert'\n",
    "director_node_fqdn = 'director'\n",
    "# 1) Run with API layer - Director mTLS \n",
    "# If the user wants to enable mTLS their must provide CA root chain, and signed key pair to the federation interface\n",
    "# cert_chain = f'{cert_dir}/root_ca.crt'\n",
    "# api_certificate = f'{cert_dir}/{client_id}.crt'\n",
    "# api_private_key = f'{cert_dir}/{client_id}.key'\n",
    "\n",
    "# federation = Federation(client_id=client_id, director_node_fqdn=director_node_fqdn, director_port='50051',\n",
    "#                        cert_chain=cert_chain, api_cert=api_certificate, api_private_key=api_private_key)\n",
    "\n",
    "# --------------------------------------------------------------------------------------------------------------------\n",
    "\n",
    "# 2) Run with TLS disabled (trusted environment)\n",
    "# Federation can also determine local fqdn automatically\n",
    "federation = Federation(client_id=client_id, director_node_fqdn=director_node_fqdn, director_port='50051', tls=False)\n"
   ]
  },
  {
   "cell_type": "code",
   "execution_count": 4,
   "id": "9ab39e19",
   "metadata": {},
   "outputs": [
    {
     "data": {
      "text/plain": [
       "['32', '32', '3']"
      ]
     },
     "execution_count": 4,
     "metadata": {},
     "output_type": "execute_result"
    }
   ],
   "source": [
    "federation.target_shape"
   ]
  },
  {
   "cell_type": "code",
   "execution_count": 5,
   "id": "7f1b5186",
   "metadata": {},
   "outputs": [
    {
     "data": {
      "text/plain": [
       "{'env_one': {'shard_info': node_info {\n",
       "    name: \"env_one\"\n",
       "  }\n",
       "  shard_description: \"Cifar10 dataset, shard number 1 out of 10\"\n",
       "  sample_shape: \"32\"\n",
       "  sample_shape: \"32\"\n",
       "  sample_shape: \"3\"\n",
       "  target_shape: \"32\"\n",
       "  target_shape: \"32\"\n",
       "  target_shape: \"3\",\n",
       "  'is_online': True,\n",
       "  'is_experiment_running': False,\n",
       "  'last_updated': '2022-09-11 08:56:42',\n",
       "  'current_time': '2022-09-11 08:56:53',\n",
       "  'valid_duration': seconds: 120,\n",
       "  'experiment_name': 'ExperimentName Mock'},\n",
       " 'env_four': {'shard_info': node_info {\n",
       "    name: \"env_four\"\n",
       "  }\n",
       "  shard_description: \"Cifar10 dataset, shard number 4 out of 10\"\n",
       "  sample_shape: \"32\"\n",
       "  sample_shape: \"32\"\n",
       "  sample_shape: \"3\"\n",
       "  target_shape: \"32\"\n",
       "  target_shape: \"32\"\n",
       "  target_shape: \"3\",\n",
       "  'is_online': True,\n",
       "  'is_experiment_running': False,\n",
       "  'last_updated': '2022-09-11 08:56:42',\n",
       "  'current_time': '2022-09-11 08:56:53',\n",
       "  'valid_duration': seconds: 120,\n",
       "  'experiment_name': 'ExperimentName Mock'},\n",
       " 'env_two': {'shard_info': node_info {\n",
       "    name: \"env_two\"\n",
       "  }\n",
       "  shard_description: \"Cifar10 dataset, shard number 2 out of 10\"\n",
       "  sample_shape: \"32\"\n",
       "  sample_shape: \"32\"\n",
       "  sample_shape: \"3\"\n",
       "  target_shape: \"32\"\n",
       "  target_shape: \"32\"\n",
       "  target_shape: \"3\",\n",
       "  'is_online': True,\n",
       "  'is_experiment_running': False,\n",
       "  'last_updated': '2022-09-11 08:56:42',\n",
       "  'current_time': '2022-09-11 08:56:53',\n",
       "  'valid_duration': seconds: 120,\n",
       "  'experiment_name': 'ExperimentName Mock'},\n",
       " 'env_six': {'shard_info': node_info {\n",
       "    name: \"env_six\"\n",
       "  }\n",
       "  shard_description: \"Cifar10 dataset, shard number 6 out of 10\"\n",
       "  sample_shape: \"32\"\n",
       "  sample_shape: \"32\"\n",
       "  sample_shape: \"3\"\n",
       "  target_shape: \"32\"\n",
       "  target_shape: \"32\"\n",
       "  target_shape: \"3\",\n",
       "  'is_online': True,\n",
       "  'is_experiment_running': False,\n",
       "  'last_updated': '2022-09-11 08:56:43',\n",
       "  'current_time': '2022-09-11 08:56:53',\n",
       "  'valid_duration': seconds: 120,\n",
       "  'experiment_name': 'ExperimentName Mock'},\n",
       " 'env_eight': {'shard_info': node_info {\n",
       "    name: \"env_eight\"\n",
       "  }\n",
       "  shard_description: \"Cifar10 dataset, shard number 8 out of 10\"\n",
       "  sample_shape: \"32\"\n",
       "  sample_shape: \"32\"\n",
       "  sample_shape: \"3\"\n",
       "  target_shape: \"32\"\n",
       "  target_shape: \"32\"\n",
       "  target_shape: \"3\",\n",
       "  'is_online': True,\n",
       "  'is_experiment_running': False,\n",
       "  'last_updated': '2022-09-11 08:56:45',\n",
       "  'current_time': '2022-09-11 08:56:53',\n",
       "  'valid_duration': seconds: 120,\n",
       "  'experiment_name': 'ExperimentName Mock'},\n",
       " 'env_five': {'shard_info': node_info {\n",
       "    name: \"env_five\"\n",
       "  }\n",
       "  shard_description: \"Cifar10 dataset, shard number 5 out of 10\"\n",
       "  sample_shape: \"32\"\n",
       "  sample_shape: \"32\"\n",
       "  sample_shape: \"3\"\n",
       "  target_shape: \"32\"\n",
       "  target_shape: \"32\"\n",
       "  target_shape: \"3\",\n",
       "  'is_online': True,\n",
       "  'is_experiment_running': False,\n",
       "  'last_updated': '2022-09-11 08:56:45',\n",
       "  'current_time': '2022-09-11 08:56:53',\n",
       "  'valid_duration': seconds: 120,\n",
       "  'experiment_name': 'ExperimentName Mock'},\n",
       " 'env_three': {'shard_info': node_info {\n",
       "    name: \"env_three\"\n",
       "  }\n",
       "  shard_description: \"Cifar10 dataset, shard number 3 out of 10\"\n",
       "  sample_shape: \"32\"\n",
       "  sample_shape: \"32\"\n",
       "  sample_shape: \"3\"\n",
       "  target_shape: \"32\"\n",
       "  target_shape: \"32\"\n",
       "  target_shape: \"3\",\n",
       "  'is_online': True,\n",
       "  'is_experiment_running': False,\n",
       "  'last_updated': '2022-09-11 08:56:47',\n",
       "  'current_time': '2022-09-11 08:56:53',\n",
       "  'valid_duration': seconds: 120,\n",
       "  'experiment_name': 'ExperimentName Mock'},\n",
       " 'env_seven': {'shard_info': node_info {\n",
       "    name: \"env_seven\"\n",
       "  }\n",
       "  shard_description: \"Cifar10 dataset, shard number 7 out of 10\"\n",
       "  sample_shape: \"32\"\n",
       "  sample_shape: \"32\"\n",
       "  sample_shape: \"3\"\n",
       "  target_shape: \"32\"\n",
       "  target_shape: \"32\"\n",
       "  target_shape: \"3\",\n",
       "  'is_online': True,\n",
       "  'is_experiment_running': False,\n",
       "  'last_updated': '2022-09-11 08:56:47',\n",
       "  'current_time': '2022-09-11 08:56:53',\n",
       "  'valid_duration': seconds: 120,\n",
       "  'experiment_name': 'ExperimentName Mock'},\n",
       " 'env_nine': {'shard_info': node_info {\n",
       "    name: \"env_nine\"\n",
       "  }\n",
       "  shard_description: \"Cifar10 dataset, shard number 9 out of 10\"\n",
       "  sample_shape: \"32\"\n",
       "  sample_shape: \"32\"\n",
       "  sample_shape: \"3\"\n",
       "  target_shape: \"32\"\n",
       "  target_shape: \"32\"\n",
       "  target_shape: \"3\",\n",
       "  'is_online': True,\n",
       "  'is_experiment_running': False,\n",
       "  'last_updated': '2022-09-11 08:56:48',\n",
       "  'current_time': '2022-09-11 08:56:53',\n",
       "  'valid_duration': seconds: 120,\n",
       "  'experiment_name': 'ExperimentName Mock'},\n",
       " 'env_ten': {'shard_info': node_info {\n",
       "    name: \"env_ten\"\n",
       "  }\n",
       "  shard_description: \"Cifar10 dataset, shard number 10 out of 10\"\n",
       "  sample_shape: \"32\"\n",
       "  sample_shape: \"32\"\n",
       "  sample_shape: \"3\"\n",
       "  target_shape: \"32\"\n",
       "  target_shape: \"32\"\n",
       "  target_shape: \"3\",\n",
       "  'is_online': True,\n",
       "  'is_experiment_running': False,\n",
       "  'last_updated': '2022-09-11 08:56:51',\n",
       "  'current_time': '2022-09-11 08:56:53',\n",
       "  'valid_duration': seconds: 120,\n",
       "  'experiment_name': 'ExperimentName Mock'}}"
      ]
     },
     "execution_count": 5,
     "metadata": {},
     "output_type": "execute_result"
    }
   ],
   "source": [
    "shard_registry = federation.get_shard_registry()\n",
    "shard_registry"
   ]
  },
  {
   "cell_type": "code",
   "execution_count": 6,
   "id": "669db40f",
   "metadata": {},
   "outputs": [
    {
     "name": "stdout",
     "output_type": "stream",
     "text": [
      "(32, 32, 3)\n",
      "(32, 32, 3)\n"
     ]
    }
   ],
   "source": [
    "# First, request a dummy_shard_desc that holds information about the federated dataset \n",
    "dummy_shard_desc = federation.get_dummy_shard_descriptor(size=10)\n",
    "dummy_shard_dataset = dummy_shard_desc.get_dataset('train')\n",
    "sample, target = dummy_shard_dataset[0]\n",
    "print(sample.shape)\n",
    "print(target.shape)"
   ]
  },
  {
   "cell_type": "markdown",
   "id": "f650d13b",
   "metadata": {},
   "source": [
    "## Creating a FL experiment using Interactive API"
   ]
  },
  {
   "cell_type": "markdown",
   "id": "2f591b8d",
   "metadata": {},
   "source": [
    "### Register dataset"
   ]
  },
  {
   "cell_type": "code",
   "execution_count": 7,
   "id": "a2a95d40",
   "metadata": {},
   "outputs": [],
   "source": [
    "normalize = T.Normalize(\n",
    "    mean=[0.491, 0.482, 0.446],\n",
    "    std=[0.247, 0.243, 0.261]\n",
    ")\n",
    "\n",
    "augmentation = T.RandomApply(\n",
    "    [T.RandomHorizontalFlip(),\n",
    "     T.RandomCrop(32, padding=4)],\n",
    "    p=.5\n",
    ")\n",
    "\n",
    "training_transform = T.Compose(\n",
    "    [T.ToTensor(),\n",
    "     T.Resize(32),\n",
    "     augmentation,\n",
    "     normalize]\n",
    ")\n",
    "\n",
    "valid_transform = T.Compose(\n",
    "    [T.ToTensor(),\n",
    "     T.Resize(32),\n",
    "     normalize]\n",
    ")\n"
   ]
  },
  {
   "cell_type": "code",
   "execution_count": 8,
   "id": "c27ae0a9",
   "metadata": {},
   "outputs": [],
   "source": [
    "class TransformedDataset(Dataset):\n",
    "    \"\"\"Image Person ReID Dataset.\"\"\"\n",
    "\n",
    "    def __init__(self, dataset, transform=None, target_transform=None):\n",
    "        \"\"\"Initialize Dataset.\"\"\"\n",
    "        self.dataset = dataset\n",
    "        self.transform = transform\n",
    "        self.target_transform = target_transform\n",
    "\n",
    "    def __len__(self):\n",
    "        \"\"\"Length of dataset.\"\"\"\n",
    "        return len(self.dataset)\n",
    "\n",
    "    def __getitem__(self, index):\n",
    "        img, label = self.dataset[index]\n",
    "        label = self.target_transform(label) if self.target_transform else label\n",
    "        img = self.transform(img) if self.transform else img\n",
    "        return img, label\n"
   ]
  },
  {
   "cell_type": "code",
   "execution_count": 9,
   "id": "e0b98919",
   "metadata": {},
   "outputs": [],
   "source": [
    "class CIFAR10Dataset(DataInterface):\n",
    "    def __init__(self, **kwargs):\n",
    "        self.kwargs = kwargs\n",
    "    \n",
    "    @property\n",
    "    def shard_descriptor(self):\n",
    "        return self._shard_descriptor\n",
    "        \n",
    "    @shard_descriptor.setter\n",
    "    def shard_descriptor(self, shard_descriptor):\n",
    "        \"\"\"\n",
    "        Describe per-collaborator procedures or sharding.\n",
    "\n",
    "        This method will be called during a collaborator initialization.\n",
    "        Local shard_descriptor  will be set by Envoy.\n",
    "        \"\"\"\n",
    "        self._shard_descriptor = shard_descriptor\n",
    "        \n",
    "        self.train_set = TransformedDataset(\n",
    "            self._shard_descriptor.get_dataset('train'),\n",
    "            transform=training_transform\n",
    "        )\n",
    "        self.valid_set = TransformedDataset(\n",
    "            self._shard_descriptor.get_dataset('val'),\n",
    "            transform=valid_transform\n",
    "        )\n",
    "        \n",
    "    def get_train_loader(self, **kwargs):\n",
    "        \"\"\"\n",
    "        Output of this method will be provided to tasks with optimizer in contract\n",
    "        \"\"\"\n",
    "        generator=torch.Generator()\n",
    "        generator.manual_seed(0)\n",
    "        return DataLoader(\n",
    "            self.train_set, batch_size=self.kwargs['train_bs'], shuffle=True, generator=generator\n",
    "            )\n",
    "\n",
    "    def get_valid_loader(self, **kwargs):\n",
    "        \"\"\"\n",
    "        Output of this method will be provided to tasks without optimizer in contract\n",
    "        \"\"\"\n",
    "        return DataLoader(self.valid_set, batch_size=self.kwargs['valid_bs'])\n",
    "\n",
    "    def get_train_data_size(self):\n",
    "        \"\"\"\n",
    "        Information for aggregation\n",
    "        \"\"\"\n",
    "        return len(self.train_set)\n",
    "\n",
    "    def get_valid_data_size(self):\n",
    "        \"\"\"\n",
    "        Information for aggregation\n",
    "        \"\"\"\n",
    "        return len(self.valid_set)\n",
    "    "
   ]
  },
  {
   "cell_type": "code",
   "execution_count": 10,
   "id": "39ea1ff9",
   "metadata": {},
   "outputs": [],
   "source": [
    "fed_dataset = CIFAR10Dataset(train_bs=128, valid_bs=128)"
   ]
  },
  {
   "cell_type": "markdown",
   "id": "88083acc",
   "metadata": {},
   "source": [
    "### Describe the model and optimizer"
   ]
  },
  {
   "cell_type": "code",
   "execution_count": 11,
   "id": "d69b471a",
   "metadata": {},
   "outputs": [
    {
     "data": {
      "text/plain": [
       "'\\nMobileNetV2 model\\n\\n\\nclass Net(nn.Module):\\n    def __init__(self):\\n        super(Net, self).__init__()\\n        self.conv1 = nn.Conv2d(1, 10, kernel_size=5)\\n        self.conv2 = nn.Conv2d(10, 20, kernel_size=5)\\n        self.conv2_drop = nn.Dropout2d()\\n        self.fc1 = nn.Linear(320, 50)\\n        self.fc2 = nn.Linear(50, 10)\\n\\n    def forward(self, x):\\n        x = F.relu(F.max_pool2d(self.conv1(x), 2))\\n        x = F.relu(F.max_pool2d(self.conv2_drop(self.conv2(x)), 2))\\n        x = x.view(-1, 320)\\n        x = F.relu(self.fc1(x))\\n        x = F.dropout(x, training=self.training)\\n        x = self.fc2(x)\\n        return F.log_softmax(x)\\n\\n\\nmodel_net = Net()\\n'"
      ]
     },
     "execution_count": 11,
     "metadata": {},
     "output_type": "execute_result"
    }
   ],
   "source": [
    "\"\"\"\n",
    "MobileNetV2 model\n",
    "\n",
    "\n",
    "class Net(nn.Module):\n",
    "    def __init__(self):\n",
    "        super(Net, self).__init__()\n",
    "        self.conv1 = nn.Conv2d(1, 10, kernel_size=5)\n",
    "        self.conv2 = nn.Conv2d(10, 20, kernel_size=5)\n",
    "        self.conv2_drop = nn.Dropout2d()\n",
    "        self.fc1 = nn.Linear(320, 50)\n",
    "        self.fc2 = nn.Linear(50, 10)\n",
    "\n",
    "    def forward(self, x):\n",
    "        x = F.relu(F.max_pool2d(self.conv1(x), 2))\n",
    "        x = F.relu(F.max_pool2d(self.conv2_drop(self.conv2(x)), 2))\n",
    "        x = x.view(-1, 320)\n",
    "        x = F.relu(self.fc1(x))\n",
    "        x = F.dropout(x, training=self.training)\n",
    "        x = self.fc2(x)\n",
    "        return F.log_softmax(x)\n",
    "\n",
    "\n",
    "model_net = Net()\n",
    "\"\"\""
   ]
  },
  {
   "cell_type": "code",
   "execution_count": 12,
   "id": "5fb091f4",
   "metadata": {},
   "outputs": [],
   "source": [
    "from torch.nn import Module\n",
    "class BatchRenormalization2D(Module):\n",
    "\n",
    "    def __init__(self, num_features,  eps=1e-05, momentum=0.01, r_d_max_inc_step = 0.0001):\n",
    "        super(BatchRenormalization2D, self).__init__()\n",
    "\n",
    "        self.eps = eps\n",
    "        self.momentum = torch.tensor( (momentum), requires_grad = False)\n",
    "\n",
    "        self.gamma = torch.nn.Parameter(torch.ones((1, num_features, 1, 1)), requires_grad=True)\n",
    "        self.beta = torch.nn.Parameter(torch.zeros((1, num_features, 1, 1)), requires_grad=True)\n",
    "\n",
    "        self.running_avg_mean = torch.ones((1, num_features, 1, 1), requires_grad=False)\n",
    "        self.running_avg_std = torch.zeros((1, num_features, 1, 1), requires_grad=False) \n",
    "\n",
    "        self.max_r_max = 3.0\n",
    "        self.max_d_max = 5.0\n",
    "\n",
    "        self.r_max_inc_step = r_d_max_inc_step\n",
    "        self.d_max_inc_step = r_d_max_inc_step\n",
    "\n",
    "        self.r_max = torch.tensor( (1.0), requires_grad = False)\n",
    "        self.d_max = torch.tensor( (0.0), requires_grad = False)\n",
    "\n",
    "    def forward(self, x):\n",
    "\n",
    "        device = self.gamma.device\n",
    "\n",
    "        batch_ch_mean = torch.mean(x, dim=(0,2,3), keepdim=True).to(device)\n",
    "        batch_ch_std = torch.clamp(torch.std(x, dim=(0,2,3), keepdim=True), self.eps, 1e10).to(device)\n",
    "\n",
    "        self.running_avg_std = self.running_avg_std.to(device)\n",
    "        self.running_avg_mean = self.running_avg_mean.to(device)\n",
    "        self.momentum = self.momentum.to(device)\n",
    "\n",
    "        self.r_max = self.r_max.to(device)\n",
    "        self.d_max = self.d_max.to(device)\n",
    "\n",
    "\n",
    "        if self.training:\n",
    "\n",
    "            r = torch.clamp(batch_ch_std / self.running_avg_std, 1.0 / self.r_max, self.r_max).to(device).data.to(device)\n",
    "            d = torch.clamp((batch_ch_mean - self.running_avg_mean) / self.running_avg_std, -self.d_max, self.d_max).to(device).data.to(device)\n",
    "\n",
    "            x = ((x - batch_ch_mean) * r )/ batch_ch_std + d\n",
    "            x = self.gamma * x + self.beta\n",
    "\n",
    "            if self.r_max < self.max_r_max:\n",
    "                self.r_max += self.r_max_inc_step * x.shape[0]\n",
    "\n",
    "            if self.d_max < self.max_d_max:\n",
    "                self.d_max += self.d_max_inc_step * x.shape[0]\n",
    "\n",
    "        else:\n",
    "\n",
    "            x = (x - self.running_avg_mean) / self.running_avg_std\n",
    "            x = self.gamma * x + self.beta\n",
    "\n",
    "        self.running_avg_mean = self.running_avg_mean + self.momentum * (batch_ch_mean.data.to(device) - self.running_avg_mean)\n",
    "        self.running_avg_std = self.running_avg_std + self.momentum * (batch_ch_std.data.to(device) - self.running_avg_std)\n",
    "\n",
    "        return x"
   ]
  },
  {
   "cell_type": "code",
   "execution_count": 13,
   "id": "fe0d1588",
   "metadata": {},
   "outputs": [],
   "source": [
    "resnet18 = torchvision.models.resnet18(pretrained=False)\n",
    "efficientnet_b0 = torchvision.models.efficientnet_b0(pretrained=False)"
   ]
  },
  {
   "cell_type": "code",
   "execution_count": 14,
   "id": "807049e9",
   "metadata": {},
   "outputs": [
    {
     "data": {
      "text/plain": [
       "ResNet(\n",
       "  (conv1): Conv2d(3, 64, kernel_size=(7, 7), stride=(2, 2), padding=(3, 3), bias=False)\n",
       "  (bn1): BatchNorm2d(64, eps=1e-05, momentum=0.1, affine=True, track_running_stats=True)\n",
       "  (relu): ReLU(inplace=True)\n",
       "  (maxpool): MaxPool2d(kernel_size=3, stride=2, padding=1, dilation=1, ceil_mode=False)\n",
       "  (layer1): Sequential(\n",
       "    (0): BasicBlock(\n",
       "      (conv1): Conv2d(64, 64, kernel_size=(3, 3), stride=(1, 1), padding=(1, 1), bias=False)\n",
       "      (bn1): BatchNorm2d(64, eps=1e-05, momentum=0.1, affine=True, track_running_stats=True)\n",
       "      (relu): ReLU(inplace=True)\n",
       "      (conv2): Conv2d(64, 64, kernel_size=(3, 3), stride=(1, 1), padding=(1, 1), bias=False)\n",
       "      (bn2): BatchNorm2d(64, eps=1e-05, momentum=0.1, affine=True, track_running_stats=True)\n",
       "    )\n",
       "    (1): BasicBlock(\n",
       "      (conv1): Conv2d(64, 64, kernel_size=(3, 3), stride=(1, 1), padding=(1, 1), bias=False)\n",
       "      (bn1): BatchNorm2d(64, eps=1e-05, momentum=0.1, affine=True, track_running_stats=True)\n",
       "      (relu): ReLU(inplace=True)\n",
       "      (conv2): Conv2d(64, 64, kernel_size=(3, 3), stride=(1, 1), padding=(1, 1), bias=False)\n",
       "      (bn2): BatchNorm2d(64, eps=1e-05, momentum=0.1, affine=True, track_running_stats=True)\n",
       "    )\n",
       "  )\n",
       "  (layer2): Sequential(\n",
       "    (0): BasicBlock(\n",
       "      (conv1): Conv2d(64, 128, kernel_size=(3, 3), stride=(2, 2), padding=(1, 1), bias=False)\n",
       "      (bn1): BatchNorm2d(128, eps=1e-05, momentum=0.1, affine=True, track_running_stats=True)\n",
       "      (relu): ReLU(inplace=True)\n",
       "      (conv2): Conv2d(128, 128, kernel_size=(3, 3), stride=(1, 1), padding=(1, 1), bias=False)\n",
       "      (bn2): BatchNorm2d(128, eps=1e-05, momentum=0.1, affine=True, track_running_stats=True)\n",
       "      (downsample): Sequential(\n",
       "        (0): Conv2d(64, 128, kernel_size=(1, 1), stride=(2, 2), bias=False)\n",
       "        (1): BatchNorm2d(128, eps=1e-05, momentum=0.1, affine=True, track_running_stats=True)\n",
       "      )\n",
       "    )\n",
       "    (1): BasicBlock(\n",
       "      (conv1): Conv2d(128, 128, kernel_size=(3, 3), stride=(1, 1), padding=(1, 1), bias=False)\n",
       "      (bn1): BatchNorm2d(128, eps=1e-05, momentum=0.1, affine=True, track_running_stats=True)\n",
       "      (relu): ReLU(inplace=True)\n",
       "      (conv2): Conv2d(128, 128, kernel_size=(3, 3), stride=(1, 1), padding=(1, 1), bias=False)\n",
       "      (bn2): BatchNorm2d(128, eps=1e-05, momentum=0.1, affine=True, track_running_stats=True)\n",
       "    )\n",
       "  )\n",
       "  (layer3): Sequential(\n",
       "    (0): BasicBlock(\n",
       "      (conv1): Conv2d(128, 256, kernel_size=(3, 3), stride=(2, 2), padding=(1, 1), bias=False)\n",
       "      (bn1): BatchNorm2d(256, eps=1e-05, momentum=0.1, affine=True, track_running_stats=True)\n",
       "      (relu): ReLU(inplace=True)\n",
       "      (conv2): Conv2d(256, 256, kernel_size=(3, 3), stride=(1, 1), padding=(1, 1), bias=False)\n",
       "      (bn2): BatchNorm2d(256, eps=1e-05, momentum=0.1, affine=True, track_running_stats=True)\n",
       "      (downsample): Sequential(\n",
       "        (0): Conv2d(128, 256, kernel_size=(1, 1), stride=(2, 2), bias=False)\n",
       "        (1): BatchNorm2d(256, eps=1e-05, momentum=0.1, affine=True, track_running_stats=True)\n",
       "      )\n",
       "    )\n",
       "    (1): BasicBlock(\n",
       "      (conv1): Conv2d(256, 256, kernel_size=(3, 3), stride=(1, 1), padding=(1, 1), bias=False)\n",
       "      (bn1): BatchNorm2d(256, eps=1e-05, momentum=0.1, affine=True, track_running_stats=True)\n",
       "      (relu): ReLU(inplace=True)\n",
       "      (conv2): Conv2d(256, 256, kernel_size=(3, 3), stride=(1, 1), padding=(1, 1), bias=False)\n",
       "      (bn2): BatchNorm2d(256, eps=1e-05, momentum=0.1, affine=True, track_running_stats=True)\n",
       "    )\n",
       "  )\n",
       "  (layer4): Sequential(\n",
       "    (0): BasicBlock(\n",
       "      (conv1): Conv2d(256, 512, kernel_size=(3, 3), stride=(2, 2), padding=(1, 1), bias=False)\n",
       "      (bn1): BatchNorm2d(512, eps=1e-05, momentum=0.1, affine=True, track_running_stats=True)\n",
       "      (relu): ReLU(inplace=True)\n",
       "      (conv2): Conv2d(512, 512, kernel_size=(3, 3), stride=(1, 1), padding=(1, 1), bias=False)\n",
       "      (bn2): BatchNorm2d(512, eps=1e-05, momentum=0.1, affine=True, track_running_stats=True)\n",
       "      (downsample): Sequential(\n",
       "        (0): Conv2d(256, 512, kernel_size=(1, 1), stride=(2, 2), bias=False)\n",
       "        (1): BatchNorm2d(512, eps=1e-05, momentum=0.1, affine=True, track_running_stats=True)\n",
       "      )\n",
       "    )\n",
       "    (1): BasicBlock(\n",
       "      (conv1): Conv2d(512, 512, kernel_size=(3, 3), stride=(1, 1), padding=(1, 1), bias=False)\n",
       "      (bn1): BatchNorm2d(512, eps=1e-05, momentum=0.1, affine=True, track_running_stats=True)\n",
       "      (relu): ReLU(inplace=True)\n",
       "      (conv2): Conv2d(512, 512, kernel_size=(3, 3), stride=(1, 1), padding=(1, 1), bias=False)\n",
       "      (bn2): BatchNorm2d(512, eps=1e-05, momentum=0.1, affine=True, track_running_stats=True)\n",
       "    )\n",
       "  )\n",
       "  (avgpool): AdaptiveAvgPool2d(output_size=(1, 1))\n",
       "  (fc): Linear(in_features=512, out_features=1000, bias=True)\n",
       ")"
      ]
     },
     "execution_count": 14,
     "metadata": {},
     "output_type": "execute_result"
    }
   ],
   "source": [
    "resnet18"
   ]
  },
  {
   "cell_type": "code",
   "execution_count": 15,
   "id": "8cf5d3b5",
   "metadata": {
    "scrolled": true
   },
   "outputs": [
    {
     "data": {
      "text/plain": [
       "ResNet(\n",
       "  (conv1): Conv2d(3, 64, kernel_size=(7, 7), stride=(2, 2), padding=(3, 3), bias=False)\n",
       "  (bn1): GroupNorm(1, 64, eps=1e-05, affine=True)\n",
       "  (relu): ReLU(inplace=True)\n",
       "  (maxpool): MaxPool2d(kernel_size=3, stride=2, padding=1, dilation=1, ceil_mode=False)\n",
       "  (layer1): Sequential(\n",
       "    (0): BasicBlock(\n",
       "      (conv1): Conv2d(64, 64, kernel_size=(3, 3), stride=(1, 1), padding=(1, 1), bias=False)\n",
       "      (bn1): GroupNorm(1, 64, eps=1e-05, affine=True)\n",
       "      (relu): ReLU(inplace=True)\n",
       "      (conv2): Conv2d(64, 64, kernel_size=(3, 3), stride=(1, 1), padding=(1, 1), bias=False)\n",
       "      (bn2): GroupNorm(1, 64, eps=1e-05, affine=True)\n",
       "    )\n",
       "    (1): BasicBlock(\n",
       "      (conv1): Conv2d(64, 64, kernel_size=(3, 3), stride=(1, 1), padding=(1, 1), bias=False)\n",
       "      (bn1): GroupNorm(1, 64, eps=1e-05, affine=True)\n",
       "      (relu): ReLU(inplace=True)\n",
       "      (conv2): Conv2d(64, 64, kernel_size=(3, 3), stride=(1, 1), padding=(1, 1), bias=False)\n",
       "      (bn2): GroupNorm(1, 64, eps=1e-05, affine=True)\n",
       "    )\n",
       "  )\n",
       "  (layer2): Sequential(\n",
       "    (0): BasicBlock(\n",
       "      (conv1): Conv2d(64, 128, kernel_size=(3, 3), stride=(2, 2), padding=(1, 1), bias=False)\n",
       "      (bn1): GroupNorm(1, 128, eps=1e-05, affine=True)\n",
       "      (relu): ReLU(inplace=True)\n",
       "      (conv2): Conv2d(128, 128, kernel_size=(3, 3), stride=(1, 1), padding=(1, 1), bias=False)\n",
       "      (bn2): GroupNorm(1, 128, eps=1e-05, affine=True)\n",
       "      (downsample): Sequential(\n",
       "        (0): Conv2d(64, 128, kernel_size=(1, 1), stride=(2, 2), bias=False)\n",
       "        (1): GroupNorm(1, 128, eps=1e-05, affine=True)\n",
       "      )\n",
       "    )\n",
       "    (1): BasicBlock(\n",
       "      (conv1): Conv2d(128, 128, kernel_size=(3, 3), stride=(1, 1), padding=(1, 1), bias=False)\n",
       "      (bn1): GroupNorm(1, 128, eps=1e-05, affine=True)\n",
       "      (relu): ReLU(inplace=True)\n",
       "      (conv2): Conv2d(128, 128, kernel_size=(3, 3), stride=(1, 1), padding=(1, 1), bias=False)\n",
       "      (bn2): GroupNorm(1, 128, eps=1e-05, affine=True)\n",
       "    )\n",
       "  )\n",
       "  (layer3): Sequential(\n",
       "    (0): BasicBlock(\n",
       "      (conv1): Conv2d(128, 256, kernel_size=(3, 3), stride=(2, 2), padding=(1, 1), bias=False)\n",
       "      (bn1): GroupNorm(1, 256, eps=1e-05, affine=True)\n",
       "      (relu): ReLU(inplace=True)\n",
       "      (conv2): Conv2d(256, 256, kernel_size=(3, 3), stride=(1, 1), padding=(1, 1), bias=False)\n",
       "      (bn2): GroupNorm(1, 256, eps=1e-05, affine=True)\n",
       "      (downsample): Sequential(\n",
       "        (0): Conv2d(128, 256, kernel_size=(1, 1), stride=(2, 2), bias=False)\n",
       "        (1): GroupNorm(1, 256, eps=1e-05, affine=True)\n",
       "      )\n",
       "    )\n",
       "    (1): BasicBlock(\n",
       "      (conv1): Conv2d(256, 256, kernel_size=(3, 3), stride=(1, 1), padding=(1, 1), bias=False)\n",
       "      (bn1): GroupNorm(1, 256, eps=1e-05, affine=True)\n",
       "      (relu): ReLU(inplace=True)\n",
       "      (conv2): Conv2d(256, 256, kernel_size=(3, 3), stride=(1, 1), padding=(1, 1), bias=False)\n",
       "      (bn2): GroupNorm(1, 256, eps=1e-05, affine=True)\n",
       "    )\n",
       "  )\n",
       "  (layer4): Sequential(\n",
       "    (0): BasicBlock(\n",
       "      (conv1): Conv2d(256, 512, kernel_size=(3, 3), stride=(2, 2), padding=(1, 1), bias=False)\n",
       "      (bn1): GroupNorm(1, 512, eps=1e-05, affine=True)\n",
       "      (relu): ReLU(inplace=True)\n",
       "      (conv2): Conv2d(512, 512, kernel_size=(3, 3), stride=(1, 1), padding=(1, 1), bias=False)\n",
       "      (bn2): GroupNorm(1, 512, eps=1e-05, affine=True)\n",
       "      (downsample): Sequential(\n",
       "        (0): Conv2d(256, 512, kernel_size=(1, 1), stride=(2, 2), bias=False)\n",
       "        (1): GroupNorm(1, 512, eps=1e-05, affine=True)\n",
       "      )\n",
       "    )\n",
       "    (1): BasicBlock(\n",
       "      (conv1): Conv2d(512, 512, kernel_size=(3, 3), stride=(1, 1), padding=(1, 1), bias=False)\n",
       "      (bn1): GroupNorm(1, 512, eps=1e-05, affine=True)\n",
       "      (relu): ReLU(inplace=True)\n",
       "      (conv2): Conv2d(512, 512, kernel_size=(3, 3), stride=(1, 1), padding=(1, 1), bias=False)\n",
       "      (bn2): GroupNorm(1, 512, eps=1e-05, affine=True)\n",
       "    )\n",
       "  )\n",
       "  (avgpool): AdaptiveAvgPool2d(output_size=(1, 1))\n",
       "  (fc): Linear(in_features=512, out_features=10, bias=True)\n",
       ")"
      ]
     },
     "execution_count": 15,
     "metadata": {},
     "output_type": "execute_result"
    }
   ],
   "source": [
    "resnet18\n",
    "\n",
    "#MOMENTUM BATCH NORM\n",
    "'''\n",
    "resnet18.bn1 = nn.BatchNorm2d(64, eps=1e-05, momentum=0.9, affine=True, track_running_stats=True)\n",
    "\n",
    "resnet18.layer1[0].bn1 = nn.BatchNorm2d(64, eps=1e-05, momentum=0.9, affine=True, track_running_stats=True)\n",
    "resnet18.layer1[0].bn2 = nn.BatchNorm2d(64, eps=1e-05, momentum=0.9, affine=True, track_running_stats=True)\n",
    "resnet18.layer1[1].bn1 = nn.BatchNorm2d(64, eps=1e-05, momentum=0.9, affine=True, track_running_stats=True)\n",
    "resnet18.layer1[1].bn2 = nn.BatchNorm2d(64, eps=1e-05, momentum=0.9, affine=True, track_running_stats=True)\n",
    "\n",
    "resnet18.layer2[0].bn1 = nn.BatchNorm2d(128, eps=1e-05, momentum=0.9, affine=True, track_running_stats=True)\n",
    "resnet18.layer2[0].bn2 = nn.BatchNorm2d(128, eps=1e-05, momentum=0.9, affine=True, track_running_stats=True)\n",
    "resnet18.layer2[1].bn1 = nn.BatchNorm2d(128, eps=1e-05, momentum=0.9, affine=True, track_running_stats=True)\n",
    "resnet18.layer2[1].bn2 = nn.BatchNorm2d(128, eps=1e-05, momentum=0.9, affine=True, track_running_stats=True)\n",
    "resnet18.layer2[0].downsample[1] = nn.BatchNorm2d(128, eps=1e-05, momentum=0.9, affine=True, track_running_stats=True)\n",
    "\n",
    "resnet18.layer3[0].bn1 = nn.BatchNorm2d(256, eps=1e-05, momentum=0.9, affine=True, track_running_stats=True)\n",
    "resnet18.layer3[0].bn2 = nn.BatchNorm2d(256, eps=1e-05, momentum=0.9, affine=True, track_running_stats=True)\n",
    "resnet18.layer3[1].bn1 = nn.BatchNorm2d(256, eps=1e-05, momentum=0.9, affine=True, track_running_stats=True)\n",
    "resnet18.layer3[1].bn2 = nn.BatchNorm2d(256, eps=1e-05, momentum=0.9, affine=True, track_running_stats=True)\n",
    "resnet18.layer3[0].downsample[1] = nn.BatchNorm2d(256, eps=1e-05, momentum=0.9, affine=True, track_running_stats=True)\n",
    "\n",
    "resnet18.layer4[0].bn1 = nn.BatchNorm2d(512, eps=1e-05, momentum=0.9, affine=True, track_running_stats=True)\n",
    "resnet18.layer4[0].bn2 = nn.BatchNorm2d(512, eps=1e-05, momentum=0.9, affine=True, track_running_stats=True)\n",
    "resnet18.layer4[1].bn1 = nn.BatchNorm2d(512, eps=1e-05, momentum=0.9, affine=True, track_running_stats=True)\n",
    "resnet18.layer4[1].bn2 = nn.BatchNorm2d(512, eps=1e-05, momentum=0.9, affine=True, track_running_stats=True)\n",
    "resnet18.layer4[0].downsample[1] = nn.BatchNorm2d(512, eps=1e-05, momentum=0.9, affine=True, track_running_stats=True)\n",
    "'''\n",
    "\n",
    "#GROUP NORM\n",
    "'''\n",
    "resnet18.bn1 = nn.GroupNorm(32, 64)\n",
    "\n",
    "resnet18.layer1[0].bn1 = nn.GroupNorm(32, 64)\n",
    "resnet18.layer1[0].bn2 = nn.GroupNorm(32, 64)\n",
    "resnet18.layer1[1].bn1 = nn.GroupNorm(32, 64)\n",
    "resnet18.layer1[1].bn2 = nn.GroupNorm(32, 64)\n",
    "\n",
    "resnet18.layer2[0].bn1 = nn.GroupNorm(32, 128)\n",
    "resnet18.layer2[0].bn2 = nn.GroupNorm(32, 128)\n",
    "resnet18.layer2[1].bn1 = nn.GroupNorm(32, 128)\n",
    "resnet18.layer2[1].bn2 = nn.GroupNorm(32, 128)\n",
    "resnet18.layer2[0].downsample[1] = nn.GroupNorm(32, 128)\n",
    "\n",
    "resnet18.layer3[0].bn1 = nn.GroupNorm(32, 256)\n",
    "resnet18.layer3[0].bn2 = nn.GroupNorm(32, 256)\n",
    "resnet18.layer3[1].bn1 = nn.GroupNorm(32, 256)\n",
    "resnet18.layer3[1].bn2 = nn.GroupNorm(32, 256)\n",
    "resnet18.layer3[0].downsample[1] = nn.GroupNorm(32, 256)\n",
    "\n",
    "resnet18.layer4[0].bn1 = nn.GroupNorm(32, 512)\n",
    "resnet18.layer4[0].bn2 = nn.GroupNorm(32, 512)\n",
    "resnet18.layer4[1].bn1 = nn.GroupNorm(32, 512)\n",
    "resnet18.layer4[1].bn2 = nn.GroupNorm(32, 512)\n",
    "resnet18.layer4[0].downsample[1] = nn.GroupNorm(32, 512)\n",
    "'''\n",
    "\n",
    "#INSTANCE NORM (E' UNA GROUP NORM CON TANTI GRUPPI TANTI CANALI)\n",
    "'''\n",
    "resnet18.bn1 = nn.GroupNorm(64, 64)\n",
    "\n",
    "resnet18.layer1[0].bn1 = nn.GroupNorm(64, 64)\n",
    "resnet18.layer1[0].bn2 = nn.GroupNorm(64, 64)\n",
    "resnet18.layer1[1].bn1 = nn.GroupNorm(64, 64)\n",
    "resnet18.layer1[1].bn2 = nn.GroupNorm(64, 64)\n",
    "\n",
    "resnet18.layer2[0].bn1 = nn.GroupNorm(128, 128)\n",
    "resnet18.layer2[0].bn2 = nn.GroupNorm(128, 128)\n",
    "resnet18.layer2[1].bn1 = nn.GroupNorm(128, 128)\n",
    "resnet18.layer2[1].bn2 = nn.GroupNorm(128, 128)\n",
    "resnet18.layer2[0].downsample[1] = nn.GroupNorm(128, 128)\n",
    "\n",
    "resnet18.layer3[0].bn1 = nn.GroupNorm(256, 256)\n",
    "resnet18.layer3[0].bn2 = nn.GroupNorm(256, 256)\n",
    "resnet18.layer3[1].bn1 = nn.GroupNorm(256, 256)\n",
    "resnet18.layer3[1].bn2 = nn.GroupNorm(256, 256)\n",
    "resnet18.layer3[0].downsample[1] = nn.GroupNorm(256, 256)\n",
    "\n",
    "resnet18.layer4[0].bn1 = nn.GroupNorm(512, 512)\n",
    "resnet18.layer4[0].bn2 = nn.GroupNorm(512, 512)\n",
    "resnet18.layer4[1].bn1 = nn.GroupNorm(512, 512)\n",
    "resnet18.layer4[1].bn2 = nn.GroupNorm(512, 512)\n",
    "resnet18.layer4[0].downsample[1] = nn.GroupNorm(512, 512)\n",
    "'''\n",
    "\n",
    "#LAYER NORM (E' UNA GROUP NORM CON TUTTI I CANALI IN UN SOLO GRUPPO)\n",
    "\n",
    "resnet18.bn1 = nn.GroupNorm(1, 64)\n",
    "\n",
    "resnet18.layer1[0].bn1 = nn.GroupNorm(1, 64)\n",
    "resnet18.layer1[0].bn2 = nn.GroupNorm(1, 64)\n",
    "resnet18.layer1[1].bn1 = nn.GroupNorm(1, 64)\n",
    "resnet18.layer1[1].bn2 = nn.GroupNorm(1, 64)\n",
    "\n",
    "resnet18.layer2[0].bn1 = nn.GroupNorm(1, 128)\n",
    "resnet18.layer2[0].bn2 = nn.GroupNorm(1, 128)\n",
    "resnet18.layer2[1].bn1 = nn.GroupNorm(1, 128)\n",
    "resnet18.layer2[1].bn2 = nn.GroupNorm(1, 128)\n",
    "resnet18.layer2[0].downsample[1] = nn.GroupNorm(1, 128)\n",
    "\n",
    "resnet18.layer3[0].bn1 = nn.GroupNorm(1, 256)\n",
    "resnet18.layer3[0].bn2 = nn.GroupNorm(1, 256)\n",
    "resnet18.layer3[1].bn1 = nn.GroupNorm(1, 256)\n",
    "resnet18.layer3[1].bn2 = nn.GroupNorm(1, 256)\n",
    "resnet18.layer3[0].downsample[1] = nn.GroupNorm(1, 256)\n",
    "\n",
    "resnet18.layer4[0].bn1 = nn.GroupNorm(1, 512)\n",
    "resnet18.layer4[0].bn2 = nn.GroupNorm(1, 512)\n",
    "resnet18.layer4[1].bn1 = nn.GroupNorm(1, 512)\n",
    "resnet18.layer4[1].bn2 = nn.GroupNorm(1, 512)\n",
    "resnet18.layer4[0].downsample[1] = nn.GroupNorm(1, 512)\n",
    "\n",
    "\n",
    "#BATCH RENORMALIZATION\n",
    "'''\n",
    "resnet18.bn1 = BatchRenormalization2D(64, eps=1e-05, momentum=0.9)\n",
    "\n",
    "resnet18.layer1[0].bn1 = BatchRenormalization2D(64, eps=1e-05, momentum=0.9)\n",
    "resnet18.layer1[0].bn2 = BatchRenormalization2D(64, eps=1e-05, momentum=0.9)\n",
    "resnet18.layer1[1].bn1 = BatchRenormalization2D(64, eps=1e-05, momentum=0.9)\n",
    "resnet18.layer1[1].bn2 = BatchRenormalization2D(64, eps=1e-05, momentum=0.9)\n",
    "\n",
    "resnet18.layer2[0].bn1 = BatchRenormalization2D(128, eps=1e-05, momentum=0.9)\n",
    "resnet18.layer2[0].bn2 = BatchRenormalization2D(128, eps=1e-05, momentum=0.9)\n",
    "resnet18.layer2[1].bn1 = BatchRenormalization2D(128, eps=1e-05, momentum=0.9)\n",
    "resnet18.layer2[1].bn2 = BatchRenormalization2D(128, eps=1e-05, momentum=0.9)\n",
    "resnet18.layer2[0].downsample[1] = BatchRenormalization2D(128, eps=1e-05, momentum=0.9)\n",
    "\n",
    "resnet18.layer3[0].bn1 = BatchRenormalization2D(256, eps=1e-05, momentum=0.9)\n",
    "resnet18.layer3[0].bn2 = BatchRenormalization2D(256, eps=1e-05, momentum=0.9)\n",
    "resnet18.layer3[1].bn1 = BatchRenormalization2D(256, eps=1e-05, momentum=0.9)\n",
    "resnet18.layer3[1].bn2 = BatchRenormalization2D(256, eps=1e-05, momentum=0.9)\n",
    "resnet18.layer3[0].downsample[1] = BatchRenormalization2D(256, eps=1e-05, momentum=0.9)\n",
    "resnet18.layer4[0].bn1 = BatchRenormalization2D(512, eps=1e-05, momentum=0.9)\n",
    "resnet18.layer4[0].bn2 = BatchRenormalization2D(512, eps=1e-05, momentum=0.9)\n",
    "resnet18.layer4[1].bn1 = BatchRenormalization2D(512, eps=1e-05, momentum=0.9)\n",
    "resnet18.layer4[1].bn2 = BatchRenormalization2D(512, eps=1e-05, momentum=0.9)\n",
    "resnet18.layer4[0].downsample[1] = BatchRenormalization2D(512, eps=1e-05, momentum=0.9)\n",
    "'''\n",
    "\n",
    "resnet18.fc = nn.Linear(in_features=512, out_features=10, bias=True)\n",
    "\n",
    "resnet18"
   ]
  },
  {
   "cell_type": "code",
   "execution_count": 16,
   "id": "2f2a131a",
   "metadata": {},
   "outputs": [
    {
     "data": {
      "text/plain": [
       "'\\nvgg16.block_1[1] = BatchRenormalization2D(64, eps=1e-05, momentum=0.9)\\nvgg16.block_1[4] = BatchRenormalization2D(64, eps=1e-05, momentum=0.9)\\nvgg16.block_2[1] = BatchRenormalization2D(128, eps=1e-05, momentum=0.9)\\nvgg16.block_2[4] = BatchRenormalization2D(128, eps=1e-05, momentum=0.9)\\nvgg16.block_3[1] = BatchRenormalization2D(256, eps=1e-05, momentum=0.9)\\nvgg16.block_3[4] = BatchRenormalization2D(256, eps=1e-05, momentum=0.9)\\nvgg16.block_3[7] = BatchRenormalization2D(256, eps=1e-05, momentum=0.9)\\nvgg16.block_4[1] = BatchRenormalization2D(512, eps=1e-05, momentum=0.9)\\nvgg16.block_4[4] = BatchRenormalization2D(512, eps=1e-05, momentum=0.9)\\nvgg16.block_4[7] = BatchRenormalization2D(512, eps=1e-05, momentum=0.9)\\nvgg16.block_5[1] = BatchRenormalization2D(512, eps=1e-05, momentum=0.9)\\nvgg16.block_5[4] = BatchRenormalization2D(512, eps=1e-05, momentum=0.9)\\nvgg16.block_5[7] = BatchRenormalization2D(512, eps=1e-05, momentum=0.9)\\n'"
      ]
     },
     "execution_count": 16,
     "metadata": {},
     "output_type": "execute_result"
    }
   ],
   "source": [
    "#VGG16 WITH BATCHNORM MOMENTUM 0.9\n",
    "class VGG16(nn.Module):\n",
    "\n",
    "    def __init__(self, num_classes):\n",
    "        super(VGG16, self).__init__()\n",
    "\n",
    "        # calculate same padding:\n",
    "        # (w - k + 2*p)/s + 1 = o\n",
    "        # => p = (s(o-1) - w + k)/2\n",
    "\n",
    "        self.block_1 = nn.Sequential(\n",
    "            nn.Conv2d(in_channels=1,\n",
    "                      out_channels=64,\n",
    "                      kernel_size=(3, 3),\n",
    "                      stride=(1, 1),\n",
    "                      # (1(32-1)- 32 + 3)/2 = 1\n",
    "                      padding=1),\n",
    "            nn.BatchNorm2d(64, eps=1e-05, momentum=0.9, affine=True, track_running_stats=True),\n",
    "            nn.ReLU(),\n",
    "            nn.Conv2d(in_channels=64,\n",
    "                      out_channels=64,\n",
    "                      kernel_size=(3, 3),\n",
    "                      stride=(1, 1),\n",
    "                      padding=1),\n",
    "            nn.BatchNorm2d(64, eps=1e-05, momentum=0.9, affine=True, track_running_stats=True),\n",
    "            nn.ReLU(),\n",
    "            nn.MaxPool2d(kernel_size=(2, 2),\n",
    "                         stride=(2, 2))\n",
    "        )\n",
    "\n",
    "        self.block_2 = nn.Sequential(\n",
    "            nn.Conv2d(in_channels=64,\n",
    "                      out_channels=128,\n",
    "                      kernel_size=(3, 3),\n",
    "                      stride=(1, 1),\n",
    "                      padding=1),\n",
    "            nn.BatchNorm2d(128, eps=1e-05, momentum=0.9, affine=True, track_running_stats=True),\n",
    "            nn.ReLU(),\n",
    "            nn.Conv2d(in_channels=128,\n",
    "                      out_channels=128,\n",
    "                      kernel_size=(3, 3),\n",
    "                      stride=(1, 1),\n",
    "                      padding=1),\n",
    "            nn.BatchNorm2d(128, eps=1e-05, momentum=0.9, affine=True, track_running_stats=True),\n",
    "            nn.ReLU(),\n",
    "            nn.MaxPool2d(kernel_size=(2, 2),\n",
    "                         stride=(2, 2))\n",
    "        )\n",
    "        \n",
    "        self.block_3 = nn.Sequential(\n",
    "            nn.Conv2d(in_channels=128,\n",
    "                      out_channels=256,\n",
    "                      kernel_size=(3, 3),\n",
    "                      stride=(1, 1),\n",
    "                      padding=1),\n",
    "            nn.BatchNorm2d(256, eps=1e-05, momentum=0.9, affine=True, track_running_stats=True),\n",
    "            nn.ReLU(),\n",
    "            nn.Conv2d(in_channels=256,\n",
    "                      out_channels=256,\n",
    "                      kernel_size=(3, 3),\n",
    "                      stride=(1, 1),\n",
    "                      padding=1),\n",
    "            nn.BatchNorm2d(256, eps=1e-05, momentum=0.9, affine=True, track_running_stats=True),\n",
    "            nn.ReLU(),\n",
    "            nn.Conv2d(in_channels=256,\n",
    "                      out_channels=256,\n",
    "                      kernel_size=(3, 3),\n",
    "                      stride=(1, 1),\n",
    "                      padding=1),\n",
    "            nn.BatchNorm2d(256, eps=1e-05, momentum=0.9, affine=True, track_running_stats=True),\n",
    "            nn.ReLU(),\n",
    "            nn.MaxPool2d(kernel_size=(2, 2),\n",
    "                         stride=(2, 2))\n",
    "        )\n",
    "\n",
    "        self.block_4 = nn.Sequential(\n",
    "            nn.Conv2d(in_channels=256,\n",
    "                      out_channels=512,\n",
    "                      kernel_size=(3, 3),\n",
    "                      stride=(1, 1),\n",
    "                      padding=1),\n",
    "            nn.BatchNorm2d(512, eps=1e-05, momentum=0.9, affine=True, track_running_stats=True),\n",
    "            nn.ReLU(),\n",
    "            nn.Conv2d(in_channels=512,\n",
    "                      out_channels=512,\n",
    "                      kernel_size=(3, 3),\n",
    "                      stride=(1, 1),\n",
    "                      padding=1),\n",
    "            nn.BatchNorm2d(512, eps=1e-05, momentum=0.9, affine=True, track_running_stats=True),\n",
    "            nn.ReLU(),\n",
    "            nn.Conv2d(in_channels=512,\n",
    "                      out_channels=512,\n",
    "                      kernel_size=(3, 3),\n",
    "                      stride=(1, 1),\n",
    "                      padding=1),\n",
    "            nn.BatchNorm2d(512, eps=1e-05, momentum=0.9, affine=True, track_running_stats=True),\n",
    "            nn.ReLU(),\n",
    "            nn.MaxPool2d(kernel_size=(2, 2),\n",
    "                         stride=(2, 2))\n",
    "        ) \n",
    "        \n",
    "        self.block_5 = nn.Sequential(\n",
    "            nn.Conv2d(in_channels=512,\n",
    "                      out_channels=512,\n",
    "                      kernel_size=(3, 3),\n",
    "                      stride=(1, 1),\n",
    "                      padding=1),\n",
    "            nn.BatchNorm2d(512, eps=1e-05, momentum=0.9, affine=True, track_running_stats=True),\n",
    "            nn.ReLU(),\n",
    "            nn.Conv2d(in_channels=512,\n",
    "                      out_channels=512,\n",
    "                      kernel_size=(3, 3),\n",
    "                      stride=(1, 1),\n",
    "                      padding=1),\n",
    "            nn.BatchNorm2d(512, eps=1e-05, momentum=0.9, affine=True, track_running_stats=True),\n",
    "            nn.ReLU(),\n",
    "            nn.Conv2d(in_channels=512,\n",
    "                      out_channels=512,\n",
    "                      kernel_size=(3, 3),\n",
    "                      stride=(1, 1),\n",
    "                      padding=1),\n",
    "            nn.BatchNorm2d(512, eps=1e-05, momentum=0.9, affine=True, track_running_stats=True),\n",
    "            nn.ReLU(),\n",
    "            nn.MaxPool2d(kernel_size=(2, 2),\n",
    "                         stride=(2, 2))\n",
    "        )        \n",
    "\n",
    "        self.classifier = nn.Sequential(\n",
    "            nn.Linear(512*7*7, 4096),\n",
    "            nn.ReLU(True),\n",
    "            nn.Dropout(),\n",
    "            nn.Linear(4096, 4096),\n",
    "            nn.ReLU(True),\n",
    "            nn.Dropout(),\n",
    "            nn.Linear(4096, num_classes) \n",
    "        )\n",
    "\n",
    "        for m in self.modules():\n",
    "            if isinstance(m, torch.nn.Conv2d) or isinstance(m, torch.nn.Linear):\n",
    "                nn.init.kaiming_uniform_(m.weight, mode='fan_in', nonlinearity='leaky_relu')\n",
    "                if m.bias is not None:\n",
    "                    m.bias.detach().zero_()\n",
    "\n",
    "\n",
    "    def forward(self, x):\n",
    "\n",
    "        x = self.block_1(x)\n",
    "        x = self.block_2(x)\n",
    "        x = self.block_3(x)\n",
    "        x = self.block_4(x)\n",
    "        x = self.block_5(x)\n",
    "        x = x.view(x.size(0), -1)\n",
    "        x = self.classifier(x)\n",
    "        return x\n",
    "\n",
    "vgg16 = VGG16(10)\n",
    "\n",
    "#GROUP NORM\n",
    "'''\n",
    "vgg16.block_1[1] = nn.GroupNorm(32, 64)\n",
    "vgg16.block_1[4] = nn.GroupNorm(32, 64)\n",
    "vgg16.block_2[1] = nn.GroupNorm(32, 128)\n",
    "vgg16.block_2[4] = nn.GroupNorm(32, 128)\n",
    "vgg16.block_3[1] = nn.GroupNorm(32, 256)\n",
    "vgg16.block_3[4] = nn.GroupNorm(32, 256)\n",
    "vgg16.block_3[7] = nn.GroupNorm(32, 256)\n",
    "vgg16.block_4[1] = nn.GroupNorm(32, 512)\n",
    "vgg16.block_4[4] = nn.GroupNorm(32, 512)\n",
    "vgg16.block_4[7] = nn.GroupNorm(32, 512)\n",
    "vgg16.block_5[1] = nn.GroupNorm(32, 512)\n",
    "vgg16.block_5[4] = nn.GroupNorm(32, 512)\n",
    "vgg16.block_5[7] = nn.GroupNorm(32, 512)\n",
    "'''\n",
    "\n",
    "#INSTANCE NORM\n",
    "'''\n",
    "vgg16.block_1[1] = nn.GroupNorm(64, 64)\n",
    "vgg16.block_1[4] = nn.GroupNorm(64, 64)\n",
    "vgg16.block_2[1] = nn.GroupNorm(128, 128)\n",
    "vgg16.block_2[4] = nn.GroupNorm(128, 128)\n",
    "vgg16.block_3[1] = nn.GroupNorm(256, 256)\n",
    "vgg16.block_3[4] = nn.GroupNorm(256, 256)\n",
    "vgg16.block_3[7] = nn.GroupNorm(256, 256)\n",
    "vgg16.block_4[1] = nn.GroupNorm(512, 512)\n",
    "vgg16.block_4[4] = nn.GroupNorm(512, 512)\n",
    "vgg16.block_4[7] = nn.GroupNorm(512, 512)\n",
    "vgg16.block_5[1] = nn.GroupNorm(512, 512)\n",
    "vgg16.block_5[4] = nn.GroupNorm(512, 512)\n",
    "vgg16.block_5[7] = nn.GroupNorm(512, 512)\n",
    "'''\n",
    "\n",
    "#LAYER NORM\n",
    "'''\n",
    "vgg16.block_1[1] = nn.GroupNorm(1, 64)\n",
    "vgg16.block_1[4] = nn.GroupNorm(1, 64)\n",
    "vgg16.block_2[1] = nn.GroupNorm(1, 128)\n",
    "vgg16.block_2[4] = nn.GroupNorm(1, 128)\n",
    "vgg16.block_3[1] = nn.GroupNorm(1, 256)\n",
    "vgg16.block_3[4] = nn.GroupNorm(1, 256)\n",
    "vgg16.block_3[7] = nn.GroupNorm(1, 256)\n",
    "vgg16.block_4[1] = nn.GroupNorm(1, 512)\n",
    "vgg16.block_4[4] = nn.GroupNorm(1, 512)\n",
    "vgg16.block_4[7] = nn.GroupNorm(1, 512)\n",
    "vgg16.block_5[1] = nn.GroupNorm(1, 512)\n",
    "vgg16.block_5[4] = nn.GroupNorm(1, 512)\n",
    "vgg16.block_5[7] = nn.GroupNorm(1, 512)\n",
    "'''\n",
    "\n",
    "#BATCH RENORM\n",
    "'''\n",
    "vgg16.block_1[1] = BatchRenormalization2D(64, eps=1e-05, momentum=0.9)\n",
    "vgg16.block_1[4] = BatchRenormalization2D(64, eps=1e-05, momentum=0.9)\n",
    "vgg16.block_2[1] = BatchRenormalization2D(128, eps=1e-05, momentum=0.9)\n",
    "vgg16.block_2[4] = BatchRenormalization2D(128, eps=1e-05, momentum=0.9)\n",
    "vgg16.block_3[1] = BatchRenormalization2D(256, eps=1e-05, momentum=0.9)\n",
    "vgg16.block_3[4] = BatchRenormalization2D(256, eps=1e-05, momentum=0.9)\n",
    "vgg16.block_3[7] = BatchRenormalization2D(256, eps=1e-05, momentum=0.9)\n",
    "vgg16.block_4[1] = BatchRenormalization2D(512, eps=1e-05, momentum=0.9)\n",
    "vgg16.block_4[4] = BatchRenormalization2D(512, eps=1e-05, momentum=0.9)\n",
    "vgg16.block_4[7] = BatchRenormalization2D(512, eps=1e-05, momentum=0.9)\n",
    "vgg16.block_5[1] = BatchRenormalization2D(512, eps=1e-05, momentum=0.9)\n",
    "vgg16.block_5[4] = BatchRenormalization2D(512, eps=1e-05, momentum=0.9)\n",
    "vgg16.block_5[7] = BatchRenormalization2D(512, eps=1e-05, momentum=0.9)\n",
    "'''"
   ]
  },
  {
   "cell_type": "code",
   "execution_count": 17,
   "id": "f55e1284",
   "metadata": {},
   "outputs": [
    {
     "data": {
      "text/plain": [
       "EfficientNet(\n",
       "  (features): Sequential(\n",
       "    (0): ConvNormActivation(\n",
       "      (0): Conv2d(3, 32, kernel_size=(3, 3), stride=(2, 2), padding=(1, 1), bias=False)\n",
       "      (1): BatchNorm2d(32, eps=1e-05, momentum=0.1, affine=True, track_running_stats=True)\n",
       "      (2): SiLU(inplace=True)\n",
       "    )\n",
       "    (1): Sequential(\n",
       "      (0): MBConv(\n",
       "        (block): Sequential(\n",
       "          (0): ConvNormActivation(\n",
       "            (0): Conv2d(32, 32, kernel_size=(3, 3), stride=(1, 1), padding=(1, 1), groups=32, bias=False)\n",
       "            (1): BatchNorm2d(32, eps=1e-05, momentum=0.1, affine=True, track_running_stats=True)\n",
       "            (2): SiLU(inplace=True)\n",
       "          )\n",
       "          (1): SqueezeExcitation(\n",
       "            (avgpool): AdaptiveAvgPool2d(output_size=1)\n",
       "            (fc1): Conv2d(32, 8, kernel_size=(1, 1), stride=(1, 1))\n",
       "            (fc2): Conv2d(8, 32, kernel_size=(1, 1), stride=(1, 1))\n",
       "            (activation): SiLU(inplace=True)\n",
       "            (scale_activation): Sigmoid()\n",
       "          )\n",
       "          (2): ConvNormActivation(\n",
       "            (0): Conv2d(32, 16, kernel_size=(1, 1), stride=(1, 1), bias=False)\n",
       "            (1): BatchNorm2d(16, eps=1e-05, momentum=0.1, affine=True, track_running_stats=True)\n",
       "          )\n",
       "        )\n",
       "        (stochastic_depth): StochasticDepth(p=0.0, mode=row)\n",
       "      )\n",
       "    )\n",
       "    (2): Sequential(\n",
       "      (0): MBConv(\n",
       "        (block): Sequential(\n",
       "          (0): ConvNormActivation(\n",
       "            (0): Conv2d(16, 96, kernel_size=(1, 1), stride=(1, 1), bias=False)\n",
       "            (1): BatchNorm2d(96, eps=1e-05, momentum=0.1, affine=True, track_running_stats=True)\n",
       "            (2): SiLU(inplace=True)\n",
       "          )\n",
       "          (1): ConvNormActivation(\n",
       "            (0): Conv2d(96, 96, kernel_size=(3, 3), stride=(2, 2), padding=(1, 1), groups=96, bias=False)\n",
       "            (1): BatchNorm2d(96, eps=1e-05, momentum=0.1, affine=True, track_running_stats=True)\n",
       "            (2): SiLU(inplace=True)\n",
       "          )\n",
       "          (2): SqueezeExcitation(\n",
       "            (avgpool): AdaptiveAvgPool2d(output_size=1)\n",
       "            (fc1): Conv2d(96, 4, kernel_size=(1, 1), stride=(1, 1))\n",
       "            (fc2): Conv2d(4, 96, kernel_size=(1, 1), stride=(1, 1))\n",
       "            (activation): SiLU(inplace=True)\n",
       "            (scale_activation): Sigmoid()\n",
       "          )\n",
       "          (3): ConvNormActivation(\n",
       "            (0): Conv2d(96, 24, kernel_size=(1, 1), stride=(1, 1), bias=False)\n",
       "            (1): BatchNorm2d(24, eps=1e-05, momentum=0.1, affine=True, track_running_stats=True)\n",
       "          )\n",
       "        )\n",
       "        (stochastic_depth): StochasticDepth(p=0.0125, mode=row)\n",
       "      )\n",
       "      (1): MBConv(\n",
       "        (block): Sequential(\n",
       "          (0): ConvNormActivation(\n",
       "            (0): Conv2d(24, 144, kernel_size=(1, 1), stride=(1, 1), bias=False)\n",
       "            (1): BatchNorm2d(144, eps=1e-05, momentum=0.1, affine=True, track_running_stats=True)\n",
       "            (2): SiLU(inplace=True)\n",
       "          )\n",
       "          (1): ConvNormActivation(\n",
       "            (0): Conv2d(144, 144, kernel_size=(3, 3), stride=(1, 1), padding=(1, 1), groups=144, bias=False)\n",
       "            (1): BatchNorm2d(144, eps=1e-05, momentum=0.1, affine=True, track_running_stats=True)\n",
       "            (2): SiLU(inplace=True)\n",
       "          )\n",
       "          (2): SqueezeExcitation(\n",
       "            (avgpool): AdaptiveAvgPool2d(output_size=1)\n",
       "            (fc1): Conv2d(144, 6, kernel_size=(1, 1), stride=(1, 1))\n",
       "            (fc2): Conv2d(6, 144, kernel_size=(1, 1), stride=(1, 1))\n",
       "            (activation): SiLU(inplace=True)\n",
       "            (scale_activation): Sigmoid()\n",
       "          )\n",
       "          (3): ConvNormActivation(\n",
       "            (0): Conv2d(144, 24, kernel_size=(1, 1), stride=(1, 1), bias=False)\n",
       "            (1): BatchNorm2d(24, eps=1e-05, momentum=0.1, affine=True, track_running_stats=True)\n",
       "          )\n",
       "        )\n",
       "        (stochastic_depth): StochasticDepth(p=0.025, mode=row)\n",
       "      )\n",
       "    )\n",
       "    (3): Sequential(\n",
       "      (0): MBConv(\n",
       "        (block): Sequential(\n",
       "          (0): ConvNormActivation(\n",
       "            (0): Conv2d(24, 144, kernel_size=(1, 1), stride=(1, 1), bias=False)\n",
       "            (1): BatchNorm2d(144, eps=1e-05, momentum=0.1, affine=True, track_running_stats=True)\n",
       "            (2): SiLU(inplace=True)\n",
       "          )\n",
       "          (1): ConvNormActivation(\n",
       "            (0): Conv2d(144, 144, kernel_size=(5, 5), stride=(2, 2), padding=(2, 2), groups=144, bias=False)\n",
       "            (1): BatchNorm2d(144, eps=1e-05, momentum=0.1, affine=True, track_running_stats=True)\n",
       "            (2): SiLU(inplace=True)\n",
       "          )\n",
       "          (2): SqueezeExcitation(\n",
       "            (avgpool): AdaptiveAvgPool2d(output_size=1)\n",
       "            (fc1): Conv2d(144, 6, kernel_size=(1, 1), stride=(1, 1))\n",
       "            (fc2): Conv2d(6, 144, kernel_size=(1, 1), stride=(1, 1))\n",
       "            (activation): SiLU(inplace=True)\n",
       "            (scale_activation): Sigmoid()\n",
       "          )\n",
       "          (3): ConvNormActivation(\n",
       "            (0): Conv2d(144, 40, kernel_size=(1, 1), stride=(1, 1), bias=False)\n",
       "            (1): BatchNorm2d(40, eps=1e-05, momentum=0.1, affine=True, track_running_stats=True)\n",
       "          )\n",
       "        )\n",
       "        (stochastic_depth): StochasticDepth(p=0.037500000000000006, mode=row)\n",
       "      )\n",
       "      (1): MBConv(\n",
       "        (block): Sequential(\n",
       "          (0): ConvNormActivation(\n",
       "            (0): Conv2d(40, 240, kernel_size=(1, 1), stride=(1, 1), bias=False)\n",
       "            (1): BatchNorm2d(240, eps=1e-05, momentum=0.1, affine=True, track_running_stats=True)\n",
       "            (2): SiLU(inplace=True)\n",
       "          )\n",
       "          (1): ConvNormActivation(\n",
       "            (0): Conv2d(240, 240, kernel_size=(5, 5), stride=(1, 1), padding=(2, 2), groups=240, bias=False)\n",
       "            (1): BatchNorm2d(240, eps=1e-05, momentum=0.1, affine=True, track_running_stats=True)\n",
       "            (2): SiLU(inplace=True)\n",
       "          )\n",
       "          (2): SqueezeExcitation(\n",
       "            (avgpool): AdaptiveAvgPool2d(output_size=1)\n",
       "            (fc1): Conv2d(240, 10, kernel_size=(1, 1), stride=(1, 1))\n",
       "            (fc2): Conv2d(10, 240, kernel_size=(1, 1), stride=(1, 1))\n",
       "            (activation): SiLU(inplace=True)\n",
       "            (scale_activation): Sigmoid()\n",
       "          )\n",
       "          (3): ConvNormActivation(\n",
       "            (0): Conv2d(240, 40, kernel_size=(1, 1), stride=(1, 1), bias=False)\n",
       "            (1): BatchNorm2d(40, eps=1e-05, momentum=0.1, affine=True, track_running_stats=True)\n",
       "          )\n",
       "        )\n",
       "        (stochastic_depth): StochasticDepth(p=0.05, mode=row)\n",
       "      )\n",
       "    )\n",
       "    (4): Sequential(\n",
       "      (0): MBConv(\n",
       "        (block): Sequential(\n",
       "          (0): ConvNormActivation(\n",
       "            (0): Conv2d(40, 240, kernel_size=(1, 1), stride=(1, 1), bias=False)\n",
       "            (1): BatchNorm2d(240, eps=1e-05, momentum=0.1, affine=True, track_running_stats=True)\n",
       "            (2): SiLU(inplace=True)\n",
       "          )\n",
       "          (1): ConvNormActivation(\n",
       "            (0): Conv2d(240, 240, kernel_size=(3, 3), stride=(2, 2), padding=(1, 1), groups=240, bias=False)\n",
       "            (1): BatchNorm2d(240, eps=1e-05, momentum=0.1, affine=True, track_running_stats=True)\n",
       "            (2): SiLU(inplace=True)\n",
       "          )\n",
       "          (2): SqueezeExcitation(\n",
       "            (avgpool): AdaptiveAvgPool2d(output_size=1)\n",
       "            (fc1): Conv2d(240, 10, kernel_size=(1, 1), stride=(1, 1))\n",
       "            (fc2): Conv2d(10, 240, kernel_size=(1, 1), stride=(1, 1))\n",
       "            (activation): SiLU(inplace=True)\n",
       "            (scale_activation): Sigmoid()\n",
       "          )\n",
       "          (3): ConvNormActivation(\n",
       "            (0): Conv2d(240, 80, kernel_size=(1, 1), stride=(1, 1), bias=False)\n",
       "            (1): BatchNorm2d(80, eps=1e-05, momentum=0.1, affine=True, track_running_stats=True)\n",
       "          )\n",
       "        )\n",
       "        (stochastic_depth): StochasticDepth(p=0.0625, mode=row)\n",
       "      )\n",
       "      (1): MBConv(\n",
       "        (block): Sequential(\n",
       "          (0): ConvNormActivation(\n",
       "            (0): Conv2d(80, 480, kernel_size=(1, 1), stride=(1, 1), bias=False)\n",
       "            (1): BatchNorm2d(480, eps=1e-05, momentum=0.1, affine=True, track_running_stats=True)\n",
       "            (2): SiLU(inplace=True)\n",
       "          )\n",
       "          (1): ConvNormActivation(\n",
       "            (0): Conv2d(480, 480, kernel_size=(3, 3), stride=(1, 1), padding=(1, 1), groups=480, bias=False)\n",
       "            (1): BatchNorm2d(480, eps=1e-05, momentum=0.1, affine=True, track_running_stats=True)\n",
       "            (2): SiLU(inplace=True)\n",
       "          )\n",
       "          (2): SqueezeExcitation(\n",
       "            (avgpool): AdaptiveAvgPool2d(output_size=1)\n",
       "            (fc1): Conv2d(480, 20, kernel_size=(1, 1), stride=(1, 1))\n",
       "            (fc2): Conv2d(20, 480, kernel_size=(1, 1), stride=(1, 1))\n",
       "            (activation): SiLU(inplace=True)\n",
       "            (scale_activation): Sigmoid()\n",
       "          )\n",
       "          (3): ConvNormActivation(\n",
       "            (0): Conv2d(480, 80, kernel_size=(1, 1), stride=(1, 1), bias=False)\n",
       "            (1): BatchNorm2d(80, eps=1e-05, momentum=0.1, affine=True, track_running_stats=True)\n",
       "          )\n",
       "        )\n",
       "        (stochastic_depth): StochasticDepth(p=0.07500000000000001, mode=row)\n",
       "      )\n",
       "      (2): MBConv(\n",
       "        (block): Sequential(\n",
       "          (0): ConvNormActivation(\n",
       "            (0): Conv2d(80, 480, kernel_size=(1, 1), stride=(1, 1), bias=False)\n",
       "            (1): BatchNorm2d(480, eps=1e-05, momentum=0.1, affine=True, track_running_stats=True)\n",
       "            (2): SiLU(inplace=True)\n",
       "          )\n",
       "          (1): ConvNormActivation(\n",
       "            (0): Conv2d(480, 480, kernel_size=(3, 3), stride=(1, 1), padding=(1, 1), groups=480, bias=False)\n",
       "            (1): BatchNorm2d(480, eps=1e-05, momentum=0.1, affine=True, track_running_stats=True)\n",
       "            (2): SiLU(inplace=True)\n",
       "          )\n",
       "          (2): SqueezeExcitation(\n",
       "            (avgpool): AdaptiveAvgPool2d(output_size=1)\n",
       "            (fc1): Conv2d(480, 20, kernel_size=(1, 1), stride=(1, 1))\n",
       "            (fc2): Conv2d(20, 480, kernel_size=(1, 1), stride=(1, 1))\n",
       "            (activation): SiLU(inplace=True)\n",
       "            (scale_activation): Sigmoid()\n",
       "          )\n",
       "          (3): ConvNormActivation(\n",
       "            (0): Conv2d(480, 80, kernel_size=(1, 1), stride=(1, 1), bias=False)\n",
       "            (1): BatchNorm2d(80, eps=1e-05, momentum=0.1, affine=True, track_running_stats=True)\n",
       "          )\n",
       "        )\n",
       "        (stochastic_depth): StochasticDepth(p=0.08750000000000001, mode=row)\n",
       "      )\n",
       "    )\n",
       "    (5): Sequential(\n",
       "      (0): MBConv(\n",
       "        (block): Sequential(\n",
       "          (0): ConvNormActivation(\n",
       "            (0): Conv2d(80, 480, kernel_size=(1, 1), stride=(1, 1), bias=False)\n",
       "            (1): BatchNorm2d(480, eps=1e-05, momentum=0.1, affine=True, track_running_stats=True)\n",
       "            (2): SiLU(inplace=True)\n",
       "          )\n",
       "          (1): ConvNormActivation(\n",
       "            (0): Conv2d(480, 480, kernel_size=(5, 5), stride=(1, 1), padding=(2, 2), groups=480, bias=False)\n",
       "            (1): BatchNorm2d(480, eps=1e-05, momentum=0.1, affine=True, track_running_stats=True)\n",
       "            (2): SiLU(inplace=True)\n",
       "          )\n",
       "          (2): SqueezeExcitation(\n",
       "            (avgpool): AdaptiveAvgPool2d(output_size=1)\n",
       "            (fc1): Conv2d(480, 20, kernel_size=(1, 1), stride=(1, 1))\n",
       "            (fc2): Conv2d(20, 480, kernel_size=(1, 1), stride=(1, 1))\n",
       "            (activation): SiLU(inplace=True)\n",
       "            (scale_activation): Sigmoid()\n",
       "          )\n",
       "          (3): ConvNormActivation(\n",
       "            (0): Conv2d(480, 112, kernel_size=(1, 1), stride=(1, 1), bias=False)\n",
       "            (1): BatchNorm2d(112, eps=1e-05, momentum=0.1, affine=True, track_running_stats=True)\n",
       "          )\n",
       "        )\n",
       "        (stochastic_depth): StochasticDepth(p=0.1, mode=row)\n",
       "      )\n",
       "      (1): MBConv(\n",
       "        (block): Sequential(\n",
       "          (0): ConvNormActivation(\n",
       "            (0): Conv2d(112, 672, kernel_size=(1, 1), stride=(1, 1), bias=False)\n",
       "            (1): BatchNorm2d(672, eps=1e-05, momentum=0.1, affine=True, track_running_stats=True)\n",
       "            (2): SiLU(inplace=True)\n",
       "          )\n",
       "          (1): ConvNormActivation(\n",
       "            (0): Conv2d(672, 672, kernel_size=(5, 5), stride=(1, 1), padding=(2, 2), groups=672, bias=False)\n",
       "            (1): BatchNorm2d(672, eps=1e-05, momentum=0.1, affine=True, track_running_stats=True)\n",
       "            (2): SiLU(inplace=True)\n",
       "          )\n",
       "          (2): SqueezeExcitation(\n",
       "            (avgpool): AdaptiveAvgPool2d(output_size=1)\n",
       "            (fc1): Conv2d(672, 28, kernel_size=(1, 1), stride=(1, 1))\n",
       "            (fc2): Conv2d(28, 672, kernel_size=(1, 1), stride=(1, 1))\n",
       "            (activation): SiLU(inplace=True)\n",
       "            (scale_activation): Sigmoid()\n",
       "          )\n",
       "          (3): ConvNormActivation(\n",
       "            (0): Conv2d(672, 112, kernel_size=(1, 1), stride=(1, 1), bias=False)\n",
       "            (1): BatchNorm2d(112, eps=1e-05, momentum=0.1, affine=True, track_running_stats=True)\n",
       "          )\n",
       "        )\n",
       "        (stochastic_depth): StochasticDepth(p=0.1125, mode=row)\n",
       "      )\n",
       "      (2): MBConv(\n",
       "        (block): Sequential(\n",
       "          (0): ConvNormActivation(\n",
       "            (0): Conv2d(112, 672, kernel_size=(1, 1), stride=(1, 1), bias=False)\n",
       "            (1): BatchNorm2d(672, eps=1e-05, momentum=0.1, affine=True, track_running_stats=True)\n",
       "            (2): SiLU(inplace=True)\n",
       "          )\n",
       "          (1): ConvNormActivation(\n",
       "            (0): Conv2d(672, 672, kernel_size=(5, 5), stride=(1, 1), padding=(2, 2), groups=672, bias=False)\n",
       "            (1): BatchNorm2d(672, eps=1e-05, momentum=0.1, affine=True, track_running_stats=True)\n",
       "            (2): SiLU(inplace=True)\n",
       "          )\n",
       "          (2): SqueezeExcitation(\n",
       "            (avgpool): AdaptiveAvgPool2d(output_size=1)\n",
       "            (fc1): Conv2d(672, 28, kernel_size=(1, 1), stride=(1, 1))\n",
       "            (fc2): Conv2d(28, 672, kernel_size=(1, 1), stride=(1, 1))\n",
       "            (activation): SiLU(inplace=True)\n",
       "            (scale_activation): Sigmoid()\n",
       "          )\n",
       "          (3): ConvNormActivation(\n",
       "            (0): Conv2d(672, 112, kernel_size=(1, 1), stride=(1, 1), bias=False)\n",
       "            (1): BatchNorm2d(112, eps=1e-05, momentum=0.1, affine=True, track_running_stats=True)\n",
       "          )\n",
       "        )\n",
       "        (stochastic_depth): StochasticDepth(p=0.125, mode=row)\n",
       "      )\n",
       "    )\n",
       "    (6): Sequential(\n",
       "      (0): MBConv(\n",
       "        (block): Sequential(\n",
       "          (0): ConvNormActivation(\n",
       "            (0): Conv2d(112, 672, kernel_size=(1, 1), stride=(1, 1), bias=False)\n",
       "            (1): BatchNorm2d(672, eps=1e-05, momentum=0.1, affine=True, track_running_stats=True)\n",
       "            (2): SiLU(inplace=True)\n",
       "          )\n",
       "          (1): ConvNormActivation(\n",
       "            (0): Conv2d(672, 672, kernel_size=(5, 5), stride=(2, 2), padding=(2, 2), groups=672, bias=False)\n",
       "            (1): BatchNorm2d(672, eps=1e-05, momentum=0.1, affine=True, track_running_stats=True)\n",
       "            (2): SiLU(inplace=True)\n",
       "          )\n",
       "          (2): SqueezeExcitation(\n",
       "            (avgpool): AdaptiveAvgPool2d(output_size=1)\n",
       "            (fc1): Conv2d(672, 28, kernel_size=(1, 1), stride=(1, 1))\n",
       "            (fc2): Conv2d(28, 672, kernel_size=(1, 1), stride=(1, 1))\n",
       "            (activation): SiLU(inplace=True)\n",
       "            (scale_activation): Sigmoid()\n",
       "          )\n",
       "          (3): ConvNormActivation(\n",
       "            (0): Conv2d(672, 192, kernel_size=(1, 1), stride=(1, 1), bias=False)\n",
       "            (1): BatchNorm2d(192, eps=1e-05, momentum=0.1, affine=True, track_running_stats=True)\n",
       "          )\n",
       "        )\n",
       "        (stochastic_depth): StochasticDepth(p=0.1375, mode=row)\n",
       "      )\n",
       "      (1): MBConv(\n",
       "        (block): Sequential(\n",
       "          (0): ConvNormActivation(\n",
       "            (0): Conv2d(192, 1152, kernel_size=(1, 1), stride=(1, 1), bias=False)\n",
       "            (1): BatchNorm2d(1152, eps=1e-05, momentum=0.1, affine=True, track_running_stats=True)\n",
       "            (2): SiLU(inplace=True)\n",
       "          )\n",
       "          (1): ConvNormActivation(\n",
       "            (0): Conv2d(1152, 1152, kernel_size=(5, 5), stride=(1, 1), padding=(2, 2), groups=1152, bias=False)\n",
       "            (1): BatchNorm2d(1152, eps=1e-05, momentum=0.1, affine=True, track_running_stats=True)\n",
       "            (2): SiLU(inplace=True)\n",
       "          )\n",
       "          (2): SqueezeExcitation(\n",
       "            (avgpool): AdaptiveAvgPool2d(output_size=1)\n",
       "            (fc1): Conv2d(1152, 48, kernel_size=(1, 1), stride=(1, 1))\n",
       "            (fc2): Conv2d(48, 1152, kernel_size=(1, 1), stride=(1, 1))\n",
       "            (activation): SiLU(inplace=True)\n",
       "            (scale_activation): Sigmoid()\n",
       "          )\n",
       "          (3): ConvNormActivation(\n",
       "            (0): Conv2d(1152, 192, kernel_size=(1, 1), stride=(1, 1), bias=False)\n",
       "            (1): BatchNorm2d(192, eps=1e-05, momentum=0.1, affine=True, track_running_stats=True)\n",
       "          )\n",
       "        )\n",
       "        (stochastic_depth): StochasticDepth(p=0.15000000000000002, mode=row)\n",
       "      )\n",
       "      (2): MBConv(\n",
       "        (block): Sequential(\n",
       "          (0): ConvNormActivation(\n",
       "            (0): Conv2d(192, 1152, kernel_size=(1, 1), stride=(1, 1), bias=False)\n",
       "            (1): BatchNorm2d(1152, eps=1e-05, momentum=0.1, affine=True, track_running_stats=True)\n",
       "            (2): SiLU(inplace=True)\n",
       "          )\n",
       "          (1): ConvNormActivation(\n",
       "            (0): Conv2d(1152, 1152, kernel_size=(5, 5), stride=(1, 1), padding=(2, 2), groups=1152, bias=False)\n",
       "            (1): BatchNorm2d(1152, eps=1e-05, momentum=0.1, affine=True, track_running_stats=True)\n",
       "            (2): SiLU(inplace=True)\n",
       "          )\n",
       "          (2): SqueezeExcitation(\n",
       "            (avgpool): AdaptiveAvgPool2d(output_size=1)\n",
       "            (fc1): Conv2d(1152, 48, kernel_size=(1, 1), stride=(1, 1))\n",
       "            (fc2): Conv2d(48, 1152, kernel_size=(1, 1), stride=(1, 1))\n",
       "            (activation): SiLU(inplace=True)\n",
       "            (scale_activation): Sigmoid()\n",
       "          )\n",
       "          (3): ConvNormActivation(\n",
       "            (0): Conv2d(1152, 192, kernel_size=(1, 1), stride=(1, 1), bias=False)\n",
       "            (1): BatchNorm2d(192, eps=1e-05, momentum=0.1, affine=True, track_running_stats=True)\n",
       "          )\n",
       "        )\n",
       "        (stochastic_depth): StochasticDepth(p=0.1625, mode=row)\n",
       "      )\n",
       "      (3): MBConv(\n",
       "        (block): Sequential(\n",
       "          (0): ConvNormActivation(\n",
       "            (0): Conv2d(192, 1152, kernel_size=(1, 1), stride=(1, 1), bias=False)\n",
       "            (1): BatchNorm2d(1152, eps=1e-05, momentum=0.1, affine=True, track_running_stats=True)\n",
       "            (2): SiLU(inplace=True)\n",
       "          )\n",
       "          (1): ConvNormActivation(\n",
       "            (0): Conv2d(1152, 1152, kernel_size=(5, 5), stride=(1, 1), padding=(2, 2), groups=1152, bias=False)\n",
       "            (1): BatchNorm2d(1152, eps=1e-05, momentum=0.1, affine=True, track_running_stats=True)\n",
       "            (2): SiLU(inplace=True)\n",
       "          )\n",
       "          (2): SqueezeExcitation(\n",
       "            (avgpool): AdaptiveAvgPool2d(output_size=1)\n",
       "            (fc1): Conv2d(1152, 48, kernel_size=(1, 1), stride=(1, 1))\n",
       "            (fc2): Conv2d(48, 1152, kernel_size=(1, 1), stride=(1, 1))\n",
       "            (activation): SiLU(inplace=True)\n",
       "            (scale_activation): Sigmoid()\n",
       "          )\n",
       "          (3): ConvNormActivation(\n",
       "            (0): Conv2d(1152, 192, kernel_size=(1, 1), stride=(1, 1), bias=False)\n",
       "            (1): BatchNorm2d(192, eps=1e-05, momentum=0.1, affine=True, track_running_stats=True)\n",
       "          )\n",
       "        )\n",
       "        (stochastic_depth): StochasticDepth(p=0.17500000000000002, mode=row)\n",
       "      )\n",
       "    )\n",
       "    (7): Sequential(\n",
       "      (0): MBConv(\n",
       "        (block): Sequential(\n",
       "          (0): ConvNormActivation(\n",
       "            (0): Conv2d(192, 1152, kernel_size=(1, 1), stride=(1, 1), bias=False)\n",
       "            (1): BatchNorm2d(1152, eps=1e-05, momentum=0.1, affine=True, track_running_stats=True)\n",
       "            (2): SiLU(inplace=True)\n",
       "          )\n",
       "          (1): ConvNormActivation(\n",
       "            (0): Conv2d(1152, 1152, kernel_size=(3, 3), stride=(1, 1), padding=(1, 1), groups=1152, bias=False)\n",
       "            (1): BatchNorm2d(1152, eps=1e-05, momentum=0.1, affine=True, track_running_stats=True)\n",
       "            (2): SiLU(inplace=True)\n",
       "          )\n",
       "          (2): SqueezeExcitation(\n",
       "            (avgpool): AdaptiveAvgPool2d(output_size=1)\n",
       "            (fc1): Conv2d(1152, 48, kernel_size=(1, 1), stride=(1, 1))\n",
       "            (fc2): Conv2d(48, 1152, kernel_size=(1, 1), stride=(1, 1))\n",
       "            (activation): SiLU(inplace=True)\n",
       "            (scale_activation): Sigmoid()\n",
       "          )\n",
       "          (3): ConvNormActivation(\n",
       "            (0): Conv2d(1152, 320, kernel_size=(1, 1), stride=(1, 1), bias=False)\n",
       "            (1): BatchNorm2d(320, eps=1e-05, momentum=0.1, affine=True, track_running_stats=True)\n",
       "          )\n",
       "        )\n",
       "        (stochastic_depth): StochasticDepth(p=0.1875, mode=row)\n",
       "      )\n",
       "    )\n",
       "    (8): ConvNormActivation(\n",
       "      (0): Conv2d(320, 1280, kernel_size=(1, 1), stride=(1, 1), bias=False)\n",
       "      (1): BatchNorm2d(1280, eps=1e-05, momentum=0.1, affine=True, track_running_stats=True)\n",
       "      (2): SiLU(inplace=True)\n",
       "    )\n",
       "  )\n",
       "  (avgpool): AdaptiveAvgPool2d(output_size=1)\n",
       "  (classifier): Sequential(\n",
       "    (0): Dropout(p=0.2, inplace=True)\n",
       "    (1): Linear(in_features=1280, out_features=1000, bias=True)\n",
       "  )\n",
       ")"
      ]
     },
     "execution_count": 17,
     "metadata": {},
     "output_type": "execute_result"
    }
   ],
   "source": [
    "efficientnet_b0"
   ]
  },
  {
   "cell_type": "code",
   "execution_count": 18,
   "id": "387078e9",
   "metadata": {},
   "outputs": [
    {
     "data": {
      "text/plain": [
       "EfficientNet(\n",
       "  (features): Sequential(\n",
       "    (0): ConvNormActivation(\n",
       "      (0): Conv2d(3, 32, kernel_size=(3, 3), stride=(2, 2), padding=(1, 1), bias=False)\n",
       "      (1): BatchNorm2d(32, eps=1e-05, momentum=0.1, affine=True, track_running_stats=True)\n",
       "      (2): SiLU(inplace=True)\n",
       "    )\n",
       "    (1): Sequential(\n",
       "      (0): MBConv(\n",
       "        (block): Sequential(\n",
       "          (0): ConvNormActivation(\n",
       "            (0): Conv2d(32, 32, kernel_size=(3, 3), stride=(1, 1), padding=(1, 1), groups=32, bias=False)\n",
       "            (1): BatchNorm2d(32, eps=1e-05, momentum=0.1, affine=True, track_running_stats=True)\n",
       "            (2): SiLU(inplace=True)\n",
       "          )\n",
       "          (1): SqueezeExcitation(\n",
       "            (avgpool): AdaptiveAvgPool2d(output_size=1)\n",
       "            (fc1): Conv2d(32, 8, kernel_size=(1, 1), stride=(1, 1))\n",
       "            (fc2): Conv2d(8, 32, kernel_size=(1, 1), stride=(1, 1))\n",
       "            (activation): SiLU(inplace=True)\n",
       "            (scale_activation): Sigmoid()\n",
       "          )\n",
       "          (2): ConvNormActivation(\n",
       "            (0): Conv2d(32, 16, kernel_size=(1, 1), stride=(1, 1), bias=False)\n",
       "            (1): BatchNorm2d(16, eps=1e-05, momentum=0.1, affine=True, track_running_stats=True)\n",
       "          )\n",
       "        )\n",
       "        (stochastic_depth): StochasticDepth(p=0.0, mode=row)\n",
       "      )\n",
       "    )\n",
       "    (2): Sequential(\n",
       "      (0): MBConv(\n",
       "        (block): Sequential(\n",
       "          (0): ConvNormActivation(\n",
       "            (0): Conv2d(16, 96, kernel_size=(1, 1), stride=(1, 1), bias=False)\n",
       "            (1): BatchNorm2d(96, eps=1e-05, momentum=0.1, affine=True, track_running_stats=True)\n",
       "            (2): SiLU(inplace=True)\n",
       "          )\n",
       "          (1): ConvNormActivation(\n",
       "            (0): Conv2d(96, 96, kernel_size=(3, 3), stride=(2, 2), padding=(1, 1), groups=96, bias=False)\n",
       "            (1): BatchNorm2d(96, eps=1e-05, momentum=0.1, affine=True, track_running_stats=True)\n",
       "            (2): SiLU(inplace=True)\n",
       "          )\n",
       "          (2): SqueezeExcitation(\n",
       "            (avgpool): AdaptiveAvgPool2d(output_size=1)\n",
       "            (fc1): Conv2d(96, 4, kernel_size=(1, 1), stride=(1, 1))\n",
       "            (fc2): Conv2d(4, 96, kernel_size=(1, 1), stride=(1, 1))\n",
       "            (activation): SiLU(inplace=True)\n",
       "            (scale_activation): Sigmoid()\n",
       "          )\n",
       "          (3): ConvNormActivation(\n",
       "            (0): Conv2d(96, 24, kernel_size=(1, 1), stride=(1, 1), bias=False)\n",
       "            (1): BatchNorm2d(24, eps=1e-05, momentum=0.1, affine=True, track_running_stats=True)\n",
       "          )\n",
       "        )\n",
       "        (stochastic_depth): StochasticDepth(p=0.0125, mode=row)\n",
       "      )\n",
       "      (1): MBConv(\n",
       "        (block): Sequential(\n",
       "          (0): ConvNormActivation(\n",
       "            (0): Conv2d(24, 144, kernel_size=(1, 1), stride=(1, 1), bias=False)\n",
       "            (1): BatchNorm2d(144, eps=1e-05, momentum=0.1, affine=True, track_running_stats=True)\n",
       "            (2): SiLU(inplace=True)\n",
       "          )\n",
       "          (1): ConvNormActivation(\n",
       "            (0): Conv2d(144, 144, kernel_size=(3, 3), stride=(1, 1), padding=(1, 1), groups=144, bias=False)\n",
       "            (1): BatchNorm2d(144, eps=1e-05, momentum=0.1, affine=True, track_running_stats=True)\n",
       "            (2): SiLU(inplace=True)\n",
       "          )\n",
       "          (2): SqueezeExcitation(\n",
       "            (avgpool): AdaptiveAvgPool2d(output_size=1)\n",
       "            (fc1): Conv2d(144, 6, kernel_size=(1, 1), stride=(1, 1))\n",
       "            (fc2): Conv2d(6, 144, kernel_size=(1, 1), stride=(1, 1))\n",
       "            (activation): SiLU(inplace=True)\n",
       "            (scale_activation): Sigmoid()\n",
       "          )\n",
       "          (3): ConvNormActivation(\n",
       "            (0): Conv2d(144, 24, kernel_size=(1, 1), stride=(1, 1), bias=False)\n",
       "            (1): BatchNorm2d(24, eps=1e-05, momentum=0.1, affine=True, track_running_stats=True)\n",
       "          )\n",
       "        )\n",
       "        (stochastic_depth): StochasticDepth(p=0.025, mode=row)\n",
       "      )\n",
       "    )\n",
       "    (3): Sequential(\n",
       "      (0): MBConv(\n",
       "        (block): Sequential(\n",
       "          (0): ConvNormActivation(\n",
       "            (0): Conv2d(24, 144, kernel_size=(1, 1), stride=(1, 1), bias=False)\n",
       "            (1): BatchNorm2d(144, eps=1e-05, momentum=0.1, affine=True, track_running_stats=True)\n",
       "            (2): SiLU(inplace=True)\n",
       "          )\n",
       "          (1): ConvNormActivation(\n",
       "            (0): Conv2d(144, 144, kernel_size=(5, 5), stride=(2, 2), padding=(2, 2), groups=144, bias=False)\n",
       "            (1): BatchNorm2d(144, eps=1e-05, momentum=0.1, affine=True, track_running_stats=True)\n",
       "            (2): SiLU(inplace=True)\n",
       "          )\n",
       "          (2): SqueezeExcitation(\n",
       "            (avgpool): AdaptiveAvgPool2d(output_size=1)\n",
       "            (fc1): Conv2d(144, 6, kernel_size=(1, 1), stride=(1, 1))\n",
       "            (fc2): Conv2d(6, 144, kernel_size=(1, 1), stride=(1, 1))\n",
       "            (activation): SiLU(inplace=True)\n",
       "            (scale_activation): Sigmoid()\n",
       "          )\n",
       "          (3): ConvNormActivation(\n",
       "            (0): Conv2d(144, 40, kernel_size=(1, 1), stride=(1, 1), bias=False)\n",
       "            (1): BatchNorm2d(40, eps=1e-05, momentum=0.1, affine=True, track_running_stats=True)\n",
       "          )\n",
       "        )\n",
       "        (stochastic_depth): StochasticDepth(p=0.037500000000000006, mode=row)\n",
       "      )\n",
       "      (1): MBConv(\n",
       "        (block): Sequential(\n",
       "          (0): ConvNormActivation(\n",
       "            (0): Conv2d(40, 240, kernel_size=(1, 1), stride=(1, 1), bias=False)\n",
       "            (1): BatchNorm2d(240, eps=1e-05, momentum=0.1, affine=True, track_running_stats=True)\n",
       "            (2): SiLU(inplace=True)\n",
       "          )\n",
       "          (1): ConvNormActivation(\n",
       "            (0): Conv2d(240, 240, kernel_size=(5, 5), stride=(1, 1), padding=(2, 2), groups=240, bias=False)\n",
       "            (1): BatchNorm2d(240, eps=1e-05, momentum=0.1, affine=True, track_running_stats=True)\n",
       "            (2): SiLU(inplace=True)\n",
       "          )\n",
       "          (2): SqueezeExcitation(\n",
       "            (avgpool): AdaptiveAvgPool2d(output_size=1)\n",
       "            (fc1): Conv2d(240, 10, kernel_size=(1, 1), stride=(1, 1))\n",
       "            (fc2): Conv2d(10, 240, kernel_size=(1, 1), stride=(1, 1))\n",
       "            (activation): SiLU(inplace=True)\n",
       "            (scale_activation): Sigmoid()\n",
       "          )\n",
       "          (3): ConvNormActivation(\n",
       "            (0): Conv2d(240, 40, kernel_size=(1, 1), stride=(1, 1), bias=False)\n",
       "            (1): BatchNorm2d(40, eps=1e-05, momentum=0.1, affine=True, track_running_stats=True)\n",
       "          )\n",
       "        )\n",
       "        (stochastic_depth): StochasticDepth(p=0.05, mode=row)\n",
       "      )\n",
       "    )\n",
       "    (4): Sequential(\n",
       "      (0): MBConv(\n",
       "        (block): Sequential(\n",
       "          (0): ConvNormActivation(\n",
       "            (0): Conv2d(40, 240, kernel_size=(1, 1), stride=(1, 1), bias=False)\n",
       "            (1): BatchNorm2d(240, eps=1e-05, momentum=0.1, affine=True, track_running_stats=True)\n",
       "            (2): SiLU(inplace=True)\n",
       "          )\n",
       "          (1): ConvNormActivation(\n",
       "            (0): Conv2d(240, 240, kernel_size=(3, 3), stride=(2, 2), padding=(1, 1), groups=240, bias=False)\n",
       "            (1): BatchNorm2d(240, eps=1e-05, momentum=0.1, affine=True, track_running_stats=True)\n",
       "            (2): SiLU(inplace=True)\n",
       "          )\n",
       "          (2): SqueezeExcitation(\n",
       "            (avgpool): AdaptiveAvgPool2d(output_size=1)\n",
       "            (fc1): Conv2d(240, 10, kernel_size=(1, 1), stride=(1, 1))\n",
       "            (fc2): Conv2d(10, 240, kernel_size=(1, 1), stride=(1, 1))\n",
       "            (activation): SiLU(inplace=True)\n",
       "            (scale_activation): Sigmoid()\n",
       "          )\n",
       "          (3): ConvNormActivation(\n",
       "            (0): Conv2d(240, 80, kernel_size=(1, 1), stride=(1, 1), bias=False)\n",
       "            (1): BatchNorm2d(80, eps=1e-05, momentum=0.1, affine=True, track_running_stats=True)\n",
       "          )\n",
       "        )\n",
       "        (stochastic_depth): StochasticDepth(p=0.0625, mode=row)\n",
       "      )\n",
       "      (1): MBConv(\n",
       "        (block): Sequential(\n",
       "          (0): ConvNormActivation(\n",
       "            (0): Conv2d(80, 480, kernel_size=(1, 1), stride=(1, 1), bias=False)\n",
       "            (1): BatchNorm2d(480, eps=1e-05, momentum=0.1, affine=True, track_running_stats=True)\n",
       "            (2): SiLU(inplace=True)\n",
       "          )\n",
       "          (1): ConvNormActivation(\n",
       "            (0): Conv2d(480, 480, kernel_size=(3, 3), stride=(1, 1), padding=(1, 1), groups=480, bias=False)\n",
       "            (1): BatchNorm2d(480, eps=1e-05, momentum=0.1, affine=True, track_running_stats=True)\n",
       "            (2): SiLU(inplace=True)\n",
       "          )\n",
       "          (2): SqueezeExcitation(\n",
       "            (avgpool): AdaptiveAvgPool2d(output_size=1)\n",
       "            (fc1): Conv2d(480, 20, kernel_size=(1, 1), stride=(1, 1))\n",
       "            (fc2): Conv2d(20, 480, kernel_size=(1, 1), stride=(1, 1))\n",
       "            (activation): SiLU(inplace=True)\n",
       "            (scale_activation): Sigmoid()\n",
       "          )\n",
       "          (3): ConvNormActivation(\n",
       "            (0): Conv2d(480, 80, kernel_size=(1, 1), stride=(1, 1), bias=False)\n",
       "            (1): BatchNorm2d(80, eps=1e-05, momentum=0.1, affine=True, track_running_stats=True)\n",
       "          )\n",
       "        )\n",
       "        (stochastic_depth): StochasticDepth(p=0.07500000000000001, mode=row)\n",
       "      )\n",
       "      (2): MBConv(\n",
       "        (block): Sequential(\n",
       "          (0): ConvNormActivation(\n",
       "            (0): Conv2d(80, 480, kernel_size=(1, 1), stride=(1, 1), bias=False)\n",
       "            (1): BatchNorm2d(480, eps=1e-05, momentum=0.1, affine=True, track_running_stats=True)\n",
       "            (2): SiLU(inplace=True)\n",
       "          )\n",
       "          (1): ConvNormActivation(\n",
       "            (0): Conv2d(480, 480, kernel_size=(3, 3), stride=(1, 1), padding=(1, 1), groups=480, bias=False)\n",
       "            (1): BatchNorm2d(480, eps=1e-05, momentum=0.1, affine=True, track_running_stats=True)\n",
       "            (2): SiLU(inplace=True)\n",
       "          )\n",
       "          (2): SqueezeExcitation(\n",
       "            (avgpool): AdaptiveAvgPool2d(output_size=1)\n",
       "            (fc1): Conv2d(480, 20, kernel_size=(1, 1), stride=(1, 1))\n",
       "            (fc2): Conv2d(20, 480, kernel_size=(1, 1), stride=(1, 1))\n",
       "            (activation): SiLU(inplace=True)\n",
       "            (scale_activation): Sigmoid()\n",
       "          )\n",
       "          (3): ConvNormActivation(\n",
       "            (0): Conv2d(480, 80, kernel_size=(1, 1), stride=(1, 1), bias=False)\n",
       "            (1): BatchNorm2d(80, eps=1e-05, momentum=0.1, affine=True, track_running_stats=True)\n",
       "          )\n",
       "        )\n",
       "        (stochastic_depth): StochasticDepth(p=0.08750000000000001, mode=row)\n",
       "      )\n",
       "    )\n",
       "    (5): Sequential(\n",
       "      (0): MBConv(\n",
       "        (block): Sequential(\n",
       "          (0): ConvNormActivation(\n",
       "            (0): Conv2d(80, 480, kernel_size=(1, 1), stride=(1, 1), bias=False)\n",
       "            (1): BatchNorm2d(480, eps=1e-05, momentum=0.1, affine=True, track_running_stats=True)\n",
       "            (2): SiLU(inplace=True)\n",
       "          )\n",
       "          (1): ConvNormActivation(\n",
       "            (0): Conv2d(480, 480, kernel_size=(5, 5), stride=(1, 1), padding=(2, 2), groups=480, bias=False)\n",
       "            (1): BatchNorm2d(480, eps=1e-05, momentum=0.1, affine=True, track_running_stats=True)\n",
       "            (2): SiLU(inplace=True)\n",
       "          )\n",
       "          (2): SqueezeExcitation(\n",
       "            (avgpool): AdaptiveAvgPool2d(output_size=1)\n",
       "            (fc1): Conv2d(480, 20, kernel_size=(1, 1), stride=(1, 1))\n",
       "            (fc2): Conv2d(20, 480, kernel_size=(1, 1), stride=(1, 1))\n",
       "            (activation): SiLU(inplace=True)\n",
       "            (scale_activation): Sigmoid()\n",
       "          )\n",
       "          (3): ConvNormActivation(\n",
       "            (0): Conv2d(480, 112, kernel_size=(1, 1), stride=(1, 1), bias=False)\n",
       "            (1): BatchNorm2d(112, eps=1e-05, momentum=0.1, affine=True, track_running_stats=True)\n",
       "          )\n",
       "        )\n",
       "        (stochastic_depth): StochasticDepth(p=0.1, mode=row)\n",
       "      )\n",
       "      (1): MBConv(\n",
       "        (block): Sequential(\n",
       "          (0): ConvNormActivation(\n",
       "            (0): Conv2d(112, 672, kernel_size=(1, 1), stride=(1, 1), bias=False)\n",
       "            (1): BatchNorm2d(672, eps=1e-05, momentum=0.1, affine=True, track_running_stats=True)\n",
       "            (2): SiLU(inplace=True)\n",
       "          )\n",
       "          (1): ConvNormActivation(\n",
       "            (0): Conv2d(672, 672, kernel_size=(5, 5), stride=(1, 1), padding=(2, 2), groups=672, bias=False)\n",
       "            (1): BatchNorm2d(672, eps=1e-05, momentum=0.1, affine=True, track_running_stats=True)\n",
       "            (2): SiLU(inplace=True)\n",
       "          )\n",
       "          (2): SqueezeExcitation(\n",
       "            (avgpool): AdaptiveAvgPool2d(output_size=1)\n",
       "            (fc1): Conv2d(672, 28, kernel_size=(1, 1), stride=(1, 1))\n",
       "            (fc2): Conv2d(28, 672, kernel_size=(1, 1), stride=(1, 1))\n",
       "            (activation): SiLU(inplace=True)\n",
       "            (scale_activation): Sigmoid()\n",
       "          )\n",
       "          (3): ConvNormActivation(\n",
       "            (0): Conv2d(672, 112, kernel_size=(1, 1), stride=(1, 1), bias=False)\n",
       "            (1): BatchNorm2d(112, eps=1e-05, momentum=0.1, affine=True, track_running_stats=True)\n",
       "          )\n",
       "        )\n",
       "        (stochastic_depth): StochasticDepth(p=0.1125, mode=row)\n",
       "      )\n",
       "      (2): MBConv(\n",
       "        (block): Sequential(\n",
       "          (0): ConvNormActivation(\n",
       "            (0): Conv2d(112, 672, kernel_size=(1, 1), stride=(1, 1), bias=False)\n",
       "            (1): BatchNorm2d(672, eps=1e-05, momentum=0.1, affine=True, track_running_stats=True)\n",
       "            (2): SiLU(inplace=True)\n",
       "          )\n",
       "          (1): ConvNormActivation(\n",
       "            (0): Conv2d(672, 672, kernel_size=(5, 5), stride=(1, 1), padding=(2, 2), groups=672, bias=False)\n",
       "            (1): BatchNorm2d(672, eps=1e-05, momentum=0.1, affine=True, track_running_stats=True)\n",
       "            (2): SiLU(inplace=True)\n",
       "          )\n",
       "          (2): SqueezeExcitation(\n",
       "            (avgpool): AdaptiveAvgPool2d(output_size=1)\n",
       "            (fc1): Conv2d(672, 28, kernel_size=(1, 1), stride=(1, 1))\n",
       "            (fc2): Conv2d(28, 672, kernel_size=(1, 1), stride=(1, 1))\n",
       "            (activation): SiLU(inplace=True)\n",
       "            (scale_activation): Sigmoid()\n",
       "          )\n",
       "          (3): ConvNormActivation(\n",
       "            (0): Conv2d(672, 112, kernel_size=(1, 1), stride=(1, 1), bias=False)\n",
       "            (1): BatchNorm2d(112, eps=1e-05, momentum=0.1, affine=True, track_running_stats=True)\n",
       "          )\n",
       "        )\n",
       "        (stochastic_depth): StochasticDepth(p=0.125, mode=row)\n",
       "      )\n",
       "    )\n",
       "    (6): Sequential(\n",
       "      (0): MBConv(\n",
       "        (block): Sequential(\n",
       "          (0): ConvNormActivation(\n",
       "            (0): Conv2d(112, 672, kernel_size=(1, 1), stride=(1, 1), bias=False)\n",
       "            (1): BatchNorm2d(672, eps=1e-05, momentum=0.1, affine=True, track_running_stats=True)\n",
       "            (2): SiLU(inplace=True)\n",
       "          )\n",
       "          (1): ConvNormActivation(\n",
       "            (0): Conv2d(672, 672, kernel_size=(5, 5), stride=(2, 2), padding=(2, 2), groups=672, bias=False)\n",
       "            (1): BatchNorm2d(672, eps=1e-05, momentum=0.1, affine=True, track_running_stats=True)\n",
       "            (2): SiLU(inplace=True)\n",
       "          )\n",
       "          (2): SqueezeExcitation(\n",
       "            (avgpool): AdaptiveAvgPool2d(output_size=1)\n",
       "            (fc1): Conv2d(672, 28, kernel_size=(1, 1), stride=(1, 1))\n",
       "            (fc2): Conv2d(28, 672, kernel_size=(1, 1), stride=(1, 1))\n",
       "            (activation): SiLU(inplace=True)\n",
       "            (scale_activation): Sigmoid()\n",
       "          )\n",
       "          (3): ConvNormActivation(\n",
       "            (0): Conv2d(672, 192, kernel_size=(1, 1), stride=(1, 1), bias=False)\n",
       "            (1): BatchNorm2d(192, eps=1e-05, momentum=0.1, affine=True, track_running_stats=True)\n",
       "          )\n",
       "        )\n",
       "        (stochastic_depth): StochasticDepth(p=0.1375, mode=row)\n",
       "      )\n",
       "      (1): MBConv(\n",
       "        (block): Sequential(\n",
       "          (0): ConvNormActivation(\n",
       "            (0): Conv2d(192, 1152, kernel_size=(1, 1), stride=(1, 1), bias=False)\n",
       "            (1): BatchNorm2d(1152, eps=1e-05, momentum=0.1, affine=True, track_running_stats=True)\n",
       "            (2): SiLU(inplace=True)\n",
       "          )\n",
       "          (1): ConvNormActivation(\n",
       "            (0): Conv2d(1152, 1152, kernel_size=(5, 5), stride=(1, 1), padding=(2, 2), groups=1152, bias=False)\n",
       "            (1): BatchNorm2d(1152, eps=1e-05, momentum=0.1, affine=True, track_running_stats=True)\n",
       "            (2): SiLU(inplace=True)\n",
       "          )\n",
       "          (2): SqueezeExcitation(\n",
       "            (avgpool): AdaptiveAvgPool2d(output_size=1)\n",
       "            (fc1): Conv2d(1152, 48, kernel_size=(1, 1), stride=(1, 1))\n",
       "            (fc2): Conv2d(48, 1152, kernel_size=(1, 1), stride=(1, 1))\n",
       "            (activation): SiLU(inplace=True)\n",
       "            (scale_activation): Sigmoid()\n",
       "          )\n",
       "          (3): ConvNormActivation(\n",
       "            (0): Conv2d(1152, 192, kernel_size=(1, 1), stride=(1, 1), bias=False)\n",
       "            (1): BatchNorm2d(192, eps=1e-05, momentum=0.1, affine=True, track_running_stats=True)\n",
       "          )\n",
       "        )\n",
       "        (stochastic_depth): StochasticDepth(p=0.15000000000000002, mode=row)\n",
       "      )\n",
       "      (2): MBConv(\n",
       "        (block): Sequential(\n",
       "          (0): ConvNormActivation(\n",
       "            (0): Conv2d(192, 1152, kernel_size=(1, 1), stride=(1, 1), bias=False)\n",
       "            (1): BatchNorm2d(1152, eps=1e-05, momentum=0.1, affine=True, track_running_stats=True)\n",
       "            (2): SiLU(inplace=True)\n",
       "          )\n",
       "          (1): ConvNormActivation(\n",
       "            (0): Conv2d(1152, 1152, kernel_size=(5, 5), stride=(1, 1), padding=(2, 2), groups=1152, bias=False)\n",
       "            (1): BatchNorm2d(1152, eps=1e-05, momentum=0.1, affine=True, track_running_stats=True)\n",
       "            (2): SiLU(inplace=True)\n",
       "          )\n",
       "          (2): SqueezeExcitation(\n",
       "            (avgpool): AdaptiveAvgPool2d(output_size=1)\n",
       "            (fc1): Conv2d(1152, 48, kernel_size=(1, 1), stride=(1, 1))\n",
       "            (fc2): Conv2d(48, 1152, kernel_size=(1, 1), stride=(1, 1))\n",
       "            (activation): SiLU(inplace=True)\n",
       "            (scale_activation): Sigmoid()\n",
       "          )\n",
       "          (3): ConvNormActivation(\n",
       "            (0): Conv2d(1152, 192, kernel_size=(1, 1), stride=(1, 1), bias=False)\n",
       "            (1): BatchNorm2d(192, eps=1e-05, momentum=0.1, affine=True, track_running_stats=True)\n",
       "          )\n",
       "        )\n",
       "        (stochastic_depth): StochasticDepth(p=0.1625, mode=row)\n",
       "      )\n",
       "      (3): MBConv(\n",
       "        (block): Sequential(\n",
       "          (0): ConvNormActivation(\n",
       "            (0): Conv2d(192, 1152, kernel_size=(1, 1), stride=(1, 1), bias=False)\n",
       "            (1): BatchNorm2d(1152, eps=1e-05, momentum=0.1, affine=True, track_running_stats=True)\n",
       "            (2): SiLU(inplace=True)\n",
       "          )\n",
       "          (1): ConvNormActivation(\n",
       "            (0): Conv2d(1152, 1152, kernel_size=(5, 5), stride=(1, 1), padding=(2, 2), groups=1152, bias=False)\n",
       "            (1): BatchNorm2d(1152, eps=1e-05, momentum=0.1, affine=True, track_running_stats=True)\n",
       "            (2): SiLU(inplace=True)\n",
       "          )\n",
       "          (2): SqueezeExcitation(\n",
       "            (avgpool): AdaptiveAvgPool2d(output_size=1)\n",
       "            (fc1): Conv2d(1152, 48, kernel_size=(1, 1), stride=(1, 1))\n",
       "            (fc2): Conv2d(48, 1152, kernel_size=(1, 1), stride=(1, 1))\n",
       "            (activation): SiLU(inplace=True)\n",
       "            (scale_activation): Sigmoid()\n",
       "          )\n",
       "          (3): ConvNormActivation(\n",
       "            (0): Conv2d(1152, 192, kernel_size=(1, 1), stride=(1, 1), bias=False)\n",
       "            (1): BatchNorm2d(192, eps=1e-05, momentum=0.1, affine=True, track_running_stats=True)\n",
       "          )\n",
       "        )\n",
       "        (stochastic_depth): StochasticDepth(p=0.17500000000000002, mode=row)\n",
       "      )\n",
       "    )\n",
       "    (7): Sequential(\n",
       "      (0): MBConv(\n",
       "        (block): Sequential(\n",
       "          (0): ConvNormActivation(\n",
       "            (0): Conv2d(192, 1152, kernel_size=(1, 1), stride=(1, 1), bias=False)\n",
       "            (1): BatchNorm2d(1152, eps=1e-05, momentum=0.1, affine=True, track_running_stats=True)\n",
       "            (2): SiLU(inplace=True)\n",
       "          )\n",
       "          (1): ConvNormActivation(\n",
       "            (0): Conv2d(1152, 1152, kernel_size=(3, 3), stride=(1, 1), padding=(1, 1), groups=1152, bias=False)\n",
       "            (1): BatchNorm2d(1152, eps=1e-05, momentum=0.1, affine=True, track_running_stats=True)\n",
       "            (2): SiLU(inplace=True)\n",
       "          )\n",
       "          (2): SqueezeExcitation(\n",
       "            (avgpool): AdaptiveAvgPool2d(output_size=1)\n",
       "            (fc1): Conv2d(1152, 48, kernel_size=(1, 1), stride=(1, 1))\n",
       "            (fc2): Conv2d(48, 1152, kernel_size=(1, 1), stride=(1, 1))\n",
       "            (activation): SiLU(inplace=True)\n",
       "            (scale_activation): Sigmoid()\n",
       "          )\n",
       "          (3): ConvNormActivation(\n",
       "            (0): Conv2d(1152, 320, kernel_size=(1, 1), stride=(1, 1), bias=False)\n",
       "            (1): BatchNorm2d(320, eps=1e-05, momentum=0.1, affine=True, track_running_stats=True)\n",
       "          )\n",
       "        )\n",
       "        (stochastic_depth): StochasticDepth(p=0.1875, mode=row)\n",
       "      )\n",
       "    )\n",
       "    (8): ConvNormActivation(\n",
       "      (0): Conv2d(320, 1280, kernel_size=(1, 1), stride=(1, 1), bias=False)\n",
       "      (1): BatchNorm2d(1280, eps=1e-05, momentum=0.1, affine=True, track_running_stats=True)\n",
       "      (2): SiLU(inplace=True)\n",
       "    )\n",
       "  )\n",
       "  (avgpool): AdaptiveAvgPool2d(output_size=1)\n",
       "  (classifier): Linear(in_features=1280, out_features=10, bias=True)\n",
       ")"
      ]
     },
     "execution_count": 18,
     "metadata": {},
     "output_type": "execute_result"
    }
   ],
   "source": [
    "efficientnet_b0\n",
    "efficientnet_b0.classifier = nn.Linear(in_features=1280, out_features=10, bias=True)\n",
    "\n",
    "'''\n",
    "efficientnet_b0.features[0][1] = nn.GroupNorm(32, 32)\n",
    "efficientnet_b0.features[1][0].block[0][1] = nn.GroupNorm(8, 32)\n",
    "efficientnet_b0.features[1][0].block[2][1] = nn.GroupNorm(8, 16)  \n",
    "efficientnet_b0.features[2][0].block[0][1] = nn.GroupNorm(8, 96)\n",
    "efficientnet_b0.features[2][0].block[1][1] = nn.GroupNorm(8, 96)\n",
    "efficientnet_b0.features[2][0].block[3][1] = nn.GroupNorm(8, 24) \n",
    "efficientnet_b0.features[2][1].block[0][1] = nn.GroupNorm(8, 144)\n",
    "efficientnet_b0.features[2][1].block[1][1] = nn.GroupNorm(8, 144)\n",
    "efficientnet_b0.features[2][1].block[3][1] = nn.GroupNorm(8, 24)\n",
    "efficientnet_b0.features[3][0].block[0][1] = nn.GroupNorm(8, 144)\n",
    "efficientnet_b0.features[3][0].block[1][1] = nn.GroupNorm(8, 144)\n",
    "efficientnet_b0.features[3][0].block[3][1] = nn.GroupNorm(8, 40)\n",
    "efficientnet_b0.features[3][1].block[0][1] = nn.GroupNorm(8, 240)\n",
    "efficientnet_b0.features[3][1].block[1][1] = nn.GroupNorm(8, 240)\n",
    "efficientnet_b0.features[3][1].block[3][1] = nn.GroupNorm(8, 40)\n",
    "efficientnet_b0.features[4][0].block[0][1] = nn.GroupNorm(8, 240)\n",
    "efficientnet_b0.features[4][0].block[1][1] = nn.GroupNorm(8, 240)\n",
    "efficientnet_b0.features[4][0].block[3][1] = nn.GroupNorm(8, 80)\n",
    "efficientnet_b0.features[4][1].block[0][1] = nn.GroupNorm(8, 480)\n",
    "efficientnet_b0.features[4][1].block[1][1] = nn.GroupNorm(8, 480)\n",
    "efficientnet_b0.features[4][1].block[3][1] = nn.GroupNorm(8, 80)\n",
    "efficientnet_b0.features[4][2].block[0][1] = nn.GroupNorm(8, 480)\n",
    "efficientnet_b0.features[4][2].block[1][1] = nn.GroupNorm(8, 480)\n",
    "efficientnet_b0.features[4][2].block[3][1] = nn.GroupNorm(8, 80)\n",
    "efficientnet_b0.features[5][0].block[0][1] = nn.GroupNorm(8, 480)\n",
    "efficientnet_b0.features[5][0].block[1][1] = nn.GroupNorm(8, 480)\n",
    "efficientnet_b0.features[5][0].block[3][1] = nn.GroupNorm(8, 112)\n",
    "efficientnet_b0.features[5][1].block[0][1] = nn.GroupNorm(8, 672)\n",
    "efficientnet_b0.features[5][1].block[1][1] = nn.GroupNorm(8, 672)\n",
    "efficientnet_b0.features[5][1].block[3][1] = nn.GroupNorm(8, 112)\n",
    "efficientnet_b0.features[5][2].block[0][1] = nn.GroupNorm(8, 672)\n",
    "efficientnet_b0.features[5][2].block[1][1] = nn.GroupNorm(8, 672)\n",
    "efficientnet_b0.features[5][2].block[3][1] = nn.GroupNorm(8, 112)\n",
    "efficientnet_b0.features[6][0].block[0][1] = nn.GroupNorm(8, 672)\n",
    "efficientnet_b0.features[6][0].block[1][1] = nn.GroupNorm(8, 672)\n",
    "efficientnet_b0.features[6][0].block[3][1] = nn.GroupNorm(8, 192)\n",
    "efficientnet_b0.features[6][1].block[0][1] = nn.GroupNorm(8, 1152)\n",
    "efficientnet_b0.features[6][1].block[1][1] = nn.GroupNorm(8, 1152)\n",
    "efficientnet_b0.features[6][1].block[3][1] = nn.GroupNorm(8, 192)\n",
    "efficientnet_b0.features[6][2].block[0][1] = nn.GroupNorm(8, 1152)\n",
    "efficientnet_b0.features[6][2].block[1][1] = nn.GroupNorm(8, 1152)\n",
    "efficientnet_b0.features[6][2].block[3][1] = nn.GroupNorm(8, 192)\n",
    "efficientnet_b0.features[6][3].block[0][1] = nn.GroupNorm(8, 1152)\n",
    "efficientnet_b0.features[6][3].block[1][1] = nn.GroupNorm(8, 1152)\n",
    "efficientnet_b0.features[6][3].block[3][1] = nn.GroupNorm(8, 192)\n",
    "efficientnet_b0.features[7][0].block[0][1] = nn.GroupNorm(8, 1152)\n",
    "efficientnet_b0.features[7][0].block[1][1] = nn.GroupNorm(8, 1152)\n",
    "efficientnet_b0.features[7][0].block[3][1] = nn.GroupNorm(8, 320)\n",
    "efficientnet_b0.features[8][1] = nn.GroupNorm(8, 1280)\n",
    "'''\n",
    "efficientnet_b0\n"
   ]
  },
  {
   "cell_type": "code",
   "execution_count": 19,
   "id": "9b1bd779",
   "metadata": {},
   "outputs": [],
   "source": [
    "model_net = resnet18\n",
    "#model_net = vgg16\n",
    "#model_net = efficientnet_b0"
   ]
  },
  {
   "cell_type": "code",
   "execution_count": 20,
   "id": "24757acd",
   "metadata": {},
   "outputs": [
    {
     "data": {
      "text/plain": [
       "ResNet(\n",
       "  (conv1): Conv2d(3, 64, kernel_size=(7, 7), stride=(2, 2), padding=(3, 3), bias=False)\n",
       "  (bn1): GroupNorm(1, 64, eps=1e-05, affine=True)\n",
       "  (relu): ReLU(inplace=True)\n",
       "  (maxpool): MaxPool2d(kernel_size=3, stride=2, padding=1, dilation=1, ceil_mode=False)\n",
       "  (layer1): Sequential(\n",
       "    (0): BasicBlock(\n",
       "      (conv1): Conv2d(64, 64, kernel_size=(3, 3), stride=(1, 1), padding=(1, 1), bias=False)\n",
       "      (bn1): GroupNorm(1, 64, eps=1e-05, affine=True)\n",
       "      (relu): ReLU(inplace=True)\n",
       "      (conv2): Conv2d(64, 64, kernel_size=(3, 3), stride=(1, 1), padding=(1, 1), bias=False)\n",
       "      (bn2): GroupNorm(1, 64, eps=1e-05, affine=True)\n",
       "    )\n",
       "    (1): BasicBlock(\n",
       "      (conv1): Conv2d(64, 64, kernel_size=(3, 3), stride=(1, 1), padding=(1, 1), bias=False)\n",
       "      (bn1): GroupNorm(1, 64, eps=1e-05, affine=True)\n",
       "      (relu): ReLU(inplace=True)\n",
       "      (conv2): Conv2d(64, 64, kernel_size=(3, 3), stride=(1, 1), padding=(1, 1), bias=False)\n",
       "      (bn2): GroupNorm(1, 64, eps=1e-05, affine=True)\n",
       "    )\n",
       "  )\n",
       "  (layer2): Sequential(\n",
       "    (0): BasicBlock(\n",
       "      (conv1): Conv2d(64, 128, kernel_size=(3, 3), stride=(2, 2), padding=(1, 1), bias=False)\n",
       "      (bn1): GroupNorm(1, 128, eps=1e-05, affine=True)\n",
       "      (relu): ReLU(inplace=True)\n",
       "      (conv2): Conv2d(128, 128, kernel_size=(3, 3), stride=(1, 1), padding=(1, 1), bias=False)\n",
       "      (bn2): GroupNorm(1, 128, eps=1e-05, affine=True)\n",
       "      (downsample): Sequential(\n",
       "        (0): Conv2d(64, 128, kernel_size=(1, 1), stride=(2, 2), bias=False)\n",
       "        (1): GroupNorm(1, 128, eps=1e-05, affine=True)\n",
       "      )\n",
       "    )\n",
       "    (1): BasicBlock(\n",
       "      (conv1): Conv2d(128, 128, kernel_size=(3, 3), stride=(1, 1), padding=(1, 1), bias=False)\n",
       "      (bn1): GroupNorm(1, 128, eps=1e-05, affine=True)\n",
       "      (relu): ReLU(inplace=True)\n",
       "      (conv2): Conv2d(128, 128, kernel_size=(3, 3), stride=(1, 1), padding=(1, 1), bias=False)\n",
       "      (bn2): GroupNorm(1, 128, eps=1e-05, affine=True)\n",
       "    )\n",
       "  )\n",
       "  (layer3): Sequential(\n",
       "    (0): BasicBlock(\n",
       "      (conv1): Conv2d(128, 256, kernel_size=(3, 3), stride=(2, 2), padding=(1, 1), bias=False)\n",
       "      (bn1): GroupNorm(1, 256, eps=1e-05, affine=True)\n",
       "      (relu): ReLU(inplace=True)\n",
       "      (conv2): Conv2d(256, 256, kernel_size=(3, 3), stride=(1, 1), padding=(1, 1), bias=False)\n",
       "      (bn2): GroupNorm(1, 256, eps=1e-05, affine=True)\n",
       "      (downsample): Sequential(\n",
       "        (0): Conv2d(128, 256, kernel_size=(1, 1), stride=(2, 2), bias=False)\n",
       "        (1): GroupNorm(1, 256, eps=1e-05, affine=True)\n",
       "      )\n",
       "    )\n",
       "    (1): BasicBlock(\n",
       "      (conv1): Conv2d(256, 256, kernel_size=(3, 3), stride=(1, 1), padding=(1, 1), bias=False)\n",
       "      (bn1): GroupNorm(1, 256, eps=1e-05, affine=True)\n",
       "      (relu): ReLU(inplace=True)\n",
       "      (conv2): Conv2d(256, 256, kernel_size=(3, 3), stride=(1, 1), padding=(1, 1), bias=False)\n",
       "      (bn2): GroupNorm(1, 256, eps=1e-05, affine=True)\n",
       "    )\n",
       "  )\n",
       "  (layer4): Sequential(\n",
       "    (0): BasicBlock(\n",
       "      (conv1): Conv2d(256, 512, kernel_size=(3, 3), stride=(2, 2), padding=(1, 1), bias=False)\n",
       "      (bn1): GroupNorm(1, 512, eps=1e-05, affine=True)\n",
       "      (relu): ReLU(inplace=True)\n",
       "      (conv2): Conv2d(512, 512, kernel_size=(3, 3), stride=(1, 1), padding=(1, 1), bias=False)\n",
       "      (bn2): GroupNorm(1, 512, eps=1e-05, affine=True)\n",
       "      (downsample): Sequential(\n",
       "        (0): Conv2d(256, 512, kernel_size=(1, 1), stride=(2, 2), bias=False)\n",
       "        (1): GroupNorm(1, 512, eps=1e-05, affine=True)\n",
       "      )\n",
       "    )\n",
       "    (1): BasicBlock(\n",
       "      (conv1): Conv2d(512, 512, kernel_size=(3, 3), stride=(1, 1), padding=(1, 1), bias=False)\n",
       "      (bn1): GroupNorm(1, 512, eps=1e-05, affine=True)\n",
       "      (relu): ReLU(inplace=True)\n",
       "      (conv2): Conv2d(512, 512, kernel_size=(3, 3), stride=(1, 1), padding=(1, 1), bias=False)\n",
       "      (bn2): GroupNorm(1, 512, eps=1e-05, affine=True)\n",
       "    )\n",
       "  )\n",
       "  (avgpool): AdaptiveAvgPool2d(output_size=(1, 1))\n",
       "  (fc): Linear(in_features=512, out_features=10, bias=True)\n",
       ")"
      ]
     },
     "execution_count": 20,
     "metadata": {},
     "output_type": "execute_result"
    }
   ],
   "source": [
    "model_net"
   ]
  },
  {
   "cell_type": "code",
   "execution_count": 21,
   "id": "210a546e",
   "metadata": {},
   "outputs": [
    {
     "data": {
      "text/plain": [
       "[Parameter containing:\n",
       " tensor([[[[ 2.4110e-02,  7.5288e-03,  4.6658e-02,  ...,  2.0656e-02,\n",
       "            -2.5844e-02, -2.9885e-02],\n",
       "           [ 1.2222e-02, -8.5481e-03, -1.4171e-02,  ..., -4.3643e-02,\n",
       "            -4.0402e-02, -4.7733e-03],\n",
       "           [-8.2235e-03,  1.7280e-02,  3.1703e-02,  ...,  1.1305e-02,\n",
       "            -3.5123e-02,  1.1969e-02],\n",
       "           ...,\n",
       "           [-2.7451e-02, -2.2771e-02, -4.0286e-02,  ...,  9.6456e-03,\n",
       "             1.3894e-04, -1.1247e-02],\n",
       "           [ 1.6585e-02,  9.0206e-03,  7.5731e-03,  ..., -1.3123e-02,\n",
       "            -2.3528e-02, -1.3618e-02],\n",
       "           [ 2.4912e-02,  1.5114e-02, -2.2574e-02,  ..., -1.2579e-02,\n",
       "            -1.3655e-03, -2.0893e-02]],\n",
       " \n",
       "          [[-9.6315e-03, -4.4262e-02, -9.0585e-03,  ...,  5.3717e-02,\n",
       "            -3.1958e-02, -2.1502e-02],\n",
       "           [-3.0453e-02, -2.6740e-02,  3.5745e-03,  ..., -1.1469e-02,\n",
       "            -4.7746e-03, -1.4134e-02],\n",
       "           [ 2.6009e-02, -2.4534e-02,  3.1046e-02,  ..., -2.9362e-02,\n",
       "            -1.5069e-02,  3.1354e-02],\n",
       "           ...,\n",
       "           [-1.4416e-02, -8.9787e-03, -2.9408e-02,  ...,  2.4361e-02,\n",
       "             2.4537e-02, -4.1789e-02],\n",
       "           [-2.1262e-02,  4.3136e-02,  1.0220e-02,  ..., -1.6581e-02,\n",
       "            -4.7667e-02, -7.5155e-03],\n",
       "           [-1.2723e-02,  1.7154e-03,  3.2219e-02,  ..., -1.5778e-02,\n",
       "             3.5130e-03, -1.9947e-02]],\n",
       " \n",
       "          [[ 4.0122e-02, -2.2011e-02,  1.2818e-02,  ...,  9.8289e-03,\n",
       "             4.0818e-02,  4.3309e-02],\n",
       "           [ 5.0996e-03, -2.3756e-02,  2.1481e-02,  ..., -9.0799e-03,\n",
       "            -1.4749e-02, -4.3744e-02],\n",
       "           [-2.9179e-02, -6.4322e-02,  1.7666e-02,  ...,  3.2017e-02,\n",
       "            -7.2256e-03,  9.1238e-03],\n",
       "           ...,\n",
       "           [ 8.7005e-03, -4.2451e-03, -3.4889e-02,  ..., -5.9217e-02,\n",
       "             1.0862e-02,  3.7155e-02],\n",
       "           [-2.2824e-02,  1.2125e-02,  2.4406e-02,  ..., -6.6102e-03,\n",
       "            -4.2510e-02, -6.0821e-03],\n",
       "           [-2.1166e-02,  6.8020e-03,  9.1089e-03,  ...,  2.7706e-02,\n",
       "             1.0580e-02,  2.6199e-02]]],\n",
       " \n",
       " \n",
       "         [[[ 3.8819e-02, -1.1699e-02,  2.3550e-02,  ...,  1.8373e-02,\n",
       "             1.8076e-02, -1.6224e-02],\n",
       "           [-2.8577e-02, -4.9232e-02,  1.4364e-02,  ...,  4.1766e-02,\n",
       "             1.4706e-02, -5.4824e-02],\n",
       "           [-5.4099e-04, -3.0719e-02, -1.4878e-02,  ...,  2.4654e-02,\n",
       "             1.7230e-02,  1.7018e-02],\n",
       "           ...,\n",
       "           [ 2.7364e-02,  2.4314e-02, -8.7611e-03,  ..., -3.1481e-02,\n",
       "             3.2528e-02, -4.0730e-02],\n",
       "           [ 2.4467e-02, -6.8649e-03, -3.7948e-03,  ...,  1.9075e-02,\n",
       "             3.0495e-04, -5.0361e-03],\n",
       "           [-2.2846e-02, -8.4024e-03,  6.2315e-02,  ...,  3.5904e-02,\n",
       "            -3.1118e-02, -3.1562e-02]],\n",
       " \n",
       "          [[-7.3978e-03, -1.6429e-02,  1.2717e-03,  ...,  1.9246e-02,\n",
       "            -3.9354e-02, -5.6229e-02],\n",
       "           [-7.4332e-03, -7.5988e-05, -2.1345e-02,  ...,  1.2642e-02,\n",
       "             5.8799e-02, -2.8546e-02],\n",
       "           [-1.9190e-02, -7.2363e-03,  3.7072e-02,  ..., -2.2404e-02,\n",
       "            -5.2439e-02,  1.5647e-03],\n",
       "           ...,\n",
       "           [ 9.5554e-03,  5.4328e-02, -1.5785e-02,  ...,  2.0441e-02,\n",
       "            -4.4290e-02, -7.4757e-04],\n",
       "           [-6.8269e-03,  6.3833e-03,  9.6007e-03,  ...,  5.1261e-02,\n",
       "            -9.5394e-03,  5.1877e-03],\n",
       "           [ 1.7790e-02, -3.6428e-02,  5.9384e-02,  ...,  2.6447e-02,\n",
       "             3.9033e-02, -2.5246e-02]],\n",
       " \n",
       "          [[-8.0955e-03,  1.0847e-03,  3.0884e-03,  ..., -3.4148e-03,\n",
       "             1.0034e-02, -3.3358e-03],\n",
       "           [-8.6211e-03, -1.7732e-02, -2.0189e-03,  ..., -2.9141e-02,\n",
       "             5.7258e-04,  3.5196e-02],\n",
       "           [-3.3527e-03, -1.5208e-02, -4.3433e-02,  ...,  7.7095e-03,\n",
       "             3.9236e-02,  1.1575e-02],\n",
       "           ...,\n",
       "           [-3.4514e-02,  2.4989e-03,  5.1829e-02,  ...,  1.7686e-02,\n",
       "            -6.0662e-02,  8.7833e-04],\n",
       "           [-5.9005e-02, -1.6567e-02, -2.0015e-02,  ..., -2.7479e-03,\n",
       "            -1.1121e-02, -1.4509e-02],\n",
       "           [ 3.6685e-02, -4.3910e-02, -1.4084e-03,  ..., -3.0589e-02,\n",
       "             5.3696e-03, -1.9946e-03]]],\n",
       " \n",
       " \n",
       "         [[[ 1.8772e-03, -2.6231e-02,  7.6239e-03,  ...,  6.6111e-03,\n",
       "            -4.6369e-03, -3.4641e-03],\n",
       "           [ 2.4801e-02,  1.7683e-02,  7.1712e-03,  ..., -9.5802e-03,\n",
       "             2.4678e-02,  4.1398e-03],\n",
       "           [-2.3140e-02,  1.8990e-03,  1.5127e-02,  ...,  3.0766e-02,\n",
       "            -1.4921e-03,  6.1311e-03],\n",
       "           ...,\n",
       "           [ 1.2508e-03,  1.2968e-02,  3.0633e-02,  ...,  1.6495e-02,\n",
       "            -1.7941e-04, -3.1760e-02],\n",
       "           [ 5.6667e-03,  5.1587e-03, -3.4195e-02,  ...,  5.0742e-03,\n",
       "             2.7993e-02, -6.3666e-04],\n",
       "           [ 1.3210e-02, -5.9397e-03,  4.1750e-03,  ..., -1.9564e-02,\n",
       "            -1.1711e-02, -4.3856e-03]],\n",
       " \n",
       "          [[ 9.1869e-03,  2.8981e-02,  2.6760e-02,  ..., -2.7013e-02,\n",
       "             5.2477e-02, -1.1975e-02],\n",
       "           [-3.5081e-03, -2.0093e-02,  2.6530e-02,  ...,  1.8487e-02,\n",
       "             1.8317e-02,  3.1135e-03],\n",
       "           [-1.4589e-02,  6.5370e-03, -4.7266e-03,  ...,  6.9007e-03,\n",
       "            -1.5129e-03,  6.4948e-02],\n",
       "           ...,\n",
       "           [-1.1500e-02, -1.4692e-03, -2.6529e-03,  ...,  2.7328e-02,\n",
       "             3.3645e-02,  3.7568e-03],\n",
       "           [ 1.5490e-02,  3.1126e-02, -9.1549e-02,  ...,  2.0037e-02,\n",
       "             2.5046e-02, -1.3540e-02],\n",
       "           [-4.8468e-02,  1.2275e-02, -3.9395e-04,  ...,  3.5741e-02,\n",
       "            -4.0512e-02, -3.3220e-02]],\n",
       " \n",
       "          [[ 4.3138e-02,  2.2861e-02,  5.9989e-03,  ...,  2.3987e-02,\n",
       "            -7.4014e-03,  1.6741e-02],\n",
       "           [ 1.0201e-03,  1.6054e-02,  2.6016e-02,  ..., -3.3257e-03,\n",
       "            -1.9632e-02,  4.0520e-02],\n",
       "           [ 2.8097e-02, -1.7307e-02,  4.5012e-02,  ..., -2.4892e-02,\n",
       "             1.7070e-02, -4.4817e-02],\n",
       "           ...,\n",
       "           [-9.7950e-03,  2.4517e-02,  3.3202e-02,  ..., -2.1206e-02,\n",
       "             2.8450e-02, -1.9801e-03],\n",
       "           [ 8.3111e-03, -3.4936e-02, -1.7164e-02,  ..., -1.0888e-02,\n",
       "             2.6324e-02,  3.3039e-02],\n",
       "           [-1.9098e-02,  2.1675e-02, -4.6279e-02,  ..., -9.8096e-03,\n",
       "            -2.1443e-02,  9.9303e-03]]],\n",
       " \n",
       " \n",
       "         ...,\n",
       " \n",
       " \n",
       "         [[[-1.8791e-02, -1.8431e-02,  1.4144e-02,  ..., -3.9477e-02,\n",
       "            -1.5085e-02, -4.8478e-03],\n",
       "           [-2.1571e-02,  3.4084e-02, -4.1832e-02,  ..., -2.5747e-02,\n",
       "             3.1161e-02,  2.6979e-02],\n",
       "           [-3.2340e-02,  2.9384e-02, -5.4543e-02,  ..., -1.7783e-02,\n",
       "            -5.9266e-03, -8.2473e-04],\n",
       "           ...,\n",
       "           [ 1.6922e-02,  5.8023e-02, -7.9355e-03,  ...,  1.1227e-02,\n",
       "            -7.9915e-03,  2.8259e-02],\n",
       "           [ 1.7643e-02,  2.1653e-02, -3.1129e-02,  ...,  1.9044e-03,\n",
       "            -7.0871e-03, -1.5931e-02],\n",
       "           [-3.8474e-02,  8.1356e-03,  5.6249e-03,  ...,  2.5195e-02,\n",
       "            -2.6828e-02,  1.0006e-02]],\n",
       " \n",
       "          [[-1.2515e-02,  3.9503e-02,  3.6943e-02,  ..., -2.0068e-02,\n",
       "             2.2137e-02, -2.6407e-03],\n",
       "           [-3.8436e-03,  2.7468e-03, -3.5493e-02,  ...,  9.2451e-03,\n",
       "             9.9395e-03,  3.1119e-02],\n",
       "           [ 1.7049e-02,  2.2377e-03, -1.9272e-02,  ..., -4.6448e-03,\n",
       "             2.4458e-02, -3.8121e-04],\n",
       "           ...,\n",
       "           [ 1.2198e-03,  1.7323e-02, -6.5335e-02,  ...,  3.2662e-02,\n",
       "             2.6220e-02, -2.3004e-02],\n",
       "           [-5.4559e-03,  5.1702e-03,  1.1979e-02,  ..., -5.0570e-02,\n",
       "             9.9151e-03,  3.8207e-02],\n",
       "           [ 1.4592e-02,  1.3927e-02,  2.8218e-02,  ..., -4.5328e-02,\n",
       "             1.8884e-02, -2.0790e-02]],\n",
       " \n",
       "          [[ 3.3115e-02,  2.2986e-02, -1.7962e-02,  ...,  3.5953e-02,\n",
       "             4.9489e-02, -6.2914e-03],\n",
       "           [-6.9795e-03,  1.2689e-03,  2.3681e-03,  ...,  3.4968e-03,\n",
       "            -5.2862e-02,  2.4499e-02],\n",
       "           [ 4.3100e-02,  2.9264e-02, -6.9775e-03,  ...,  1.2138e-02,\n",
       "            -1.0193e-02, -1.7091e-02],\n",
       "           ...,\n",
       "           [-2.8128e-02, -4.5592e-02, -2.6298e-03,  ..., -1.5391e-02,\n",
       "             3.9775e-02,  8.9959e-03],\n",
       "           [ 1.8064e-02,  2.3651e-02,  1.7281e-03,  ..., -3.6751e-03,\n",
       "             2.6232e-02, -9.3825e-03],\n",
       "           [ 1.9595e-03, -8.2277e-03,  1.5256e-02,  ..., -1.0016e-02,\n",
       "             4.8652e-02,  1.4161e-02]]],\n",
       " \n",
       " \n",
       "         [[[-6.4558e-02, -1.0046e-02,  3.2931e-02,  ..., -3.8711e-03,\n",
       "            -1.0968e-02, -6.5480e-03],\n",
       "           [-7.8440e-03, -2.0789e-02, -3.5152e-02,  ..., -5.2283e-02,\n",
       "             3.1182e-02,  5.9457e-03],\n",
       "           [ 2.6045e-03,  4.0203e-03,  1.3246e-02,  ..., -2.9647e-02,\n",
       "             8.7887e-03,  1.3522e-02],\n",
       "           ...,\n",
       "           [ 7.1090e-03,  2.3087e-02, -2.3120e-02,  ..., -8.5872e-03,\n",
       "            -2.9149e-02,  1.2141e-02],\n",
       "           [-3.3287e-02, -2.5420e-02, -1.7510e-02,  ...,  1.8012e-04,\n",
       "             4.0596e-02, -2.0401e-03],\n",
       "           [ 2.1526e-02,  1.0918e-02,  5.1472e-03,  ..., -2.9902e-02,\n",
       "            -1.1728e-02,  1.2929e-02]],\n",
       " \n",
       "          [[-3.6583e-04, -1.2530e-02, -1.4415e-02,  ..., -3.0490e-03,\n",
       "             3.0125e-02, -3.6152e-02],\n",
       "           [-5.2010e-03,  6.2026e-04,  3.9716e-02,  ...,  1.1209e-02,\n",
       "            -2.3446e-03, -2.4058e-02],\n",
       "           [-3.7678e-02,  2.5851e-02, -2.8771e-02,  ...,  3.1052e-02,\n",
       "            -1.4094e-03,  5.8950e-02],\n",
       "           ...,\n",
       "           [-2.2415e-02,  5.4544e-02, -4.2142e-02,  ..., -2.9232e-02,\n",
       "             1.8980e-02, -3.1612e-03],\n",
       "           [-8.1563e-03,  3.3723e-02,  1.0426e-02,  ..., -3.4324e-03,\n",
       "            -2.0598e-03, -2.7482e-02],\n",
       "           [-3.1684e-02,  2.4832e-02, -2.0877e-02,  ..., -5.1160e-04,\n",
       "            -3.6198e-03, -5.1670e-03]],\n",
       " \n",
       "          [[-1.5458e-02, -4.5160e-02,  1.7218e-02,  ...,  2.0424e-02,\n",
       "             2.0335e-02, -4.3051e-04],\n",
       "           [-4.7684e-02,  3.1146e-02, -1.0465e-02,  ..., -1.2664e-02,\n",
       "            -2.9979e-03, -8.2994e-03],\n",
       "           [-2.1984e-02, -3.4720e-03, -3.1291e-02,  ..., -4.2844e-02,\n",
       "            -7.3327e-03,  1.8856e-02],\n",
       "           ...,\n",
       "           [ 1.2692e-03,  5.7369e-02, -2.7579e-03,  ...,  3.6479e-04,\n",
       "            -3.2375e-02, -1.3309e-02],\n",
       "           [ 3.2629e-02, -8.3742e-03, -4.4355e-03,  ..., -2.7269e-02,\n",
       "            -3.6702e-02,  3.8970e-02],\n",
       "           [ 3.2419e-02, -2.3276e-02, -4.0906e-02,  ..., -4.4689e-02,\n",
       "            -3.3903e-02,  9.1143e-03]]],\n",
       " \n",
       " \n",
       "         [[[-4.6888e-03,  1.4347e-02,  1.4815e-02,  ..., -3.0122e-02,\n",
       "            -2.3081e-02, -2.1049e-02],\n",
       "           [ 3.6358e-02, -1.6572e-02,  8.3940e-03,  ...,  2.3609e-03,\n",
       "             3.0884e-03,  9.8178e-03],\n",
       "           [-1.1282e-02, -9.5033e-03, -1.5916e-02,  ...,  3.6546e-02,\n",
       "             1.5110e-02,  4.0732e-02],\n",
       "           ...,\n",
       "           [ 3.6254e-02, -4.3838e-02, -2.6006e-03,  ..., -1.1399e-02,\n",
       "            -4.3220e-03, -1.4631e-02],\n",
       "           [ 1.8217e-02, -1.3076e-02,  2.2417e-02,  ..., -1.9862e-02,\n",
       "            -3.5284e-02, -2.4299e-02],\n",
       "           [-1.1433e-02,  3.5752e-02, -2.1712e-02,  ..., -1.7950e-02,\n",
       "            -1.9170e-02,  9.5571e-03]],\n",
       " \n",
       "          [[-4.0704e-02,  1.6331e-03,  4.8519e-02,  ..., -1.0759e-02,\n",
       "            -9.5108e-03, -5.3823e-03],\n",
       "           [-1.6251e-02,  4.1876e-02, -5.1652e-03,  ...,  9.4726e-03,\n",
       "            -6.9760e-03, -3.0694e-03],\n",
       "           [ 8.2365e-03,  3.4978e-02,  3.2147e-02,  ...,  7.1670e-03,\n",
       "            -2.7375e-02,  2.4638e-02],\n",
       "           ...,\n",
       "           [-4.8406e-02,  3.5682e-02,  2.2509e-02,  ..., -2.9710e-02,\n",
       "            -3.3233e-03,  5.7493e-04],\n",
       "           [-1.8462e-02,  1.8453e-02, -1.0416e-02,  ...,  1.8849e-02,\n",
       "             2.5654e-02, -9.9316e-03],\n",
       "           [-2.3521e-02, -1.3829e-02,  3.4470e-02,  ..., -1.7128e-02,\n",
       "             2.3125e-03, -2.4507e-02]],\n",
       " \n",
       "          [[-1.8170e-02,  2.0746e-02, -2.9399e-02,  ..., -1.5735e-02,\n",
       "            -2.3301e-02, -2.2847e-02],\n",
       "           [ 1.6103e-02, -3.5205e-02,  4.0094e-02,  ..., -3.2576e-02,\n",
       "             1.7169e-03,  4.0652e-03],\n",
       "           [ 4.9430e-02, -4.1826e-03,  2.5146e-02,  ..., -1.2172e-02,\n",
       "            -2.6065e-02,  1.2530e-03],\n",
       "           ...,\n",
       "           [ 5.6588e-02, -2.1371e-02, -1.0104e-02,  ...,  1.6917e-02,\n",
       "            -6.6943e-03, -3.8116e-02],\n",
       "           [-3.7357e-04, -4.3985e-02, -2.6023e-03,  ..., -8.5672e-03,\n",
       "             3.5160e-02,  4.7573e-02],\n",
       "           [-1.0872e-02, -5.5420e-02,  3.5889e-02,  ..., -3.0424e-02,\n",
       "            -4.1287e-02,  1.9611e-02]]]], requires_grad=True),\n",
       " Parameter containing:\n",
       " tensor([1., 1., 1., 1., 1., 1., 1., 1., 1., 1., 1., 1., 1., 1., 1., 1., 1., 1.,\n",
       "         1., 1., 1., 1., 1., 1., 1., 1., 1., 1., 1., 1., 1., 1., 1., 1., 1., 1.,\n",
       "         1., 1., 1., 1., 1., 1., 1., 1., 1., 1., 1., 1., 1., 1., 1., 1., 1., 1.,\n",
       "         1., 1., 1., 1., 1., 1., 1., 1., 1., 1.], requires_grad=True),\n",
       " Parameter containing:\n",
       " tensor([0., 0., 0., 0., 0., 0., 0., 0., 0., 0., 0., 0., 0., 0., 0., 0., 0., 0., 0., 0., 0., 0., 0., 0.,\n",
       "         0., 0., 0., 0., 0., 0., 0., 0., 0., 0., 0., 0., 0., 0., 0., 0., 0., 0., 0., 0., 0., 0., 0., 0.,\n",
       "         0., 0., 0., 0., 0., 0., 0., 0., 0., 0., 0., 0., 0., 0., 0., 0.],\n",
       "        requires_grad=True),\n",
       " Parameter containing:\n",
       " tensor([[[[-8.2119e-02, -4.5156e-02, -6.3024e-02],\n",
       "           [ 4.0119e-02,  3.2160e-02,  5.6463e-02],\n",
       "           [ 5.5972e-02,  1.9784e-02,  5.6263e-02]],\n",
       " \n",
       "          [[ 1.4982e-02,  3.1048e-02, -6.0915e-02],\n",
       "           [ 4.1610e-02, -5.1380e-02, -4.4494e-02],\n",
       "           [ 6.3995e-03, -3.3164e-02, -5.5918e-02]],\n",
       " \n",
       "          [[ 1.5085e-02,  5.1366e-02, -8.9909e-03],\n",
       "           [-3.0203e-02, -1.5715e-02, -1.1944e-01],\n",
       "           [ 4.2178e-02,  1.1887e-01,  1.6073e-02]],\n",
       " \n",
       "          ...,\n",
       " \n",
       "          [[ 1.4075e-02,  1.2617e-02, -1.0198e-01],\n",
       "           [-1.3500e-01,  1.7418e-03, -4.4283e-02],\n",
       "           [-3.6595e-02,  1.0160e-01,  2.9763e-02]],\n",
       " \n",
       "          [[-5.0175e-02,  1.2564e-02, -2.6064e-02],\n",
       "           [-1.6076e-02, -5.7640e-02,  1.3142e-04],\n",
       "           [ 8.6115e-02, -3.3900e-02, -4.0882e-03]],\n",
       " \n",
       "          [[ 6.8193e-02, -2.9750e-02, -8.0531e-03],\n",
       "           [ 1.4231e-02, -1.4944e-02, -9.0593e-02],\n",
       "           [-5.3817e-03, -4.4831e-03, -1.5963e-02]]],\n",
       " \n",
       " \n",
       "         [[[ 2.5894e-02, -1.2960e-01, -5.4443e-02],\n",
       "           [-7.9300e-02, -1.0954e-01,  7.5564e-02],\n",
       "           [-9.8524e-03, -9.8897e-03,  1.0964e-01]],\n",
       " \n",
       "          [[ 2.1650e-02, -1.6089e-02,  1.0277e-01],\n",
       "           [-8.2739e-02, -1.3886e-01, -8.0769e-02],\n",
       "           [-6.8027e-02,  9.3665e-02, -2.5375e-02]],\n",
       " \n",
       "          [[-4.0841e-02, -5.3540e-02,  3.8006e-02],\n",
       "           [-1.1021e-02, -2.0378e-02, -4.7562e-02],\n",
       "           [-1.0004e-01, -2.0199e-02, -4.0788e-02]],\n",
       " \n",
       "          ...,\n",
       " \n",
       "          [[ 8.9458e-02,  3.2465e-03,  6.2461e-02],\n",
       "           [ 1.0919e-01,  6.3293e-02,  2.7544e-02],\n",
       "           [-1.1978e-02, -9.6000e-03,  9.7873e-02]],\n",
       " \n",
       "          [[ 4.2843e-02,  1.9098e-02,  3.0184e-02],\n",
       "           [-1.5504e-02, -3.0824e-02, -2.4434e-03],\n",
       "           [ 2.8189e-03,  2.4926e-02,  4.7386e-02]],\n",
       " \n",
       "          [[ 1.1849e-02,  8.0808e-02,  2.7242e-02],\n",
       "           [ 1.8196e-02,  2.3052e-02, -2.6213e-02],\n",
       "           [ 4.4001e-02,  7.3323e-02, -1.1202e-01]]],\n",
       " \n",
       " \n",
       "         [[[ 1.1940e-01,  6.5472e-02,  6.2131e-02],\n",
       "           [ 3.5965e-02, -1.3205e-01,  1.0198e-02],\n",
       "           [-5.9282e-02, -3.2353e-02, -8.3087e-02]],\n",
       " \n",
       "          [[-2.6894e-02,  5.1825e-03,  1.8050e-02],\n",
       "           [-5.6479e-02, -4.8384e-02,  2.9692e-02],\n",
       "           [-1.1690e-01,  3.4903e-02,  1.2945e-01]],\n",
       " \n",
       "          [[ 3.8214e-02, -2.1212e-02, -5.8797e-02],\n",
       "           [ 1.9564e-03,  5.7665e-02,  1.9883e-02],\n",
       "           [-2.6168e-02, -9.9224e-03, -9.2868e-02]],\n",
       " \n",
       "          ...,\n",
       " \n",
       "          [[ 4.4971e-02, -4.6046e-02,  7.9834e-03],\n",
       "           [ 9.8695e-03, -3.7218e-02, -4.4449e-02],\n",
       "           [-1.2024e-01, -4.1180e-03, -5.3223e-02]],\n",
       " \n",
       "          [[-7.1920e-03,  1.7171e-01, -3.8328e-03],\n",
       "           [-2.3350e-02,  3.7848e-03, -1.3497e-05],\n",
       "           [ 3.9091e-02, -3.8398e-02,  1.0767e-02]],\n",
       " \n",
       "          [[ 6.4438e-02,  8.3724e-02,  8.7577e-02],\n",
       "           [ 1.3082e-02,  1.0946e-01, -8.1760e-04],\n",
       "           [-2.5385e-02,  1.4214e-01, -3.0828e-02]]],\n",
       " \n",
       " \n",
       "         ...,\n",
       " \n",
       " \n",
       "         [[[-8.1784e-04, -5.0614e-02,  6.9812e-02],\n",
       "           [ 4.2221e-02, -4.6855e-02, -3.2726e-02],\n",
       "           [ 1.1033e-01,  9.0676e-03, -2.0446e-02]],\n",
       " \n",
       "          [[-7.8635e-02,  5.4895e-02, -3.5384e-02],\n",
       "           [-3.7508e-02,  3.5973e-02,  1.0117e-01],\n",
       "           [-4.4953e-02,  2.4087e-03,  5.0038e-02]],\n",
       " \n",
       "          [[-9.0717e-02,  5.8103e-02, -5.6908e-02],\n",
       "           [-6.6539e-02, -1.5285e-02, -1.1464e-02],\n",
       "           [-1.5464e-02, -1.4150e-02, -1.7504e-02]],\n",
       " \n",
       "          ...,\n",
       " \n",
       "          [[-4.6863e-02, -7.9167e-04, -5.4220e-03],\n",
       "           [-6.7547e-02,  6.7137e-03,  8.7968e-04],\n",
       "           [ 1.3871e-02,  4.7410e-02, -3.3205e-03]],\n",
       " \n",
       "          [[ 1.0565e-02,  1.0814e-01,  3.1542e-02],\n",
       "           [ 6.0629e-02, -3.3373e-02,  4.5690e-02],\n",
       "           [-3.0025e-02,  2.1350e-02,  6.3337e-02]],\n",
       " \n",
       "          [[-1.7740e-02,  1.0145e-01, -4.1211e-02],\n",
       "           [ 8.5788e-02, -8.7328e-03, -5.1076e-02],\n",
       "           [ 7.2546e-02,  7.6519e-02, -4.6391e-02]]],\n",
       " \n",
       " \n",
       "         [[[ 3.7005e-02,  1.1330e-01, -1.4139e-01],\n",
       "           [-6.9390e-02,  6.2049e-02, -2.6920e-02],\n",
       "           [-3.0596e-02,  5.6404e-02, -6.5137e-02]],\n",
       " \n",
       "          [[-1.8839e-02,  2.6787e-03,  6.9071e-02],\n",
       "           [ 5.8861e-02,  6.8851e-02,  4.9451e-02],\n",
       "           [-1.2904e-02,  2.8427e-02, -3.0770e-02]],\n",
       " \n",
       "          [[ 8.8651e-02,  3.6499e-02,  1.1330e-02],\n",
       "           [-5.1281e-02,  4.1379e-02,  1.3727e-01],\n",
       "           [-7.7338e-02,  7.1947e-02, -2.2567e-02]],\n",
       " \n",
       "          ...,\n",
       " \n",
       "          [[-1.1669e-02, -5.7416e-02, -9.1307e-02],\n",
       "           [-2.2227e-02,  1.3995e-01, -4.5429e-02],\n",
       "           [-5.1544e-02,  4.7757e-02, -6.2925e-02]],\n",
       " \n",
       "          [[ 2.4745e-02, -5.0270e-02,  7.1995e-02],\n",
       "           [ 7.0376e-02,  1.0873e-02, -3.4409e-02],\n",
       "           [-3.3187e-02,  3.2689e-02,  6.8067e-02]],\n",
       " \n",
       "          [[ 4.0975e-02,  7.9891e-03, -1.5890e-02],\n",
       "           [-1.2172e-03,  8.4333e-02,  6.2606e-02],\n",
       "           [-6.6630e-03, -3.9867e-02,  3.8926e-02]]],\n",
       " \n",
       " \n",
       "         [[[-4.7656e-03, -1.9394e-01, -2.7334e-02],\n",
       "           [-1.2360e-01, -7.2479e-02,  8.4538e-02],\n",
       "           [ 6.3017e-02, -2.4708e-02, -1.4966e-02]],\n",
       " \n",
       "          [[-3.0345e-02,  3.2165e-04, -8.2076e-02],\n",
       "           [ 8.8030e-02, -2.4935e-02, -3.2407e-02],\n",
       "           [-1.4000e-02,  1.5587e-02, -8.8697e-02]],\n",
       " \n",
       "          [[ 3.5813e-02,  7.8890e-02,  2.9361e-02],\n",
       "           [-3.4591e-02,  8.0821e-02,  2.1819e-02],\n",
       "           [ 3.3181e-02,  5.4686e-02,  5.7977e-02]],\n",
       " \n",
       "          ...,\n",
       " \n",
       "          [[-1.3306e-01,  6.3762e-02, -7.9172e-02],\n",
       "           [-8.6003e-02, -2.1517e-02, -4.9423e-03],\n",
       "           [ 8.0221e-02,  1.8589e-02, -8.3545e-02]],\n",
       " \n",
       "          [[-9.3729e-03,  5.4123e-02,  7.0869e-02],\n",
       "           [-1.3596e-01, -1.3727e-01, -5.9744e-02],\n",
       "           [ 8.8688e-02,  8.1325e-02, -7.8345e-03]],\n",
       " \n",
       "          [[-1.3135e-01,  5.0005e-02, -4.1445e-02],\n",
       "           [-5.4583e-02,  3.0863e-02,  1.0594e-03],\n",
       "           [-9.3984e-02,  6.8511e-02, -8.9488e-02]]]], requires_grad=True),\n",
       " Parameter containing:\n",
       " tensor([1., 1., 1., 1., 1., 1., 1., 1., 1., 1., 1., 1., 1., 1., 1., 1., 1., 1.,\n",
       "         1., 1., 1., 1., 1., 1., 1., 1., 1., 1., 1., 1., 1., 1., 1., 1., 1., 1.,\n",
       "         1., 1., 1., 1., 1., 1., 1., 1., 1., 1., 1., 1., 1., 1., 1., 1., 1., 1.,\n",
       "         1., 1., 1., 1., 1., 1., 1., 1., 1., 1.], requires_grad=True),\n",
       " Parameter containing:\n",
       " tensor([0., 0., 0., 0., 0., 0., 0., 0., 0., 0., 0., 0., 0., 0., 0., 0., 0., 0., 0., 0., 0., 0., 0., 0.,\n",
       "         0., 0., 0., 0., 0., 0., 0., 0., 0., 0., 0., 0., 0., 0., 0., 0., 0., 0., 0., 0., 0., 0., 0., 0.,\n",
       "         0., 0., 0., 0., 0., 0., 0., 0., 0., 0., 0., 0., 0., 0., 0., 0.],\n",
       "        requires_grad=True),\n",
       " Parameter containing:\n",
       " tensor([[[[ 0.1108, -0.0050,  0.0351],\n",
       "           [-0.0139, -0.0181,  0.0902],\n",
       "           [-0.0463,  0.0504, -0.0648]],\n",
       " \n",
       "          [[ 0.0790, -0.1143,  0.0641],\n",
       "           [ 0.0586, -0.0022,  0.1002],\n",
       "           [-0.0535, -0.0360,  0.0735]],\n",
       " \n",
       "          [[-0.0830, -0.0197, -0.0810],\n",
       "           [-0.0228,  0.1102,  0.0755],\n",
       "           [-0.0747,  0.0879, -0.0061]],\n",
       " \n",
       "          ...,\n",
       " \n",
       "          [[ 0.0448,  0.1376,  0.0571],\n",
       "           [ 0.0564, -0.0740, -0.0680],\n",
       "           [-0.0341,  0.0333, -0.0071]],\n",
       " \n",
       "          [[ 0.0190, -0.0843,  0.0057],\n",
       "           [ 0.0233,  0.0927,  0.0522],\n",
       "           [-0.0713, -0.0014, -0.0277]],\n",
       " \n",
       "          [[-0.0354, -0.0080, -0.0415],\n",
       "           [ 0.0821,  0.0054,  0.0598],\n",
       "           [ 0.0592, -0.0424, -0.0739]]],\n",
       " \n",
       " \n",
       "         [[[-0.0790,  0.0140,  0.0035],\n",
       "           [ 0.0763, -0.1357, -0.0497],\n",
       "           [ 0.0039, -0.0194, -0.1215]],\n",
       " \n",
       "          [[ 0.0805, -0.0773,  0.0830],\n",
       "           [ 0.0047,  0.0762, -0.0216],\n",
       "           [ 0.0311,  0.0142, -0.0151]],\n",
       " \n",
       "          [[-0.0692, -0.0185,  0.1530],\n",
       "           [-0.0184, -0.0014, -0.0566],\n",
       "           [-0.0673, -0.0186, -0.0409]],\n",
       " \n",
       "          ...,\n",
       " \n",
       "          [[ 0.0163, -0.0255,  0.0380],\n",
       "           [-0.0299,  0.0128,  0.1182],\n",
       "           [-0.1193, -0.0199,  0.1057]],\n",
       " \n",
       "          [[-0.0864,  0.0758,  0.0134],\n",
       "           [ 0.0397,  0.0963, -0.0821],\n",
       "           [ 0.1061,  0.0179,  0.1102]],\n",
       " \n",
       "          [[-0.0505, -0.0136,  0.0537],\n",
       "           [ 0.0010,  0.0230,  0.0096],\n",
       "           [-0.0213,  0.0760,  0.0146]]],\n",
       " \n",
       " \n",
       "         [[[-0.0213, -0.0752,  0.0397],\n",
       "           [ 0.0690,  0.0716, -0.0296],\n",
       "           [-0.0178, -0.0230,  0.0804]],\n",
       " \n",
       "          [[ 0.1180, -0.0231,  0.0635],\n",
       "           [-0.0929,  0.0006,  0.0336],\n",
       "           [ 0.0117,  0.0515,  0.0109]],\n",
       " \n",
       "          [[ 0.0096, -0.1171, -0.0332],\n",
       "           [-0.0440,  0.0273,  0.0333],\n",
       "           [-0.0266,  0.0014,  0.0211]],\n",
       " \n",
       "          ...,\n",
       " \n",
       "          [[-0.0567,  0.1770,  0.0083],\n",
       "           [-0.0467, -0.0052,  0.0606],\n",
       "           [-0.0268,  0.0419,  0.0887]],\n",
       " \n",
       "          [[ 0.0644, -0.0094, -0.0193],\n",
       "           [-0.1236,  0.0310,  0.0224],\n",
       "           [-0.1190,  0.0020, -0.0354]],\n",
       " \n",
       "          [[-0.0456,  0.0400,  0.0243],\n",
       "           [-0.0048, -0.0745,  0.0123],\n",
       "           [ 0.0047, -0.1058,  0.0637]]],\n",
       " \n",
       " \n",
       "         ...,\n",
       " \n",
       " \n",
       "         [[[ 0.0672, -0.0393,  0.0347],\n",
       "           [-0.0114,  0.0190, -0.0329],\n",
       "           [ 0.0862, -0.0433,  0.0024]],\n",
       " \n",
       "          [[ 0.0781,  0.0171, -0.0233],\n",
       "           [ 0.0077,  0.0641, -0.0302],\n",
       "           [ 0.0175, -0.1042,  0.0466]],\n",
       " \n",
       "          [[-0.0359, -0.1202,  0.0625],\n",
       "           [ 0.0291, -0.0156,  0.1085],\n",
       "           [-0.0327,  0.0793, -0.0212]],\n",
       " \n",
       "          ...,\n",
       " \n",
       "          [[-0.0148, -0.0009,  0.1318],\n",
       "           [ 0.0410, -0.0626,  0.0927],\n",
       "           [ 0.0231,  0.0595, -0.0274]],\n",
       " \n",
       "          [[ 0.0109, -0.0155, -0.0742],\n",
       "           [-0.0165, -0.0219,  0.0520],\n",
       "           [ 0.0666,  0.0627,  0.1023]],\n",
       " \n",
       "          [[-0.0097, -0.0085,  0.0720],\n",
       "           [-0.0102, -0.0711,  0.0860],\n",
       "           [-0.0552,  0.0470, -0.0446]]],\n",
       " \n",
       " \n",
       "         [[[-0.1250, -0.0050, -0.0342],\n",
       "           [ 0.1207, -0.0143,  0.1859],\n",
       "           [ 0.1390, -0.0268, -0.0353]],\n",
       " \n",
       "          [[ 0.0425, -0.1063, -0.0428],\n",
       "           [-0.0139,  0.0252, -0.0018],\n",
       "           [-0.1082, -0.0439, -0.0523]],\n",
       " \n",
       "          [[-0.0126, -0.0190,  0.0312],\n",
       "           [-0.1339,  0.0392,  0.0494],\n",
       "           [ 0.0458,  0.0112,  0.0824]],\n",
       " \n",
       "          ...,\n",
       " \n",
       "          [[ 0.0127,  0.0289, -0.0349],\n",
       "           [ 0.0862, -0.0243,  0.0463],\n",
       "           [ 0.0801,  0.0110, -0.0371]],\n",
       " \n",
       "          [[-0.0293, -0.0373, -0.1089],\n",
       "           [ 0.0284, -0.0819,  0.0252],\n",
       "           [ 0.0440, -0.2168, -0.0118]],\n",
       " \n",
       "          [[-0.0189,  0.0004,  0.0412],\n",
       "           [ 0.0725,  0.0231,  0.0302],\n",
       "           [ 0.0486,  0.0234,  0.0372]]],\n",
       " \n",
       " \n",
       "         [[[ 0.0623, -0.0064,  0.0040],\n",
       "           [-0.0174,  0.0104, -0.0762],\n",
       "           [ 0.0057, -0.0533, -0.0446]],\n",
       " \n",
       "          [[-0.0209,  0.0901,  0.0179],\n",
       "           [ 0.0218,  0.0200,  0.0873],\n",
       "           [ 0.0180, -0.0738,  0.0640]],\n",
       " \n",
       "          [[ 0.0275, -0.0176,  0.1174],\n",
       "           [-0.0083,  0.0207,  0.0507],\n",
       "           [-0.1079, -0.0401,  0.0951]],\n",
       " \n",
       "          ...,\n",
       " \n",
       "          [[ 0.0275,  0.0059,  0.0175],\n",
       "           [ 0.0828, -0.0116, -0.0352],\n",
       "           [-0.1478, -0.0170, -0.1013]],\n",
       " \n",
       "          [[-0.0309, -0.0721, -0.0376],\n",
       "           [ 0.0066, -0.0147, -0.0555],\n",
       "           [ 0.0086, -0.0104, -0.0582]],\n",
       " \n",
       "          [[-0.0048, -0.0208,  0.0113],\n",
       "           [-0.0087, -0.0208, -0.0084],\n",
       "           [-0.0330,  0.0070,  0.1159]]]], requires_grad=True),\n",
       " Parameter containing:\n",
       " tensor([1., 1., 1., 1., 1., 1., 1., 1., 1., 1., 1., 1., 1., 1., 1., 1., 1., 1.,\n",
       "         1., 1., 1., 1., 1., 1., 1., 1., 1., 1., 1., 1., 1., 1., 1., 1., 1., 1.,\n",
       "         1., 1., 1., 1., 1., 1., 1., 1., 1., 1., 1., 1., 1., 1., 1., 1., 1., 1.,\n",
       "         1., 1., 1., 1., 1., 1., 1., 1., 1., 1.], requires_grad=True),\n",
       " Parameter containing:\n",
       " tensor([0., 0., 0., 0., 0., 0., 0., 0., 0., 0., 0., 0., 0., 0., 0., 0., 0., 0., 0., 0., 0., 0., 0., 0.,\n",
       "         0., 0., 0., 0., 0., 0., 0., 0., 0., 0., 0., 0., 0., 0., 0., 0., 0., 0., 0., 0., 0., 0., 0., 0.,\n",
       "         0., 0., 0., 0., 0., 0., 0., 0., 0., 0., 0., 0., 0., 0., 0., 0.],\n",
       "        requires_grad=True),\n",
       " Parameter containing:\n",
       " tensor([[[[-0.0306,  0.0565,  0.0363],\n",
       "           [-0.0264,  0.0157,  0.0875],\n",
       "           [-0.0208, -0.0404,  0.0613]],\n",
       " \n",
       "          [[-0.0220, -0.0014, -0.0777],\n",
       "           [ 0.0165,  0.0788,  0.0358],\n",
       "           [-0.0347, -0.0169,  0.0924]],\n",
       " \n",
       "          [[ 0.0511, -0.0714, -0.0744],\n",
       "           [-0.0174, -0.0055,  0.0211],\n",
       "           [ 0.0866,  0.1639, -0.0128]],\n",
       " \n",
       "          ...,\n",
       " \n",
       "          [[-0.0323,  0.0052, -0.0013],\n",
       "           [-0.0438,  0.1190,  0.0057],\n",
       "           [ 0.0576, -0.0473,  0.0663]],\n",
       " \n",
       "          [[ 0.0095,  0.0638, -0.0616],\n",
       "           [ 0.0041, -0.0465,  0.0045],\n",
       "           [-0.0791,  0.0815,  0.0542]],\n",
       " \n",
       "          [[ 0.0520, -0.0366,  0.0623],\n",
       "           [ 0.0044, -0.0056,  0.0258],\n",
       "           [ 0.0884, -0.0611,  0.0105]]],\n",
       " \n",
       " \n",
       "         [[[ 0.0016, -0.0880, -0.0372],\n",
       "           [ 0.0365, -0.0187, -0.0561],\n",
       "           [-0.0386, -0.0740,  0.0021]],\n",
       " \n",
       "          [[ 0.0165, -0.0350, -0.0153],\n",
       "           [ 0.0005, -0.0126,  0.0415],\n",
       "           [-0.0052,  0.0268, -0.0082]],\n",
       " \n",
       "          [[ 0.0390,  0.0634,  0.0773],\n",
       "           [ 0.0323,  0.0015, -0.0114],\n",
       "           [ 0.0197, -0.0808, -0.0155]],\n",
       " \n",
       "          ...,\n",
       " \n",
       "          [[-0.0263, -0.0748,  0.0122],\n",
       "           [-0.0490, -0.0794,  0.0271],\n",
       "           [-0.0261,  0.1094,  0.0101]],\n",
       " \n",
       "          [[ 0.0403,  0.0830,  0.0065],\n",
       "           [ 0.0189,  0.0102, -0.0582],\n",
       "           [ 0.0536,  0.0275, -0.0231]],\n",
       " \n",
       "          [[ 0.0225, -0.0484, -0.0402],\n",
       "           [ 0.0106, -0.0898,  0.0104],\n",
       "           [ 0.0168,  0.1632,  0.0495]]],\n",
       " \n",
       " \n",
       "         [[[-0.0081,  0.0079, -0.0135],\n",
       "           [-0.1052,  0.0736,  0.0283],\n",
       "           [-0.0084, -0.1096,  0.0793]],\n",
       " \n",
       "          [[-0.0494,  0.1179, -0.0954],\n",
       "           [ 0.1069, -0.0093, -0.0849],\n",
       "           [ 0.0263, -0.0392,  0.0008]],\n",
       " \n",
       "          [[ 0.0047,  0.0700, -0.0229],\n",
       "           [-0.0056,  0.0120, -0.0170],\n",
       "           [-0.0216,  0.0564,  0.0419]],\n",
       " \n",
       "          ...,\n",
       " \n",
       "          [[-0.0528,  0.0101,  0.1591],\n",
       "           [ 0.0847, -0.0265,  0.0371],\n",
       "           [-0.0187, -0.0432, -0.0134]],\n",
       " \n",
       "          [[ 0.0898, -0.0838,  0.1116],\n",
       "           [-0.0569, -0.0007,  0.0294],\n",
       "           [-0.0054, -0.0114,  0.0504]],\n",
       " \n",
       "          [[-0.0039,  0.0612, -0.0028],\n",
       "           [-0.0689,  0.0217, -0.0230],\n",
       "           [-0.0326,  0.0352,  0.1503]]],\n",
       " \n",
       " \n",
       "         ...,\n",
       " \n",
       " \n",
       "         [[[ 0.0355,  0.0744,  0.0060],\n",
       "           [-0.0055, -0.0224,  0.0767],\n",
       "           [ 0.0510, -0.0388,  0.0061]],\n",
       " \n",
       "          [[ 0.0201,  0.0748, -0.0120],\n",
       "           [ 0.0056, -0.0575, -0.0305],\n",
       "           [-0.0078,  0.0210,  0.1250]],\n",
       " \n",
       "          [[-0.1198, -0.1026,  0.0205],\n",
       "           [ 0.0238,  0.0389, -0.0425],\n",
       "           [-0.0133,  0.0483, -0.0588]],\n",
       " \n",
       "          ...,\n",
       " \n",
       "          [[ 0.0045, -0.0003,  0.0856],\n",
       "           [-0.0251,  0.1190, -0.0069],\n",
       "           [ 0.0536,  0.0304, -0.1067]],\n",
       " \n",
       "          [[ 0.0337,  0.0535,  0.0415],\n",
       "           [-0.0143, -0.0115, -0.0159],\n",
       "           [-0.0134, -0.0631,  0.0497]],\n",
       " \n",
       "          [[ 0.0335,  0.0478,  0.0336],\n",
       "           [-0.0203, -0.0641, -0.0411],\n",
       "           [ 0.0094, -0.0310,  0.0136]]],\n",
       " \n",
       " \n",
       "         [[[-0.0223, -0.0404, -0.1081],\n",
       "           [ 0.0955,  0.0387, -0.0501],\n",
       "           [-0.0224, -0.0039, -0.0211]],\n",
       " \n",
       "          [[-0.0561, -0.0364,  0.0307],\n",
       "           [-0.0757,  0.0787, -0.0547],\n",
       "           [ 0.0336, -0.0809, -0.0537]],\n",
       " \n",
       "          [[-0.0833, -0.0209, -0.0404],\n",
       "           [-0.0169,  0.0017, -0.0530],\n",
       "           [-0.0434, -0.0132, -0.0230]],\n",
       " \n",
       "          ...,\n",
       " \n",
       "          [[ 0.0111, -0.0561,  0.0227],\n",
       "           [-0.0540,  0.0231,  0.0611],\n",
       "           [ 0.0975,  0.0125,  0.0223]],\n",
       " \n",
       "          [[-0.0378,  0.0080, -0.0228],\n",
       "           [ 0.0149,  0.0027,  0.0392],\n",
       "           [ 0.0545,  0.0723,  0.0203]],\n",
       " \n",
       "          [[ 0.0260, -0.1197,  0.0743],\n",
       "           [-0.1632, -0.0352, -0.0135],\n",
       "           [-0.0525, -0.0184,  0.0117]]],\n",
       " \n",
       " \n",
       "         [[[-0.0510,  0.0145, -0.0263],\n",
       "           [-0.0514,  0.0771,  0.0434],\n",
       "           [ 0.1600,  0.0322, -0.0028]],\n",
       " \n",
       "          [[-0.0539,  0.0687,  0.0421],\n",
       "           [-0.0598, -0.0549,  0.0573],\n",
       "           [-0.0546, -0.0587, -0.0113]],\n",
       " \n",
       "          [[ 0.0363, -0.0023,  0.0351],\n",
       "           [-0.0379, -0.1507,  0.0993],\n",
       "           [ 0.0828,  0.0188,  0.0239]],\n",
       " \n",
       "          ...,\n",
       " \n",
       "          [[ 0.0937, -0.0456, -0.0101],\n",
       "           [-0.0531, -0.0486, -0.0036],\n",
       "           [-0.0807,  0.0448, -0.0543]],\n",
       " \n",
       "          [[-0.1260, -0.0941,  0.0095],\n",
       "           [-0.0796,  0.1047,  0.0337],\n",
       "           [-0.0164, -0.0360, -0.0579]],\n",
       " \n",
       "          [[-0.0598, -0.0756,  0.0203],\n",
       "           [-0.0230, -0.0418, -0.0767],\n",
       "           [ 0.0092,  0.0681,  0.1245]]]], requires_grad=True),\n",
       " Parameter containing:\n",
       " tensor([1., 1., 1., 1., 1., 1., 1., 1., 1., 1., 1., 1., 1., 1., 1., 1., 1., 1.,\n",
       "         1., 1., 1., 1., 1., 1., 1., 1., 1., 1., 1., 1., 1., 1., 1., 1., 1., 1.,\n",
       "         1., 1., 1., 1., 1., 1., 1., 1., 1., 1., 1., 1., 1., 1., 1., 1., 1., 1.,\n",
       "         1., 1., 1., 1., 1., 1., 1., 1., 1., 1.], requires_grad=True),\n",
       " Parameter containing:\n",
       " tensor([0., 0., 0., 0., 0., 0., 0., 0., 0., 0., 0., 0., 0., 0., 0., 0., 0., 0., 0., 0., 0., 0., 0., 0.,\n",
       "         0., 0., 0., 0., 0., 0., 0., 0., 0., 0., 0., 0., 0., 0., 0., 0., 0., 0., 0., 0., 0., 0., 0., 0.,\n",
       "         0., 0., 0., 0., 0., 0., 0., 0., 0., 0., 0., 0., 0., 0., 0., 0.],\n",
       "        requires_grad=True),\n",
       " Parameter containing:\n",
       " tensor([[[[-4.7853e-02, -4.4743e-02, -4.6363e-02],\n",
       "           [ 3.0647e-02, -3.1624e-02, -6.5726e-02],\n",
       "           [-1.8055e-04,  7.6114e-03, -6.3109e-02]],\n",
       " \n",
       "          [[ 1.3277e-02,  5.5474e-02, -1.2835e-01],\n",
       "           [ 1.5288e-02,  8.1005e-02, -1.4230e-02],\n",
       "           [-7.2024e-02,  8.3122e-03, -1.4574e-02]],\n",
       " \n",
       "          [[-1.9478e-02, -1.7240e-02,  3.0486e-02],\n",
       "           [ 7.7452e-02,  8.1514e-02,  5.3976e-02],\n",
       "           [-6.0945e-02,  4.5427e-03,  4.5271e-02]],\n",
       " \n",
       "          ...,\n",
       " \n",
       "          [[ 2.8251e-02, -2.4384e-02, -3.0228e-02],\n",
       "           [ 6.5637e-02,  2.7880e-03,  4.0454e-02],\n",
       "           [-5.4081e-02,  1.2101e-02, -1.0011e-01]],\n",
       " \n",
       "          [[ 4.2075e-02,  1.4203e-02, -2.7469e-02],\n",
       "           [ 8.6718e-02, -2.5838e-02, -5.1561e-02],\n",
       "           [-9.3773e-02, -8.6670e-03,  6.4099e-02]],\n",
       " \n",
       "          [[-9.0445e-02, -1.7554e-02, -8.2733e-02],\n",
       "           [-4.5068e-02,  7.5208e-02, -8.5217e-02],\n",
       "           [ 9.4188e-02, -1.6262e-02, -1.1576e-01]]],\n",
       " \n",
       " \n",
       "         [[[ 7.3340e-02, -9.6585e-02,  3.9400e-02],\n",
       "           [-5.9249e-02,  1.6298e-02, -4.0706e-03],\n",
       "           [ 2.2221e-02,  1.0696e-01,  1.3977e-01]],\n",
       " \n",
       "          [[ 7.3333e-02,  1.1231e-01,  1.9378e-02],\n",
       "           [-7.8183e-02, -9.0495e-02,  1.6388e-02],\n",
       "           [ 1.0178e-01,  1.2853e-03, -1.0663e-01]],\n",
       " \n",
       "          [[-3.9763e-02,  4.6913e-03, -2.5157e-02],\n",
       "           [ 4.7175e-02, -1.6200e-02,  6.1080e-02],\n",
       "           [-7.1436e-02,  6.0780e-02,  5.3246e-02]],\n",
       " \n",
       "          ...,\n",
       " \n",
       "          [[-1.7888e-02,  5.0208e-02, -4.8215e-02],\n",
       "           [-3.3456e-02, -3.5642e-02,  5.2667e-02],\n",
       "           [ 1.0532e-01,  4.0552e-02,  2.0938e-02]],\n",
       " \n",
       "          [[-3.9847e-03,  3.9944e-02, -2.4737e-02],\n",
       "           [ 9.4895e-02,  4.9909e-02,  1.1544e-01],\n",
       "           [-1.3439e-01, -2.5453e-02,  1.0413e-01]],\n",
       " \n",
       "          [[-3.0606e-02,  4.5690e-02, -5.5258e-02],\n",
       "           [-2.4196e-02,  6.2506e-02, -4.5321e-02],\n",
       "           [ 3.0057e-02,  1.6130e-03, -8.0422e-02]]],\n",
       " \n",
       " \n",
       "         [[[ 7.6614e-02, -6.7740e-02,  5.2343e-02],\n",
       "           [ 2.7417e-02, -3.3493e-02, -5.9993e-02],\n",
       "           [-7.6553e-02, -6.7994e-03,  3.2034e-03]],\n",
       " \n",
       "          [[ 8.9479e-02,  4.9763e-02,  2.7507e-02],\n",
       "           [-7.7973e-02, -8.3932e-02, -5.9772e-02],\n",
       "           [ 3.0474e-02, -1.1619e-01, -8.4288e-02]],\n",
       " \n",
       "          [[-3.2485e-02,  1.9534e-02,  6.5261e-02],\n",
       "           [ 1.0926e-01, -4.2108e-02, -5.4654e-02],\n",
       "           [ 7.8583e-02,  9.5015e-03,  7.0479e-02]],\n",
       " \n",
       "          ...,\n",
       " \n",
       "          [[-1.0185e-01, -7.8695e-02, -2.6625e-02],\n",
       "           [-8.2609e-03,  5.6687e-02, -3.9340e-02],\n",
       "           [-1.5814e-01, -1.1597e-01, -5.0374e-02]],\n",
       " \n",
       "          [[-1.3052e-01, -5.1019e-02, -5.2375e-02],\n",
       "           [ 3.9045e-03, -1.7083e-01,  8.1626e-02],\n",
       "           [-7.7700e-02,  3.1171e-02,  8.9469e-05]],\n",
       " \n",
       "          [[ 2.1845e-02,  3.0833e-02, -7.1595e-02],\n",
       "           [ 1.3468e-01,  5.0935e-02, -1.0349e-01],\n",
       "           [ 3.8725e-02, -6.1558e-02, -1.2540e-02]]],\n",
       " \n",
       " \n",
       "         ...,\n",
       " \n",
       " \n",
       "         [[[-8.0819e-02, -1.0098e-02, -7.8758e-02],\n",
       "           [ 1.2580e-02,  5.7754e-02,  6.3618e-02],\n",
       "           [-7.5623e-03,  3.9898e-02,  4.4485e-02]],\n",
       " \n",
       "          [[ 7.0630e-02,  8.2767e-02, -5.7153e-02],\n",
       "           [-4.3423e-02, -9.0386e-02, -2.6169e-02],\n",
       "           [ 4.5088e-02,  9.4614e-03,  1.4400e-02]],\n",
       " \n",
       "          [[-8.7907e-02, -8.4494e-02,  7.1185e-02],\n",
       "           [ 1.0798e-01,  9.9967e-03,  1.4167e-02],\n",
       "           [ 7.1963e-02,  7.1579e-02,  5.1090e-02]],\n",
       " \n",
       "          ...,\n",
       " \n",
       "          [[-1.7389e-02,  3.6827e-02,  9.4781e-04],\n",
       "           [ 6.8958e-02,  3.7178e-02, -5.0538e-02],\n",
       "           [ 7.3407e-02, -8.8175e-02, -2.1211e-02]],\n",
       " \n",
       "          [[-5.0032e-02, -1.0455e-01,  5.2642e-03],\n",
       "           [-7.4507e-03, -4.6385e-02, -3.4491e-02],\n",
       "           [ 1.6434e-02,  3.9549e-02, -3.1401e-03]],\n",
       " \n",
       "          [[-9.9777e-02, -2.0637e-02,  3.0644e-02],\n",
       "           [-5.6354e-03,  5.9795e-02,  3.5760e-02],\n",
       "           [-3.6119e-02, -1.0992e-01, -9.3349e-02]]],\n",
       " \n",
       " \n",
       "         [[[ 4.3888e-02, -6.4690e-03,  2.3237e-02],\n",
       "           [-8.5438e-02, -7.9377e-03, -2.1568e-01],\n",
       "           [ 1.0648e-02, -6.7193e-02,  1.1346e-02]],\n",
       " \n",
       "          [[ 7.0521e-02, -1.2198e-02, -5.6333e-02],\n",
       "           [ 7.6051e-02, -9.1199e-02,  5.9484e-02],\n",
       "           [-4.9282e-02,  8.9991e-02, -5.8729e-02]],\n",
       " \n",
       "          [[-9.1467e-02,  3.4653e-02,  2.9472e-02],\n",
       "           [ 5.6488e-02,  3.2634e-02, -7.2816e-02],\n",
       "           [-7.9606e-02,  1.3271e-02, -5.1559e-02]],\n",
       " \n",
       "          ...,\n",
       " \n",
       "          [[ 3.8308e-02, -1.3702e-02, -8.3437e-03],\n",
       "           [-2.6405e-02, -1.0623e-01, -4.7123e-02],\n",
       "           [ 1.6846e-02, -3.6767e-02,  3.9988e-02]],\n",
       " \n",
       "          [[-5.3111e-02,  7.0735e-02, -2.9427e-02],\n",
       "           [ 5.3251e-02,  2.2545e-02,  4.0548e-02],\n",
       "           [-8.3993e-02, -5.5669e-02, -5.1761e-02]],\n",
       " \n",
       "          [[-3.8345e-02, -9.5372e-03,  5.4014e-02],\n",
       "           [-2.0175e-02,  5.5758e-03, -2.6384e-02],\n",
       "           [-1.8942e-02,  1.2436e-01,  5.1850e-02]]],\n",
       " \n",
       " \n",
       "         [[[ 7.1586e-02,  5.0946e-02, -1.0900e-02],\n",
       "           [ 3.8636e-03,  5.1026e-02,  2.4671e-02],\n",
       "           [ 3.8885e-02,  9.7257e-02, -2.7773e-02]],\n",
       " \n",
       "          [[-5.8805e-02,  5.6991e-02, -1.2907e-01],\n",
       "           [-3.7519e-02, -5.6029e-03, -1.1457e-02],\n",
       "           [-6.2529e-02,  6.4873e-02,  2.0466e-01]],\n",
       " \n",
       "          [[-2.4878e-02,  1.4077e-02,  7.9804e-02],\n",
       "           [ 1.6247e-02, -8.0097e-02, -7.8838e-02],\n",
       "           [ 5.4480e-02, -1.0114e-01, -1.2804e-01]],\n",
       " \n",
       "          ...,\n",
       " \n",
       "          [[-5.9087e-02, -4.7898e-02, -5.5880e-02],\n",
       "           [-1.0875e-01, -6.9168e-02, -8.4133e-02],\n",
       "           [ 8.1053e-03,  2.7898e-02, -2.5526e-02]],\n",
       " \n",
       "          [[ 1.3830e-01, -2.0983e-02, -1.9349e-02],\n",
       "           [-2.4904e-02, -3.2055e-02, -1.6808e-02],\n",
       "           [ 8.7628e-02,  4.8310e-02,  9.5660e-02]],\n",
       " \n",
       "          [[ 3.6219e-02,  3.3902e-02, -8.9974e-02],\n",
       "           [-4.9985e-02,  8.6856e-02, -4.1837e-03],\n",
       "           [-4.5211e-04, -7.6889e-02, -4.5739e-02]]]], requires_grad=True),\n",
       " Parameter containing:\n",
       " tensor([1., 1., 1., 1., 1., 1., 1., 1., 1., 1., 1., 1., 1., 1., 1., 1., 1., 1.,\n",
       "         1., 1., 1., 1., 1., 1., 1., 1., 1., 1., 1., 1., 1., 1., 1., 1., 1., 1.,\n",
       "         1., 1., 1., 1., 1., 1., 1., 1., 1., 1., 1., 1., 1., 1., 1., 1., 1., 1.,\n",
       "         1., 1., 1., 1., 1., 1., 1., 1., 1., 1.], requires_grad=True),\n",
       " Parameter containing:\n",
       " tensor([0., 0., 0., 0., 0., 0., 0., 0., 0., 0., 0., 0., 0., 0., 0., 0., 0., 0., 0., 0., 0., 0., 0., 0.,\n",
       "         0., 0., 0., 0., 0., 0., 0., 0., 0., 0., 0., 0., 0., 0., 0., 0., 0., 0., 0., 0., 0., 0., 0., 0.,\n",
       "         0., 0., 0., 0., 0., 0., 0., 0., 0., 0., 0., 0., 0., 0., 0., 0.],\n",
       "        requires_grad=True),\n",
       " Parameter containing:\n",
       " tensor([[[[-0.0760,  0.0234, -0.0901],\n",
       "           [-0.0859, -0.0400,  0.0166],\n",
       "           [-0.0854, -0.0151, -0.0135]],\n",
       " \n",
       "          [[-0.0270, -0.0679, -0.0400],\n",
       "           [ 0.0596,  0.0270, -0.0215],\n",
       "           [ 0.0130,  0.0933, -0.0239]],\n",
       " \n",
       "          [[ 0.0419, -0.0503,  0.0254],\n",
       "           [ 0.0269, -0.0999, -0.0204],\n",
       "           [-0.0310, -0.0034, -0.0781]],\n",
       " \n",
       "          ...,\n",
       " \n",
       "          [[ 0.0810,  0.0210,  0.0225],\n",
       "           [-0.0530, -0.0173, -0.0639],\n",
       "           [-0.0237,  0.0858, -0.0587]],\n",
       " \n",
       "          [[-0.0630, -0.0445, -0.0777],\n",
       "           [ 0.0271, -0.0402,  0.0276],\n",
       "           [ 0.0656,  0.0442,  0.0405]],\n",
       " \n",
       "          [[ 0.0413,  0.0604, -0.0272],\n",
       "           [ 0.0360, -0.0024, -0.0647],\n",
       "           [-0.0206,  0.0062,  0.0505]]],\n",
       " \n",
       " \n",
       "         [[[-0.0136, -0.0209, -0.0174],\n",
       "           [-0.0018, -0.0632, -0.0186],\n",
       "           [ 0.0586,  0.0162, -0.0411]],\n",
       " \n",
       "          [[ 0.0742,  0.0072,  0.0050],\n",
       "           [-0.0468,  0.0219, -0.0103],\n",
       "           [-0.0425, -0.0266,  0.0251]],\n",
       " \n",
       "          [[-0.0549,  0.0360,  0.0843],\n",
       "           [-0.0816,  0.0091,  0.0036],\n",
       "           [ 0.0447,  0.0333,  0.0329]],\n",
       " \n",
       "          ...,\n",
       " \n",
       "          [[-0.0182,  0.0298,  0.0500],\n",
       "           [ 0.0012, -0.0468, -0.0426],\n",
       "           [ 0.0067,  0.0340,  0.0126]],\n",
       " \n",
       "          [[-0.0717,  0.0021,  0.0158],\n",
       "           [-0.0779,  0.0171, -0.0839],\n",
       "           [ 0.0522, -0.0261, -0.0650]],\n",
       " \n",
       "          [[ 0.0371, -0.0843,  0.0075],\n",
       "           [-0.0025, -0.0009,  0.0132],\n",
       "           [-0.0339, -0.0137, -0.0078]]],\n",
       " \n",
       " \n",
       "         [[[ 0.0802, -0.0646,  0.0040],\n",
       "           [ 0.0168, -0.0910, -0.0031],\n",
       "           [ 0.0668,  0.1070, -0.0312]],\n",
       " \n",
       "          [[ 0.1449, -0.0062, -0.0006],\n",
       "           [-0.0630, -0.0035,  0.0074],\n",
       "           [-0.0213, -0.0166,  0.0089]],\n",
       " \n",
       "          [[-0.0403,  0.0044, -0.0064],\n",
       "           [ 0.0579, -0.0161, -0.0127],\n",
       "           [ 0.0278, -0.0419,  0.0066]],\n",
       " \n",
       "          ...,\n",
       " \n",
       "          [[ 0.0304, -0.0386,  0.0012],\n",
       "           [-0.0381, -0.0428, -0.0335],\n",
       "           [ 0.0399,  0.0751,  0.0029]],\n",
       " \n",
       "          [[ 0.0170,  0.0121, -0.0295],\n",
       "           [-0.0043,  0.0288,  0.0240],\n",
       "           [-0.0451, -0.0100,  0.0075]],\n",
       " \n",
       "          [[ 0.0693, -0.0170, -0.0153],\n",
       "           [-0.0887,  0.0081,  0.0499],\n",
       "           [ 0.0368,  0.0150, -0.0214]]],\n",
       " \n",
       " \n",
       "         ...,\n",
       " \n",
       " \n",
       "         [[[-0.0483,  0.0465, -0.0499],\n",
       "           [ 0.0551,  0.0079, -0.0408],\n",
       "           [ 0.0100, -0.0046, -0.0939]],\n",
       " \n",
       "          [[ 0.0135, -0.0053,  0.0363],\n",
       "           [ 0.0116, -0.0449,  0.0122],\n",
       "           [ 0.0132, -0.0509,  0.0149]],\n",
       " \n",
       "          [[ 0.0708, -0.0324, -0.0140],\n",
       "           [-0.0318, -0.0454,  0.0207],\n",
       "           [-0.0587, -0.0038,  0.0041]],\n",
       " \n",
       "          ...,\n",
       " \n",
       "          [[ 0.0231, -0.0308, -0.0171],\n",
       "           [ 0.0298, -0.0620, -0.0191],\n",
       "           [-0.0049,  0.0315,  0.1107]],\n",
       " \n",
       "          [[ 0.0476,  0.0203,  0.0329],\n",
       "           [-0.0262,  0.0404, -0.0108],\n",
       "           [ 0.0305,  0.0244,  0.0599]],\n",
       " \n",
       "          [[-0.0897, -0.0450, -0.0380],\n",
       "           [-0.0608, -0.0027,  0.0030],\n",
       "           [-0.0390,  0.0115,  0.0455]]],\n",
       " \n",
       " \n",
       "         [[[ 0.0108,  0.0201,  0.0201],\n",
       "           [ 0.0040, -0.0345,  0.0175],\n",
       "           [-0.0694, -0.0827, -0.0249]],\n",
       " \n",
       "          [[-0.0800,  0.0046,  0.0022],\n",
       "           [ 0.0596, -0.0379, -0.0219],\n",
       "           [-0.0423,  0.0034, -0.0259]],\n",
       " \n",
       "          [[ 0.0297,  0.0317,  0.0279],\n",
       "           [-0.0128, -0.0105, -0.0063],\n",
       "           [-0.0229,  0.0541, -0.0037]],\n",
       " \n",
       "          ...,\n",
       " \n",
       "          [[-0.0487,  0.0086, -0.0210],\n",
       "           [ 0.0149,  0.0324,  0.0518],\n",
       "           [ 0.0283, -0.0389, -0.0453]],\n",
       " \n",
       "          [[ 0.0339,  0.0143,  0.0021],\n",
       "           [ 0.0101,  0.0432, -0.0191],\n",
       "           [-0.1074, -0.0186, -0.0016]],\n",
       " \n",
       "          [[-0.0487, -0.0171,  0.0361],\n",
       "           [ 0.0807, -0.0149,  0.0238],\n",
       "           [-0.0294, -0.0195, -0.0418]]],\n",
       " \n",
       " \n",
       "         [[[ 0.0181,  0.0148,  0.0531],\n",
       "           [-0.0161, -0.0346, -0.0388],\n",
       "           [-0.0840, -0.0250, -0.0099]],\n",
       " \n",
       "          [[ 0.0056,  0.0085, -0.0053],\n",
       "           [ 0.0162,  0.0154,  0.0294],\n",
       "           [-0.0186, -0.0600,  0.0765]],\n",
       " \n",
       "          [[ 0.0268, -0.0314, -0.0400],\n",
       "           [ 0.0607,  0.0621,  0.0790],\n",
       "           [-0.0438,  0.0250,  0.0379]],\n",
       " \n",
       "          ...,\n",
       " \n",
       "          [[ 0.0536, -0.0584,  0.0205],\n",
       "           [ 0.0164, -0.0145, -0.0115],\n",
       "           [-0.0297, -0.0513, -0.0459]],\n",
       " \n",
       "          [[ 0.0044, -0.0031, -0.0052],\n",
       "           [ 0.0064,  0.0358, -0.0612],\n",
       "           [ 0.0310,  0.0109, -0.0353]],\n",
       " \n",
       "          [[-0.0438, -0.0519,  0.0078],\n",
       "           [-0.0071, -0.0645, -0.0362],\n",
       "           [-0.0937, -0.0209, -0.0137]]]], requires_grad=True),\n",
       " Parameter containing:\n",
       " tensor([1., 1., 1., 1., 1., 1., 1., 1., 1., 1., 1., 1., 1., 1., 1., 1., 1., 1.,\n",
       "         1., 1., 1., 1., 1., 1., 1., 1., 1., 1., 1., 1., 1., 1., 1., 1., 1., 1.,\n",
       "         1., 1., 1., 1., 1., 1., 1., 1., 1., 1., 1., 1., 1., 1., 1., 1., 1., 1.,\n",
       "         1., 1., 1., 1., 1., 1., 1., 1., 1., 1., 1., 1., 1., 1., 1., 1., 1., 1.,\n",
       "         1., 1., 1., 1., 1., 1., 1., 1., 1., 1., 1., 1., 1., 1., 1., 1., 1., 1.,\n",
       "         1., 1., 1., 1., 1., 1., 1., 1., 1., 1., 1., 1., 1., 1., 1., 1., 1., 1.,\n",
       "         1., 1., 1., 1., 1., 1., 1., 1., 1., 1., 1., 1., 1., 1., 1., 1., 1., 1.,\n",
       "         1., 1.], requires_grad=True),\n",
       " Parameter containing:\n",
       " tensor([0., 0., 0., 0., 0., 0., 0., 0., 0., 0., 0., 0., 0., 0., 0., 0., 0., 0., 0., 0., 0., 0., 0., 0.,\n",
       "         0., 0., 0., 0., 0., 0., 0., 0., 0., 0., 0., 0., 0., 0., 0., 0., 0., 0., 0., 0., 0., 0., 0., 0.,\n",
       "         0., 0., 0., 0., 0., 0., 0., 0., 0., 0., 0., 0., 0., 0., 0., 0., 0., 0., 0., 0., 0., 0., 0., 0.,\n",
       "         0., 0., 0., 0., 0., 0., 0., 0., 0., 0., 0., 0., 0., 0., 0., 0., 0., 0., 0., 0., 0., 0., 0., 0.,\n",
       "         0., 0., 0., 0., 0., 0., 0., 0., 0., 0., 0., 0., 0., 0., 0., 0., 0., 0., 0., 0., 0., 0., 0., 0.,\n",
       "         0., 0., 0., 0., 0., 0., 0., 0.], requires_grad=True),\n",
       " Parameter containing:\n",
       " tensor([[[[-1.8083e-02, -3.0318e-03,  2.2238e-02],\n",
       "           [-6.6063e-02,  2.7009e-02,  1.6136e-02],\n",
       "           [-1.5556e-02,  2.6222e-02,  6.5557e-02]],\n",
       " \n",
       "          [[ 3.0504e-02, -6.4656e-02,  4.2554e-02],\n",
       "           [-4.8771e-03,  3.2010e-02,  4.6251e-02],\n",
       "           [ 2.1671e-02, -3.1514e-02,  3.3981e-02]],\n",
       " \n",
       "          [[-4.1234e-02, -4.9738e-02,  1.0611e-03],\n",
       "           [-4.8333e-02, -1.7701e-02, -4.6737e-02],\n",
       "           [-3.5054e-03,  1.7093e-03, -2.7160e-04]],\n",
       " \n",
       "          ...,\n",
       " \n",
       "          [[-9.3265e-02,  1.2076e-03, -9.4673e-02],\n",
       "           [ 6.6700e-02, -3.0496e-02, -2.5107e-02],\n",
       "           [-9.4545e-03, -1.1367e-01, -5.0701e-02]],\n",
       " \n",
       "          [[ 3.8543e-02,  1.3713e-02, -2.8103e-02],\n",
       "           [-5.9113e-02, -2.5097e-02,  6.2277e-02],\n",
       "           [-3.9081e-02, -9.6481e-02, -6.6297e-03]],\n",
       " \n",
       "          [[-9.9055e-02, -9.4106e-03,  7.8859e-02],\n",
       "           [-5.6737e-02, -7.6445e-03,  3.4170e-02],\n",
       "           [ 4.5345e-02, -3.8312e-02, -2.2958e-02]]],\n",
       " \n",
       " \n",
       "         [[[-9.9115e-02, -4.1586e-02,  7.7436e-03],\n",
       "           [-2.5854e-02,  1.6388e-02, -9.9560e-03],\n",
       "           [ 7.0930e-02,  5.7880e-02, -3.8807e-02]],\n",
       " \n",
       "          [[-1.1287e-02,  3.2151e-03, -5.6908e-02],\n",
       "           [ 5.0467e-02,  4.0099e-02,  3.8808e-02],\n",
       "           [ 5.3315e-03,  3.2843e-02, -4.2918e-02]],\n",
       " \n",
       "          [[-6.0238e-02, -3.7027e-02,  7.6142e-03],\n",
       "           [-3.7091e-02,  7.4789e-02, -5.6166e-02],\n",
       "           [ 5.2123e-02, -9.5860e-03, -7.6155e-03]],\n",
       " \n",
       "          ...,\n",
       " \n",
       "          [[ 3.2230e-03, -8.6573e-02,  7.3032e-02],\n",
       "           [ 3.0028e-02,  3.7099e-02, -9.1299e-03],\n",
       "           [ 8.2525e-03, -3.5420e-02,  7.9314e-02]],\n",
       " \n",
       "          [[-5.2397e-02, -4.2531e-02,  4.2625e-02],\n",
       "           [-7.1130e-03,  9.5280e-02,  9.5947e-02],\n",
       "           [-1.1898e-01,  3.2950e-02, -5.8099e-03]],\n",
       " \n",
       "          [[-1.1951e-02, -4.3425e-02,  6.1417e-02],\n",
       "           [-1.2267e-02,  4.9190e-02,  4.2930e-02],\n",
       "           [-1.2664e-03, -3.5942e-02,  5.4133e-02]]],\n",
       " \n",
       " \n",
       "         [[[ 5.4932e-04, -1.9228e-02, -4.5997e-02],\n",
       "           [-2.2383e-02,  1.3938e-02, -5.6992e-02],\n",
       "           [ 2.0178e-02,  4.7674e-02,  3.8178e-02]],\n",
       " \n",
       "          [[ 3.3700e-02,  5.4900e-03,  2.4920e-03],\n",
       "           [-9.5451e-04, -4.3283e-02, -3.1703e-02],\n",
       "           [ 2.7223e-02,  7.8602e-02, -7.5648e-02]],\n",
       " \n",
       "          [[ 2.8656e-02, -1.7285e-02,  1.1928e-03],\n",
       "           [ 1.4928e-02,  7.6279e-02,  3.7979e-02],\n",
       "           [ 8.1425e-02,  3.5399e-02, -5.9005e-03]],\n",
       " \n",
       "          ...,\n",
       " \n",
       "          [[ 2.2473e-02,  4.2183e-02, -3.4525e-02],\n",
       "           [-1.9932e-03, -6.8497e-02,  2.0252e-02],\n",
       "           [ 5.5464e-02,  4.8281e-02,  6.0793e-04]],\n",
       " \n",
       "          [[-8.2526e-02,  3.5179e-02,  1.1069e-01],\n",
       "           [-1.2141e-04,  2.5407e-02, -7.0397e-03],\n",
       "           [-1.7008e-02,  4.8066e-02,  1.5936e-02]],\n",
       " \n",
       "          [[ 1.4434e-02,  2.2681e-02, -2.8225e-02],\n",
       "           [-9.9061e-03, -1.4791e-02, -5.5662e-02],\n",
       "           [ 3.4359e-02, -1.1181e-02, -3.0061e-02]]],\n",
       " \n",
       " \n",
       "         ...,\n",
       " \n",
       " \n",
       "         [[[ 6.5211e-02, -6.5630e-03, -3.7979e-02],\n",
       "           [-1.4202e-02, -2.4397e-02,  1.5350e-03],\n",
       "           [-4.5912e-02, -2.7696e-02, -3.6547e-02]],\n",
       " \n",
       "          [[-3.1675e-02,  1.0831e-01,  8.1232e-02],\n",
       "           [ 5.5629e-02,  1.0436e-03, -3.4881e-02],\n",
       "           [-5.1108e-02,  3.3507e-02, -8.2354e-03]],\n",
       " \n",
       "          [[ 3.0194e-02, -6.3107e-02, -6.5954e-02],\n",
       "           [ 7.8109e-02,  1.1687e-02, -2.0289e-02],\n",
       "           [-8.6942e-03,  1.1373e-02, -7.2552e-02]],\n",
       " \n",
       "          ...,\n",
       " \n",
       "          [[-4.9844e-02, -7.7041e-02,  1.1333e-01],\n",
       "           [ 1.3774e-02,  3.8951e-02, -7.4992e-03],\n",
       "           [-6.2021e-02,  9.4834e-03,  7.8924e-04]],\n",
       " \n",
       "          [[ 3.1650e-02, -4.0608e-02,  1.4016e-02],\n",
       "           [-8.7210e-02, -4.8740e-03,  5.0615e-02],\n",
       "           [-4.9879e-02, -6.9919e-02, -3.1781e-02]],\n",
       " \n",
       "          [[-4.8980e-02,  2.4048e-02,  5.4149e-02],\n",
       "           [ 3.0532e-02, -4.0742e-04, -2.2410e-02],\n",
       "           [ 5.2816e-02, -3.3157e-02,  3.0193e-04]]],\n",
       " \n",
       " \n",
       "         [[[ 4.6855e-02, -1.2954e-02, -2.9779e-03],\n",
       "           [ 5.6888e-02, -1.0030e-02, -1.2185e-02],\n",
       "           [-1.7197e-02, -4.8240e-02, -1.9239e-02]],\n",
       " \n",
       "          [[-1.7514e-02,  1.3556e-02,  2.0506e-02],\n",
       "           [ 2.6723e-05, -1.9057e-02, -1.0621e-02],\n",
       "           [ 4.9063e-02, -4.5143e-03,  3.2409e-02]],\n",
       " \n",
       "          [[-5.4845e-02,  3.5609e-02, -2.8397e-02],\n",
       "           [-5.0489e-02, -4.1655e-02,  1.6855e-04],\n",
       "           [ 1.4846e-02,  3.2993e-02, -1.3888e-02]],\n",
       " \n",
       "          ...,\n",
       " \n",
       "          [[ 1.3170e-02,  3.7541e-02,  2.5796e-02],\n",
       "           [ 4.0938e-02,  1.4329e-02, -1.9635e-02],\n",
       "           [-3.6249e-02, -4.0890e-02,  5.6098e-02]],\n",
       " \n",
       "          [[-1.1304e-02,  6.2539e-02, -7.2831e-02],\n",
       "           [ 3.4783e-02,  3.3706e-02,  7.3366e-02],\n",
       "           [-7.1912e-03, -4.2200e-02,  2.7907e-02]],\n",
       " \n",
       "          [[ 2.3198e-03, -3.1874e-02, -3.7500e-02],\n",
       "           [-4.6792e-02,  5.2721e-02, -3.7791e-02],\n",
       "           [-3.2970e-02, -9.9369e-03,  3.2995e-02]]],\n",
       " \n",
       " \n",
       "         [[[ 4.8592e-02,  1.5460e-02, -1.1188e-02],\n",
       "           [-6.1448e-02,  2.5576e-02,  1.3663e-02],\n",
       "           [-2.4913e-02,  5.0069e-02, -4.9957e-02]],\n",
       " \n",
       "          [[-4.6399e-02, -1.2738e-02, -9.5816e-03],\n",
       "           [ 6.0247e-02, -4.6349e-02,  9.5371e-03],\n",
       "           [-9.3207e-02,  2.6009e-02, -9.0302e-02]],\n",
       " \n",
       "          [[ 1.3367e-02, -2.2250e-02, -6.0273e-02],\n",
       "           [-2.2887e-02, -1.4021e-02, -1.6035e-03],\n",
       "           [-1.9333e-02,  9.0990e-02, -1.2483e-02]],\n",
       " \n",
       "          ...,\n",
       " \n",
       "          [[ 2.1427e-02,  4.4480e-02,  1.9793e-02],\n",
       "           [-1.3353e-02,  3.0423e-02, -7.8363e-02],\n",
       "           [-4.4753e-02,  9.1301e-02, -6.2997e-02]],\n",
       " \n",
       "          [[-5.1534e-02, -3.7768e-02, -3.0443e-02],\n",
       "           [-4.6058e-03,  1.0177e-02, -5.8161e-03],\n",
       "           [ 6.5098e-02, -4.8934e-02,  2.2245e-02]],\n",
       " \n",
       "          [[ 4.2056e-02,  7.5142e-02,  4.3816e-02],\n",
       "           [ 2.2391e-02,  6.6772e-04,  5.9110e-03],\n",
       "           [-3.1380e-03,  1.1177e-02,  5.9250e-02]]]], requires_grad=True),\n",
       " Parameter containing:\n",
       " tensor([1., 1., 1., 1., 1., 1., 1., 1., 1., 1., 1., 1., 1., 1., 1., 1., 1., 1.,\n",
       "         1., 1., 1., 1., 1., 1., 1., 1., 1., 1., 1., 1., 1., 1., 1., 1., 1., 1.,\n",
       "         1., 1., 1., 1., 1., 1., 1., 1., 1., 1., 1., 1., 1., 1., 1., 1., 1., 1.,\n",
       "         1., 1., 1., 1., 1., 1., 1., 1., 1., 1., 1., 1., 1., 1., 1., 1., 1., 1.,\n",
       "         1., 1., 1., 1., 1., 1., 1., 1., 1., 1., 1., 1., 1., 1., 1., 1., 1., 1.,\n",
       "         1., 1., 1., 1., 1., 1., 1., 1., 1., 1., 1., 1., 1., 1., 1., 1., 1., 1.,\n",
       "         1., 1., 1., 1., 1., 1., 1., 1., 1., 1., 1., 1., 1., 1., 1., 1., 1., 1.,\n",
       "         1., 1.], requires_grad=True),\n",
       " Parameter containing:\n",
       " tensor([0., 0., 0., 0., 0., 0., 0., 0., 0., 0., 0., 0., 0., 0., 0., 0., 0., 0., 0., 0., 0., 0., 0., 0.,\n",
       "         0., 0., 0., 0., 0., 0., 0., 0., 0., 0., 0., 0., 0., 0., 0., 0., 0., 0., 0., 0., 0., 0., 0., 0.,\n",
       "         0., 0., 0., 0., 0., 0., 0., 0., 0., 0., 0., 0., 0., 0., 0., 0., 0., 0., 0., 0., 0., 0., 0., 0.,\n",
       "         0., 0., 0., 0., 0., 0., 0., 0., 0., 0., 0., 0., 0., 0., 0., 0., 0., 0., 0., 0., 0., 0., 0., 0.,\n",
       "         0., 0., 0., 0., 0., 0., 0., 0., 0., 0., 0., 0., 0., 0., 0., 0., 0., 0., 0., 0., 0., 0., 0., 0.,\n",
       "         0., 0., 0., 0., 0., 0., 0., 0.], requires_grad=True),\n",
       " Parameter containing:\n",
       " tensor([[[[-0.1087]],\n",
       " \n",
       "          [[ 0.0762]],\n",
       " \n",
       "          [[-0.1748]],\n",
       " \n",
       "          ...,\n",
       " \n",
       "          [[ 0.0490]],\n",
       " \n",
       "          [[-0.1864]],\n",
       " \n",
       "          [[-0.0009]]],\n",
       " \n",
       " \n",
       "         [[[-0.0266]],\n",
       " \n",
       "          [[-0.0739]],\n",
       " \n",
       "          [[-0.1047]],\n",
       " \n",
       "          ...,\n",
       " \n",
       "          [[-0.1501]],\n",
       " \n",
       "          [[-0.1952]],\n",
       " \n",
       "          [[ 0.0101]]],\n",
       " \n",
       " \n",
       "         [[[ 0.0214]],\n",
       " \n",
       "          [[-0.0345]],\n",
       " \n",
       "          [[-0.0210]],\n",
       " \n",
       "          ...,\n",
       " \n",
       "          [[-0.0876]],\n",
       " \n",
       "          [[-0.1705]],\n",
       " \n",
       "          [[ 0.0253]]],\n",
       " \n",
       " \n",
       "         ...,\n",
       " \n",
       " \n",
       "         [[[ 0.0436]],\n",
       " \n",
       "          [[-0.1008]],\n",
       " \n",
       "          [[-0.1757]],\n",
       " \n",
       "          ...,\n",
       " \n",
       "          [[-0.0326]],\n",
       " \n",
       "          [[-0.1659]],\n",
       " \n",
       "          [[-0.0718]]],\n",
       " \n",
       " \n",
       "         [[[ 0.0161]],\n",
       " \n",
       "          [[ 0.0829]],\n",
       " \n",
       "          [[-0.2379]],\n",
       " \n",
       "          ...,\n",
       " \n",
       "          [[ 0.1342]],\n",
       " \n",
       "          [[ 0.1360]],\n",
       " \n",
       "          [[-0.0918]]],\n",
       " \n",
       " \n",
       "         [[[ 0.0058]],\n",
       " \n",
       "          [[-0.0675]],\n",
       " \n",
       "          [[-0.0762]],\n",
       " \n",
       "          ...,\n",
       " \n",
       "          [[-0.0182]],\n",
       " \n",
       "          [[ 0.1410]],\n",
       " \n",
       "          [[-0.2434]]]], requires_grad=True),\n",
       " Parameter containing:\n",
       " tensor([1., 1., 1., 1., 1., 1., 1., 1., 1., 1., 1., 1., 1., 1., 1., 1., 1., 1.,\n",
       "         1., 1., 1., 1., 1., 1., 1., 1., 1., 1., 1., 1., 1., 1., 1., 1., 1., 1.,\n",
       "         1., 1., 1., 1., 1., 1., 1., 1., 1., 1., 1., 1., 1., 1., 1., 1., 1., 1.,\n",
       "         1., 1., 1., 1., 1., 1., 1., 1., 1., 1., 1., 1., 1., 1., 1., 1., 1., 1.,\n",
       "         1., 1., 1., 1., 1., 1., 1., 1., 1., 1., 1., 1., 1., 1., 1., 1., 1., 1.,\n",
       "         1., 1., 1., 1., 1., 1., 1., 1., 1., 1., 1., 1., 1., 1., 1., 1., 1., 1.,\n",
       "         1., 1., 1., 1., 1., 1., 1., 1., 1., 1., 1., 1., 1., 1., 1., 1., 1., 1.,\n",
       "         1., 1.], requires_grad=True),\n",
       " Parameter containing:\n",
       " tensor([0., 0., 0., 0., 0., 0., 0., 0., 0., 0., 0., 0., 0., 0., 0., 0., 0., 0., 0., 0., 0., 0., 0., 0.,\n",
       "         0., 0., 0., 0., 0., 0., 0., 0., 0., 0., 0., 0., 0., 0., 0., 0., 0., 0., 0., 0., 0., 0., 0., 0.,\n",
       "         0., 0., 0., 0., 0., 0., 0., 0., 0., 0., 0., 0., 0., 0., 0., 0., 0., 0., 0., 0., 0., 0., 0., 0.,\n",
       "         0., 0., 0., 0., 0., 0., 0., 0., 0., 0., 0., 0., 0., 0., 0., 0., 0., 0., 0., 0., 0., 0., 0., 0.,\n",
       "         0., 0., 0., 0., 0., 0., 0., 0., 0., 0., 0., 0., 0., 0., 0., 0., 0., 0., 0., 0., 0., 0., 0., 0.,\n",
       "         0., 0., 0., 0., 0., 0., 0., 0.], requires_grad=True),\n",
       " Parameter containing:\n",
       " tensor([[[[ 0.0572,  0.0442,  0.0361],\n",
       "           [-0.0103,  0.0106, -0.0495],\n",
       "           [-0.0220,  0.0419, -0.0062]],\n",
       " \n",
       "          [[ 0.0523, -0.0492, -0.0535],\n",
       "           [-0.0709,  0.0037,  0.0526],\n",
       "           [ 0.0351,  0.0386, -0.0023]],\n",
       " \n",
       "          [[-0.0172,  0.0399,  0.0032],\n",
       "           [-0.0906, -0.0651, -0.0303],\n",
       "           [ 0.0355,  0.0297,  0.0509]],\n",
       " \n",
       "          ...,\n",
       " \n",
       "          [[ 0.0230,  0.0219, -0.0416],\n",
       "           [ 0.0285,  0.0176, -0.0284],\n",
       "           [-0.0046, -0.0278,  0.0211]],\n",
       " \n",
       "          [[ 0.0280,  0.0149,  0.0895],\n",
       "           [ 0.0006,  0.0063, -0.0883],\n",
       "           [-0.0218, -0.0276,  0.0227]],\n",
       " \n",
       "          [[-0.0271,  0.0050,  0.0392],\n",
       "           [-0.0326,  0.0277, -0.0048],\n",
       "           [-0.0008, -0.0809,  0.0269]]],\n",
       " \n",
       " \n",
       "         [[[-0.0226,  0.0147,  0.0061],\n",
       "           [-0.0146, -0.0064,  0.0175],\n",
       "           [-0.0197, -0.0128, -0.0250]],\n",
       " \n",
       "          [[-0.0729,  0.0626, -0.0212],\n",
       "           [ 0.0053, -0.0009, -0.0456],\n",
       "           [ 0.0705, -0.0232,  0.0279]],\n",
       " \n",
       "          [[-0.0298, -0.0192, -0.0180],\n",
       "           [-0.0365,  0.0155, -0.0250],\n",
       "           [ 0.0427, -0.0228, -0.0344]],\n",
       " \n",
       "          ...,\n",
       " \n",
       "          [[-0.0441, -0.0212, -0.1135],\n",
       "           [-0.0437, -0.0165, -0.0210],\n",
       "           [ 0.0724, -0.0161,  0.0602]],\n",
       " \n",
       "          [[ 0.0774,  0.0475,  0.0380],\n",
       "           [ 0.0483,  0.0862, -0.0922],\n",
       "           [ 0.0295,  0.0283,  0.0776]],\n",
       " \n",
       "          [[-0.0029, -0.0155,  0.0102],\n",
       "           [-0.0464, -0.1014, -0.0013],\n",
       "           [-0.0575, -0.0492, -0.0563]]],\n",
       " \n",
       " \n",
       "         [[[ 0.0434,  0.0340,  0.0084],\n",
       "           [ 0.0059,  0.0279, -0.0026],\n",
       "           [-0.0124, -0.0355, -0.0569]],\n",
       " \n",
       "          [[ 0.0528,  0.0014,  0.0499],\n",
       "           [ 0.0492, -0.0133,  0.0663],\n",
       "           [ 0.0496,  0.0129,  0.0010]],\n",
       " \n",
       "          [[-0.0289,  0.0004,  0.0206],\n",
       "           [-0.0005, -0.0266, -0.0107],\n",
       "           [-0.0387,  0.0048, -0.0098]],\n",
       " \n",
       "          ...,\n",
       " \n",
       "          [[ 0.0126,  0.0114, -0.0185],\n",
       "           [-0.0422, -0.0351,  0.0212],\n",
       "           [ 0.0263,  0.0046, -0.0847]],\n",
       " \n",
       "          [[ 0.0181, -0.0211, -0.0351],\n",
       "           [-0.0073,  0.0023,  0.0056],\n",
       "           [ 0.0380, -0.0256, -0.0390]],\n",
       " \n",
       "          [[ 0.0144, -0.0301,  0.0326],\n",
       "           [-0.0002,  0.0210,  0.0363],\n",
       "           [ 0.0125, -0.0851,  0.0418]]],\n",
       " \n",
       " \n",
       "         ...,\n",
       " \n",
       " \n",
       "         [[[-0.0492,  0.0474,  0.0345],\n",
       "           [ 0.0262,  0.0115, -0.0017],\n",
       "           [-0.0402, -0.0002, -0.0121]],\n",
       " \n",
       "          [[ 0.0120, -0.0060,  0.0831],\n",
       "           [ 0.0348,  0.1242, -0.0007],\n",
       "           [-0.0433, -0.0197,  0.0148]],\n",
       " \n",
       "          [[-0.1348,  0.0195,  0.0560],\n",
       "           [-0.0038,  0.0041, -0.0907],\n",
       "           [-0.0167, -0.0029,  0.0202]],\n",
       " \n",
       "          ...,\n",
       " \n",
       "          [[-0.0502,  0.0321,  0.0032],\n",
       "           [-0.0052,  0.0165,  0.0691],\n",
       "           [-0.0312, -0.0495,  0.0448]],\n",
       " \n",
       "          [[-0.0211, -0.1114,  0.0531],\n",
       "           [ 0.0369, -0.0614, -0.0236],\n",
       "           [-0.0772, -0.0008, -0.0040]],\n",
       " \n",
       "          [[ 0.0108,  0.0441, -0.0012],\n",
       "           [-0.0502, -0.0087,  0.0269],\n",
       "           [ 0.0374,  0.0192,  0.0549]]],\n",
       " \n",
       " \n",
       "         [[[ 0.0166, -0.0361,  0.0401],\n",
       "           [ 0.0025, -0.0093, -0.0420],\n",
       "           [-0.0522, -0.0324,  0.0108]],\n",
       " \n",
       "          [[ 0.0207, -0.0111, -0.0303],\n",
       "           [-0.0308,  0.0257,  0.0032],\n",
       "           [ 0.0061, -0.0500, -0.0440]],\n",
       " \n",
       "          [[-0.0639,  0.0256, -0.0051],\n",
       "           [-0.0006,  0.0688, -0.0211],\n",
       "           [ 0.0442,  0.0294, -0.0119]],\n",
       " \n",
       "          ...,\n",
       " \n",
       "          [[-0.0175,  0.0215, -0.0278],\n",
       "           [-0.0091,  0.0433, -0.0087],\n",
       "           [-0.0319, -0.0746,  0.0202]],\n",
       " \n",
       "          [[-0.0240,  0.0069,  0.0548],\n",
       "           [ 0.0209,  0.0365,  0.0511],\n",
       "           [-0.0448, -0.0114,  0.0485]],\n",
       " \n",
       "          [[ 0.0060,  0.0413, -0.0189],\n",
       "           [ 0.0517,  0.0239, -0.0738],\n",
       "           [ 0.0318, -0.0422,  0.0195]]],\n",
       " \n",
       " \n",
       "         [[[ 0.0218,  0.0139, -0.0831],\n",
       "           [-0.0406,  0.0163, -0.0354],\n",
       "           [-0.0296,  0.0833, -0.0334]],\n",
       " \n",
       "          [[ 0.0284,  0.0287,  0.0253],\n",
       "           [-0.0289,  0.0937,  0.0012],\n",
       "           [ 0.0347,  0.0278,  0.0127]],\n",
       " \n",
       "          [[-0.0261, -0.0571,  0.0002],\n",
       "           [ 0.1260, -0.0449,  0.0274],\n",
       "           [ 0.0043, -0.0497,  0.0043]],\n",
       " \n",
       "          ...,\n",
       " \n",
       "          [[ 0.0292,  0.0260, -0.0185],\n",
       "           [ 0.0412, -0.0314, -0.0427],\n",
       "           [ 0.0302,  0.0270, -0.0090]],\n",
       " \n",
       "          [[-0.0272,  0.0459, -0.0276],\n",
       "           [ 0.0212, -0.0491,  0.0282],\n",
       "           [-0.0238, -0.1046, -0.0395]],\n",
       " \n",
       "          [[-0.0117, -0.0228, -0.0332],\n",
       "           [ 0.0170,  0.0366, -0.1248],\n",
       "           [-0.0624, -0.0088, -0.0103]]]], requires_grad=True),\n",
       " Parameter containing:\n",
       " tensor([1., 1., 1., 1., 1., 1., 1., 1., 1., 1., 1., 1., 1., 1., 1., 1., 1., 1.,\n",
       "         1., 1., 1., 1., 1., 1., 1., 1., 1., 1., 1., 1., 1., 1., 1., 1., 1., 1.,\n",
       "         1., 1., 1., 1., 1., 1., 1., 1., 1., 1., 1., 1., 1., 1., 1., 1., 1., 1.,\n",
       "         1., 1., 1., 1., 1., 1., 1., 1., 1., 1., 1., 1., 1., 1., 1., 1., 1., 1.,\n",
       "         1., 1., 1., 1., 1., 1., 1., 1., 1., 1., 1., 1., 1., 1., 1., 1., 1., 1.,\n",
       "         1., 1., 1., 1., 1., 1., 1., 1., 1., 1., 1., 1., 1., 1., 1., 1., 1., 1.,\n",
       "         1., 1., 1., 1., 1., 1., 1., 1., 1., 1., 1., 1., 1., 1., 1., 1., 1., 1.,\n",
       "         1., 1.], requires_grad=True),\n",
       " Parameter containing:\n",
       " tensor([0., 0., 0., 0., 0., 0., 0., 0., 0., 0., 0., 0., 0., 0., 0., 0., 0., 0., 0., 0., 0., 0., 0., 0.,\n",
       "         0., 0., 0., 0., 0., 0., 0., 0., 0., 0., 0., 0., 0., 0., 0., 0., 0., 0., 0., 0., 0., 0., 0., 0.,\n",
       "         0., 0., 0., 0., 0., 0., 0., 0., 0., 0., 0., 0., 0., 0., 0., 0., 0., 0., 0., 0., 0., 0., 0., 0.,\n",
       "         0., 0., 0., 0., 0., 0., 0., 0., 0., 0., 0., 0., 0., 0., 0., 0., 0., 0., 0., 0., 0., 0., 0., 0.,\n",
       "         0., 0., 0., 0., 0., 0., 0., 0., 0., 0., 0., 0., 0., 0., 0., 0., 0., 0., 0., 0., 0., 0., 0., 0.,\n",
       "         0., 0., 0., 0., 0., 0., 0., 0.], requires_grad=True),\n",
       " Parameter containing:\n",
       " tensor([[[[-6.2933e-02,  4.4183e-02, -1.3635e-02],\n",
       "           [ 2.1263e-02,  3.6751e-02, -1.6164e-03],\n",
       "           [-4.8776e-02,  5.6567e-02,  1.3640e-03]],\n",
       " \n",
       "          [[-4.7054e-02,  2.7600e-02, -1.2973e-02],\n",
       "           [ 2.6177e-03, -1.3084e-02, -8.9409e-03],\n",
       "           [-1.2552e-02,  4.2509e-02, -6.2049e-02]],\n",
       " \n",
       "          [[-2.7096e-02,  1.7013e-02,  7.1241e-02],\n",
       "           [ 2.3786e-02,  5.2699e-02,  3.4411e-02],\n",
       "           [ 4.0846e-02, -2.8053e-02, -3.5230e-02]],\n",
       " \n",
       "          ...,\n",
       " \n",
       "          [[ 3.3939e-04,  4.0636e-02,  1.7411e-02],\n",
       "           [-1.4253e-02, -9.9023e-03,  5.3653e-02],\n",
       "           [ 1.2615e-02,  8.9279e-04,  1.8911e-02]],\n",
       " \n",
       "          [[ 3.7386e-02,  4.7970e-02, -7.6601e-02],\n",
       "           [-2.7576e-03,  3.8828e-02, -7.4895e-02],\n",
       "           [ 1.8819e-02,  5.5851e-02, -3.4176e-03]],\n",
       " \n",
       "          [[-5.8177e-02,  1.4832e-02, -1.3476e-02],\n",
       "           [-4.5107e-02, -1.0786e-01,  1.0622e-02],\n",
       "           [-4.2456e-02,  3.6865e-02, -1.6558e-02]]],\n",
       " \n",
       " \n",
       "         [[[-6.0393e-02, -5.9549e-02,  2.7398e-02],\n",
       "           [ 1.6086e-02,  3.0308e-02, -1.0925e-01],\n",
       "           [ 3.6326e-02,  6.2930e-03, -2.1235e-02]],\n",
       " \n",
       "          [[-1.3795e-02, -5.7681e-02, -7.1482e-02],\n",
       "           [-2.5025e-02, -1.8242e-03, -1.2358e-02],\n",
       "           [ 6.8315e-02,  4.5027e-02, -1.2941e-02]],\n",
       " \n",
       "          [[-2.4250e-03, -6.0156e-02, -1.8034e-03],\n",
       "           [-4.6602e-03, -6.1574e-02, -2.0381e-02],\n",
       "           [ 2.4958e-02, -1.6358e-02, -2.1711e-02]],\n",
       " \n",
       "          ...,\n",
       " \n",
       "          [[-8.1932e-03,  6.8292e-02, -2.4177e-03],\n",
       "           [-4.0018e-02,  8.9101e-02,  4.8876e-02],\n",
       "           [-1.8748e-02, -2.6663e-02,  5.2561e-02]],\n",
       " \n",
       "          [[ 5.9658e-02, -1.3444e-03, -8.1555e-02],\n",
       "           [ 1.9999e-02,  4.5045e-03,  4.2619e-02],\n",
       "           [ 2.0241e-02,  5.1745e-02, -2.9509e-02]],\n",
       " \n",
       "          [[-5.1015e-02,  3.9204e-02,  2.1567e-02],\n",
       "           [-6.1544e-02,  3.2738e-02,  5.1309e-02],\n",
       "           [-5.7499e-03, -7.0800e-05, -2.6796e-02]]],\n",
       " \n",
       " \n",
       "         [[[ 3.2615e-02, -2.0640e-02,  3.1741e-02],\n",
       "           [ 2.4620e-02,  5.2427e-02, -5.4494e-02],\n",
       "           [-1.0030e-02, -1.5073e-02, -1.2423e-02]],\n",
       " \n",
       "          [[-2.6938e-02,  1.6255e-02,  3.7230e-02],\n",
       "           [ 2.9879e-02,  1.4834e-02, -4.9581e-02],\n",
       "           [ 8.1915e-02,  1.8165e-02, -3.5688e-02]],\n",
       " \n",
       "          [[ 9.6909e-03, -4.2402e-02, -1.9708e-02],\n",
       "           [-3.6733e-02,  3.6104e-03, -4.3863e-02],\n",
       "           [-9.1546e-02,  6.6718e-02, -3.1613e-02]],\n",
       " \n",
       "          ...,\n",
       " \n",
       "          [[ 7.3266e-02, -6.0298e-02, -8.9708e-03],\n",
       "           [ 5.5568e-02,  5.3948e-02,  3.3933e-02],\n",
       "           [-2.7528e-02, -6.2435e-02, -7.8601e-02]],\n",
       " \n",
       "          [[ 6.4699e-02,  4.1857e-02, -4.2089e-02],\n",
       "           [-1.7788e-02, -4.4677e-02,  3.7983e-02],\n",
       "           [ 3.5571e-02, -4.1669e-02, -4.7134e-02]],\n",
       " \n",
       "          [[ 2.1440e-02,  5.7307e-02, -9.1430e-03],\n",
       "           [-3.2626e-02, -1.9534e-02, -4.3236e-02],\n",
       "           [ 3.1896e-03, -2.6869e-02,  2.5514e-02]]],\n",
       " \n",
       " \n",
       "         ...,\n",
       " \n",
       " \n",
       "         [[[ 1.1161e-02,  7.0217e-02, -1.3221e-02],\n",
       "           [ 2.5764e-02,  5.7302e-02, -8.6041e-03],\n",
       "           [-1.0020e-01, -9.4200e-02, -7.6869e-02]],\n",
       " \n",
       "          [[-2.0123e-02,  4.1386e-02, -1.2429e-01],\n",
       "           [ 1.5916e-02,  1.1370e-02,  2.9989e-02],\n",
       "           [ 7.6349e-03, -1.8653e-02,  3.4071e-03]],\n",
       " \n",
       "          [[ 1.6057e-02,  6.1378e-02,  6.3740e-03],\n",
       "           [-8.6092e-03,  5.5066e-03, -3.9780e-02],\n",
       "           [ 4.0553e-02,  4.5621e-02, -2.5677e-02]],\n",
       " \n",
       "          ...,\n",
       " \n",
       "          [[ 8.1023e-02, -1.8503e-02,  2.3253e-02],\n",
       "           [ 1.5324e-02,  2.0835e-02,  4.4130e-02],\n",
       "           [ 6.6535e-03, -2.2791e-03,  4.7074e-02]],\n",
       " \n",
       "          [[ 3.9906e-02, -8.5545e-03,  3.1774e-02],\n",
       "           [ 8.6774e-02,  1.0577e-02,  9.3847e-02],\n",
       "           [ 2.7469e-02,  3.0461e-02,  7.2621e-02]],\n",
       " \n",
       "          [[ 2.2625e-02, -1.5298e-02,  2.7277e-02],\n",
       "           [-7.6984e-02,  3.6382e-02, -2.3674e-02],\n",
       "           [-2.0842e-02,  9.5295e-02,  4.5978e-02]]],\n",
       " \n",
       " \n",
       "         [[[ 6.8422e-02,  4.9089e-02, -6.7403e-02],\n",
       "           [-4.3698e-02, -2.2744e-02, -6.0997e-02],\n",
       "           [ 1.5948e-02, -1.1067e-02, -4.0031e-02]],\n",
       " \n",
       "          [[-4.7143e-02,  4.2758e-02, -3.4298e-02],\n",
       "           [-3.1228e-02,  4.8213e-02,  4.1744e-02],\n",
       "           [-5.3540e-02, -3.2493e-02, -6.1116e-02]],\n",
       " \n",
       "          [[-3.2185e-02, -4.7304e-02, -6.4470e-02],\n",
       "           [-8.0683e-02,  4.7909e-03, -1.5776e-02],\n",
       "           [ 1.4544e-02,  2.2709e-02, -4.3345e-02]],\n",
       " \n",
       "          ...,\n",
       " \n",
       "          [[-4.9806e-02,  1.3583e-02,  4.8752e-02],\n",
       "           [ 1.5560e-02, -2.6473e-02,  2.6051e-02],\n",
       "           [ 1.2932e-02,  3.9689e-03,  1.0997e-02]],\n",
       " \n",
       "          [[ 4.8951e-02, -1.1066e-02,  3.8325e-02],\n",
       "           [ 1.9857e-02,  5.6868e-02,  4.9683e-02],\n",
       "           [ 1.7853e-02,  8.2010e-03, -1.0549e-02]],\n",
       " \n",
       "          [[ 6.7702e-04,  1.6622e-02, -7.2684e-02],\n",
       "           [ 5.4607e-02,  1.0640e-01,  9.4360e-03],\n",
       "           [ 1.7474e-02,  9.9667e-03,  3.6050e-03]]],\n",
       " \n",
       " \n",
       "         [[[ 1.7761e-02,  2.6309e-03,  2.4582e-02],\n",
       "           [-2.8298e-02,  3.9841e-02,  2.1300e-02],\n",
       "           [ 5.0288e-02, -4.1167e-02, -4.2075e-02]],\n",
       " \n",
       "          [[-1.2087e-02, -4.8339e-02, -3.8507e-02],\n",
       "           [ 3.9318e-02,  2.8067e-02, -2.3647e-02],\n",
       "           [-2.3085e-02, -7.5232e-03, -4.7493e-02]],\n",
       " \n",
       "          [[ 5.0375e-02, -7.2548e-02,  7.1106e-02],\n",
       "           [ 2.5306e-02,  1.6296e-02,  2.6225e-02],\n",
       "           [-2.9094e-02, -4.8410e-02, -1.5915e-02]],\n",
       " \n",
       "          ...,\n",
       " \n",
       "          [[ 2.8986e-02, -2.5169e-02, -1.4899e-02],\n",
       "           [-2.2228e-02,  9.2987e-03, -5.2595e-02],\n",
       "           [-3.8585e-02,  2.1403e-02,  1.9941e-02]],\n",
       " \n",
       "          [[-2.3867e-02, -5.0331e-03, -1.9692e-02],\n",
       "           [ 5.9313e-02, -1.3518e-02, -4.7150e-02],\n",
       "           [-8.1408e-02, -4.0420e-02, -5.3482e-02]],\n",
       " \n",
       "          [[ 1.9411e-02,  6.6865e-02,  1.0308e-01],\n",
       "           [ 5.2503e-03,  3.2100e-02,  6.0034e-02],\n",
       "           [-1.7246e-02, -1.1600e-02, -1.1245e-02]]]], requires_grad=True),\n",
       " Parameter containing:\n",
       " tensor([1., 1., 1., 1., 1., 1., 1., 1., 1., 1., 1., 1., 1., 1., 1., 1., 1., 1.,\n",
       "         1., 1., 1., 1., 1., 1., 1., 1., 1., 1., 1., 1., 1., 1., 1., 1., 1., 1.,\n",
       "         1., 1., 1., 1., 1., 1., 1., 1., 1., 1., 1., 1., 1., 1., 1., 1., 1., 1.,\n",
       "         1., 1., 1., 1., 1., 1., 1., 1., 1., 1., 1., 1., 1., 1., 1., 1., 1., 1.,\n",
       "         1., 1., 1., 1., 1., 1., 1., 1., 1., 1., 1., 1., 1., 1., 1., 1., 1., 1.,\n",
       "         1., 1., 1., 1., 1., 1., 1., 1., 1., 1., 1., 1., 1., 1., 1., 1., 1., 1.,\n",
       "         1., 1., 1., 1., 1., 1., 1., 1., 1., 1., 1., 1., 1., 1., 1., 1., 1., 1.,\n",
       "         1., 1.], requires_grad=True),\n",
       " Parameter containing:\n",
       " tensor([0., 0., 0., 0., 0., 0., 0., 0., 0., 0., 0., 0., 0., 0., 0., 0., 0., 0., 0., 0., 0., 0., 0., 0.,\n",
       "         0., 0., 0., 0., 0., 0., 0., 0., 0., 0., 0., 0., 0., 0., 0., 0., 0., 0., 0., 0., 0., 0., 0., 0.,\n",
       "         0., 0., 0., 0., 0., 0., 0., 0., 0., 0., 0., 0., 0., 0., 0., 0., 0., 0., 0., 0., 0., 0., 0., 0.,\n",
       "         0., 0., 0., 0., 0., 0., 0., 0., 0., 0., 0., 0., 0., 0., 0., 0., 0., 0., 0., 0., 0., 0., 0., 0.,\n",
       "         0., 0., 0., 0., 0., 0., 0., 0., 0., 0., 0., 0., 0., 0., 0., 0., 0., 0., 0., 0., 0., 0., 0., 0.,\n",
       "         0., 0., 0., 0., 0., 0., 0., 0.], requires_grad=True),\n",
       " Parameter containing:\n",
       " tensor([[[[ 0.0199, -0.0260, -0.0339],\n",
       "           [-0.0306, -0.0020,  0.0394],\n",
       "           [ 0.0285, -0.0717,  0.0243]],\n",
       " \n",
       "          [[-0.0079, -0.0093, -0.0039],\n",
       "           [ 0.0350, -0.0048,  0.0195],\n",
       "           [-0.0002,  0.0152,  0.0047]],\n",
       " \n",
       "          [[ 0.0049, -0.0513, -0.0087],\n",
       "           [-0.0187,  0.0467, -0.0283],\n",
       "           [ 0.0042, -0.0299,  0.0115]],\n",
       " \n",
       "          ...,\n",
       " \n",
       "          [[ 0.0196,  0.0153, -0.0055],\n",
       "           [-0.0205,  0.0468,  0.0220],\n",
       "           [-0.0063, -0.0766, -0.0185]],\n",
       " \n",
       "          [[ 0.0284, -0.0286,  0.0380],\n",
       "           [ 0.0202, -0.0029,  0.0012],\n",
       "           [ 0.0199, -0.0185, -0.0216]],\n",
       " \n",
       "          [[ 0.0230, -0.0220, -0.0460],\n",
       "           [ 0.0249, -0.0097, -0.0059],\n",
       "           [ 0.0161, -0.0301,  0.0005]]],\n",
       " \n",
       " \n",
       "         [[[ 0.0079, -0.0025,  0.0055],\n",
       "           [ 0.0168, -0.0491,  0.0252],\n",
       "           [ 0.0356, -0.0081, -0.0032]],\n",
       " \n",
       "          [[-0.0343, -0.0073,  0.0218],\n",
       "           [-0.0371,  0.0463,  0.0336],\n",
       "           [ 0.0100,  0.0413,  0.0160]],\n",
       " \n",
       "          [[-0.0009,  0.0014,  0.0199],\n",
       "           [ 0.0279,  0.0056, -0.0113],\n",
       "           [-0.0018, -0.0260,  0.0284]],\n",
       " \n",
       "          ...,\n",
       " \n",
       "          [[ 0.0227, -0.0247,  0.0248],\n",
       "           [-0.0399, -0.0356,  0.0405],\n",
       "           [-0.0202,  0.0141,  0.0051]],\n",
       " \n",
       "          [[-0.0289, -0.0158, -0.0169],\n",
       "           [-0.0311, -0.0181, -0.0324],\n",
       "           [-0.0222,  0.0440, -0.0192]],\n",
       " \n",
       "          [[-0.0185,  0.0153, -0.0232],\n",
       "           [-0.0192,  0.0360, -0.0393],\n",
       "           [ 0.0404, -0.0005,  0.0308]]],\n",
       " \n",
       " \n",
       "         [[[-0.0423, -0.0403,  0.0016],\n",
       "           [-0.0101, -0.0130, -0.0032],\n",
       "           [-0.0874,  0.0154,  0.0155]],\n",
       " \n",
       "          [[-0.0094, -0.0106, -0.0021],\n",
       "           [ 0.0110, -0.0040, -0.0272],\n",
       "           [ 0.0048,  0.0002,  0.0005]],\n",
       " \n",
       "          [[-0.0391,  0.0433, -0.0166],\n",
       "           [-0.0307, -0.0258, -0.0341],\n",
       "           [-0.0308, -0.0495,  0.0200]],\n",
       " \n",
       "          ...,\n",
       " \n",
       "          [[-0.0630, -0.0213, -0.0517],\n",
       "           [-0.0398, -0.0084,  0.0547],\n",
       "           [ 0.0040,  0.0367, -0.0155]],\n",
       " \n",
       "          [[ 0.0486,  0.0205, -0.0185],\n",
       "           [-0.0366, -0.0606,  0.0448],\n",
       "           [-0.0498, -0.0065,  0.0189]],\n",
       " \n",
       "          [[ 0.0070, -0.0366, -0.0468],\n",
       "           [ 0.0471, -0.0521,  0.0213],\n",
       "           [ 0.0447, -0.0489, -0.0023]]],\n",
       " \n",
       " \n",
       "         ...,\n",
       " \n",
       " \n",
       "         [[[ 0.0387,  0.0296, -0.0291],\n",
       "           [ 0.0136,  0.0326,  0.0291],\n",
       "           [ 0.0018,  0.0058,  0.0035]],\n",
       " \n",
       "          [[-0.0146,  0.0198, -0.0084],\n",
       "           [ 0.0037,  0.0005,  0.0079],\n",
       "           [ 0.0055, -0.0070,  0.0088]],\n",
       " \n",
       "          [[-0.0299, -0.0267, -0.0266],\n",
       "           [-0.0049,  0.0636,  0.0110],\n",
       "           [-0.0518, -0.0030, -0.0453]],\n",
       " \n",
       "          ...,\n",
       " \n",
       "          [[ 0.0174, -0.0118, -0.0434],\n",
       "           [ 0.0017,  0.0252, -0.0546],\n",
       "           [-0.0574, -0.0290,  0.0074]],\n",
       " \n",
       "          [[ 0.0025, -0.0334,  0.0650],\n",
       "           [ 0.0094, -0.0052,  0.0362],\n",
       "           [-0.0276,  0.0574, -0.0117]],\n",
       " \n",
       "          [[-0.0502, -0.0440,  0.0286],\n",
       "           [ 0.0215, -0.0098,  0.0016],\n",
       "           [ 0.0165,  0.0129,  0.0159]]],\n",
       " \n",
       " \n",
       "         [[[-0.0341,  0.0501, -0.0111],\n",
       "           [ 0.0353, -0.0514,  0.0148],\n",
       "           [ 0.0069, -0.0545,  0.0367]],\n",
       " \n",
       "          [[ 0.0052,  0.0265, -0.0001],\n",
       "           [ 0.0223,  0.0213, -0.0164],\n",
       "           [-0.0326,  0.0393, -0.0464]],\n",
       " \n",
       "          [[ 0.0108, -0.0185,  0.0359],\n",
       "           [ 0.0107,  0.0055, -0.0053],\n",
       "           [-0.0105,  0.0028, -0.0404]],\n",
       " \n",
       "          ...,\n",
       " \n",
       "          [[ 0.0064,  0.0127,  0.0087],\n",
       "           [-0.0130,  0.0091, -0.0124],\n",
       "           [ 0.0358, -0.0237, -0.0175]],\n",
       " \n",
       "          [[ 0.0434, -0.0009,  0.0220],\n",
       "           [-0.0051,  0.0594, -0.0689],\n",
       "           [-0.0051, -0.0344,  0.0272]],\n",
       " \n",
       "          [[-0.0071,  0.0180, -0.0215],\n",
       "           [-0.0784,  0.0134, -0.0232],\n",
       "           [ 0.0702, -0.0160,  0.0242]]],\n",
       " \n",
       " \n",
       "         [[[-0.0205, -0.0256,  0.0042],\n",
       "           [-0.0173,  0.0365,  0.0038],\n",
       "           [-0.0011,  0.0063,  0.0234]],\n",
       " \n",
       "          [[-0.0091, -0.0287, -0.0046],\n",
       "           [ 0.0026, -0.0198,  0.0465],\n",
       "           [-0.0108,  0.0042, -0.0302]],\n",
       " \n",
       "          [[-0.0190, -0.0461,  0.0798],\n",
       "           [-0.0224,  0.0761, -0.0391],\n",
       "           [ 0.0018,  0.0296, -0.0329]],\n",
       " \n",
       "          ...,\n",
       " \n",
       "          [[-0.0526,  0.0314, -0.0332],\n",
       "           [ 0.0179,  0.0041, -0.0246],\n",
       "           [-0.0195,  0.0112, -0.0424]],\n",
       " \n",
       "          [[-0.0314,  0.0089, -0.0165],\n",
       "           [ 0.0219, -0.0451,  0.0087],\n",
       "           [ 0.0078, -0.0056, -0.0025]],\n",
       " \n",
       "          [[-0.0025,  0.0570, -0.0258],\n",
       "           [-0.0109, -0.0575,  0.0279],\n",
       "           [-0.0786,  0.0266, -0.0299]]]], requires_grad=True),\n",
       " Parameter containing:\n",
       " tensor([1., 1., 1., 1., 1., 1., 1., 1., 1., 1., 1., 1., 1., 1., 1., 1., 1., 1.,\n",
       "         1., 1., 1., 1., 1., 1., 1., 1., 1., 1., 1., 1., 1., 1., 1., 1., 1., 1.,\n",
       "         1., 1., 1., 1., 1., 1., 1., 1., 1., 1., 1., 1., 1., 1., 1., 1., 1., 1.,\n",
       "         1., 1., 1., 1., 1., 1., 1., 1., 1., 1., 1., 1., 1., 1., 1., 1., 1., 1.,\n",
       "         1., 1., 1., 1., 1., 1., 1., 1., 1., 1., 1., 1., 1., 1., 1., 1., 1., 1.,\n",
       "         1., 1., 1., 1., 1., 1., 1., 1., 1., 1., 1., 1., 1., 1., 1., 1., 1., 1.,\n",
       "         1., 1., 1., 1., 1., 1., 1., 1., 1., 1., 1., 1., 1., 1., 1., 1., 1., 1.,\n",
       "         1., 1., 1., 1., 1., 1., 1., 1., 1., 1., 1., 1., 1., 1., 1., 1., 1., 1.,\n",
       "         1., 1., 1., 1., 1., 1., 1., 1., 1., 1., 1., 1., 1., 1., 1., 1., 1., 1.,\n",
       "         1., 1., 1., 1., 1., 1., 1., 1., 1., 1., 1., 1., 1., 1., 1., 1., 1., 1.,\n",
       "         1., 1., 1., 1., 1., 1., 1., 1., 1., 1., 1., 1., 1., 1., 1., 1., 1., 1.,\n",
       "         1., 1., 1., 1., 1., 1., 1., 1., 1., 1., 1., 1., 1., 1., 1., 1., 1., 1.,\n",
       "         1., 1., 1., 1., 1., 1., 1., 1., 1., 1., 1., 1., 1., 1., 1., 1., 1., 1.,\n",
       "         1., 1., 1., 1., 1., 1., 1., 1., 1., 1., 1., 1., 1., 1., 1., 1., 1., 1.,\n",
       "         1., 1., 1., 1.], requires_grad=True),\n",
       " Parameter containing:\n",
       " tensor([0., 0., 0., 0., 0., 0., 0., 0., 0., 0., 0., 0., 0., 0., 0., 0., 0., 0., 0., 0., 0., 0., 0., 0.,\n",
       "         0., 0., 0., 0., 0., 0., 0., 0., 0., 0., 0., 0., 0., 0., 0., 0., 0., 0., 0., 0., 0., 0., 0., 0.,\n",
       "         0., 0., 0., 0., 0., 0., 0., 0., 0., 0., 0., 0., 0., 0., 0., 0., 0., 0., 0., 0., 0., 0., 0., 0.,\n",
       "         0., 0., 0., 0., 0., 0., 0., 0., 0., 0., 0., 0., 0., 0., 0., 0., 0., 0., 0., 0., 0., 0., 0., 0.,\n",
       "         0., 0., 0., 0., 0., 0., 0., 0., 0., 0., 0., 0., 0., 0., 0., 0., 0., 0., 0., 0., 0., 0., 0., 0.,\n",
       "         0., 0., 0., 0., 0., 0., 0., 0., 0., 0., 0., 0., 0., 0., 0., 0., 0., 0., 0., 0., 0., 0., 0., 0.,\n",
       "         0., 0., 0., 0., 0., 0., 0., 0., 0., 0., 0., 0., 0., 0., 0., 0., 0., 0., 0., 0., 0., 0., 0., 0.,\n",
       "         0., 0., 0., 0., 0., 0., 0., 0., 0., 0., 0., 0., 0., 0., 0., 0., 0., 0., 0., 0., 0., 0., 0., 0.,\n",
       "         0., 0., 0., 0., 0., 0., 0., 0., 0., 0., 0., 0., 0., 0., 0., 0., 0., 0., 0., 0., 0., 0., 0., 0.,\n",
       "         0., 0., 0., 0., 0., 0., 0., 0., 0., 0., 0., 0., 0., 0., 0., 0., 0., 0., 0., 0., 0., 0., 0., 0.,\n",
       "         0., 0., 0., 0., 0., 0., 0., 0., 0., 0., 0., 0., 0., 0., 0., 0.],\n",
       "        requires_grad=True),\n",
       " Parameter containing:\n",
       " tensor([[[[ 0.0470,  0.0213, -0.0175],\n",
       "           [ 0.0300, -0.0193, -0.0400],\n",
       "           [-0.0006,  0.0289, -0.0597]],\n",
       " \n",
       "          [[-0.0055, -0.0066,  0.0018],\n",
       "           [-0.0311, -0.0311,  0.0082],\n",
       "           [ 0.0603,  0.0363,  0.0174]],\n",
       " \n",
       "          [[-0.0686, -0.0035,  0.0267],\n",
       "           [-0.0380, -0.0118,  0.0008],\n",
       "           [-0.0066, -0.0318,  0.0266]],\n",
       " \n",
       "          ...,\n",
       " \n",
       "          [[ 0.0175,  0.0176,  0.0222],\n",
       "           [ 0.0558, -0.0074, -0.0022],\n",
       "           [-0.0113,  0.0229, -0.0022]],\n",
       " \n",
       "          [[ 0.0233, -0.0330,  0.0031],\n",
       "           [ 0.0280, -0.0339,  0.0253],\n",
       "           [-0.0065,  0.0107,  0.0158]],\n",
       " \n",
       "          [[-0.0255,  0.0045, -0.0881],\n",
       "           [-0.0132, -0.0606,  0.0166],\n",
       "           [ 0.0115,  0.0104,  0.0090]]],\n",
       " \n",
       " \n",
       "         [[[ 0.0440,  0.0147, -0.0090],\n",
       "           [-0.0425, -0.0300,  0.0305],\n",
       "           [ 0.0202, -0.0041, -0.0007]],\n",
       " \n",
       "          [[-0.0229, -0.0075, -0.0005],\n",
       "           [-0.0183, -0.0125,  0.0094],\n",
       "           [ 0.0033, -0.0206,  0.0178]],\n",
       " \n",
       "          [[ 0.0685,  0.0164,  0.0260],\n",
       "           [ 0.0507, -0.0050,  0.0324],\n",
       "           [ 0.0354, -0.0387, -0.0292]],\n",
       " \n",
       "          ...,\n",
       " \n",
       "          [[-0.0982,  0.0095, -0.0154],\n",
       "           [ 0.0408,  0.0071, -0.0057],\n",
       "           [-0.0228, -0.0031, -0.0206]],\n",
       " \n",
       "          [[ 0.0468, -0.0688,  0.0152],\n",
       "           [-0.0387, -0.0133, -0.0318],\n",
       "           [ 0.0446,  0.0163, -0.0484]],\n",
       " \n",
       "          [[ 0.0440, -0.0136, -0.0399],\n",
       "           [-0.0306,  0.0151,  0.0096],\n",
       "           [ 0.0050,  0.0122,  0.0138]]],\n",
       " \n",
       " \n",
       "         [[[-0.0386, -0.0004,  0.0238],\n",
       "           [-0.0350,  0.0163, -0.0013],\n",
       "           [ 0.0102,  0.0416, -0.0075]],\n",
       " \n",
       "          [[-0.0603, -0.0292, -0.0251],\n",
       "           [ 0.0271,  0.0102,  0.0528],\n",
       "           [-0.0068, -0.0037, -0.0492]],\n",
       " \n",
       "          [[ 0.0037, -0.0255, -0.0054],\n",
       "           [ 0.0215, -0.0041,  0.0161],\n",
       "           [-0.0440,  0.0099,  0.0160]],\n",
       " \n",
       "          ...,\n",
       " \n",
       "          [[-0.0425, -0.0177, -0.0109],\n",
       "           [ 0.0319, -0.0082,  0.0390],\n",
       "           [-0.0255, -0.0292,  0.0046]],\n",
       " \n",
       "          [[ 0.0048, -0.0113, -0.0036],\n",
       "           [ 0.0264,  0.0228, -0.0456],\n",
       "           [ 0.0055,  0.0339, -0.0070]],\n",
       " \n",
       "          [[-0.0228,  0.0210, -0.0203],\n",
       "           [ 0.0351,  0.0310,  0.0058],\n",
       "           [ 0.0372,  0.0449, -0.0070]]],\n",
       " \n",
       " \n",
       "         ...,\n",
       " \n",
       " \n",
       "         [[[ 0.0198,  0.0485,  0.0311],\n",
       "           [ 0.0109,  0.0228,  0.0358],\n",
       "           [ 0.0056,  0.0526,  0.0214]],\n",
       " \n",
       "          [[ 0.0007,  0.0203,  0.0263],\n",
       "           [-0.0107, -0.0015, -0.0234],\n",
       "           [-0.0155,  0.0259,  0.0153]],\n",
       " \n",
       "          [[-0.0136,  0.0125,  0.0590],\n",
       "           [ 0.0224, -0.0029, -0.0203],\n",
       "           [ 0.0202,  0.0162, -0.0495]],\n",
       " \n",
       "          ...,\n",
       " \n",
       "          [[-0.0267, -0.0431,  0.0048],\n",
       "           [-0.0404, -0.0188,  0.0154],\n",
       "           [-0.0094, -0.0492,  0.0199]],\n",
       " \n",
       "          [[ 0.0444,  0.0057, -0.0406],\n",
       "           [-0.0125,  0.0257, -0.0165],\n",
       "           [-0.0192, -0.0078, -0.0184]],\n",
       " \n",
       "          [[-0.0123,  0.0065,  0.0164],\n",
       "           [-0.0112,  0.0803,  0.0046],\n",
       "           [-0.0447, -0.0106,  0.0151]]],\n",
       " \n",
       " \n",
       "         [[[ 0.0171, -0.0090, -0.0110],\n",
       "           [-0.0243, -0.0042, -0.0104],\n",
       "           [ 0.0248,  0.0325,  0.0320]],\n",
       " \n",
       "          [[ 0.0131, -0.0045, -0.0115],\n",
       "           [ 0.0077,  0.0091,  0.0348],\n",
       "           [ 0.0161,  0.0045, -0.0689]],\n",
       " \n",
       "          [[ 0.0030, -0.0177,  0.0023],\n",
       "           [-0.0094,  0.0012,  0.0051],\n",
       "           [ 0.0234, -0.0211, -0.0743]],\n",
       " \n",
       "          ...,\n",
       " \n",
       "          [[ 0.0231, -0.0176,  0.0242],\n",
       "           [ 0.0017, -0.0280, -0.0253],\n",
       "           [ 0.0065, -0.0240, -0.0069]],\n",
       " \n",
       "          [[ 0.0046,  0.0171, -0.0271],\n",
       "           [ 0.0263,  0.0398,  0.0115],\n",
       "           [ 0.0264,  0.0250, -0.0099]],\n",
       " \n",
       "          [[ 0.0003, -0.0645,  0.0091],\n",
       "           [ 0.0389, -0.0406, -0.0119],\n",
       "           [ 0.0094,  0.0211,  0.0109]]],\n",
       " \n",
       " \n",
       "         [[[-0.0021, -0.0417, -0.0048],\n",
       "           [-0.0377, -0.0058, -0.0293],\n",
       "           [-0.0253, -0.0160,  0.0232]],\n",
       " \n",
       "          [[-0.0130, -0.0150, -0.0142],\n",
       "           [ 0.0255,  0.0020, -0.0259],\n",
       "           [-0.0128,  0.0076, -0.0152]],\n",
       " \n",
       "          [[-0.0045, -0.0292,  0.0247],\n",
       "           [-0.0098, -0.0114,  0.0460],\n",
       "           [ 0.0164,  0.0173, -0.0349]],\n",
       " \n",
       "          ...,\n",
       " \n",
       "          [[ 0.0266, -0.0169,  0.0190],\n",
       "           [-0.0037,  0.0247,  0.0137],\n",
       "           [ 0.0228, -0.0138,  0.0013]],\n",
       " \n",
       "          [[ 0.0135, -0.0155, -0.0209],\n",
       "           [-0.0216, -0.0256,  0.0106],\n",
       "           [-0.0325,  0.0143,  0.0248]],\n",
       " \n",
       "          [[-0.0090,  0.0732, -0.0070],\n",
       "           [-0.0028, -0.0076,  0.0513],\n",
       "           [-0.0248,  0.0235, -0.0153]]]], requires_grad=True),\n",
       " Parameter containing:\n",
       " tensor([1., 1., 1., 1., 1., 1., 1., 1., 1., 1., 1., 1., 1., 1., 1., 1., 1., 1.,\n",
       "         1., 1., 1., 1., 1., 1., 1., 1., 1., 1., 1., 1., 1., 1., 1., 1., 1., 1.,\n",
       "         1., 1., 1., 1., 1., 1., 1., 1., 1., 1., 1., 1., 1., 1., 1., 1., 1., 1.,\n",
       "         1., 1., 1., 1., 1., 1., 1., 1., 1., 1., 1., 1., 1., 1., 1., 1., 1., 1.,\n",
       "         1., 1., 1., 1., 1., 1., 1., 1., 1., 1., 1., 1., 1., 1., 1., 1., 1., 1.,\n",
       "         1., 1., 1., 1., 1., 1., 1., 1., 1., 1., 1., 1., 1., 1., 1., 1., 1., 1.,\n",
       "         1., 1., 1., 1., 1., 1., 1., 1., 1., 1., 1., 1., 1., 1., 1., 1., 1., 1.,\n",
       "         1., 1., 1., 1., 1., 1., 1., 1., 1., 1., 1., 1., 1., 1., 1., 1., 1., 1.,\n",
       "         1., 1., 1., 1., 1., 1., 1., 1., 1., 1., 1., 1., 1., 1., 1., 1., 1., 1.,\n",
       "         1., 1., 1., 1., 1., 1., 1., 1., 1., 1., 1., 1., 1., 1., 1., 1., 1., 1.,\n",
       "         1., 1., 1., 1., 1., 1., 1., 1., 1., 1., 1., 1., 1., 1., 1., 1., 1., 1.,\n",
       "         1., 1., 1., 1., 1., 1., 1., 1., 1., 1., 1., 1., 1., 1., 1., 1., 1., 1.,\n",
       "         1., 1., 1., 1., 1., 1., 1., 1., 1., 1., 1., 1., 1., 1., 1., 1., 1., 1.,\n",
       "         1., 1., 1., 1., 1., 1., 1., 1., 1., 1., 1., 1., 1., 1., 1., 1., 1., 1.,\n",
       "         1., 1., 1., 1.], requires_grad=True),\n",
       " Parameter containing:\n",
       " tensor([0., 0., 0., 0., 0., 0., 0., 0., 0., 0., 0., 0., 0., 0., 0., 0., 0., 0., 0., 0., 0., 0., 0., 0.,\n",
       "         0., 0., 0., 0., 0., 0., 0., 0., 0., 0., 0., 0., 0., 0., 0., 0., 0., 0., 0., 0., 0., 0., 0., 0.,\n",
       "         0., 0., 0., 0., 0., 0., 0., 0., 0., 0., 0., 0., 0., 0., 0., 0., 0., 0., 0., 0., 0., 0., 0., 0.,\n",
       "         0., 0., 0., 0., 0., 0., 0., 0., 0., 0., 0., 0., 0., 0., 0., 0., 0., 0., 0., 0., 0., 0., 0., 0.,\n",
       "         0., 0., 0., 0., 0., 0., 0., 0., 0., 0., 0., 0., 0., 0., 0., 0., 0., 0., 0., 0., 0., 0., 0., 0.,\n",
       "         0., 0., 0., 0., 0., 0., 0., 0., 0., 0., 0., 0., 0., 0., 0., 0., 0., 0., 0., 0., 0., 0., 0., 0.,\n",
       "         0., 0., 0., 0., 0., 0., 0., 0., 0., 0., 0., 0., 0., 0., 0., 0., 0., 0., 0., 0., 0., 0., 0., 0.,\n",
       "         0., 0., 0., 0., 0., 0., 0., 0., 0., 0., 0., 0., 0., 0., 0., 0., 0., 0., 0., 0., 0., 0., 0., 0.,\n",
       "         0., 0., 0., 0., 0., 0., 0., 0., 0., 0., 0., 0., 0., 0., 0., 0., 0., 0., 0., 0., 0., 0., 0., 0.,\n",
       "         0., 0., 0., 0., 0., 0., 0., 0., 0., 0., 0., 0., 0., 0., 0., 0., 0., 0., 0., 0., 0., 0., 0., 0.,\n",
       "         0., 0., 0., 0., 0., 0., 0., 0., 0., 0., 0., 0., 0., 0., 0., 0.],\n",
       "        requires_grad=True),\n",
       " Parameter containing:\n",
       " tensor([[[[ 0.0269]],\n",
       " \n",
       "          [[ 0.0958]],\n",
       " \n",
       "          [[-0.0060]],\n",
       " \n",
       "          ...,\n",
       " \n",
       "          [[-0.0650]],\n",
       " \n",
       "          [[-0.1004]],\n",
       " \n",
       "          [[ 0.0916]]],\n",
       " \n",
       " \n",
       "         [[[ 0.0482]],\n",
       " \n",
       "          [[ 0.0040]],\n",
       " \n",
       "          [[-0.0813]],\n",
       " \n",
       "          ...,\n",
       " \n",
       "          [[-0.0219]],\n",
       " \n",
       "          [[-0.0699]],\n",
       " \n",
       "          [[ 0.0887]]],\n",
       " \n",
       " \n",
       "         [[[ 0.1537]],\n",
       " \n",
       "          [[-0.1740]],\n",
       " \n",
       "          [[-0.0136]],\n",
       " \n",
       "          ...,\n",
       " \n",
       "          [[ 0.0129]],\n",
       " \n",
       "          [[-0.0177]],\n",
       " \n",
       "          [[-0.0709]]],\n",
       " \n",
       " \n",
       "         ...,\n",
       " \n",
       " \n",
       "         [[[ 0.0248]],\n",
       " \n",
       "          [[-0.1020]],\n",
       " \n",
       "          [[-0.0404]],\n",
       " \n",
       "          ...,\n",
       " \n",
       "          [[-0.0155]],\n",
       " \n",
       "          [[ 0.1555]],\n",
       " \n",
       "          [[-0.0841]]],\n",
       " \n",
       " \n",
       "         [[[-0.1454]],\n",
       " \n",
       "          [[-0.1313]],\n",
       " \n",
       "          [[ 0.1205]],\n",
       " \n",
       "          ...,\n",
       " \n",
       "          [[-0.0614]],\n",
       " \n",
       "          [[-0.0475]],\n",
       " \n",
       "          [[ 0.1233]]],\n",
       " \n",
       " \n",
       "         [[[ 0.0924]],\n",
       " \n",
       "          [[ 0.2416]],\n",
       " \n",
       "          [[-0.1555]],\n",
       " \n",
       "          ...,\n",
       " \n",
       "          [[ 0.0470]],\n",
       " \n",
       "          [[-0.0465]],\n",
       " \n",
       "          [[ 0.1101]]]], requires_grad=True),\n",
       " Parameter containing:\n",
       " tensor([1., 1., 1., 1., 1., 1., 1., 1., 1., 1., 1., 1., 1., 1., 1., 1., 1., 1.,\n",
       "         1., 1., 1., 1., 1., 1., 1., 1., 1., 1., 1., 1., 1., 1., 1., 1., 1., 1.,\n",
       "         1., 1., 1., 1., 1., 1., 1., 1., 1., 1., 1., 1., 1., 1., 1., 1., 1., 1.,\n",
       "         1., 1., 1., 1., 1., 1., 1., 1., 1., 1., 1., 1., 1., 1., 1., 1., 1., 1.,\n",
       "         1., 1., 1., 1., 1., 1., 1., 1., 1., 1., 1., 1., 1., 1., 1., 1., 1., 1.,\n",
       "         1., 1., 1., 1., 1., 1., 1., 1., 1., 1., 1., 1., 1., 1., 1., 1., 1., 1.,\n",
       "         1., 1., 1., 1., 1., 1., 1., 1., 1., 1., 1., 1., 1., 1., 1., 1., 1., 1.,\n",
       "         1., 1., 1., 1., 1., 1., 1., 1., 1., 1., 1., 1., 1., 1., 1., 1., 1., 1.,\n",
       "         1., 1., 1., 1., 1., 1., 1., 1., 1., 1., 1., 1., 1., 1., 1., 1., 1., 1.,\n",
       "         1., 1., 1., 1., 1., 1., 1., 1., 1., 1., 1., 1., 1., 1., 1., 1., 1., 1.,\n",
       "         1., 1., 1., 1., 1., 1., 1., 1., 1., 1., 1., 1., 1., 1., 1., 1., 1., 1.,\n",
       "         1., 1., 1., 1., 1., 1., 1., 1., 1., 1., 1., 1., 1., 1., 1., 1., 1., 1.,\n",
       "         1., 1., 1., 1., 1., 1., 1., 1., 1., 1., 1., 1., 1., 1., 1., 1., 1., 1.,\n",
       "         1., 1., 1., 1., 1., 1., 1., 1., 1., 1., 1., 1., 1., 1., 1., 1., 1., 1.,\n",
       "         1., 1., 1., 1.], requires_grad=True),\n",
       " Parameter containing:\n",
       " tensor([0., 0., 0., 0., 0., 0., 0., 0., 0., 0., 0., 0., 0., 0., 0., 0., 0., 0., 0., 0., 0., 0., 0., 0.,\n",
       "         0., 0., 0., 0., 0., 0., 0., 0., 0., 0., 0., 0., 0., 0., 0., 0., 0., 0., 0., 0., 0., 0., 0., 0.,\n",
       "         0., 0., 0., 0., 0., 0., 0., 0., 0., 0., 0., 0., 0., 0., 0., 0., 0., 0., 0., 0., 0., 0., 0., 0.,\n",
       "         0., 0., 0., 0., 0., 0., 0., 0., 0., 0., 0., 0., 0., 0., 0., 0., 0., 0., 0., 0., 0., 0., 0., 0.,\n",
       "         0., 0., 0., 0., 0., 0., 0., 0., 0., 0., 0., 0., 0., 0., 0., 0., 0., 0., 0., 0., 0., 0., 0., 0.,\n",
       "         0., 0., 0., 0., 0., 0., 0., 0., 0., 0., 0., 0., 0., 0., 0., 0., 0., 0., 0., 0., 0., 0., 0., 0.,\n",
       "         0., 0., 0., 0., 0., 0., 0., 0., 0., 0., 0., 0., 0., 0., 0., 0., 0., 0., 0., 0., 0., 0., 0., 0.,\n",
       "         0., 0., 0., 0., 0., 0., 0., 0., 0., 0., 0., 0., 0., 0., 0., 0., 0., 0., 0., 0., 0., 0., 0., 0.,\n",
       "         0., 0., 0., 0., 0., 0., 0., 0., 0., 0., 0., 0., 0., 0., 0., 0., 0., 0., 0., 0., 0., 0., 0., 0.,\n",
       "         0., 0., 0., 0., 0., 0., 0., 0., 0., 0., 0., 0., 0., 0., 0., 0., 0., 0., 0., 0., 0., 0., 0., 0.,\n",
       "         0., 0., 0., 0., 0., 0., 0., 0., 0., 0., 0., 0., 0., 0., 0., 0.],\n",
       "        requires_grad=True),\n",
       " Parameter containing:\n",
       " tensor([[[[-0.0091, -0.0641, -0.0165],\n",
       "           [-0.0234, -0.0272, -0.0268],\n",
       "           [-0.0053,  0.0128,  0.0018]],\n",
       " \n",
       "          [[-0.0164,  0.0399, -0.0499],\n",
       "           [ 0.0631, -0.0120, -0.0060],\n",
       "           [ 0.0065,  0.0284, -0.0085]],\n",
       " \n",
       "          [[ 0.0078,  0.0587, -0.0354],\n",
       "           [-0.0187, -0.0345, -0.0372],\n",
       "           [-0.0464,  0.0301, -0.0286]],\n",
       " \n",
       "          ...,\n",
       " \n",
       "          [[-0.0027,  0.0111, -0.0229],\n",
       "           [ 0.0368, -0.0489,  0.0133],\n",
       "           [-0.0216, -0.0011, -0.0459]],\n",
       " \n",
       "          [[ 0.0032, -0.0039,  0.0140],\n",
       "           [ 0.0024,  0.0116, -0.0391],\n",
       "           [ 0.0014,  0.0084, -0.0058]],\n",
       " \n",
       "          [[-0.0154, -0.0358,  0.0028],\n",
       "           [ 0.0184, -0.0198,  0.0323],\n",
       "           [ 0.0105, -0.0284,  0.0060]]],\n",
       " \n",
       " \n",
       "         [[[ 0.0786, -0.0362,  0.0196],\n",
       "           [ 0.0085,  0.0052,  0.0071],\n",
       "           [-0.0285,  0.0001, -0.0421]],\n",
       " \n",
       "          [[ 0.0657, -0.0112, -0.0189],\n",
       "           [ 0.0191,  0.0081,  0.0135],\n",
       "           [-0.0297, -0.1091,  0.0115]],\n",
       " \n",
       "          [[ 0.0166, -0.0010,  0.0005],\n",
       "           [ 0.0631, -0.0274, -0.0085],\n",
       "           [-0.0055, -0.0258,  0.0089]],\n",
       " \n",
       "          ...,\n",
       " \n",
       "          [[-0.0194, -0.0147,  0.0166],\n",
       "           [ 0.0115, -0.0105,  0.0282],\n",
       "           [ 0.0915, -0.0054, -0.0396]],\n",
       " \n",
       "          [[-0.0047,  0.0394, -0.0730],\n",
       "           [ 0.0234,  0.0117, -0.0172],\n",
       "           [-0.0509,  0.0127, -0.0177]],\n",
       " \n",
       "          [[-0.0057,  0.0334, -0.0335],\n",
       "           [ 0.0121,  0.0195, -0.0315],\n",
       "           [-0.0197, -0.0153, -0.0087]]],\n",
       " \n",
       " \n",
       "         [[[ 0.0113, -0.0452, -0.0271],\n",
       "           [ 0.0324, -0.0075,  0.0064],\n",
       "           [ 0.0305,  0.0045, -0.0167]],\n",
       " \n",
       "          [[ 0.0346,  0.0075, -0.0007],\n",
       "           [-0.0283,  0.0082, -0.0247],\n",
       "           [-0.0027,  0.0490,  0.0350]],\n",
       " \n",
       "          [[-0.0085,  0.0299,  0.0031],\n",
       "           [ 0.0509, -0.0196, -0.0762],\n",
       "           [ 0.0442,  0.0262,  0.0351]],\n",
       " \n",
       "          ...,\n",
       " \n",
       "          [[-0.0525,  0.0212,  0.0247],\n",
       "           [-0.0058, -0.0187,  0.0040],\n",
       "           [ 0.0027,  0.0076, -0.0425]],\n",
       " \n",
       "          [[-0.0244,  0.0173, -0.0137],\n",
       "           [ 0.0174, -0.0268,  0.0311],\n",
       "           [-0.0213,  0.0709, -0.0123]],\n",
       " \n",
       "          [[ 0.0338,  0.0011,  0.0334],\n",
       "           [-0.0254, -0.0132,  0.0356],\n",
       "           [-0.0038, -0.0031, -0.0257]]],\n",
       " \n",
       " \n",
       "         ...,\n",
       " \n",
       " \n",
       "         [[[ 0.0020, -0.0015, -0.0291],\n",
       "           [-0.0462, -0.0261, -0.0416],\n",
       "           [-0.0162,  0.0108, -0.0070]],\n",
       " \n",
       "          [[-0.0035,  0.0638,  0.0285],\n",
       "           [ 0.0482,  0.0200, -0.0147],\n",
       "           [-0.0045, -0.0045, -0.0368]],\n",
       " \n",
       "          [[-0.0305,  0.0392,  0.0138],\n",
       "           [ 0.0096, -0.0232,  0.0102],\n",
       "           [-0.0241,  0.0063, -0.0072]],\n",
       " \n",
       "          ...,\n",
       " \n",
       "          [[-0.0188,  0.0276, -0.0218],\n",
       "           [ 0.0159,  0.0002, -0.0036],\n",
       "           [ 0.0072,  0.0208, -0.0056]],\n",
       " \n",
       "          [[ 0.0181, -0.0121, -0.0103],\n",
       "           [ 0.0078,  0.0040, -0.0354],\n",
       "           [-0.0573, -0.0194,  0.0405]],\n",
       " \n",
       "          [[-0.0173, -0.0294, -0.0053],\n",
       "           [ 0.0398,  0.0380, -0.0354],\n",
       "           [ 0.0184,  0.0021,  0.0241]]],\n",
       " \n",
       " \n",
       "         [[[-0.0494, -0.0179,  0.0022],\n",
       "           [-0.0063,  0.0094, -0.0007],\n",
       "           [-0.0020, -0.0219,  0.0304]],\n",
       " \n",
       "          [[ 0.0472,  0.0135,  0.0161],\n",
       "           [-0.0049, -0.0067, -0.0360],\n",
       "           [-0.0106, -0.0685, -0.0354]],\n",
       " \n",
       "          [[ 0.0166, -0.0191,  0.0015],\n",
       "           [ 0.0405,  0.0197,  0.0222],\n",
       "           [-0.0080,  0.0532, -0.0288]],\n",
       " \n",
       "          ...,\n",
       " \n",
       "          [[-0.0159,  0.0262,  0.0430],\n",
       "           [-0.0148, -0.0019,  0.0247],\n",
       "           [ 0.0356, -0.0340, -0.0524]],\n",
       " \n",
       "          [[-0.0319, -0.0079,  0.0450],\n",
       "           [ 0.0111,  0.0838,  0.0072],\n",
       "           [-0.0102, -0.0067, -0.0444]],\n",
       " \n",
       "          [[ 0.0049, -0.0337, -0.0676],\n",
       "           [-0.0219, -0.0007,  0.0109],\n",
       "           [-0.0027, -0.0456, -0.0088]]],\n",
       " \n",
       " \n",
       "         [[[ 0.0340,  0.0280, -0.0439],\n",
       "           [-0.0196, -0.0194, -0.0391],\n",
       "           [ 0.0464, -0.0400,  0.0104]],\n",
       " \n",
       "          [[ 0.0054,  0.0022,  0.0233],\n",
       "           [ 0.0199,  0.0108,  0.0285],\n",
       "           [-0.0121,  0.0212,  0.0354]],\n",
       " \n",
       "          [[-0.0005, -0.0250, -0.0375],\n",
       "           [ 0.0094,  0.0081, -0.0228],\n",
       "           [-0.0124, -0.0233,  0.0079]],\n",
       " \n",
       "          ...,\n",
       " \n",
       "          [[-0.0824, -0.0246, -0.0057],\n",
       "           [ 0.0255,  0.0503, -0.0212],\n",
       "           [ 0.0071, -0.0008, -0.0049]],\n",
       " \n",
       "          [[-0.0198,  0.0284, -0.0043],\n",
       "           [ 0.0298, -0.0183,  0.0327],\n",
       "           [ 0.0354, -0.0140, -0.0152]],\n",
       " \n",
       "          [[-0.0109,  0.0610,  0.0279],\n",
       "           [ 0.0081,  0.0130, -0.0157],\n",
       "           [ 0.0110,  0.0047,  0.0185]]]], requires_grad=True),\n",
       " Parameter containing:\n",
       " tensor([1., 1., 1., 1., 1., 1., 1., 1., 1., 1., 1., 1., 1., 1., 1., 1., 1., 1.,\n",
       "         1., 1., 1., 1., 1., 1., 1., 1., 1., 1., 1., 1., 1., 1., 1., 1., 1., 1.,\n",
       "         1., 1., 1., 1., 1., 1., 1., 1., 1., 1., 1., 1., 1., 1., 1., 1., 1., 1.,\n",
       "         1., 1., 1., 1., 1., 1., 1., 1., 1., 1., 1., 1., 1., 1., 1., 1., 1., 1.,\n",
       "         1., 1., 1., 1., 1., 1., 1., 1., 1., 1., 1., 1., 1., 1., 1., 1., 1., 1.,\n",
       "         1., 1., 1., 1., 1., 1., 1., 1., 1., 1., 1., 1., 1., 1., 1., 1., 1., 1.,\n",
       "         1., 1., 1., 1., 1., 1., 1., 1., 1., 1., 1., 1., 1., 1., 1., 1., 1., 1.,\n",
       "         1., 1., 1., 1., 1., 1., 1., 1., 1., 1., 1., 1., 1., 1., 1., 1., 1., 1.,\n",
       "         1., 1., 1., 1., 1., 1., 1., 1., 1., 1., 1., 1., 1., 1., 1., 1., 1., 1.,\n",
       "         1., 1., 1., 1., 1., 1., 1., 1., 1., 1., 1., 1., 1., 1., 1., 1., 1., 1.,\n",
       "         1., 1., 1., 1., 1., 1., 1., 1., 1., 1., 1., 1., 1., 1., 1., 1., 1., 1.,\n",
       "         1., 1., 1., 1., 1., 1., 1., 1., 1., 1., 1., 1., 1., 1., 1., 1., 1., 1.,\n",
       "         1., 1., 1., 1., 1., 1., 1., 1., 1., 1., 1., 1., 1., 1., 1., 1., 1., 1.,\n",
       "         1., 1., 1., 1., 1., 1., 1., 1., 1., 1., 1., 1., 1., 1., 1., 1., 1., 1.,\n",
       "         1., 1., 1., 1.], requires_grad=True),\n",
       " Parameter containing:\n",
       " tensor([0., 0., 0., 0., 0., 0., 0., 0., 0., 0., 0., 0., 0., 0., 0., 0., 0., 0., 0., 0., 0., 0., 0., 0.,\n",
       "         0., 0., 0., 0., 0., 0., 0., 0., 0., 0., 0., 0., 0., 0., 0., 0., 0., 0., 0., 0., 0., 0., 0., 0.,\n",
       "         0., 0., 0., 0., 0., 0., 0., 0., 0., 0., 0., 0., 0., 0., 0., 0., 0., 0., 0., 0., 0., 0., 0., 0.,\n",
       "         0., 0., 0., 0., 0., 0., 0., 0., 0., 0., 0., 0., 0., 0., 0., 0., 0., 0., 0., 0., 0., 0., 0., 0.,\n",
       "         0., 0., 0., 0., 0., 0., 0., 0., 0., 0., 0., 0., 0., 0., 0., 0., 0., 0., 0., 0., 0., 0., 0., 0.,\n",
       "         0., 0., 0., 0., 0., 0., 0., 0., 0., 0., 0., 0., 0., 0., 0., 0., 0., 0., 0., 0., 0., 0., 0., 0.,\n",
       "         0., 0., 0., 0., 0., 0., 0., 0., 0., 0., 0., 0., 0., 0., 0., 0., 0., 0., 0., 0., 0., 0., 0., 0.,\n",
       "         0., 0., 0., 0., 0., 0., 0., 0., 0., 0., 0., 0., 0., 0., 0., 0., 0., 0., 0., 0., 0., 0., 0., 0.,\n",
       "         0., 0., 0., 0., 0., 0., 0., 0., 0., 0., 0., 0., 0., 0., 0., 0., 0., 0., 0., 0., 0., 0., 0., 0.,\n",
       "         0., 0., 0., 0., 0., 0., 0., 0., 0., 0., 0., 0., 0., 0., 0., 0., 0., 0., 0., 0., 0., 0., 0., 0.,\n",
       "         0., 0., 0., 0., 0., 0., 0., 0., 0., 0., 0., 0., 0., 0., 0., 0.],\n",
       "        requires_grad=True),\n",
       " Parameter containing:\n",
       " tensor([[[[ 3.3781e-02,  3.7235e-02, -1.9699e-02],\n",
       "           [ 1.6378e-02, -1.0310e-02, -6.8931e-02],\n",
       "           [-3.3600e-03, -3.9823e-03,  1.8420e-02]],\n",
       " \n",
       "          [[-3.3473e-02, -2.7814e-02,  9.9750e-03],\n",
       "           [-2.4651e-02, -3.3276e-02, -2.6683e-02],\n",
       "           [ 2.5806e-03,  2.4548e-02,  1.9828e-02]],\n",
       " \n",
       "          [[-8.9815e-03, -5.7906e-02,  9.1772e-03],\n",
       "           [ 2.0217e-02, -4.3004e-02,  4.3595e-03],\n",
       "           [ 4.2085e-03,  5.1343e-02, -2.8091e-02]],\n",
       " \n",
       "          ...,\n",
       " \n",
       "          [[-6.2434e-02,  2.4280e-02,  8.1237e-03],\n",
       "           [-9.5372e-03, -5.2801e-02, -3.7948e-02],\n",
       "           [-1.1732e-02, -2.6241e-02, -5.7058e-02]],\n",
       " \n",
       "          [[-3.9329e-02, -2.9336e-02, -2.5563e-03],\n",
       "           [-1.1683e-02,  5.7851e-02, -2.8121e-02],\n",
       "           [ 4.1228e-02,  3.4978e-02, -2.6660e-02]],\n",
       " \n",
       "          [[ 5.8734e-02,  5.4784e-02, -1.7190e-02],\n",
       "           [-4.8360e-04, -2.1467e-02,  2.4284e-02],\n",
       "           [ 1.2415e-02,  1.5777e-02,  9.8966e-03]]],\n",
       " \n",
       " \n",
       "         [[[-1.2495e-02, -4.5026e-03,  3.5066e-02],\n",
       "           [ 3.8429e-04,  4.5530e-03,  7.4476e-03],\n",
       "           [ 5.1367e-04,  1.4279e-02,  1.5599e-02]],\n",
       " \n",
       "          [[ 5.0937e-02, -4.3928e-02,  1.3144e-02],\n",
       "           [ 6.0370e-03,  3.4768e-02,  4.2432e-02],\n",
       "           [ 6.2094e-02,  2.0120e-02,  2.5811e-02]],\n",
       " \n",
       "          [[ 1.3889e-02,  5.5731e-02, -2.5032e-02],\n",
       "           [ 4.6754e-02,  3.3315e-02, -1.2113e-02],\n",
       "           [ 3.0233e-02,  1.3037e-02,  2.8052e-02]],\n",
       " \n",
       "          ...,\n",
       " \n",
       "          [[-2.1660e-02, -2.4644e-02, -2.7741e-02],\n",
       "           [ 7.0123e-03,  1.2445e-02,  4.6026e-03],\n",
       "           [ 8.2904e-02,  4.0914e-02, -5.9618e-02]],\n",
       " \n",
       "          [[-1.8094e-02,  1.9095e-02,  1.7267e-02],\n",
       "           [-1.6930e-02, -8.7951e-03,  5.5923e-03],\n",
       "           [-2.8141e-02, -1.5487e-02, -4.2012e-02]],\n",
       " \n",
       "          [[-1.5104e-03,  3.0412e-02, -1.3910e-02],\n",
       "           [-1.0787e-02, -5.9404e-03, -1.6351e-03],\n",
       "           [ 2.7294e-02, -3.7942e-02,  4.0685e-02]]],\n",
       " \n",
       " \n",
       "         [[[-1.3690e-02,  2.9831e-02,  3.2656e-02],\n",
       "           [ 4.8274e-02, -6.0373e-03, -6.1085e-02],\n",
       "           [ 1.4859e-02,  6.8283e-02, -3.0141e-02]],\n",
       " \n",
       "          [[-1.1556e-02,  1.1563e-02,  1.1819e-02],\n",
       "           [-3.4255e-02,  1.0882e-02, -3.5169e-02],\n",
       "           [ 3.7439e-02, -1.6422e-02,  9.6615e-03]],\n",
       " \n",
       "          [[-7.6552e-03, -2.1311e-02, -1.0551e-02],\n",
       "           [ 2.9714e-02,  2.9536e-02,  2.5019e-02],\n",
       "           [-3.3798e-02, -4.5205e-02, -1.3335e-02]],\n",
       " \n",
       "          ...,\n",
       " \n",
       "          [[ 1.5921e-03, -1.9294e-02, -1.3135e-02],\n",
       "           [ 4.1030e-03,  2.5111e-02,  1.7849e-02],\n",
       "           [ 4.0660e-02, -4.6110e-02, -5.2497e-02]],\n",
       " \n",
       "          [[-2.9930e-02,  5.0236e-02,  1.7924e-02],\n",
       "           [ 4.1331e-02,  3.2117e-05, -4.2938e-02],\n",
       "           [ 1.3783e-02,  4.6089e-02, -2.6840e-02]],\n",
       " \n",
       "          [[-5.8054e-02,  5.0747e-03, -5.0875e-02],\n",
       "           [ 1.4286e-02,  4.8969e-02,  3.0937e-02],\n",
       "           [-3.1693e-02, -4.8696e-03, -1.2732e-02]]],\n",
       " \n",
       " \n",
       "         ...,\n",
       " \n",
       " \n",
       "         [[[-5.4095e-02, -1.4489e-02,  2.6453e-02],\n",
       "           [-1.6571e-02, -2.4225e-02, -1.4451e-02],\n",
       "           [-1.1124e-02,  3.1746e-02, -6.4159e-03]],\n",
       " \n",
       "          [[ 1.4851e-02,  3.8568e-02, -1.3731e-02],\n",
       "           [ 1.1319e-02,  1.4949e-02, -1.8583e-02],\n",
       "           [ 5.9958e-02,  4.2302e-02,  5.5512e-02]],\n",
       " \n",
       "          [[-6.3366e-02, -2.7456e-02,  6.8938e-04],\n",
       "           [ 3.1852e-02,  3.8979e-02,  3.4482e-02],\n",
       "           [-1.5742e-02,  2.7638e-02, -1.5170e-02]],\n",
       " \n",
       "          ...,\n",
       " \n",
       "          [[ 1.2183e-02, -4.6764e-03,  4.2688e-02],\n",
       "           [-2.3765e-02,  1.0043e-03, -6.1101e-03],\n",
       "           [ 1.7802e-02,  8.6205e-03,  6.5066e-02]],\n",
       " \n",
       "          [[ 1.4637e-02, -2.8478e-03,  1.4572e-02],\n",
       "           [-2.5027e-03,  4.4755e-02,  5.6326e-02],\n",
       "           [ 2.8925e-02, -1.7077e-02,  1.1567e-02]],\n",
       " \n",
       "          [[-2.4339e-02, -8.9386e-02, -4.0009e-02],\n",
       "           [-3.0567e-02, -2.8445e-02,  7.0578e-03],\n",
       "           [-4.2112e-02,  1.3454e-02,  1.4052e-02]]],\n",
       " \n",
       " \n",
       "         [[[ 9.2263e-03,  1.7056e-02,  2.7795e-02],\n",
       "           [-6.2423e-02, -1.5918e-02,  4.5407e-03],\n",
       "           [ 1.2579e-03,  2.9482e-02, -3.6352e-02]],\n",
       " \n",
       "          [[-3.1755e-02, -1.6845e-02,  4.5027e-02],\n",
       "           [-3.5747e-03, -2.5375e-02,  5.5347e-03],\n",
       "           [ 1.0854e-02, -3.1110e-02, -4.5424e-02]],\n",
       " \n",
       "          [[ 4.0021e-03, -5.9304e-05,  3.0026e-03],\n",
       "           [ 6.1074e-04, -5.4926e-02, -6.6596e-03],\n",
       "           [ 2.6741e-03, -2.0718e-02,  3.4393e-02]],\n",
       " \n",
       "          ...,\n",
       " \n",
       "          [[ 9.0872e-04,  7.4410e-03, -3.6457e-02],\n",
       "           [ 3.8926e-02, -2.6878e-02, -1.8878e-02],\n",
       "           [ 2.7854e-02,  1.4109e-02,  1.5367e-03]],\n",
       " \n",
       "          [[-7.1224e-02, -1.1702e-02,  9.9442e-03],\n",
       "           [ 5.0853e-02,  2.2118e-03,  4.2290e-02],\n",
       "           [ 2.4864e-02,  7.5560e-02, -1.7328e-02]],\n",
       " \n",
       "          [[ 3.5102e-02,  9.6195e-06,  1.0590e-02],\n",
       "           [-4.0124e-02, -3.3514e-02,  4.5489e-03],\n",
       "           [-1.5542e-02,  4.3881e-03,  5.3521e-03]]],\n",
       " \n",
       " \n",
       "         [[[ 1.9874e-02, -6.6771e-03, -3.6185e-02],\n",
       "           [ 1.7890e-03, -6.7682e-03, -1.9731e-02],\n",
       "           [-5.4435e-03, -3.9241e-02, -7.6696e-02]],\n",
       " \n",
       "          [[ 1.5880e-02,  7.3713e-02,  1.3563e-02],\n",
       "           [ 8.6983e-02,  9.8414e-03,  7.7575e-03],\n",
       "           [ 1.4299e-03,  3.1299e-02, -1.8907e-02]],\n",
       " \n",
       "          [[-4.9859e-02,  2.3207e-02,  6.1100e-03],\n",
       "           [ 3.8343e-02,  1.4686e-02,  1.7694e-03],\n",
       "           [-4.0232e-03,  3.1611e-03, -5.9598e-03]],\n",
       " \n",
       "          ...,\n",
       " \n",
       "          [[ 8.9306e-03,  1.3832e-03,  1.0147e-02],\n",
       "           [-3.5964e-03,  6.5266e-06,  1.9292e-02],\n",
       "           [-7.8115e-03,  8.3663e-04, -1.3906e-02]],\n",
       " \n",
       "          [[ 4.0439e-02,  2.0463e-03,  1.1884e-02],\n",
       "           [ 2.5956e-02,  6.3004e-03,  3.8988e-02],\n",
       "           [ 1.4923e-02,  3.9955e-02,  1.2503e-02]],\n",
       " \n",
       "          [[-5.7084e-04, -2.1932e-02, -5.3617e-02],\n",
       "           [-8.5613e-03, -8.0286e-03, -1.1899e-04],\n",
       "           [ 6.1936e-02, -4.8514e-05, -8.0756e-02]]]], requires_grad=True),\n",
       " Parameter containing:\n",
       " tensor([1., 1., 1., 1., 1., 1., 1., 1., 1., 1., 1., 1., 1., 1., 1., 1., 1., 1.,\n",
       "         1., 1., 1., 1., 1., 1., 1., 1., 1., 1., 1., 1., 1., 1., 1., 1., 1., 1.,\n",
       "         1., 1., 1., 1., 1., 1., 1., 1., 1., 1., 1., 1., 1., 1., 1., 1., 1., 1.,\n",
       "         1., 1., 1., 1., 1., 1., 1., 1., 1., 1., 1., 1., 1., 1., 1., 1., 1., 1.,\n",
       "         1., 1., 1., 1., 1., 1., 1., 1., 1., 1., 1., 1., 1., 1., 1., 1., 1., 1.,\n",
       "         1., 1., 1., 1., 1., 1., 1., 1., 1., 1., 1., 1., 1., 1., 1., 1., 1., 1.,\n",
       "         1., 1., 1., 1., 1., 1., 1., 1., 1., 1., 1., 1., 1., 1., 1., 1., 1., 1.,\n",
       "         1., 1., 1., 1., 1., 1., 1., 1., 1., 1., 1., 1., 1., 1., 1., 1., 1., 1.,\n",
       "         1., 1., 1., 1., 1., 1., 1., 1., 1., 1., 1., 1., 1., 1., 1., 1., 1., 1.,\n",
       "         1., 1., 1., 1., 1., 1., 1., 1., 1., 1., 1., 1., 1., 1., 1., 1., 1., 1.,\n",
       "         1., 1., 1., 1., 1., 1., 1., 1., 1., 1., 1., 1., 1., 1., 1., 1., 1., 1.,\n",
       "         1., 1., 1., 1., 1., 1., 1., 1., 1., 1., 1., 1., 1., 1., 1., 1., 1., 1.,\n",
       "         1., 1., 1., 1., 1., 1., 1., 1., 1., 1., 1., 1., 1., 1., 1., 1., 1., 1.,\n",
       "         1., 1., 1., 1., 1., 1., 1., 1., 1., 1., 1., 1., 1., 1., 1., 1., 1., 1.,\n",
       "         1., 1., 1., 1.], requires_grad=True),\n",
       " Parameter containing:\n",
       " tensor([0., 0., 0., 0., 0., 0., 0., 0., 0., 0., 0., 0., 0., 0., 0., 0., 0., 0., 0., 0., 0., 0., 0., 0.,\n",
       "         0., 0., 0., 0., 0., 0., 0., 0., 0., 0., 0., 0., 0., 0., 0., 0., 0., 0., 0., 0., 0., 0., 0., 0.,\n",
       "         0., 0., 0., 0., 0., 0., 0., 0., 0., 0., 0., 0., 0., 0., 0., 0., 0., 0., 0., 0., 0., 0., 0., 0.,\n",
       "         0., 0., 0., 0., 0., 0., 0., 0., 0., 0., 0., 0., 0., 0., 0., 0., 0., 0., 0., 0., 0., 0., 0., 0.,\n",
       "         0., 0., 0., 0., 0., 0., 0., 0., 0., 0., 0., 0., 0., 0., 0., 0., 0., 0., 0., 0., 0., 0., 0., 0.,\n",
       "         0., 0., 0., 0., 0., 0., 0., 0., 0., 0., 0., 0., 0., 0., 0., 0., 0., 0., 0., 0., 0., 0., 0., 0.,\n",
       "         0., 0., 0., 0., 0., 0., 0., 0., 0., 0., 0., 0., 0., 0., 0., 0., 0., 0., 0., 0., 0., 0., 0., 0.,\n",
       "         0., 0., 0., 0., 0., 0., 0., 0., 0., 0., 0., 0., 0., 0., 0., 0., 0., 0., 0., 0., 0., 0., 0., 0.,\n",
       "         0., 0., 0., 0., 0., 0., 0., 0., 0., 0., 0., 0., 0., 0., 0., 0., 0., 0., 0., 0., 0., 0., 0., 0.,\n",
       "         0., 0., 0., 0., 0., 0., 0., 0., 0., 0., 0., 0., 0., 0., 0., 0., 0., 0., 0., 0., 0., 0., 0., 0.,\n",
       "         0., 0., 0., 0., 0., 0., 0., 0., 0., 0., 0., 0., 0., 0., 0., 0.],\n",
       "        requires_grad=True),\n",
       " Parameter containing:\n",
       " tensor([[[[-0.0028,  0.0126,  0.0019],\n",
       "           [ 0.0220, -0.0175, -0.0243],\n",
       "           [ 0.0151,  0.0211, -0.0004]],\n",
       " \n",
       "          [[-0.0025, -0.0380,  0.0272],\n",
       "           [-0.0039, -0.0027, -0.0082],\n",
       "           [ 0.0439, -0.0123,  0.0054]],\n",
       " \n",
       "          [[-0.0423,  0.0130, -0.0099],\n",
       "           [-0.0047, -0.0127, -0.0043],\n",
       "           [-0.0073,  0.0052,  0.0081]],\n",
       " \n",
       "          ...,\n",
       " \n",
       "          [[ 0.0195, -0.0022,  0.0210],\n",
       "           [-0.0396,  0.0160,  0.0007],\n",
       "           [ 0.0158, -0.0066,  0.0011]],\n",
       " \n",
       "          [[ 0.0019,  0.0103, -0.0058],\n",
       "           [ 0.0010,  0.0160, -0.0311],\n",
       "           [-0.0038, -0.0115,  0.0072]],\n",
       " \n",
       "          [[ 0.0399, -0.0041, -0.0259],\n",
       "           [-0.0175, -0.0460,  0.0030],\n",
       "           [-0.0234, -0.0340, -0.0137]]],\n",
       " \n",
       " \n",
       "         [[[-0.0244,  0.0169,  0.0167],\n",
       "           [-0.0148,  0.0103, -0.0478],\n",
       "           [ 0.0092,  0.0061,  0.0345]],\n",
       " \n",
       "          [[ 0.0012, -0.0208,  0.0091],\n",
       "           [-0.0014, -0.0121, -0.0041],\n",
       "           [-0.0248,  0.0189, -0.0145]],\n",
       " \n",
       "          [[-0.0095,  0.0041, -0.0023],\n",
       "           [ 0.0184, -0.0034,  0.0107],\n",
       "           [ 0.0013,  0.0100, -0.0097]],\n",
       " \n",
       "          ...,\n",
       " \n",
       "          [[ 0.0043, -0.0064, -0.0123],\n",
       "           [-0.0122,  0.0259,  0.0334],\n",
       "           [ 0.0250, -0.0427,  0.0074]],\n",
       " \n",
       "          [[-0.0380,  0.0383, -0.0270],\n",
       "           [ 0.0014,  0.0012, -0.0089],\n",
       "           [-0.0515, -0.0044, -0.0266]],\n",
       " \n",
       "          [[-0.0478,  0.0146,  0.0071],\n",
       "           [ 0.0088, -0.0152, -0.0073],\n",
       "           [-0.0153,  0.0002, -0.0057]]],\n",
       " \n",
       " \n",
       "         [[[ 0.0130, -0.0015, -0.0115],\n",
       "           [ 0.0121, -0.0037, -0.0356],\n",
       "           [ 0.0153, -0.0148,  0.0124]],\n",
       " \n",
       "          [[ 0.0004, -0.0022, -0.0180],\n",
       "           [ 0.0140, -0.0044,  0.0117],\n",
       "           [ 0.0211,  0.0163,  0.0097]],\n",
       " \n",
       "          [[-0.0261,  0.0356, -0.0215],\n",
       "           [-0.0084, -0.0241,  0.0126],\n",
       "           [-0.0014, -0.0429,  0.0047]],\n",
       " \n",
       "          ...,\n",
       " \n",
       "          [[ 0.0113, -0.0050,  0.0061],\n",
       "           [-0.0083,  0.0058,  0.0101],\n",
       "           [ 0.0058,  0.0187,  0.0033]],\n",
       " \n",
       "          [[ 0.0069,  0.0045, -0.0231],\n",
       "           [ 0.0017,  0.0014,  0.0383],\n",
       "           [ 0.0299, -0.0077,  0.0253]],\n",
       " \n",
       "          [[ 0.0071, -0.0434,  0.0007],\n",
       "           [-0.0255, -0.0387,  0.0081],\n",
       "           [-0.0120, -0.0025,  0.0084]]],\n",
       " \n",
       " \n",
       "         ...,\n",
       " \n",
       " \n",
       "         [[[ 0.0396, -0.0115, -0.0113],\n",
       "           [-0.0021,  0.0264,  0.0166],\n",
       "           [-0.0043,  0.0391, -0.0128]],\n",
       " \n",
       "          [[ 0.0006,  0.0036, -0.0149],\n",
       "           [ 0.0141,  0.0027, -0.0339],\n",
       "           [ 0.0107,  0.0548, -0.0016]],\n",
       " \n",
       "          [[ 0.0301, -0.0010,  0.0059],\n",
       "           [ 0.0048,  0.0307,  0.0094],\n",
       "           [-0.0090,  0.0190,  0.0230]],\n",
       " \n",
       "          ...,\n",
       " \n",
       "          [[-0.0031,  0.0100,  0.0421],\n",
       "           [ 0.0273,  0.0148, -0.0404],\n",
       "           [-0.0110,  0.0262,  0.0272]],\n",
       " \n",
       "          [[ 0.0021,  0.0266,  0.0089],\n",
       "           [ 0.0085,  0.0150,  0.0430],\n",
       "           [ 0.0101,  0.0192,  0.0321]],\n",
       " \n",
       "          [[-0.0111, -0.0234, -0.0312],\n",
       "           [-0.0067,  0.0084,  0.0082],\n",
       "           [ 0.0062,  0.0046,  0.0287]]],\n",
       " \n",
       " \n",
       "         [[[ 0.0112,  0.0083, -0.0226],\n",
       "           [-0.0208,  0.0011,  0.0053],\n",
       "           [-0.0154,  0.0687, -0.0510]],\n",
       " \n",
       "          [[ 0.0017, -0.0249,  0.0015],\n",
       "           [-0.0117,  0.0046,  0.0159],\n",
       "           [ 0.0012, -0.0168,  0.0056]],\n",
       " \n",
       "          [[-0.0266,  0.0282,  0.0006],\n",
       "           [-0.0054,  0.0166, -0.0116],\n",
       "           [-0.0077,  0.0047, -0.0119]],\n",
       " \n",
       "          ...,\n",
       " \n",
       "          [[-0.0011, -0.0074, -0.0237],\n",
       "           [ 0.0255,  0.0298,  0.0194],\n",
       "           [-0.0011, -0.0134, -0.0031]],\n",
       " \n",
       "          [[-0.0137, -0.0229,  0.0376],\n",
       "           [ 0.0040,  0.0102,  0.0281],\n",
       "           [ 0.0065, -0.0208,  0.0401]],\n",
       " \n",
       "          [[-0.0302, -0.0099,  0.0119],\n",
       "           [ 0.0057,  0.0188, -0.0188],\n",
       "           [-0.0112, -0.0038,  0.0095]]],\n",
       " \n",
       " \n",
       "         [[[ 0.0364,  0.0055,  0.0219],\n",
       "           [-0.0021,  0.0136,  0.0090],\n",
       "           [ 0.0163, -0.0229, -0.0112]],\n",
       " \n",
       "          [[-0.0133,  0.0240, -0.0017],\n",
       "           [ 0.0293, -0.0034,  0.0133],\n",
       "           [ 0.0459, -0.0564, -0.0155]],\n",
       " \n",
       "          [[ 0.0015, -0.0324, -0.0137],\n",
       "           [ 0.0052,  0.0311, -0.0026],\n",
       "           [-0.0237, -0.0126,  0.0052]],\n",
       " \n",
       "          ...,\n",
       " \n",
       "          [[ 0.0280, -0.0117,  0.0063],\n",
       "           [ 0.0004,  0.0089,  0.0133],\n",
       "           [-0.0142, -0.0054,  0.0178]],\n",
       " \n",
       "          [[-0.0123,  0.0128,  0.0466],\n",
       "           [ 0.0515,  0.0454,  0.0083],\n",
       "           [ 0.0378,  0.0114, -0.0064]],\n",
       " \n",
       "          [[ 0.0298,  0.0015,  0.0007],\n",
       "           [ 0.0055, -0.0121,  0.0079],\n",
       "           [-0.0087,  0.0288, -0.0299]]]], requires_grad=True),\n",
       " Parameter containing:\n",
       " tensor([1., 1., 1., 1., 1., 1., 1., 1., 1., 1., 1., 1., 1., 1., 1., 1., 1., 1.,\n",
       "         1., 1., 1., 1., 1., 1., 1., 1., 1., 1., 1., 1., 1., 1., 1., 1., 1., 1.,\n",
       "         1., 1., 1., 1., 1., 1., 1., 1., 1., 1., 1., 1., 1., 1., 1., 1., 1., 1.,\n",
       "         1., 1., 1., 1., 1., 1., 1., 1., 1., 1., 1., 1., 1., 1., 1., 1., 1., 1.,\n",
       "         1., 1., 1., 1., 1., 1., 1., 1., 1., 1., 1., 1., 1., 1., 1., 1., 1., 1.,\n",
       "         1., 1., 1., 1., 1., 1., 1., 1., 1., 1., 1., 1., 1., 1., 1., 1., 1., 1.,\n",
       "         1., 1., 1., 1., 1., 1., 1., 1., 1., 1., 1., 1., 1., 1., 1., 1., 1., 1.,\n",
       "         1., 1., 1., 1., 1., 1., 1., 1., 1., 1., 1., 1., 1., 1., 1., 1., 1., 1.,\n",
       "         1., 1., 1., 1., 1., 1., 1., 1., 1., 1., 1., 1., 1., 1., 1., 1., 1., 1.,\n",
       "         1., 1., 1., 1., 1., 1., 1., 1., 1., 1., 1., 1., 1., 1., 1., 1., 1., 1.,\n",
       "         1., 1., 1., 1., 1., 1., 1., 1., 1., 1., 1., 1., 1., 1., 1., 1., 1., 1.,\n",
       "         1., 1., 1., 1., 1., 1., 1., 1., 1., 1., 1., 1., 1., 1., 1., 1., 1., 1.,\n",
       "         1., 1., 1., 1., 1., 1., 1., 1., 1., 1., 1., 1., 1., 1., 1., 1., 1., 1.,\n",
       "         1., 1., 1., 1., 1., 1., 1., 1., 1., 1., 1., 1., 1., 1., 1., 1., 1., 1.,\n",
       "         1., 1., 1., 1., 1., 1., 1., 1., 1., 1., 1., 1., 1., 1., 1., 1., 1., 1.,\n",
       "         1., 1., 1., 1., 1., 1., 1., 1., 1., 1., 1., 1., 1., 1., 1., 1., 1., 1.,\n",
       "         1., 1., 1., 1., 1., 1., 1., 1., 1., 1., 1., 1., 1., 1., 1., 1., 1., 1.,\n",
       "         1., 1., 1., 1., 1., 1., 1., 1., 1., 1., 1., 1., 1., 1., 1., 1., 1., 1.,\n",
       "         1., 1., 1., 1., 1., 1., 1., 1., 1., 1., 1., 1., 1., 1., 1., 1., 1., 1.,\n",
       "         1., 1., 1., 1., 1., 1., 1., 1., 1., 1., 1., 1., 1., 1., 1., 1., 1., 1.,\n",
       "         1., 1., 1., 1., 1., 1., 1., 1., 1., 1., 1., 1., 1., 1., 1., 1., 1., 1.,\n",
       "         1., 1., 1., 1., 1., 1., 1., 1., 1., 1., 1., 1., 1., 1., 1., 1., 1., 1.,\n",
       "         1., 1., 1., 1., 1., 1., 1., 1., 1., 1., 1., 1., 1., 1., 1., 1., 1., 1.,\n",
       "         1., 1., 1., 1., 1., 1., 1., 1., 1., 1., 1., 1., 1., 1., 1., 1., 1., 1.,\n",
       "         1., 1., 1., 1., 1., 1., 1., 1., 1., 1., 1., 1., 1., 1., 1., 1., 1., 1.,\n",
       "         1., 1., 1., 1., 1., 1., 1., 1., 1., 1., 1., 1., 1., 1., 1., 1., 1., 1.,\n",
       "         1., 1., 1., 1., 1., 1., 1., 1., 1., 1., 1., 1., 1., 1., 1., 1., 1., 1.,\n",
       "         1., 1., 1., 1., 1., 1., 1., 1., 1., 1., 1., 1., 1., 1., 1., 1., 1., 1.,\n",
       "         1., 1., 1., 1., 1., 1., 1., 1.], requires_grad=True),\n",
       " Parameter containing:\n",
       " tensor([0., 0., 0., 0., 0., 0., 0., 0., 0., 0., 0., 0., 0., 0., 0., 0., 0., 0., 0., 0., 0., 0., 0., 0.,\n",
       "         0., 0., 0., 0., 0., 0., 0., 0., 0., 0., 0., 0., 0., 0., 0., 0., 0., 0., 0., 0., 0., 0., 0., 0.,\n",
       "         0., 0., 0., 0., 0., 0., 0., 0., 0., 0., 0., 0., 0., 0., 0., 0., 0., 0., 0., 0., 0., 0., 0., 0.,\n",
       "         0., 0., 0., 0., 0., 0., 0., 0., 0., 0., 0., 0., 0., 0., 0., 0., 0., 0., 0., 0., 0., 0., 0., 0.,\n",
       "         0., 0., 0., 0., 0., 0., 0., 0., 0., 0., 0., 0., 0., 0., 0., 0., 0., 0., 0., 0., 0., 0., 0., 0.,\n",
       "         0., 0., 0., 0., 0., 0., 0., 0., 0., 0., 0., 0., 0., 0., 0., 0., 0., 0., 0., 0., 0., 0., 0., 0.,\n",
       "         0., 0., 0., 0., 0., 0., 0., 0., 0., 0., 0., 0., 0., 0., 0., 0., 0., 0., 0., 0., 0., 0., 0., 0.,\n",
       "         0., 0., 0., 0., 0., 0., 0., 0., 0., 0., 0., 0., 0., 0., 0., 0., 0., 0., 0., 0., 0., 0., 0., 0.,\n",
       "         0., 0., 0., 0., 0., 0., 0., 0., 0., 0., 0., 0., 0., 0., 0., 0., 0., 0., 0., 0., 0., 0., 0., 0.,\n",
       "         0., 0., 0., 0., 0., 0., 0., 0., 0., 0., 0., 0., 0., 0., 0., 0., 0., 0., 0., 0., 0., 0., 0., 0.,\n",
       "         0., 0., 0., 0., 0., 0., 0., 0., 0., 0., 0., 0., 0., 0., 0., 0., 0., 0., 0., 0., 0., 0., 0., 0.,\n",
       "         0., 0., 0., 0., 0., 0., 0., 0., 0., 0., 0., 0., 0., 0., 0., 0., 0., 0., 0., 0., 0., 0., 0., 0.,\n",
       "         0., 0., 0., 0., 0., 0., 0., 0., 0., 0., 0., 0., 0., 0., 0., 0., 0., 0., 0., 0., 0., 0., 0., 0.,\n",
       "         0., 0., 0., 0., 0., 0., 0., 0., 0., 0., 0., 0., 0., 0., 0., 0., 0., 0., 0., 0., 0., 0., 0., 0.,\n",
       "         0., 0., 0., 0., 0., 0., 0., 0., 0., 0., 0., 0., 0., 0., 0., 0., 0., 0., 0., 0., 0., 0., 0., 0.,\n",
       "         0., 0., 0., 0., 0., 0., 0., 0., 0., 0., 0., 0., 0., 0., 0., 0., 0., 0., 0., 0., 0., 0., 0., 0.,\n",
       "         0., 0., 0., 0., 0., 0., 0., 0., 0., 0., 0., 0., 0., 0., 0., 0., 0., 0., 0., 0., 0., 0., 0., 0.,\n",
       "         0., 0., 0., 0., 0., 0., 0., 0., 0., 0., 0., 0., 0., 0., 0., 0., 0., 0., 0., 0., 0., 0., 0., 0.,\n",
       "         0., 0., 0., 0., 0., 0., 0., 0., 0., 0., 0., 0., 0., 0., 0., 0., 0., 0., 0., 0., 0., 0., 0., 0.,\n",
       "         0., 0., 0., 0., 0., 0., 0., 0., 0., 0., 0., 0., 0., 0., 0., 0., 0., 0., 0., 0., 0., 0., 0., 0.,\n",
       "         0., 0., 0., 0., 0., 0., 0., 0., 0., 0., 0., 0., 0., 0., 0., 0., 0., 0., 0., 0., 0., 0., 0., 0.,\n",
       "         0., 0., 0., 0., 0., 0., 0., 0.], requires_grad=True),\n",
       " Parameter containing:\n",
       " tensor([[[[-0.0122,  0.0227, -0.0103],\n",
       "           [-0.0122, -0.0149,  0.0028],\n",
       "           [-0.0042, -0.0028,  0.0076]],\n",
       " \n",
       "          [[-0.0452,  0.0098,  0.0329],\n",
       "           [-0.0326,  0.0104, -0.0522],\n",
       "           [ 0.0076, -0.0173, -0.0211]],\n",
       " \n",
       "          [[-0.0280,  0.0298,  0.0349],\n",
       "           [-0.0190, -0.0316, -0.0091],\n",
       "           [-0.0086, -0.0127,  0.0010]],\n",
       " \n",
       "          ...,\n",
       " \n",
       "          [[-0.0259, -0.0048, -0.0287],\n",
       "           [ 0.0021,  0.0288,  0.0070],\n",
       "           [-0.0045,  0.0040, -0.0253]],\n",
       " \n",
       "          [[-0.0429,  0.0028, -0.0001],\n",
       "           [ 0.0115, -0.0109,  0.0519],\n",
       "           [-0.0051, -0.0320,  0.0290]],\n",
       " \n",
       "          [[ 0.0176,  0.0112,  0.0216],\n",
       "           [ 0.0100, -0.0218,  0.0195],\n",
       "           [ 0.0019,  0.0552,  0.0331]]],\n",
       " \n",
       " \n",
       "         [[[ 0.0152,  0.0250,  0.0057],\n",
       "           [-0.0337, -0.0041,  0.0086],\n",
       "           [-0.0067, -0.0414, -0.0068]],\n",
       " \n",
       "          [[ 0.0437, -0.0022,  0.0057],\n",
       "           [ 0.0013, -0.0335,  0.0075],\n",
       "           [ 0.0123, -0.0056, -0.0081]],\n",
       " \n",
       "          [[-0.0137, -0.0064, -0.0425],\n",
       "           [-0.0105,  0.0230, -0.0193],\n",
       "           [-0.0163, -0.0025, -0.0154]],\n",
       " \n",
       "          ...,\n",
       " \n",
       "          [[ 0.0039, -0.0181,  0.0070],\n",
       "           [ 0.0218, -0.0039, -0.0024],\n",
       "           [ 0.0255,  0.0249, -0.0062]],\n",
       " \n",
       "          [[ 0.0062,  0.0247,  0.0011],\n",
       "           [ 0.0002,  0.0131, -0.0120],\n",
       "           [ 0.0068,  0.0459,  0.0057]],\n",
       " \n",
       "          [[-0.0339, -0.0253,  0.0350],\n",
       "           [ 0.0216,  0.0077,  0.0123],\n",
       "           [ 0.0412, -0.0090, -0.0293]]],\n",
       " \n",
       " \n",
       "         [[[ 0.0036,  0.0198,  0.0284],\n",
       "           [-0.0198, -0.0040,  0.0265],\n",
       "           [-0.0214, -0.0097,  0.0132]],\n",
       " \n",
       "          [[ 0.0138, -0.0239,  0.0038],\n",
       "           [ 0.0178,  0.0025, -0.0005],\n",
       "           [-0.0231, -0.0233,  0.0207]],\n",
       " \n",
       "          [[-0.0028, -0.0051, -0.0163],\n",
       "           [-0.0090, -0.0236,  0.0077],\n",
       "           [ 0.0230, -0.0148,  0.0029]],\n",
       " \n",
       "          ...,\n",
       " \n",
       "          [[-0.0098,  0.0055,  0.0244],\n",
       "           [-0.0215,  0.0032, -0.0033],\n",
       "           [ 0.0248, -0.0074,  0.0298]],\n",
       " \n",
       "          [[-0.0119, -0.0299, -0.0061],\n",
       "           [ 0.0229, -0.0085, -0.0144],\n",
       "           [-0.0473, -0.0105, -0.0172]],\n",
       " \n",
       "          [[-0.0377,  0.0083,  0.0069],\n",
       "           [ 0.0170,  0.0138, -0.0016],\n",
       "           [-0.0307,  0.0277, -0.0018]]],\n",
       " \n",
       " \n",
       "         ...,\n",
       " \n",
       " \n",
       "         [[[ 0.0012, -0.0033,  0.0013],\n",
       "           [ 0.0152,  0.0258,  0.0014],\n",
       "           [-0.0018,  0.0128,  0.0334]],\n",
       " \n",
       "          [[-0.0526,  0.0357, -0.0032],\n",
       "           [-0.0341,  0.0184, -0.0205],\n",
       "           [-0.0260, -0.0148, -0.0159]],\n",
       " \n",
       "          [[-0.0283,  0.0227, -0.0068],\n",
       "           [ 0.0218,  0.0035,  0.0250],\n",
       "           [ 0.0147, -0.0011,  0.0101]],\n",
       " \n",
       "          ...,\n",
       " \n",
       "          [[-0.0290,  0.0034, -0.0185],\n",
       "           [ 0.0062,  0.0235,  0.0032],\n",
       "           [-0.0563, -0.0554, -0.0130]],\n",
       " \n",
       "          [[-0.0094, -0.0150, -0.0073],\n",
       "           [ 0.0074,  0.0169,  0.0035],\n",
       "           [ 0.0154, -0.0039,  0.0141]],\n",
       " \n",
       "          [[-0.0185,  0.0079,  0.0136],\n",
       "           [-0.0207, -0.0032, -0.0068],\n",
       "           [-0.0108,  0.0246, -0.0027]]],\n",
       " \n",
       " \n",
       "         [[[-0.0092,  0.0001,  0.0132],\n",
       "           [ 0.0024,  0.0026,  0.0071],\n",
       "           [-0.0366, -0.0114,  0.0007]],\n",
       " \n",
       "          [[ 0.0169, -0.0127, -0.0484],\n",
       "           [-0.0173, -0.0408, -0.0635],\n",
       "           [-0.0308, -0.0059,  0.0328]],\n",
       " \n",
       "          [[ 0.0029, -0.0112,  0.0153],\n",
       "           [ 0.0020, -0.0191, -0.0392],\n",
       "           [-0.0466,  0.0058,  0.0229]],\n",
       " \n",
       "          ...,\n",
       " \n",
       "          [[-0.0309, -0.0488, -0.0248],\n",
       "           [ 0.0412,  0.0071, -0.0218],\n",
       "           [ 0.0040,  0.0074, -0.0298]],\n",
       " \n",
       "          [[-0.0277,  0.0220,  0.0145],\n",
       "           [ 0.0051,  0.0236,  0.0046],\n",
       "           [ 0.0007,  0.0050,  0.0376]],\n",
       " \n",
       "          [[-0.0008, -0.0023,  0.0591],\n",
       "           [ 0.0022,  0.0080, -0.0125],\n",
       "           [-0.0116,  0.0280,  0.0191]]],\n",
       " \n",
       " \n",
       "         [[[ 0.0161, -0.0140, -0.0126],\n",
       "           [ 0.0213,  0.0152, -0.0003],\n",
       "           [ 0.0028,  0.0006, -0.0551]],\n",
       " \n",
       "          [[ 0.0107,  0.0238, -0.0050],\n",
       "           [-0.0171,  0.0002,  0.0094],\n",
       "           [ 0.0157, -0.0217, -0.0404]],\n",
       " \n",
       "          [[ 0.0395,  0.0156,  0.0107],\n",
       "           [ 0.0191, -0.0401, -0.0042],\n",
       "           [-0.0332, -0.0015,  0.0125]],\n",
       " \n",
       "          ...,\n",
       " \n",
       "          [[-0.0278, -0.0418,  0.0160],\n",
       "           [-0.0076,  0.0278,  0.0273],\n",
       "           [-0.0060,  0.0327, -0.0096]],\n",
       " \n",
       "          [[-0.0293,  0.0294, -0.0023],\n",
       "           [ 0.0496, -0.0120, -0.0180],\n",
       "           [-0.0036,  0.0189, -0.0242]],\n",
       " \n",
       "          [[-0.0043, -0.0278,  0.0460],\n",
       "           [ 0.0223, -0.0076,  0.0151],\n",
       "           [-0.0077,  0.0430, -0.0159]]]], requires_grad=True),\n",
       " Parameter containing:\n",
       " tensor([1., 1., 1., 1., 1., 1., 1., 1., 1., 1., 1., 1., 1., 1., 1., 1., 1., 1.,\n",
       "         1., 1., 1., 1., 1., 1., 1., 1., 1., 1., 1., 1., 1., 1., 1., 1., 1., 1.,\n",
       "         1., 1., 1., 1., 1., 1., 1., 1., 1., 1., 1., 1., 1., 1., 1., 1., 1., 1.,\n",
       "         1., 1., 1., 1., 1., 1., 1., 1., 1., 1., 1., 1., 1., 1., 1., 1., 1., 1.,\n",
       "         1., 1., 1., 1., 1., 1., 1., 1., 1., 1., 1., 1., 1., 1., 1., 1., 1., 1.,\n",
       "         1., 1., 1., 1., 1., 1., 1., 1., 1., 1., 1., 1., 1., 1., 1., 1., 1., 1.,\n",
       "         1., 1., 1., 1., 1., 1., 1., 1., 1., 1., 1., 1., 1., 1., 1., 1., 1., 1.,\n",
       "         1., 1., 1., 1., 1., 1., 1., 1., 1., 1., 1., 1., 1., 1., 1., 1., 1., 1.,\n",
       "         1., 1., 1., 1., 1., 1., 1., 1., 1., 1., 1., 1., 1., 1., 1., 1., 1., 1.,\n",
       "         1., 1., 1., 1., 1., 1., 1., 1., 1., 1., 1., 1., 1., 1., 1., 1., 1., 1.,\n",
       "         1., 1., 1., 1., 1., 1., 1., 1., 1., 1., 1., 1., 1., 1., 1., 1., 1., 1.,\n",
       "         1., 1., 1., 1., 1., 1., 1., 1., 1., 1., 1., 1., 1., 1., 1., 1., 1., 1.,\n",
       "         1., 1., 1., 1., 1., 1., 1., 1., 1., 1., 1., 1., 1., 1., 1., 1., 1., 1.,\n",
       "         1., 1., 1., 1., 1., 1., 1., 1., 1., 1., 1., 1., 1., 1., 1., 1., 1., 1.,\n",
       "         1., 1., 1., 1., 1., 1., 1., 1., 1., 1., 1., 1., 1., 1., 1., 1., 1., 1.,\n",
       "         1., 1., 1., 1., 1., 1., 1., 1., 1., 1., 1., 1., 1., 1., 1., 1., 1., 1.,\n",
       "         1., 1., 1., 1., 1., 1., 1., 1., 1., 1., 1., 1., 1., 1., 1., 1., 1., 1.,\n",
       "         1., 1., 1., 1., 1., 1., 1., 1., 1., 1., 1., 1., 1., 1., 1., 1., 1., 1.,\n",
       "         1., 1., 1., 1., 1., 1., 1., 1., 1., 1., 1., 1., 1., 1., 1., 1., 1., 1.,\n",
       "         1., 1., 1., 1., 1., 1., 1., 1., 1., 1., 1., 1., 1., 1., 1., 1., 1., 1.,\n",
       "         1., 1., 1., 1., 1., 1., 1., 1., 1., 1., 1., 1., 1., 1., 1., 1., 1., 1.,\n",
       "         1., 1., 1., 1., 1., 1., 1., 1., 1., 1., 1., 1., 1., 1., 1., 1., 1., 1.,\n",
       "         1., 1., 1., 1., 1., 1., 1., 1., 1., 1., 1., 1., 1., 1., 1., 1., 1., 1.,\n",
       "         1., 1., 1., 1., 1., 1., 1., 1., 1., 1., 1., 1., 1., 1., 1., 1., 1., 1.,\n",
       "         1., 1., 1., 1., 1., 1., 1., 1., 1., 1., 1., 1., 1., 1., 1., 1., 1., 1.,\n",
       "         1., 1., 1., 1., 1., 1., 1., 1., 1., 1., 1., 1., 1., 1., 1., 1., 1., 1.,\n",
       "         1., 1., 1., 1., 1., 1., 1., 1., 1., 1., 1., 1., 1., 1., 1., 1., 1., 1.,\n",
       "         1., 1., 1., 1., 1., 1., 1., 1., 1., 1., 1., 1., 1., 1., 1., 1., 1., 1.,\n",
       "         1., 1., 1., 1., 1., 1., 1., 1.], requires_grad=True),\n",
       " Parameter containing:\n",
       " tensor([0., 0., 0., 0., 0., 0., 0., 0., 0., 0., 0., 0., 0., 0., 0., 0., 0., 0., 0., 0., 0., 0., 0., 0.,\n",
       "         0., 0., 0., 0., 0., 0., 0., 0., 0., 0., 0., 0., 0., 0., 0., 0., 0., 0., 0., 0., 0., 0., 0., 0.,\n",
       "         0., 0., 0., 0., 0., 0., 0., 0., 0., 0., 0., 0., 0., 0., 0., 0., 0., 0., 0., 0., 0., 0., 0., 0.,\n",
       "         0., 0., 0., 0., 0., 0., 0., 0., 0., 0., 0., 0., 0., 0., 0., 0., 0., 0., 0., 0., 0., 0., 0., 0.,\n",
       "         0., 0., 0., 0., 0., 0., 0., 0., 0., 0., 0., 0., 0., 0., 0., 0., 0., 0., 0., 0., 0., 0., 0., 0.,\n",
       "         0., 0., 0., 0., 0., 0., 0., 0., 0., 0., 0., 0., 0., 0., 0., 0., 0., 0., 0., 0., 0., 0., 0., 0.,\n",
       "         0., 0., 0., 0., 0., 0., 0., 0., 0., 0., 0., 0., 0., 0., 0., 0., 0., 0., 0., 0., 0., 0., 0., 0.,\n",
       "         0., 0., 0., 0., 0., 0., 0., 0., 0., 0., 0., 0., 0., 0., 0., 0., 0., 0., 0., 0., 0., 0., 0., 0.,\n",
       "         0., 0., 0., 0., 0., 0., 0., 0., 0., 0., 0., 0., 0., 0., 0., 0., 0., 0., 0., 0., 0., 0., 0., 0.,\n",
       "         0., 0., 0., 0., 0., 0., 0., 0., 0., 0., 0., 0., 0., 0., 0., 0., 0., 0., 0., 0., 0., 0., 0., 0.,\n",
       "         0., 0., 0., 0., 0., 0., 0., 0., 0., 0., 0., 0., 0., 0., 0., 0., 0., 0., 0., 0., 0., 0., 0., 0.,\n",
       "         0., 0., 0., 0., 0., 0., 0., 0., 0., 0., 0., 0., 0., 0., 0., 0., 0., 0., 0., 0., 0., 0., 0., 0.,\n",
       "         0., 0., 0., 0., 0., 0., 0., 0., 0., 0., 0., 0., 0., 0., 0., 0., 0., 0., 0., 0., 0., 0., 0., 0.,\n",
       "         0., 0., 0., 0., 0., 0., 0., 0., 0., 0., 0., 0., 0., 0., 0., 0., 0., 0., 0., 0., 0., 0., 0., 0.,\n",
       "         0., 0., 0., 0., 0., 0., 0., 0., 0., 0., 0., 0., 0., 0., 0., 0., 0., 0., 0., 0., 0., 0., 0., 0.,\n",
       "         0., 0., 0., 0., 0., 0., 0., 0., 0., 0., 0., 0., 0., 0., 0., 0., 0., 0., 0., 0., 0., 0., 0., 0.,\n",
       "         0., 0., 0., 0., 0., 0., 0., 0., 0., 0., 0., 0., 0., 0., 0., 0., 0., 0., 0., 0., 0., 0., 0., 0.,\n",
       "         0., 0., 0., 0., 0., 0., 0., 0., 0., 0., 0., 0., 0., 0., 0., 0., 0., 0., 0., 0., 0., 0., 0., 0.,\n",
       "         0., 0., 0., 0., 0., 0., 0., 0., 0., 0., 0., 0., 0., 0., 0., 0., 0., 0., 0., 0., 0., 0., 0., 0.,\n",
       "         0., 0., 0., 0., 0., 0., 0., 0., 0., 0., 0., 0., 0., 0., 0., 0., 0., 0., 0., 0., 0., 0., 0., 0.,\n",
       "         0., 0., 0., 0., 0., 0., 0., 0., 0., 0., 0., 0., 0., 0., 0., 0., 0., 0., 0., 0., 0., 0., 0., 0.,\n",
       "         0., 0., 0., 0., 0., 0., 0., 0.], requires_grad=True),\n",
       " Parameter containing:\n",
       " tensor([[[[ 0.0287]],\n",
       " \n",
       "          [[ 0.1075]],\n",
       " \n",
       "          [[ 0.0829]],\n",
       " \n",
       "          ...,\n",
       " \n",
       "          [[ 0.0130]],\n",
       " \n",
       "          [[-0.0274]],\n",
       " \n",
       "          [[ 0.0857]]],\n",
       " \n",
       " \n",
       "         [[[ 0.1439]],\n",
       " \n",
       "          [[-0.0787]],\n",
       " \n",
       "          [[-0.0124]],\n",
       " \n",
       "          ...,\n",
       " \n",
       "          [[ 0.0143]],\n",
       " \n",
       "          [[ 0.0953]],\n",
       " \n",
       "          [[-0.0279]]],\n",
       " \n",
       " \n",
       "         [[[ 0.0004]],\n",
       " \n",
       "          [[ 0.0015]],\n",
       " \n",
       "          [[ 0.0550]],\n",
       " \n",
       "          ...,\n",
       " \n",
       "          [[-0.0928]],\n",
       " \n",
       "          [[ 0.0758]],\n",
       " \n",
       "          [[ 0.0085]]],\n",
       " \n",
       " \n",
       "         ...,\n",
       " \n",
       " \n",
       "         [[[-0.1363]],\n",
       " \n",
       "          [[-0.0173]],\n",
       " \n",
       "          [[-0.0844]],\n",
       " \n",
       "          ...,\n",
       " \n",
       "          [[-0.0564]],\n",
       " \n",
       "          [[ 0.0463]],\n",
       " \n",
       "          [[-0.0267]]],\n",
       " \n",
       " \n",
       "         [[[ 0.1121]],\n",
       " \n",
       "          [[ 0.0061]],\n",
       " \n",
       "          [[ 0.0466]],\n",
       " \n",
       "          ...,\n",
       " \n",
       "          [[ 0.0024]],\n",
       " \n",
       "          [[-0.0030]],\n",
       " \n",
       "          [[ 0.0226]]],\n",
       " \n",
       " \n",
       "         [[[ 0.1117]],\n",
       " \n",
       "          [[-0.0211]],\n",
       " \n",
       "          [[-0.0164]],\n",
       " \n",
       "          ...,\n",
       " \n",
       "          [[ 0.0381]],\n",
       " \n",
       "          [[-0.0552]],\n",
       " \n",
       "          [[-0.0232]]]], requires_grad=True),\n",
       " Parameter containing:\n",
       " tensor([1., 1., 1., 1., 1., 1., 1., 1., 1., 1., 1., 1., 1., 1., 1., 1., 1., 1.,\n",
       "         1., 1., 1., 1., 1., 1., 1., 1., 1., 1., 1., 1., 1., 1., 1., 1., 1., 1.,\n",
       "         1., 1., 1., 1., 1., 1., 1., 1., 1., 1., 1., 1., 1., 1., 1., 1., 1., 1.,\n",
       "         1., 1., 1., 1., 1., 1., 1., 1., 1., 1., 1., 1., 1., 1., 1., 1., 1., 1.,\n",
       "         1., 1., 1., 1., 1., 1., 1., 1., 1., 1., 1., 1., 1., 1., 1., 1., 1., 1.,\n",
       "         1., 1., 1., 1., 1., 1., 1., 1., 1., 1., 1., 1., 1., 1., 1., 1., 1., 1.,\n",
       "         1., 1., 1., 1., 1., 1., 1., 1., 1., 1., 1., 1., 1., 1., 1., 1., 1., 1.,\n",
       "         1., 1., 1., 1., 1., 1., 1., 1., 1., 1., 1., 1., 1., 1., 1., 1., 1., 1.,\n",
       "         1., 1., 1., 1., 1., 1., 1., 1., 1., 1., 1., 1., 1., 1., 1., 1., 1., 1.,\n",
       "         1., 1., 1., 1., 1., 1., 1., 1., 1., 1., 1., 1., 1., 1., 1., 1., 1., 1.,\n",
       "         1., 1., 1., 1., 1., 1., 1., 1., 1., 1., 1., 1., 1., 1., 1., 1., 1., 1.,\n",
       "         1., 1., 1., 1., 1., 1., 1., 1., 1., 1., 1., 1., 1., 1., 1., 1., 1., 1.,\n",
       "         1., 1., 1., 1., 1., 1., 1., 1., 1., 1., 1., 1., 1., 1., 1., 1., 1., 1.,\n",
       "         1., 1., 1., 1., 1., 1., 1., 1., 1., 1., 1., 1., 1., 1., 1., 1., 1., 1.,\n",
       "         1., 1., 1., 1., 1., 1., 1., 1., 1., 1., 1., 1., 1., 1., 1., 1., 1., 1.,\n",
       "         1., 1., 1., 1., 1., 1., 1., 1., 1., 1., 1., 1., 1., 1., 1., 1., 1., 1.,\n",
       "         1., 1., 1., 1., 1., 1., 1., 1., 1., 1., 1., 1., 1., 1., 1., 1., 1., 1.,\n",
       "         1., 1., 1., 1., 1., 1., 1., 1., 1., 1., 1., 1., 1., 1., 1., 1., 1., 1.,\n",
       "         1., 1., 1., 1., 1., 1., 1., 1., 1., 1., 1., 1., 1., 1., 1., 1., 1., 1.,\n",
       "         1., 1., 1., 1., 1., 1., 1., 1., 1., 1., 1., 1., 1., 1., 1., 1., 1., 1.,\n",
       "         1., 1., 1., 1., 1., 1., 1., 1., 1., 1., 1., 1., 1., 1., 1., 1., 1., 1.,\n",
       "         1., 1., 1., 1., 1., 1., 1., 1., 1., 1., 1., 1., 1., 1., 1., 1., 1., 1.,\n",
       "         1., 1., 1., 1., 1., 1., 1., 1., 1., 1., 1., 1., 1., 1., 1., 1., 1., 1.,\n",
       "         1., 1., 1., 1., 1., 1., 1., 1., 1., 1., 1., 1., 1., 1., 1., 1., 1., 1.,\n",
       "         1., 1., 1., 1., 1., 1., 1., 1., 1., 1., 1., 1., 1., 1., 1., 1., 1., 1.,\n",
       "         1., 1., 1., 1., 1., 1., 1., 1., 1., 1., 1., 1., 1., 1., 1., 1., 1., 1.,\n",
       "         1., 1., 1., 1., 1., 1., 1., 1., 1., 1., 1., 1., 1., 1., 1., 1., 1., 1.,\n",
       "         1., 1., 1., 1., 1., 1., 1., 1., 1., 1., 1., 1., 1., 1., 1., 1., 1., 1.,\n",
       "         1., 1., 1., 1., 1., 1., 1., 1.], requires_grad=True),\n",
       " Parameter containing:\n",
       " tensor([0., 0., 0., 0., 0., 0., 0., 0., 0., 0., 0., 0., 0., 0., 0., 0., 0., 0., 0., 0., 0., 0., 0., 0.,\n",
       "         0., 0., 0., 0., 0., 0., 0., 0., 0., 0., 0., 0., 0., 0., 0., 0., 0., 0., 0., 0., 0., 0., 0., 0.,\n",
       "         0., 0., 0., 0., 0., 0., 0., 0., 0., 0., 0., 0., 0., 0., 0., 0., 0., 0., 0., 0., 0., 0., 0., 0.,\n",
       "         0., 0., 0., 0., 0., 0., 0., 0., 0., 0., 0., 0., 0., 0., 0., 0., 0., 0., 0., 0., 0., 0., 0., 0.,\n",
       "         0., 0., 0., 0., 0., 0., 0., 0., 0., 0., 0., 0., 0., 0., 0., 0., 0., 0., 0., 0., 0., 0., 0., 0.,\n",
       "         0., 0., 0., 0., 0., 0., 0., 0., 0., 0., 0., 0., 0., 0., 0., 0., 0., 0., 0., 0., 0., 0., 0., 0.,\n",
       "         0., 0., 0., 0., 0., 0., 0., 0., 0., 0., 0., 0., 0., 0., 0., 0., 0., 0., 0., 0., 0., 0., 0., 0.,\n",
       "         0., 0., 0., 0., 0., 0., 0., 0., 0., 0., 0., 0., 0., 0., 0., 0., 0., 0., 0., 0., 0., 0., 0., 0.,\n",
       "         0., 0., 0., 0., 0., 0., 0., 0., 0., 0., 0., 0., 0., 0., 0., 0., 0., 0., 0., 0., 0., 0., 0., 0.,\n",
       "         0., 0., 0., 0., 0., 0., 0., 0., 0., 0., 0., 0., 0., 0., 0., 0., 0., 0., 0., 0., 0., 0., 0., 0.,\n",
       "         0., 0., 0., 0., 0., 0., 0., 0., 0., 0., 0., 0., 0., 0., 0., 0., 0., 0., 0., 0., 0., 0., 0., 0.,\n",
       "         0., 0., 0., 0., 0., 0., 0., 0., 0., 0., 0., 0., 0., 0., 0., 0., 0., 0., 0., 0., 0., 0., 0., 0.,\n",
       "         0., 0., 0., 0., 0., 0., 0., 0., 0., 0., 0., 0., 0., 0., 0., 0., 0., 0., 0., 0., 0., 0., 0., 0.,\n",
       "         0., 0., 0., 0., 0., 0., 0., 0., 0., 0., 0., 0., 0., 0., 0., 0., 0., 0., 0., 0., 0., 0., 0., 0.,\n",
       "         0., 0., 0., 0., 0., 0., 0., 0., 0., 0., 0., 0., 0., 0., 0., 0., 0., 0., 0., 0., 0., 0., 0., 0.,\n",
       "         0., 0., 0., 0., 0., 0., 0., 0., 0., 0., 0., 0., 0., 0., 0., 0., 0., 0., 0., 0., 0., 0., 0., 0.,\n",
       "         0., 0., 0., 0., 0., 0., 0., 0., 0., 0., 0., 0., 0., 0., 0., 0., 0., 0., 0., 0., 0., 0., 0., 0.,\n",
       "         0., 0., 0., 0., 0., 0., 0., 0., 0., 0., 0., 0., 0., 0., 0., 0., 0., 0., 0., 0., 0., 0., 0., 0.,\n",
       "         0., 0., 0., 0., 0., 0., 0., 0., 0., 0., 0., 0., 0., 0., 0., 0., 0., 0., 0., 0., 0., 0., 0., 0.,\n",
       "         0., 0., 0., 0., 0., 0., 0., 0., 0., 0., 0., 0., 0., 0., 0., 0., 0., 0., 0., 0., 0., 0., 0., 0.,\n",
       "         0., 0., 0., 0., 0., 0., 0., 0., 0., 0., 0., 0., 0., 0., 0., 0., 0., 0., 0., 0., 0., 0., 0., 0.,\n",
       "         0., 0., 0., 0., 0., 0., 0., 0.], requires_grad=True),\n",
       " Parameter containing:\n",
       " tensor([[[[-4.2048e-02,  3.9039e-02,  1.5607e-02],\n",
       "           [ 1.1801e-02,  3.4332e-02,  2.5685e-02],\n",
       "           [ 1.7816e-02, -3.7137e-02, -3.5955e-02]],\n",
       " \n",
       "          [[-3.1513e-02, -1.1085e-02, -4.0079e-02],\n",
       "           [-9.5983e-03, -9.0322e-03,  2.1301e-02],\n",
       "           [ 9.1773e-03,  2.1495e-02,  5.5327e-02]],\n",
       " \n",
       "          [[ 8.2787e-03,  1.2213e-02, -2.6744e-02],\n",
       "           [-2.2047e-02, -1.3268e-02, -4.3590e-03],\n",
       "           [ 1.5737e-02,  1.5263e-02, -5.4204e-02]],\n",
       " \n",
       "          ...,\n",
       " \n",
       "          [[-1.2142e-02,  7.8827e-03, -2.3819e-02],\n",
       "           [ 1.0742e-02, -2.0887e-02,  2.3867e-02],\n",
       "           [-3.9053e-02,  3.1341e-02, -1.1279e-02]],\n",
       " \n",
       "          [[ 5.9497e-04,  1.6360e-02,  1.8946e-03],\n",
       "           [-6.2104e-03,  9.9838e-03,  5.8567e-04],\n",
       "           [ 6.6103e-03,  1.3117e-02, -2.7811e-02]],\n",
       " \n",
       "          [[-3.5411e-02, -1.8897e-02,  3.8606e-02],\n",
       "           [ 2.6015e-03,  1.8275e-02,  1.2964e-02],\n",
       "           [-1.1292e-02,  8.5928e-03,  8.2559e-03]]],\n",
       " \n",
       " \n",
       "         [[[-1.1361e-02, -2.0902e-02, -2.1701e-02],\n",
       "           [-1.7410e-02, -1.1595e-02,  2.3240e-03],\n",
       "           [-2.4146e-03,  2.2694e-02,  6.1630e-02]],\n",
       " \n",
       "          [[-2.1682e-02,  3.9504e-03, -1.1993e-02],\n",
       "           [ 1.4129e-02, -3.8134e-03, -2.5423e-02],\n",
       "           [ 5.9966e-03, -1.2518e-02,  1.0069e-02]],\n",
       " \n",
       "          [[ 4.1385e-02,  3.7260e-02, -1.5627e-02],\n",
       "           [-2.4406e-02,  9.9496e-03, -1.5185e-02],\n",
       "           [ 4.6503e-02, -1.3551e-02,  1.7840e-02]],\n",
       " \n",
       "          ...,\n",
       " \n",
       "          [[ 4.3435e-03, -9.3054e-04, -1.1425e-02],\n",
       "           [ 2.4534e-02,  3.7413e-02,  5.4848e-03],\n",
       "           [-2.5843e-03,  4.0226e-03, -9.5575e-03]],\n",
       " \n",
       "          [[ 1.3400e-02,  1.8870e-02,  1.5152e-02],\n",
       "           [-1.4720e-02,  1.1788e-03,  2.9854e-03],\n",
       "           [-1.1019e-02,  1.6837e-02, -2.2572e-02]],\n",
       " \n",
       "          [[-1.3464e-02, -3.1056e-03, -2.2523e-02],\n",
       "           [ 1.8345e-02, -1.5316e-03,  1.9723e-03],\n",
       "           [-1.2513e-02,  1.7434e-02, -6.1821e-03]]],\n",
       " \n",
       " \n",
       "         [[[-1.3745e-02,  1.2725e-02, -7.2538e-03],\n",
       "           [-7.5384e-03, -1.0415e-02, -6.8778e-03],\n",
       "           [ 1.1915e-02,  1.4298e-02, -2.5910e-02]],\n",
       " \n",
       "          [[-1.5592e-02,  4.0706e-03, -3.7490e-02],\n",
       "           [ 3.6614e-03,  5.2912e-03, -2.6356e-02],\n",
       "           [-2.3284e-02, -6.6179e-03,  1.9170e-02]],\n",
       " \n",
       "          [[-1.7495e-02, -1.7302e-02,  3.0864e-02],\n",
       "           [ 4.5114e-02,  1.3214e-02, -3.4962e-02],\n",
       "           [ 2.3783e-03, -4.5922e-02, -1.9686e-02]],\n",
       " \n",
       "          ...,\n",
       " \n",
       "          [[-2.5685e-02, -1.4695e-02, -2.1005e-02],\n",
       "           [-1.8513e-02, -1.0659e-03, -3.5324e-03],\n",
       "           [-9.7995e-04,  4.4954e-02, -1.5492e-02]],\n",
       " \n",
       "          [[ 2.1888e-02,  9.6187e-03, -3.9758e-02],\n",
       "           [-1.1159e-02,  2.2088e-02, -5.8817e-04],\n",
       "           [ 2.2607e-02, -4.0343e-03,  3.2166e-02]],\n",
       " \n",
       "          [[-1.2973e-02, -2.3473e-02, -1.6987e-03],\n",
       "           [-2.9975e-02, -6.1016e-02, -1.0672e-02],\n",
       "           [ 4.9844e-03, -2.2235e-02, -4.8481e-03]]],\n",
       " \n",
       " \n",
       "         ...,\n",
       " \n",
       " \n",
       "         [[[ 3.9811e-03,  2.5702e-02, -1.3129e-02],\n",
       "           [ 7.2513e-03, -1.9368e-02,  1.7763e-02],\n",
       "           [-3.0888e-02,  1.3880e-02,  8.4030e-03]],\n",
       " \n",
       "          [[-2.0173e-03,  4.1781e-03, -1.3180e-02],\n",
       "           [ 2.8910e-03, -2.9389e-02,  1.6134e-02],\n",
       "           [ 1.2596e-02,  4.8958e-02,  9.0358e-03]],\n",
       " \n",
       "          [[-1.9148e-02,  3.1759e-02, -1.7089e-02],\n",
       "           [-4.5954e-02, -2.8147e-02, -1.7655e-02],\n",
       "           [-1.6829e-02,  3.4729e-02, -1.9356e-02]],\n",
       " \n",
       "          ...,\n",
       " \n",
       "          [[-2.0828e-02,  2.9617e-03, -4.4471e-02],\n",
       "           [-1.4097e-02, -1.5561e-02, -2.6625e-03],\n",
       "           [ 3.0714e-02,  1.7537e-02, -1.9109e-02]],\n",
       " \n",
       "          [[ 3.9466e-02,  1.3228e-02,  7.8259e-03],\n",
       "           [-2.4349e-04,  1.6770e-02, -1.9947e-02],\n",
       "           [-1.0167e-02,  1.7300e-02, -4.0429e-02]],\n",
       " \n",
       "          [[ 1.7836e-03, -1.5684e-02, -1.8550e-02],\n",
       "           [ 6.0135e-03,  3.9146e-04, -5.4776e-02],\n",
       "           [ 2.3689e-02,  1.9007e-02, -3.1684e-02]]],\n",
       " \n",
       " \n",
       "         [[[ 7.3002e-03,  1.1587e-02, -1.0904e-02],\n",
       "           [-1.6959e-02,  1.5657e-02,  1.4711e-02],\n",
       "           [-2.0126e-02, -3.6633e-02,  1.9733e-02]],\n",
       " \n",
       "          [[-9.6957e-03, -1.4998e-03, -1.8772e-02],\n",
       "           [-3.7610e-03, -1.3688e-02,  3.5674e-02],\n",
       "           [-1.5857e-02,  1.6800e-02,  1.0530e-02]],\n",
       " \n",
       "          [[-2.0131e-02,  1.4974e-02, -1.8405e-02],\n",
       "           [-8.3512e-03,  2.8669e-02,  5.2241e-02],\n",
       "           [-3.5504e-02, -7.4513e-03, -2.6269e-02]],\n",
       " \n",
       "          ...,\n",
       " \n",
       "          [[ 1.2646e-02, -4.7675e-03,  3.3108e-02],\n",
       "           [-1.7822e-02, -7.1114e-03, -2.8343e-02],\n",
       "           [-9.1126e-03, -6.7058e-03,  1.3768e-02]],\n",
       " \n",
       "          [[ 9.2499e-03, -2.4469e-02, -3.1552e-02],\n",
       "           [-1.0996e-02,  1.6762e-02, -3.8208e-02],\n",
       "           [ 2.7719e-02, -2.5796e-02,  6.6150e-02]],\n",
       " \n",
       "          [[ 5.6347e-05,  4.1957e-02, -1.9621e-02],\n",
       "           [-5.1175e-03, -2.4120e-02, -2.7293e-02],\n",
       "           [ 1.7698e-05,  3.0587e-03, -7.9697e-03]]],\n",
       " \n",
       " \n",
       "         [[[ 1.9087e-02,  1.7666e-02,  5.4335e-03],\n",
       "           [-7.8780e-03, -1.4690e-02, -3.6327e-03],\n",
       "           [ 1.4217e-03, -2.4638e-02, -2.0256e-02]],\n",
       " \n",
       "          [[ 1.8024e-02,  9.1031e-03, -2.4930e-02],\n",
       "           [-1.6522e-02, -5.8121e-03,  1.6339e-02],\n",
       "           [-2.0205e-02, -2.4244e-02, -2.8069e-02]],\n",
       " \n",
       "          [[ 7.6919e-03, -3.4531e-02,  1.7046e-03],\n",
       "           [-9.5998e-03,  3.1534e-03, -3.5158e-02],\n",
       "           [-2.9085e-02, -2.1500e-02,  5.3410e-03]],\n",
       " \n",
       "          ...,\n",
       " \n",
       "          [[-2.2308e-03, -3.8150e-02, -2.9446e-02],\n",
       "           [-8.5924e-03, -1.2580e-03, -3.3378e-02],\n",
       "           [-1.1360e-02, -1.6127e-02, -1.9152e-02]],\n",
       " \n",
       "          [[-8.9949e-03,  3.6182e-02,  2.0752e-02],\n",
       "           [ 4.0345e-03, -2.2081e-02,  5.5709e-02],\n",
       "           [-9.3964e-03,  1.4297e-02, -1.1673e-02]],\n",
       " \n",
       "          [[-8.8285e-03,  1.5770e-02,  1.0991e-02],\n",
       "           [ 2.2008e-02,  2.2426e-02,  2.8687e-02],\n",
       "           [ 1.8162e-02, -6.0561e-03, -1.3410e-02]]]], requires_grad=True),\n",
       " Parameter containing:\n",
       " tensor([1., 1., 1., 1., 1., 1., 1., 1., 1., 1., 1., 1., 1., 1., 1., 1., 1., 1.,\n",
       "         1., 1., 1., 1., 1., 1., 1., 1., 1., 1., 1., 1., 1., 1., 1., 1., 1., 1.,\n",
       "         1., 1., 1., 1., 1., 1., 1., 1., 1., 1., 1., 1., 1., 1., 1., 1., 1., 1.,\n",
       "         1., 1., 1., 1., 1., 1., 1., 1., 1., 1., 1., 1., 1., 1., 1., 1., 1., 1.,\n",
       "         1., 1., 1., 1., 1., 1., 1., 1., 1., 1., 1., 1., 1., 1., 1., 1., 1., 1.,\n",
       "         1., 1., 1., 1., 1., 1., 1., 1., 1., 1., 1., 1., 1., 1., 1., 1., 1., 1.,\n",
       "         1., 1., 1., 1., 1., 1., 1., 1., 1., 1., 1., 1., 1., 1., 1., 1., 1., 1.,\n",
       "         1., 1., 1., 1., 1., 1., 1., 1., 1., 1., 1., 1., 1., 1., 1., 1., 1., 1.,\n",
       "         1., 1., 1., 1., 1., 1., 1., 1., 1., 1., 1., 1., 1., 1., 1., 1., 1., 1.,\n",
       "         1., 1., 1., 1., 1., 1., 1., 1., 1., 1., 1., 1., 1., 1., 1., 1., 1., 1.,\n",
       "         1., 1., 1., 1., 1., 1., 1., 1., 1., 1., 1., 1., 1., 1., 1., 1., 1., 1.,\n",
       "         1., 1., 1., 1., 1., 1., 1., 1., 1., 1., 1., 1., 1., 1., 1., 1., 1., 1.,\n",
       "         1., 1., 1., 1., 1., 1., 1., 1., 1., 1., 1., 1., 1., 1., 1., 1., 1., 1.,\n",
       "         1., 1., 1., 1., 1., 1., 1., 1., 1., 1., 1., 1., 1., 1., 1., 1., 1., 1.,\n",
       "         1., 1., 1., 1., 1., 1., 1., 1., 1., 1., 1., 1., 1., 1., 1., 1., 1., 1.,\n",
       "         1., 1., 1., 1., 1., 1., 1., 1., 1., 1., 1., 1., 1., 1., 1., 1., 1., 1.,\n",
       "         1., 1., 1., 1., 1., 1., 1., 1., 1., 1., 1., 1., 1., 1., 1., 1., 1., 1.,\n",
       "         1., 1., 1., 1., 1., 1., 1., 1., 1., 1., 1., 1., 1., 1., 1., 1., 1., 1.,\n",
       "         1., 1., 1., 1., 1., 1., 1., 1., 1., 1., 1., 1., 1., 1., 1., 1., 1., 1.,\n",
       "         1., 1., 1., 1., 1., 1., 1., 1., 1., 1., 1., 1., 1., 1., 1., 1., 1., 1.,\n",
       "         1., 1., 1., 1., 1., 1., 1., 1., 1., 1., 1., 1., 1., 1., 1., 1., 1., 1.,\n",
       "         1., 1., 1., 1., 1., 1., 1., 1., 1., 1., 1., 1., 1., 1., 1., 1., 1., 1.,\n",
       "         1., 1., 1., 1., 1., 1., 1., 1., 1., 1., 1., 1., 1., 1., 1., 1., 1., 1.,\n",
       "         1., 1., 1., 1., 1., 1., 1., 1., 1., 1., 1., 1., 1., 1., 1., 1., 1., 1.,\n",
       "         1., 1., 1., 1., 1., 1., 1., 1., 1., 1., 1., 1., 1., 1., 1., 1., 1., 1.,\n",
       "         1., 1., 1., 1., 1., 1., 1., 1., 1., 1., 1., 1., 1., 1., 1., 1., 1., 1.,\n",
       "         1., 1., 1., 1., 1., 1., 1., 1., 1., 1., 1., 1., 1., 1., 1., 1., 1., 1.,\n",
       "         1., 1., 1., 1., 1., 1., 1., 1., 1., 1., 1., 1., 1., 1., 1., 1., 1., 1.,\n",
       "         1., 1., 1., 1., 1., 1., 1., 1.], requires_grad=True),\n",
       " Parameter containing:\n",
       " tensor([0., 0., 0., 0., 0., 0., 0., 0., 0., 0., 0., 0., 0., 0., 0., 0., 0., 0., 0., 0., 0., 0., 0., 0.,\n",
       "         0., 0., 0., 0., 0., 0., 0., 0., 0., 0., 0., 0., 0., 0., 0., 0., 0., 0., 0., 0., 0., 0., 0., 0.,\n",
       "         0., 0., 0., 0., 0., 0., 0., 0., 0., 0., 0., 0., 0., 0., 0., 0., 0., 0., 0., 0., 0., 0., 0., 0.,\n",
       "         0., 0., 0., 0., 0., 0., 0., 0., 0., 0., 0., 0., 0., 0., 0., 0., 0., 0., 0., 0., 0., 0., 0., 0.,\n",
       "         0., 0., 0., 0., 0., 0., 0., 0., 0., 0., 0., 0., 0., 0., 0., 0., 0., 0., 0., 0., 0., 0., 0., 0.,\n",
       "         0., 0., 0., 0., 0., 0., 0., 0., 0., 0., 0., 0., 0., 0., 0., 0., 0., 0., 0., 0., 0., 0., 0., 0.,\n",
       "         0., 0., 0., 0., 0., 0., 0., 0., 0., 0., 0., 0., 0., 0., 0., 0., 0., 0., 0., 0., 0., 0., 0., 0.,\n",
       "         0., 0., 0., 0., 0., 0., 0., 0., 0., 0., 0., 0., 0., 0., 0., 0., 0., 0., 0., 0., 0., 0., 0., 0.,\n",
       "         0., 0., 0., 0., 0., 0., 0., 0., 0., 0., 0., 0., 0., 0., 0., 0., 0., 0., 0., 0., 0., 0., 0., 0.,\n",
       "         0., 0., 0., 0., 0., 0., 0., 0., 0., 0., 0., 0., 0., 0., 0., 0., 0., 0., 0., 0., 0., 0., 0., 0.,\n",
       "         0., 0., 0., 0., 0., 0., 0., 0., 0., 0., 0., 0., 0., 0., 0., 0., 0., 0., 0., 0., 0., 0., 0., 0.,\n",
       "         0., 0., 0., 0., 0., 0., 0., 0., 0., 0., 0., 0., 0., 0., 0., 0., 0., 0., 0., 0., 0., 0., 0., 0.,\n",
       "         0., 0., 0., 0., 0., 0., 0., 0., 0., 0., 0., 0., 0., 0., 0., 0., 0., 0., 0., 0., 0., 0., 0., 0.,\n",
       "         0., 0., 0., 0., 0., 0., 0., 0., 0., 0., 0., 0., 0., 0., 0., 0., 0., 0., 0., 0., 0., 0., 0., 0.,\n",
       "         0., 0., 0., 0., 0., 0., 0., 0., 0., 0., 0., 0., 0., 0., 0., 0., 0., 0., 0., 0., 0., 0., 0., 0.,\n",
       "         0., 0., 0., 0., 0., 0., 0., 0., 0., 0., 0., 0., 0., 0., 0., 0., 0., 0., 0., 0., 0., 0., 0., 0.,\n",
       "         0., 0., 0., 0., 0., 0., 0., 0., 0., 0., 0., 0., 0., 0., 0., 0., 0., 0., 0., 0., 0., 0., 0., 0.,\n",
       "         0., 0., 0., 0., 0., 0., 0., 0., 0., 0., 0., 0., 0., 0., 0., 0., 0., 0., 0., 0., 0., 0., 0., 0.,\n",
       "         0., 0., 0., 0., 0., 0., 0., 0., 0., 0., 0., 0., 0., 0., 0., 0., 0., 0., 0., 0., 0., 0., 0., 0.,\n",
       "         0., 0., 0., 0., 0., 0., 0., 0., 0., 0., 0., 0., 0., 0., 0., 0., 0., 0., 0., 0., 0., 0., 0., 0.,\n",
       "         0., 0., 0., 0., 0., 0., 0., 0., 0., 0., 0., 0., 0., 0., 0., 0., 0., 0., 0., 0., 0., 0., 0., 0.,\n",
       "         0., 0., 0., 0., 0., 0., 0., 0.], requires_grad=True),\n",
       " Parameter containing:\n",
       " tensor([[[[ 2.8865e-02,  1.1732e-02, -1.4587e-02],\n",
       "           [-1.0524e-02,  1.6347e-02, -9.4058e-03],\n",
       "           [ 3.1805e-02, -9.5872e-03,  2.1499e-02]],\n",
       " \n",
       "          [[ 1.8597e-02,  2.0459e-02, -6.5101e-03],\n",
       "           [ 1.7877e-03,  5.4547e-03, -6.3558e-03],\n",
       "           [ 3.1732e-03, -2.1086e-02, -5.5493e-03]],\n",
       " \n",
       "          [[ 2.8649e-02, -1.2248e-02,  1.6538e-02],\n",
       "           [-2.2507e-02, -2.8952e-02, -1.4909e-02],\n",
       "           [-3.5645e-03,  8.7104e-03,  8.2891e-03]],\n",
       " \n",
       "          ...,\n",
       " \n",
       "          [[ 4.5607e-03, -1.0967e-02, -1.8547e-02],\n",
       "           [-5.3630e-02, -1.8073e-02, -9.0200e-03],\n",
       "           [-1.4460e-02,  1.2037e-02, -2.5540e-02]],\n",
       " \n",
       "          [[ 2.1419e-02, -6.9249e-03, -6.0655e-03],\n",
       "           [ 7.2067e-03,  3.0094e-02,  1.8376e-02],\n",
       "           [-2.6133e-03, -1.0954e-02,  2.1071e-02]],\n",
       " \n",
       "          [[-1.4712e-04,  1.6279e-02, -2.0062e-02],\n",
       "           [-5.3093e-03, -7.0419e-03,  1.2899e-02],\n",
       "           [ 3.7062e-02, -1.2695e-02,  3.9843e-02]]],\n",
       " \n",
       " \n",
       "         [[[ 1.9750e-02,  4.1131e-02, -1.0715e-02],\n",
       "           [ 1.0001e-02, -5.0037e-02,  2.8024e-02],\n",
       "           [ 3.2243e-02, -2.7506e-02,  3.3737e-03]],\n",
       " \n",
       "          [[ 1.3022e-02, -2.4600e-02,  1.1505e-02],\n",
       "           [ 1.5277e-02,  9.4879e-03, -1.4340e-02],\n",
       "           [-1.6427e-02,  1.3066e-02, -9.9159e-03]],\n",
       " \n",
       "          [[-2.8321e-02, -1.5405e-02,  8.6786e-03],\n",
       "           [-4.3656e-04,  2.5029e-02,  4.4377e-03],\n",
       "           [ 1.2563e-02, -7.3347e-03, -7.2460e-03]],\n",
       " \n",
       "          ...,\n",
       " \n",
       "          [[-3.6825e-02, -2.7939e-02,  2.7023e-03],\n",
       "           [-1.1282e-03, -1.6376e-02, -9.3347e-03],\n",
       "           [ 4.1296e-04, -2.2286e-02, -4.8800e-02]],\n",
       " \n",
       "          [[-1.9142e-02,  1.0657e-02, -8.3791e-03],\n",
       "           [ 4.1969e-02, -8.9195e-04,  1.3288e-02],\n",
       "           [-1.4432e-02,  4.2641e-02,  1.4584e-02]],\n",
       " \n",
       "          [[ 1.2663e-02, -4.3933e-02, -6.8635e-03],\n",
       "           [-2.5039e-02, -2.6174e-02, -5.9435e-04],\n",
       "           [ 1.0382e-02, -1.1731e-02,  4.7977e-04]]],\n",
       " \n",
       " \n",
       "         [[[-3.0299e-03,  5.2941e-03,  3.2537e-02],\n",
       "           [-6.4458e-03, -3.5064e-03, -1.7115e-02],\n",
       "           [ 5.4111e-03, -3.0156e-03,  1.2610e-02]],\n",
       " \n",
       "          [[-1.1550e-02,  1.7585e-02, -1.7037e-02],\n",
       "           [-3.3080e-02, -8.3244e-05, -4.4219e-04],\n",
       "           [-5.0001e-03,  9.0846e-03, -8.9955e-03]],\n",
       " \n",
       "          [[-3.2365e-02, -3.4679e-03, -2.2428e-02],\n",
       "           [ 1.8389e-02,  4.0744e-03,  2.4841e-02],\n",
       "           [-2.8346e-02, -1.4759e-02,  1.3218e-02]],\n",
       " \n",
       "          ...,\n",
       " \n",
       "          [[ 3.7064e-04,  3.9873e-04,  7.3181e-03],\n",
       "           [ 2.8109e-02,  2.1507e-02,  3.1538e-02],\n",
       "           [ 4.9225e-03, -1.4994e-02,  2.2767e-02]],\n",
       " \n",
       "          [[ 1.4417e-02, -1.0641e-02, -2.9623e-03],\n",
       "           [-3.6223e-03, -2.6722e-02, -2.2625e-02],\n",
       "           [-3.0502e-02, -1.7551e-02, -1.8397e-02]],\n",
       " \n",
       "          [[ 8.4059e-04, -1.9617e-02,  2.9647e-02],\n",
       "           [ 4.2781e-04,  1.3577e-02,  1.3754e-02],\n",
       "           [ 4.6815e-02,  2.0229e-02, -2.6665e-02]]],\n",
       " \n",
       " \n",
       "         ...,\n",
       " \n",
       " \n",
       "         [[[-2.2634e-02, -2.0937e-03,  2.3592e-02],\n",
       "           [-2.2153e-02,  1.1795e-02, -1.1512e-02],\n",
       "           [ 1.6687e-02,  2.2115e-02,  8.8608e-03]],\n",
       " \n",
       "          [[ 2.6011e-03,  4.6932e-02,  1.0982e-02],\n",
       "           [ 8.1205e-03,  3.6629e-02,  4.2799e-03],\n",
       "           [-1.6756e-02,  6.8853e-03,  2.3611e-02]],\n",
       " \n",
       "          [[-1.0437e-02, -4.8138e-02, -2.2273e-02],\n",
       "           [ 2.6646e-02, -1.9552e-02, -1.8842e-02],\n",
       "           [ 1.7275e-02, -5.5133e-03, -1.7180e-02]],\n",
       " \n",
       "          ...,\n",
       " \n",
       "          [[-6.0792e-03, -7.1758e-03, -4.9856e-04],\n",
       "           [ 9.9353e-03,  1.6265e-02,  2.2567e-02],\n",
       "           [ 5.6520e-03,  1.7079e-02,  3.2066e-02]],\n",
       " \n",
       "          [[ 1.9972e-02, -4.0718e-03,  2.1225e-03],\n",
       "           [-1.3980e-02, -1.8378e-02,  1.1275e-03],\n",
       "           [ 4.5608e-03, -1.6889e-02,  2.4696e-02]],\n",
       " \n",
       "          [[ 1.0466e-02,  1.8487e-02, -1.3037e-02],\n",
       "           [-1.2515e-02,  1.9680e-02, -2.4400e-03],\n",
       "           [-2.9782e-02, -1.4593e-02, -4.7364e-02]]],\n",
       " \n",
       " \n",
       "         [[[ 4.8907e-03,  3.3195e-02, -2.6620e-02],\n",
       "           [ 1.1379e-02,  2.7386e-02,  9.5185e-03],\n",
       "           [ 2.0644e-02,  4.2741e-03,  4.1839e-03]],\n",
       " \n",
       "          [[-2.3728e-02, -4.8298e-03, -3.3043e-02],\n",
       "           [-1.9383e-02, -1.2803e-02,  1.7530e-02],\n",
       "           [-3.6749e-02,  1.1475e-02, -1.5171e-02]],\n",
       " \n",
       "          [[-1.0500e-02,  8.6351e-04,  2.9749e-03],\n",
       "           [ 2.0420e-02,  2.9757e-02,  3.2286e-03],\n",
       "           [-1.5677e-02, -1.1097e-02,  8.0329e-03]],\n",
       " \n",
       "          ...,\n",
       " \n",
       "          [[ 3.0681e-02, -1.6321e-02,  2.3673e-02],\n",
       "           [ 8.3382e-03, -4.4236e-04, -3.0214e-02],\n",
       "           [-2.1480e-02,  3.3889e-02,  1.0942e-02]],\n",
       " \n",
       "          [[ 2.6857e-02,  1.0624e-02,  1.1448e-02],\n",
       "           [-2.2147e-02, -9.7634e-03, -7.4247e-03],\n",
       "           [-2.9082e-02,  3.0686e-03, -1.2591e-02]],\n",
       " \n",
       "          [[-7.1447e-03,  3.1399e-03, -1.3596e-02],\n",
       "           [ 4.3456e-02,  1.3687e-02, -3.9166e-02],\n",
       "           [ 4.8264e-02,  5.9291e-03, -3.1330e-02]]],\n",
       " \n",
       " \n",
       "         [[[ 2.5676e-02,  5.2476e-02,  1.3769e-02],\n",
       "           [ 8.0121e-03, -3.9362e-04,  2.6989e-02],\n",
       "           [ 2.7261e-02,  1.9062e-02, -1.6204e-02]],\n",
       " \n",
       "          [[ 1.4899e-02, -4.8465e-03, -5.4084e-03],\n",
       "           [ 2.0989e-02,  4.7999e-02, -2.2744e-02],\n",
       "           [ 2.2997e-02, -8.2796e-03,  5.2678e-03]],\n",
       " \n",
       "          [[ 1.2824e-02,  2.2514e-02,  7.6223e-03],\n",
       "           [-3.7417e-02, -5.1841e-03,  1.3518e-02],\n",
       "           [ 4.4422e-03,  3.2672e-02,  6.3365e-03]],\n",
       " \n",
       "          ...,\n",
       " \n",
       "          [[-1.8424e-02, -1.9999e-02,  2.0123e-02],\n",
       "           [-3.9181e-02,  1.5700e-02, -5.4774e-03],\n",
       "           [-1.0275e-02,  5.7366e-02, -6.0233e-03]],\n",
       " \n",
       "          [[-8.0334e-03, -1.4383e-02, -7.4888e-03],\n",
       "           [ 1.6148e-02,  8.5884e-03, -9.7412e-03],\n",
       "           [-3.4587e-02, -2.7818e-02,  1.6938e-02]],\n",
       " \n",
       "          [[ 1.3354e-03,  2.2770e-03, -1.9356e-02],\n",
       "           [ 8.4898e-03, -1.6511e-02,  2.1254e-02],\n",
       "           [-1.2729e-03,  7.1108e-03, -2.0014e-02]]]], requires_grad=True),\n",
       " Parameter containing:\n",
       " tensor([1., 1., 1., 1., 1., 1., 1., 1., 1., 1., 1., 1., 1., 1., 1., 1., 1., 1.,\n",
       "         1., 1., 1., 1., 1., 1., 1., 1., 1., 1., 1., 1., 1., 1., 1., 1., 1., 1.,\n",
       "         1., 1., 1., 1., 1., 1., 1., 1., 1., 1., 1., 1., 1., 1., 1., 1., 1., 1.,\n",
       "         1., 1., 1., 1., 1., 1., 1., 1., 1., 1., 1., 1., 1., 1., 1., 1., 1., 1.,\n",
       "         1., 1., 1., 1., 1., 1., 1., 1., 1., 1., 1., 1., 1., 1., 1., 1., 1., 1.,\n",
       "         1., 1., 1., 1., 1., 1., 1., 1., 1., 1., 1., 1., 1., 1., 1., 1., 1., 1.,\n",
       "         1., 1., 1., 1., 1., 1., 1., 1., 1., 1., 1., 1., 1., 1., 1., 1., 1., 1.,\n",
       "         1., 1., 1., 1., 1., 1., 1., 1., 1., 1., 1., 1., 1., 1., 1., 1., 1., 1.,\n",
       "         1., 1., 1., 1., 1., 1., 1., 1., 1., 1., 1., 1., 1., 1., 1., 1., 1., 1.,\n",
       "         1., 1., 1., 1., 1., 1., 1., 1., 1., 1., 1., 1., 1., 1., 1., 1., 1., 1.,\n",
       "         1., 1., 1., 1., 1., 1., 1., 1., 1., 1., 1., 1., 1., 1., 1., 1., 1., 1.,\n",
       "         1., 1., 1., 1., 1., 1., 1., 1., 1., 1., 1., 1., 1., 1., 1., 1., 1., 1.,\n",
       "         1., 1., 1., 1., 1., 1., 1., 1., 1., 1., 1., 1., 1., 1., 1., 1., 1., 1.,\n",
       "         1., 1., 1., 1., 1., 1., 1., 1., 1., 1., 1., 1., 1., 1., 1., 1., 1., 1.,\n",
       "         1., 1., 1., 1., 1., 1., 1., 1., 1., 1., 1., 1., 1., 1., 1., 1., 1., 1.,\n",
       "         1., 1., 1., 1., 1., 1., 1., 1., 1., 1., 1., 1., 1., 1., 1., 1., 1., 1.,\n",
       "         1., 1., 1., 1., 1., 1., 1., 1., 1., 1., 1., 1., 1., 1., 1., 1., 1., 1.,\n",
       "         1., 1., 1., 1., 1., 1., 1., 1., 1., 1., 1., 1., 1., 1., 1., 1., 1., 1.,\n",
       "         1., 1., 1., 1., 1., 1., 1., 1., 1., 1., 1., 1., 1., 1., 1., 1., 1., 1.,\n",
       "         1., 1., 1., 1., 1., 1., 1., 1., 1., 1., 1., 1., 1., 1., 1., 1., 1., 1.,\n",
       "         1., 1., 1., 1., 1., 1., 1., 1., 1., 1., 1., 1., 1., 1., 1., 1., 1., 1.,\n",
       "         1., 1., 1., 1., 1., 1., 1., 1., 1., 1., 1., 1., 1., 1., 1., 1., 1., 1.,\n",
       "         1., 1., 1., 1., 1., 1., 1., 1., 1., 1., 1., 1., 1., 1., 1., 1., 1., 1.,\n",
       "         1., 1., 1., 1., 1., 1., 1., 1., 1., 1., 1., 1., 1., 1., 1., 1., 1., 1.,\n",
       "         1., 1., 1., 1., 1., 1., 1., 1., 1., 1., 1., 1., 1., 1., 1., 1., 1., 1.,\n",
       "         1., 1., 1., 1., 1., 1., 1., 1., 1., 1., 1., 1., 1., 1., 1., 1., 1., 1.,\n",
       "         1., 1., 1., 1., 1., 1., 1., 1., 1., 1., 1., 1., 1., 1., 1., 1., 1., 1.,\n",
       "         1., 1., 1., 1., 1., 1., 1., 1., 1., 1., 1., 1., 1., 1., 1., 1., 1., 1.,\n",
       "         1., 1., 1., 1., 1., 1., 1., 1.], requires_grad=True),\n",
       " Parameter containing:\n",
       " tensor([0., 0., 0., 0., 0., 0., 0., 0., 0., 0., 0., 0., 0., 0., 0., 0., 0., 0., 0., 0., 0., 0., 0., 0.,\n",
       "         0., 0., 0., 0., 0., 0., 0., 0., 0., 0., 0., 0., 0., 0., 0., 0., 0., 0., 0., 0., 0., 0., 0., 0.,\n",
       "         0., 0., 0., 0., 0., 0., 0., 0., 0., 0., 0., 0., 0., 0., 0., 0., 0., 0., 0., 0., 0., 0., 0., 0.,\n",
       "         0., 0., 0., 0., 0., 0., 0., 0., 0., 0., 0., 0., 0., 0., 0., 0., 0., 0., 0., 0., 0., 0., 0., 0.,\n",
       "         0., 0., 0., 0., 0., 0., 0., 0., 0., 0., 0., 0., 0., 0., 0., 0., 0., 0., 0., 0., 0., 0., 0., 0.,\n",
       "         0., 0., 0., 0., 0., 0., 0., 0., 0., 0., 0., 0., 0., 0., 0., 0., 0., 0., 0., 0., 0., 0., 0., 0.,\n",
       "         0., 0., 0., 0., 0., 0., 0., 0., 0., 0., 0., 0., 0., 0., 0., 0., 0., 0., 0., 0., 0., 0., 0., 0.,\n",
       "         0., 0., 0., 0., 0., 0., 0., 0., 0., 0., 0., 0., 0., 0., 0., 0., 0., 0., 0., 0., 0., 0., 0., 0.,\n",
       "         0., 0., 0., 0., 0., 0., 0., 0., 0., 0., 0., 0., 0., 0., 0., 0., 0., 0., 0., 0., 0., 0., 0., 0.,\n",
       "         0., 0., 0., 0., 0., 0., 0., 0., 0., 0., 0., 0., 0., 0., 0., 0., 0., 0., 0., 0., 0., 0., 0., 0.,\n",
       "         0., 0., 0., 0., 0., 0., 0., 0., 0., 0., 0., 0., 0., 0., 0., 0., 0., 0., 0., 0., 0., 0., 0., 0.,\n",
       "         0., 0., 0., 0., 0., 0., 0., 0., 0., 0., 0., 0., 0., 0., 0., 0., 0., 0., 0., 0., 0., 0., 0., 0.,\n",
       "         0., 0., 0., 0., 0., 0., 0., 0., 0., 0., 0., 0., 0., 0., 0., 0., 0., 0., 0., 0., 0., 0., 0., 0.,\n",
       "         0., 0., 0., 0., 0., 0., 0., 0., 0., 0., 0., 0., 0., 0., 0., 0., 0., 0., 0., 0., 0., 0., 0., 0.,\n",
       "         0., 0., 0., 0., 0., 0., 0., 0., 0., 0., 0., 0., 0., 0., 0., 0., 0., 0., 0., 0., 0., 0., 0., 0.,\n",
       "         0., 0., 0., 0., 0., 0., 0., 0., 0., 0., 0., 0., 0., 0., 0., 0., 0., 0., 0., 0., 0., 0., 0., 0.,\n",
       "         0., 0., 0., 0., 0., 0., 0., 0., 0., 0., 0., 0., 0., 0., 0., 0., 0., 0., 0., 0., 0., 0., 0., 0.,\n",
       "         0., 0., 0., 0., 0., 0., 0., 0., 0., 0., 0., 0., 0., 0., 0., 0., 0., 0., 0., 0., 0., 0., 0., 0.,\n",
       "         0., 0., 0., 0., 0., 0., 0., 0., 0., 0., 0., 0., 0., 0., 0., 0., 0., 0., 0., 0., 0., 0., 0., 0.,\n",
       "         0., 0., 0., 0., 0., 0., 0., 0., 0., 0., 0., 0., 0., 0., 0., 0., 0., 0., 0., 0., 0., 0., 0., 0.,\n",
       "         0., 0., 0., 0., 0., 0., 0., 0., 0., 0., 0., 0., 0., 0., 0., 0., 0., 0., 0., 0., 0., 0., 0., 0.,\n",
       "         0., 0., 0., 0., 0., 0., 0., 0.], requires_grad=True),\n",
       " Parameter containing:\n",
       " tensor([[ 0.0432,  0.0068, -0.0112,  ..., -0.0101,  0.0421,  0.0034],\n",
       "         [-0.0193,  0.0294, -0.0093,  ..., -0.0176,  0.0060, -0.0296],\n",
       "         [-0.0088, -0.0326, -0.0126,  ...,  0.0063,  0.0136, -0.0436],\n",
       "         ...,\n",
       "         [-0.0435, -0.0351, -0.0090,  ...,  0.0300, -0.0411,  0.0405],\n",
       "         [-0.0045,  0.0094,  0.0242,  ..., -0.0169,  0.0156, -0.0108],\n",
       "         [-0.0094,  0.0414,  0.0158,  ..., -0.0052,  0.0271,  0.0271]],\n",
       "        requires_grad=True),\n",
       " Parameter containing:\n",
       " tensor([ 0.0043, -0.0224, -0.0403,  0.0255, -0.0096,  0.0084, -0.0186,  0.0244,\n",
       "          0.0270,  0.0243], requires_grad=True)]"
      ]
     },
     "execution_count": 21,
     "metadata": {},
     "output_type": "execute_result"
    }
   ],
   "source": [
    "list(model_net.parameters())"
   ]
  },
  {
   "cell_type": "code",
   "execution_count": 22,
   "id": "9064c37e",
   "metadata": {},
   "outputs": [],
   "source": [
    "params_to_update = []\n",
    "for param in model_net.parameters():\n",
    "    if param.requires_grad == True:\n",
    "        params_to_update.append(param)\n",
    "'''\n",
    "FEDPROX\n",
    "'''        \n",
    "#from openfl.utilities.optimizers.torch import FedProxAdam        \n",
    "#optimizer = FedProxAdam(params_to_update, lr=1e-4, mu=0.01)\n",
    "\n",
    "'''\n",
    "ORIGINALE\n",
    "'''\n",
    "optimizer = optim.Adam(params_to_update, lr=1e-4)\n",
    "#optimizer = optim.AdamW(params_to_update, lr=0.001, weight_decay=0.02)\n",
    "#optimizer = optim.SGD(params_to_update, lr=0.01, momentum=0.9, weight_decay=0.0005)\n",
    "\n",
    "#scheduler\n",
    "#scheduler = torch.optim.lr_scheduler.CosineAnnealingLR(optimizer, T_max=num_epochs)\n",
    "\n",
    "def cross_entropy(output, target):\n",
    "    \"\"\"Cross-entropy metric\n",
    "    \"\"\"\n",
    "    #return F.cross_entropy(input=output,target=target)\n",
    "    #return F.binary_cross_entropy_with_logits(input=output,target=target)\n",
    "    criterion = nn.CrossEntropyLoss()\n",
    "    loss = criterion(output, target)\n",
    "    return loss"
   ]
  },
  {
   "cell_type": "markdown",
   "id": "9b4d3b54",
   "metadata": {},
   "source": [
    "### Register model"
   ]
  },
  {
   "cell_type": "code",
   "execution_count": 23,
   "id": "b3b1d758",
   "metadata": {},
   "outputs": [],
   "source": [
    "framework_adapter = 'openfl.plugins.frameworks_adapters.pytorch_adapter.FrameworkAdapterPlugin'\n",
    "model_interface = ModelInterface(model=model_net, optimizer=optimizer, framework_plugin=framework_adapter)\n",
    "\n",
    "# Save the initial model state\n",
    "initial_model = deepcopy(model_net)"
   ]
  },
  {
   "cell_type": "markdown",
   "id": "57d322eb",
   "metadata": {},
   "source": [
    "## Define and register FL tasks"
   ]
  },
  {
   "cell_type": "code",
   "execution_count": 24,
   "id": "0b02acc1",
   "metadata": {},
   "outputs": [],
   "source": [
    "task_interface = TaskInterface()\n",
    "\n",
    "'''\n",
    "FEDCURV\n",
    "'''\n",
    "#from openfl.utilities.fedcurv.torch import FedCurv\n",
    "#from openfl.component.aggregation_functions import FedCurvWeightedAverage\n",
    "#import tqdm\n",
    "\n",
    "#fedcurv = FedCurv(model_interface.provide_model(), importance=1e3)\n",
    "\n",
    "'''\n",
    "FEDOPT\n",
    "'''\n",
    "\n",
    "#from openfl.component.aggregation_functions import AdagradAdaptiveAggregation    \n",
    "#agg_fn = AdagradAdaptiveAggregation(model_interface=model_interface, learning_rate=0.4)     \n",
    "#@task_interface.set_aggregation_function(agg_fn)\n",
    "\n",
    "\n",
    "# The Interactive API supports registering functions definied in main module or imported.\n",
    "def function_defined_in_notebook(some_parameter):\n",
    "    print(f'Also I accept a parameter and it is {some_parameter}')\n",
    "\n",
    "# Task interface currently supports only standalone functions.\n",
    "@task_interface.add_kwargs(**{'some_parameter': 42})\n",
    "@task_interface.register_fl_task(model='net_model', data_loader='train_loader', \\\n",
    "                     device='device', optimizer='optimizer') \n",
    "#@task_interface.set_aggregation_function(FedCurvWeightedAverage())\n",
    "\n",
    "\n",
    "def train(net_model, train_loader, optimizer, device, loss_fn=cross_entropy, some_parameter=None):\n",
    "    torch.manual_seed(0)\n",
    "    #fedcurv.on_train_begin(net_model)\n",
    "    device='cuda'\n",
    "    function_defined_in_notebook(some_parameter)\n",
    "    \n",
    "    train_loader = tqdm.tqdm(train_loader, desc=\"train\")\n",
    "    net_model.train()\n",
    "    net_model.to(device)\n",
    "\n",
    "    losses = []\n",
    "    epochs = 50\n",
    "    \n",
    "    for epoch in range(epochs):\n",
    "        for data, target in train_loader:\n",
    "            data, target = torch.tensor(data).to(device), torch.tensor(\n",
    "                target).to(device, dtype=torch.int64)\n",
    "            optimizer.zero_grad()\n",
    "            #data = data.type(torch.LongTensor)\n",
    "            #target = target.type(torch.LongTensor)\n",
    "            output = net_model(data)\n",
    "            #output = output.logits #per GOOGLENET\n",
    "            loss = loss_fn(output=output, target=target) #+ fedcurv.get_penalty(net_model)\n",
    "            loss.backward()\n",
    "            optimizer.step()\n",
    "            losses.append(loss.detach().cpu().numpy())\n",
    "    #fedcurv.on_train_end(net_model, train_loader, device)    \n",
    "    return {'train_loss': np.mean(losses),}\n",
    "\n",
    "\n",
    "@task_interface.register_fl_task(model='net_model', data_loader='val_loader', device='device')     \n",
    "def validate(net_model, val_loader, device):\n",
    "    torch.manual_seed(0)\n",
    "    device = torch.device('cuda')\n",
    "    net_model.eval()\n",
    "    net_model.to(device)\n",
    "    \n",
    "    val_loader = tqdm.tqdm(val_loader, desc=\"validate\")\n",
    "    val_score = 0\n",
    "    total_samples = 0\n",
    "\n",
    "    with torch.no_grad():\n",
    "        for data, target in val_loader:\n",
    "            samples = target.shape[0]\n",
    "            total_samples += samples\n",
    "            data, target = torch.tensor(data).to(device), \\\n",
    "                torch.tensor(target).to(device, dtype=torch.int64)\n",
    "            output = net_model(data)\n",
    "            #da wine\n",
    "            #_, preds = torch.max(outputs, dim=1)\n",
    "            #return torch.tensor(torch.sum(preds == labels).item() / len(preds))\n",
    "            \n",
    "            #originale\n",
    "            #pred = output.argmax(dim=1,keepdim=True)\n",
    "            \n",
    "            #tentativo\n",
    "            _, pred = torch.max(output, dim=1)\n",
    "            val_score += pred.eq(target).sum().cpu().numpy()\n",
    "            \n",
    "    return {'acc': val_score / total_samples,}"
   ]
  },
  {
   "cell_type": "markdown",
   "id": "f802b74e",
   "metadata": {},
   "source": [
    "## Time to start a federated learning experiment"
   ]
  },
  {
   "cell_type": "code",
   "execution_count": 25,
   "id": "0f18dd63",
   "metadata": {},
   "outputs": [],
   "source": [
    "# create an experimnet in federation\n",
    "experiment_name = 'cifar10_EPOCHS50_ROUND20_resnetLN_Adam'\n",
    "fl_experiment = FLExperiment(federation=federation, experiment_name=experiment_name)"
   ]
  },
  {
   "cell_type": "code",
   "execution_count": 26,
   "id": "7501d9e7",
   "metadata": {},
   "outputs": [
    {
     "data": {
      "text/html": [
       "<pre style=\"white-space:pre;overflow-x:auto;line-height:normal;font-family:Menlo,'DejaVu Sans Mono',consolas,'Courier New',monospace\"><span style=\"color: #7fbfbf\">[08:56:57] </span><span style=\"color: #000080\">INFO</span>     Building <span style=\"color: #800000\">🡆</span> Object <span style=\"color: #800000\">CloudpickleSerializer</span> from <span style=\"color: #800000\">openfl.plugins.interface_serializer.cloudpickle_serializer</span> Module.                  <a href=\"file:///home/ubuntu/anaconda3/envs/openfl/lib/python3.8/site-packages/openfl/federated/plan/plan.py\"><span style=\"color: #7f7f7f\">plan.py</span></a><span style=\"color: #7f7f7f\">:171</span>\n",
       "</pre>\n"
      ],
      "text/plain": [
       "<rich.jupyter.JupyterRenderable at 0x7f0a37790a60>"
      ]
     },
     "metadata": {},
     "output_type": "display_data"
    },
    {
     "data": {
      "text/html": [
       "<pre style=\"white-space:pre;overflow-x:auto;line-height:normal;font-family:Menlo,'DejaVu Sans Mono',consolas,'Courier New',monospace\"><span style=\"color: #7fbfbf\">           </span><span style=\"color: #000080\">INFO</span>     Building <span style=\"color: #800000\">🡆</span> Object <span style=\"color: #800000\">FrameworkAdapterPlugin</span> from <span style=\"color: #800000\">openfl.plugins.frameworks_adapters.pytorch_adapter</span> Module.                         <a href=\"file:///home/ubuntu/anaconda3/envs/openfl/lib/python3.8/site-packages/openfl/federated/plan/plan.py\"><span style=\"color: #7f7f7f\">plan.py</span></a><span style=\"color: #7f7f7f\">:171</span>\n",
       "</pre>\n"
      ],
      "text/plain": [
       "<rich.jupyter.JupyterRenderable at 0x7f0a377a7b20>"
      ]
     },
     "metadata": {},
     "output_type": "display_data"
    },
    {
     "name": "stderr",
     "output_type": "stream",
     "text": [
      "/home/ubuntu/anaconda3/envs/openfl/lib/python3.8/site-packages/_distutils_hack/__init__.py:30: UserWarning: Setuptools is replacing distutils.\n",
      "  warnings.warn(\"Setuptools is replacing distutils.\")\n"
     ]
    },
    {
     "data": {
      "text/html": [
       "<pre style=\"white-space:pre;overflow-x:auto;line-height:normal;font-family:Menlo,'DejaVu Sans Mono',consolas,'Courier New',monospace\"><span style=\"color: #7fbfbf\">[08:57:05] </span><span style=\"color: #000080\">INFO</span>     Starting experiment!                                                                                                       <a href=\"file:///home/ubuntu/anaconda3/envs/openfl/lib/python3.8/site-packages/openfl/interface/interactive_api/experiment.py\"><span style=\"color: #7f7f7f\">experiment.py</span></a><span style=\"color: #7f7f7f\">:214</span>\n",
       "</pre>\n"
      ],
      "text/plain": [
       "<rich.jupyter.JupyterRenderable at 0x7f0a35f7df10>"
      ]
     },
     "metadata": {},
     "output_type": "display_data"
    },
    {
     "data": {
      "text/html": [
       "<pre style=\"white-space:pre;overflow-x:auto;line-height:normal;font-family:Menlo,'DejaVu Sans Mono',consolas,'Courier New',monospace\"><span style=\"color: #7fbfbf\">           </span><span style=\"color: #000080\">INFO</span>     FL-Plan hash is <span style=\"color: #000080\">ae29f07e93bc7f55a74c42037417b80a87ab748ea2f669f709fa997dab31cf04b61c121a5473173c31db750a3555e2c2</span>                 <a href=\"file:///home/ubuntu/anaconda3/envs/openfl/lib/python3.8/site-packages/openfl/federated/plan/plan.py\"><span style=\"color: #7f7f7f\">plan.py</span></a><span style=\"color: #7f7f7f\">:233</span>\n",
       "</pre>\n"
      ],
      "text/plain": [
       "<rich.jupyter.JupyterRenderable at 0x7f0a35f60d30>"
      ]
     },
     "metadata": {},
     "output_type": "display_data"
    },
    {
     "data": {
      "text/html": [
       "<pre style=\"white-space:pre;overflow-x:auto;line-height:normal;font-family:Menlo,'DejaVu Sans Mono',consolas,'Courier New',monospace\"><span style=\"color: #7fbfbf\">           </span><span style=\"color: #000080\">INFO</span>     FL-Plan hash is <span style=\"color: #000080\">ae29f07e93bc7f55a74c42037417b80a87ab748ea2f669f709fa997dab31cf04b61c121a5473173c31db750a3555e2c2</span>                 <a href=\"file:///home/ubuntu/anaconda3/envs/openfl/lib/python3.8/site-packages/openfl/federated/plan/plan.py\"><span style=\"color: #7f7f7f\">plan.py</span></a><span style=\"color: #7f7f7f\">:233</span>\n",
       "</pre>\n"
      ],
      "text/plain": [
       "<rich.jupyter.JupyterRenderable at 0x7f0a3775aaf0>"
      ]
     },
     "metadata": {},
     "output_type": "display_data"
    },
    {
     "data": {
      "text/html": [
       "<pre style=\"white-space:pre;overflow-x:auto;line-height:normal;font-family:Menlo,'DejaVu Sans Mono',consolas,'Courier New',monospace\"><span style=\"color: #7fbfbf\">           </span><span style=\"color: #000080\">INFO</span>     Building <span style=\"color: #800000\">🡆</span> Object <span style=\"color: #800000\">CoreTaskRunner</span> from <span style=\"color: #800000\">openfl.federated.task.task_runner</span> Module.                                                  <a href=\"file:///home/ubuntu/anaconda3/envs/openfl/lib/python3.8/site-packages/openfl/federated/plan/plan.py\"><span style=\"color: #7f7f7f\">plan.py</span></a><span style=\"color: #7f7f7f\">:171</span>\n",
       "</pre>\n"
      ],
      "text/plain": [
       "<rich.jupyter.JupyterRenderable at 0x7f0a3775a4f0>"
      ]
     },
     "metadata": {},
     "output_type": "display_data"
    },
    {
     "data": {
      "text/html": [
       "<pre style=\"white-space:pre;overflow-x:auto;line-height:normal;font-family:Menlo,'DejaVu Sans Mono',consolas,'Courier New',monospace\"><span style=\"color: #7fbfbf\">           </span><span style=\"color: #000080\">INFO</span>     Building <span style=\"color: #800000\">🡆</span> Object <span style=\"color: #800000\">FrameworkAdapterPlugin</span> from <span style=\"color: #800000\">openfl.plugins.frameworks_adapters.pytorch_adapter</span> Module.                         <a href=\"file:///home/ubuntu/anaconda3/envs/openfl/lib/python3.8/site-packages/openfl/federated/plan/plan.py\"><span style=\"color: #7f7f7f\">plan.py</span></a><span style=\"color: #7f7f7f\">:171</span>\n",
       "</pre>\n"
      ],
      "text/plain": [
       "<rich.jupyter.JupyterRenderable at 0x7f0a35f7da60>"
      ]
     },
     "metadata": {},
     "output_type": "display_data"
    },
    {
     "data": {
      "text/html": [
       "<pre style=\"white-space:pre;overflow-x:auto;line-height:normal;font-family:Menlo,'DejaVu Sans Mono',consolas,'Courier New',monospace\"><span style=\"color: #7fbfbf\">           </span><span style=\"color: #800000\">WARNING</span>  tried to remove tensor: __opt_state_needed not present in the tensor dict                                                       <a href=\"file:///home/ubuntu/anaconda3/envs/openfl/lib/python3.8/site-packages/openfl/utilities/utils.py\"><span style=\"color: #7f7f7f\">utils.py</span></a><span style=\"color: #7f7f7f\">:170</span>\n",
       "</pre>\n"
      ],
      "text/plain": [
       "<rich.jupyter.JupyterRenderable at 0x7f0a35f7d1f0>"
      ]
     },
     "metadata": {},
     "output_type": "display_data"
    },
    {
     "data": {
      "text/html": [
       "<pre style=\"white-space:pre;overflow-x:auto;line-height:normal;font-family:Menlo,'DejaVu Sans Mono',consolas,'Courier New',monospace\"><span style=\"color: #7fbfbf\">           </span><span style=\"color: #800000\">WARNING</span>  tried to remove tensor: __opt_state_needed not present in the tensor dict                                                       <a href=\"file:///home/ubuntu/anaconda3/envs/openfl/lib/python3.8/site-packages/openfl/utilities/utils.py\"><span style=\"color: #7f7f7f\">utils.py</span></a><span style=\"color: #7f7f7f\">:170</span>\n",
       "</pre>\n"
      ],
      "text/plain": [
       "<rich.jupyter.JupyterRenderable at 0x7f0a35f7d820>"
      ]
     },
     "metadata": {},
     "output_type": "display_data"
    },
    {
     "data": {
      "text/html": [
       "<pre style=\"white-space:pre;overflow-x:auto;line-height:normal;font-family:Menlo,'DejaVu Sans Mono',consolas,'Courier New',monospace\"><span style=\"color: #7fbfbf\">           </span><span style=\"color: #000080\">INFO</span>     SetNewExperiment                                                                                                      <a href=\"file:///home/ubuntu/anaconda3/envs/openfl/lib/python3.8/site-packages/openfl/transport/grpc/director_client.py\"><span style=\"color: #7f7f7f\">director_client.py</span></a><span style=\"color: #7f7f7f\">:203</span>\n",
       "</pre>\n"
      ],
      "text/plain": [
       "<rich.jupyter.JupyterRenderable at 0x7f0a35f7dcd0>"
      ]
     },
     "metadata": {},
     "output_type": "display_data"
    },
    {
     "data": {
      "text/html": [
       "<pre style=\"white-space:pre;overflow-x:auto;line-height:normal;font-family:Menlo,'DejaVu Sans Mono',consolas,'Courier New',monospace\"><span style=\"color: #7fbfbf\">[08:57:09] </span><span style=\"color: #000080\">INFO</span>     Experiment was accepted and launched.                                                                                      <a href=\"file:///home/ubuntu/anaconda3/envs/openfl/lib/python3.8/site-packages/openfl/interface/interactive_api/experiment.py\"><span style=\"color: #7f7f7f\">experiment.py</span></a><span style=\"color: #7f7f7f\">:228</span>\n",
       "</pre>\n"
      ],
      "text/plain": [
       "<rich.jupyter.JupyterRenderable at 0x7f0a35f7dac0>"
      ]
     },
     "metadata": {},
     "output_type": "display_data"
    }
   ],
   "source": [
    "# The following command zips the workspace and python requirements to be transfered to collaborator nodes\n",
    "fl_experiment.start(\n",
    "    model_provider=model_interface, \n",
    "    task_keeper=task_interface,\n",
    "    data_loader=fed_dataset,\n",
    "    rounds_to_train=20,\n",
    "    opt_treatment='CONTINUE_GLOBAL'\n",
    ")"
   ]
  },
  {
   "cell_type": "code",
   "execution_count": 27,
   "id": "d9c17a2d",
   "metadata": {},
   "outputs": [
    {
     "data": {
      "text/html": [
       "<pre style=\"white-space:pre;overflow-x:auto;line-height:normal;font-family:Menlo,'DejaVu Sans Mono',consolas,'Courier New',monospace\"><span style=\"color: #7fbfbf\">[08:58:24] </span>METRIC   Round <span style=\"color: #000080; font-weight: bold\">0</span>, collaborator env_one train result train_loss:  <span style=\"color: #000080; font-weight: bold\">0.127902</span>                                                           <a href=\"file:///home/ubuntu/anaconda3/envs/openfl/lib/python3.8/site-packages/openfl/interface/interactive_api/experiment.py\"><span style=\"color: #7f7f7f\">experiment.py</span></a><span style=\"color: #7f7f7f\">:116</span>\n",
       "</pre>\n"
      ],
      "text/plain": [
       "<rich.jupyter.JupyterRenderable at 0x7f0a35f7d940>"
      ]
     },
     "metadata": {},
     "output_type": "display_data"
    },
    {
     "data": {
      "text/html": [
       "<pre style=\"white-space:pre;overflow-x:auto;line-height:normal;font-family:Menlo,'DejaVu Sans Mono',consolas,'Courier New',monospace\"><span style=\"color: #7fbfbf\">[08:58:25] </span>METRIC   Round <span style=\"color: #000080; font-weight: bold\">0</span>, collaborator env_one locally_tuned_model_validate result acc:  <span style=\"color: #000080; font-weight: bold\">0.940000</span>                                           <a href=\"file:///home/ubuntu/anaconda3/envs/openfl/lib/python3.8/site-packages/openfl/interface/interactive_api/experiment.py\"><span style=\"color: #7f7f7f\">experiment.py</span></a><span style=\"color: #7f7f7f\">:116</span>\n",
       "</pre>\n"
      ],
      "text/plain": [
       "<rich.jupyter.JupyterRenderable at 0x7f0a35f600d0>"
      ]
     },
     "metadata": {},
     "output_type": "display_data"
    },
    {
     "data": {
      "text/html": [
       "<pre style=\"white-space:pre;overflow-x:auto;line-height:normal;font-family:Menlo,'DejaVu Sans Mono',consolas,'Courier New',monospace\"><span style=\"color: #7fbfbf\">[08:58:26] </span>METRIC   Round <span style=\"color: #000080; font-weight: bold\">0</span>, collaborator env_one aggregated_model_validate result acc:     <span style=\"color: #000080; font-weight: bold\">0.000000</span>                                           <a href=\"file:///home/ubuntu/anaconda3/envs/openfl/lib/python3.8/site-packages/openfl/interface/interactive_api/experiment.py\"><span style=\"color: #7f7f7f\">experiment.py</span></a><span style=\"color: #7f7f7f\">:116</span>\n",
       "</pre>\n"
      ],
      "text/plain": [
       "<rich.jupyter.JupyterRenderable at 0x7f0a35f601f0>"
      ]
     },
     "metadata": {},
     "output_type": "display_data"
    },
    {
     "data": {
      "text/html": [
       "<pre style=\"white-space:pre;overflow-x:auto;line-height:normal;font-family:Menlo,'DejaVu Sans Mono',consolas,'Courier New',monospace\"><span style=\"color: #7fbfbf\">[08:58:28] </span>METRIC   Round <span style=\"color: #000080; font-weight: bold\">0</span>, collaborator env_four train result train_loss: <span style=\"color: #000080; font-weight: bold\">0.104946</span>                                                           <a href=\"file:///home/ubuntu/anaconda3/envs/openfl/lib/python3.8/site-packages/openfl/interface/interactive_api/experiment.py\"><span style=\"color: #7f7f7f\">experiment.py</span></a><span style=\"color: #7f7f7f\">:116</span>\n",
       "</pre>\n"
      ],
      "text/plain": [
       "<rich.jupyter.JupyterRenderable at 0x7f0a35f60220>"
      ]
     },
     "metadata": {},
     "output_type": "display_data"
    },
    {
     "data": {
      "text/html": [
       "<pre style=\"white-space:pre;overflow-x:auto;line-height:normal;font-family:Menlo,'DejaVu Sans Mono',consolas,'Courier New',monospace\"><span style=\"color: #7fbfbf\">           </span>METRIC   Round <span style=\"color: #000080; font-weight: bold\">0</span>, collaborator env_four locally_tuned_model_validate result acc: <span style=\"color: #000080; font-weight: bold\">0.941000</span>                                           <a href=\"file:///home/ubuntu/anaconda3/envs/openfl/lib/python3.8/site-packages/openfl/interface/interactive_api/experiment.py\"><span style=\"color: #7f7f7f\">experiment.py</span></a><span style=\"color: #7f7f7f\">:116</span>\n",
       "</pre>\n"
      ],
      "text/plain": [
       "<rich.jupyter.JupyterRenderable at 0x7f0a35f60be0>"
      ]
     },
     "metadata": {},
     "output_type": "display_data"
    },
    {
     "data": {
      "text/html": [
       "<pre style=\"white-space:pre;overflow-x:auto;line-height:normal;font-family:Menlo,'DejaVu Sans Mono',consolas,'Courier New',monospace\"><span style=\"color: #7fbfbf\">           </span>METRIC   Round <span style=\"color: #000080; font-weight: bold\">0</span>, collaborator env_four aggregated_model_validate result acc:    <span style=\"color: #000080; font-weight: bold\">0.000000</span>                                           <a href=\"file:///home/ubuntu/anaconda3/envs/openfl/lib/python3.8/site-packages/openfl/interface/interactive_api/experiment.py\"><span style=\"color: #7f7f7f\">experiment.py</span></a><span style=\"color: #7f7f7f\">:116</span>\n",
       "</pre>\n"
      ],
      "text/plain": [
       "<rich.jupyter.JupyterRenderable at 0x7f0a35f609a0>"
      ]
     },
     "metadata": {},
     "output_type": "display_data"
    },
    {
     "data": {
      "text/html": [
       "<pre style=\"white-space:pre;overflow-x:auto;line-height:normal;font-family:Menlo,'DejaVu Sans Mono',consolas,'Courier New',monospace\"><span style=\"color: #7fbfbf\">[08:58:34] </span>METRIC   Round <span style=\"color: #000080; font-weight: bold\">0</span>, collaborator env_seven train result train_loss:        <span style=\"color: #000080; font-weight: bold\">0.247930</span>                                                   <a href=\"file:///home/ubuntu/anaconda3/envs/openfl/lib/python3.8/site-packages/openfl/interface/interactive_api/experiment.py\"><span style=\"color: #7f7f7f\">experiment.py</span></a><span style=\"color: #7f7f7f\">:116</span>\n",
       "</pre>\n"
      ],
      "text/plain": [
       "<rich.jupyter.JupyterRenderable at 0x7f0a35f60220>"
      ]
     },
     "metadata": {},
     "output_type": "display_data"
    },
    {
     "data": {
      "text/html": [
       "<pre style=\"white-space:pre;overflow-x:auto;line-height:normal;font-family:Menlo,'DejaVu Sans Mono',consolas,'Courier New',monospace\"><span style=\"color: #7fbfbf\">[08:58:35] </span>METRIC   Round <span style=\"color: #000080; font-weight: bold\">0</span>, collaborator env_seven locally_tuned_model_validate result acc:        <span style=\"color: #000080; font-weight: bold\">0.851000</span>                                   <a href=\"file:///home/ubuntu/anaconda3/envs/openfl/lib/python3.8/site-packages/openfl/interface/interactive_api/experiment.py\"><span style=\"color: #7f7f7f\">experiment.py</span></a><span style=\"color: #7f7f7f\">:116</span>\n",
       "</pre>\n"
      ],
      "text/plain": [
       "<rich.jupyter.JupyterRenderable at 0x7f0a35f60070>"
      ]
     },
     "metadata": {},
     "output_type": "display_data"
    },
    {
     "data": {
      "text/html": [
       "<pre style=\"white-space:pre;overflow-x:auto;line-height:normal;font-family:Menlo,'DejaVu Sans Mono',consolas,'Courier New',monospace\"><span style=\"color: #7fbfbf\">           </span>METRIC   Round <span style=\"color: #000080; font-weight: bold\">0</span>, collaborator env_seven aggregated_model_validate result acc:   <span style=\"color: #000080; font-weight: bold\">0.360500</span>                                           <a href=\"file:///home/ubuntu/anaconda3/envs/openfl/lib/python3.8/site-packages/openfl/interface/interactive_api/experiment.py\"><span style=\"color: #7f7f7f\">experiment.py</span></a><span style=\"color: #7f7f7f\">:116</span>\n",
       "</pre>\n"
      ],
      "text/plain": [
       "<rich.jupyter.JupyterRenderable at 0x7f0a35f60190>"
      ]
     },
     "metadata": {},
     "output_type": "display_data"
    },
    {
     "data": {
      "text/html": [
       "<pre style=\"white-space:pre;overflow-x:auto;line-height:normal;font-family:Menlo,'DejaVu Sans Mono',consolas,'Courier New',monospace\"><span style=\"color: #7fbfbf\">[08:58:46] </span>METRIC   Round <span style=\"color: #000080; font-weight: bold\">0</span>, collaborator env_eight train result train_loss:        <span style=\"color: #000080; font-weight: bold\">0.156782</span>                                                   <a href=\"file:///home/ubuntu/anaconda3/envs/openfl/lib/python3.8/site-packages/openfl/interface/interactive_api/experiment.py\"><span style=\"color: #7f7f7f\">experiment.py</span></a><span style=\"color: #7f7f7f\">:116</span>\n",
       "</pre>\n"
      ],
      "text/plain": [
       "<rich.jupyter.JupyterRenderable at 0x7f0a35f60310>"
      ]
     },
     "metadata": {},
     "output_type": "display_data"
    },
    {
     "data": {
      "text/html": [
       "<pre style=\"white-space:pre;overflow-x:auto;line-height:normal;font-family:Menlo,'DejaVu Sans Mono',consolas,'Courier New',monospace\"><span style=\"color: #7fbfbf\">[08:58:47] </span>METRIC   Round <span style=\"color: #000080; font-weight: bold\">0</span>, collaborator env_eight locally_tuned_model_validate result acc:        <span style=\"color: #000080; font-weight: bold\">0.924000</span>                                   <a href=\"file:///home/ubuntu/anaconda3/envs/openfl/lib/python3.8/site-packages/openfl/interface/interactive_api/experiment.py\"><span style=\"color: #7f7f7f\">experiment.py</span></a><span style=\"color: #7f7f7f\">:116</span>\n",
       "</pre>\n"
      ],
      "text/plain": [
       "<rich.jupyter.JupyterRenderable at 0x7f0a35f60250>"
      ]
     },
     "metadata": {},
     "output_type": "display_data"
    },
    {
     "data": {
      "text/html": [
       "<pre style=\"white-space:pre;overflow-x:auto;line-height:normal;font-family:Menlo,'DejaVu Sans Mono',consolas,'Courier New',monospace\"><span style=\"color: #7fbfbf\">           </span>METRIC   Round <span style=\"color: #000080; font-weight: bold\">0</span>, collaborator env_eight aggregated_model_validate result acc:   <span style=\"color: #000080; font-weight: bold\">0.147500</span>                                           <a href=\"file:///home/ubuntu/anaconda3/envs/openfl/lib/python3.8/site-packages/openfl/interface/interactive_api/experiment.py\"><span style=\"color: #7f7f7f\">experiment.py</span></a><span style=\"color: #7f7f7f\">:116</span>\n",
       "</pre>\n"
      ],
      "text/plain": [
       "<rich.jupyter.JupyterRenderable at 0x7f0a35f60cd0>"
      ]
     },
     "metadata": {},
     "output_type": "display_data"
    },
    {
     "data": {
      "text/html": [
       "<pre style=\"white-space:pre;overflow-x:auto;line-height:normal;font-family:Menlo,'DejaVu Sans Mono',consolas,'Courier New',monospace\"><span style=\"color: #7fbfbf\">[08:58:51] </span>METRIC   Round <span style=\"color: #000080; font-weight: bold\">0</span>, collaborator env_three train result train_loss:        <span style=\"color: #000080; font-weight: bold\">0.091621</span>                                                   <a href=\"file:///home/ubuntu/anaconda3/envs/openfl/lib/python3.8/site-packages/openfl/interface/interactive_api/experiment.py\"><span style=\"color: #7f7f7f\">experiment.py</span></a><span style=\"color: #7f7f7f\">:116</span>\n",
       "</pre>\n"
      ],
      "text/plain": [
       "<rich.jupyter.JupyterRenderable at 0x7f0a35f60490>"
      ]
     },
     "metadata": {},
     "output_type": "display_data"
    },
    {
     "data": {
      "text/html": [
       "<pre style=\"white-space:pre;overflow-x:auto;line-height:normal;font-family:Menlo,'DejaVu Sans Mono',consolas,'Courier New',monospace\"><span style=\"color: #7fbfbf\">           </span>METRIC   Round <span style=\"color: #000080; font-weight: bold\">0</span>, collaborator env_three locally_tuned_model_validate result acc:        <span style=\"color: #000080; font-weight: bold\">0.962000</span>                                   <a href=\"file:///home/ubuntu/anaconda3/envs/openfl/lib/python3.8/site-packages/openfl/interface/interactive_api/experiment.py\"><span style=\"color: #7f7f7f\">experiment.py</span></a><span style=\"color: #7f7f7f\">:116</span>\n",
       "</pre>\n"
      ],
      "text/plain": [
       "<rich.jupyter.JupyterRenderable at 0x7f0a35f601c0>"
      ]
     },
     "metadata": {},
     "output_type": "display_data"
    },
    {
     "data": {
      "text/html": [
       "<pre style=\"white-space:pre;overflow-x:auto;line-height:normal;font-family:Menlo,'DejaVu Sans Mono',consolas,'Courier New',monospace\"><span style=\"color: #7fbfbf\">[08:58:52] </span>METRIC   Round <span style=\"color: #000080; font-weight: bold\">0</span>, collaborator env_three aggregated_model_validate result acc:   <span style=\"color: #000080; font-weight: bold\">0.175000</span>                                           <a href=\"file:///home/ubuntu/anaconda3/envs/openfl/lib/python3.8/site-packages/openfl/interface/interactive_api/experiment.py\"><span style=\"color: #7f7f7f\">experiment.py</span></a><span style=\"color: #7f7f7f\">:116</span>\n",
       "</pre>\n"
      ],
      "text/plain": [
       "<rich.jupyter.JupyterRenderable at 0x7f0a35f60c10>"
      ]
     },
     "metadata": {},
     "output_type": "display_data"
    },
    {
     "data": {
      "text/html": [
       "<pre style=\"white-space:pre;overflow-x:auto;line-height:normal;font-family:Menlo,'DejaVu Sans Mono',consolas,'Courier New',monospace\"><span style=\"color: #7fbfbf\">[08:58:59] </span>METRIC   Round <span style=\"color: #000080; font-weight: bold\">0</span>, collaborator env_two train result train_loss:  <span style=\"color: #000080; font-weight: bold\">0.098916</span>                                                           <a href=\"file:///home/ubuntu/anaconda3/envs/openfl/lib/python3.8/site-packages/openfl/interface/interactive_api/experiment.py\"><span style=\"color: #7f7f7f\">experiment.py</span></a><span style=\"color: #7f7f7f\">:116</span>\n",
       "</pre>\n"
      ],
      "text/plain": [
       "<rich.jupyter.JupyterRenderable at 0x7f0a35f60310>"
      ]
     },
     "metadata": {},
     "output_type": "display_data"
    },
    {
     "data": {
      "text/html": [
       "<pre style=\"white-space:pre;overflow-x:auto;line-height:normal;font-family:Menlo,'DejaVu Sans Mono',consolas,'Courier New',monospace\"><span style=\"color: #7fbfbf\">           </span>METRIC   Round <span style=\"color: #000080; font-weight: bold\">0</span>, collaborator env_two locally_tuned_model_validate result acc:  <span style=\"color: #000080; font-weight: bold\">0.956500</span>                                           <a href=\"file:///home/ubuntu/anaconda3/envs/openfl/lib/python3.8/site-packages/openfl/interface/interactive_api/experiment.py\"><span style=\"color: #7f7f7f\">experiment.py</span></a><span style=\"color: #7f7f7f\">:116</span>\n",
       "</pre>\n"
      ],
      "text/plain": [
       "<rich.jupyter.JupyterRenderable at 0x7f0a35f60df0>"
      ]
     },
     "metadata": {},
     "output_type": "display_data"
    },
    {
     "data": {
      "text/html": [
       "<pre style=\"white-space:pre;overflow-x:auto;line-height:normal;font-family:Menlo,'DejaVu Sans Mono',consolas,'Courier New',monospace\"><span style=\"color: #7fbfbf\">[08:59:00] </span>METRIC   Round <span style=\"color: #000080; font-weight: bold\">0</span>, collaborator env_two aggregated_model_validate result acc:     <span style=\"color: #000080; font-weight: bold\">0.147500</span>                                           <a href=\"file:///home/ubuntu/anaconda3/envs/openfl/lib/python3.8/site-packages/openfl/interface/interactive_api/experiment.py\"><span style=\"color: #7f7f7f\">experiment.py</span></a><span style=\"color: #7f7f7f\">:116</span>\n",
       "</pre>\n"
      ],
      "text/plain": [
       "<rich.jupyter.JupyterRenderable at 0x7f0a35f60400>"
      ]
     },
     "metadata": {},
     "output_type": "display_data"
    },
    {
     "data": {
      "text/html": [
       "<pre style=\"white-space:pre;overflow-x:auto;line-height:normal;font-family:Menlo,'DejaVu Sans Mono',consolas,'Courier New',monospace\"><span style=\"color: #7fbfbf\">[08:59:10] </span>METRIC   Round <span style=\"color: #000080; font-weight: bold\">0</span>, collaborator env_ten train result train_loss:  <span style=\"color: #000080; font-weight: bold\">0.131968</span>                                                           <a href=\"file:///home/ubuntu/anaconda3/envs/openfl/lib/python3.8/site-packages/openfl/interface/interactive_api/experiment.py\"><span style=\"color: #7f7f7f\">experiment.py</span></a><span style=\"color: #7f7f7f\">:116</span>\n",
       "</pre>\n"
      ],
      "text/plain": [
       "<rich.jupyter.JupyterRenderable at 0x7f0a35f604f0>"
      ]
     },
     "metadata": {},
     "output_type": "display_data"
    },
    {
     "data": {
      "text/html": [
       "<pre style=\"white-space:pre;overflow-x:auto;line-height:normal;font-family:Menlo,'DejaVu Sans Mono',consolas,'Courier New',monospace\"><span style=\"color: #7fbfbf\">[08:59:11] </span>METRIC   Round <span style=\"color: #000080; font-weight: bold\">0</span>, collaborator env_ten locally_tuned_model_validate result acc:  <span style=\"color: #000080; font-weight: bold\">0.920000</span>                                           <a href=\"file:///home/ubuntu/anaconda3/envs/openfl/lib/python3.8/site-packages/openfl/interface/interactive_api/experiment.py\"><span style=\"color: #7f7f7f\">experiment.py</span></a><span style=\"color: #7f7f7f\">:116</span>\n",
       "</pre>\n"
      ],
      "text/plain": [
       "<rich.jupyter.JupyterRenderable at 0x7f0a35f601f0>"
      ]
     },
     "metadata": {},
     "output_type": "display_data"
    },
    {
     "data": {
      "text/html": [
       "<pre style=\"white-space:pre;overflow-x:auto;line-height:normal;font-family:Menlo,'DejaVu Sans Mono',consolas,'Courier New',monospace\"><span style=\"color: #7fbfbf\">           </span>METRIC   Round <span style=\"color: #000080; font-weight: bold\">0</span>, collaborator env_ten aggregated_model_validate result acc:     <span style=\"color: #000080; font-weight: bold\">0.000000</span>                                           <a href=\"file:///home/ubuntu/anaconda3/envs/openfl/lib/python3.8/site-packages/openfl/interface/interactive_api/experiment.py\"><span style=\"color: #7f7f7f\">experiment.py</span></a><span style=\"color: #7f7f7f\">:116</span>\n",
       "</pre>\n"
      ],
      "text/plain": [
       "<rich.jupyter.JupyterRenderable at 0x7f0a35f60cd0>"
      ]
     },
     "metadata": {},
     "output_type": "display_data"
    },
    {
     "data": {
      "text/html": [
       "<pre style=\"white-space:pre;overflow-x:auto;line-height:normal;font-family:Menlo,'DejaVu Sans Mono',consolas,'Courier New',monospace\"><span style=\"color: #7fbfbf\">[08:59:38] </span>METRIC   Round <span style=\"color: #000080; font-weight: bold\">0</span>, collaborator env_six train result train_loss:  <span style=\"color: #000080; font-weight: bold\">0.090438</span>                                                           <a href=\"file:///home/ubuntu/anaconda3/envs/openfl/lib/python3.8/site-packages/openfl/interface/interactive_api/experiment.py\"><span style=\"color: #7f7f7f\">experiment.py</span></a><span style=\"color: #7f7f7f\">:116</span>\n",
       "</pre>\n"
      ],
      "text/plain": [
       "<rich.jupyter.JupyterRenderable at 0x7f0a35f60100>"
      ]
     },
     "metadata": {},
     "output_type": "display_data"
    },
    {
     "data": {
      "text/html": [
       "<pre style=\"white-space:pre;overflow-x:auto;line-height:normal;font-family:Menlo,'DejaVu Sans Mono',consolas,'Courier New',monospace\"><span style=\"color: #7fbfbf\">[08:59:39] </span>METRIC   Round <span style=\"color: #000080; font-weight: bold\">0</span>, collaborator env_six locally_tuned_model_validate result acc:  <span style=\"color: #000080; font-weight: bold\">0.958000</span>                                           <a href=\"file:///home/ubuntu/anaconda3/envs/openfl/lib/python3.8/site-packages/openfl/interface/interactive_api/experiment.py\"><span style=\"color: #7f7f7f\">experiment.py</span></a><span style=\"color: #7f7f7f\">:116</span>\n",
       "</pre>\n"
      ],
      "text/plain": [
       "<rich.jupyter.JupyterRenderable at 0x7f0a35f60220>"
      ]
     },
     "metadata": {},
     "output_type": "display_data"
    },
    {
     "data": {
      "text/html": [
       "<pre style=\"white-space:pre;overflow-x:auto;line-height:normal;font-family:Menlo,'DejaVu Sans Mono',consolas,'Courier New',monospace\"><span style=\"color: #7fbfbf\">           </span>METRIC   Round <span style=\"color: #000080; font-weight: bold\">0</span>, collaborator env_six aggregated_model_validate result acc:     <span style=\"color: #000080; font-weight: bold\">0.000000</span>                                           <a href=\"file:///home/ubuntu/anaconda3/envs/openfl/lib/python3.8/site-packages/openfl/interface/interactive_api/experiment.py\"><span style=\"color: #7f7f7f\">experiment.py</span></a><span style=\"color: #7f7f7f\">:116</span>\n",
       "</pre>\n"
      ],
      "text/plain": [
       "<rich.jupyter.JupyterRenderable at 0x7f0a35f602b0>"
      ]
     },
     "metadata": {},
     "output_type": "display_data"
    },
    {
     "data": {
      "text/html": [
       "<pre style=\"white-space:pre;overflow-x:auto;line-height:normal;font-family:Menlo,'DejaVu Sans Mono',consolas,'Courier New',monospace\"><span style=\"color: #7fbfbf\">[09:00:03] </span>METRIC   Round <span style=\"color: #000080; font-weight: bold\">0</span>, collaborator env_nine train result train_loss: <span style=\"color: #000080; font-weight: bold\">0.216243</span>                                                           <a href=\"file:///home/ubuntu/anaconda3/envs/openfl/lib/python3.8/site-packages/openfl/interface/interactive_api/experiment.py\"><span style=\"color: #7f7f7f\">experiment.py</span></a><span style=\"color: #7f7f7f\">:116</span>\n",
       "</pre>\n"
      ],
      "text/plain": [
       "<rich.jupyter.JupyterRenderable at 0x7f0a35f60040>"
      ]
     },
     "metadata": {},
     "output_type": "display_data"
    },
    {
     "data": {
      "text/html": [
       "<pre style=\"white-space:pre;overflow-x:auto;line-height:normal;font-family:Menlo,'DejaVu Sans Mono',consolas,'Courier New',monospace\"><span style=\"color: #7fbfbf\">[09:00:04] </span>METRIC   Round <span style=\"color: #000080; font-weight: bold\">0</span>, collaborator env_nine locally_tuned_model_validate result acc: <span style=\"color: #000080; font-weight: bold\">0.829000</span>                                           <a href=\"file:///home/ubuntu/anaconda3/envs/openfl/lib/python3.8/site-packages/openfl/interface/interactive_api/experiment.py\"><span style=\"color: #7f7f7f\">experiment.py</span></a><span style=\"color: #7f7f7f\">:116</span>\n",
       "</pre>\n"
      ],
      "text/plain": [
       "<rich.jupyter.JupyterRenderable at 0x7f0a35f60be0>"
      ]
     },
     "metadata": {},
     "output_type": "display_data"
    },
    {
     "data": {
      "text/html": [
       "<pre style=\"white-space:pre;overflow-x:auto;line-height:normal;font-family:Menlo,'DejaVu Sans Mono',consolas,'Courier New',monospace\"><span style=\"color: #7fbfbf\">           </span>METRIC   Round <span style=\"color: #000080; font-weight: bold\">0</span>, collaborator env_nine aggregated_model_validate result acc:    <span style=\"color: #000080; font-weight: bold\">0.000000</span>                                           <a href=\"file:///home/ubuntu/anaconda3/envs/openfl/lib/python3.8/site-packages/openfl/interface/interactive_api/experiment.py\"><span style=\"color: #7f7f7f\">experiment.py</span></a><span style=\"color: #7f7f7f\">:116</span>\n",
       "</pre>\n"
      ],
      "text/plain": [
       "<rich.jupyter.JupyterRenderable at 0x7f0a35f60400>"
      ]
     },
     "metadata": {},
     "output_type": "display_data"
    },
    {
     "data": {
      "text/html": [
       "<pre style=\"white-space:pre;overflow-x:auto;line-height:normal;font-family:Menlo,'DejaVu Sans Mono',consolas,'Courier New',monospace\"><span style=\"color: #7fbfbf\">[09:00:23] </span>METRIC   Round <span style=\"color: #000080; font-weight: bold\">0</span>, collaborator env_five train result train_loss: <span style=\"color: #000080; font-weight: bold\">0.096001</span>                                                           <a href=\"file:///home/ubuntu/anaconda3/envs/openfl/lib/python3.8/site-packages/openfl/interface/interactive_api/experiment.py\"><span style=\"color: #7f7f7f\">experiment.py</span></a><span style=\"color: #7f7f7f\">:116</span>\n",
       "</pre>\n"
      ],
      "text/plain": [
       "<rich.jupyter.JupyterRenderable at 0x7f0a35f60040>"
      ]
     },
     "metadata": {},
     "output_type": "display_data"
    },
    {
     "data": {
      "text/html": [
       "<pre style=\"white-space:pre;overflow-x:auto;line-height:normal;font-family:Menlo,'DejaVu Sans Mono',consolas,'Courier New',monospace\"><span style=\"color: #7fbfbf\">[09:00:24] </span>METRIC   Round <span style=\"color: #000080; font-weight: bold\">0</span>, collaborator env_five locally_tuned_model_validate result acc: <span style=\"color: #000080; font-weight: bold\">0.954000</span>                                           <a href=\"file:///home/ubuntu/anaconda3/envs/openfl/lib/python3.8/site-packages/openfl/interface/interactive_api/experiment.py\"><span style=\"color: #7f7f7f\">experiment.py</span></a><span style=\"color: #7f7f7f\">:116</span>\n",
       "</pre>\n"
      ],
      "text/plain": [
       "<rich.jupyter.JupyterRenderable at 0x7f0a35f600a0>"
      ]
     },
     "metadata": {},
     "output_type": "display_data"
    },
    {
     "data": {
      "text/html": [
       "<pre style=\"white-space:pre;overflow-x:auto;line-height:normal;font-family:Menlo,'DejaVu Sans Mono',consolas,'Courier New',monospace\"><span style=\"color: #7fbfbf\">[09:00:25] </span>METRIC   Round <span style=\"color: #000080; font-weight: bold\">0</span>, collaborator env_five aggregated_model_validate result acc:    <span style=\"color: #000080; font-weight: bold\">0.360500</span>                                           <a href=\"file:///home/ubuntu/anaconda3/envs/openfl/lib/python3.8/site-packages/openfl/interface/interactive_api/experiment.py\"><span style=\"color: #7f7f7f\">experiment.py</span></a><span style=\"color: #7f7f7f\">:116</span>\n",
       "</pre>\n"
      ],
      "text/plain": [
       "<rich.jupyter.JupyterRenderable at 0x7f0a35f60220>"
      ]
     },
     "metadata": {},
     "output_type": "display_data"
    },
    {
     "data": {
      "text/html": [
       "<pre style=\"white-space:pre;overflow-x:auto;line-height:normal;font-family:Menlo,'DejaVu Sans Mono',consolas,'Courier New',monospace\"><span style=\"color: #7fbfbf\">[09:00:32] </span>METRIC   Round <span style=\"color: #000080; font-weight: bold\">0</span>, collaborator Aggregator train result train_loss:       <span style=\"color: #000080; font-weight: bold\">0.133835</span>                                                   <a href=\"file:///home/ubuntu/anaconda3/envs/openfl/lib/python3.8/site-packages/openfl/interface/interactive_api/experiment.py\"><span style=\"color: #7f7f7f\">experiment.py</span></a><span style=\"color: #7f7f7f\">:116</span>\n",
       "</pre>\n"
      ],
      "text/plain": [
       "<rich.jupyter.JupyterRenderable at 0x7f0a35f60130>"
      ]
     },
     "metadata": {},
     "output_type": "display_data"
    },
    {
     "data": {
      "text/html": [
       "<pre style=\"white-space:pre;overflow-x:auto;line-height:normal;font-family:Menlo,'DejaVu Sans Mono',consolas,'Courier New',monospace\"><span style=\"color: #7fbfbf\">           </span>METRIC   Round <span style=\"color: #000080; font-weight: bold\">0</span>, collaborator Aggregator locally_tuned_model_validate result acc:       <span style=\"color: #000080; font-weight: bold\">0.923550</span>                                   <a href=\"file:///home/ubuntu/anaconda3/envs/openfl/lib/python3.8/site-packages/openfl/interface/interactive_api/experiment.py\"><span style=\"color: #7f7f7f\">experiment.py</span></a><span style=\"color: #7f7f7f\">:116</span>\n",
       "</pre>\n"
      ],
      "text/plain": [
       "<rich.jupyter.JupyterRenderable at 0x7f0a35f60df0>"
      ]
     },
     "metadata": {},
     "output_type": "display_data"
    },
    {
     "data": {
      "text/html": [
       "<pre style=\"white-space:pre;overflow-x:auto;line-height:normal;font-family:Menlo,'DejaVu Sans Mono',consolas,'Courier New',monospace\"><span style=\"color: #7fbfbf\">           </span>METRIC   Round <span style=\"color: #000080; font-weight: bold\">0</span>, collaborator Aggregator aggregated_model_validate result acc:  <span style=\"color: #000080; font-weight: bold\">0.119100</span>                                           <a href=\"file:///home/ubuntu/anaconda3/envs/openfl/lib/python3.8/site-packages/openfl/interface/interactive_api/experiment.py\"><span style=\"color: #7f7f7f\">experiment.py</span></a><span style=\"color: #7f7f7f\">:116</span>\n",
       "</pre>\n"
      ],
      "text/plain": [
       "<rich.jupyter.JupyterRenderable at 0x7f0a35f60280>"
      ]
     },
     "metadata": {},
     "output_type": "display_data"
    },
    {
     "data": {
      "text/html": [
       "<pre style=\"white-space:pre;overflow-x:auto;line-height:normal;font-family:Menlo,'DejaVu Sans Mono',consolas,'Courier New',monospace\"><span style=\"color: #7fbfbf\">[09:01:48] </span>METRIC   Round <span style=\"color: #000080; font-weight: bold\">1</span>, collaborator env_one train result train_loss:  <span style=\"color: #000080; font-weight: bold\">0.082231</span>                                                           <a href=\"file:///home/ubuntu/anaconda3/envs/openfl/lib/python3.8/site-packages/openfl/interface/interactive_api/experiment.py\"><span style=\"color: #7f7f7f\">experiment.py</span></a><span style=\"color: #7f7f7f\">:116</span>\n",
       "</pre>\n"
      ],
      "text/plain": [
       "<rich.jupyter.JupyterRenderable at 0x7f0a35f60040>"
      ]
     },
     "metadata": {},
     "output_type": "display_data"
    },
    {
     "data": {
      "text/html": [
       "<pre style=\"white-space:pre;overflow-x:auto;line-height:normal;font-family:Menlo,'DejaVu Sans Mono',consolas,'Courier New',monospace\"><span style=\"color: #7fbfbf\">           </span>METRIC   Round <span style=\"color: #000080; font-weight: bold\">1</span>, collaborator env_one locally_tuned_model_validate result acc:  <span style=\"color: #000080; font-weight: bold\">0.948000</span>                                           <a href=\"file:///home/ubuntu/anaconda3/envs/openfl/lib/python3.8/site-packages/openfl/interface/interactive_api/experiment.py\"><span style=\"color: #7f7f7f\">experiment.py</span></a><span style=\"color: #7f7f7f\">:116</span>\n",
       "</pre>\n"
      ],
      "text/plain": [
       "<rich.jupyter.JupyterRenderable at 0x7f0a35f60490>"
      ]
     },
     "metadata": {},
     "output_type": "display_data"
    },
    {
     "data": {
      "text/html": [
       "<pre style=\"white-space:pre;overflow-x:auto;line-height:normal;font-family:Menlo,'DejaVu Sans Mono',consolas,'Courier New',monospace\"><span style=\"color: #7fbfbf\">[09:01:49] </span>METRIC   Round <span style=\"color: #000080; font-weight: bold\">1</span>, collaborator env_one aggregated_model_validate result acc:     <span style=\"color: #000080; font-weight: bold\">0.751500</span>                                           <a href=\"file:///home/ubuntu/anaconda3/envs/openfl/lib/python3.8/site-packages/openfl/interface/interactive_api/experiment.py\"><span style=\"color: #7f7f7f\">experiment.py</span></a><span style=\"color: #7f7f7f\">:116</span>\n",
       "</pre>\n"
      ],
      "text/plain": [
       "<rich.jupyter.JupyterRenderable at 0x7f0a35f60280>"
      ]
     },
     "metadata": {},
     "output_type": "display_data"
    },
    {
     "data": {
      "text/html": [
       "<pre style=\"white-space:pre;overflow-x:auto;line-height:normal;font-family:Menlo,'DejaVu Sans Mono',consolas,'Courier New',monospace\"><span style=\"color: #7fbfbf\">[09:01:51] </span>METRIC   Round <span style=\"color: #000080; font-weight: bold\">1</span>, collaborator env_four train result train_loss: <span style=\"color: #000080; font-weight: bold\">0.084464</span>                                                           <a href=\"file:///home/ubuntu/anaconda3/envs/openfl/lib/python3.8/site-packages/openfl/interface/interactive_api/experiment.py\"><span style=\"color: #7f7f7f\">experiment.py</span></a><span style=\"color: #7f7f7f\">:116</span>\n",
       "</pre>\n"
      ],
      "text/plain": [
       "<rich.jupyter.JupyterRenderable at 0x7f0a35f600d0>"
      ]
     },
     "metadata": {},
     "output_type": "display_data"
    },
    {
     "data": {
      "text/html": [
       "<pre style=\"white-space:pre;overflow-x:auto;line-height:normal;font-family:Menlo,'DejaVu Sans Mono',consolas,'Courier New',monospace\"><span style=\"color: #7fbfbf\">[09:01:52] </span>METRIC   Round <span style=\"color: #000080; font-weight: bold\">1</span>, collaborator env_four locally_tuned_model_validate result acc: <span style=\"color: #000080; font-weight: bold\">0.946500</span>                                           <a href=\"file:///home/ubuntu/anaconda3/envs/openfl/lib/python3.8/site-packages/openfl/interface/interactive_api/experiment.py\"><span style=\"color: #7f7f7f\">experiment.py</span></a><span style=\"color: #7f7f7f\">:116</span>\n",
       "</pre>\n"
      ],
      "text/plain": [
       "<rich.jupyter.JupyterRenderable at 0x7f0a35f60cd0>"
      ]
     },
     "metadata": {},
     "output_type": "display_data"
    },
    {
     "data": {
      "text/html": [
       "<pre style=\"white-space:pre;overflow-x:auto;line-height:normal;font-family:Menlo,'DejaVu Sans Mono',consolas,'Courier New',monospace\"><span style=\"color: #7fbfbf\">[09:01:53] </span>METRIC   Round <span style=\"color: #000080; font-weight: bold\">1</span>, collaborator env_four aggregated_model_validate result acc:    <span style=\"color: #000080; font-weight: bold\">0.253500</span>                                           <a href=\"file:///home/ubuntu/anaconda3/envs/openfl/lib/python3.8/site-packages/openfl/interface/interactive_api/experiment.py\"><span style=\"color: #7f7f7f\">experiment.py</span></a><span style=\"color: #7f7f7f\">:116</span>\n",
       "</pre>\n"
      ],
      "text/plain": [
       "<rich.jupyter.JupyterRenderable at 0x7f0a35f604f0>"
      ]
     },
     "metadata": {},
     "output_type": "display_data"
    },
    {
     "data": {
      "text/html": [
       "<pre style=\"white-space:pre;overflow-x:auto;line-height:normal;font-family:Menlo,'DejaVu Sans Mono',consolas,'Courier New',monospace\"><span style=\"color: #7fbfbf\">           </span>METRIC   Round <span style=\"color: #000080; font-weight: bold\">1</span>, collaborator env_seven train result train_loss:        <span style=\"color: #000080; font-weight: bold\">0.220573</span>                                                   <a href=\"file:///home/ubuntu/anaconda3/envs/openfl/lib/python3.8/site-packages/openfl/interface/interactive_api/experiment.py\"><span style=\"color: #7f7f7f\">experiment.py</span></a><span style=\"color: #7f7f7f\">:116</span>\n",
       "</pre>\n"
      ],
      "text/plain": [
       "<rich.jupyter.JupyterRenderable at 0x7f0a35f60c10>"
      ]
     },
     "metadata": {},
     "output_type": "display_data"
    },
    {
     "data": {
      "text/html": [
       "<pre style=\"white-space:pre;overflow-x:auto;line-height:normal;font-family:Menlo,'DejaVu Sans Mono',consolas,'Courier New',monospace\"><span style=\"color: #7fbfbf\">[09:01:54] </span>METRIC   Round <span style=\"color: #000080; font-weight: bold\">1</span>, collaborator env_seven locally_tuned_model_validate result acc:        <span style=\"color: #000080; font-weight: bold\">0.864000</span>                                   <a href=\"file:///home/ubuntu/anaconda3/envs/openfl/lib/python3.8/site-packages/openfl/interface/interactive_api/experiment.py\"><span style=\"color: #7f7f7f\">experiment.py</span></a><span style=\"color: #7f7f7f\">:116</span>\n",
       "</pre>\n"
      ],
      "text/plain": [
       "<rich.jupyter.JupyterRenderable at 0x7f0a35f604f0>"
      ]
     },
     "metadata": {},
     "output_type": "display_data"
    },
    {
     "data": {
      "text/html": [
       "<pre style=\"white-space:pre;overflow-x:auto;line-height:normal;font-family:Menlo,'DejaVu Sans Mono',consolas,'Courier New',monospace\"><span style=\"color: #7fbfbf\">           </span>METRIC   Round <span style=\"color: #000080; font-weight: bold\">1</span>, collaborator env_seven aggregated_model_validate result acc:   <span style=\"color: #000080; font-weight: bold\">0.254500</span>                                           <a href=\"file:///home/ubuntu/anaconda3/envs/openfl/lib/python3.8/site-packages/openfl/interface/interactive_api/experiment.py\"><span style=\"color: #7f7f7f\">experiment.py</span></a><span style=\"color: #7f7f7f\">:116</span>\n",
       "</pre>\n"
      ],
      "text/plain": [
       "<rich.jupyter.JupyterRenderable at 0x7f0a35f60340>"
      ]
     },
     "metadata": {},
     "output_type": "display_data"
    },
    {
     "data": {
      "text/html": [
       "<pre style=\"white-space:pre;overflow-x:auto;line-height:normal;font-family:Menlo,'DejaVu Sans Mono',consolas,'Courier New',monospace\"><span style=\"color: #7fbfbf\">[09:02:08] </span>METRIC   Round <span style=\"color: #000080; font-weight: bold\">1</span>, collaborator env_eight train result train_loss:        <span style=\"color: #000080; font-weight: bold\">0.137237</span>                                                   <a href=\"file:///home/ubuntu/anaconda3/envs/openfl/lib/python3.8/site-packages/openfl/interface/interactive_api/experiment.py\"><span style=\"color: #7f7f7f\">experiment.py</span></a><span style=\"color: #7f7f7f\">:116</span>\n",
       "</pre>\n"
      ],
      "text/plain": [
       "<rich.jupyter.JupyterRenderable at 0x7f0a35f604f0>"
      ]
     },
     "metadata": {},
     "output_type": "display_data"
    },
    {
     "data": {
      "text/html": [
       "<pre style=\"white-space:pre;overflow-x:auto;line-height:normal;font-family:Menlo,'DejaVu Sans Mono',consolas,'Courier New',monospace\"><span style=\"color: #7fbfbf\">[09:02:09] </span>METRIC   Round <span style=\"color: #000080; font-weight: bold\">1</span>, collaborator env_eight locally_tuned_model_validate result acc:        <span style=\"color: #000080; font-weight: bold\">0.936000</span>                                   <a href=\"file:///home/ubuntu/anaconda3/envs/openfl/lib/python3.8/site-packages/openfl/interface/interactive_api/experiment.py\"><span style=\"color: #7f7f7f\">experiment.py</span></a><span style=\"color: #7f7f7f\">:116</span>\n",
       "</pre>\n"
      ],
      "text/plain": [
       "<rich.jupyter.JupyterRenderable at 0x7f0a35f60100>"
      ]
     },
     "metadata": {},
     "output_type": "display_data"
    },
    {
     "data": {
      "text/html": [
       "<pre style=\"white-space:pre;overflow-x:auto;line-height:normal;font-family:Menlo,'DejaVu Sans Mono',consolas,'Courier New',monospace\"><span style=\"color: #7fbfbf\">           </span>METRIC   Round <span style=\"color: #000080; font-weight: bold\">1</span>, collaborator env_eight aggregated_model_validate result acc:   <span style=\"color: #000080; font-weight: bold\">0.000000</span>                                           <a href=\"file:///home/ubuntu/anaconda3/envs/openfl/lib/python3.8/site-packages/openfl/interface/interactive_api/experiment.py\"><span style=\"color: #7f7f7f\">experiment.py</span></a><span style=\"color: #7f7f7f\">:116</span>\n",
       "</pre>\n"
      ],
      "text/plain": [
       "<rich.jupyter.JupyterRenderable at 0x7f0a35f60220>"
      ]
     },
     "metadata": {},
     "output_type": "display_data"
    },
    {
     "data": {
      "text/html": [
       "<pre style=\"white-space:pre;overflow-x:auto;line-height:normal;font-family:Menlo,'DejaVu Sans Mono',consolas,'Courier New',monospace\"><span style=\"color: #7fbfbf\">[09:02:13] </span>METRIC   Round <span style=\"color: #000080; font-weight: bold\">1</span>, collaborator env_three train result train_loss:        <span style=\"color: #000080; font-weight: bold\">0.078857</span>                                                   <a href=\"file:///home/ubuntu/anaconda3/envs/openfl/lib/python3.8/site-packages/openfl/interface/interactive_api/experiment.py\"><span style=\"color: #7f7f7f\">experiment.py</span></a><span style=\"color: #7f7f7f\">:116</span>\n",
       "</pre>\n"
      ],
      "text/plain": [
       "<rich.jupyter.JupyterRenderable at 0x7f0a35f600d0>"
      ]
     },
     "metadata": {},
     "output_type": "display_data"
    },
    {
     "data": {
      "text/html": [
       "<pre style=\"white-space:pre;overflow-x:auto;line-height:normal;font-family:Menlo,'DejaVu Sans Mono',consolas,'Courier New',monospace\"><span style=\"color: #7fbfbf\">[09:02:14] </span>METRIC   Round <span style=\"color: #000080; font-weight: bold\">1</span>, collaborator env_three locally_tuned_model_validate result acc:        <span style=\"color: #000080; font-weight: bold\">0.955000</span>                                   <a href=\"file:///home/ubuntu/anaconda3/envs/openfl/lib/python3.8/site-packages/openfl/interface/interactive_api/experiment.py\"><span style=\"color: #7f7f7f\">experiment.py</span></a><span style=\"color: #7f7f7f\">:116</span>\n",
       "</pre>\n"
      ],
      "text/plain": [
       "<rich.jupyter.JupyterRenderable at 0x7f0a35f60160>"
      ]
     },
     "metadata": {},
     "output_type": "display_data"
    },
    {
     "data": {
      "text/html": [
       "<pre style=\"white-space:pre;overflow-x:auto;line-height:normal;font-family:Menlo,'DejaVu Sans Mono',consolas,'Courier New',monospace\"><span style=\"color: #7fbfbf\">           </span>METRIC   Round <span style=\"color: #000080; font-weight: bold\">1</span>, collaborator env_three aggregated_model_validate result acc:   <span style=\"color: #000080; font-weight: bold\">0.000000</span>                                           <a href=\"file:///home/ubuntu/anaconda3/envs/openfl/lib/python3.8/site-packages/openfl/interface/interactive_api/experiment.py\"><span style=\"color: #7f7f7f\">experiment.py</span></a><span style=\"color: #7f7f7f\">:116</span>\n",
       "</pre>\n"
      ],
      "text/plain": [
       "<rich.jupyter.JupyterRenderable at 0x7f0a377a7280>"
      ]
     },
     "metadata": {},
     "output_type": "display_data"
    },
    {
     "data": {
      "text/html": [
       "<pre style=\"white-space:pre;overflow-x:auto;line-height:normal;font-family:Menlo,'DejaVu Sans Mono',consolas,'Courier New',monospace\"><span style=\"color: #7fbfbf\">[09:02:23] </span>METRIC   Round <span style=\"color: #000080; font-weight: bold\">1</span>, collaborator env_two train result train_loss:  <span style=\"color: #000080; font-weight: bold\">0.076404</span>                                                           <a href=\"file:///home/ubuntu/anaconda3/envs/openfl/lib/python3.8/site-packages/openfl/interface/interactive_api/experiment.py\"><span style=\"color: #7f7f7f\">experiment.py</span></a><span style=\"color: #7f7f7f\">:116</span>\n",
       "</pre>\n"
      ],
      "text/plain": [
       "<rich.jupyter.JupyterRenderable at 0x7f0a35f600d0>"
      ]
     },
     "metadata": {},
     "output_type": "display_data"
    },
    {
     "data": {
      "text/html": [
       "<pre style=\"white-space:pre;overflow-x:auto;line-height:normal;font-family:Menlo,'DejaVu Sans Mono',consolas,'Courier New',monospace\"><span style=\"color: #7fbfbf\">[09:02:24] </span>METRIC   Round <span style=\"color: #000080; font-weight: bold\">1</span>, collaborator env_two locally_tuned_model_validate result acc:  <span style=\"color: #000080; font-weight: bold\">0.956000</span>                                           <a href=\"file:///home/ubuntu/anaconda3/envs/openfl/lib/python3.8/site-packages/openfl/interface/interactive_api/experiment.py\"><span style=\"color: #7f7f7f\">experiment.py</span></a><span style=\"color: #7f7f7f\">:116</span>\n",
       "</pre>\n"
      ],
      "text/plain": [
       "<rich.jupyter.JupyterRenderable at 0x7f0a35f60c40>"
      ]
     },
     "metadata": {},
     "output_type": "display_data"
    },
    {
     "data": {
      "text/html": [
       "<pre style=\"white-space:pre;overflow-x:auto;line-height:normal;font-family:Menlo,'DejaVu Sans Mono',consolas,'Courier New',monospace\"><span style=\"color: #7fbfbf\">           </span>METRIC   Round <span style=\"color: #000080; font-weight: bold\">1</span>, collaborator env_two aggregated_model_validate result acc:     <span style=\"color: #000080; font-weight: bold\">0.000000</span>                                           <a href=\"file:///home/ubuntu/anaconda3/envs/openfl/lib/python3.8/site-packages/openfl/interface/interactive_api/experiment.py\"><span style=\"color: #7f7f7f\">experiment.py</span></a><span style=\"color: #7f7f7f\">:116</span>\n",
       "</pre>\n"
      ],
      "text/plain": [
       "<rich.jupyter.JupyterRenderable at 0x7f0a35f600a0>"
      ]
     },
     "metadata": {},
     "output_type": "display_data"
    },
    {
     "data": {
      "text/html": [
       "<pre style=\"white-space:pre;overflow-x:auto;line-height:normal;font-family:Menlo,'DejaVu Sans Mono',consolas,'Courier New',monospace\"><span style=\"color: #7fbfbf\">[09:02:35] </span>METRIC   Round <span style=\"color: #000080; font-weight: bold\">1</span>, collaborator env_ten train result train_loss:  <span style=\"color: #000080; font-weight: bold\">0.097792</span>                                                           <a href=\"file:///home/ubuntu/anaconda3/envs/openfl/lib/python3.8/site-packages/openfl/interface/interactive_api/experiment.py\"><span style=\"color: #7f7f7f\">experiment.py</span></a><span style=\"color: #7f7f7f\">:116</span>\n",
       "</pre>\n"
      ],
      "text/plain": [
       "<rich.jupyter.JupyterRenderable at 0x7f0a35f60df0>"
      ]
     },
     "metadata": {},
     "output_type": "display_data"
    },
    {
     "data": {
      "text/html": [
       "<pre style=\"white-space:pre;overflow-x:auto;line-height:normal;font-family:Menlo,'DejaVu Sans Mono',consolas,'Courier New',monospace\"><span style=\"color: #7fbfbf\">           </span>METRIC   Round <span style=\"color: #000080; font-weight: bold\">1</span>, collaborator env_ten locally_tuned_model_validate result acc:  <span style=\"color: #000080; font-weight: bold\">0.932000</span>                                           <a href=\"file:///home/ubuntu/anaconda3/envs/openfl/lib/python3.8/site-packages/openfl/interface/interactive_api/experiment.py\"><span style=\"color: #7f7f7f\">experiment.py</span></a><span style=\"color: #7f7f7f\">:116</span>\n",
       "</pre>\n"
      ],
      "text/plain": [
       "<rich.jupyter.JupyterRenderable at 0x7f0a35f604f0>"
      ]
     },
     "metadata": {},
     "output_type": "display_data"
    },
    {
     "data": {
      "text/html": [
       "<pre style=\"white-space:pre;overflow-x:auto;line-height:normal;font-family:Menlo,'DejaVu Sans Mono',consolas,'Courier New',monospace\"><span style=\"color: #7fbfbf\">[09:02:36] </span>METRIC   Round <span style=\"color: #000080; font-weight: bold\">1</span>, collaborator env_ten aggregated_model_validate result acc:     <span style=\"color: #000080; font-weight: bold\">0.498000</span>                                           <a href=\"file:///home/ubuntu/anaconda3/envs/openfl/lib/python3.8/site-packages/openfl/interface/interactive_api/experiment.py\"><span style=\"color: #7f7f7f\">experiment.py</span></a><span style=\"color: #7f7f7f\">:116</span>\n",
       "</pre>\n"
      ],
      "text/plain": [
       "<rich.jupyter.JupyterRenderable at 0x7f0a35f60280>"
      ]
     },
     "metadata": {},
     "output_type": "display_data"
    },
    {
     "data": {
      "text/html": [
       "<pre style=\"white-space:pre;overflow-x:auto;line-height:normal;font-family:Menlo,'DejaVu Sans Mono',consolas,'Courier New',monospace\"><span style=\"color: #7fbfbf\">[09:03:10] </span>METRIC   Round <span style=\"color: #000080; font-weight: bold\">1</span>, collaborator env_six train result train_loss:  <span style=\"color: #000080; font-weight: bold\">0.064495</span>                                                           <a href=\"file:///home/ubuntu/anaconda3/envs/openfl/lib/python3.8/site-packages/openfl/interface/interactive_api/experiment.py\"><span style=\"color: #7f7f7f\">experiment.py</span></a><span style=\"color: #7f7f7f\">:116</span>\n",
       "</pre>\n"
      ],
      "text/plain": [
       "<rich.jupyter.JupyterRenderable at 0x7f0a35f60cd0>"
      ]
     },
     "metadata": {},
     "output_type": "display_data"
    },
    {
     "data": {
      "text/html": [
       "<pre style=\"white-space:pre;overflow-x:auto;line-height:normal;font-family:Menlo,'DejaVu Sans Mono',consolas,'Courier New',monospace\"><span style=\"color: #7fbfbf\">           </span>METRIC   Round <span style=\"color: #000080; font-weight: bold\">1</span>, collaborator env_six locally_tuned_model_validate result acc:  <span style=\"color: #000080; font-weight: bold\">0.947000</span>                                           <a href=\"file:///home/ubuntu/anaconda3/envs/openfl/lib/python3.8/site-packages/openfl/interface/interactive_api/experiment.py\"><span style=\"color: #7f7f7f\">experiment.py</span></a><span style=\"color: #7f7f7f\">:116</span>\n",
       "</pre>\n"
      ],
      "text/plain": [
       "<rich.jupyter.JupyterRenderable at 0x7f0a35f60be0>"
      ]
     },
     "metadata": {},
     "output_type": "display_data"
    },
    {
     "data": {
      "text/html": [
       "<pre style=\"white-space:pre;overflow-x:auto;line-height:normal;font-family:Menlo,'DejaVu Sans Mono',consolas,'Courier New',monospace\"><span style=\"color: #7fbfbf\">[09:03:11] </span>METRIC   Round <span style=\"color: #000080; font-weight: bold\">1</span>, collaborator env_six aggregated_model_validate result acc:     <span style=\"color: #000080; font-weight: bold\">0.751500</span>                                           <a href=\"file:///home/ubuntu/anaconda3/envs/openfl/lib/python3.8/site-packages/openfl/interface/interactive_api/experiment.py\"><span style=\"color: #7f7f7f\">experiment.py</span></a><span style=\"color: #7f7f7f\">:116</span>\n",
       "</pre>\n"
      ],
      "text/plain": [
       "<rich.jupyter.JupyterRenderable at 0x7f0a35f60490>"
      ]
     },
     "metadata": {},
     "output_type": "display_data"
    },
    {
     "data": {
      "text/html": [
       "<pre style=\"white-space:pre;overflow-x:auto;line-height:normal;font-family:Menlo,'DejaVu Sans Mono',consolas,'Courier New',monospace\"><span style=\"color: #7fbfbf\">[09:03:21] </span>METRIC   Round <span style=\"color: #000080; font-weight: bold\">1</span>, collaborator env_nine train result train_loss: <span style=\"color: #000080; font-weight: bold\">0.181322</span>                                                           <a href=\"file:///home/ubuntu/anaconda3/envs/openfl/lib/python3.8/site-packages/openfl/interface/interactive_api/experiment.py\"><span style=\"color: #7f7f7f\">experiment.py</span></a><span style=\"color: #7f7f7f\">:116</span>\n",
       "</pre>\n"
      ],
      "text/plain": [
       "<rich.jupyter.JupyterRenderable at 0x7f0a35f601f0>"
      ]
     },
     "metadata": {},
     "output_type": "display_data"
    },
    {
     "data": {
      "text/html": [
       "<pre style=\"white-space:pre;overflow-x:auto;line-height:normal;font-family:Menlo,'DejaVu Sans Mono',consolas,'Courier New',monospace\"><span style=\"color: #7fbfbf\">[09:03:22] </span>METRIC   Round <span style=\"color: #000080; font-weight: bold\">1</span>, collaborator env_nine locally_tuned_model_validate result acc: <span style=\"color: #000080; font-weight: bold\">0.818000</span>                                           <a href=\"file:///home/ubuntu/anaconda3/envs/openfl/lib/python3.8/site-packages/openfl/interface/interactive_api/experiment.py\"><span style=\"color: #7f7f7f\">experiment.py</span></a><span style=\"color: #7f7f7f\">:116</span>\n",
       "</pre>\n"
      ],
      "text/plain": [
       "<rich.jupyter.JupyterRenderable at 0x7f0a35f60c40>"
      ]
     },
     "metadata": {},
     "output_type": "display_data"
    },
    {
     "data": {
      "text/html": [
       "<pre style=\"white-space:pre;overflow-x:auto;line-height:normal;font-family:Menlo,'DejaVu Sans Mono',consolas,'Courier New',monospace\"><span style=\"color: #7fbfbf\">           </span>METRIC   Round <span style=\"color: #000080; font-weight: bold\">1</span>, collaborator env_nine aggregated_model_validate result acc:    <span style=\"color: #000080; font-weight: bold\">0.000000</span>                                           <a href=\"file:///home/ubuntu/anaconda3/envs/openfl/lib/python3.8/site-packages/openfl/interface/interactive_api/experiment.py\"><span style=\"color: #7f7f7f\">experiment.py</span></a><span style=\"color: #7f7f7f\">:116</span>\n",
       "</pre>\n"
      ],
      "text/plain": [
       "<rich.jupyter.JupyterRenderable at 0x7f0a35f60100>"
      ]
     },
     "metadata": {},
     "output_type": "display_data"
    },
    {
     "data": {
      "text/html": [
       "<pre style=\"white-space:pre;overflow-x:auto;line-height:normal;font-family:Menlo,'DejaVu Sans Mono',consolas,'Courier New',monospace\"><span style=\"color: #7fbfbf\">[09:03:40] </span>METRIC   Round <span style=\"color: #000080; font-weight: bold\">1</span>, collaborator env_five train result train_loss: <span style=\"color: #000080; font-weight: bold\">0.071716</span>                                                           <a href=\"file:///home/ubuntu/anaconda3/envs/openfl/lib/python3.8/site-packages/openfl/interface/interactive_api/experiment.py\"><span style=\"color: #7f7f7f\">experiment.py</span></a><span style=\"color: #7f7f7f\">:116</span>\n",
       "</pre>\n"
      ],
      "text/plain": [
       "<rich.jupyter.JupyterRenderable at 0x7f0a35f60160>"
      ]
     },
     "metadata": {},
     "output_type": "display_data"
    },
    {
     "data": {
      "text/html": [
       "<pre style=\"white-space:pre;overflow-x:auto;line-height:normal;font-family:Menlo,'DejaVu Sans Mono',consolas,'Courier New',monospace\"><span style=\"color: #7fbfbf\">           </span>METRIC   Round <span style=\"color: #000080; font-weight: bold\">1</span>, collaborator env_five locally_tuned_model_validate result acc: <span style=\"color: #000080; font-weight: bold\">0.946500</span>                                           <a href=\"file:///home/ubuntu/anaconda3/envs/openfl/lib/python3.8/site-packages/openfl/interface/interactive_api/experiment.py\"><span style=\"color: #7f7f7f\">experiment.py</span></a><span style=\"color: #7f7f7f\">:116</span>\n",
       "</pre>\n"
      ],
      "text/plain": [
       "<rich.jupyter.JupyterRenderable at 0x7f0a35f600d0>"
      ]
     },
     "metadata": {},
     "output_type": "display_data"
    },
    {
     "data": {
      "text/html": [
       "<pre style=\"white-space:pre;overflow-x:auto;line-height:normal;font-family:Menlo,'DejaVu Sans Mono',consolas,'Courier New',monospace\"><span style=\"color: #7fbfbf\">[09:03:41] </span>METRIC   Round <span style=\"color: #000080; font-weight: bold\">1</span>, collaborator env_five aggregated_model_validate result acc:    <span style=\"color: #000080; font-weight: bold\">0.499000</span>                                           <a href=\"file:///home/ubuntu/anaconda3/envs/openfl/lib/python3.8/site-packages/openfl/interface/interactive_api/experiment.py\"><span style=\"color: #7f7f7f\">experiment.py</span></a><span style=\"color: #7f7f7f\">:116</span>\n",
       "</pre>\n"
      ],
      "text/plain": [
       "<rich.jupyter.JupyterRenderable at 0x7f0a35f60910>"
      ]
     },
     "metadata": {},
     "output_type": "display_data"
    },
    {
     "data": {
      "text/html": [
       "<pre style=\"white-space:pre;overflow-x:auto;line-height:normal;font-family:Menlo,'DejaVu Sans Mono',consolas,'Courier New',monospace\"><span style=\"color: #7fbfbf\">[09:03:53] </span>METRIC   Round <span style=\"color: #000080; font-weight: bold\">1</span>, collaborator Aggregator train result train_loss:       <span style=\"color: #000080; font-weight: bold\">0.107278</span>                                                   <a href=\"file:///home/ubuntu/anaconda3/envs/openfl/lib/python3.8/site-packages/openfl/interface/interactive_api/experiment.py\"><span style=\"color: #7f7f7f\">experiment.py</span></a><span style=\"color: #7f7f7f\">:116</span>\n",
       "</pre>\n"
      ],
      "text/plain": [
       "<rich.jupyter.JupyterRenderable at 0x7f0a35f60490>"
      ]
     },
     "metadata": {},
     "output_type": "display_data"
    },
    {
     "data": {
      "text/html": [
       "<pre style=\"white-space:pre;overflow-x:auto;line-height:normal;font-family:Menlo,'DejaVu Sans Mono',consolas,'Courier New',monospace\"><span style=\"color: #7fbfbf\">           </span>METRIC   Round <span style=\"color: #000080; font-weight: bold\">1</span>, collaborator Aggregator locally_tuned_model_validate result acc:       <span style=\"color: #000080; font-weight: bold\">0.924900</span>                                   <a href=\"file:///home/ubuntu/anaconda3/envs/openfl/lib/python3.8/site-packages/openfl/interface/interactive_api/experiment.py\"><span style=\"color: #7f7f7f\">experiment.py</span></a><span style=\"color: #7f7f7f\">:116</span>\n",
       "</pre>\n"
      ],
      "text/plain": [
       "<rich.jupyter.JupyterRenderable at 0x7f0a35f60130>"
      ]
     },
     "metadata": {},
     "output_type": "display_data"
    },
    {
     "data": {
      "text/html": [
       "<pre style=\"white-space:pre;overflow-x:auto;line-height:normal;font-family:Menlo,'DejaVu Sans Mono',consolas,'Courier New',monospace\"><span style=\"color: #7fbfbf\">           </span>METRIC   Round <span style=\"color: #000080; font-weight: bold\">1</span>, collaborator Aggregator aggregated_model_validate result acc:  <span style=\"color: #000080; font-weight: bold\">0.300800</span>                                           <a href=\"file:///home/ubuntu/anaconda3/envs/openfl/lib/python3.8/site-packages/openfl/interface/interactive_api/experiment.py\"><span style=\"color: #7f7f7f\">experiment.py</span></a><span style=\"color: #7f7f7f\">:116</span>\n",
       "</pre>\n"
      ],
      "text/plain": [
       "<rich.jupyter.JupyterRenderable at 0x7f0a35f60490>"
      ]
     },
     "metadata": {},
     "output_type": "display_data"
    },
    {
     "data": {
      "text/html": [
       "<pre style=\"white-space:pre;overflow-x:auto;line-height:normal;font-family:Menlo,'DejaVu Sans Mono',consolas,'Courier New',monospace\"><span style=\"color: #7fbfbf\">[09:05:09] </span>METRIC   Round <span style=\"color: #000080; font-weight: bold\">2</span>, collaborator env_four train result train_loss: <span style=\"color: #000080; font-weight: bold\">0.064472</span>                                                           <a href=\"file:///home/ubuntu/anaconda3/envs/openfl/lib/python3.8/site-packages/openfl/interface/interactive_api/experiment.py\"><span style=\"color: #7f7f7f\">experiment.py</span></a><span style=\"color: #7f7f7f\">:116</span>\n",
       "</pre>\n"
      ],
      "text/plain": [
       "<rich.jupyter.JupyterRenderable at 0x7f0a35f601c0>"
      ]
     },
     "metadata": {},
     "output_type": "display_data"
    },
    {
     "data": {
      "text/html": [
       "<pre style=\"white-space:pre;overflow-x:auto;line-height:normal;font-family:Menlo,'DejaVu Sans Mono',consolas,'Courier New',monospace\"><span style=\"color: #7fbfbf\">[09:05:10] </span>METRIC   Round <span style=\"color: #000080; font-weight: bold\">2</span>, collaborator env_four locally_tuned_model_validate result acc: <span style=\"color: #000080; font-weight: bold\">0.951000</span>                                           <a href=\"file:///home/ubuntu/anaconda3/envs/openfl/lib/python3.8/site-packages/openfl/interface/interactive_api/experiment.py\"><span style=\"color: #7f7f7f\">experiment.py</span></a><span style=\"color: #7f7f7f\">:116</span>\n",
       "</pre>\n"
      ],
      "text/plain": [
       "<rich.jupyter.JupyterRenderable at 0x7f0a35f60340>"
      ]
     },
     "metadata": {},
     "output_type": "display_data"
    },
    {
     "data": {
      "text/html": [
       "<pre style=\"white-space:pre;overflow-x:auto;line-height:normal;font-family:Menlo,'DejaVu Sans Mono',consolas,'Courier New',monospace\"><span style=\"color: #7fbfbf\">           </span>METRIC   Round <span style=\"color: #000080; font-weight: bold\">2</span>, collaborator env_four aggregated_model_validate result acc:    <span style=\"color: #000080; font-weight: bold\">0.012500</span>                                           <a href=\"file:///home/ubuntu/anaconda3/envs/openfl/lib/python3.8/site-packages/openfl/interface/interactive_api/experiment.py\"><span style=\"color: #7f7f7f\">experiment.py</span></a><span style=\"color: #7f7f7f\">:116</span>\n",
       "</pre>\n"
      ],
      "text/plain": [
       "<rich.jupyter.JupyterRenderable at 0x7f0a35f601f0>"
      ]
     },
     "metadata": {},
     "output_type": "display_data"
    },
    {
     "data": {
      "text/html": [
       "<pre style=\"white-space:pre;overflow-x:auto;line-height:normal;font-family:Menlo,'DejaVu Sans Mono',consolas,'Courier New',monospace\"><span style=\"color: #7fbfbf\">[09:05:11] </span>METRIC   Round <span style=\"color: #000080; font-weight: bold\">2</span>, collaborator env_one train result train_loss:  <span style=\"color: #000080; font-weight: bold\">0.067681</span>                                                           <a href=\"file:///home/ubuntu/anaconda3/envs/openfl/lib/python3.8/site-packages/openfl/interface/interactive_api/experiment.py\"><span style=\"color: #7f7f7f\">experiment.py</span></a><span style=\"color: #7f7f7f\">:116</span>\n",
       "</pre>\n"
      ],
      "text/plain": [
       "<rich.jupyter.JupyterRenderable at 0x7f0a35f600d0>"
      ]
     },
     "metadata": {},
     "output_type": "display_data"
    },
    {
     "data": {
      "text/html": [
       "<pre style=\"white-space:pre;overflow-x:auto;line-height:normal;font-family:Menlo,'DejaVu Sans Mono',consolas,'Courier New',monospace\"><span style=\"color: #7fbfbf\">           </span>METRIC   Round <span style=\"color: #000080; font-weight: bold\">2</span>, collaborator env_one locally_tuned_model_validate result acc:  <span style=\"color: #000080; font-weight: bold\">0.951500</span>                                           <a href=\"file:///home/ubuntu/anaconda3/envs/openfl/lib/python3.8/site-packages/openfl/interface/interactive_api/experiment.py\"><span style=\"color: #7f7f7f\">experiment.py</span></a><span style=\"color: #7f7f7f\">:116</span>\n",
       "</pre>\n"
      ],
      "text/plain": [
       "<rich.jupyter.JupyterRenderable at 0x7f0a35f60910>"
      ]
     },
     "metadata": {},
     "output_type": "display_data"
    },
    {
     "data": {
      "text/html": [
       "<pre style=\"white-space:pre;overflow-x:auto;line-height:normal;font-family:Menlo,'DejaVu Sans Mono',consolas,'Courier New',monospace\"><span style=\"color: #7fbfbf\">[09:05:12] </span>METRIC   Round <span style=\"color: #000080; font-weight: bold\">2</span>, collaborator env_one aggregated_model_validate result acc:     <span style=\"color: #000080; font-weight: bold\">0.012500</span>                                           <a href=\"file:///home/ubuntu/anaconda3/envs/openfl/lib/python3.8/site-packages/openfl/interface/interactive_api/experiment.py\"><span style=\"color: #7f7f7f\">experiment.py</span></a><span style=\"color: #7f7f7f\">:116</span>\n",
       "</pre>\n"
      ],
      "text/plain": [
       "<rich.jupyter.JupyterRenderable at 0x7f0a35f60730>"
      ]
     },
     "metadata": {},
     "output_type": "display_data"
    },
    {
     "data": {
      "text/html": [
       "<pre style=\"white-space:pre;overflow-x:auto;line-height:normal;font-family:Menlo,'DejaVu Sans Mono',consolas,'Courier New',monospace\"><span style=\"color: #7fbfbf\">[09:05:13] </span>METRIC   Round <span style=\"color: #000080; font-weight: bold\">2</span>, collaborator env_seven train result train_loss:        <span style=\"color: #000080; font-weight: bold\">0.185938</span>                                                   <a href=\"file:///home/ubuntu/anaconda3/envs/openfl/lib/python3.8/site-packages/openfl/interface/interactive_api/experiment.py\"><span style=\"color: #7f7f7f\">experiment.py</span></a><span style=\"color: #7f7f7f\">:116</span>\n",
       "</pre>\n"
      ],
      "text/plain": [
       "<rich.jupyter.JupyterRenderable at 0x7f0a35f604f0>"
      ]
     },
     "metadata": {},
     "output_type": "display_data"
    },
    {
     "data": {
      "text/html": [
       "<pre style=\"white-space:pre;overflow-x:auto;line-height:normal;font-family:Menlo,'DejaVu Sans Mono',consolas,'Courier New',monospace\"><span style=\"color: #7fbfbf\">[09:05:14] </span>METRIC   Round <span style=\"color: #000080; font-weight: bold\">2</span>, collaborator env_seven locally_tuned_model_validate result acc:        <span style=\"color: #000080; font-weight: bold\">0.861500</span>                                   <a href=\"file:///home/ubuntu/anaconda3/envs/openfl/lib/python3.8/site-packages/openfl/interface/interactive_api/experiment.py\"><span style=\"color: #7f7f7f\">experiment.py</span></a><span style=\"color: #7f7f7f\">:116</span>\n",
       "</pre>\n"
      ],
      "text/plain": [
       "<rich.jupyter.JupyterRenderable at 0x7f0a35f60070>"
      ]
     },
     "metadata": {},
     "output_type": "display_data"
    },
    {
     "data": {
      "text/html": [
       "<pre style=\"white-space:pre;overflow-x:auto;line-height:normal;font-family:Menlo,'DejaVu Sans Mono',consolas,'Courier New',monospace\"><span style=\"color: #7fbfbf\">           </span>METRIC   Round <span style=\"color: #000080; font-weight: bold\">2</span>, collaborator env_seven aggregated_model_validate result acc:   <span style=\"color: #000080; font-weight: bold\">0.220500</span>                                           <a href=\"file:///home/ubuntu/anaconda3/envs/openfl/lib/python3.8/site-packages/openfl/interface/interactive_api/experiment.py\"><span style=\"color: #7f7f7f\">experiment.py</span></a><span style=\"color: #7f7f7f\">:116</span>\n",
       "</pre>\n"
      ],
      "text/plain": [
       "<rich.jupyter.JupyterRenderable at 0x7f0a35f60c40>"
      ]
     },
     "metadata": {},
     "output_type": "display_data"
    },
    {
     "data": {
      "text/html": [
       "<pre style=\"white-space:pre;overflow-x:auto;line-height:normal;font-family:Menlo,'DejaVu Sans Mono',consolas,'Courier New',monospace\"><span style=\"color: #7fbfbf\">[09:05:24] </span>METRIC   Round <span style=\"color: #000080; font-weight: bold\">2</span>, collaborator env_eight train result train_loss:        <span style=\"color: #000080; font-weight: bold\">0.110147</span>                                                   <a href=\"file:///home/ubuntu/anaconda3/envs/openfl/lib/python3.8/site-packages/openfl/interface/interactive_api/experiment.py\"><span style=\"color: #7f7f7f\">experiment.py</span></a><span style=\"color: #7f7f7f\">:116</span>\n",
       "</pre>\n"
      ],
      "text/plain": [
       "<rich.jupyter.JupyterRenderable at 0x7f0a35f60370>"
      ]
     },
     "metadata": {},
     "output_type": "display_data"
    },
    {
     "data": {
      "text/html": [
       "<pre style=\"white-space:pre;overflow-x:auto;line-height:normal;font-family:Menlo,'DejaVu Sans Mono',consolas,'Courier New',monospace\"><span style=\"color: #7fbfbf\">[09:05:25] </span>METRIC   Round <span style=\"color: #000080; font-weight: bold\">2</span>, collaborator env_eight locally_tuned_model_validate result acc:        <span style=\"color: #000080; font-weight: bold\">0.941500</span>                                   <a href=\"file:///home/ubuntu/anaconda3/envs/openfl/lib/python3.8/site-packages/openfl/interface/interactive_api/experiment.py\"><span style=\"color: #7f7f7f\">experiment.py</span></a><span style=\"color: #7f7f7f\">:116</span>\n",
       "</pre>\n"
      ],
      "text/plain": [
       "<rich.jupyter.JupyterRenderable at 0x7f0a35f60130>"
      ]
     },
     "metadata": {},
     "output_type": "display_data"
    },
    {
     "data": {
      "text/html": [
       "<pre style=\"white-space:pre;overflow-x:auto;line-height:normal;font-family:Menlo,'DejaVu Sans Mono',consolas,'Courier New',monospace\"><span style=\"color: #7fbfbf\">           </span>METRIC   Round <span style=\"color: #000080; font-weight: bold\">2</span>, collaborator env_eight aggregated_model_validate result acc:   <span style=\"color: #000080; font-weight: bold\">0.440500</span>                                           <a href=\"file:///home/ubuntu/anaconda3/envs/openfl/lib/python3.8/site-packages/openfl/interface/interactive_api/experiment.py\"><span style=\"color: #7f7f7f\">experiment.py</span></a><span style=\"color: #7f7f7f\">:116</span>\n",
       "</pre>\n"
      ],
      "text/plain": [
       "<rich.jupyter.JupyterRenderable at 0x7f0a35f60490>"
      ]
     },
     "metadata": {},
     "output_type": "display_data"
    },
    {
     "data": {
      "text/html": [
       "<pre style=\"white-space:pre;overflow-x:auto;line-height:normal;font-family:Menlo,'DejaVu Sans Mono',consolas,'Courier New',monospace\"><span style=\"color: #7fbfbf\">[09:05:27] </span>METRIC   Round <span style=\"color: #000080; font-weight: bold\">2</span>, collaborator env_three train result train_loss:        <span style=\"color: #000080; font-weight: bold\">0.060437</span>                                                   <a href=\"file:///home/ubuntu/anaconda3/envs/openfl/lib/python3.8/site-packages/openfl/interface/interactive_api/experiment.py\"><span style=\"color: #7f7f7f\">experiment.py</span></a><span style=\"color: #7f7f7f\">:116</span>\n",
       "</pre>\n"
      ],
      "text/plain": [
       "<rich.jupyter.JupyterRenderable at 0x7f0a35f601c0>"
      ]
     },
     "metadata": {},
     "output_type": "display_data"
    },
    {
     "data": {
      "text/html": [
       "<pre style=\"white-space:pre;overflow-x:auto;line-height:normal;font-family:Menlo,'DejaVu Sans Mono',consolas,'Courier New',monospace\"><span style=\"color: #7fbfbf\">[09:05:28] </span>METRIC   Round <span style=\"color: #000080; font-weight: bold\">2</span>, collaborator env_three locally_tuned_model_validate result acc:        <span style=\"color: #000080; font-weight: bold\">0.961500</span>                                   <a href=\"file:///home/ubuntu/anaconda3/envs/openfl/lib/python3.8/site-packages/openfl/interface/interactive_api/experiment.py\"><span style=\"color: #7f7f7f\">experiment.py</span></a><span style=\"color: #7f7f7f\">:116</span>\n",
       "</pre>\n"
      ],
      "text/plain": [
       "<rich.jupyter.JupyterRenderable at 0x7f0a35f601f0>"
      ]
     },
     "metadata": {},
     "output_type": "display_data"
    },
    {
     "data": {
      "text/html": [
       "<pre style=\"white-space:pre;overflow-x:auto;line-height:normal;font-family:Menlo,'DejaVu Sans Mono',consolas,'Courier New',monospace\"><span style=\"color: #7fbfbf\">           </span>METRIC   Round <span style=\"color: #000080; font-weight: bold\">2</span>, collaborator env_three aggregated_model_validate result acc:   <span style=\"color: #000080; font-weight: bold\">0.440500</span>                                           <a href=\"file:///home/ubuntu/anaconda3/envs/openfl/lib/python3.8/site-packages/openfl/interface/interactive_api/experiment.py\"><span style=\"color: #7f7f7f\">experiment.py</span></a><span style=\"color: #7f7f7f\">:116</span>\n",
       "</pre>\n"
      ],
      "text/plain": [
       "<rich.jupyter.JupyterRenderable at 0x7f0a35f60cd0>"
      ]
     },
     "metadata": {},
     "output_type": "display_data"
    },
    {
     "data": {
      "text/html": [
       "<pre style=\"white-space:pre;overflow-x:auto;line-height:normal;font-family:Menlo,'DejaVu Sans Mono',consolas,'Courier New',monospace\"><span style=\"color: #7fbfbf\">[09:05:42] </span>METRIC   Round <span style=\"color: #000080; font-weight: bold\">2</span>, collaborator env_two train result train_loss:  <span style=\"color: #000080; font-weight: bold\">0.053974</span>                                                           <a href=\"file:///home/ubuntu/anaconda3/envs/openfl/lib/python3.8/site-packages/openfl/interface/interactive_api/experiment.py\"><span style=\"color: #7f7f7f\">experiment.py</span></a><span style=\"color: #7f7f7f\">:116</span>\n",
       "</pre>\n"
      ],
      "text/plain": [
       "<rich.jupyter.JupyterRenderable at 0x7f0a35f60040>"
      ]
     },
     "metadata": {},
     "output_type": "display_data"
    },
    {
     "data": {
      "text/html": [
       "<pre style=\"white-space:pre;overflow-x:auto;line-height:normal;font-family:Menlo,'DejaVu Sans Mono',consolas,'Courier New',monospace\"><span style=\"color: #7fbfbf\">[09:05:43] </span>METRIC   Round <span style=\"color: #000080; font-weight: bold\">2</span>, collaborator env_two locally_tuned_model_validate result acc:  <span style=\"color: #000080; font-weight: bold\">0.962500</span>                                           <a href=\"file:///home/ubuntu/anaconda3/envs/openfl/lib/python3.8/site-packages/openfl/interface/interactive_api/experiment.py\"><span style=\"color: #7f7f7f\">experiment.py</span></a><span style=\"color: #7f7f7f\">:116</span>\n",
       "</pre>\n"
      ],
      "text/plain": [
       "<rich.jupyter.JupyterRenderable at 0x7f0a35f60160>"
      ]
     },
     "metadata": {},
     "output_type": "display_data"
    },
    {
     "data": {
      "text/html": [
       "<pre style=\"white-space:pre;overflow-x:auto;line-height:normal;font-family:Menlo,'DejaVu Sans Mono',consolas,'Courier New',monospace\"><span style=\"color: #7fbfbf\">           </span>METRIC   Round <span style=\"color: #000080; font-weight: bold\">2</span>, collaborator env_two aggregated_model_validate result acc:     <span style=\"color: #000080; font-weight: bold\">0.678500</span>                                           <a href=\"file:///home/ubuntu/anaconda3/envs/openfl/lib/python3.8/site-packages/openfl/interface/interactive_api/experiment.py\"><span style=\"color: #7f7f7f\">experiment.py</span></a><span style=\"color: #7f7f7f\">:116</span>\n",
       "</pre>\n"
      ],
      "text/plain": [
       "<rich.jupyter.JupyterRenderable at 0x7f0a35f604f0>"
      ]
     },
     "metadata": {},
     "output_type": "display_data"
    },
    {
     "data": {
      "text/html": [
       "<pre style=\"white-space:pre;overflow-x:auto;line-height:normal;font-family:Menlo,'DejaVu Sans Mono',consolas,'Courier New',monospace\"><span style=\"color: #7fbfbf\">[09:05:53] </span>METRIC   Round <span style=\"color: #000080; font-weight: bold\">2</span>, collaborator env_ten train result train_loss:  <span style=\"color: #000080; font-weight: bold\">0.077088</span>                                                           <a href=\"file:///home/ubuntu/anaconda3/envs/openfl/lib/python3.8/site-packages/openfl/interface/interactive_api/experiment.py\"><span style=\"color: #7f7f7f\">experiment.py</span></a><span style=\"color: #7f7f7f\">:116</span>\n",
       "</pre>\n"
      ],
      "text/plain": [
       "<rich.jupyter.JupyterRenderable at 0x7f0a35f603a0>"
      ]
     },
     "metadata": {},
     "output_type": "display_data"
    },
    {
     "data": {
      "text/html": [
       "<pre style=\"white-space:pre;overflow-x:auto;line-height:normal;font-family:Menlo,'DejaVu Sans Mono',consolas,'Courier New',monospace\"><span style=\"color: #7fbfbf\">[09:05:54] </span>METRIC   Round <span style=\"color: #000080; font-weight: bold\">2</span>, collaborator env_ten locally_tuned_model_validate result acc:  <span style=\"color: #000080; font-weight: bold\">0.934500</span>                                           <a href=\"file:///home/ubuntu/anaconda3/envs/openfl/lib/python3.8/site-packages/openfl/interface/interactive_api/experiment.py\"><span style=\"color: #7f7f7f\">experiment.py</span></a><span style=\"color: #7f7f7f\">:116</span>\n",
       "</pre>\n"
      ],
      "text/plain": [
       "<rich.jupyter.JupyterRenderable at 0x7f0a35f602b0>"
      ]
     },
     "metadata": {},
     "output_type": "display_data"
    },
    {
     "data": {
      "text/html": [
       "<pre style=\"white-space:pre;overflow-x:auto;line-height:normal;font-family:Menlo,'DejaVu Sans Mono',consolas,'Courier New',monospace\"><span style=\"color: #7fbfbf\">[09:05:55] </span>METRIC   Round <span style=\"color: #000080; font-weight: bold\">2</span>, collaborator env_ten aggregated_model_validate result acc:     <span style=\"color: #000080; font-weight: bold\">0.321500</span>                                           <a href=\"file:///home/ubuntu/anaconda3/envs/openfl/lib/python3.8/site-packages/openfl/interface/interactive_api/experiment.py\"><span style=\"color: #7f7f7f\">experiment.py</span></a><span style=\"color: #7f7f7f\">:116</span>\n",
       "</pre>\n"
      ],
      "text/plain": [
       "<rich.jupyter.JupyterRenderable at 0x7f0a35f600d0>"
      ]
     },
     "metadata": {},
     "output_type": "display_data"
    },
    {
     "data": {
      "text/html": [
       "<pre style=\"white-space:pre;overflow-x:auto;line-height:normal;font-family:Menlo,'DejaVu Sans Mono',consolas,'Courier New',monospace\"><span style=\"color: #7fbfbf\">[09:06:27] </span>METRIC   Round <span style=\"color: #000080; font-weight: bold\">2</span>, collaborator env_six train result train_loss:  <span style=\"color: #000080; font-weight: bold\">0.052339</span>                                                           <a href=\"file:///home/ubuntu/anaconda3/envs/openfl/lib/python3.8/site-packages/openfl/interface/interactive_api/experiment.py\"><span style=\"color: #7f7f7f\">experiment.py</span></a><span style=\"color: #7f7f7f\">:116</span>\n",
       "</pre>\n"
      ],
      "text/plain": [
       "<rich.jupyter.JupyterRenderable at 0x7f0a35f601c0>"
      ]
     },
     "metadata": {},
     "output_type": "display_data"
    },
    {
     "data": {
      "text/html": [
       "<pre style=\"white-space:pre;overflow-x:auto;line-height:normal;font-family:Menlo,'DejaVu Sans Mono',consolas,'Courier New',monospace\"><span style=\"color: #7fbfbf\">[09:06:28] </span>METRIC   Round <span style=\"color: #000080; font-weight: bold\">2</span>, collaborator env_six locally_tuned_model_validate result acc:  <span style=\"color: #000080; font-weight: bold\">0.955500</span>                                           <a href=\"file:///home/ubuntu/anaconda3/envs/openfl/lib/python3.8/site-packages/openfl/interface/interactive_api/experiment.py\"><span style=\"color: #7f7f7f\">experiment.py</span></a><span style=\"color: #7f7f7f\">:116</span>\n",
       "</pre>\n"
      ],
      "text/plain": [
       "<rich.jupyter.JupyterRenderable at 0x7f0a35f601f0>"
      ]
     },
     "metadata": {},
     "output_type": "display_data"
    },
    {
     "data": {
      "text/html": [
       "<pre style=\"white-space:pre;overflow-x:auto;line-height:normal;font-family:Menlo,'DejaVu Sans Mono',consolas,'Courier New',monospace\"><span style=\"color: #7fbfbf\">           </span>METRIC   Round <span style=\"color: #000080; font-weight: bold\">2</span>, collaborator env_six aggregated_model_validate result acc:     <span style=\"color: #000080; font-weight: bold\">0.012500</span>                                           <a href=\"file:///home/ubuntu/anaconda3/envs/openfl/lib/python3.8/site-packages/openfl/interface/interactive_api/experiment.py\"><span style=\"color: #7f7f7f\">experiment.py</span></a><span style=\"color: #7f7f7f\">:116</span>\n",
       "</pre>\n"
      ],
      "text/plain": [
       "<rich.jupyter.JupyterRenderable at 0x7f0a35f60df0>"
      ]
     },
     "metadata": {},
     "output_type": "display_data"
    },
    {
     "data": {
      "text/html": [
       "<pre style=\"white-space:pre;overflow-x:auto;line-height:normal;font-family:Menlo,'DejaVu Sans Mono',consolas,'Courier New',monospace\"><span style=\"color: #7fbfbf\">[09:06:43] </span>METRIC   Round <span style=\"color: #000080; font-weight: bold\">2</span>, collaborator env_nine train result train_loss: <span style=\"color: #000080; font-weight: bold\">0.147734</span>                                                           <a href=\"file:///home/ubuntu/anaconda3/envs/openfl/lib/python3.8/site-packages/openfl/interface/interactive_api/experiment.py\"><span style=\"color: #7f7f7f\">experiment.py</span></a><span style=\"color: #7f7f7f\">:116</span>\n",
       "</pre>\n"
      ],
      "text/plain": [
       "<rich.jupyter.JupyterRenderable at 0x7f0a35f60b50>"
      ]
     },
     "metadata": {},
     "output_type": "display_data"
    },
    {
     "data": {
      "text/html": [
       "<pre style=\"white-space:pre;overflow-x:auto;line-height:normal;font-family:Menlo,'DejaVu Sans Mono',consolas,'Courier New',monospace\"><span style=\"color: #7fbfbf\">[09:06:44] </span>METRIC   Round <span style=\"color: #000080; font-weight: bold\">2</span>, collaborator env_nine locally_tuned_model_validate result acc: <span style=\"color: #000080; font-weight: bold\">0.831500</span>                                           <a href=\"file:///home/ubuntu/anaconda3/envs/openfl/lib/python3.8/site-packages/openfl/interface/interactive_api/experiment.py\"><span style=\"color: #7f7f7f\">experiment.py</span></a><span style=\"color: #7f7f7f\">:116</span>\n",
       "</pre>\n"
      ],
      "text/plain": [
       "<rich.jupyter.JupyterRenderable at 0x7f0a35f60490>"
      ]
     },
     "metadata": {},
     "output_type": "display_data"
    },
    {
     "data": {
      "text/html": [
       "<pre style=\"white-space:pre;overflow-x:auto;line-height:normal;font-family:Menlo,'DejaVu Sans Mono',consolas,'Courier New',monospace\"><span style=\"color: #7fbfbf\">           </span>METRIC   Round <span style=\"color: #000080; font-weight: bold\">2</span>, collaborator env_nine aggregated_model_validate result acc:    <span style=\"color: #000080; font-weight: bold\">0.559500</span>                                           <a href=\"file:///home/ubuntu/anaconda3/envs/openfl/lib/python3.8/site-packages/openfl/interface/interactive_api/experiment.py\"><span style=\"color: #7f7f7f\">experiment.py</span></a><span style=\"color: #7f7f7f\">:116</span>\n",
       "</pre>\n"
      ],
      "text/plain": [
       "<rich.jupyter.JupyterRenderable at 0x7f0a35f60220>"
      ]
     },
     "metadata": {},
     "output_type": "display_data"
    },
    {
     "data": {
      "text/html": [
       "<pre style=\"white-space:pre;overflow-x:auto;line-height:normal;font-family:Menlo,'DejaVu Sans Mono',consolas,'Courier New',monospace\"><span style=\"color: #7fbfbf\">[09:07:02] </span>METRIC   Round <span style=\"color: #000080; font-weight: bold\">2</span>, collaborator env_five train result train_loss: <span style=\"color: #000080; font-weight: bold\">0.055483</span>                                                           <a href=\"file:///home/ubuntu/anaconda3/envs/openfl/lib/python3.8/site-packages/openfl/interface/interactive_api/experiment.py\"><span style=\"color: #7f7f7f\">experiment.py</span></a><span style=\"color: #7f7f7f\">:116</span>\n",
       "</pre>\n"
      ],
      "text/plain": [
       "<rich.jupyter.JupyterRenderable at 0x7f0a35f601c0>"
      ]
     },
     "metadata": {},
     "output_type": "display_data"
    },
    {
     "data": {
      "text/html": [
       "<pre style=\"white-space:pre;overflow-x:auto;line-height:normal;font-family:Menlo,'DejaVu Sans Mono',consolas,'Courier New',monospace\"><span style=\"color: #7fbfbf\">[09:07:03] </span>METRIC   Round <span style=\"color: #000080; font-weight: bold\">2</span>, collaborator env_five locally_tuned_model_validate result acc: <span style=\"color: #000080; font-weight: bold\">0.950000</span>                                           <a href=\"file:///home/ubuntu/anaconda3/envs/openfl/lib/python3.8/site-packages/openfl/interface/interactive_api/experiment.py\"><span style=\"color: #7f7f7f\">experiment.py</span></a><span style=\"color: #7f7f7f\">:116</span>\n",
       "</pre>\n"
      ],
      "text/plain": [
       "<rich.jupyter.JupyterRenderable at 0x7f0a35f60c10>"
      ]
     },
     "metadata": {},
     "output_type": "display_data"
    },
    {
     "data": {
      "text/html": [
       "<pre style=\"white-space:pre;overflow-x:auto;line-height:normal;font-family:Menlo,'DejaVu Sans Mono',consolas,'Courier New',monospace\"><span style=\"color: #7fbfbf\">           </span>METRIC   Round <span style=\"color: #000080; font-weight: bold\">2</span>, collaborator env_five aggregated_model_validate result acc:    <span style=\"color: #000080; font-weight: bold\">0.208000</span>                                           <a href=\"file:///home/ubuntu/anaconda3/envs/openfl/lib/python3.8/site-packages/openfl/interface/interactive_api/experiment.py\"><span style=\"color: #7f7f7f\">experiment.py</span></a><span style=\"color: #7f7f7f\">:116</span>\n",
       "</pre>\n"
      ],
      "text/plain": [
       "<rich.jupyter.JupyterRenderable at 0x7f0a35f60250>"
      ]
     },
     "metadata": {},
     "output_type": "display_data"
    },
    {
     "data": {
      "text/html": [
       "<pre style=\"white-space:pre;overflow-x:auto;line-height:normal;font-family:Menlo,'DejaVu Sans Mono',consolas,'Courier New',monospace\"><span style=\"color: #7fbfbf\">[09:07:15] </span>METRIC   Round <span style=\"color: #000080; font-weight: bold\">2</span>, collaborator Aggregator train result train_loss:       <span style=\"color: #000080; font-weight: bold\">0.085669</span>                                                   <a href=\"file:///home/ubuntu/anaconda3/envs/openfl/lib/python3.8/site-packages/openfl/interface/interactive_api/experiment.py\"><span style=\"color: #7f7f7f\">experiment.py</span></a><span style=\"color: #7f7f7f\">:116</span>\n",
       "</pre>\n"
      ],
      "text/plain": [
       "<rich.jupyter.JupyterRenderable at 0x7f0a35f60070>"
      ]
     },
     "metadata": {},
     "output_type": "display_data"
    },
    {
     "data": {
      "text/html": [
       "<pre style=\"white-space:pre;overflow-x:auto;line-height:normal;font-family:Menlo,'DejaVu Sans Mono',consolas,'Courier New',monospace\"><span style=\"color: #7fbfbf\">           </span>METRIC   Round <span style=\"color: #000080; font-weight: bold\">2</span>, collaborator Aggregator locally_tuned_model_validate result acc:       <span style=\"color: #000080; font-weight: bold\">0.930100</span>                                   <a href=\"file:///home/ubuntu/anaconda3/envs/openfl/lib/python3.8/site-packages/openfl/interface/interactive_api/experiment.py\"><span style=\"color: #7f7f7f\">experiment.py</span></a><span style=\"color: #7f7f7f\">:116</span>\n",
       "</pre>\n"
      ],
      "text/plain": [
       "<rich.jupyter.JupyterRenderable at 0x7f0a35f60490>"
      ]
     },
     "metadata": {},
     "output_type": "display_data"
    },
    {
     "data": {
      "text/html": [
       "<pre style=\"white-space:pre;overflow-x:auto;line-height:normal;font-family:Menlo,'DejaVu Sans Mono',consolas,'Courier New',monospace\"><span style=\"color: #7fbfbf\">           </span>METRIC   Round <span style=\"color: #000080; font-weight: bold\">2</span>, collaborator Aggregator aggregated_model_validate result acc:  <span style=\"color: #000080; font-weight: bold\">0.290650</span>                                           <a href=\"file:///home/ubuntu/anaconda3/envs/openfl/lib/python3.8/site-packages/openfl/interface/interactive_api/experiment.py\"><span style=\"color: #7f7f7f\">experiment.py</span></a><span style=\"color: #7f7f7f\">:116</span>\n",
       "</pre>\n"
      ],
      "text/plain": [
       "<rich.jupyter.JupyterRenderable at 0x7f0a35f603a0>"
      ]
     },
     "metadata": {},
     "output_type": "display_data"
    },
    {
     "data": {
      "text/html": [
       "<pre style=\"white-space:pre;overflow-x:auto;line-height:normal;font-family:Menlo,'DejaVu Sans Mono',consolas,'Courier New',monospace\"><span style=\"color: #7fbfbf\">[09:08:33] </span>METRIC   Round <span style=\"color: #000080; font-weight: bold\">3</span>, collaborator env_one train result train_loss:  <span style=\"color: #000080; font-weight: bold\">0.049403</span>                                                           <a href=\"file:///home/ubuntu/anaconda3/envs/openfl/lib/python3.8/site-packages/openfl/interface/interactive_api/experiment.py\"><span style=\"color: #7f7f7f\">experiment.py</span></a><span style=\"color: #7f7f7f\">:116</span>\n",
       "</pre>\n"
      ],
      "text/plain": [
       "<rich.jupyter.JupyterRenderable at 0x7f0a35f604c0>"
      ]
     },
     "metadata": {},
     "output_type": "display_data"
    },
    {
     "data": {
      "text/html": [
       "<pre style=\"white-space:pre;overflow-x:auto;line-height:normal;font-family:Menlo,'DejaVu Sans Mono',consolas,'Courier New',monospace\"><span style=\"color: #7fbfbf\">           </span>METRIC   Round <span style=\"color: #000080; font-weight: bold\">3</span>, collaborator env_one locally_tuned_model_validate result acc:  <span style=\"color: #000080; font-weight: bold\">0.950000</span>                                           <a href=\"file:///home/ubuntu/anaconda3/envs/openfl/lib/python3.8/site-packages/openfl/interface/interactive_api/experiment.py\"><span style=\"color: #7f7f7f\">experiment.py</span></a><span style=\"color: #7f7f7f\">:116</span>\n",
       "</pre>\n"
      ],
      "text/plain": [
       "<rich.jupyter.JupyterRenderable at 0x7f0a35f60040>"
      ]
     },
     "metadata": {},
     "output_type": "display_data"
    },
    {
     "data": {
      "text/html": [
       "<pre style=\"white-space:pre;overflow-x:auto;line-height:normal;font-family:Menlo,'DejaVu Sans Mono',consolas,'Courier New',monospace\"><span style=\"color: #7fbfbf\">[09:08:34] </span>METRIC   Round <span style=\"color: #000080; font-weight: bold\">3</span>, collaborator env_one aggregated_model_validate result acc:     <span style=\"color: #000080; font-weight: bold\">0.950500</span>                                           <a href=\"file:///home/ubuntu/anaconda3/envs/openfl/lib/python3.8/site-packages/openfl/interface/interactive_api/experiment.py\"><span style=\"color: #7f7f7f\">experiment.py</span></a><span style=\"color: #7f7f7f\">:116</span>\n",
       "</pre>\n"
      ],
      "text/plain": [
       "<rich.jupyter.JupyterRenderable at 0x7f0a35f600d0>"
      ]
     },
     "metadata": {},
     "output_type": "display_data"
    },
    {
     "data": {
      "text/html": [
       "<pre style=\"white-space:pre;overflow-x:auto;line-height:normal;font-family:Menlo,'DejaVu Sans Mono',consolas,'Courier New',monospace\"><span style=\"color: #7fbfbf\">[09:08:36] </span>METRIC   Round <span style=\"color: #000080; font-weight: bold\">3</span>, collaborator env_four train result train_loss: <span style=\"color: #000080; font-weight: bold\">0.065314</span>                                                           <a href=\"file:///home/ubuntu/anaconda3/envs/openfl/lib/python3.8/site-packages/openfl/interface/interactive_api/experiment.py\"><span style=\"color: #7f7f7f\">experiment.py</span></a><span style=\"color: #7f7f7f\">:116</span>\n",
       "</pre>\n"
      ],
      "text/plain": [
       "<rich.jupyter.JupyterRenderable at 0x7f0a35f60df0>"
      ]
     },
     "metadata": {},
     "output_type": "display_data"
    },
    {
     "data": {
      "text/html": [
       "<pre style=\"white-space:pre;overflow-x:auto;line-height:normal;font-family:Menlo,'DejaVu Sans Mono',consolas,'Courier New',monospace\"><span style=\"color: #7fbfbf\">           </span>METRIC   Round <span style=\"color: #000080; font-weight: bold\">3</span>, collaborator env_four locally_tuned_model_validate result acc: <span style=\"color: #000080; font-weight: bold\">0.937500</span>                                           <a href=\"file:///home/ubuntu/anaconda3/envs/openfl/lib/python3.8/site-packages/openfl/interface/interactive_api/experiment.py\"><span style=\"color: #7f7f7f\">experiment.py</span></a><span style=\"color: #7f7f7f\">:116</span>\n",
       "</pre>\n"
      ],
      "text/plain": [
       "<rich.jupyter.JupyterRenderable at 0x7f0a377a7280>"
      ]
     },
     "metadata": {},
     "output_type": "display_data"
    },
    {
     "data": {
      "text/html": [
       "<pre style=\"white-space:pre;overflow-x:auto;line-height:normal;font-family:Menlo,'DejaVu Sans Mono',consolas,'Courier New',monospace\"><span style=\"color: #7fbfbf\">           </span>METRIC   Round <span style=\"color: #000080; font-weight: bold\">3</span>, collaborator env_four aggregated_model_validate result acc:    <span style=\"color: #000080; font-weight: bold\">0.468000</span>                                           <a href=\"file:///home/ubuntu/anaconda3/envs/openfl/lib/python3.8/site-packages/openfl/interface/interactive_api/experiment.py\"><span style=\"color: #7f7f7f\">experiment.py</span></a><span style=\"color: #7f7f7f\">:116</span>\n",
       "</pre>\n"
      ],
      "text/plain": [
       "<rich.jupyter.JupyterRenderable at 0x7f0a35f600d0>"
      ]
     },
     "metadata": {},
     "output_type": "display_data"
    },
    {
     "data": {
      "text/html": [
       "<pre style=\"white-space:pre;overflow-x:auto;line-height:normal;font-family:Menlo,'DejaVu Sans Mono',consolas,'Courier New',monospace\"><span style=\"color: #7fbfbf\">[09:08:39] </span>METRIC   Round <span style=\"color: #000080; font-weight: bold\">3</span>, collaborator env_eight train result train_loss:        <span style=\"color: #000080; font-weight: bold\">0.109078</span>                                                   <a href=\"file:///home/ubuntu/anaconda3/envs/openfl/lib/python3.8/site-packages/openfl/interface/interactive_api/experiment.py\"><span style=\"color: #7f7f7f\">experiment.py</span></a><span style=\"color: #7f7f7f\">:116</span>\n",
       "</pre>\n"
      ],
      "text/plain": [
       "<rich.jupyter.JupyterRenderable at 0x7f0a35f60070>"
      ]
     },
     "metadata": {},
     "output_type": "display_data"
    },
    {
     "data": {
      "text/html": [
       "<pre style=\"white-space:pre;overflow-x:auto;line-height:normal;font-family:Menlo,'DejaVu Sans Mono',consolas,'Courier New',monospace\"><span style=\"color: #7fbfbf\">           </span>METRIC   Round <span style=\"color: #000080; font-weight: bold\">3</span>, collaborator env_eight locally_tuned_model_validate result acc:        <span style=\"color: #000080; font-weight: bold\">0.941500</span>                                   <a href=\"file:///home/ubuntu/anaconda3/envs/openfl/lib/python3.8/site-packages/openfl/interface/interactive_api/experiment.py\"><span style=\"color: #7f7f7f\">experiment.py</span></a><span style=\"color: #7f7f7f\">:116</span>\n",
       "</pre>\n"
      ],
      "text/plain": [
       "<rich.jupyter.JupyterRenderable at 0x7f0a35f60190>"
      ]
     },
     "metadata": {},
     "output_type": "display_data"
    },
    {
     "data": {
      "text/html": [
       "<pre style=\"white-space:pre;overflow-x:auto;line-height:normal;font-family:Menlo,'DejaVu Sans Mono',consolas,'Courier New',monospace\"><span style=\"color: #7fbfbf\">           </span>METRIC   Round <span style=\"color: #000080; font-weight: bold\">3</span>, collaborator env_eight aggregated_model_validate result acc:   <span style=\"color: #000080; font-weight: bold\">0.000000</span>                                           <a href=\"file:///home/ubuntu/anaconda3/envs/openfl/lib/python3.8/site-packages/openfl/interface/interactive_api/experiment.py\"><span style=\"color: #7f7f7f\">experiment.py</span></a><span style=\"color: #7f7f7f\">:116</span>\n",
       "</pre>\n"
      ],
      "text/plain": [
       "<rich.jupyter.JupyterRenderable at 0x7f0a35f60250>"
      ]
     },
     "metadata": {},
     "output_type": "display_data"
    },
    {
     "data": {
      "text/html": [
       "<pre style=\"white-space:pre;overflow-x:auto;line-height:normal;font-family:Menlo,'DejaVu Sans Mono',consolas,'Courier New',monospace\"><span style=\"color: #7fbfbf\">[09:08:41] </span>METRIC   Round <span style=\"color: #000080; font-weight: bold\">3</span>, collaborator env_seven train result train_loss:        <span style=\"color: #000080; font-weight: bold\">0.164772</span>                                                   <a href=\"file:///home/ubuntu/anaconda3/envs/openfl/lib/python3.8/site-packages/openfl/interface/interactive_api/experiment.py\"><span style=\"color: #7f7f7f\">experiment.py</span></a><span style=\"color: #7f7f7f\">:116</span>\n",
       "</pre>\n"
      ],
      "text/plain": [
       "<rich.jupyter.JupyterRenderable at 0x7f0a35f600a0>"
      ]
     },
     "metadata": {},
     "output_type": "display_data"
    },
    {
     "data": {
      "text/html": [
       "<pre style=\"white-space:pre;overflow-x:auto;line-height:normal;font-family:Menlo,'DejaVu Sans Mono',consolas,'Courier New',monospace\"><span style=\"color: #7fbfbf\">           </span>METRIC   Round <span style=\"color: #000080; font-weight: bold\">3</span>, collaborator env_seven locally_tuned_model_validate result acc:        <span style=\"color: #000080; font-weight: bold\">0.869000</span>                                   <a href=\"file:///home/ubuntu/anaconda3/envs/openfl/lib/python3.8/site-packages/openfl/interface/interactive_api/experiment.py\"><span style=\"color: #7f7f7f\">experiment.py</span></a><span style=\"color: #7f7f7f\">:116</span>\n",
       "</pre>\n"
      ],
      "text/plain": [
       "<rich.jupyter.JupyterRenderable at 0x7f0a35f60250>"
      ]
     },
     "metadata": {},
     "output_type": "display_data"
    },
    {
     "data": {
      "text/html": [
       "<pre style=\"white-space:pre;overflow-x:auto;line-height:normal;font-family:Menlo,'DejaVu Sans Mono',consolas,'Courier New',monospace\"><span style=\"color: #7fbfbf\">           </span>METRIC   Round <span style=\"color: #000080; font-weight: bold\">3</span>, collaborator env_seven aggregated_model_validate result acc:   <span style=\"color: #000080; font-weight: bold\">0.470500</span>                                           <a href=\"file:///home/ubuntu/anaconda3/envs/openfl/lib/python3.8/site-packages/openfl/interface/interactive_api/experiment.py\"><span style=\"color: #7f7f7f\">experiment.py</span></a><span style=\"color: #7f7f7f\">:116</span>\n",
       "</pre>\n"
      ],
      "text/plain": [
       "<rich.jupyter.JupyterRenderable at 0x7f0a35f60370>"
      ]
     },
     "metadata": {},
     "output_type": "display_data"
    },
    {
     "data": {
      "text/html": [
       "<pre style=\"white-space:pre;overflow-x:auto;line-height:normal;font-family:Menlo,'DejaVu Sans Mono',consolas,'Courier New',monospace\"><span style=\"color: #7fbfbf\">[09:08:53] </span>METRIC   Round <span style=\"color: #000080; font-weight: bold\">3</span>, collaborator env_three train result train_loss:        <span style=\"color: #000080; font-weight: bold\">0.063163</span>                                                   <a href=\"file:///home/ubuntu/anaconda3/envs/openfl/lib/python3.8/site-packages/openfl/interface/interactive_api/experiment.py\"><span style=\"color: #7f7f7f\">experiment.py</span></a><span style=\"color: #7f7f7f\">:116</span>\n",
       "</pre>\n"
      ],
      "text/plain": [
       "<rich.jupyter.JupyterRenderable at 0x7f0a35f602b0>"
      ]
     },
     "metadata": {},
     "output_type": "display_data"
    },
    {
     "data": {
      "text/html": [
       "<pre style=\"white-space:pre;overflow-x:auto;line-height:normal;font-family:Menlo,'DejaVu Sans Mono',consolas,'Courier New',monospace\"><span style=\"color: #7fbfbf\">           </span>METRIC   Round <span style=\"color: #000080; font-weight: bold\">3</span>, collaborator env_three locally_tuned_model_validate result acc:        <span style=\"color: #000080; font-weight: bold\">0.959500</span>                                   <a href=\"file:///home/ubuntu/anaconda3/envs/openfl/lib/python3.8/site-packages/openfl/interface/interactive_api/experiment.py\"><span style=\"color: #7f7f7f\">experiment.py</span></a><span style=\"color: #7f7f7f\">:116</span>\n",
       "</pre>\n"
      ],
      "text/plain": [
       "<rich.jupyter.JupyterRenderable at 0x7f0a35f60160>"
      ]
     },
     "metadata": {},
     "output_type": "display_data"
    },
    {
     "data": {
      "text/html": [
       "<pre style=\"white-space:pre;overflow-x:auto;line-height:normal;font-family:Menlo,'DejaVu Sans Mono',consolas,'Courier New',monospace\"><span style=\"color: #7fbfbf\">[09:08:54] </span>METRIC   Round <span style=\"color: #000080; font-weight: bold\">3</span>, collaborator env_three aggregated_model_validate result acc:   <span style=\"color: #000080; font-weight: bold\">0.000000</span>                                           <a href=\"file:///home/ubuntu/anaconda3/envs/openfl/lib/python3.8/site-packages/openfl/interface/interactive_api/experiment.py\"><span style=\"color: #7f7f7f\">experiment.py</span></a><span style=\"color: #7f7f7f\">:116</span>\n",
       "</pre>\n"
      ],
      "text/plain": [
       "<rich.jupyter.JupyterRenderable at 0x7f0a35f60df0>"
      ]
     },
     "metadata": {},
     "output_type": "display_data"
    },
    {
     "data": {
      "text/html": [
       "<pre style=\"white-space:pre;overflow-x:auto;line-height:normal;font-family:Menlo,'DejaVu Sans Mono',consolas,'Courier New',monospace\"><span style=\"color: #7fbfbf\">[09:09:05] </span>METRIC   Round <span style=\"color: #000080; font-weight: bold\">3</span>, collaborator env_two train result train_loss:  <span style=\"color: #000080; font-weight: bold\">0.055353</span>                                                           <a href=\"file:///home/ubuntu/anaconda3/envs/openfl/lib/python3.8/site-packages/openfl/interface/interactive_api/experiment.py\"><span style=\"color: #7f7f7f\">experiment.py</span></a><span style=\"color: #7f7f7f\">:116</span>\n",
       "</pre>\n"
      ],
      "text/plain": [
       "<rich.jupyter.JupyterRenderable at 0x7f0a35f601c0>"
      ]
     },
     "metadata": {},
     "output_type": "display_data"
    },
    {
     "data": {
      "text/html": [
       "<pre style=\"white-space:pre;overflow-x:auto;line-height:normal;font-family:Menlo,'DejaVu Sans Mono',consolas,'Courier New',monospace\"><span style=\"color: #7fbfbf\">           </span>METRIC   Round <span style=\"color: #000080; font-weight: bold\">3</span>, collaborator env_two locally_tuned_model_validate result acc:  <span style=\"color: #000080; font-weight: bold\">0.967500</span>                                           <a href=\"file:///home/ubuntu/anaconda3/envs/openfl/lib/python3.8/site-packages/openfl/interface/interactive_api/experiment.py\"><span style=\"color: #7f7f7f\">experiment.py</span></a><span style=\"color: #7f7f7f\">:116</span>\n",
       "</pre>\n"
      ],
      "text/plain": [
       "<rich.jupyter.JupyterRenderable at 0x7f0a35f60190>"
      ]
     },
     "metadata": {},
     "output_type": "display_data"
    },
    {
     "data": {
      "text/html": [
       "<pre style=\"white-space:pre;overflow-x:auto;line-height:normal;font-family:Menlo,'DejaVu Sans Mono',consolas,'Courier New',monospace\"><span style=\"color: #7fbfbf\">[09:09:06] </span>METRIC   Round <span style=\"color: #000080; font-weight: bold\">3</span>, collaborator env_two aggregated_model_validate result acc:     <span style=\"color: #000080; font-weight: bold\">0.000000</span>                                           <a href=\"file:///home/ubuntu/anaconda3/envs/openfl/lib/python3.8/site-packages/openfl/interface/interactive_api/experiment.py\"><span style=\"color: #7f7f7f\">experiment.py</span></a><span style=\"color: #7f7f7f\">:116</span>\n",
       "</pre>\n"
      ],
      "text/plain": [
       "<rich.jupyter.JupyterRenderable at 0x7f0a35f600d0>"
      ]
     },
     "metadata": {},
     "output_type": "display_data"
    },
    {
     "data": {
      "text/html": [
       "<pre style=\"white-space:pre;overflow-x:auto;line-height:normal;font-family:Menlo,'DejaVu Sans Mono',consolas,'Courier New',monospace\"><span style=\"color: #7fbfbf\">[09:09:08] </span>METRIC   Round <span style=\"color: #000080; font-weight: bold\">3</span>, collaborator env_ten train result train_loss:  <span style=\"color: #000080; font-weight: bold\">0.068130</span>                                                           <a href=\"file:///home/ubuntu/anaconda3/envs/openfl/lib/python3.8/site-packages/openfl/interface/interactive_api/experiment.py\"><span style=\"color: #7f7f7f\">experiment.py</span></a><span style=\"color: #7f7f7f\">:116</span>\n",
       "</pre>\n"
      ],
      "text/plain": [
       "<rich.jupyter.JupyterRenderable at 0x7f0a35f60370>"
      ]
     },
     "metadata": {},
     "output_type": "display_data"
    },
    {
     "data": {
      "text/html": [
       "<pre style=\"white-space:pre;overflow-x:auto;line-height:normal;font-family:Menlo,'DejaVu Sans Mono',consolas,'Courier New',monospace\"><span style=\"color: #7fbfbf\">[09:09:09] </span>METRIC   Round <span style=\"color: #000080; font-weight: bold\">3</span>, collaborator env_ten locally_tuned_model_validate result acc:  <span style=\"color: #000080; font-weight: bold\">0.942000</span>                                           <a href=\"file:///home/ubuntu/anaconda3/envs/openfl/lib/python3.8/site-packages/openfl/interface/interactive_api/experiment.py\"><span style=\"color: #7f7f7f\">experiment.py</span></a><span style=\"color: #7f7f7f\">:116</span>\n",
       "</pre>\n"
      ],
      "text/plain": [
       "<rich.jupyter.JupyterRenderable at 0x7f0a35f600d0>"
      ]
     },
     "metadata": {},
     "output_type": "display_data"
    },
    {
     "data": {
      "text/html": [
       "<pre style=\"white-space:pre;overflow-x:auto;line-height:normal;font-family:Menlo,'DejaVu Sans Mono',consolas,'Courier New',monospace\"><span style=\"color: #7fbfbf\">           </span>METRIC   Round <span style=\"color: #000080; font-weight: bold\">3</span>, collaborator env_ten aggregated_model_validate result acc:     <span style=\"color: #000080; font-weight: bold\">0.482500</span>                                           <a href=\"file:///home/ubuntu/anaconda3/envs/openfl/lib/python3.8/site-packages/openfl/interface/interactive_api/experiment.py\"><span style=\"color: #7f7f7f\">experiment.py</span></a><span style=\"color: #7f7f7f\">:116</span>\n",
       "</pre>\n"
      ],
      "text/plain": [
       "<rich.jupyter.JupyterRenderable at 0x7f0a35f60250>"
      ]
     },
     "metadata": {},
     "output_type": "display_data"
    },
    {
     "data": {
      "text/html": [
       "<pre style=\"white-space:pre;overflow-x:auto;line-height:normal;font-family:Menlo,'DejaVu Sans Mono',consolas,'Courier New',monospace\"><span style=\"color: #7fbfbf\">[09:09:42] </span>METRIC   Round <span style=\"color: #000080; font-weight: bold\">3</span>, collaborator env_six train result train_loss:  <span style=\"color: #000080; font-weight: bold\">0.040710</span>                                                           <a href=\"file:///home/ubuntu/anaconda3/envs/openfl/lib/python3.8/site-packages/openfl/interface/interactive_api/experiment.py\"><span style=\"color: #7f7f7f\">experiment.py</span></a><span style=\"color: #7f7f7f\">:116</span>\n",
       "</pre>\n"
      ],
      "text/plain": [
       "<rich.jupyter.JupyterRenderable at 0x7f0a35f603a0>"
      ]
     },
     "metadata": {},
     "output_type": "display_data"
    },
    {
     "data": {
      "text/html": [
       "<pre style=\"white-space:pre;overflow-x:auto;line-height:normal;font-family:Menlo,'DejaVu Sans Mono',consolas,'Courier New',monospace\"><span style=\"color: #7fbfbf\">           </span>METRIC   Round <span style=\"color: #000080; font-weight: bold\">3</span>, collaborator env_six locally_tuned_model_validate result acc:  <span style=\"color: #000080; font-weight: bold\">0.957000</span>                                           <a href=\"file:///home/ubuntu/anaconda3/envs/openfl/lib/python3.8/site-packages/openfl/interface/interactive_api/experiment.py\"><span style=\"color: #7f7f7f\">experiment.py</span></a><span style=\"color: #7f7f7f\">:116</span>\n",
       "</pre>\n"
      ],
      "text/plain": [
       "<rich.jupyter.JupyterRenderable at 0x7f0a35f60c40>"
      ]
     },
     "metadata": {},
     "output_type": "display_data"
    },
    {
     "data": {
      "text/html": [
       "<pre style=\"white-space:pre;overflow-x:auto;line-height:normal;font-family:Menlo,'DejaVu Sans Mono',consolas,'Courier New',monospace\"><span style=\"color: #7fbfbf\">[09:09:43] </span>METRIC   Round <span style=\"color: #000080; font-weight: bold\">3</span>, collaborator env_six aggregated_model_validate result acc:     <span style=\"color: #000080; font-weight: bold\">0.950500</span>                                           <a href=\"file:///home/ubuntu/anaconda3/envs/openfl/lib/python3.8/site-packages/openfl/interface/interactive_api/experiment.py\"><span style=\"color: #7f7f7f\">experiment.py</span></a><span style=\"color: #7f7f7f\">:116</span>\n",
       "</pre>\n"
      ],
      "text/plain": [
       "<rich.jupyter.JupyterRenderable at 0x7f0a35f60190>"
      ]
     },
     "metadata": {},
     "output_type": "display_data"
    },
    {
     "data": {
      "text/html": [
       "<pre style=\"white-space:pre;overflow-x:auto;line-height:normal;font-family:Menlo,'DejaVu Sans Mono',consolas,'Courier New',monospace\"><span style=\"color: #7fbfbf\">[09:10:13] </span>METRIC   Round <span style=\"color: #000080; font-weight: bold\">3</span>, collaborator env_nine train result train_loss: <span style=\"color: #000080; font-weight: bold\">0.135202</span>                                                           <a href=\"file:///home/ubuntu/anaconda3/envs/openfl/lib/python3.8/site-packages/openfl/interface/interactive_api/experiment.py\"><span style=\"color: #7f7f7f\">experiment.py</span></a><span style=\"color: #7f7f7f\">:116</span>\n",
       "</pre>\n"
      ],
      "text/plain": [
       "<rich.jupyter.JupyterRenderable at 0x7f0a35f60c10>"
      ]
     },
     "metadata": {},
     "output_type": "display_data"
    },
    {
     "data": {
      "text/html": [
       "<pre style=\"white-space:pre;overflow-x:auto;line-height:normal;font-family:Menlo,'DejaVu Sans Mono',consolas,'Courier New',monospace\"><span style=\"color: #7fbfbf\">           </span>METRIC   Round <span style=\"color: #000080; font-weight: bold\">3</span>, collaborator env_nine locally_tuned_model_validate result acc: <span style=\"color: #000080; font-weight: bold\">0.837000</span>                                           <a href=\"file:///home/ubuntu/anaconda3/envs/openfl/lib/python3.8/site-packages/openfl/interface/interactive_api/experiment.py\"><span style=\"color: #7f7f7f\">experiment.py</span></a><span style=\"color: #7f7f7f\">:116</span>\n",
       "</pre>\n"
      ],
      "text/plain": [
       "<rich.jupyter.JupyterRenderable at 0x7f0a35f601f0>"
      ]
     },
     "metadata": {},
     "output_type": "display_data"
    },
    {
     "data": {
      "text/html": [
       "<pre style=\"white-space:pre;overflow-x:auto;line-height:normal;font-family:Menlo,'DejaVu Sans Mono',consolas,'Courier New',monospace\"><span style=\"color: #7fbfbf\">[09:10:14] </span>METRIC   Round <span style=\"color: #000080; font-weight: bold\">3</span>, collaborator env_nine aggregated_model_validate result acc:    <span style=\"color: #000080; font-weight: bold\">0.000000</span>                                           <a href=\"file:///home/ubuntu/anaconda3/envs/openfl/lib/python3.8/site-packages/openfl/interface/interactive_api/experiment.py\"><span style=\"color: #7f7f7f\">experiment.py</span></a><span style=\"color: #7f7f7f\">:116</span>\n",
       "</pre>\n"
      ],
      "text/plain": [
       "<rich.jupyter.JupyterRenderable at 0x7f0a35f600d0>"
      ]
     },
     "metadata": {},
     "output_type": "display_data"
    },
    {
     "data": {
      "text/html": [
       "<pre style=\"white-space:pre;overflow-x:auto;line-height:normal;font-family:Menlo,'DejaVu Sans Mono',consolas,'Courier New',monospace\"><span style=\"color: #7fbfbf\">[09:10:22] </span>METRIC   Round <span style=\"color: #000080; font-weight: bold\">3</span>, collaborator env_five train result train_loss: <span style=\"color: #000080; font-weight: bold\">0.044996</span>                                                           <a href=\"file:///home/ubuntu/anaconda3/envs/openfl/lib/python3.8/site-packages/openfl/interface/interactive_api/experiment.py\"><span style=\"color: #7f7f7f\">experiment.py</span></a><span style=\"color: #7f7f7f\">:116</span>\n",
       "</pre>\n"
      ],
      "text/plain": [
       "<rich.jupyter.JupyterRenderable at 0x7f0a35f60490>"
      ]
     },
     "metadata": {},
     "output_type": "display_data"
    },
    {
     "data": {
      "text/html": [
       "<pre style=\"white-space:pre;overflow-x:auto;line-height:normal;font-family:Menlo,'DejaVu Sans Mono',consolas,'Courier New',monospace\"><span style=\"color: #7fbfbf\">[09:10:23] </span>METRIC   Round <span style=\"color: #000080; font-weight: bold\">3</span>, collaborator env_five locally_tuned_model_validate result acc: <span style=\"color: #000080; font-weight: bold\">0.958000</span>                                           <a href=\"file:///home/ubuntu/anaconda3/envs/openfl/lib/python3.8/site-packages/openfl/interface/interactive_api/experiment.py\"><span style=\"color: #7f7f7f\">experiment.py</span></a><span style=\"color: #7f7f7f\">:116</span>\n",
       "</pre>\n"
      ],
      "text/plain": [
       "<rich.jupyter.JupyterRenderable at 0x7f0a35f60340>"
      ]
     },
     "metadata": {},
     "output_type": "display_data"
    },
    {
     "data": {
      "text/html": [
       "<pre style=\"white-space:pre;overflow-x:auto;line-height:normal;font-family:Menlo,'DejaVu Sans Mono',consolas,'Courier New',monospace\"><span style=\"color: #7fbfbf\">[09:10:24] </span>METRIC   Round <span style=\"color: #000080; font-weight: bold\">3</span>, collaborator env_five aggregated_model_validate result acc:    <span style=\"color: #000080; font-weight: bold\">0.485000</span>                                           <a href=\"file:///home/ubuntu/anaconda3/envs/openfl/lib/python3.8/site-packages/openfl/interface/interactive_api/experiment.py\"><span style=\"color: #7f7f7f\">experiment.py</span></a><span style=\"color: #7f7f7f\">:116</span>\n",
       "</pre>\n"
      ],
      "text/plain": [
       "<rich.jupyter.JupyterRenderable at 0x7f0a35f60c40>"
      ]
     },
     "metadata": {},
     "output_type": "display_data"
    },
    {
     "data": {
      "text/html": [
       "<pre style=\"white-space:pre;overflow-x:auto;line-height:normal;font-family:Menlo,'DejaVu Sans Mono',consolas,'Courier New',monospace\"><span style=\"color: #7fbfbf\">[09:10:35] </span>METRIC   Round <span style=\"color: #000080; font-weight: bold\">3</span>, collaborator Aggregator train result train_loss:       <span style=\"color: #000080; font-weight: bold\">0.077398</span>                                                   <a href=\"file:///home/ubuntu/anaconda3/envs/openfl/lib/python3.8/site-packages/openfl/interface/interactive_api/experiment.py\"><span style=\"color: #7f7f7f\">experiment.py</span></a><span style=\"color: #7f7f7f\">:116</span>\n",
       "</pre>\n"
      ],
      "text/plain": [
       "<rich.jupyter.JupyterRenderable at 0x7f0a35f60250>"
      ]
     },
     "metadata": {},
     "output_type": "display_data"
    },
    {
     "data": {
      "text/html": [
       "<pre style=\"white-space:pre;overflow-x:auto;line-height:normal;font-family:Menlo,'DejaVu Sans Mono',consolas,'Courier New',monospace\"><span style=\"color: #7fbfbf\">           </span>METRIC   Round <span style=\"color: #000080; font-weight: bold\">3</span>, collaborator Aggregator locally_tuned_model_validate result acc:       <span style=\"color: #000080; font-weight: bold\">0.931900</span>                                   <a href=\"file:///home/ubuntu/anaconda3/envs/openfl/lib/python3.8/site-packages/openfl/interface/interactive_api/experiment.py\"><span style=\"color: #7f7f7f\">experiment.py</span></a><span style=\"color: #7f7f7f\">:116</span>\n",
       "</pre>\n"
      ],
      "text/plain": [
       "<rich.jupyter.JupyterRenderable at 0x7f0a35f60c40>"
      ]
     },
     "metadata": {},
     "output_type": "display_data"
    },
    {
     "data": {
      "text/html": [
       "<pre style=\"white-space:pre;overflow-x:auto;line-height:normal;font-family:Menlo,'DejaVu Sans Mono',consolas,'Courier New',monospace\"><span style=\"color: #7fbfbf\">           </span>METRIC   Round <span style=\"color: #000080; font-weight: bold\">3</span>, collaborator Aggregator aggregated_model_validate result acc:  <span style=\"color: #000080; font-weight: bold\">0.380700</span>                                           <a href=\"file:///home/ubuntu/anaconda3/envs/openfl/lib/python3.8/site-packages/openfl/interface/interactive_api/experiment.py\"><span style=\"color: #7f7f7f\">experiment.py</span></a><span style=\"color: #7f7f7f\">:116</span>\n",
       "</pre>\n"
      ],
      "text/plain": [
       "<rich.jupyter.JupyterRenderable at 0x7f0a35f60340>"
      ]
     },
     "metadata": {},
     "output_type": "display_data"
    },
    {
     "data": {
      "text/html": [
       "<pre style=\"white-space:pre;overflow-x:auto;line-height:normal;font-family:Menlo,'DejaVu Sans Mono',consolas,'Courier New',monospace\"><span style=\"color: #7fbfbf\">[09:11:50] </span>METRIC   Round <span style=\"color: #000080; font-weight: bold\">4</span>, collaborator env_four train result train_loss: <span style=\"color: #000080; font-weight: bold\">0.051098</span>                                                           <a href=\"file:///home/ubuntu/anaconda3/envs/openfl/lib/python3.8/site-packages/openfl/interface/interactive_api/experiment.py\"><span style=\"color: #7f7f7f\">experiment.py</span></a><span style=\"color: #7f7f7f\">:116</span>\n",
       "</pre>\n"
      ],
      "text/plain": [
       "<rich.jupyter.JupyterRenderable at 0x7f0a35f60df0>"
      ]
     },
     "metadata": {},
     "output_type": "display_data"
    },
    {
     "data": {
      "text/html": [
       "<pre style=\"white-space:pre;overflow-x:auto;line-height:normal;font-family:Menlo,'DejaVu Sans Mono',consolas,'Courier New',monospace\"><span style=\"color: #7fbfbf\">           </span>METRIC   Round <span style=\"color: #000080; font-weight: bold\">4</span>, collaborator env_four locally_tuned_model_validate result acc: <span style=\"color: #000080; font-weight: bold\">0.934500</span>                                           <a href=\"file:///home/ubuntu/anaconda3/envs/openfl/lib/python3.8/site-packages/openfl/interface/interactive_api/experiment.py\"><span style=\"color: #7f7f7f\">experiment.py</span></a><span style=\"color: #7f7f7f\">:116</span>\n",
       "</pre>\n"
      ],
      "text/plain": [
       "<rich.jupyter.JupyterRenderable at 0x7f0a35f60340>"
      ]
     },
     "metadata": {},
     "output_type": "display_data"
    },
    {
     "data": {
      "text/html": [
       "<pre style=\"white-space:pre;overflow-x:auto;line-height:normal;font-family:Menlo,'DejaVu Sans Mono',consolas,'Courier New',monospace\"><span style=\"color: #7fbfbf\">[09:11:51] </span>METRIC   Round <span style=\"color: #000080; font-weight: bold\">4</span>, collaborator env_four aggregated_model_validate result acc:    <span style=\"color: #000080; font-weight: bold\">0.000000</span>                                           <a href=\"file:///home/ubuntu/anaconda3/envs/openfl/lib/python3.8/site-packages/openfl/interface/interactive_api/experiment.py\"><span style=\"color: #7f7f7f\">experiment.py</span></a><span style=\"color: #7f7f7f\">:116</span>\n",
       "</pre>\n"
      ],
      "text/plain": [
       "<rich.jupyter.JupyterRenderable at 0x7f0a377a7280>"
      ]
     },
     "metadata": {},
     "output_type": "display_data"
    },
    {
     "data": {
      "text/html": [
       "<pre style=\"white-space:pre;overflow-x:auto;line-height:normal;font-family:Menlo,'DejaVu Sans Mono',consolas,'Courier New',monospace\"><span style=\"color: #7fbfbf\">[09:11:56] </span>METRIC   Round <span style=\"color: #000080; font-weight: bold\">4</span>, collaborator env_one train result train_loss:  <span style=\"color: #000080; font-weight: bold\">0.046094</span>                                                           <a href=\"file:///home/ubuntu/anaconda3/envs/openfl/lib/python3.8/site-packages/openfl/interface/interactive_api/experiment.py\"><span style=\"color: #7f7f7f\">experiment.py</span></a><span style=\"color: #7f7f7f\">:116</span>\n",
       "</pre>\n"
      ],
      "text/plain": [
       "<rich.jupyter.JupyterRenderable at 0x7f0a35f60220>"
      ]
     },
     "metadata": {},
     "output_type": "display_data"
    },
    {
     "data": {
      "text/html": [
       "<pre style=\"white-space:pre;overflow-x:auto;line-height:normal;font-family:Menlo,'DejaVu Sans Mono',consolas,'Courier New',monospace\"><span style=\"color: #7fbfbf\">[09:11:57] </span>METRIC   Round <span style=\"color: #000080; font-weight: bold\">4</span>, collaborator env_one locally_tuned_model_validate result acc:  <span style=\"color: #000080; font-weight: bold\">0.948500</span>                                           <a href=\"file:///home/ubuntu/anaconda3/envs/openfl/lib/python3.8/site-packages/openfl/interface/interactive_api/experiment.py\"><span style=\"color: #7f7f7f\">experiment.py</span></a><span style=\"color: #7f7f7f\">:116</span>\n",
       "</pre>\n"
      ],
      "text/plain": [
       "<rich.jupyter.JupyterRenderable at 0x7f0a35f601c0>"
      ]
     },
     "metadata": {},
     "output_type": "display_data"
    },
    {
     "data": {
      "text/html": [
       "<pre style=\"white-space:pre;overflow-x:auto;line-height:normal;font-family:Menlo,'DejaVu Sans Mono',consolas,'Courier New',monospace\"><span style=\"color: #7fbfbf\">[09:11:58] </span>METRIC   Round <span style=\"color: #000080; font-weight: bold\">4</span>, collaborator env_one aggregated_model_validate result acc:     <span style=\"color: #000080; font-weight: bold\">0.167000</span>                                           <a href=\"file:///home/ubuntu/anaconda3/envs/openfl/lib/python3.8/site-packages/openfl/interface/interactive_api/experiment.py\"><span style=\"color: #7f7f7f\">experiment.py</span></a><span style=\"color: #7f7f7f\">:116</span>\n",
       "</pre>\n"
      ],
      "text/plain": [
       "<rich.jupyter.JupyterRenderable at 0x7f0a35f60df0>"
      ]
     },
     "metadata": {},
     "output_type": "display_data"
    },
    {
     "data": {
      "text/html": [
       "<pre style=\"white-space:pre;overflow-x:auto;line-height:normal;font-family:Menlo,'DejaVu Sans Mono',consolas,'Courier New',monospace\"><span style=\"color: #7fbfbf\">           </span>METRIC   Round <span style=\"color: #000080; font-weight: bold\">4</span>, collaborator env_seven train result train_loss:        <span style=\"color: #000080; font-weight: bold\">0.152582</span>                                                   <a href=\"file:///home/ubuntu/anaconda3/envs/openfl/lib/python3.8/site-packages/openfl/interface/interactive_api/experiment.py\"><span style=\"color: #7f7f7f\">experiment.py</span></a><span style=\"color: #7f7f7f\">:116</span>\n",
       "</pre>\n"
      ],
      "text/plain": [
       "<rich.jupyter.JupyterRenderable at 0x7f0a35f60c40>"
      ]
     },
     "metadata": {},
     "output_type": "display_data"
    },
    {
     "data": {
      "text/html": [
       "<pre style=\"white-space:pre;overflow-x:auto;line-height:normal;font-family:Menlo,'DejaVu Sans Mono',consolas,'Courier New',monospace\"><span style=\"color: #7fbfbf\">           </span>METRIC   Round <span style=\"color: #000080; font-weight: bold\">4</span>, collaborator env_seven locally_tuned_model_validate result acc:        <span style=\"color: #000080; font-weight: bold\">0.876000</span>                                   <a href=\"file:///home/ubuntu/anaconda3/envs/openfl/lib/python3.8/site-packages/openfl/interface/interactive_api/experiment.py\"><span style=\"color: #7f7f7f\">experiment.py</span></a><span style=\"color: #7f7f7f\">:116</span>\n",
       "</pre>\n"
      ],
      "text/plain": [
       "<rich.jupyter.JupyterRenderable at 0x7f0a35f60c10>"
      ]
     },
     "metadata": {},
     "output_type": "display_data"
    },
    {
     "data": {
      "text/html": [
       "<pre style=\"white-space:pre;overflow-x:auto;line-height:normal;font-family:Menlo,'DejaVu Sans Mono',consolas,'Courier New',monospace\"><span style=\"color: #7fbfbf\">[09:11:59] </span>METRIC   Round <span style=\"color: #000080; font-weight: bold\">4</span>, collaborator env_seven aggregated_model_validate result acc:   <span style=\"color: #000080; font-weight: bold\">0.048500</span>                                           <a href=\"file:///home/ubuntu/anaconda3/envs/openfl/lib/python3.8/site-packages/openfl/interface/interactive_api/experiment.py\"><span style=\"color: #7f7f7f\">experiment.py</span></a><span style=\"color: #7f7f7f\">:116</span>\n",
       "</pre>\n"
      ],
      "text/plain": [
       "<rich.jupyter.JupyterRenderable at 0x7f0a35f60490>"
      ]
     },
     "metadata": {},
     "output_type": "display_data"
    },
    {
     "data": {
      "text/html": [
       "<pre style=\"white-space:pre;overflow-x:auto;line-height:normal;font-family:Menlo,'DejaVu Sans Mono',consolas,'Courier New',monospace\"><span style=\"color: #7fbfbf\">[09:12:13] </span>METRIC   Round <span style=\"color: #000080; font-weight: bold\">4</span>, collaborator env_eight train result train_loss:        <span style=\"color: #000080; font-weight: bold\">0.082105</span>                                                   <a href=\"file:///home/ubuntu/anaconda3/envs/openfl/lib/python3.8/site-packages/openfl/interface/interactive_api/experiment.py\"><span style=\"color: #7f7f7f\">experiment.py</span></a><span style=\"color: #7f7f7f\">:116</span>\n",
       "</pre>\n"
      ],
      "text/plain": [
       "<rich.jupyter.JupyterRenderable at 0x7f0a35f602b0>"
      ]
     },
     "metadata": {},
     "output_type": "display_data"
    },
    {
     "data": {
      "text/html": [
       "<pre style=\"white-space:pre;overflow-x:auto;line-height:normal;font-family:Menlo,'DejaVu Sans Mono',consolas,'Courier New',monospace\"><span style=\"color: #7fbfbf\">           </span>METRIC   Round <span style=\"color: #000080; font-weight: bold\">4</span>, collaborator env_eight locally_tuned_model_validate result acc:        <span style=\"color: #000080; font-weight: bold\">0.943000</span>                                   <a href=\"file:///home/ubuntu/anaconda3/envs/openfl/lib/python3.8/site-packages/openfl/interface/interactive_api/experiment.py\"><span style=\"color: #7f7f7f\">experiment.py</span></a><span style=\"color: #7f7f7f\">:116</span>\n",
       "</pre>\n"
      ],
      "text/plain": [
       "<rich.jupyter.JupyterRenderable at 0x7f0a35f60100>"
      ]
     },
     "metadata": {},
     "output_type": "display_data"
    },
    {
     "data": {
      "text/html": [
       "<pre style=\"white-space:pre;overflow-x:auto;line-height:normal;font-family:Menlo,'DejaVu Sans Mono',consolas,'Courier New',monospace\"><span style=\"color: #7fbfbf\">[09:12:14] </span>METRIC   Round <span style=\"color: #000080; font-weight: bold\">4</span>, collaborator env_eight aggregated_model_validate result acc:   <span style=\"color: #000080; font-weight: bold\">0.452000</span>                                           <a href=\"file:///home/ubuntu/anaconda3/envs/openfl/lib/python3.8/site-packages/openfl/interface/interactive_api/experiment.py\"><span style=\"color: #7f7f7f\">experiment.py</span></a><span style=\"color: #7f7f7f\">:116</span>\n",
       "</pre>\n"
      ],
      "text/plain": [
       "<rich.jupyter.JupyterRenderable at 0x7f0a377a7280>"
      ]
     },
     "metadata": {},
     "output_type": "display_data"
    },
    {
     "data": {
      "text/html": [
       "<pre style=\"white-space:pre;overflow-x:auto;line-height:normal;font-family:Menlo,'DejaVu Sans Mono',consolas,'Courier New',monospace\"><span style=\"color: #7fbfbf\">[09:12:20] </span>METRIC   Round <span style=\"color: #000080; font-weight: bold\">4</span>, collaborator env_three train result train_loss:        <span style=\"color: #000080; font-weight: bold\">0.049086</span>                                                   <a href=\"file:///home/ubuntu/anaconda3/envs/openfl/lib/python3.8/site-packages/openfl/interface/interactive_api/experiment.py\"><span style=\"color: #7f7f7f\">experiment.py</span></a><span style=\"color: #7f7f7f\">:116</span>\n",
       "</pre>\n"
      ],
      "text/plain": [
       "<rich.jupyter.JupyterRenderable at 0x7f0a35f604f0>"
      ]
     },
     "metadata": {},
     "output_type": "display_data"
    },
    {
     "data": {
      "text/html": [
       "<pre style=\"white-space:pre;overflow-x:auto;line-height:normal;font-family:Menlo,'DejaVu Sans Mono',consolas,'Courier New',monospace\"><span style=\"color: #7fbfbf\">           </span>METRIC   Round <span style=\"color: #000080; font-weight: bold\">4</span>, collaborator env_three locally_tuned_model_validate result acc:        <span style=\"color: #000080; font-weight: bold\">0.965000</span>                                   <a href=\"file:///home/ubuntu/anaconda3/envs/openfl/lib/python3.8/site-packages/openfl/interface/interactive_api/experiment.py\"><span style=\"color: #7f7f7f\">experiment.py</span></a><span style=\"color: #7f7f7f\">:116</span>\n",
       "</pre>\n"
      ],
      "text/plain": [
       "<rich.jupyter.JupyterRenderable at 0x7f0a35f60c10>"
      ]
     },
     "metadata": {},
     "output_type": "display_data"
    },
    {
     "data": {
      "text/html": [
       "<pre style=\"white-space:pre;overflow-x:auto;line-height:normal;font-family:Menlo,'DejaVu Sans Mono',consolas,'Courier New',monospace\"><span style=\"color: #7fbfbf\">[09:12:21] </span>METRIC   Round <span style=\"color: #000080; font-weight: bold\">4</span>, collaborator env_three aggregated_model_validate result acc:   <span style=\"color: #000080; font-weight: bold\">0.452000</span>                                           <a href=\"file:///home/ubuntu/anaconda3/envs/openfl/lib/python3.8/site-packages/openfl/interface/interactive_api/experiment.py\"><span style=\"color: #7f7f7f\">experiment.py</span></a><span style=\"color: #7f7f7f\">:116</span>\n",
       "</pre>\n"
      ],
      "text/plain": [
       "<rich.jupyter.JupyterRenderable at 0x7f0a35f600d0>"
      ]
     },
     "metadata": {},
     "output_type": "display_data"
    },
    {
     "data": {
      "text/html": [
       "<pre style=\"white-space:pre;overflow-x:auto;line-height:normal;font-family:Menlo,'DejaVu Sans Mono',consolas,'Courier New',monospace\"><span style=\"color: #7fbfbf\">[09:12:26] </span>METRIC   Round <span style=\"color: #000080; font-weight: bold\">4</span>, collaborator env_two train result train_loss:  <span style=\"color: #000080; font-weight: bold\">0.037734</span>                                                           <a href=\"file:///home/ubuntu/anaconda3/envs/openfl/lib/python3.8/site-packages/openfl/interface/interactive_api/experiment.py\"><span style=\"color: #7f7f7f\">experiment.py</span></a><span style=\"color: #7f7f7f\">:116</span>\n",
       "</pre>\n"
      ],
      "text/plain": [
       "<rich.jupyter.JupyterRenderable at 0x7f0a35f60040>"
      ]
     },
     "metadata": {},
     "output_type": "display_data"
    },
    {
     "data": {
      "text/html": [
       "<pre style=\"white-space:pre;overflow-x:auto;line-height:normal;font-family:Menlo,'DejaVu Sans Mono',consolas,'Courier New',monospace\"><span style=\"color: #7fbfbf\">[09:12:27] </span>METRIC   Round <span style=\"color: #000080; font-weight: bold\">4</span>, collaborator env_two locally_tuned_model_validate result acc:  <span style=\"color: #000080; font-weight: bold\">0.965000</span>                                           <a href=\"file:///home/ubuntu/anaconda3/envs/openfl/lib/python3.8/site-packages/openfl/interface/interactive_api/experiment.py\"><span style=\"color: #7f7f7f\">experiment.py</span></a><span style=\"color: #7f7f7f\">:116</span>\n",
       "</pre>\n"
      ],
      "text/plain": [
       "<rich.jupyter.JupyterRenderable at 0x7f0a35f60250>"
      ]
     },
     "metadata": {},
     "output_type": "display_data"
    },
    {
     "data": {
      "text/html": [
       "<pre style=\"white-space:pre;overflow-x:auto;line-height:normal;font-family:Menlo,'DejaVu Sans Mono',consolas,'Courier New',monospace\"><span style=\"color: #7fbfbf\">           </span>METRIC   Round <span style=\"color: #000080; font-weight: bold\">4</span>, collaborator env_two aggregated_model_validate result acc:     <span style=\"color: #000080; font-weight: bold\">0.820000</span>                                           <a href=\"file:///home/ubuntu/anaconda3/envs/openfl/lib/python3.8/site-packages/openfl/interface/interactive_api/experiment.py\"><span style=\"color: #7f7f7f\">experiment.py</span></a><span style=\"color: #7f7f7f\">:116</span>\n",
       "</pre>\n"
      ],
      "text/plain": [
       "<rich.jupyter.JupyterRenderable at 0x7f0a35f60040>"
      ]
     },
     "metadata": {},
     "output_type": "display_data"
    },
    {
     "data": {
      "text/html": [
       "<pre style=\"white-space:pre;overflow-x:auto;line-height:normal;font-family:Menlo,'DejaVu Sans Mono',consolas,'Courier New',monospace\"><span style=\"color: #7fbfbf\">[09:12:36] </span>METRIC   Round <span style=\"color: #000080; font-weight: bold\">4</span>, collaborator env_ten train result train_loss:  <span style=\"color: #000080; font-weight: bold\">0.054482</span>                                                           <a href=\"file:///home/ubuntu/anaconda3/envs/openfl/lib/python3.8/site-packages/openfl/interface/interactive_api/experiment.py\"><span style=\"color: #7f7f7f\">experiment.py</span></a><span style=\"color: #7f7f7f\">:116</span>\n",
       "</pre>\n"
      ],
      "text/plain": [
       "<rich.jupyter.JupyterRenderable at 0x7f0a35f600d0>"
      ]
     },
     "metadata": {},
     "output_type": "display_data"
    },
    {
     "data": {
      "text/html": [
       "<pre style=\"white-space:pre;overflow-x:auto;line-height:normal;font-family:Menlo,'DejaVu Sans Mono',consolas,'Courier New',monospace\"><span style=\"color: #7fbfbf\">           </span>METRIC   Round <span style=\"color: #000080; font-weight: bold\">4</span>, collaborator env_ten locally_tuned_model_validate result acc:  <span style=\"color: #000080; font-weight: bold\">0.941500</span>                                           <a href=\"file:///home/ubuntu/anaconda3/envs/openfl/lib/python3.8/site-packages/openfl/interface/interactive_api/experiment.py\"><span style=\"color: #7f7f7f\">experiment.py</span></a><span style=\"color: #7f7f7f\">:116</span>\n",
       "</pre>\n"
      ],
      "text/plain": [
       "<rich.jupyter.JupyterRenderable at 0x7f0a35f60280>"
      ]
     },
     "metadata": {},
     "output_type": "display_data"
    },
    {
     "data": {
      "text/html": [
       "<pre style=\"white-space:pre;overflow-x:auto;line-height:normal;font-family:Menlo,'DejaVu Sans Mono',consolas,'Courier New',monospace\"><span style=\"color: #7fbfbf\">[09:12:37] </span>METRIC   Round <span style=\"color: #000080; font-weight: bold\">4</span>, collaborator env_ten aggregated_model_validate result acc:     <span style=\"color: #000080; font-weight: bold\">0.533500</span>                                           <a href=\"file:///home/ubuntu/anaconda3/envs/openfl/lib/python3.8/site-packages/openfl/interface/interactive_api/experiment.py\"><span style=\"color: #7f7f7f\">experiment.py</span></a><span style=\"color: #7f7f7f\">:116</span>\n",
       "</pre>\n"
      ],
      "text/plain": [
       "<rich.jupyter.JupyterRenderable at 0x7f0a35f60730>"
      ]
     },
     "metadata": {},
     "output_type": "display_data"
    },
    {
     "data": {
      "text/html": [
       "<pre style=\"white-space:pre;overflow-x:auto;line-height:normal;font-family:Menlo,'DejaVu Sans Mono',consolas,'Courier New',monospace\"><span style=\"color: #7fbfbf\">[09:13:07] </span>METRIC   Round <span style=\"color: #000080; font-weight: bold\">4</span>, collaborator env_six train result train_loss:  <span style=\"color: #000080; font-weight: bold\">0.037081</span>                                                           <a href=\"file:///home/ubuntu/anaconda3/envs/openfl/lib/python3.8/site-packages/openfl/interface/interactive_api/experiment.py\"><span style=\"color: #7f7f7f\">experiment.py</span></a><span style=\"color: #7f7f7f\">:116</span>\n",
       "</pre>\n"
      ],
      "text/plain": [
       "<rich.jupyter.JupyterRenderable at 0x7f0a35f60040>"
      ]
     },
     "metadata": {},
     "output_type": "display_data"
    },
    {
     "data": {
      "text/html": [
       "<pre style=\"white-space:pre;overflow-x:auto;line-height:normal;font-family:Menlo,'DejaVu Sans Mono',consolas,'Courier New',monospace\"><span style=\"color: #7fbfbf\">[09:13:08] </span>METRIC   Round <span style=\"color: #000080; font-weight: bold\">4</span>, collaborator env_six locally_tuned_model_validate result acc:  <span style=\"color: #000080; font-weight: bold\">0.958000</span>                                           <a href=\"file:///home/ubuntu/anaconda3/envs/openfl/lib/python3.8/site-packages/openfl/interface/interactive_api/experiment.py\"><span style=\"color: #7f7f7f\">experiment.py</span></a><span style=\"color: #7f7f7f\">:116</span>\n",
       "</pre>\n"
      ],
      "text/plain": [
       "<rich.jupyter.JupyterRenderable at 0x7f0a35f60160>"
      ]
     },
     "metadata": {},
     "output_type": "display_data"
    },
    {
     "data": {
      "text/html": [
       "<pre style=\"white-space:pre;overflow-x:auto;line-height:normal;font-family:Menlo,'DejaVu Sans Mono',consolas,'Courier New',monospace\"><span style=\"color: #7fbfbf\">           </span>METRIC   Round <span style=\"color: #000080; font-weight: bold\">4</span>, collaborator env_six aggregated_model_validate result acc:     <span style=\"color: #000080; font-weight: bold\">0.167000</span>                                           <a href=\"file:///home/ubuntu/anaconda3/envs/openfl/lib/python3.8/site-packages/openfl/interface/interactive_api/experiment.py\"><span style=\"color: #7f7f7f\">experiment.py</span></a><span style=\"color: #7f7f7f\">:116</span>\n",
       "</pre>\n"
      ],
      "text/plain": [
       "<rich.jupyter.JupyterRenderable at 0x7f0a35f60040>"
      ]
     },
     "metadata": {},
     "output_type": "display_data"
    },
    {
     "data": {
      "text/html": [
       "<pre style=\"white-space:pre;overflow-x:auto;line-height:normal;font-family:Menlo,'DejaVu Sans Mono',consolas,'Courier New',monospace\"><span style=\"color: #7fbfbf\">[09:13:35] </span>METRIC   Round <span style=\"color: #000080; font-weight: bold\">4</span>, collaborator env_nine train result train_loss: <span style=\"color: #000080; font-weight: bold\">0.112418</span>                                                           <a href=\"file:///home/ubuntu/anaconda3/envs/openfl/lib/python3.8/site-packages/openfl/interface/interactive_api/experiment.py\"><span style=\"color: #7f7f7f\">experiment.py</span></a><span style=\"color: #7f7f7f\">:116</span>\n",
       "</pre>\n"
      ],
      "text/plain": [
       "<rich.jupyter.JupyterRenderable at 0x7f0a35f60160>"
      ]
     },
     "metadata": {},
     "output_type": "display_data"
    },
    {
     "data": {
      "text/html": [
       "<pre style=\"white-space:pre;overflow-x:auto;line-height:normal;font-family:Menlo,'DejaVu Sans Mono',consolas,'Courier New',monospace\"><span style=\"color: #7fbfbf\">           </span>METRIC   Round <span style=\"color: #000080; font-weight: bold\">4</span>, collaborator env_nine locally_tuned_model_validate result acc: <span style=\"color: #000080; font-weight: bold\">0.855500</span>                                           <a href=\"file:///home/ubuntu/anaconda3/envs/openfl/lib/python3.8/site-packages/openfl/interface/interactive_api/experiment.py\"><span style=\"color: #7f7f7f\">experiment.py</span></a><span style=\"color: #7f7f7f\">:116</span>\n",
       "</pre>\n"
      ],
      "text/plain": [
       "<rich.jupyter.JupyterRenderable at 0x7f0a35f60040>"
      ]
     },
     "metadata": {},
     "output_type": "display_data"
    },
    {
     "data": {
      "text/html": [
       "<pre style=\"white-space:pre;overflow-x:auto;line-height:normal;font-family:Menlo,'DejaVu Sans Mono',consolas,'Courier New',monospace\"><span style=\"color: #7fbfbf\">[09:13:36] </span>METRIC   Round <span style=\"color: #000080; font-weight: bold\">4</span>, collaborator env_nine aggregated_model_validate result acc:    <span style=\"color: #000080; font-weight: bold\">0.734500</span>                                           <a href=\"file:///home/ubuntu/anaconda3/envs/openfl/lib/python3.8/site-packages/openfl/interface/interactive_api/experiment.py\"><span style=\"color: #7f7f7f\">experiment.py</span></a><span style=\"color: #7f7f7f\">:116</span>\n",
       "</pre>\n"
      ],
      "text/plain": [
       "<rich.jupyter.JupyterRenderable at 0x7f0a35f60160>"
      ]
     },
     "metadata": {},
     "output_type": "display_data"
    },
    {
     "data": {
      "text/html": [
       "<pre style=\"white-space:pre;overflow-x:auto;line-height:normal;font-family:Menlo,'DejaVu Sans Mono',consolas,'Courier New',monospace\"><span style=\"color: #7fbfbf\">[09:13:44] </span>METRIC   Round <span style=\"color: #000080; font-weight: bold\">4</span>, collaborator env_five train result train_loss: <span style=\"color: #000080; font-weight: bold\">0.038372</span>                                                           <a href=\"file:///home/ubuntu/anaconda3/envs/openfl/lib/python3.8/site-packages/openfl/interface/interactive_api/experiment.py\"><span style=\"color: #7f7f7f\">experiment.py</span></a><span style=\"color: #7f7f7f\">:116</span>\n",
       "</pre>\n"
      ],
      "text/plain": [
       "<rich.jupyter.JupyterRenderable at 0x7f0a35f600d0>"
      ]
     },
     "metadata": {},
     "output_type": "display_data"
    },
    {
     "data": {
      "text/html": [
       "<pre style=\"white-space:pre;overflow-x:auto;line-height:normal;font-family:Menlo,'DejaVu Sans Mono',consolas,'Courier New',monospace\"><span style=\"color: #7fbfbf\">[09:13:45] </span>METRIC   Round <span style=\"color: #000080; font-weight: bold\">4</span>, collaborator env_five locally_tuned_model_validate result acc: <span style=\"color: #000080; font-weight: bold\">0.960000</span>                                           <a href=\"file:///home/ubuntu/anaconda3/envs/openfl/lib/python3.8/site-packages/openfl/interface/interactive_api/experiment.py\"><span style=\"color: #7f7f7f\">experiment.py</span></a><span style=\"color: #7f7f7f\">:116</span>\n",
       "</pre>\n"
      ],
      "text/plain": [
       "<rich.jupyter.JupyterRenderable at 0x7f0a35f60c40>"
      ]
     },
     "metadata": {},
     "output_type": "display_data"
    },
    {
     "data": {
      "text/html": [
       "<pre style=\"white-space:pre;overflow-x:auto;line-height:normal;font-family:Menlo,'DejaVu Sans Mono',consolas,'Courier New',monospace\"><span style=\"color: #7fbfbf\">           </span>METRIC   Round <span style=\"color: #000080; font-weight: bold\">4</span>, collaborator env_five aggregated_model_validate result acc:    <span style=\"color: #000080; font-weight: bold\">0.215500</span>                                           <a href=\"file:///home/ubuntu/anaconda3/envs/openfl/lib/python3.8/site-packages/openfl/interface/interactive_api/experiment.py\"><span style=\"color: #7f7f7f\">experiment.py</span></a><span style=\"color: #7f7f7f\">:116</span>\n",
       "</pre>\n"
      ],
      "text/plain": [
       "<rich.jupyter.JupyterRenderable at 0x7f0a35f600d0>"
      ]
     },
     "metadata": {},
     "output_type": "display_data"
    },
    {
     "data": {
      "text/html": [
       "<pre style=\"white-space:pre;overflow-x:auto;line-height:normal;font-family:Menlo,'DejaVu Sans Mono',consolas,'Courier New',monospace\"><span style=\"color: #7fbfbf\">[09:13:57] </span>METRIC   Round <span style=\"color: #000080; font-weight: bold\">4</span>, collaborator Aggregator train result train_loss:       <span style=\"color: #000080; font-weight: bold\">0.064234</span>                                                   <a href=\"file:///home/ubuntu/anaconda3/envs/openfl/lib/python3.8/site-packages/openfl/interface/interactive_api/experiment.py\"><span style=\"color: #7f7f7f\">experiment.py</span></a><span style=\"color: #7f7f7f\">:116</span>\n",
       "</pre>\n"
      ],
      "text/plain": [
       "<rich.jupyter.JupyterRenderable at 0x7f0a35f60160>"
      ]
     },
     "metadata": {},
     "output_type": "display_data"
    },
    {
     "data": {
      "text/html": [
       "<pre style=\"white-space:pre;overflow-x:auto;line-height:normal;font-family:Menlo,'DejaVu Sans Mono',consolas,'Courier New',monospace\"><span style=\"color: #7fbfbf\">           </span>METRIC   Round <span style=\"color: #000080; font-weight: bold\">4</span>, collaborator Aggregator locally_tuned_model_validate result acc:       <span style=\"color: #000080; font-weight: bold\">0.934700</span>                                   <a href=\"file:///home/ubuntu/anaconda3/envs/openfl/lib/python3.8/site-packages/openfl/interface/interactive_api/experiment.py\"><span style=\"color: #7f7f7f\">experiment.py</span></a><span style=\"color: #7f7f7f\">:116</span>\n",
       "</pre>\n"
      ],
      "text/plain": [
       "<rich.jupyter.JupyterRenderable at 0x7f0a35f60b50>"
      ]
     },
     "metadata": {},
     "output_type": "display_data"
    },
    {
     "data": {
      "text/html": [
       "<pre style=\"white-space:pre;overflow-x:auto;line-height:normal;font-family:Menlo,'DejaVu Sans Mono',consolas,'Courier New',monospace\"><span style=\"color: #7fbfbf\">           </span>METRIC   Round <span style=\"color: #000080; font-weight: bold\">4</span>, collaborator Aggregator aggregated_model_validate result acc:  <span style=\"color: #000080; font-weight: bold\">0.359000</span>                                           <a href=\"file:///home/ubuntu/anaconda3/envs/openfl/lib/python3.8/site-packages/openfl/interface/interactive_api/experiment.py\"><span style=\"color: #7f7f7f\">experiment.py</span></a><span style=\"color: #7f7f7f\">:116</span>\n",
       "</pre>\n"
      ],
      "text/plain": [
       "<rich.jupyter.JupyterRenderable at 0x7f0a35f60490>"
      ]
     },
     "metadata": {},
     "output_type": "display_data"
    },
    {
     "data": {
      "text/html": [
       "<pre style=\"white-space:pre;overflow-x:auto;line-height:normal;font-family:Menlo,'DejaVu Sans Mono',consolas,'Courier New',monospace\"><span style=\"color: #7fbfbf\">[09:15:09] </span>METRIC   Round <span style=\"color: #000080; font-weight: bold\">5</span>, collaborator env_one train result train_loss:  <span style=\"color: #000080; font-weight: bold\">0.034748</span>                                                           <a href=\"file:///home/ubuntu/anaconda3/envs/openfl/lib/python3.8/site-packages/openfl/interface/interactive_api/experiment.py\"><span style=\"color: #7f7f7f\">experiment.py</span></a><span style=\"color: #7f7f7f\">:116</span>\n",
       "</pre>\n"
      ],
      "text/plain": [
       "<rich.jupyter.JupyterRenderable at 0x7f0a35f60070>"
      ]
     },
     "metadata": {},
     "output_type": "display_data"
    },
    {
     "data": {
      "text/html": [
       "<pre style=\"white-space:pre;overflow-x:auto;line-height:normal;font-family:Menlo,'DejaVu Sans Mono',consolas,'Courier New',monospace\"><span style=\"color: #7fbfbf\">[09:15:10] </span>METRIC   Round <span style=\"color: #000080; font-weight: bold\">5</span>, collaborator env_one locally_tuned_model_validate result acc:  <span style=\"color: #000080; font-weight: bold\">0.954000</span>                                           <a href=\"file:///home/ubuntu/anaconda3/envs/openfl/lib/python3.8/site-packages/openfl/interface/interactive_api/experiment.py\"><span style=\"color: #7f7f7f\">experiment.py</span></a><span style=\"color: #7f7f7f\">:116</span>\n",
       "</pre>\n"
      ],
      "text/plain": [
       "<rich.jupyter.JupyterRenderable at 0x7f0a35f60280>"
      ]
     },
     "metadata": {},
     "output_type": "display_data"
    },
    {
     "data": {
      "text/html": [
       "<pre style=\"white-space:pre;overflow-x:auto;line-height:normal;font-family:Menlo,'DejaVu Sans Mono',consolas,'Courier New',monospace\"><span style=\"color: #7fbfbf\">           </span>METRIC   Round <span style=\"color: #000080; font-weight: bold\">5</span>, collaborator env_one aggregated_model_validate result acc:     <span style=\"color: #000080; font-weight: bold\">0.950500</span>                                           <a href=\"file:///home/ubuntu/anaconda3/envs/openfl/lib/python3.8/site-packages/openfl/interface/interactive_api/experiment.py\"><span style=\"color: #7f7f7f\">experiment.py</span></a><span style=\"color: #7f7f7f\">:116</span>\n",
       "</pre>\n"
      ],
      "text/plain": [
       "<rich.jupyter.JupyterRenderable at 0x7f0a35f60490>"
      ]
     },
     "metadata": {},
     "output_type": "display_data"
    },
    {
     "data": {
      "text/html": [
       "<pre style=\"white-space:pre;overflow-x:auto;line-height:normal;font-family:Menlo,'DejaVu Sans Mono',consolas,'Courier New',monospace\"><span style=\"color: #7fbfbf\">[09:15:14] </span>METRIC   Round <span style=\"color: #000080; font-weight: bold\">5</span>, collaborator env_seven train result train_loss:        <span style=\"color: #000080; font-weight: bold\">0.132899</span>                                                   <a href=\"file:///home/ubuntu/anaconda3/envs/openfl/lib/python3.8/site-packages/openfl/interface/interactive_api/experiment.py\"><span style=\"color: #7f7f7f\">experiment.py</span></a><span style=\"color: #7f7f7f\">:116</span>\n",
       "</pre>\n"
      ],
      "text/plain": [
       "<rich.jupyter.JupyterRenderable at 0x7f0a35f60160>"
      ]
     },
     "metadata": {},
     "output_type": "display_data"
    },
    {
     "data": {
      "text/html": [
       "<pre style=\"white-space:pre;overflow-x:auto;line-height:normal;font-family:Menlo,'DejaVu Sans Mono',consolas,'Courier New',monospace\"><span style=\"color: #7fbfbf\">[09:15:15] </span>METRIC   Round <span style=\"color: #000080; font-weight: bold\">5</span>, collaborator env_seven locally_tuned_model_validate result acc:        <span style=\"color: #000080; font-weight: bold\">0.881500</span>                                   <a href=\"file:///home/ubuntu/anaconda3/envs/openfl/lib/python3.8/site-packages/openfl/interface/interactive_api/experiment.py\"><span style=\"color: #7f7f7f\">experiment.py</span></a><span style=\"color: #7f7f7f\">:116</span>\n",
       "</pre>\n"
      ],
      "text/plain": [
       "<rich.jupyter.JupyterRenderable at 0x7f0a35f60070>"
      ]
     },
     "metadata": {},
     "output_type": "display_data"
    },
    {
     "data": {
      "text/html": [
       "<pre style=\"white-space:pre;overflow-x:auto;line-height:normal;font-family:Menlo,'DejaVu Sans Mono',consolas,'Courier New',monospace\"><span style=\"color: #7fbfbf\">           </span>METRIC   Round <span style=\"color: #000080; font-weight: bold\">5</span>, collaborator env_seven aggregated_model_validate result acc:   <span style=\"color: #000080; font-weight: bold\">0.633000</span>                                           <a href=\"file:///home/ubuntu/anaconda3/envs/openfl/lib/python3.8/site-packages/openfl/interface/interactive_api/experiment.py\"><span style=\"color: #7f7f7f\">experiment.py</span></a><span style=\"color: #7f7f7f\">:116</span>\n",
       "</pre>\n"
      ],
      "text/plain": [
       "<rich.jupyter.JupyterRenderable at 0x7f0a35f60160>"
      ]
     },
     "metadata": {},
     "output_type": "display_data"
    },
    {
     "data": {
      "text/html": [
       "<pre style=\"white-space:pre;overflow-x:auto;line-height:normal;font-family:Menlo,'DejaVu Sans Mono',consolas,'Courier New',monospace\"><span style=\"color: #7fbfbf\">[09:15:16] </span>METRIC   Round <span style=\"color: #000080; font-weight: bold\">5</span>, collaborator env_four train result train_loss: <span style=\"color: #000080; font-weight: bold\">0.049036</span>                                                           <a href=\"file:///home/ubuntu/anaconda3/envs/openfl/lib/python3.8/site-packages/openfl/interface/interactive_api/experiment.py\"><span style=\"color: #7f7f7f\">experiment.py</span></a><span style=\"color: #7f7f7f\">:116</span>\n",
       "</pre>\n"
      ],
      "text/plain": [
       "<rich.jupyter.JupyterRenderable at 0x7f0a35f60370>"
      ]
     },
     "metadata": {},
     "output_type": "display_data"
    },
    {
     "data": {
      "text/html": [
       "<pre style=\"white-space:pre;overflow-x:auto;line-height:normal;font-family:Menlo,'DejaVu Sans Mono',consolas,'Courier New',monospace\"><span style=\"color: #7fbfbf\">           </span>METRIC   Round <span style=\"color: #000080; font-weight: bold\">5</span>, collaborator env_four locally_tuned_model_validate result acc: <span style=\"color: #000080; font-weight: bold\">0.950000</span>                                           <a href=\"file:///home/ubuntu/anaconda3/envs/openfl/lib/python3.8/site-packages/openfl/interface/interactive_api/experiment.py\"><span style=\"color: #7f7f7f\">experiment.py</span></a><span style=\"color: #7f7f7f\">:116</span>\n",
       "</pre>\n"
      ],
      "text/plain": [
       "<rich.jupyter.JupyterRenderable at 0x7f0a35f60b50>"
      ]
     },
     "metadata": {},
     "output_type": "display_data"
    },
    {
     "data": {
      "text/html": [
       "<pre style=\"white-space:pre;overflow-x:auto;line-height:normal;font-family:Menlo,'DejaVu Sans Mono',consolas,'Courier New',monospace\"><span style=\"color: #7fbfbf\">[09:15:17] </span>METRIC   Round <span style=\"color: #000080; font-weight: bold\">5</span>, collaborator env_four aggregated_model_validate result acc:    <span style=\"color: #000080; font-weight: bold\">0.474000</span>                                           <a href=\"file:///home/ubuntu/anaconda3/envs/openfl/lib/python3.8/site-packages/openfl/interface/interactive_api/experiment.py\"><span style=\"color: #7f7f7f\">experiment.py</span></a><span style=\"color: #7f7f7f\">:116</span>\n",
       "</pre>\n"
      ],
      "text/plain": [
       "<rich.jupyter.JupyterRenderable at 0x7f0a35f60730>"
      ]
     },
     "metadata": {},
     "output_type": "display_data"
    },
    {
     "data": {
      "text/html": [
       "<pre style=\"white-space:pre;overflow-x:auto;line-height:normal;font-family:Menlo,'DejaVu Sans Mono',consolas,'Courier New',monospace\"><span style=\"color: #7fbfbf\">[09:15:33] </span>METRIC   Round <span style=\"color: #000080; font-weight: bold\">5</span>, collaborator env_three train result train_loss:        <span style=\"color: #000080; font-weight: bold\">0.047461</span>                                                   <a href=\"file:///home/ubuntu/anaconda3/envs/openfl/lib/python3.8/site-packages/openfl/interface/interactive_api/experiment.py\"><span style=\"color: #7f7f7f\">experiment.py</span></a><span style=\"color: #7f7f7f\">:116</span>\n",
       "</pre>\n"
      ],
      "text/plain": [
       "<rich.jupyter.JupyterRenderable at 0x7f0a35f60100>"
      ]
     },
     "metadata": {},
     "output_type": "display_data"
    },
    {
     "data": {
      "text/html": [
       "<pre style=\"white-space:pre;overflow-x:auto;line-height:normal;font-family:Menlo,'DejaVu Sans Mono',consolas,'Courier New',monospace\"><span style=\"color: #7fbfbf\">[09:15:34] </span>METRIC   Round <span style=\"color: #000080; font-weight: bold\">5</span>, collaborator env_three locally_tuned_model_validate result acc:        <span style=\"color: #000080; font-weight: bold\">0.964500</span>                                   <a href=\"file:///home/ubuntu/anaconda3/envs/openfl/lib/python3.8/site-packages/openfl/interface/interactive_api/experiment.py\"><span style=\"color: #7f7f7f\">experiment.py</span></a><span style=\"color: #7f7f7f\">:116</span>\n",
       "</pre>\n"
      ],
      "text/plain": [
       "<rich.jupyter.JupyterRenderable at 0x7f0a35f601f0>"
      ]
     },
     "metadata": {},
     "output_type": "display_data"
    },
    {
     "data": {
      "text/html": [
       "<pre style=\"white-space:pre;overflow-x:auto;line-height:normal;font-family:Menlo,'DejaVu Sans Mono',consolas,'Courier New',monospace\"><span style=\"color: #7fbfbf\">           </span>METRIC   Round <span style=\"color: #000080; font-weight: bold\">5</span>, collaborator env_three aggregated_model_validate result acc:   <span style=\"color: #000080; font-weight: bold\">0.000500</span>                                           <a href=\"file:///home/ubuntu/anaconda3/envs/openfl/lib/python3.8/site-packages/openfl/interface/interactive_api/experiment.py\"><span style=\"color: #7f7f7f\">experiment.py</span></a><span style=\"color: #7f7f7f\">:116</span>\n",
       "</pre>\n"
      ],
      "text/plain": [
       "<rich.jupyter.JupyterRenderable at 0x7f0a35f60250>"
      ]
     },
     "metadata": {},
     "output_type": "display_data"
    },
    {
     "data": {
      "text/html": [
       "<pre style=\"white-space:pre;overflow-x:auto;line-height:normal;font-family:Menlo,'DejaVu Sans Mono',consolas,'Courier New',monospace\"><span style=\"color: #7fbfbf\">[09:15:35] </span>METRIC   Round <span style=\"color: #000080; font-weight: bold\">5</span>, collaborator env_eight train result train_loss:        <span style=\"color: #000080; font-weight: bold\">0.080922</span>                                                   <a href=\"file:///home/ubuntu/anaconda3/envs/openfl/lib/python3.8/site-packages/openfl/interface/interactive_api/experiment.py\"><span style=\"color: #7f7f7f\">experiment.py</span></a><span style=\"color: #7f7f7f\">:116</span>\n",
       "</pre>\n"
      ],
      "text/plain": [
       "<rich.jupyter.JupyterRenderable at 0x7f0a35f60160>"
      ]
     },
     "metadata": {},
     "output_type": "display_data"
    },
    {
     "data": {
      "text/html": [
       "<pre style=\"white-space:pre;overflow-x:auto;line-height:normal;font-family:Menlo,'DejaVu Sans Mono',consolas,'Courier New',monospace\"><span style=\"color: #7fbfbf\">[09:15:36] </span>METRIC   Round <span style=\"color: #000080; font-weight: bold\">5</span>, collaborator env_eight locally_tuned_model_validate result acc:        <span style=\"color: #000080; font-weight: bold\">0.944000</span>                                   <a href=\"file:///home/ubuntu/anaconda3/envs/openfl/lib/python3.8/site-packages/openfl/interface/interactive_api/experiment.py\"><span style=\"color: #7f7f7f\">experiment.py</span></a><span style=\"color: #7f7f7f\">:116</span>\n",
       "</pre>\n"
      ],
      "text/plain": [
       "<rich.jupyter.JupyterRenderable at 0x7f0a35f602b0>"
      ]
     },
     "metadata": {},
     "output_type": "display_data"
    },
    {
     "data": {
      "text/html": [
       "<pre style=\"white-space:pre;overflow-x:auto;line-height:normal;font-family:Menlo,'DejaVu Sans Mono',consolas,'Courier New',monospace\"><span style=\"color: #7fbfbf\">           </span>METRIC   Round <span style=\"color: #000080; font-weight: bold\">5</span>, collaborator env_eight aggregated_model_validate result acc:   <span style=\"color: #000080; font-weight: bold\">0.000500</span>                                           <a href=\"file:///home/ubuntu/anaconda3/envs/openfl/lib/python3.8/site-packages/openfl/interface/interactive_api/experiment.py\"><span style=\"color: #7f7f7f\">experiment.py</span></a><span style=\"color: #7f7f7f\">:116</span>\n",
       "</pre>\n"
      ],
      "text/plain": [
       "<rich.jupyter.JupyterRenderable at 0x7f0a35f601c0>"
      ]
     },
     "metadata": {},
     "output_type": "display_data"
    },
    {
     "data": {
      "text/html": [
       "<pre style=\"white-space:pre;overflow-x:auto;line-height:normal;font-family:Menlo,'DejaVu Sans Mono',consolas,'Courier New',monospace\"><span style=\"color: #7fbfbf\">[09:15:43] </span>METRIC   Round <span style=\"color: #000080; font-weight: bold\">5</span>, collaborator env_two train result train_loss:  <span style=\"color: #000080; font-weight: bold\">0.038605</span>                                                           <a href=\"file:///home/ubuntu/anaconda3/envs/openfl/lib/python3.8/site-packages/openfl/interface/interactive_api/experiment.py\"><span style=\"color: #7f7f7f\">experiment.py</span></a><span style=\"color: #7f7f7f\">:116</span>\n",
       "</pre>\n"
      ],
      "text/plain": [
       "<rich.jupyter.JupyterRenderable at 0x7f0a35f60370>"
      ]
     },
     "metadata": {},
     "output_type": "display_data"
    },
    {
     "data": {
      "text/html": [
       "<pre style=\"white-space:pre;overflow-x:auto;line-height:normal;font-family:Menlo,'DejaVu Sans Mono',consolas,'Courier New',monospace\"><span style=\"color: #7fbfbf\">[09:15:44] </span>METRIC   Round <span style=\"color: #000080; font-weight: bold\">5</span>, collaborator env_two locally_tuned_model_validate result acc:  <span style=\"color: #000080; font-weight: bold\">0.969500</span>                                           <a href=\"file:///home/ubuntu/anaconda3/envs/openfl/lib/python3.8/site-packages/openfl/interface/interactive_api/experiment.py\"><span style=\"color: #7f7f7f\">experiment.py</span></a><span style=\"color: #7f7f7f\">:116</span>\n",
       "</pre>\n"
      ],
      "text/plain": [
       "<rich.jupyter.JupyterRenderable at 0x7f0a35f600a0>"
      ]
     },
     "metadata": {},
     "output_type": "display_data"
    },
    {
     "data": {
      "text/html": [
       "<pre style=\"white-space:pre;overflow-x:auto;line-height:normal;font-family:Menlo,'DejaVu Sans Mono',consolas,'Courier New',monospace\"><span style=\"color: #7fbfbf\">           </span>METRIC   Round <span style=\"color: #000080; font-weight: bold\">5</span>, collaborator env_two aggregated_model_validate result acc:     <span style=\"color: #000080; font-weight: bold\">0.000500</span>                                           <a href=\"file:///home/ubuntu/anaconda3/envs/openfl/lib/python3.8/site-packages/openfl/interface/interactive_api/experiment.py\"><span style=\"color: #7f7f7f\">experiment.py</span></a><span style=\"color: #7f7f7f\">:116</span>\n",
       "</pre>\n"
      ],
      "text/plain": [
       "<rich.jupyter.JupyterRenderable at 0x7f0a35f60370>"
      ]
     },
     "metadata": {},
     "output_type": "display_data"
    },
    {
     "data": {
      "text/html": [
       "<pre style=\"white-space:pre;overflow-x:auto;line-height:normal;font-family:Menlo,'DejaVu Sans Mono',consolas,'Courier New',monospace\"><span style=\"color: #7fbfbf\">[09:15:52] </span>METRIC   Round <span style=\"color: #000080; font-weight: bold\">5</span>, collaborator env_ten train result train_loss:  <span style=\"color: #000080; font-weight: bold\">0.050340</span>                                                           <a href=\"file:///home/ubuntu/anaconda3/envs/openfl/lib/python3.8/site-packages/openfl/interface/interactive_api/experiment.py\"><span style=\"color: #7f7f7f\">experiment.py</span></a><span style=\"color: #7f7f7f\">:116</span>\n",
       "</pre>\n"
      ],
      "text/plain": [
       "<rich.jupyter.JupyterRenderable at 0x7f0a35f600a0>"
      ]
     },
     "metadata": {},
     "output_type": "display_data"
    },
    {
     "data": {
      "text/html": [
       "<pre style=\"white-space:pre;overflow-x:auto;line-height:normal;font-family:Menlo,'DejaVu Sans Mono',consolas,'Courier New',monospace\"><span style=\"color: #7fbfbf\">           </span>METRIC   Round <span style=\"color: #000080; font-weight: bold\">5</span>, collaborator env_ten locally_tuned_model_validate result acc:  <span style=\"color: #000080; font-weight: bold\">0.940500</span>                                           <a href=\"file:///home/ubuntu/anaconda3/envs/openfl/lib/python3.8/site-packages/openfl/interface/interactive_api/experiment.py\"><span style=\"color: #7f7f7f\">experiment.py</span></a><span style=\"color: #7f7f7f\">:116</span>\n",
       "</pre>\n"
      ],
      "text/plain": [
       "<rich.jupyter.JupyterRenderable at 0x7f0a35f601f0>"
      ]
     },
     "metadata": {},
     "output_type": "display_data"
    },
    {
     "data": {
      "text/html": [
       "<pre style=\"white-space:pre;overflow-x:auto;line-height:normal;font-family:Menlo,'DejaVu Sans Mono',consolas,'Courier New',monospace\"><span style=\"color: #7fbfbf\">[09:15:53] </span>METRIC   Round <span style=\"color: #000080; font-weight: bold\">5</span>, collaborator env_ten aggregated_model_validate result acc:     <span style=\"color: #000080; font-weight: bold\">0.476500</span>                                           <a href=\"file:///home/ubuntu/anaconda3/envs/openfl/lib/python3.8/site-packages/openfl/interface/interactive_api/experiment.py\"><span style=\"color: #7f7f7f\">experiment.py</span></a><span style=\"color: #7f7f7f\">:116</span>\n",
       "</pre>\n"
      ],
      "text/plain": [
       "<rich.jupyter.JupyterRenderable at 0x7f0a35f60490>"
      ]
     },
     "metadata": {},
     "output_type": "display_data"
    },
    {
     "data": {
      "text/html": [
       "<pre style=\"white-space:pre;overflow-x:auto;line-height:normal;font-family:Menlo,'DejaVu Sans Mono',consolas,'Courier New',monospace\"><span style=\"color: #7fbfbf\">[09:16:25] </span>METRIC   Round <span style=\"color: #000080; font-weight: bold\">5</span>, collaborator env_six train result train_loss:  <span style=\"color: #000080; font-weight: bold\">0.030700</span>                                                           <a href=\"file:///home/ubuntu/anaconda3/envs/openfl/lib/python3.8/site-packages/openfl/interface/interactive_api/experiment.py\"><span style=\"color: #7f7f7f\">experiment.py</span></a><span style=\"color: #7f7f7f\">:116</span>\n",
       "</pre>\n"
      ],
      "text/plain": [
       "<rich.jupyter.JupyterRenderable at 0x7f0a35f601c0>"
      ]
     },
     "metadata": {},
     "output_type": "display_data"
    },
    {
     "data": {
      "text/html": [
       "<pre style=\"white-space:pre;overflow-x:auto;line-height:normal;font-family:Menlo,'DejaVu Sans Mono',consolas,'Courier New',monospace\"><span style=\"color: #7fbfbf\">           </span>METRIC   Round <span style=\"color: #000080; font-weight: bold\">5</span>, collaborator env_six locally_tuned_model_validate result acc:  <span style=\"color: #000080; font-weight: bold\">0.956500</span>                                           <a href=\"file:///home/ubuntu/anaconda3/envs/openfl/lib/python3.8/site-packages/openfl/interface/interactive_api/experiment.py\"><span style=\"color: #7f7f7f\">experiment.py</span></a><span style=\"color: #7f7f7f\">:116</span>\n",
       "</pre>\n"
      ],
      "text/plain": [
       "<rich.jupyter.JupyterRenderable at 0x7f0a35f60490>"
      ]
     },
     "metadata": {},
     "output_type": "display_data"
    },
    {
     "data": {
      "text/html": [
       "<pre style=\"white-space:pre;overflow-x:auto;line-height:normal;font-family:Menlo,'DejaVu Sans Mono',consolas,'Courier New',monospace\"><span style=\"color: #7fbfbf\">[09:16:26] </span>METRIC   Round <span style=\"color: #000080; font-weight: bold\">5</span>, collaborator env_six aggregated_model_validate result acc:     <span style=\"color: #000080; font-weight: bold\">0.950500</span>                                           <a href=\"file:///home/ubuntu/anaconda3/envs/openfl/lib/python3.8/site-packages/openfl/interface/interactive_api/experiment.py\"><span style=\"color: #7f7f7f\">experiment.py</span></a><span style=\"color: #7f7f7f\">:116</span>\n",
       "</pre>\n"
      ],
      "text/plain": [
       "<rich.jupyter.JupyterRenderable at 0x7f0a35f601f0>"
      ]
     },
     "metadata": {},
     "output_type": "display_data"
    },
    {
     "data": {
      "text/html": [
       "<pre style=\"white-space:pre;overflow-x:auto;line-height:normal;font-family:Menlo,'DejaVu Sans Mono',consolas,'Courier New',monospace\"><span style=\"color: #7fbfbf\">[09:16:54] </span>METRIC   Round <span style=\"color: #000080; font-weight: bold\">5</span>, collaborator env_nine train result train_loss: <span style=\"color: #000080; font-weight: bold\">0.105511</span>                                                           <a href=\"file:///home/ubuntu/anaconda3/envs/openfl/lib/python3.8/site-packages/openfl/interface/interactive_api/experiment.py\"><span style=\"color: #7f7f7f\">experiment.py</span></a><span style=\"color: #7f7f7f\">:116</span>\n",
       "</pre>\n"
      ],
      "text/plain": [
       "<rich.jupyter.JupyterRenderable at 0x7f0a35f600d0>"
      ]
     },
     "metadata": {},
     "output_type": "display_data"
    },
    {
     "data": {
      "text/html": [
       "<pre style=\"white-space:pre;overflow-x:auto;line-height:normal;font-family:Menlo,'DejaVu Sans Mono',consolas,'Courier New',monospace\"><span style=\"color: #7fbfbf\">           </span>METRIC   Round <span style=\"color: #000080; font-weight: bold\">5</span>, collaborator env_nine locally_tuned_model_validate result acc: <span style=\"color: #000080; font-weight: bold\">0.862500</span>                                           <a href=\"file:///home/ubuntu/anaconda3/envs/openfl/lib/python3.8/site-packages/openfl/interface/interactive_api/experiment.py\"><span style=\"color: #7f7f7f\">experiment.py</span></a><span style=\"color: #7f7f7f\">:116</span>\n",
       "</pre>\n"
      ],
      "text/plain": [
       "<rich.jupyter.JupyterRenderable at 0x7f0a35f603a0>"
      ]
     },
     "metadata": {},
     "output_type": "display_data"
    },
    {
     "data": {
      "text/html": [
       "<pre style=\"white-space:pre;overflow-x:auto;line-height:normal;font-family:Menlo,'DejaVu Sans Mono',consolas,'Courier New',monospace\"><span style=\"color: #7fbfbf\">[09:16:55] </span>METRIC   Round <span style=\"color: #000080; font-weight: bold\">5</span>, collaborator env_nine aggregated_model_validate result acc:    <span style=\"color: #000080; font-weight: bold\">0.000000</span>                                           <a href=\"file:///home/ubuntu/anaconda3/envs/openfl/lib/python3.8/site-packages/openfl/interface/interactive_api/experiment.py\"><span style=\"color: #7f7f7f\">experiment.py</span></a><span style=\"color: #7f7f7f\">:116</span>\n",
       "</pre>\n"
      ],
      "text/plain": [
       "<rich.jupyter.JupyterRenderable at 0x7f0a35f60490>"
      ]
     },
     "metadata": {},
     "output_type": "display_data"
    },
    {
     "data": {
      "text/html": [
       "<pre style=\"white-space:pre;overflow-x:auto;line-height:normal;font-family:Menlo,'DejaVu Sans Mono',consolas,'Courier New',monospace\"><span style=\"color: #7fbfbf\">[09:17:05] </span>METRIC   Round <span style=\"color: #000080; font-weight: bold\">5</span>, collaborator env_five train result train_loss: <span style=\"color: #000080; font-weight: bold\">0.032586</span>                                                           <a href=\"file:///home/ubuntu/anaconda3/envs/openfl/lib/python3.8/site-packages/openfl/interface/interactive_api/experiment.py\"><span style=\"color: #7f7f7f\">experiment.py</span></a><span style=\"color: #7f7f7f\">:116</span>\n",
       "</pre>\n"
      ],
      "text/plain": [
       "<rich.jupyter.JupyterRenderable at 0x7f0a35f603a0>"
      ]
     },
     "metadata": {},
     "output_type": "display_data"
    },
    {
     "data": {
      "text/html": [
       "<pre style=\"white-space:pre;overflow-x:auto;line-height:normal;font-family:Menlo,'DejaVu Sans Mono',consolas,'Courier New',monospace\"><span style=\"color: #7fbfbf\">[09:17:07] </span>METRIC   Round <span style=\"color: #000080; font-weight: bold\">5</span>, collaborator env_five locally_tuned_model_validate result acc: <span style=\"color: #000080; font-weight: bold\">0.954500</span>                                           <a href=\"file:///home/ubuntu/anaconda3/envs/openfl/lib/python3.8/site-packages/openfl/interface/interactive_api/experiment.py\"><span style=\"color: #7f7f7f\">experiment.py</span></a><span style=\"color: #7f7f7f\">:116</span>\n",
       "</pre>\n"
      ],
      "text/plain": [
       "<rich.jupyter.JupyterRenderable at 0x7f0a35f60190>"
      ]
     },
     "metadata": {},
     "output_type": "display_data"
    },
    {
     "data": {
      "text/html": [
       "<pre style=\"white-space:pre;overflow-x:auto;line-height:normal;font-family:Menlo,'DejaVu Sans Mono',consolas,'Courier New',monospace\"><span style=\"color: #7fbfbf\">           </span>METRIC   Round <span style=\"color: #000080; font-weight: bold\">5</span>, collaborator env_five aggregated_model_validate result acc:    <span style=\"color: #000080; font-weight: bold\">0.635500</span>                                           <a href=\"file:///home/ubuntu/anaconda3/envs/openfl/lib/python3.8/site-packages/openfl/interface/interactive_api/experiment.py\"><span style=\"color: #7f7f7f\">experiment.py</span></a><span style=\"color: #7f7f7f\">:116</span>\n",
       "</pre>\n"
      ],
      "text/plain": [
       "<rich.jupyter.JupyterRenderable at 0x7f0a35f60370>"
      ]
     },
     "metadata": {},
     "output_type": "display_data"
    },
    {
     "data": {
      "text/html": [
       "<pre style=\"white-space:pre;overflow-x:auto;line-height:normal;font-family:Menlo,'DejaVu Sans Mono',consolas,'Courier New',monospace\"><span style=\"color: #7fbfbf\">[09:17:19] </span>METRIC   Round <span style=\"color: #000080; font-weight: bold\">5</span>, collaborator Aggregator train result train_loss:       <span style=\"color: #000080; font-weight: bold\">0.058629</span>                                                   <a href=\"file:///home/ubuntu/anaconda3/envs/openfl/lib/python3.8/site-packages/openfl/interface/interactive_api/experiment.py\"><span style=\"color: #7f7f7f\">experiment.py</span></a><span style=\"color: #7f7f7f\">:116</span>\n",
       "</pre>\n"
      ],
      "text/plain": [
       "<rich.jupyter.JupyterRenderable at 0x7f0a35f60490>"
      ]
     },
     "metadata": {},
     "output_type": "display_data"
    },
    {
     "data": {
      "text/html": [
       "<pre style=\"white-space:pre;overflow-x:auto;line-height:normal;font-family:Menlo,'DejaVu Sans Mono',consolas,'Courier New',monospace\"><span style=\"color: #7fbfbf\">           </span>METRIC   Round <span style=\"color: #000080; font-weight: bold\">5</span>, collaborator Aggregator locally_tuned_model_validate result acc:       <span style=\"color: #000080; font-weight: bold\">0.937750</span>                                   <a href=\"file:///home/ubuntu/anaconda3/envs/openfl/lib/python3.8/site-packages/openfl/interface/interactive_api/experiment.py\"><span style=\"color: #7f7f7f\">experiment.py</span></a><span style=\"color: #7f7f7f\">:116</span>\n",
       "</pre>\n"
      ],
      "text/plain": [
       "<rich.jupyter.JupyterRenderable at 0x7f0a35f60370>"
      ]
     },
     "metadata": {},
     "output_type": "display_data"
    },
    {
     "data": {
      "text/html": [
       "<pre style=\"white-space:pre;overflow-x:auto;line-height:normal;font-family:Menlo,'DejaVu Sans Mono',consolas,'Courier New',monospace\"><span style=\"color: #7fbfbf\">           </span>METRIC   Round <span style=\"color: #000080; font-weight: bold\">5</span>, collaborator Aggregator aggregated_model_validate result acc:  <span style=\"color: #000080; font-weight: bold\">0.412150</span>                                           <a href=\"file:///home/ubuntu/anaconda3/envs/openfl/lib/python3.8/site-packages/openfl/interface/interactive_api/experiment.py\"><span style=\"color: #7f7f7f\">experiment.py</span></a><span style=\"color: #7f7f7f\">:116</span>\n",
       "</pre>\n"
      ],
      "text/plain": [
       "<rich.jupyter.JupyterRenderable at 0x7f0a35f60c10>"
      ]
     },
     "metadata": {},
     "output_type": "display_data"
    },
    {
     "data": {
      "text/html": [
       "<pre style=\"white-space:pre;overflow-x:auto;line-height:normal;font-family:Menlo,'DejaVu Sans Mono',consolas,'Courier New',monospace\"><span style=\"color: #7fbfbf\">[09:18:32] </span>METRIC   Round <span style=\"color: #000080; font-weight: bold\">6</span>, collaborator env_one train result train_loss:  <span style=\"color: #000080; font-weight: bold\">0.032391</span>                                                           <a href=\"file:///home/ubuntu/anaconda3/envs/openfl/lib/python3.8/site-packages/openfl/interface/interactive_api/experiment.py\"><span style=\"color: #7f7f7f\">experiment.py</span></a><span style=\"color: #7f7f7f\">:116</span>\n",
       "</pre>\n"
      ],
      "text/plain": [
       "<rich.jupyter.JupyterRenderable at 0x7f0a35f60df0>"
      ]
     },
     "metadata": {},
     "output_type": "display_data"
    },
    {
     "data": {
      "text/html": [
       "<pre style=\"white-space:pre;overflow-x:auto;line-height:normal;font-family:Menlo,'DejaVu Sans Mono',consolas,'Courier New',monospace\"><span style=\"color: #7fbfbf\">           </span>METRIC   Round <span style=\"color: #000080; font-weight: bold\">6</span>, collaborator env_one locally_tuned_model_validate result acc:  <span style=\"color: #000080; font-weight: bold\">0.962000</span>                                           <a href=\"file:///home/ubuntu/anaconda3/envs/openfl/lib/python3.8/site-packages/openfl/interface/interactive_api/experiment.py\"><span style=\"color: #7f7f7f\">experiment.py</span></a><span style=\"color: #7f7f7f\">:116</span>\n",
       "</pre>\n"
      ],
      "text/plain": [
       "<rich.jupyter.JupyterRenderable at 0x7f0a35f603d0>"
      ]
     },
     "metadata": {},
     "output_type": "display_data"
    },
    {
     "data": {
      "text/html": [
       "<pre style=\"white-space:pre;overflow-x:auto;line-height:normal;font-family:Menlo,'DejaVu Sans Mono',consolas,'Courier New',monospace\"><span style=\"color: #7fbfbf\">[09:18:33] </span>METRIC   Round <span style=\"color: #000080; font-weight: bold\">6</span>, collaborator env_one aggregated_model_validate result acc:     <span style=\"color: #000080; font-weight: bold\">0.333500</span>                                           <a href=\"file:///home/ubuntu/anaconda3/envs/openfl/lib/python3.8/site-packages/openfl/interface/interactive_api/experiment.py\"><span style=\"color: #7f7f7f\">experiment.py</span></a><span style=\"color: #7f7f7f\">:116</span>\n",
       "</pre>\n"
      ],
      "text/plain": [
       "<rich.jupyter.JupyterRenderable at 0x7f0a35f60040>"
      ]
     },
     "metadata": {},
     "output_type": "display_data"
    },
    {
     "data": {
      "text/html": [
       "<pre style=\"white-space:pre;overflow-x:auto;line-height:normal;font-family:Menlo,'DejaVu Sans Mono',consolas,'Courier New',monospace\"><span style=\"color: #7fbfbf\">[09:18:38] </span>METRIC   Round <span style=\"color: #000080; font-weight: bold\">6</span>, collaborator env_seven train result train_loss:        <span style=\"color: #000080; font-weight: bold\">0.125105</span>                                                   <a href=\"file:///home/ubuntu/anaconda3/envs/openfl/lib/python3.8/site-packages/openfl/interface/interactive_api/experiment.py\"><span style=\"color: #7f7f7f\">experiment.py</span></a><span style=\"color: #7f7f7f\">:116</span>\n",
       "</pre>\n"
      ],
      "text/plain": [
       "<rich.jupyter.JupyterRenderable at 0x7f0a35f60c10>"
      ]
     },
     "metadata": {},
     "output_type": "display_data"
    },
    {
     "data": {
      "text/html": [
       "<pre style=\"white-space:pre;overflow-x:auto;line-height:normal;font-family:Menlo,'DejaVu Sans Mono',consolas,'Courier New',monospace\"><span style=\"color: #7fbfbf\">[09:18:39] </span>METRIC   Round <span style=\"color: #000080; font-weight: bold\">6</span>, collaborator env_seven locally_tuned_model_validate result acc:        <span style=\"color: #000080; font-weight: bold\">0.885500</span>                                   <a href=\"file:///home/ubuntu/anaconda3/envs/openfl/lib/python3.8/site-packages/openfl/interface/interactive_api/experiment.py\"><span style=\"color: #7f7f7f\">experiment.py</span></a><span style=\"color: #7f7f7f\">:116</span>\n",
       "</pre>\n"
      ],
      "text/plain": [
       "<rich.jupyter.JupyterRenderable at 0x7f0a35f60490>"
      ]
     },
     "metadata": {},
     "output_type": "display_data"
    },
    {
     "data": {
      "text/html": [
       "<pre style=\"white-space:pre;overflow-x:auto;line-height:normal;font-family:Menlo,'DejaVu Sans Mono',consolas,'Courier New',monospace\"><span style=\"color: #7fbfbf\">           </span>METRIC   Round <span style=\"color: #000080; font-weight: bold\">6</span>, collaborator env_seven aggregated_model_validate result acc:   <span style=\"color: #000080; font-weight: bold\">0.086500</span>                                           <a href=\"file:///home/ubuntu/anaconda3/envs/openfl/lib/python3.8/site-packages/openfl/interface/interactive_api/experiment.py\"><span style=\"color: #7f7f7f\">experiment.py</span></a><span style=\"color: #7f7f7f\">:116</span>\n",
       "</pre>\n"
      ],
      "text/plain": [
       "<rich.jupyter.JupyterRenderable at 0x7f0a35f601f0>"
      ]
     },
     "metadata": {},
     "output_type": "display_data"
    },
    {
     "data": {
      "text/html": [
       "<pre style=\"white-space:pre;overflow-x:auto;line-height:normal;font-family:Menlo,'DejaVu Sans Mono',consolas,'Courier New',monospace\"><span style=\"color: #7fbfbf\">[09:18:41] </span>METRIC   Round <span style=\"color: #000080; font-weight: bold\">6</span>, collaborator env_four train result train_loss: <span style=\"color: #000080; font-weight: bold\">0.040165</span>                                                           <a href=\"file:///home/ubuntu/anaconda3/envs/openfl/lib/python3.8/site-packages/openfl/interface/interactive_api/experiment.py\"><span style=\"color: #7f7f7f\">experiment.py</span></a><span style=\"color: #7f7f7f\">:116</span>\n",
       "</pre>\n"
      ],
      "text/plain": [
       "<rich.jupyter.JupyterRenderable at 0x7f0a35f601c0>"
      ]
     },
     "metadata": {},
     "output_type": "display_data"
    },
    {
     "data": {
      "text/html": [
       "<pre style=\"white-space:pre;overflow-x:auto;line-height:normal;font-family:Menlo,'DejaVu Sans Mono',consolas,'Courier New',monospace\"><span style=\"color: #7fbfbf\">           </span>METRIC   Round <span style=\"color: #000080; font-weight: bold\">6</span>, collaborator env_four locally_tuned_model_validate result acc: <span style=\"color: #000080; font-weight: bold\">0.955000</span>                                           <a href=\"file:///home/ubuntu/anaconda3/envs/openfl/lib/python3.8/site-packages/openfl/interface/interactive_api/experiment.py\"><span style=\"color: #7f7f7f\">experiment.py</span></a><span style=\"color: #7f7f7f\">:116</span>\n",
       "</pre>\n"
      ],
      "text/plain": [
       "<rich.jupyter.JupyterRenderable at 0x7f0a35f60070>"
      ]
     },
     "metadata": {},
     "output_type": "display_data"
    },
    {
     "data": {
      "text/html": [
       "<pre style=\"white-space:pre;overflow-x:auto;line-height:normal;font-family:Menlo,'DejaVu Sans Mono',consolas,'Courier New',monospace\"><span style=\"color: #7fbfbf\">[09:18:42] </span>METRIC   Round <span style=\"color: #000080; font-weight: bold\">6</span>, collaborator env_four aggregated_model_validate result acc:    <span style=\"color: #000080; font-weight: bold\">0.000000</span>                                           <a href=\"file:///home/ubuntu/anaconda3/envs/openfl/lib/python3.8/site-packages/openfl/interface/interactive_api/experiment.py\"><span style=\"color: #7f7f7f\">experiment.py</span></a><span style=\"color: #7f7f7f\">:116</span>\n",
       "</pre>\n"
      ],
      "text/plain": [
       "<rich.jupyter.JupyterRenderable at 0x7f0a35f60b50>"
      ]
     },
     "metadata": {},
     "output_type": "display_data"
    },
    {
     "data": {
      "text/html": [
       "<pre style=\"white-space:pre;overflow-x:auto;line-height:normal;font-family:Menlo,'DejaVu Sans Mono',consolas,'Courier New',monospace\"><span style=\"color: #7fbfbf\">[09:18:59] </span>METRIC   Round <span style=\"color: #000080; font-weight: bold\">6</span>, collaborator env_three train result train_loss:        <span style=\"color: #000080; font-weight: bold\">0.039869</span>                                                   <a href=\"file:///home/ubuntu/anaconda3/envs/openfl/lib/python3.8/site-packages/openfl/interface/interactive_api/experiment.py\"><span style=\"color: #7f7f7f\">experiment.py</span></a><span style=\"color: #7f7f7f\">:116</span>\n",
       "</pre>\n"
      ],
      "text/plain": [
       "<rich.jupyter.JupyterRenderable at 0x7f0a35f60c10>"
      ]
     },
     "metadata": {},
     "output_type": "display_data"
    },
    {
     "data": {
      "text/html": [
       "<pre style=\"white-space:pre;overflow-x:auto;line-height:normal;font-family:Menlo,'DejaVu Sans Mono',consolas,'Courier New',monospace\"><span style=\"color: #7fbfbf\">           </span>METRIC   Round <span style=\"color: #000080; font-weight: bold\">6</span>, collaborator env_three locally_tuned_model_validate result acc:        <span style=\"color: #000080; font-weight: bold\">0.970500</span>                                   <a href=\"file:///home/ubuntu/anaconda3/envs/openfl/lib/python3.8/site-packages/openfl/interface/interactive_api/experiment.py\"><span style=\"color: #7f7f7f\">experiment.py</span></a><span style=\"color: #7f7f7f\">:116</span>\n",
       "</pre>\n"
      ],
      "text/plain": [
       "<rich.jupyter.JupyterRenderable at 0x7f0a35f60b50>"
      ]
     },
     "metadata": {},
     "output_type": "display_data"
    },
    {
     "data": {
      "text/html": [
       "<pre style=\"white-space:pre;overflow-x:auto;line-height:normal;font-family:Menlo,'DejaVu Sans Mono',consolas,'Courier New',monospace\"><span style=\"color: #7fbfbf\">[09:19:00] </span>METRIC   Round <span style=\"color: #000080; font-weight: bold\">6</span>, collaborator env_three aggregated_model_validate result acc:   <span style=\"color: #000080; font-weight: bold\">0.438500</span>                                           <a href=\"file:///home/ubuntu/anaconda3/envs/openfl/lib/python3.8/site-packages/openfl/interface/interactive_api/experiment.py\"><span style=\"color: #7f7f7f\">experiment.py</span></a><span style=\"color: #7f7f7f\">:116</span>\n",
       "</pre>\n"
      ],
      "text/plain": [
       "<rich.jupyter.JupyterRenderable at 0x7f0a35f60070>"
      ]
     },
     "metadata": {},
     "output_type": "display_data"
    },
    {
     "data": {
      "text/html": [
       "<pre style=\"white-space:pre;overflow-x:auto;line-height:normal;font-family:Menlo,'DejaVu Sans Mono',consolas,'Courier New',monospace\"><span style=\"color: #7fbfbf\">           </span>METRIC   Round <span style=\"color: #000080; font-weight: bold\">6</span>, collaborator env_eight train result train_loss:        <span style=\"color: #000080; font-weight: bold\">0.066155</span>                                                   <a href=\"file:///home/ubuntu/anaconda3/envs/openfl/lib/python3.8/site-packages/openfl/interface/interactive_api/experiment.py\"><span style=\"color: #7f7f7f\">experiment.py</span></a><span style=\"color: #7f7f7f\">:116</span>\n",
       "</pre>\n"
      ],
      "text/plain": [
       "<rich.jupyter.JupyterRenderable at 0x7f0a35f60190>"
      ]
     },
     "metadata": {},
     "output_type": "display_data"
    },
    {
     "data": {
      "text/html": [
       "<pre style=\"white-space:pre;overflow-x:auto;line-height:normal;font-family:Menlo,'DejaVu Sans Mono',consolas,'Courier New',monospace\"><span style=\"color: #7fbfbf\">[09:19:01] </span>METRIC   Round <span style=\"color: #000080; font-weight: bold\">6</span>, collaborator env_eight locally_tuned_model_validate result acc:        <span style=\"color: #000080; font-weight: bold\">0.941500</span>                                   <a href=\"file:///home/ubuntu/anaconda3/envs/openfl/lib/python3.8/site-packages/openfl/interface/interactive_api/experiment.py\"><span style=\"color: #7f7f7f\">experiment.py</span></a><span style=\"color: #7f7f7f\">:116</span>\n",
       "</pre>\n"
      ],
      "text/plain": [
       "<rich.jupyter.JupyterRenderable at 0x7f0a35f60250>"
      ]
     },
     "metadata": {},
     "output_type": "display_data"
    },
    {
     "data": {
      "text/html": [
       "<pre style=\"white-space:pre;overflow-x:auto;line-height:normal;font-family:Menlo,'DejaVu Sans Mono',consolas,'Courier New',monospace\"><span style=\"color: #7fbfbf\">           </span>METRIC   Round <span style=\"color: #000080; font-weight: bold\">6</span>, collaborator env_eight aggregated_model_validate result acc:   <span style=\"color: #000080; font-weight: bold\">0.439000</span>                                           <a href=\"file:///home/ubuntu/anaconda3/envs/openfl/lib/python3.8/site-packages/openfl/interface/interactive_api/experiment.py\"><span style=\"color: #7f7f7f\">experiment.py</span></a><span style=\"color: #7f7f7f\">:116</span>\n",
       "</pre>\n"
      ],
      "text/plain": [
       "<rich.jupyter.JupyterRenderable at 0x7f0a35f60b50>"
      ]
     },
     "metadata": {},
     "output_type": "display_data"
    },
    {
     "data": {
      "text/html": [
       "<pre style=\"white-space:pre;overflow-x:auto;line-height:normal;font-family:Menlo,'DejaVu Sans Mono',consolas,'Courier New',monospace\"><span style=\"color: #7fbfbf\">[09:19:10] </span>METRIC   Round <span style=\"color: #000080; font-weight: bold\">6</span>, collaborator env_two train result train_loss:  <span style=\"color: #000080; font-weight: bold\">0.030423</span>                                                           <a href=\"file:///home/ubuntu/anaconda3/envs/openfl/lib/python3.8/site-packages/openfl/interface/interactive_api/experiment.py\"><span style=\"color: #7f7f7f\">experiment.py</span></a><span style=\"color: #7f7f7f\">:116</span>\n",
       "</pre>\n"
      ],
      "text/plain": [
       "<rich.jupyter.JupyterRenderable at 0x7f0a35f601c0>"
      ]
     },
     "metadata": {},
     "output_type": "display_data"
    },
    {
     "data": {
      "text/html": [
       "<pre style=\"white-space:pre;overflow-x:auto;line-height:normal;font-family:Menlo,'DejaVu Sans Mono',consolas,'Courier New',monospace\"><span style=\"color: #7fbfbf\">           </span>METRIC   Round <span style=\"color: #000080; font-weight: bold\">6</span>, collaborator env_two locally_tuned_model_validate result acc:  <span style=\"color: #000080; font-weight: bold\">0.972000</span>                                           <a href=\"file:///home/ubuntu/anaconda3/envs/openfl/lib/python3.8/site-packages/openfl/interface/interactive_api/experiment.py\"><span style=\"color: #7f7f7f\">experiment.py</span></a><span style=\"color: #7f7f7f\">:116</span>\n",
       "</pre>\n"
      ],
      "text/plain": [
       "<rich.jupyter.JupyterRenderable at 0x7f0a35f60280>"
      ]
     },
     "metadata": {},
     "output_type": "display_data"
    },
    {
     "data": {
      "text/html": [
       "<pre style=\"white-space:pre;overflow-x:auto;line-height:normal;font-family:Menlo,'DejaVu Sans Mono',consolas,'Courier New',monospace\"><span style=\"color: #7fbfbf\">[09:19:11] </span>METRIC   Round <span style=\"color: #000080; font-weight: bold\">6</span>, collaborator env_two aggregated_model_validate result acc:     <span style=\"color: #000080; font-weight: bold\">0.811500</span>                                           <a href=\"file:///home/ubuntu/anaconda3/envs/openfl/lib/python3.8/site-packages/openfl/interface/interactive_api/experiment.py\"><span style=\"color: #7f7f7f\">experiment.py</span></a><span style=\"color: #7f7f7f\">:116</span>\n",
       "</pre>\n"
      ],
      "text/plain": [
       "<rich.jupyter.JupyterRenderable at 0x7f0a35f60df0>"
      ]
     },
     "metadata": {},
     "output_type": "display_data"
    },
    {
     "data": {
      "text/html": [
       "<pre style=\"white-space:pre;overflow-x:auto;line-height:normal;font-family:Menlo,'DejaVu Sans Mono',consolas,'Courier New',monospace\"><span style=\"color: #7fbfbf\">[09:19:19] </span>METRIC   Round <span style=\"color: #000080; font-weight: bold\">6</span>, collaborator env_ten train result train_loss:  <span style=\"color: #000080; font-weight: bold\">0.041603</span>                                                           <a href=\"file:///home/ubuntu/anaconda3/envs/openfl/lib/python3.8/site-packages/openfl/interface/interactive_api/experiment.py\"><span style=\"color: #7f7f7f\">experiment.py</span></a><span style=\"color: #7f7f7f\">:116</span>\n",
       "</pre>\n"
      ],
      "text/plain": [
       "<rich.jupyter.JupyterRenderable at 0x7f0a35f60370>"
      ]
     },
     "metadata": {},
     "output_type": "display_data"
    },
    {
     "data": {
      "text/html": [
       "<pre style=\"white-space:pre;overflow-x:auto;line-height:normal;font-family:Menlo,'DejaVu Sans Mono',consolas,'Courier New',monospace\"><span style=\"color: #7fbfbf\">[09:19:20] </span>METRIC   Round <span style=\"color: #000080; font-weight: bold\">6</span>, collaborator env_ten locally_tuned_model_validate result acc:  <span style=\"color: #000080; font-weight: bold\">0.946000</span>                                           <a href=\"file:///home/ubuntu/anaconda3/envs/openfl/lib/python3.8/site-packages/openfl/interface/interactive_api/experiment.py\"><span style=\"color: #7f7f7f\">experiment.py</span></a><span style=\"color: #7f7f7f\">:116</span>\n",
       "</pre>\n"
      ],
      "text/plain": [
       "<rich.jupyter.JupyterRenderable at 0x7f0a35f601f0>"
      ]
     },
     "metadata": {},
     "output_type": "display_data"
    },
    {
     "data": {
      "text/html": [
       "<pre style=\"white-space:pre;overflow-x:auto;line-height:normal;font-family:Menlo,'DejaVu Sans Mono',consolas,'Courier New',monospace\"><span style=\"color: #7fbfbf\">[09:19:21] </span>METRIC   Round <span style=\"color: #000080; font-weight: bold\">6</span>, collaborator env_ten aggregated_model_validate result acc:     <span style=\"color: #000080; font-weight: bold\">0.726000</span>                                           <a href=\"file:///home/ubuntu/anaconda3/envs/openfl/lib/python3.8/site-packages/openfl/interface/interactive_api/experiment.py\"><span style=\"color: #7f7f7f\">experiment.py</span></a><span style=\"color: #7f7f7f\">:116</span>\n",
       "</pre>\n"
      ],
      "text/plain": [
       "<rich.jupyter.JupyterRenderable at 0x7f0a35f60a90>"
      ]
     },
     "metadata": {},
     "output_type": "display_data"
    },
    {
     "data": {
      "text/html": [
       "<pre style=\"white-space:pre;overflow-x:auto;line-height:normal;font-family:Menlo,'DejaVu Sans Mono',consolas,'Courier New',monospace\"><span style=\"color: #7fbfbf\">[09:19:32] </span>METRIC   Round <span style=\"color: #000080; font-weight: bold\">6</span>, collaborator env_five train result train_loss: <span style=\"color: #000080; font-weight: bold\">0.029021</span>                                                           <a href=\"file:///home/ubuntu/anaconda3/envs/openfl/lib/python3.8/site-packages/openfl/interface/interactive_api/experiment.py\"><span style=\"color: #7f7f7f\">experiment.py</span></a><span style=\"color: #7f7f7f\">:116</span>\n",
       "</pre>\n"
      ],
      "text/plain": [
       "<rich.jupyter.JupyterRenderable at 0x7f0a35f601c0>"
      ]
     },
     "metadata": {},
     "output_type": "display_data"
    },
    {
     "data": {
      "text/html": [
       "<pre style=\"white-space:pre;overflow-x:auto;line-height:normal;font-family:Menlo,'DejaVu Sans Mono',consolas,'Courier New',monospace\"><span style=\"color: #7fbfbf\">           </span>METRIC   Round <span style=\"color: #000080; font-weight: bold\">6</span>, collaborator env_five locally_tuned_model_validate result acc: <span style=\"color: #000080; font-weight: bold\">0.967500</span>                                           <a href=\"file:///home/ubuntu/anaconda3/envs/openfl/lib/python3.8/site-packages/openfl/interface/interactive_api/experiment.py\"><span style=\"color: #7f7f7f\">experiment.py</span></a><span style=\"color: #7f7f7f\">:116</span>\n",
       "</pre>\n"
      ],
      "text/plain": [
       "<rich.jupyter.JupyterRenderable at 0x7f0a35f60160>"
      ]
     },
     "metadata": {},
     "output_type": "display_data"
    },
    {
     "data": {
      "text/html": [
       "<pre style=\"white-space:pre;overflow-x:auto;line-height:normal;font-family:Menlo,'DejaVu Sans Mono',consolas,'Courier New',monospace\"><span style=\"color: #7fbfbf\">[09:19:33] </span>METRIC   Round <span style=\"color: #000080; font-weight: bold\">6</span>, collaborator env_five aggregated_model_validate result acc:    <span style=\"color: #000080; font-weight: bold\">0.420000</span>                                           <a href=\"file:///home/ubuntu/anaconda3/envs/openfl/lib/python3.8/site-packages/openfl/interface/interactive_api/experiment.py\"><span style=\"color: #7f7f7f\">experiment.py</span></a><span style=\"color: #7f7f7f\">:116</span>\n",
       "</pre>\n"
      ],
      "text/plain": [
       "<rich.jupyter.JupyterRenderable at 0x7f0a35f60490>"
      ]
     },
     "metadata": {},
     "output_type": "display_data"
    },
    {
     "data": {
      "text/html": [
       "<pre style=\"white-space:pre;overflow-x:auto;line-height:normal;font-family:Menlo,'DejaVu Sans Mono',consolas,'Courier New',monospace\"><span style=\"color: #7fbfbf\">[09:19:52] </span>METRIC   Round <span style=\"color: #000080; font-weight: bold\">6</span>, collaborator env_six train result train_loss:  <span style=\"color: #000080; font-weight: bold\">0.027410</span>                                                           <a href=\"file:///home/ubuntu/anaconda3/envs/openfl/lib/python3.8/site-packages/openfl/interface/interactive_api/experiment.py\"><span style=\"color: #7f7f7f\">experiment.py</span></a><span style=\"color: #7f7f7f\">:116</span>\n",
       "</pre>\n"
      ],
      "text/plain": [
       "<rich.jupyter.JupyterRenderable at 0x7f0a35f60c10>"
      ]
     },
     "metadata": {},
     "output_type": "display_data"
    },
    {
     "data": {
      "text/html": [
       "<pre style=\"white-space:pre;overflow-x:auto;line-height:normal;font-family:Menlo,'DejaVu Sans Mono',consolas,'Courier New',monospace\"><span style=\"color: #7fbfbf\">[09:19:53] </span>METRIC   Round <span style=\"color: #000080; font-weight: bold\">6</span>, collaborator env_six locally_tuned_model_validate result acc:  <span style=\"color: #000080; font-weight: bold\">0.959000</span>                                           <a href=\"file:///home/ubuntu/anaconda3/envs/openfl/lib/python3.8/site-packages/openfl/interface/interactive_api/experiment.py\"><span style=\"color: #7f7f7f\">experiment.py</span></a><span style=\"color: #7f7f7f\">:116</span>\n",
       "</pre>\n"
      ],
      "text/plain": [
       "<rich.jupyter.JupyterRenderable at 0x7f0a35f60250>"
      ]
     },
     "metadata": {},
     "output_type": "display_data"
    },
    {
     "data": {
      "text/html": [
       "<pre style=\"white-space:pre;overflow-x:auto;line-height:normal;font-family:Menlo,'DejaVu Sans Mono',consolas,'Courier New',monospace\"><span style=\"color: #7fbfbf\">           </span>METRIC   Round <span style=\"color: #000080; font-weight: bold\">6</span>, collaborator env_six aggregated_model_validate result acc:     <span style=\"color: #000080; font-weight: bold\">0.333500</span>                                           <a href=\"file:///home/ubuntu/anaconda3/envs/openfl/lib/python3.8/site-packages/openfl/interface/interactive_api/experiment.py\"><span style=\"color: #7f7f7f\">experiment.py</span></a><span style=\"color: #7f7f7f\">:116</span>\n",
       "</pre>\n"
      ],
      "text/plain": [
       "<rich.jupyter.JupyterRenderable at 0x7f0a35f60a90>"
      ]
     },
     "metadata": {},
     "output_type": "display_data"
    },
    {
     "data": {
      "text/html": [
       "<pre style=\"white-space:pre;overflow-x:auto;line-height:normal;font-family:Menlo,'DejaVu Sans Mono',consolas,'Courier New',monospace\"><span style=\"color: #7fbfbf\">[09:20:16] </span>METRIC   Round <span style=\"color: #000080; font-weight: bold\">6</span>, collaborator env_nine train result train_loss: <span style=\"color: #000080; font-weight: bold\">0.090858</span>                                                           <a href=\"file:///home/ubuntu/anaconda3/envs/openfl/lib/python3.8/site-packages/openfl/interface/interactive_api/experiment.py\"><span style=\"color: #7f7f7f\">experiment.py</span></a><span style=\"color: #7f7f7f\">:116</span>\n",
       "</pre>\n"
      ],
      "text/plain": [
       "<rich.jupyter.JupyterRenderable at 0x7f0a35f60df0>"
      ]
     },
     "metadata": {},
     "output_type": "display_data"
    },
    {
     "data": {
      "text/html": [
       "<pre style=\"white-space:pre;overflow-x:auto;line-height:normal;font-family:Menlo,'DejaVu Sans Mono',consolas,'Courier New',monospace\"><span style=\"color: #7fbfbf\">           </span>METRIC   Round <span style=\"color: #000080; font-weight: bold\">6</span>, collaborator env_nine locally_tuned_model_validate result acc: <span style=\"color: #000080; font-weight: bold\">0.863500</span>                                           <a href=\"file:///home/ubuntu/anaconda3/envs/openfl/lib/python3.8/site-packages/openfl/interface/interactive_api/experiment.py\"><span style=\"color: #7f7f7f\">experiment.py</span></a><span style=\"color: #7f7f7f\">:116</span>\n",
       "</pre>\n"
      ],
      "text/plain": [
       "<rich.jupyter.JupyterRenderable at 0x7f0a35f60a90>"
      ]
     },
     "metadata": {},
     "output_type": "display_data"
    },
    {
     "data": {
      "text/html": [
       "<pre style=\"white-space:pre;overflow-x:auto;line-height:normal;font-family:Menlo,'DejaVu Sans Mono',consolas,'Courier New',monospace\"><span style=\"color: #7fbfbf\">[09:20:17] </span>METRIC   Round <span style=\"color: #000080; font-weight: bold\">6</span>, collaborator env_nine aggregated_model_validate result acc:    <span style=\"color: #000080; font-weight: bold\">0.765500</span>                                           <a href=\"file:///home/ubuntu/anaconda3/envs/openfl/lib/python3.8/site-packages/openfl/interface/interactive_api/experiment.py\"><span style=\"color: #7f7f7f\">experiment.py</span></a><span style=\"color: #7f7f7f\">:116</span>\n",
       "</pre>\n"
      ],
      "text/plain": [
       "<rich.jupyter.JupyterRenderable at 0x7f0a35f60df0>"
      ]
     },
     "metadata": {},
     "output_type": "display_data"
    },
    {
     "data": {
      "text/html": [
       "<pre style=\"white-space:pre;overflow-x:auto;line-height:normal;font-family:Menlo,'DejaVu Sans Mono',consolas,'Courier New',monospace\"><span style=\"color: #7fbfbf\">[09:20:29] </span>METRIC   Round <span style=\"color: #000080; font-weight: bold\">6</span>, collaborator Aggregator train result train_loss:       <span style=\"color: #000080; font-weight: bold\">0.050750</span>                                                   <a href=\"file:///home/ubuntu/anaconda3/envs/openfl/lib/python3.8/site-packages/openfl/interface/interactive_api/experiment.py\"><span style=\"color: #7f7f7f\">experiment.py</span></a><span style=\"color: #7f7f7f\">:116</span>\n",
       "</pre>\n"
      ],
      "text/plain": [
       "<rich.jupyter.JupyterRenderable at 0x7f0a35f60490>"
      ]
     },
     "metadata": {},
     "output_type": "display_data"
    },
    {
     "data": {
      "text/html": [
       "<pre style=\"white-space:pre;overflow-x:auto;line-height:normal;font-family:Menlo,'DejaVu Sans Mono',consolas,'Courier New',monospace\"><span style=\"color: #7fbfbf\">           </span>METRIC   Round <span style=\"color: #000080; font-weight: bold\">6</span>, collaborator Aggregator locally_tuned_model_validate result acc:       <span style=\"color: #000080; font-weight: bold\">0.942250</span>                                   <a href=\"file:///home/ubuntu/anaconda3/envs/openfl/lib/python3.8/site-packages/openfl/interface/interactive_api/experiment.py\"><span style=\"color: #7f7f7f\">experiment.py</span></a><span style=\"color: #7f7f7f\">:116</span>\n",
       "</pre>\n"
      ],
      "text/plain": [
       "<rich.jupyter.JupyterRenderable at 0x7f0a35f60df0>"
      ]
     },
     "metadata": {},
     "output_type": "display_data"
    },
    {
     "data": {
      "text/html": [
       "<pre style=\"white-space:pre;overflow-x:auto;line-height:normal;font-family:Menlo,'DejaVu Sans Mono',consolas,'Courier New',monospace\"><span style=\"color: #7fbfbf\">           </span>METRIC   Round <span style=\"color: #000080; font-weight: bold\">6</span>, collaborator Aggregator aggregated_model_validate result acc:  <span style=\"color: #000080; font-weight: bold\">0.435400</span>                                           <a href=\"file:///home/ubuntu/anaconda3/envs/openfl/lib/python3.8/site-packages/openfl/interface/interactive_api/experiment.py\"><span style=\"color: #7f7f7f\">experiment.py</span></a><span style=\"color: #7f7f7f\">:116</span>\n",
       "</pre>\n"
      ],
      "text/plain": [
       "<rich.jupyter.JupyterRenderable at 0x7f0a35f60a90>"
      ]
     },
     "metadata": {},
     "output_type": "display_data"
    },
    {
     "data": {
      "text/html": [
       "<pre style=\"white-space:pre;overflow-x:auto;line-height:normal;font-family:Menlo,'DejaVu Sans Mono',consolas,'Courier New',monospace\"><span style=\"color: #7fbfbf\">[09:21:46] </span>METRIC   Round <span style=\"color: #000080; font-weight: bold\">7</span>, collaborator env_seven train result train_loss:        <span style=\"color: #000080; font-weight: bold\">0.114379</span>                                                   <a href=\"file:///home/ubuntu/anaconda3/envs/openfl/lib/python3.8/site-packages/openfl/interface/interactive_api/experiment.py\"><span style=\"color: #7f7f7f\">experiment.py</span></a><span style=\"color: #7f7f7f\">:116</span>\n",
       "</pre>\n"
      ],
      "text/plain": [
       "<rich.jupyter.JupyterRenderable at 0x7f0a35f601c0>"
      ]
     },
     "metadata": {},
     "output_type": "display_data"
    },
    {
     "data": {
      "text/html": [
       "<pre style=\"white-space:pre;overflow-x:auto;line-height:normal;font-family:Menlo,'DejaVu Sans Mono',consolas,'Courier New',monospace\"><span style=\"color: #7fbfbf\">[09:21:47] </span>METRIC   Round <span style=\"color: #000080; font-weight: bold\">7</span>, collaborator env_seven locally_tuned_model_validate result acc:        <span style=\"color: #000080; font-weight: bold\">0.880000</span>                                   <a href=\"file:///home/ubuntu/anaconda3/envs/openfl/lib/python3.8/site-packages/openfl/interface/interactive_api/experiment.py\"><span style=\"color: #7f7f7f\">experiment.py</span></a><span style=\"color: #7f7f7f\">:116</span>\n",
       "</pre>\n"
      ],
      "text/plain": [
       "<rich.jupyter.JupyterRenderable at 0x7f0a35f60df0>"
      ]
     },
     "metadata": {},
     "output_type": "display_data"
    },
    {
     "data": {
      "text/html": [
       "<pre style=\"white-space:pre;overflow-x:auto;line-height:normal;font-family:Menlo,'DejaVu Sans Mono',consolas,'Courier New',monospace\"><span style=\"color: #7fbfbf\">[09:21:48] </span>METRIC   Round <span style=\"color: #000080; font-weight: bold\">7</span>, collaborator env_seven aggregated_model_validate result acc:   <span style=\"color: #000080; font-weight: bold\">0.695000</span>                                           <a href=\"file:///home/ubuntu/anaconda3/envs/openfl/lib/python3.8/site-packages/openfl/interface/interactive_api/experiment.py\"><span style=\"color: #7f7f7f\">experiment.py</span></a><span style=\"color: #7f7f7f\">:116</span>\n",
       "</pre>\n"
      ],
      "text/plain": [
       "<rich.jupyter.JupyterRenderable at 0x7f0a35f604c0>"
      ]
     },
     "metadata": {},
     "output_type": "display_data"
    },
    {
     "data": {
      "text/html": [
       "<pre style=\"white-space:pre;overflow-x:auto;line-height:normal;font-family:Menlo,'DejaVu Sans Mono',consolas,'Courier New',monospace\"><span style=\"color: #7fbfbf\">           </span>METRIC   Round <span style=\"color: #000080; font-weight: bold\">7</span>, collaborator env_one train result train_loss:  <span style=\"color: #000080; font-weight: bold\">0.024865</span>                                                           <a href=\"file:///home/ubuntu/anaconda3/envs/openfl/lib/python3.8/site-packages/openfl/interface/interactive_api/experiment.py\"><span style=\"color: #7f7f7f\">experiment.py</span></a><span style=\"color: #7f7f7f\">:116</span>\n",
       "</pre>\n"
      ],
      "text/plain": [
       "<rich.jupyter.JupyterRenderable at 0x7f0a35f60b50>"
      ]
     },
     "metadata": {},
     "output_type": "display_data"
    },
    {
     "data": {
      "text/html": [
       "<pre style=\"white-space:pre;overflow-x:auto;line-height:normal;font-family:Menlo,'DejaVu Sans Mono',consolas,'Courier New',monospace\"><span style=\"color: #7fbfbf\">[09:21:49] </span>METRIC   Round <span style=\"color: #000080; font-weight: bold\">7</span>, collaborator env_one locally_tuned_model_validate result acc:  <span style=\"color: #000080; font-weight: bold\">0.957000</span>                                           <a href=\"file:///home/ubuntu/anaconda3/envs/openfl/lib/python3.8/site-packages/openfl/interface/interactive_api/experiment.py\"><span style=\"color: #7f7f7f\">experiment.py</span></a><span style=\"color: #7f7f7f\">:116</span>\n",
       "</pre>\n"
      ],
      "text/plain": [
       "<rich.jupyter.JupyterRenderable at 0x7f0a35f60070>"
      ]
     },
     "metadata": {},
     "output_type": "display_data"
    },
    {
     "data": {
      "text/html": [
       "<pre style=\"white-space:pre;overflow-x:auto;line-height:normal;font-family:Menlo,'DejaVu Sans Mono',consolas,'Courier New',monospace\"><span style=\"color: #7fbfbf\">           </span>METRIC   Round <span style=\"color: #000080; font-weight: bold\">7</span>, collaborator env_one aggregated_model_validate result acc:     <span style=\"color: #000080; font-weight: bold\">0.948000</span>                                           <a href=\"file:///home/ubuntu/anaconda3/envs/openfl/lib/python3.8/site-packages/openfl/interface/interactive_api/experiment.py\"><span style=\"color: #7f7f7f\">experiment.py</span></a><span style=\"color: #7f7f7f\">:116</span>\n",
       "</pre>\n"
      ],
      "text/plain": [
       "<rich.jupyter.JupyterRenderable at 0x7f0a35f60220>"
      ]
     },
     "metadata": {},
     "output_type": "display_data"
    },
    {
     "data": {
      "text/html": [
       "<pre style=\"white-space:pre;overflow-x:auto;line-height:normal;font-family:Menlo,'DejaVu Sans Mono',consolas,'Courier New',monospace\"><span style=\"color: #7fbfbf\">[09:21:50] </span>METRIC   Round <span style=\"color: #000080; font-weight: bold\">7</span>, collaborator env_four train result train_loss: <span style=\"color: #000080; font-weight: bold\">0.038530</span>                                                           <a href=\"file:///home/ubuntu/anaconda3/envs/openfl/lib/python3.8/site-packages/openfl/interface/interactive_api/experiment.py\"><span style=\"color: #7f7f7f\">experiment.py</span></a><span style=\"color: #7f7f7f\">:116</span>\n",
       "</pre>\n"
      ],
      "text/plain": [
       "<rich.jupyter.JupyterRenderable at 0x7f0a35f604f0>"
      ]
     },
     "metadata": {},
     "output_type": "display_data"
    },
    {
     "data": {
      "text/html": [
       "<pre style=\"white-space:pre;overflow-x:auto;line-height:normal;font-family:Menlo,'DejaVu Sans Mono',consolas,'Courier New',monospace\"><span style=\"color: #7fbfbf\">           </span>METRIC   Round <span style=\"color: #000080; font-weight: bold\">7</span>, collaborator env_four locally_tuned_model_validate result acc: <span style=\"color: #000080; font-weight: bold\">0.947500</span>                                           <a href=\"file:///home/ubuntu/anaconda3/envs/openfl/lib/python3.8/site-packages/openfl/interface/interactive_api/experiment.py\"><span style=\"color: #7f7f7f\">experiment.py</span></a><span style=\"color: #7f7f7f\">:116</span>\n",
       "</pre>\n"
      ],
      "text/plain": [
       "<rich.jupyter.JupyterRenderable at 0x7f0a35f60c10>"
      ]
     },
     "metadata": {},
     "output_type": "display_data"
    },
    {
     "data": {
      "text/html": [
       "<pre style=\"white-space:pre;overflow-x:auto;line-height:normal;font-family:Menlo,'DejaVu Sans Mono',consolas,'Courier New',monospace\"><span style=\"color: #7fbfbf\">[09:21:51] </span>METRIC   Round <span style=\"color: #000080; font-weight: bold\">7</span>, collaborator env_four aggregated_model_validate result acc:    <span style=\"color: #000080; font-weight: bold\">0.470500</span>                                           <a href=\"file:///home/ubuntu/anaconda3/envs/openfl/lib/python3.8/site-packages/openfl/interface/interactive_api/experiment.py\"><span style=\"color: #7f7f7f\">experiment.py</span></a><span style=\"color: #7f7f7f\">:116</span>\n",
       "</pre>\n"
      ],
      "text/plain": [
       "<rich.jupyter.JupyterRenderable at 0x7f0a35f601f0>"
      ]
     },
     "metadata": {},
     "output_type": "display_data"
    },
    {
     "data": {
      "text/html": [
       "<pre style=\"white-space:pre;overflow-x:auto;line-height:normal;font-family:Menlo,'DejaVu Sans Mono',consolas,'Courier New',monospace\"><span style=\"color: #7fbfbf\">[09:22:07] </span>METRIC   Round <span style=\"color: #000080; font-weight: bold\">7</span>, collaborator env_three train result train_loss:        <span style=\"color: #000080; font-weight: bold\">0.038215</span>                                                   <a href=\"file:///home/ubuntu/anaconda3/envs/openfl/lib/python3.8/site-packages/openfl/interface/interactive_api/experiment.py\"><span style=\"color: #7f7f7f\">experiment.py</span></a><span style=\"color: #7f7f7f\">:116</span>\n",
       "</pre>\n"
      ],
      "text/plain": [
       "<rich.jupyter.JupyterRenderable at 0x7f0a35f60df0>"
      ]
     },
     "metadata": {},
     "output_type": "display_data"
    },
    {
     "data": {
      "text/html": [
       "<pre style=\"white-space:pre;overflow-x:auto;line-height:normal;font-family:Menlo,'DejaVu Sans Mono',consolas,'Courier New',monospace\"><span style=\"color: #7fbfbf\">[09:22:08] </span>METRIC   Round <span style=\"color: #000080; font-weight: bold\">7</span>, collaborator env_three locally_tuned_model_validate result acc:        <span style=\"color: #000080; font-weight: bold\">0.959000</span>                                   <a href=\"file:///home/ubuntu/anaconda3/envs/openfl/lib/python3.8/site-packages/openfl/interface/interactive_api/experiment.py\"><span style=\"color: #7f7f7f\">experiment.py</span></a><span style=\"color: #7f7f7f\">:116</span>\n",
       "</pre>\n"
      ],
      "text/plain": [
       "<rich.jupyter.JupyterRenderable at 0x7f0a35f60250>"
      ]
     },
     "metadata": {},
     "output_type": "display_data"
    },
    {
     "data": {
      "text/html": [
       "<pre style=\"white-space:pre;overflow-x:auto;line-height:normal;font-family:Menlo,'DejaVu Sans Mono',consolas,'Courier New',monospace\"><span style=\"color: #7fbfbf\">           </span>METRIC   Round <span style=\"color: #000080; font-weight: bold\">7</span>, collaborator env_eight train result train_loss:        <span style=\"color: #000080; font-weight: bold\">0.064385</span>                                                   <a href=\"file:///home/ubuntu/anaconda3/envs/openfl/lib/python3.8/site-packages/openfl/interface/interactive_api/experiment.py\"><span style=\"color: #7f7f7f\">experiment.py</span></a><span style=\"color: #7f7f7f\">:116</span>\n",
       "</pre>\n"
      ],
      "text/plain": [
       "<rich.jupyter.JupyterRenderable at 0x7f0a35f60190>"
      ]
     },
     "metadata": {},
     "output_type": "display_data"
    },
    {
     "data": {
      "text/html": [
       "<pre style=\"white-space:pre;overflow-x:auto;line-height:normal;font-family:Menlo,'DejaVu Sans Mono',consolas,'Courier New',monospace\"><span style=\"color: #7fbfbf\">           </span>METRIC   Round <span style=\"color: #000080; font-weight: bold\">7</span>, collaborator env_three aggregated_model_validate result acc:   <span style=\"color: #000080; font-weight: bold\">0.040000</span>                                           <a href=\"file:///home/ubuntu/anaconda3/envs/openfl/lib/python3.8/site-packages/openfl/interface/interactive_api/experiment.py\"><span style=\"color: #7f7f7f\">experiment.py</span></a><span style=\"color: #7f7f7f\">:116</span>\n",
       "</pre>\n"
      ],
      "text/plain": [
       "<rich.jupyter.JupyterRenderable at 0x7f0a35f60a90>"
      ]
     },
     "metadata": {},
     "output_type": "display_data"
    },
    {
     "data": {
      "text/html": [
       "<pre style=\"white-space:pre;overflow-x:auto;line-height:normal;font-family:Menlo,'DejaVu Sans Mono',consolas,'Courier New',monospace\"><span style=\"color: #7fbfbf\">           </span>METRIC   Round <span style=\"color: #000080; font-weight: bold\">7</span>, collaborator env_eight locally_tuned_model_validate result acc:        <span style=\"color: #000080; font-weight: bold\">0.945500</span>                                   <a href=\"file:///home/ubuntu/anaconda3/envs/openfl/lib/python3.8/site-packages/openfl/interface/interactive_api/experiment.py\"><span style=\"color: #7f7f7f\">experiment.py</span></a><span style=\"color: #7f7f7f\">:116</span>\n",
       "</pre>\n"
      ],
      "text/plain": [
       "<rich.jupyter.JupyterRenderable at 0x7f0a35f600d0>"
      ]
     },
     "metadata": {},
     "output_type": "display_data"
    },
    {
     "data": {
      "text/html": [
       "<pre style=\"white-space:pre;overflow-x:auto;line-height:normal;font-family:Menlo,'DejaVu Sans Mono',consolas,'Courier New',monospace\"><span style=\"color: #7fbfbf\">           </span>METRIC   Round <span style=\"color: #000080; font-weight: bold\">7</span>, collaborator env_eight aggregated_model_validate result acc:   <span style=\"color: #000080; font-weight: bold\">0.040000</span>                                           <a href=\"file:///home/ubuntu/anaconda3/envs/openfl/lib/python3.8/site-packages/openfl/interface/interactive_api/experiment.py\"><span style=\"color: #7f7f7f\">experiment.py</span></a><span style=\"color: #7f7f7f\">:116</span>\n",
       "</pre>\n"
      ],
      "text/plain": [
       "<rich.jupyter.JupyterRenderable at 0x7f0a35f60df0>"
      ]
     },
     "metadata": {},
     "output_type": "display_data"
    },
    {
     "data": {
      "text/html": [
       "<pre style=\"white-space:pre;overflow-x:auto;line-height:normal;font-family:Menlo,'DejaVu Sans Mono',consolas,'Courier New',monospace\"><span style=\"color: #7fbfbf\">[09:22:13] </span>METRIC   Round <span style=\"color: #000080; font-weight: bold\">7</span>, collaborator env_two train result train_loss:  <span style=\"color: #000080; font-weight: bold\">0.030431</span>                                                           <a href=\"file:///home/ubuntu/anaconda3/envs/openfl/lib/python3.8/site-packages/openfl/interface/interactive_api/experiment.py\"><span style=\"color: #7f7f7f\">experiment.py</span></a><span style=\"color: #7f7f7f\">:116</span>\n",
       "</pre>\n"
      ],
      "text/plain": [
       "<rich.jupyter.JupyterRenderable at 0x7f0a35f60340>"
      ]
     },
     "metadata": {},
     "output_type": "display_data"
    },
    {
     "data": {
      "text/html": [
       "<pre style=\"white-space:pre;overflow-x:auto;line-height:normal;font-family:Menlo,'DejaVu Sans Mono',consolas,'Courier New',monospace\"><span style=\"color: #7fbfbf\">           </span>METRIC   Round <span style=\"color: #000080; font-weight: bold\">7</span>, collaborator env_two locally_tuned_model_validate result acc:  <span style=\"color: #000080; font-weight: bold\">0.974500</span>                                           <a href=\"file:///home/ubuntu/anaconda3/envs/openfl/lib/python3.8/site-packages/openfl/interface/interactive_api/experiment.py\"><span style=\"color: #7f7f7f\">experiment.py</span></a><span style=\"color: #7f7f7f\">:116</span>\n",
       "</pre>\n"
      ],
      "text/plain": [
       "<rich.jupyter.JupyterRenderable at 0x7f0a35f60040>"
      ]
     },
     "metadata": {},
     "output_type": "display_data"
    },
    {
     "data": {
      "text/html": [
       "<pre style=\"white-space:pre;overflow-x:auto;line-height:normal;font-family:Menlo,'DejaVu Sans Mono',consolas,'Courier New',monospace\"><span style=\"color: #7fbfbf\">[09:22:14] </span>METRIC   Round <span style=\"color: #000080; font-weight: bold\">7</span>, collaborator env_two aggregated_model_validate result acc:     <span style=\"color: #000080; font-weight: bold\">0.043000</span>                                           <a href=\"file:///home/ubuntu/anaconda3/envs/openfl/lib/python3.8/site-packages/openfl/interface/interactive_api/experiment.py\"><span style=\"color: #7f7f7f\">experiment.py</span></a><span style=\"color: #7f7f7f\">:116</span>\n",
       "</pre>\n"
      ],
      "text/plain": [
       "<rich.jupyter.JupyterRenderable at 0x7f0a35f604f0>"
      ]
     },
     "metadata": {},
     "output_type": "display_data"
    },
    {
     "data": {
      "text/html": [
       "<pre style=\"white-space:pre;overflow-x:auto;line-height:normal;font-family:Menlo,'DejaVu Sans Mono',consolas,'Courier New',monospace\"><span style=\"color: #7fbfbf\">[09:22:16] </span>METRIC   Round <span style=\"color: #000080; font-weight: bold\">7</span>, collaborator env_ten train result train_loss:  <span style=\"color: #000080; font-weight: bold\">0.041156</span>                                                           <a href=\"file:///home/ubuntu/anaconda3/envs/openfl/lib/python3.8/site-packages/openfl/interface/interactive_api/experiment.py\"><span style=\"color: #7f7f7f\">experiment.py</span></a><span style=\"color: #7f7f7f\">:116</span>\n",
       "</pre>\n"
      ],
      "text/plain": [
       "<rich.jupyter.JupyterRenderable at 0x7f0a35f600a0>"
      ]
     },
     "metadata": {},
     "output_type": "display_data"
    },
    {
     "data": {
      "text/html": [
       "<pre style=\"white-space:pre;overflow-x:auto;line-height:normal;font-family:Menlo,'DejaVu Sans Mono',consolas,'Courier New',monospace\"><span style=\"color: #7fbfbf\">           </span>METRIC   Round <span style=\"color: #000080; font-weight: bold\">7</span>, collaborator env_ten locally_tuned_model_validate result acc:  <span style=\"color: #000080; font-weight: bold\">0.943500</span>                                           <a href=\"file:///home/ubuntu/anaconda3/envs/openfl/lib/python3.8/site-packages/openfl/interface/interactive_api/experiment.py\"><span style=\"color: #7f7f7f\">experiment.py</span></a><span style=\"color: #7f7f7f\">:116</span>\n",
       "</pre>\n"
      ],
      "text/plain": [
       "<rich.jupyter.JupyterRenderable at 0x7f0a35f60040>"
      ]
     },
     "metadata": {},
     "output_type": "display_data"
    },
    {
     "data": {
      "text/html": [
       "<pre style=\"white-space:pre;overflow-x:auto;line-height:normal;font-family:Menlo,'DejaVu Sans Mono',consolas,'Courier New',monospace\"><span style=\"color: #7fbfbf\">[09:22:17] </span>METRIC   Round <span style=\"color: #000080; font-weight: bold\">7</span>, collaborator env_ten aggregated_model_validate result acc:     <span style=\"color: #000080; font-weight: bold\">0.477500</span>                                           <a href=\"file:///home/ubuntu/anaconda3/envs/openfl/lib/python3.8/site-packages/openfl/interface/interactive_api/experiment.py\"><span style=\"color: #7f7f7f\">experiment.py</span></a><span style=\"color: #7f7f7f\">:116</span>\n",
       "</pre>\n"
      ],
      "text/plain": [
       "<rich.jupyter.JupyterRenderable at 0x7f0a35f60220>"
      ]
     },
     "metadata": {},
     "output_type": "display_data"
    },
    {
     "data": {
      "text/html": [
       "<pre style=\"white-space:pre;overflow-x:auto;line-height:normal;font-family:Menlo,'DejaVu Sans Mono',consolas,'Courier New',monospace\"><span style=\"color: #7fbfbf\">[09:22:59] </span>METRIC   Round <span style=\"color: #000080; font-weight: bold\">7</span>, collaborator env_six train result train_loss:  <span style=\"color: #000080; font-weight: bold\">0.023547</span>                                                           <a href=\"file:///home/ubuntu/anaconda3/envs/openfl/lib/python3.8/site-packages/openfl/interface/interactive_api/experiment.py\"><span style=\"color: #7f7f7f\">experiment.py</span></a><span style=\"color: #7f7f7f\">:116</span>\n",
       "</pre>\n"
      ],
      "text/plain": [
       "<rich.jupyter.JupyterRenderable at 0x7f0a35f60160>"
      ]
     },
     "metadata": {},
     "output_type": "display_data"
    },
    {
     "data": {
      "text/html": [
       "<pre style=\"white-space:pre;overflow-x:auto;line-height:normal;font-family:Menlo,'DejaVu Sans Mono',consolas,'Courier New',monospace\"><span style=\"color: #7fbfbf\">[09:23:00] </span>METRIC   Round <span style=\"color: #000080; font-weight: bold\">7</span>, collaborator env_six locally_tuned_model_validate result acc:  <span style=\"color: #000080; font-weight: bold\">0.968000</span>                                           <a href=\"file:///home/ubuntu/anaconda3/envs/openfl/lib/python3.8/site-packages/openfl/interface/interactive_api/experiment.py\"><span style=\"color: #7f7f7f\">experiment.py</span></a><span style=\"color: #7f7f7f\">:116</span>\n",
       "</pre>\n"
      ],
      "text/plain": [
       "<rich.jupyter.JupyterRenderable at 0x7f0a35f60040>"
      ]
     },
     "metadata": {},
     "output_type": "display_data"
    },
    {
     "data": {
      "text/html": [
       "<pre style=\"white-space:pre;overflow-x:auto;line-height:normal;font-family:Menlo,'DejaVu Sans Mono',consolas,'Courier New',monospace\"><span style=\"color: #7fbfbf\">           </span>METRIC   Round <span style=\"color: #000080; font-weight: bold\">7</span>, collaborator env_six aggregated_model_validate result acc:     <span style=\"color: #000080; font-weight: bold\">0.948000</span>                                           <a href=\"file:///home/ubuntu/anaconda3/envs/openfl/lib/python3.8/site-packages/openfl/interface/interactive_api/experiment.py\"><span style=\"color: #7f7f7f\">experiment.py</span></a><span style=\"color: #7f7f7f\">:116</span>\n",
       "</pre>\n"
      ],
      "text/plain": [
       "<rich.jupyter.JupyterRenderable at 0x7f0a35f60220>"
      ]
     },
     "metadata": {},
     "output_type": "display_data"
    },
    {
     "data": {
      "text/html": [
       "<pre style=\"white-space:pre;overflow-x:auto;line-height:normal;font-family:Menlo,'DejaVu Sans Mono',consolas,'Courier New',monospace\"><span style=\"color: #7fbfbf\">[09:23:06] </span>METRIC   Round <span style=\"color: #000080; font-weight: bold\">7</span>, collaborator env_five train result train_loss: <span style=\"color: #000080; font-weight: bold\">0.025904</span>                                                           <a href=\"file:///home/ubuntu/anaconda3/envs/openfl/lib/python3.8/site-packages/openfl/interface/interactive_api/experiment.py\"><span style=\"color: #7f7f7f\">experiment.py</span></a><span style=\"color: #7f7f7f\">:116</span>\n",
       "</pre>\n"
      ],
      "text/plain": [
       "<rich.jupyter.JupyterRenderable at 0x7f0a35f60160>"
      ]
     },
     "metadata": {},
     "output_type": "display_data"
    },
    {
     "data": {
      "text/html": [
       "<pre style=\"white-space:pre;overflow-x:auto;line-height:normal;font-family:Menlo,'DejaVu Sans Mono',consolas,'Courier New',monospace\"><span style=\"color: #7fbfbf\">           </span>METRIC   Round <span style=\"color: #000080; font-weight: bold\">7</span>, collaborator env_five locally_tuned_model_validate result acc: <span style=\"color: #000080; font-weight: bold\">0.967500</span>                                           <a href=\"file:///home/ubuntu/anaconda3/envs/openfl/lib/python3.8/site-packages/openfl/interface/interactive_api/experiment.py\"><span style=\"color: #7f7f7f\">experiment.py</span></a><span style=\"color: #7f7f7f\">:116</span>\n",
       "</pre>\n"
      ],
      "text/plain": [
       "<rich.jupyter.JupyterRenderable at 0x7f0a35f60250>"
      ]
     },
     "metadata": {},
     "output_type": "display_data"
    },
    {
     "data": {
      "text/html": [
       "<pre style=\"white-space:pre;overflow-x:auto;line-height:normal;font-family:Menlo,'DejaVu Sans Mono',consolas,'Courier New',monospace\"><span style=\"color: #7fbfbf\">           </span>METRIC   Round <span style=\"color: #000080; font-weight: bold\">7</span>, collaborator env_five aggregated_model_validate result acc:    <span style=\"color: #000080; font-weight: bold\">0.702000</span>                                           <a href=\"file:///home/ubuntu/anaconda3/envs/openfl/lib/python3.8/site-packages/openfl/interface/interactive_api/experiment.py\"><span style=\"color: #7f7f7f\">experiment.py</span></a><span style=\"color: #7f7f7f\">:116</span>\n",
       "</pre>\n"
      ],
      "text/plain": [
       "<rich.jupyter.JupyterRenderable at 0x7f0a35f60340>"
      ]
     },
     "metadata": {},
     "output_type": "display_data"
    },
    {
     "data": {
      "text/html": [
       "<pre style=\"white-space:pre;overflow-x:auto;line-height:normal;font-family:Menlo,'DejaVu Sans Mono',consolas,'Courier New',monospace\"><span style=\"color: #7fbfbf\">[09:23:10] </span>METRIC   Round <span style=\"color: #000080; font-weight: bold\">7</span>, collaborator env_nine train result train_loss: <span style=\"color: #000080; font-weight: bold\">0.085342</span>                                                           <a href=\"file:///home/ubuntu/anaconda3/envs/openfl/lib/python3.8/site-packages/openfl/interface/interactive_api/experiment.py\"><span style=\"color: #7f7f7f\">experiment.py</span></a><span style=\"color: #7f7f7f\">:116</span>\n",
       "</pre>\n"
      ],
      "text/plain": [
       "<rich.jupyter.JupyterRenderable at 0x7f0a35f60b50>"
      ]
     },
     "metadata": {},
     "output_type": "display_data"
    },
    {
     "data": {
      "text/html": [
       "<pre style=\"white-space:pre;overflow-x:auto;line-height:normal;font-family:Menlo,'DejaVu Sans Mono',consolas,'Courier New',monospace\"><span style=\"color: #7fbfbf\">           </span>METRIC   Round <span style=\"color: #000080; font-weight: bold\">7</span>, collaborator env_nine locally_tuned_model_validate result acc: <span style=\"color: #000080; font-weight: bold\">0.858500</span>                                           <a href=\"file:///home/ubuntu/anaconda3/envs/openfl/lib/python3.8/site-packages/openfl/interface/interactive_api/experiment.py\"><span style=\"color: #7f7f7f\">experiment.py</span></a><span style=\"color: #7f7f7f\">:116</span>\n",
       "</pre>\n"
      ],
      "text/plain": [
       "<rich.jupyter.JupyterRenderable at 0x7f0a35f60df0>"
      ]
     },
     "metadata": {},
     "output_type": "display_data"
    },
    {
     "data": {
      "text/html": [
       "<pre style=\"white-space:pre;overflow-x:auto;line-height:normal;font-family:Menlo,'DejaVu Sans Mono',consolas,'Courier New',monospace\"><span style=\"color: #7fbfbf\">[09:23:11] </span>METRIC   Round <span style=\"color: #000080; font-weight: bold\">7</span>, collaborator env_nine aggregated_model_validate result acc:    <span style=\"color: #000080; font-weight: bold\">0.003000</span>                                           <a href=\"file:///home/ubuntu/anaconda3/envs/openfl/lib/python3.8/site-packages/openfl/interface/interactive_api/experiment.py\"><span style=\"color: #7f7f7f\">experiment.py</span></a><span style=\"color: #7f7f7f\">:116</span>\n",
       "</pre>\n"
      ],
      "text/plain": [
       "<rich.jupyter.JupyterRenderable at 0x7f0a35f60c40>"
      ]
     },
     "metadata": {},
     "output_type": "display_data"
    },
    {
     "data": {
      "text/html": [
       "<pre style=\"white-space:pre;overflow-x:auto;line-height:normal;font-family:Menlo,'DejaVu Sans Mono',consolas,'Courier New',monospace\"><span style=\"color: #7fbfbf\">[09:23:23] </span>METRIC   Round <span style=\"color: #000080; font-weight: bold\">7</span>, collaborator Aggregator train result train_loss:       <span style=\"color: #000080; font-weight: bold\">0.047243</span>                                                   <a href=\"file:///home/ubuntu/anaconda3/envs/openfl/lib/python3.8/site-packages/openfl/interface/interactive_api/experiment.py\"><span style=\"color: #7f7f7f\">experiment.py</span></a><span style=\"color: #7f7f7f\">:116</span>\n",
       "</pre>\n"
      ],
      "text/plain": [
       "<rich.jupyter.JupyterRenderable at 0x7f0a35f604c0>"
      ]
     },
     "metadata": {},
     "output_type": "display_data"
    },
    {
     "data": {
      "text/html": [
       "<pre style=\"white-space:pre;overflow-x:auto;line-height:normal;font-family:Menlo,'DejaVu Sans Mono',consolas,'Courier New',monospace\"><span style=\"color: #7fbfbf\">           </span>METRIC   Round <span style=\"color: #000080; font-weight: bold\">7</span>, collaborator Aggregator locally_tuned_model_validate result acc:       <span style=\"color: #000080; font-weight: bold\">0.940100</span>                                   <a href=\"file:///home/ubuntu/anaconda3/envs/openfl/lib/python3.8/site-packages/openfl/interface/interactive_api/experiment.py\"><span style=\"color: #7f7f7f\">experiment.py</span></a><span style=\"color: #7f7f7f\">:116</span>\n",
       "</pre>\n"
      ],
      "text/plain": [
       "<rich.jupyter.JupyterRenderable at 0x7f0a35f60df0>"
      ]
     },
     "metadata": {},
     "output_type": "display_data"
    },
    {
     "data": {
      "text/html": [
       "<pre style=\"white-space:pre;overflow-x:auto;line-height:normal;font-family:Menlo,'DejaVu Sans Mono',consolas,'Courier New',monospace\"><span style=\"color: #7fbfbf\">           </span>METRIC   Round <span style=\"color: #000080; font-weight: bold\">7</span>, collaborator Aggregator aggregated_model_validate result acc:  <span style=\"color: #000080; font-weight: bold\">0.436700</span>                                           <a href=\"file:///home/ubuntu/anaconda3/envs/openfl/lib/python3.8/site-packages/openfl/interface/interactive_api/experiment.py\"><span style=\"color: #7f7f7f\">experiment.py</span></a><span style=\"color: #7f7f7f\">:116</span>\n",
       "</pre>\n"
      ],
      "text/plain": [
       "<rich.jupyter.JupyterRenderable at 0x7f0a35f60250>"
      ]
     },
     "metadata": {},
     "output_type": "display_data"
    },
    {
     "data": {
      "text/html": [
       "<pre style=\"white-space:pre;overflow-x:auto;line-height:normal;font-family:Menlo,'DejaVu Sans Mono',consolas,'Courier New',monospace\"><span style=\"color: #7fbfbf\">[09:24:41] </span>METRIC   Round <span style=\"color: #000080; font-weight: bold\">8</span>, collaborator env_one train result train_loss:  <span style=\"color: #000080; font-weight: bold\">0.024520</span>                                                           <a href=\"file:///home/ubuntu/anaconda3/envs/openfl/lib/python3.8/site-packages/openfl/interface/interactive_api/experiment.py\"><span style=\"color: #7f7f7f\">experiment.py</span></a><span style=\"color: #7f7f7f\">:116</span>\n",
       "</pre>\n"
      ],
      "text/plain": [
       "<rich.jupyter.JupyterRenderable at 0x7f0a35f60730>"
      ]
     },
     "metadata": {},
     "output_type": "display_data"
    },
    {
     "data": {
      "text/html": [
       "<pre style=\"white-space:pre;overflow-x:auto;line-height:normal;font-family:Menlo,'DejaVu Sans Mono',consolas,'Courier New',monospace\"><span style=\"color: #7fbfbf\">[09:24:42] </span>METRIC   Round <span style=\"color: #000080; font-weight: bold\">8</span>, collaborator env_one locally_tuned_model_validate result acc:  <span style=\"color: #000080; font-weight: bold\">0.963500</span>                                           <a href=\"file:///home/ubuntu/anaconda3/envs/openfl/lib/python3.8/site-packages/openfl/interface/interactive_api/experiment.py\"><span style=\"color: #7f7f7f\">experiment.py</span></a><span style=\"color: #7f7f7f\">:116</span>\n",
       "</pre>\n"
      ],
      "text/plain": [
       "<rich.jupyter.JupyterRenderable at 0x7f0a35f60c40>"
      ]
     },
     "metadata": {},
     "output_type": "display_data"
    },
    {
     "data": {
      "text/html": [
       "<pre style=\"white-space:pre;overflow-x:auto;line-height:normal;font-family:Menlo,'DejaVu Sans Mono',consolas,'Courier New',monospace\"><span style=\"color: #7fbfbf\">[09:24:43] </span>METRIC   Round <span style=\"color: #000080; font-weight: bold\">8</span>, collaborator env_one aggregated_model_validate result acc:     <span style=\"color: #000080; font-weight: bold\">0.357500</span>                                           <a href=\"file:///home/ubuntu/anaconda3/envs/openfl/lib/python3.8/site-packages/openfl/interface/interactive_api/experiment.py\"><span style=\"color: #7f7f7f\">experiment.py</span></a><span style=\"color: #7f7f7f\">:116</span>\n",
       "</pre>\n"
      ],
      "text/plain": [
       "<rich.jupyter.JupyterRenderable at 0x7f0a35f60250>"
      ]
     },
     "metadata": {},
     "output_type": "display_data"
    },
    {
     "data": {
      "text/html": [
       "<pre style=\"white-space:pre;overflow-x:auto;line-height:normal;font-family:Menlo,'DejaVu Sans Mono',consolas,'Courier New',monospace\"><span style=\"color: #7fbfbf\">[09:24:46] </span>METRIC   Round <span style=\"color: #000080; font-weight: bold\">8</span>, collaborator env_four train result train_loss: <span style=\"color: #000080; font-weight: bold\">0.034708</span>                                                           <a href=\"file:///home/ubuntu/anaconda3/envs/openfl/lib/python3.8/site-packages/openfl/interface/interactive_api/experiment.py\"><span style=\"color: #7f7f7f\">experiment.py</span></a><span style=\"color: #7f7f7f\">:116</span>\n",
       "</pre>\n"
      ],
      "text/plain": [
       "<rich.jupyter.JupyterRenderable at 0x7f0a35f60730>"
      ]
     },
     "metadata": {},
     "output_type": "display_data"
    },
    {
     "data": {
      "text/html": [
       "<pre style=\"white-space:pre;overflow-x:auto;line-height:normal;font-family:Menlo,'DejaVu Sans Mono',consolas,'Courier New',monospace\"><span style=\"color: #7fbfbf\">           </span>METRIC   Round <span style=\"color: #000080; font-weight: bold\">8</span>, collaborator env_four locally_tuned_model_validate result acc: <span style=\"color: #000080; font-weight: bold\">0.963500</span>                                           <a href=\"file:///home/ubuntu/anaconda3/envs/openfl/lib/python3.8/site-packages/openfl/interface/interactive_api/experiment.py\"><span style=\"color: #7f7f7f\">experiment.py</span></a><span style=\"color: #7f7f7f\">:116</span>\n",
       "</pre>\n"
      ],
      "text/plain": [
       "<rich.jupyter.JupyterRenderable at 0x7f0a35f60370>"
      ]
     },
     "metadata": {},
     "output_type": "display_data"
    },
    {
     "data": {
      "text/html": [
       "<pre style=\"white-space:pre;overflow-x:auto;line-height:normal;font-family:Menlo,'DejaVu Sans Mono',consolas,'Courier New',monospace\"><span style=\"color: #7fbfbf\">[09:24:47] </span>METRIC   Round <span style=\"color: #000080; font-weight: bold\">8</span>, collaborator env_four aggregated_model_validate result acc:    <span style=\"color: #000080; font-weight: bold\">0.001000</span>                                           <a href=\"file:///home/ubuntu/anaconda3/envs/openfl/lib/python3.8/site-packages/openfl/interface/interactive_api/experiment.py\"><span style=\"color: #7f7f7f\">experiment.py</span></a><span style=\"color: #7f7f7f\">:116</span>\n",
       "</pre>\n"
      ],
      "text/plain": [
       "<rich.jupyter.JupyterRenderable at 0x7f0a35f60df0>"
      ]
     },
     "metadata": {},
     "output_type": "display_data"
    },
    {
     "data": {
      "text/html": [
       "<pre style=\"white-space:pre;overflow-x:auto;line-height:normal;font-family:Menlo,'DejaVu Sans Mono',consolas,'Courier New',monospace\"><span style=\"color: #7fbfbf\">           </span>METRIC   Round <span style=\"color: #000080; font-weight: bold\">8</span>, collaborator env_seven train result train_loss:        <span style=\"color: #000080; font-weight: bold\">0.108378</span>                                                   <a href=\"file:///home/ubuntu/anaconda3/envs/openfl/lib/python3.8/site-packages/openfl/interface/interactive_api/experiment.py\"><span style=\"color: #7f7f7f\">experiment.py</span></a><span style=\"color: #7f7f7f\">:116</span>\n",
       "</pre>\n"
      ],
      "text/plain": [
       "<rich.jupyter.JupyterRenderable at 0x7f0a35f601f0>"
      ]
     },
     "metadata": {},
     "output_type": "display_data"
    },
    {
     "data": {
      "text/html": [
       "<pre style=\"white-space:pre;overflow-x:auto;line-height:normal;font-family:Menlo,'DejaVu Sans Mono',consolas,'Courier New',monospace\"><span style=\"color: #7fbfbf\">[09:24:48] </span>METRIC   Round <span style=\"color: #000080; font-weight: bold\">8</span>, collaborator env_seven locally_tuned_model_validate result acc:        <span style=\"color: #000080; font-weight: bold\">0.878500</span>                                   <a href=\"file:///home/ubuntu/anaconda3/envs/openfl/lib/python3.8/site-packages/openfl/interface/interactive_api/experiment.py\"><span style=\"color: #7f7f7f\">experiment.py</span></a><span style=\"color: #7f7f7f\">:116</span>\n",
       "</pre>\n"
      ],
      "text/plain": [
       "<rich.jupyter.JupyterRenderable at 0x7f0a35f60220>"
      ]
     },
     "metadata": {},
     "output_type": "display_data"
    },
    {
     "data": {
      "text/html": [
       "<pre style=\"white-space:pre;overflow-x:auto;line-height:normal;font-family:Menlo,'DejaVu Sans Mono',consolas,'Courier New',monospace\"><span style=\"color: #7fbfbf\">           </span>METRIC   Round <span style=\"color: #000080; font-weight: bold\">8</span>, collaborator env_seven aggregated_model_validate result acc:   <span style=\"color: #000080; font-weight: bold\">0.216500</span>                                           <a href=\"file:///home/ubuntu/anaconda3/envs/openfl/lib/python3.8/site-packages/openfl/interface/interactive_api/experiment.py\"><span style=\"color: #7f7f7f\">experiment.py</span></a><span style=\"color: #7f7f7f\">:116</span>\n",
       "</pre>\n"
      ],
      "text/plain": [
       "<rich.jupyter.JupyterRenderable at 0x7f0a35f60370>"
      ]
     },
     "metadata": {},
     "output_type": "display_data"
    },
    {
     "data": {
      "text/html": [
       "<pre style=\"white-space:pre;overflow-x:auto;line-height:normal;font-family:Menlo,'DejaVu Sans Mono',consolas,'Courier New',monospace\"><span style=\"color: #7fbfbf\">[09:24:59] </span>METRIC   Round <span style=\"color: #000080; font-weight: bold\">8</span>, collaborator env_eight train result train_loss:        <span style=\"color: #000080; font-weight: bold\">0.054504</span>                                                   <a href=\"file:///home/ubuntu/anaconda3/envs/openfl/lib/python3.8/site-packages/openfl/interface/interactive_api/experiment.py\"><span style=\"color: #7f7f7f\">experiment.py</span></a><span style=\"color: #7f7f7f\">:116</span>\n",
       "</pre>\n"
      ],
      "text/plain": [
       "<rich.jupyter.JupyterRenderable at 0x7f0a35f60a90>"
      ]
     },
     "metadata": {},
     "output_type": "display_data"
    },
    {
     "data": {
      "text/html": [
       "<pre style=\"white-space:pre;overflow-x:auto;line-height:normal;font-family:Menlo,'DejaVu Sans Mono',consolas,'Courier New',monospace\"><span style=\"color: #7fbfbf\">[09:25:00] </span>METRIC   Round <span style=\"color: #000080; font-weight: bold\">8</span>, collaborator env_eight locally_tuned_model_validate result acc:        <span style=\"color: #000080; font-weight: bold\">0.942500</span>                                   <a href=\"file:///home/ubuntu/anaconda3/envs/openfl/lib/python3.8/site-packages/openfl/interface/interactive_api/experiment.py\"><span style=\"color: #7f7f7f\">experiment.py</span></a><span style=\"color: #7f7f7f\">:116</span>\n",
       "</pre>\n"
      ],
      "text/plain": [
       "<rich.jupyter.JupyterRenderable at 0x7f0a35f60280>"
      ]
     },
     "metadata": {},
     "output_type": "display_data"
    },
    {
     "data": {
      "text/html": [
       "<pre style=\"white-space:pre;overflow-x:auto;line-height:normal;font-family:Menlo,'DejaVu Sans Mono',consolas,'Courier New',monospace\"><span style=\"color: #7fbfbf\">           </span>METRIC   Round <span style=\"color: #000080; font-weight: bold\">8</span>, collaborator env_eight aggregated_model_validate result acc:   <span style=\"color: #000080; font-weight: bold\">0.449500</span>                                           <a href=\"file:///home/ubuntu/anaconda3/envs/openfl/lib/python3.8/site-packages/openfl/interface/interactive_api/experiment.py\"><span style=\"color: #7f7f7f\">experiment.py</span></a><span style=\"color: #7f7f7f\">:116</span>\n",
       "</pre>\n"
      ],
      "text/plain": [
       "<rich.jupyter.JupyterRenderable at 0x7f0a35f601c0>"
      ]
     },
     "metadata": {},
     "output_type": "display_data"
    },
    {
     "data": {
      "text/html": [
       "<pre style=\"white-space:pre;overflow-x:auto;line-height:normal;font-family:Menlo,'DejaVu Sans Mono',consolas,'Courier New',monospace\"><span style=\"color: #7fbfbf\">[09:25:04] </span>METRIC   Round <span style=\"color: #000080; font-weight: bold\">8</span>, collaborator env_three train result train_loss:        <span style=\"color: #000080; font-weight: bold\">0.032613</span>                                                   <a href=\"file:///home/ubuntu/anaconda3/envs/openfl/lib/python3.8/site-packages/openfl/interface/interactive_api/experiment.py\"><span style=\"color: #7f7f7f\">experiment.py</span></a><span style=\"color: #7f7f7f\">:116</span>\n",
       "</pre>\n"
      ],
      "text/plain": [
       "<rich.jupyter.JupyterRenderable at 0x7f0a35f603a0>"
      ]
     },
     "metadata": {},
     "output_type": "display_data"
    },
    {
     "data": {
      "text/html": [
       "<pre style=\"white-space:pre;overflow-x:auto;line-height:normal;font-family:Menlo,'DejaVu Sans Mono',consolas,'Courier New',monospace\"><span style=\"color: #7fbfbf\">           </span>METRIC   Round <span style=\"color: #000080; font-weight: bold\">8</span>, collaborator env_three locally_tuned_model_validate result acc:        <span style=\"color: #000080; font-weight: bold\">0.964500</span>                                   <a href=\"file:///home/ubuntu/anaconda3/envs/openfl/lib/python3.8/site-packages/openfl/interface/interactive_api/experiment.py\"><span style=\"color: #7f7f7f\">experiment.py</span></a><span style=\"color: #7f7f7f\">:116</span>\n",
       "</pre>\n"
      ],
      "text/plain": [
       "<rich.jupyter.JupyterRenderable at 0x7f0a35f60280>"
      ]
     },
     "metadata": {},
     "output_type": "display_data"
    },
    {
     "data": {
      "text/html": [
       "<pre style=\"white-space:pre;overflow-x:auto;line-height:normal;font-family:Menlo,'DejaVu Sans Mono',consolas,'Courier New',monospace\"><span style=\"color: #7fbfbf\">[09:25:05] </span>METRIC   Round <span style=\"color: #000080; font-weight: bold\">8</span>, collaborator env_three aggregated_model_validate result acc:   <span style=\"color: #000080; font-weight: bold\">0.445000</span>                                           <a href=\"file:///home/ubuntu/anaconda3/envs/openfl/lib/python3.8/site-packages/openfl/interface/interactive_api/experiment.py\"><span style=\"color: #7f7f7f\">experiment.py</span></a><span style=\"color: #7f7f7f\">:116</span>\n",
       "</pre>\n"
      ],
      "text/plain": [
       "<rich.jupyter.JupyterRenderable at 0x7f0a35f60040>"
      ]
     },
     "metadata": {},
     "output_type": "display_data"
    },
    {
     "data": {
      "text/html": [
       "<pre style=\"white-space:pre;overflow-x:auto;line-height:normal;font-family:Menlo,'DejaVu Sans Mono',consolas,'Courier New',monospace\"><span style=\"color: #7fbfbf\">[09:25:07] </span>METRIC   Round <span style=\"color: #000080; font-weight: bold\">8</span>, collaborator env_two train result train_loss:  <span style=\"color: #000080; font-weight: bold\">0.024239</span>                                                           <a href=\"file:///home/ubuntu/anaconda3/envs/openfl/lib/python3.8/site-packages/openfl/interface/interactive_api/experiment.py\"><span style=\"color: #7f7f7f\">experiment.py</span></a><span style=\"color: #7f7f7f\">:116</span>\n",
       "</pre>\n"
      ],
      "text/plain": [
       "<rich.jupyter.JupyterRenderable at 0x7f0a35f60370>"
      ]
     },
     "metadata": {},
     "output_type": "display_data"
    },
    {
     "data": {
      "text/html": [
       "<pre style=\"white-space:pre;overflow-x:auto;line-height:normal;font-family:Menlo,'DejaVu Sans Mono',consolas,'Courier New',monospace\"><span style=\"color: #7fbfbf\">           </span>METRIC   Round <span style=\"color: #000080; font-weight: bold\">8</span>, collaborator env_two locally_tuned_model_validate result acc:  <span style=\"color: #000080; font-weight: bold\">0.973000</span>                                           <a href=\"file:///home/ubuntu/anaconda3/envs/openfl/lib/python3.8/site-packages/openfl/interface/interactive_api/experiment.py\"><span style=\"color: #7f7f7f\">experiment.py</span></a><span style=\"color: #7f7f7f\">:116</span>\n",
       "</pre>\n"
      ],
      "text/plain": [
       "<rich.jupyter.JupyterRenderable at 0x7f0a35f603d0>"
      ]
     },
     "metadata": {},
     "output_type": "display_data"
    },
    {
     "data": {
      "text/html": [
       "<pre style=\"white-space:pre;overflow-x:auto;line-height:normal;font-family:Menlo,'DejaVu Sans Mono',consolas,'Courier New',monospace\"><span style=\"color: #7fbfbf\">[09:25:08] </span>METRIC   Round <span style=\"color: #000080; font-weight: bold\">8</span>, collaborator env_two aggregated_model_validate result acc:     <span style=\"color: #000080; font-weight: bold\">0.813500</span>                                           <a href=\"file:///home/ubuntu/anaconda3/envs/openfl/lib/python3.8/site-packages/openfl/interface/interactive_api/experiment.py\"><span style=\"color: #7f7f7f\">experiment.py</span></a><span style=\"color: #7f7f7f\">:116</span>\n",
       "</pre>\n"
      ],
      "text/plain": [
       "<rich.jupyter.JupyterRenderable at 0x7f0a35f601f0>"
      ]
     },
     "metadata": {},
     "output_type": "display_data"
    },
    {
     "data": {
      "text/html": [
       "<pre style=\"white-space:pre;overflow-x:auto;line-height:normal;font-family:Menlo,'DejaVu Sans Mono',consolas,'Courier New',monospace\"><span style=\"color: #7fbfbf\">[09:25:23] </span>METRIC   Round <span style=\"color: #000080; font-weight: bold\">8</span>, collaborator env_ten train result train_loss:  <span style=\"color: #000080; font-weight: bold\">0.034449</span>                                                           <a href=\"file:///home/ubuntu/anaconda3/envs/openfl/lib/python3.8/site-packages/openfl/interface/interactive_api/experiment.py\"><span style=\"color: #7f7f7f\">experiment.py</span></a><span style=\"color: #7f7f7f\">:116</span>\n",
       "</pre>\n"
      ],
      "text/plain": [
       "<rich.jupyter.JupyterRenderable at 0x7f0a35f60280>"
      ]
     },
     "metadata": {},
     "output_type": "display_data"
    },
    {
     "data": {
      "text/html": [
       "<pre style=\"white-space:pre;overflow-x:auto;line-height:normal;font-family:Menlo,'DejaVu Sans Mono',consolas,'Courier New',monospace\"><span style=\"color: #7fbfbf\">           </span>METRIC   Round <span style=\"color: #000080; font-weight: bold\">8</span>, collaborator env_ten locally_tuned_model_validate result acc:  <span style=\"color: #000080; font-weight: bold\">0.944500</span>                                           <a href=\"file:///home/ubuntu/anaconda3/envs/openfl/lib/python3.8/site-packages/openfl/interface/interactive_api/experiment.py\"><span style=\"color: #7f7f7f\">experiment.py</span></a><span style=\"color: #7f7f7f\">:116</span>\n",
       "</pre>\n"
      ],
      "text/plain": [
       "<rich.jupyter.JupyterRenderable at 0x7f0a35f603d0>"
      ]
     },
     "metadata": {},
     "output_type": "display_data"
    },
    {
     "data": {
      "text/html": [
       "<pre style=\"white-space:pre;overflow-x:auto;line-height:normal;font-family:Menlo,'DejaVu Sans Mono',consolas,'Courier New',monospace\"><span style=\"color: #7fbfbf\">[09:25:24] </span>METRIC   Round <span style=\"color: #000080; font-weight: bold\">8</span>, collaborator env_ten aggregated_model_validate result acc:     <span style=\"color: #000080; font-weight: bold\">0.739500</span>                                           <a href=\"file:///home/ubuntu/anaconda3/envs/openfl/lib/python3.8/site-packages/openfl/interface/interactive_api/experiment.py\"><span style=\"color: #7f7f7f\">experiment.py</span></a><span style=\"color: #7f7f7f\">:116</span>\n",
       "</pre>\n"
      ],
      "text/plain": [
       "<rich.jupyter.JupyterRenderable at 0x7f0a35f601f0>"
      ]
     },
     "metadata": {},
     "output_type": "display_data"
    },
    {
     "data": {
      "text/html": [
       "<pre style=\"white-space:pre;overflow-x:auto;line-height:normal;font-family:Menlo,'DejaVu Sans Mono',consolas,'Courier New',monospace\"><span style=\"color: #7fbfbf\">[09:25:57] </span>METRIC   Round <span style=\"color: #000080; font-weight: bold\">8</span>, collaborator env_six train result train_loss:  <span style=\"color: #000080; font-weight: bold\">0.021170</span>                                                           <a href=\"file:///home/ubuntu/anaconda3/envs/openfl/lib/python3.8/site-packages/openfl/interface/interactive_api/experiment.py\"><span style=\"color: #7f7f7f\">experiment.py</span></a><span style=\"color: #7f7f7f\">:116</span>\n",
       "</pre>\n"
      ],
      "text/plain": [
       "<rich.jupyter.JupyterRenderable at 0x7f0a35f60280>"
      ]
     },
     "metadata": {},
     "output_type": "display_data"
    },
    {
     "data": {
      "text/html": [
       "<pre style=\"white-space:pre;overflow-x:auto;line-height:normal;font-family:Menlo,'DejaVu Sans Mono',consolas,'Courier New',monospace\"><span style=\"color: #7fbfbf\">           </span>METRIC   Round <span style=\"color: #000080; font-weight: bold\">8</span>, collaborator env_six locally_tuned_model_validate result acc:  <span style=\"color: #000080; font-weight: bold\">0.951500</span>                                           <a href=\"file:///home/ubuntu/anaconda3/envs/openfl/lib/python3.8/site-packages/openfl/interface/interactive_api/experiment.py\"><span style=\"color: #7f7f7f\">experiment.py</span></a><span style=\"color: #7f7f7f\">:116</span>\n",
       "</pre>\n"
      ],
      "text/plain": [
       "<rich.jupyter.JupyterRenderable at 0x7f0a35f60100>"
      ]
     },
     "metadata": {},
     "output_type": "display_data"
    },
    {
     "data": {
      "text/html": [
       "<pre style=\"white-space:pre;overflow-x:auto;line-height:normal;font-family:Menlo,'DejaVu Sans Mono',consolas,'Courier New',monospace\"><span style=\"color: #7fbfbf\">[09:25:58] </span>METRIC   Round <span style=\"color: #000080; font-weight: bold\">8</span>, collaborator env_six aggregated_model_validate result acc:     <span style=\"color: #000080; font-weight: bold\">0.357500</span>                                           <a href=\"file:///home/ubuntu/anaconda3/envs/openfl/lib/python3.8/site-packages/openfl/interface/interactive_api/experiment.py\"><span style=\"color: #7f7f7f\">experiment.py</span></a><span style=\"color: #7f7f7f\">:116</span>\n",
       "</pre>\n"
      ],
      "text/plain": [
       "<rich.jupyter.JupyterRenderable at 0x7f0a35f60340>"
      ]
     },
     "metadata": {},
     "output_type": "display_data"
    },
    {
     "data": {
      "text/html": [
       "<pre style=\"white-space:pre;overflow-x:auto;line-height:normal;font-family:Menlo,'DejaVu Sans Mono',consolas,'Courier New',monospace\"><span style=\"color: #7fbfbf\">[09:26:08] </span>METRIC   Round <span style=\"color: #000080; font-weight: bold\">8</span>, collaborator env_nine train result train_loss: <span style=\"color: #000080; font-weight: bold\">0.075400</span>                                                           <a href=\"file:///home/ubuntu/anaconda3/envs/openfl/lib/python3.8/site-packages/openfl/interface/interactive_api/experiment.py\"><span style=\"color: #7f7f7f\">experiment.py</span></a><span style=\"color: #7f7f7f\">:116</span>\n",
       "</pre>\n"
      ],
      "text/plain": [
       "<rich.jupyter.JupyterRenderable at 0x7f0a35f603d0>"
      ]
     },
     "metadata": {},
     "output_type": "display_data"
    },
    {
     "data": {
      "text/html": [
       "<pre style=\"white-space:pre;overflow-x:auto;line-height:normal;font-family:Menlo,'DejaVu Sans Mono',consolas,'Courier New',monospace\"><span style=\"color: #7fbfbf\">           </span>METRIC   Round <span style=\"color: #000080; font-weight: bold\">8</span>, collaborator env_nine locally_tuned_model_validate result acc: <span style=\"color: #000080; font-weight: bold\">0.865000</span>                                           <a href=\"file:///home/ubuntu/anaconda3/envs/openfl/lib/python3.8/site-packages/openfl/interface/interactive_api/experiment.py\"><span style=\"color: #7f7f7f\">experiment.py</span></a><span style=\"color: #7f7f7f\">:116</span>\n",
       "</pre>\n"
      ],
      "text/plain": [
       "<rich.jupyter.JupyterRenderable at 0x7f0a35f60df0>"
      ]
     },
     "metadata": {},
     "output_type": "display_data"
    },
    {
     "data": {
      "text/html": [
       "<pre style=\"white-space:pre;overflow-x:auto;line-height:normal;font-family:Menlo,'DejaVu Sans Mono',consolas,'Courier New',monospace\"><span style=\"color: #7fbfbf\">[09:26:09] </span>METRIC   Round <span style=\"color: #000080; font-weight: bold\">8</span>, collaborator env_nine aggregated_model_validate result acc:    <span style=\"color: #000080; font-weight: bold\">0.751500</span>                                           <a href=\"file:///home/ubuntu/anaconda3/envs/openfl/lib/python3.8/site-packages/openfl/interface/interactive_api/experiment.py\"><span style=\"color: #7f7f7f\">experiment.py</span></a><span style=\"color: #7f7f7f\">:116</span>\n",
       "</pre>\n"
      ],
      "text/plain": [
       "<rich.jupyter.JupyterRenderable at 0x7f0a35f60220>"
      ]
     },
     "metadata": {},
     "output_type": "display_data"
    },
    {
     "data": {
      "text/html": [
       "<pre style=\"white-space:pre;overflow-x:auto;line-height:normal;font-family:Menlo,'DejaVu Sans Mono',consolas,'Courier New',monospace\"><span style=\"color: #7fbfbf\">[09:26:35] </span>METRIC   Round <span style=\"color: #000080; font-weight: bold\">8</span>, collaborator env_five train result train_loss: <span style=\"color: #000080; font-weight: bold\">0.023240</span>                                                           <a href=\"file:///home/ubuntu/anaconda3/envs/openfl/lib/python3.8/site-packages/openfl/interface/interactive_api/experiment.py\"><span style=\"color: #7f7f7f\">experiment.py</span></a><span style=\"color: #7f7f7f\">:116</span>\n",
       "</pre>\n"
      ],
      "text/plain": [
       "<rich.jupyter.JupyterRenderable at 0x7f0a35f60100>"
      ]
     },
     "metadata": {},
     "output_type": "display_data"
    },
    {
     "data": {
      "text/html": [
       "<pre style=\"white-space:pre;overflow-x:auto;line-height:normal;font-family:Menlo,'DejaVu Sans Mono',consolas,'Courier New',monospace\"><span style=\"color: #7fbfbf\">           </span>METRIC   Round <span style=\"color: #000080; font-weight: bold\">8</span>, collaborator env_five locally_tuned_model_validate result acc: <span style=\"color: #000080; font-weight: bold\">0.946500</span>                                           <a href=\"file:///home/ubuntu/anaconda3/envs/openfl/lib/python3.8/site-packages/openfl/interface/interactive_api/experiment.py\"><span style=\"color: #7f7f7f\">experiment.py</span></a><span style=\"color: #7f7f7f\">:116</span>\n",
       "</pre>\n"
      ],
      "text/plain": [
       "<rich.jupyter.JupyterRenderable at 0x7f0a35f60a90>"
      ]
     },
     "metadata": {},
     "output_type": "display_data"
    },
    {
     "data": {
      "text/html": [
       "<pre style=\"white-space:pre;overflow-x:auto;line-height:normal;font-family:Menlo,'DejaVu Sans Mono',consolas,'Courier New',monospace\"><span style=\"color: #7fbfbf\">[09:26:36] </span>METRIC   Round <span style=\"color: #000080; font-weight: bold\">8</span>, collaborator env_five aggregated_model_validate result acc:    <span style=\"color: #000080; font-weight: bold\">0.572000</span>                                           <a href=\"file:///home/ubuntu/anaconda3/envs/openfl/lib/python3.8/site-packages/openfl/interface/interactive_api/experiment.py\"><span style=\"color: #7f7f7f\">experiment.py</span></a><span style=\"color: #7f7f7f\">:116</span>\n",
       "</pre>\n"
      ],
      "text/plain": [
       "<rich.jupyter.JupyterRenderable at 0x7f0a35f601f0>"
      ]
     },
     "metadata": {},
     "output_type": "display_data"
    },
    {
     "data": {
      "text/html": [
       "<pre style=\"white-space:pre;overflow-x:auto;line-height:normal;font-family:Menlo,'DejaVu Sans Mono',consolas,'Courier New',monospace\"><span style=\"color: #7fbfbf\">[09:26:47] </span>METRIC   Round <span style=\"color: #000080; font-weight: bold\">8</span>, collaborator Aggregator train result train_loss:       <span style=\"color: #000080; font-weight: bold\">0.041869</span>                                                   <a href=\"file:///home/ubuntu/anaconda3/envs/openfl/lib/python3.8/site-packages/openfl/interface/interactive_api/experiment.py\"><span style=\"color: #7f7f7f\">experiment.py</span></a><span style=\"color: #7f7f7f\">:116</span>\n",
       "</pre>\n"
      ],
      "text/plain": [
       "<rich.jupyter.JupyterRenderable at 0x7f0a35f60df0>"
      ]
     },
     "metadata": {},
     "output_type": "display_data"
    },
    {
     "data": {
      "text/html": [
       "<pre style=\"white-space:pre;overflow-x:auto;line-height:normal;font-family:Menlo,'DejaVu Sans Mono',consolas,'Courier New',monospace\"><span style=\"color: #7fbfbf\">           </span>METRIC   Round <span style=\"color: #000080; font-weight: bold\">8</span>, collaborator Aggregator locally_tuned_model_validate result acc:       <span style=\"color: #000080; font-weight: bold\">0.939300</span>                                   <a href=\"file:///home/ubuntu/anaconda3/envs/openfl/lib/python3.8/site-packages/openfl/interface/interactive_api/experiment.py\"><span style=\"color: #7f7f7f\">experiment.py</span></a><span style=\"color: #7f7f7f\">:116</span>\n",
       "</pre>\n"
      ],
      "text/plain": [
       "<rich.jupyter.JupyterRenderable at 0x7f0a35f60a90>"
      ]
     },
     "metadata": {},
     "output_type": "display_data"
    },
    {
     "data": {
      "text/html": [
       "<pre style=\"white-space:pre;overflow-x:auto;line-height:normal;font-family:Menlo,'DejaVu Sans Mono',consolas,'Courier New',monospace\"><span style=\"color: #7fbfbf\">           </span>METRIC   Round <span style=\"color: #000080; font-weight: bold\">8</span>, collaborator Aggregator aggregated_model_validate result acc:  <span style=\"color: #000080; font-weight: bold\">0.470350</span>                                           <a href=\"file:///home/ubuntu/anaconda3/envs/openfl/lib/python3.8/site-packages/openfl/interface/interactive_api/experiment.py\"><span style=\"color: #7f7f7f\">experiment.py</span></a><span style=\"color: #7f7f7f\">:116</span>\n",
       "</pre>\n"
      ],
      "text/plain": [
       "<rich.jupyter.JupyterRenderable at 0x7f0a35f60250>"
      ]
     },
     "metadata": {},
     "output_type": "display_data"
    },
    {
     "data": {
      "text/html": [
       "<pre style=\"white-space:pre;overflow-x:auto;line-height:normal;font-family:Menlo,'DejaVu Sans Mono',consolas,'Courier New',monospace\"><span style=\"color: #7fbfbf\">[09:28:04] </span>METRIC   Round <span style=\"color: #000080; font-weight: bold\">9</span>, collaborator env_one train result train_loss:  <span style=\"color: #000080; font-weight: bold\">0.019267</span>                                                           <a href=\"file:///home/ubuntu/anaconda3/envs/openfl/lib/python3.8/site-packages/openfl/interface/interactive_api/experiment.py\"><span style=\"color: #7f7f7f\">experiment.py</span></a><span style=\"color: #7f7f7f\">:116</span>\n",
       "</pre>\n"
      ],
      "text/plain": [
       "<rich.jupyter.JupyterRenderable at 0x7f0a35f60730>"
      ]
     },
     "metadata": {},
     "output_type": "display_data"
    },
    {
     "data": {
      "text/html": [
       "<pre style=\"white-space:pre;overflow-x:auto;line-height:normal;font-family:Menlo,'DejaVu Sans Mono',consolas,'Courier New',monospace\"><span style=\"color: #7fbfbf\">[09:28:05] </span>METRIC   Round <span style=\"color: #000080; font-weight: bold\">9</span>, collaborator env_one locally_tuned_model_validate result acc:  <span style=\"color: #000080; font-weight: bold\">0.954500</span>                                           <a href=\"file:///home/ubuntu/anaconda3/envs/openfl/lib/python3.8/site-packages/openfl/interface/interactive_api/experiment.py\"><span style=\"color: #7f7f7f\">experiment.py</span></a><span style=\"color: #7f7f7f\">:116</span>\n",
       "</pre>\n"
      ],
      "text/plain": [
       "<rich.jupyter.JupyterRenderable at 0x7f0a35f603d0>"
      ]
     },
     "metadata": {},
     "output_type": "display_data"
    },
    {
     "data": {
      "text/html": [
       "<pre style=\"white-space:pre;overflow-x:auto;line-height:normal;font-family:Menlo,'DejaVu Sans Mono',consolas,'Courier New',monospace\"><span style=\"color: #7fbfbf\">           </span>METRIC   Round <span style=\"color: #000080; font-weight: bold\">9</span>, collaborator env_one aggregated_model_validate result acc:     <span style=\"color: #000080; font-weight: bold\">0.953000</span>                                           <a href=\"file:///home/ubuntu/anaconda3/envs/openfl/lib/python3.8/site-packages/openfl/interface/interactive_api/experiment.py\"><span style=\"color: #7f7f7f\">experiment.py</span></a><span style=\"color: #7f7f7f\">:116</span>\n",
       "</pre>\n"
      ],
      "text/plain": [
       "<rich.jupyter.JupyterRenderable at 0x7f0a35f60250>"
      ]
     },
     "metadata": {},
     "output_type": "display_data"
    },
    {
     "data": {
      "text/html": [
       "<pre style=\"white-space:pre;overflow-x:auto;line-height:normal;font-family:Menlo,'DejaVu Sans Mono',consolas,'Courier New',monospace\"><span style=\"color: #7fbfbf\">[09:28:06] </span>METRIC   Round <span style=\"color: #000080; font-weight: bold\">9</span>, collaborator env_seven train result train_loss:        <span style=\"color: #000080; font-weight: bold\">0.098320</span>                                                   <a href=\"file:///home/ubuntu/anaconda3/envs/openfl/lib/python3.8/site-packages/openfl/interface/interactive_api/experiment.py\"><span style=\"color: #7f7f7f\">experiment.py</span></a><span style=\"color: #7f7f7f\">:116</span>\n",
       "</pre>\n"
      ],
      "text/plain": [
       "<rich.jupyter.JupyterRenderable at 0x7f0a35f60730>"
      ]
     },
     "metadata": {},
     "output_type": "display_data"
    },
    {
     "data": {
      "text/html": [
       "<pre style=\"white-space:pre;overflow-x:auto;line-height:normal;font-family:Menlo,'DejaVu Sans Mono',consolas,'Courier New',monospace\"><span style=\"color: #7fbfbf\">           </span>METRIC   Round <span style=\"color: #000080; font-weight: bold\">9</span>, collaborator env_seven locally_tuned_model_validate result acc:        <span style=\"color: #000080; font-weight: bold\">0.879000</span>                                   <a href=\"file:///home/ubuntu/anaconda3/envs/openfl/lib/python3.8/site-packages/openfl/interface/interactive_api/experiment.py\"><span style=\"color: #7f7f7f\">experiment.py</span></a><span style=\"color: #7f7f7f\">:116</span>\n",
       "</pre>\n"
      ],
      "text/plain": [
       "<rich.jupyter.JupyterRenderable at 0x7f0a35f603d0>"
      ]
     },
     "metadata": {},
     "output_type": "display_data"
    },
    {
     "data": {
      "text/html": [
       "<pre style=\"white-space:pre;overflow-x:auto;line-height:normal;font-family:Menlo,'DejaVu Sans Mono',consolas,'Courier New',monospace\"><span style=\"color: #7fbfbf\">[09:28:07] </span>METRIC   Round <span style=\"color: #000080; font-weight: bold\">9</span>, collaborator env_seven aggregated_model_validate result acc:   <span style=\"color: #000080; font-weight: bold\">0.672500</span>                                           <a href=\"file:///home/ubuntu/anaconda3/envs/openfl/lib/python3.8/site-packages/openfl/interface/interactive_api/experiment.py\"><span style=\"color: #7f7f7f\">experiment.py</span></a><span style=\"color: #7f7f7f\">:116</span>\n",
       "</pre>\n"
      ],
      "text/plain": [
       "<rich.jupyter.JupyterRenderable at 0x7f0a35f60490>"
      ]
     },
     "metadata": {},
     "output_type": "display_data"
    },
    {
     "data": {
      "text/html": [
       "<pre style=\"white-space:pre;overflow-x:auto;line-height:normal;font-family:Menlo,'DejaVu Sans Mono',consolas,'Courier New',monospace\"><span style=\"color: #7fbfbf\">[09:28:08] </span>METRIC   Round <span style=\"color: #000080; font-weight: bold\">9</span>, collaborator env_four train result train_loss: <span style=\"color: #000080; font-weight: bold\">0.032121</span>                                                           <a href=\"file:///home/ubuntu/anaconda3/envs/openfl/lib/python3.8/site-packages/openfl/interface/interactive_api/experiment.py\"><span style=\"color: #7f7f7f\">experiment.py</span></a><span style=\"color: #7f7f7f\">:116</span>\n",
       "</pre>\n"
      ],
      "text/plain": [
       "<rich.jupyter.JupyterRenderable at 0x7f0a35f60070>"
      ]
     },
     "metadata": {},
     "output_type": "display_data"
    },
    {
     "data": {
      "text/html": [
       "<pre style=\"white-space:pre;overflow-x:auto;line-height:normal;font-family:Menlo,'DejaVu Sans Mono',consolas,'Courier New',monospace\"><span style=\"color: #7fbfbf\">           </span>METRIC   Round <span style=\"color: #000080; font-weight: bold\">9</span>, collaborator env_four locally_tuned_model_validate result acc: <span style=\"color: #000080; font-weight: bold\">0.956000</span>                                           <a href=\"file:///home/ubuntu/anaconda3/envs/openfl/lib/python3.8/site-packages/openfl/interface/interactive_api/experiment.py\"><span style=\"color: #7f7f7f\">experiment.py</span></a><span style=\"color: #7f7f7f\">:116</span>\n",
       "</pre>\n"
      ],
      "text/plain": [
       "<rich.jupyter.JupyterRenderable at 0x7f0a35f603d0>"
      ]
     },
     "metadata": {},
     "output_type": "display_data"
    },
    {
     "data": {
      "text/html": [
       "<pre style=\"white-space:pre;overflow-x:auto;line-height:normal;font-family:Menlo,'DejaVu Sans Mono',consolas,'Courier New',monospace\"><span style=\"color: #7fbfbf\">[09:28:09] </span>METRIC   Round <span style=\"color: #000080; font-weight: bold\">9</span>, collaborator env_four aggregated_model_validate result acc:    <span style=\"color: #000080; font-weight: bold\">0.477500</span>                                           <a href=\"file:///home/ubuntu/anaconda3/envs/openfl/lib/python3.8/site-packages/openfl/interface/interactive_api/experiment.py\"><span style=\"color: #7f7f7f\">experiment.py</span></a><span style=\"color: #7f7f7f\">:116</span>\n",
       "</pre>\n"
      ],
      "text/plain": [
       "<rich.jupyter.JupyterRenderable at 0x7f0a35f604c0>"
      ]
     },
     "metadata": {},
     "output_type": "display_data"
    },
    {
     "data": {
      "text/html": [
       "<pre style=\"white-space:pre;overflow-x:auto;line-height:normal;font-family:Menlo,'DejaVu Sans Mono',consolas,'Courier New',monospace\"><span style=\"color: #7fbfbf\">[09:28:19] </span>METRIC   Round <span style=\"color: #000080; font-weight: bold\">9</span>, collaborator env_eight train result train_loss:        <span style=\"color: #000080; font-weight: bold\">0.052961</span>                                                   <a href=\"file:///home/ubuntu/anaconda3/envs/openfl/lib/python3.8/site-packages/openfl/interface/interactive_api/experiment.py\"><span style=\"color: #7f7f7f\">experiment.py</span></a><span style=\"color: #7f7f7f\">:116</span>\n",
       "</pre>\n"
      ],
      "text/plain": [
       "<rich.jupyter.JupyterRenderable at 0x7f0a35f604f0>"
      ]
     },
     "metadata": {},
     "output_type": "display_data"
    },
    {
     "data": {
      "text/html": [
       "<pre style=\"white-space:pre;overflow-x:auto;line-height:normal;font-family:Menlo,'DejaVu Sans Mono',consolas,'Courier New',monospace\"><span style=\"color: #7fbfbf\">[09:28:20] </span>METRIC   Round <span style=\"color: #000080; font-weight: bold\">9</span>, collaborator env_eight locally_tuned_model_validate result acc:        <span style=\"color: #000080; font-weight: bold\">0.944500</span>                                   <a href=\"file:///home/ubuntu/anaconda3/envs/openfl/lib/python3.8/site-packages/openfl/interface/interactive_api/experiment.py\"><span style=\"color: #7f7f7f\">experiment.py</span></a><span style=\"color: #7f7f7f\">:116</span>\n",
       "</pre>\n"
      ],
      "text/plain": [
       "<rich.jupyter.JupyterRenderable at 0x7f0a35f603d0>"
      ]
     },
     "metadata": {},
     "output_type": "display_data"
    },
    {
     "data": {
      "text/html": [
       "<pre style=\"white-space:pre;overflow-x:auto;line-height:normal;font-family:Menlo,'DejaVu Sans Mono',consolas,'Courier New',monospace\"><span style=\"color: #7fbfbf\">           </span>METRIC   Round <span style=\"color: #000080; font-weight: bold\">9</span>, collaborator env_eight aggregated_model_validate result acc:   <span style=\"color: #000080; font-weight: bold\">0.122000</span>                                           <a href=\"file:///home/ubuntu/anaconda3/envs/openfl/lib/python3.8/site-packages/openfl/interface/interactive_api/experiment.py\"><span style=\"color: #7f7f7f\">experiment.py</span></a><span style=\"color: #7f7f7f\">:116</span>\n",
       "</pre>\n"
      ],
      "text/plain": [
       "<rich.jupyter.JupyterRenderable at 0x7f0a35f604c0>"
      ]
     },
     "metadata": {},
     "output_type": "display_data"
    },
    {
     "data": {
      "text/html": [
       "<pre style=\"white-space:pre;overflow-x:auto;line-height:normal;font-family:Menlo,'DejaVu Sans Mono',consolas,'Courier New',monospace\"><span style=\"color: #7fbfbf\">[09:28:28] </span>METRIC   Round <span style=\"color: #000080; font-weight: bold\">9</span>, collaborator env_three train result train_loss:        <span style=\"color: #000080; font-weight: bold\">0.032207</span>                                                   <a href=\"file:///home/ubuntu/anaconda3/envs/openfl/lib/python3.8/site-packages/openfl/interface/interactive_api/experiment.py\"><span style=\"color: #7f7f7f\">experiment.py</span></a><span style=\"color: #7f7f7f\">:116</span>\n",
       "</pre>\n"
      ],
      "text/plain": [
       "<rich.jupyter.JupyterRenderable at 0x7f0a35f604f0>"
      ]
     },
     "metadata": {},
     "output_type": "display_data"
    },
    {
     "data": {
      "text/html": [
       "<pre style=\"white-space:pre;overflow-x:auto;line-height:normal;font-family:Menlo,'DejaVu Sans Mono',consolas,'Courier New',monospace\"><span style=\"color: #7fbfbf\">           </span>METRIC   Round <span style=\"color: #000080; font-weight: bold\">9</span>, collaborator env_three locally_tuned_model_validate result acc:        <span style=\"color: #000080; font-weight: bold\">0.969000</span>                                   <a href=\"file:///home/ubuntu/anaconda3/envs/openfl/lib/python3.8/site-packages/openfl/interface/interactive_api/experiment.py\"><span style=\"color: #7f7f7f\">experiment.py</span></a><span style=\"color: #7f7f7f\">:116</span>\n",
       "</pre>\n"
      ],
      "text/plain": [
       "<rich.jupyter.JupyterRenderable at 0x7f0a35f603a0>"
      ]
     },
     "metadata": {},
     "output_type": "display_data"
    },
    {
     "data": {
      "text/html": [
       "<pre style=\"white-space:pre;overflow-x:auto;line-height:normal;font-family:Menlo,'DejaVu Sans Mono',consolas,'Courier New',monospace\"><span style=\"color: #7fbfbf\">[09:28:29] </span>METRIC   Round <span style=\"color: #000080; font-weight: bold\">9</span>, collaborator env_three aggregated_model_validate result acc:   <span style=\"color: #000080; font-weight: bold\">0.122000</span>                                           <a href=\"file:///home/ubuntu/anaconda3/envs/openfl/lib/python3.8/site-packages/openfl/interface/interactive_api/experiment.py\"><span style=\"color: #7f7f7f\">experiment.py</span></a><span style=\"color: #7f7f7f\">:116</span>\n",
       "</pre>\n"
      ],
      "text/plain": [
       "<rich.jupyter.JupyterRenderable at 0x7f0a35f60280>"
      ]
     },
     "metadata": {},
     "output_type": "display_data"
    },
    {
     "data": {
      "text/html": [
       "<pre style=\"white-space:pre;overflow-x:auto;line-height:normal;font-family:Menlo,'DejaVu Sans Mono',consolas,'Courier New',monospace\"><span style=\"color: #7fbfbf\">[09:28:30] </span>METRIC   Round <span style=\"color: #000080; font-weight: bold\">9</span>, collaborator env_two train result train_loss:  <span style=\"color: #000080; font-weight: bold\">0.024860</span>                                                           <a href=\"file:///home/ubuntu/anaconda3/envs/openfl/lib/python3.8/site-packages/openfl/interface/interactive_api/experiment.py\"><span style=\"color: #7f7f7f\">experiment.py</span></a><span style=\"color: #7f7f7f\">:116</span>\n",
       "</pre>\n"
      ],
      "text/plain": [
       "<rich.jupyter.JupyterRenderable at 0x7f0a35f603d0>"
      ]
     },
     "metadata": {},
     "output_type": "display_data"
    },
    {
     "data": {
      "text/html": [
       "<pre style=\"white-space:pre;overflow-x:auto;line-height:normal;font-family:Menlo,'DejaVu Sans Mono',consolas,'Courier New',monospace\"><span style=\"color: #7fbfbf\">[09:28:31] </span>METRIC   Round <span style=\"color: #000080; font-weight: bold\">9</span>, collaborator env_two locally_tuned_model_validate result acc:  <span style=\"color: #000080; font-weight: bold\">0.967500</span>                                           <a href=\"file:///home/ubuntu/anaconda3/envs/openfl/lib/python3.8/site-packages/openfl/interface/interactive_api/experiment.py\"><span style=\"color: #7f7f7f\">experiment.py</span></a><span style=\"color: #7f7f7f\">:116</span>\n",
       "</pre>\n"
      ],
      "text/plain": [
       "<rich.jupyter.JupyterRenderable at 0x7f0a35f603a0>"
      ]
     },
     "metadata": {},
     "output_type": "display_data"
    },
    {
     "data": {
      "text/html": [
       "<pre style=\"white-space:pre;overflow-x:auto;line-height:normal;font-family:Menlo,'DejaVu Sans Mono',consolas,'Courier New',monospace\"><span style=\"color: #7fbfbf\">[09:28:32] </span>METRIC   Round <span style=\"color: #000080; font-weight: bold\">9</span>, collaborator env_two aggregated_model_validate result acc:     <span style=\"color: #000080; font-weight: bold\">0.140000</span>                                           <a href=\"file:///home/ubuntu/anaconda3/envs/openfl/lib/python3.8/site-packages/openfl/interface/interactive_api/experiment.py\"><span style=\"color: #7f7f7f\">experiment.py</span></a><span style=\"color: #7f7f7f\">:116</span>\n",
       "</pre>\n"
      ],
      "text/plain": [
       "<rich.jupyter.JupyterRenderable at 0x7f0a35f60280>"
      ]
     },
     "metadata": {},
     "output_type": "display_data"
    },
    {
     "data": {
      "text/html": [
       "<pre style=\"white-space:pre;overflow-x:auto;line-height:normal;font-family:Menlo,'DejaVu Sans Mono',consolas,'Courier New',monospace\"><span style=\"color: #7fbfbf\">[09:28:44] </span>METRIC   Round <span style=\"color: #000080; font-weight: bold\">9</span>, collaborator env_ten train result train_loss:  <span style=\"color: #000080; font-weight: bold\">0.034807</span>                                                           <a href=\"file:///home/ubuntu/anaconda3/envs/openfl/lib/python3.8/site-packages/openfl/interface/interactive_api/experiment.py\"><span style=\"color: #7f7f7f\">experiment.py</span></a><span style=\"color: #7f7f7f\">:116</span>\n",
       "</pre>\n"
      ],
      "text/plain": [
       "<rich.jupyter.JupyterRenderable at 0x7f0a35f603d0>"
      ]
     },
     "metadata": {},
     "output_type": "display_data"
    },
    {
     "data": {
      "text/html": [
       "<pre style=\"white-space:pre;overflow-x:auto;line-height:normal;font-family:Menlo,'DejaVu Sans Mono',consolas,'Courier New',monospace\"><span style=\"color: #7fbfbf\">[09:28:45] </span>METRIC   Round <span style=\"color: #000080; font-weight: bold\">9</span>, collaborator env_ten locally_tuned_model_validate result acc:  <span style=\"color: #000080; font-weight: bold\">0.946500</span>                                           <a href=\"file:///home/ubuntu/anaconda3/envs/openfl/lib/python3.8/site-packages/openfl/interface/interactive_api/experiment.py\"><span style=\"color: #7f7f7f\">experiment.py</span></a><span style=\"color: #7f7f7f\">:116</span>\n",
       "</pre>\n"
      ],
      "text/plain": [
       "<rich.jupyter.JupyterRenderable at 0x7f0a35f603a0>"
      ]
     },
     "metadata": {},
     "output_type": "display_data"
    },
    {
     "data": {
      "text/html": [
       "<pre style=\"white-space:pre;overflow-x:auto;line-height:normal;font-family:Menlo,'DejaVu Sans Mono',consolas,'Courier New',monospace\"><span style=\"color: #7fbfbf\">           </span>METRIC   Round <span style=\"color: #000080; font-weight: bold\">9</span>, collaborator env_ten aggregated_model_validate result acc:     <span style=\"color: #000080; font-weight: bold\">0.475500</span>                                           <a href=\"file:///home/ubuntu/anaconda3/envs/openfl/lib/python3.8/site-packages/openfl/interface/interactive_api/experiment.py\"><span style=\"color: #7f7f7f\">experiment.py</span></a><span style=\"color: #7f7f7f\">:116</span>\n",
       "</pre>\n"
      ],
      "text/plain": [
       "<rich.jupyter.JupyterRenderable at 0x7f0a35f60280>"
      ]
     },
     "metadata": {},
     "output_type": "display_data"
    },
    {
     "data": {
      "text/html": [
       "<pre style=\"white-space:pre;overflow-x:auto;line-height:normal;font-family:Menlo,'DejaVu Sans Mono',consolas,'Courier New',monospace\"><span style=\"color: #7fbfbf\">[09:28:49] </span>METRIC   Round <span style=\"color: #000080; font-weight: bold\">9</span>, collaborator env_nine train result train_loss: <span style=\"color: #000080; font-weight: bold\">0.072505</span>                                                           <a href=\"file:///home/ubuntu/anaconda3/envs/openfl/lib/python3.8/site-packages/openfl/interface/interactive_api/experiment.py\"><span style=\"color: #7f7f7f\">experiment.py</span></a><span style=\"color: #7f7f7f\">:116</span>\n",
       "</pre>\n"
      ],
      "text/plain": [
       "<rich.jupyter.JupyterRenderable at 0x7f0a35f60100>"
      ]
     },
     "metadata": {},
     "output_type": "display_data"
    },
    {
     "data": {
      "text/html": [
       "<pre style=\"white-space:pre;overflow-x:auto;line-height:normal;font-family:Menlo,'DejaVu Sans Mono',consolas,'Courier New',monospace\"><span style=\"color: #7fbfbf\">           </span>METRIC   Round <span style=\"color: #000080; font-weight: bold\">9</span>, collaborator env_nine locally_tuned_model_validate result acc: <span style=\"color: #000080; font-weight: bold\">0.874500</span>                                           <a href=\"file:///home/ubuntu/anaconda3/envs/openfl/lib/python3.8/site-packages/openfl/interface/interactive_api/experiment.py\"><span style=\"color: #7f7f7f\">experiment.py</span></a><span style=\"color: #7f7f7f\">:116</span>\n",
       "</pre>\n"
      ],
      "text/plain": [
       "<rich.jupyter.JupyterRenderable at 0x7f0a35f603d0>"
      ]
     },
     "metadata": {},
     "output_type": "display_data"
    },
    {
     "data": {
      "text/html": [
       "<pre style=\"white-space:pre;overflow-x:auto;line-height:normal;font-family:Menlo,'DejaVu Sans Mono',consolas,'Courier New',monospace\"><span style=\"color: #7fbfbf\">[09:28:50] </span>METRIC   Round <span style=\"color: #000080; font-weight: bold\">9</span>, collaborator env_nine aggregated_model_validate result acc:    <span style=\"color: #000080; font-weight: bold\">0.018000</span>                                           <a href=\"file:///home/ubuntu/anaconda3/envs/openfl/lib/python3.8/site-packages/openfl/interface/interactive_api/experiment.py\"><span style=\"color: #7f7f7f\">experiment.py</span></a><span style=\"color: #7f7f7f\">:116</span>\n",
       "</pre>\n"
      ],
      "text/plain": [
       "<rich.jupyter.JupyterRenderable at 0x7f0a35f60a90>"
      ]
     },
     "metadata": {},
     "output_type": "display_data"
    },
    {
     "data": {
      "text/html": [
       "<pre style=\"white-space:pre;overflow-x:auto;line-height:normal;font-family:Menlo,'DejaVu Sans Mono',consolas,'Courier New',monospace\"><span style=\"color: #7fbfbf\">[09:29:17] </span>METRIC   Round <span style=\"color: #000080; font-weight: bold\">9</span>, collaborator env_six train result train_loss:  <span style=\"color: #000080; font-weight: bold\">0.018358</span>                                                           <a href=\"file:///home/ubuntu/anaconda3/envs/openfl/lib/python3.8/site-packages/openfl/interface/interactive_api/experiment.py\"><span style=\"color: #7f7f7f\">experiment.py</span></a><span style=\"color: #7f7f7f\">:116</span>\n",
       "</pre>\n"
      ],
      "text/plain": [
       "<rich.jupyter.JupyterRenderable at 0x7f0a35f60370>"
      ]
     },
     "metadata": {},
     "output_type": "display_data"
    },
    {
     "data": {
      "text/html": [
       "<pre style=\"white-space:pre;overflow-x:auto;line-height:normal;font-family:Menlo,'DejaVu Sans Mono',consolas,'Courier New',monospace\"><span style=\"color: #7fbfbf\">[09:29:18] </span>METRIC   Round <span style=\"color: #000080; font-weight: bold\">9</span>, collaborator env_six locally_tuned_model_validate result acc:  <span style=\"color: #000080; font-weight: bold\">0.961000</span>                                           <a href=\"file:///home/ubuntu/anaconda3/envs/openfl/lib/python3.8/site-packages/openfl/interface/interactive_api/experiment.py\"><span style=\"color: #7f7f7f\">experiment.py</span></a><span style=\"color: #7f7f7f\">:116</span>\n",
       "</pre>\n"
      ],
      "text/plain": [
       "<rich.jupyter.JupyterRenderable at 0x7f0a35f603d0>"
      ]
     },
     "metadata": {},
     "output_type": "display_data"
    },
    {
     "data": {
      "text/html": [
       "<pre style=\"white-space:pre;overflow-x:auto;line-height:normal;font-family:Menlo,'DejaVu Sans Mono',consolas,'Courier New',monospace\"><span style=\"color: #7fbfbf\">           </span>METRIC   Round <span style=\"color: #000080; font-weight: bold\">9</span>, collaborator env_six aggregated_model_validate result acc:     <span style=\"color: #000080; font-weight: bold\">0.953000</span>                                           <a href=\"file:///home/ubuntu/anaconda3/envs/openfl/lib/python3.8/site-packages/openfl/interface/interactive_api/experiment.py\"><span style=\"color: #7f7f7f\">experiment.py</span></a><span style=\"color: #7f7f7f\">:116</span>\n",
       "</pre>\n"
      ],
      "text/plain": [
       "<rich.jupyter.JupyterRenderable at 0x7f0a35f60a90>"
      ]
     },
     "metadata": {},
     "output_type": "display_data"
    },
    {
     "data": {
      "text/html": [
       "<pre style=\"white-space:pre;overflow-x:auto;line-height:normal;font-family:Menlo,'DejaVu Sans Mono',consolas,'Courier New',monospace\"><span style=\"color: #7fbfbf\">[09:29:56] </span>METRIC   Round <span style=\"color: #000080; font-weight: bold\">9</span>, collaborator env_five train result train_loss: <span style=\"color: #000080; font-weight: bold\">0.021229</span>                                                           <a href=\"file:///home/ubuntu/anaconda3/envs/openfl/lib/python3.8/site-packages/openfl/interface/interactive_api/experiment.py\"><span style=\"color: #7f7f7f\">experiment.py</span></a><span style=\"color: #7f7f7f\">:116</span>\n",
       "</pre>\n"
      ],
      "text/plain": [
       "<rich.jupyter.JupyterRenderable at 0x7f0a35f604f0>"
      ]
     },
     "metadata": {},
     "output_type": "display_data"
    },
    {
     "data": {
      "text/html": [
       "<pre style=\"white-space:pre;overflow-x:auto;line-height:normal;font-family:Menlo,'DejaVu Sans Mono',consolas,'Courier New',monospace\"><span style=\"color: #7fbfbf\">[09:29:57] </span>METRIC   Round <span style=\"color: #000080; font-weight: bold\">9</span>, collaborator env_five locally_tuned_model_validate result acc: <span style=\"color: #000080; font-weight: bold\">0.963500</span>                                           <a href=\"file:///home/ubuntu/anaconda3/envs/openfl/lib/python3.8/site-packages/openfl/interface/interactive_api/experiment.py\"><span style=\"color: #7f7f7f\">experiment.py</span></a><span style=\"color: #7f7f7f\">:116</span>\n",
       "</pre>\n"
      ],
      "text/plain": [
       "<rich.jupyter.JupyterRenderable at 0x7f0a35f603a0>"
      ]
     },
     "metadata": {},
     "output_type": "display_data"
    },
    {
     "data": {
      "text/html": [
       "<pre style=\"white-space:pre;overflow-x:auto;line-height:normal;font-family:Menlo,'DejaVu Sans Mono',consolas,'Courier New',monospace\"><span style=\"color: #7fbfbf\">           </span>METRIC   Round <span style=\"color: #000080; font-weight: bold\">9</span>, collaborator env_five aggregated_model_validate result acc:    <span style=\"color: #000080; font-weight: bold\">0.670500</span>                                           <a href=\"file:///home/ubuntu/anaconda3/envs/openfl/lib/python3.8/site-packages/openfl/interface/interactive_api/experiment.py\"><span style=\"color: #7f7f7f\">experiment.py</span></a><span style=\"color: #7f7f7f\">:116</span>\n",
       "</pre>\n"
      ],
      "text/plain": [
       "<rich.jupyter.JupyterRenderable at 0x7f0a35f60a90>"
      ]
     },
     "metadata": {},
     "output_type": "display_data"
    },
    {
     "data": {
      "text/html": [
       "<pre style=\"white-space:pre;overflow-x:auto;line-height:normal;font-family:Menlo,'DejaVu Sans Mono',consolas,'Courier New',monospace\"><span style=\"color: #7fbfbf\">[09:30:09] </span>METRIC   Round <span style=\"color: #000080; font-weight: bold\">9</span>, collaborator Aggregator train result train_loss:       <span style=\"color: #000080; font-weight: bold\">0.039415</span>                                                   <a href=\"file:///home/ubuntu/anaconda3/envs/openfl/lib/python3.8/site-packages/openfl/interface/interactive_api/experiment.py\"><span style=\"color: #7f7f7f\">experiment.py</span></a><span style=\"color: #7f7f7f\">:116</span>\n",
       "</pre>\n"
      ],
      "text/plain": [
       "<rich.jupyter.JupyterRenderable at 0x7f0a35f60040>"
      ]
     },
     "metadata": {},
     "output_type": "display_data"
    },
    {
     "data": {
      "text/html": [
       "<pre style=\"white-space:pre;overflow-x:auto;line-height:normal;font-family:Menlo,'DejaVu Sans Mono',consolas,'Courier New',monospace\"><span style=\"color: #7fbfbf\">           </span>METRIC   Round <span style=\"color: #000080; font-weight: bold\">9</span>, collaborator Aggregator locally_tuned_model_validate result acc:       <span style=\"color: #000080; font-weight: bold\">0.941600</span>                                   <a href=\"file:///home/ubuntu/anaconda3/envs/openfl/lib/python3.8/site-packages/openfl/interface/interactive_api/experiment.py\"><span style=\"color: #7f7f7f\">experiment.py</span></a><span style=\"color: #7f7f7f\">:116</span>\n",
       "</pre>\n"
      ],
      "text/plain": [
       "<rich.jupyter.JupyterRenderable at 0x7f0a35f60df0>"
      ]
     },
     "metadata": {},
     "output_type": "display_data"
    },
    {
     "data": {
      "text/html": [
       "<pre style=\"white-space:pre;overflow-x:auto;line-height:normal;font-family:Menlo,'DejaVu Sans Mono',consolas,'Courier New',monospace\"><span style=\"color: #7fbfbf\">           </span>METRIC   Round <span style=\"color: #000080; font-weight: bold\">9</span>, collaborator Aggregator aggregated_model_validate result acc:  <span style=\"color: #000080; font-weight: bold\">0.460400</span>                                           <a href=\"file:///home/ubuntu/anaconda3/envs/openfl/lib/python3.8/site-packages/openfl/interface/interactive_api/experiment.py\"><span style=\"color: #7f7f7f\">experiment.py</span></a><span style=\"color: #7f7f7f\">:116</span>\n",
       "</pre>\n"
      ],
      "text/plain": [
       "<rich.jupyter.JupyterRenderable at 0x7f0a35f603d0>"
      ]
     },
     "metadata": {},
     "output_type": "display_data"
    },
    {
     "data": {
      "text/html": [
       "<pre style=\"white-space:pre;overflow-x:auto;line-height:normal;font-family:Menlo,'DejaVu Sans Mono',consolas,'Courier New',monospace\"><span style=\"color: #7fbfbf\">[09:31:25] </span>METRIC   Round <span style=\"color: #000080; font-weight: bold\">10</span>, collaborator env_one train result train_loss: <span style=\"color: #000080; font-weight: bold\">0.019647</span>                                                           <a href=\"file:///home/ubuntu/anaconda3/envs/openfl/lib/python3.8/site-packages/openfl/interface/interactive_api/experiment.py\"><span style=\"color: #7f7f7f\">experiment.py</span></a><span style=\"color: #7f7f7f\">:116</span>\n",
       "</pre>\n"
      ],
      "text/plain": [
       "<rich.jupyter.JupyterRenderable at 0x7f0a35f60c10>"
      ]
     },
     "metadata": {},
     "output_type": "display_data"
    },
    {
     "data": {
      "text/html": [
       "<pre style=\"white-space:pre;overflow-x:auto;line-height:normal;font-family:Menlo,'DejaVu Sans Mono',consolas,'Courier New',monospace\"><span style=\"color: #7fbfbf\">           </span>METRIC   Round <span style=\"color: #000080; font-weight: bold\">10</span>, collaborator env_one locally_tuned_model_validate result acc: <span style=\"color: #000080; font-weight: bold\">0.960000</span>                                           <a href=\"file:///home/ubuntu/anaconda3/envs/openfl/lib/python3.8/site-packages/openfl/interface/interactive_api/experiment.py\"><span style=\"color: #7f7f7f\">experiment.py</span></a><span style=\"color: #7f7f7f\">:116</span>\n",
       "</pre>\n"
      ],
      "text/plain": [
       "<rich.jupyter.JupyterRenderable at 0x7f0a35f60a90>"
      ]
     },
     "metadata": {},
     "output_type": "display_data"
    },
    {
     "data": {
      "text/html": [
       "<pre style=\"white-space:pre;overflow-x:auto;line-height:normal;font-family:Menlo,'DejaVu Sans Mono',consolas,'Courier New',monospace\"><span style=\"color: #7fbfbf\">[09:31:26] </span>METRIC   Round <span style=\"color: #000080; font-weight: bold\">10</span>, collaborator env_one aggregated_model_validate result acc:    <span style=\"color: #000080; font-weight: bold\">0.377500</span>                                           <a href=\"file:///home/ubuntu/anaconda3/envs/openfl/lib/python3.8/site-packages/openfl/interface/interactive_api/experiment.py\"><span style=\"color: #7f7f7f\">experiment.py</span></a><span style=\"color: #7f7f7f\">:116</span>\n",
       "</pre>\n"
      ],
      "text/plain": [
       "<rich.jupyter.JupyterRenderable at 0x7f0a35f601c0>"
      ]
     },
     "metadata": {},
     "output_type": "display_data"
    },
    {
     "data": {
      "text/html": [
       "<pre style=\"white-space:pre;overflow-x:auto;line-height:normal;font-family:Menlo,'DejaVu Sans Mono',consolas,'Courier New',monospace\"><span style=\"color: #7fbfbf\">[09:31:34] </span>METRIC   Round <span style=\"color: #000080; font-weight: bold\">10</span>, collaborator env_seven train result train_loss:       <span style=\"color: #000080; font-weight: bold\">0.094932</span>                                                   <a href=\"file:///home/ubuntu/anaconda3/envs/openfl/lib/python3.8/site-packages/openfl/interface/interactive_api/experiment.py\"><span style=\"color: #7f7f7f\">experiment.py</span></a><span style=\"color: #7f7f7f\">:116</span>\n",
       "</pre>\n"
      ],
      "text/plain": [
       "<rich.jupyter.JupyterRenderable at 0x7f0a35f60a90>"
      ]
     },
     "metadata": {},
     "output_type": "display_data"
    },
    {
     "data": {
      "text/html": [
       "<pre style=\"white-space:pre;overflow-x:auto;line-height:normal;font-family:Menlo,'DejaVu Sans Mono',consolas,'Courier New',monospace\"><span style=\"color: #7fbfbf\">[09:31:35] </span>METRIC   Round <span style=\"color: #000080; font-weight: bold\">10</span>, collaborator env_seven locally_tuned_model_validate result acc:       <span style=\"color: #000080; font-weight: bold\">0.882000</span>                                   <a href=\"file:///home/ubuntu/anaconda3/envs/openfl/lib/python3.8/site-packages/openfl/interface/interactive_api/experiment.py\"><span style=\"color: #7f7f7f\">experiment.py</span></a><span style=\"color: #7f7f7f\">:116</span>\n",
       "</pre>\n"
      ],
      "text/plain": [
       "<rich.jupyter.JupyterRenderable at 0x7f0a35f60df0>"
      ]
     },
     "metadata": {},
     "output_type": "display_data"
    },
    {
     "data": {
      "text/html": [
       "<pre style=\"white-space:pre;overflow-x:auto;line-height:normal;font-family:Menlo,'DejaVu Sans Mono',consolas,'Courier New',monospace\"><span style=\"color: #7fbfbf\">           </span>METRIC   Round <span style=\"color: #000080; font-weight: bold\">10</span>, collaborator env_seven aggregated_model_validate result acc:  <span style=\"color: #000080; font-weight: bold\">0.277000</span>                                           <a href=\"file:///home/ubuntu/anaconda3/envs/openfl/lib/python3.8/site-packages/openfl/interface/interactive_api/experiment.py\"><span style=\"color: #7f7f7f\">experiment.py</span></a><span style=\"color: #7f7f7f\">:116</span>\n",
       "</pre>\n"
      ],
      "text/plain": [
       "<rich.jupyter.JupyterRenderable at 0x7f0a35f601c0>"
      ]
     },
     "metadata": {},
     "output_type": "display_data"
    },
    {
     "data": {
      "text/html": [
       "<pre style=\"white-space:pre;overflow-x:auto;line-height:normal;font-family:Menlo,'DejaVu Sans Mono',consolas,'Courier New',monospace\"><span style=\"color: #7fbfbf\">           </span>METRIC   Round <span style=\"color: #000080; font-weight: bold\">10</span>, collaborator env_four train result train_loss:        <span style=\"color: #000080; font-weight: bold\">0.029432</span>                                                   <a href=\"file:///home/ubuntu/anaconda3/envs/openfl/lib/python3.8/site-packages/openfl/interface/interactive_api/experiment.py\"><span style=\"color: #7f7f7f\">experiment.py</span></a><span style=\"color: #7f7f7f\">:116</span>\n",
       "</pre>\n"
      ],
      "text/plain": [
       "<rich.jupyter.JupyterRenderable at 0x7f0a35f60a90>"
      ]
     },
     "metadata": {},
     "output_type": "display_data"
    },
    {
     "data": {
      "text/html": [
       "<pre style=\"white-space:pre;overflow-x:auto;line-height:normal;font-family:Menlo,'DejaVu Sans Mono',consolas,'Courier New',monospace\"><span style=\"color: #7fbfbf\">[09:31:36] </span>METRIC   Round <span style=\"color: #000080; font-weight: bold\">10</span>, collaborator env_four locally_tuned_model_validate result acc:        <span style=\"color: #000080; font-weight: bold\">0.953500</span>                                   <a href=\"file:///home/ubuntu/anaconda3/envs/openfl/lib/python3.8/site-packages/openfl/interface/interactive_api/experiment.py\"><span style=\"color: #7f7f7f\">experiment.py</span></a><span style=\"color: #7f7f7f\">:116</span>\n",
       "</pre>\n"
      ],
      "text/plain": [
       "<rich.jupyter.JupyterRenderable at 0x7f0a35f60100>"
      ]
     },
     "metadata": {},
     "output_type": "display_data"
    },
    {
     "data": {
      "text/html": [
       "<pre style=\"white-space:pre;overflow-x:auto;line-height:normal;font-family:Menlo,'DejaVu Sans Mono',consolas,'Courier New',monospace\"><span style=\"color: #7fbfbf\">           </span>METRIC   Round <span style=\"color: #000080; font-weight: bold\">10</span>, collaborator env_four aggregated_model_validate result acc:   <span style=\"color: #000080; font-weight: bold\">0.002500</span>                                           <a href=\"file:///home/ubuntu/anaconda3/envs/openfl/lib/python3.8/site-packages/openfl/interface/interactive_api/experiment.py\"><span style=\"color: #7f7f7f\">experiment.py</span></a><span style=\"color: #7f7f7f\">:116</span>\n",
       "</pre>\n"
      ],
      "text/plain": [
       "<rich.jupyter.JupyterRenderable at 0x7f0a35f60df0>"
      ]
     },
     "metadata": {},
     "output_type": "display_data"
    },
    {
     "data": {
      "text/html": [
       "<pre style=\"white-space:pre;overflow-x:auto;line-height:normal;font-family:Menlo,'DejaVu Sans Mono',consolas,'Courier New',monospace\"><span style=\"color: #7fbfbf\">[09:31:40] </span>METRIC   Round <span style=\"color: #000080; font-weight: bold\">10</span>, collaborator env_eight train result train_loss:       <span style=\"color: #000080; font-weight: bold\">0.047634</span>                                                   <a href=\"file:///home/ubuntu/anaconda3/envs/openfl/lib/python3.8/site-packages/openfl/interface/interactive_api/experiment.py\"><span style=\"color: #7f7f7f\">experiment.py</span></a><span style=\"color: #7f7f7f\">:116</span>\n",
       "</pre>\n"
      ],
      "text/plain": [
       "<rich.jupyter.JupyterRenderable at 0x7f0a35f60c10>"
      ]
     },
     "metadata": {},
     "output_type": "display_data"
    },
    {
     "data": {
      "text/html": [
       "<pre style=\"white-space:pre;overflow-x:auto;line-height:normal;font-family:Menlo,'DejaVu Sans Mono',consolas,'Courier New',monospace\"><span style=\"color: #7fbfbf\">           </span>METRIC   Round <span style=\"color: #000080; font-weight: bold\">10</span>, collaborator env_eight locally_tuned_model_validate result acc:       <span style=\"color: #000080; font-weight: bold\">0.947500</span>                                   <a href=\"file:///home/ubuntu/anaconda3/envs/openfl/lib/python3.8/site-packages/openfl/interface/interactive_api/experiment.py\"><span style=\"color: #7f7f7f\">experiment.py</span></a><span style=\"color: #7f7f7f\">:116</span>\n",
       "</pre>\n"
      ],
      "text/plain": [
       "<rich.jupyter.JupyterRenderable at 0x7f0a35f60730>"
      ]
     },
     "metadata": {},
     "output_type": "display_data"
    },
    {
     "data": {
      "text/html": [
       "<pre style=\"white-space:pre;overflow-x:auto;line-height:normal;font-family:Menlo,'DejaVu Sans Mono',consolas,'Courier New',monospace\"><span style=\"color: #7fbfbf\">[09:31:41] </span>METRIC   Round <span style=\"color: #000080; font-weight: bold\">10</span>, collaborator env_eight aggregated_model_validate result acc:  <span style=\"color: #000080; font-weight: bold\">0.461500</span>                                           <a href=\"file:///home/ubuntu/anaconda3/envs/openfl/lib/python3.8/site-packages/openfl/interface/interactive_api/experiment.py\"><span style=\"color: #7f7f7f\">experiment.py</span></a><span style=\"color: #7f7f7f\">:116</span>\n",
       "</pre>\n"
      ],
      "text/plain": [
       "<rich.jupyter.JupyterRenderable at 0x7f0a35f60df0>"
      ]
     },
     "metadata": {},
     "output_type": "display_data"
    },
    {
     "data": {
      "text/html": [
       "<pre style=\"white-space:pre;overflow-x:auto;line-height:normal;font-family:Menlo,'DejaVu Sans Mono',consolas,'Courier New',monospace\"><span style=\"color: #7fbfbf\">[09:31:50] </span>METRIC   Round <span style=\"color: #000080; font-weight: bold\">10</span>, collaborator env_three train result train_loss:       <span style=\"color: #000080; font-weight: bold\">0.028286</span>                                                   <a href=\"file:///home/ubuntu/anaconda3/envs/openfl/lib/python3.8/site-packages/openfl/interface/interactive_api/experiment.py\"><span style=\"color: #7f7f7f\">experiment.py</span></a><span style=\"color: #7f7f7f\">:116</span>\n",
       "</pre>\n"
      ],
      "text/plain": [
       "<rich.jupyter.JupyterRenderable at 0x7f0a35f60c10>"
      ]
     },
     "metadata": {},
     "output_type": "display_data"
    },
    {
     "data": {
      "text/html": [
       "<pre style=\"white-space:pre;overflow-x:auto;line-height:normal;font-family:Menlo,'DejaVu Sans Mono',consolas,'Courier New',monospace\"><span style=\"color: #7fbfbf\">           </span>METRIC   Round <span style=\"color: #000080; font-weight: bold\">10</span>, collaborator env_three locally_tuned_model_validate result acc:       <span style=\"color: #000080; font-weight: bold\">0.965000</span>                                   <a href=\"file:///home/ubuntu/anaconda3/envs/openfl/lib/python3.8/site-packages/openfl/interface/interactive_api/experiment.py\"><span style=\"color: #7f7f7f\">experiment.py</span></a><span style=\"color: #7f7f7f\">:116</span>\n",
       "</pre>\n"
      ],
      "text/plain": [
       "<rich.jupyter.JupyterRenderable at 0x7f0a35f60730>"
      ]
     },
     "metadata": {},
     "output_type": "display_data"
    },
    {
     "data": {
      "text/html": [
       "<pre style=\"white-space:pre;overflow-x:auto;line-height:normal;font-family:Menlo,'DejaVu Sans Mono',consolas,'Courier New',monospace\"><span style=\"color: #7fbfbf\">[09:31:51] </span>METRIC   Round <span style=\"color: #000080; font-weight: bold\">10</span>, collaborator env_three aggregated_model_validate result acc:  <span style=\"color: #000080; font-weight: bold\">0.448000</span>                                           <a href=\"file:///home/ubuntu/anaconda3/envs/openfl/lib/python3.8/site-packages/openfl/interface/interactive_api/experiment.py\"><span style=\"color: #7f7f7f\">experiment.py</span></a><span style=\"color: #7f7f7f\">:116</span>\n",
       "</pre>\n"
      ],
      "text/plain": [
       "<rich.jupyter.JupyterRenderable at 0x7f0a35f601f0>"
      ]
     },
     "metadata": {},
     "output_type": "display_data"
    },
    {
     "data": {
      "text/html": [
       "<pre style=\"white-space:pre;overflow-x:auto;line-height:normal;font-family:Menlo,'DejaVu Sans Mono',consolas,'Courier New',monospace\"><span style=\"color: #7fbfbf\">[09:31:54] </span>METRIC   Round <span style=\"color: #000080; font-weight: bold\">10</span>, collaborator env_two train result train_loss: <span style=\"color: #000080; font-weight: bold\">0.020339</span>                                                           <a href=\"file:///home/ubuntu/anaconda3/envs/openfl/lib/python3.8/site-packages/openfl/interface/interactive_api/experiment.py\"><span style=\"color: #7f7f7f\">experiment.py</span></a><span style=\"color: #7f7f7f\">:116</span>\n",
       "</pre>\n"
      ],
      "text/plain": [
       "<rich.jupyter.JupyterRenderable at 0x7f0a35f601c0>"
      ]
     },
     "metadata": {},
     "output_type": "display_data"
    },
    {
     "data": {
      "text/html": [
       "<pre style=\"white-space:pre;overflow-x:auto;line-height:normal;font-family:Menlo,'DejaVu Sans Mono',consolas,'Courier New',monospace\"><span style=\"color: #7fbfbf\">           </span>METRIC   Round <span style=\"color: #000080; font-weight: bold\">10</span>, collaborator env_two locally_tuned_model_validate result acc: <span style=\"color: #000080; font-weight: bold\">0.974000</span>                                           <a href=\"file:///home/ubuntu/anaconda3/envs/openfl/lib/python3.8/site-packages/openfl/interface/interactive_api/experiment.py\"><span style=\"color: #7f7f7f\">experiment.py</span></a><span style=\"color: #7f7f7f\">:116</span>\n",
       "</pre>\n"
      ],
      "text/plain": [
       "<rich.jupyter.JupyterRenderable at 0x7f0a35f60730>"
      ]
     },
     "metadata": {},
     "output_type": "display_data"
    },
    {
     "data": {
      "text/html": [
       "<pre style=\"white-space:pre;overflow-x:auto;line-height:normal;font-family:Menlo,'DejaVu Sans Mono',consolas,'Courier New',monospace\"><span style=\"color: #7fbfbf\">[09:31:55] </span>METRIC   Round <span style=\"color: #000080; font-weight: bold\">10</span>, collaborator env_two aggregated_model_validate result acc:    <span style=\"color: #000080; font-weight: bold\">0.808500</span>                                           <a href=\"file:///home/ubuntu/anaconda3/envs/openfl/lib/python3.8/site-packages/openfl/interface/interactive_api/experiment.py\"><span style=\"color: #7f7f7f\">experiment.py</span></a><span style=\"color: #7f7f7f\">:116</span>\n",
       "</pre>\n"
      ],
      "text/plain": [
       "<rich.jupyter.JupyterRenderable at 0x7f0a35f604f0>"
      ]
     },
     "metadata": {},
     "output_type": "display_data"
    },
    {
     "data": {
      "text/html": [
       "<pre style=\"white-space:pre;overflow-x:auto;line-height:normal;font-family:Menlo,'DejaVu Sans Mono',consolas,'Courier New',monospace\"><span style=\"color: #7fbfbf\">[09:32:07] </span>METRIC   Round <span style=\"color: #000080; font-weight: bold\">10</span>, collaborator env_ten train result train_loss: <span style=\"color: #000080; font-weight: bold\">0.028752</span>                                                           <a href=\"file:///home/ubuntu/anaconda3/envs/openfl/lib/python3.8/site-packages/openfl/interface/interactive_api/experiment.py\"><span style=\"color: #7f7f7f\">experiment.py</span></a><span style=\"color: #7f7f7f\">:116</span>\n",
       "</pre>\n"
      ],
      "text/plain": [
       "<rich.jupyter.JupyterRenderable at 0x7f0a35f60340>"
      ]
     },
     "metadata": {},
     "output_type": "display_data"
    },
    {
     "data": {
      "text/html": [
       "<pre style=\"white-space:pre;overflow-x:auto;line-height:normal;font-family:Menlo,'DejaVu Sans Mono',consolas,'Courier New',monospace\"><span style=\"color: #7fbfbf\">           </span>METRIC   Round <span style=\"color: #000080; font-weight: bold\">10</span>, collaborator env_ten locally_tuned_model_validate result acc: <span style=\"color: #000080; font-weight: bold\">0.944000</span>                                           <a href=\"file:///home/ubuntu/anaconda3/envs/openfl/lib/python3.8/site-packages/openfl/interface/interactive_api/experiment.py\"><span style=\"color: #7f7f7f\">experiment.py</span></a><span style=\"color: #7f7f7f\">:116</span>\n",
       "</pre>\n"
      ],
      "text/plain": [
       "<rich.jupyter.JupyterRenderable at 0x7f0a35f60b50>"
      ]
     },
     "metadata": {},
     "output_type": "display_data"
    },
    {
     "data": {
      "text/html": [
       "<pre style=\"white-space:pre;overflow-x:auto;line-height:normal;font-family:Menlo,'DejaVu Sans Mono',consolas,'Courier New',monospace\"><span style=\"color: #7fbfbf\">[09:32:08] </span>METRIC   Round <span style=\"color: #000080; font-weight: bold\">10</span>, collaborator env_ten aggregated_model_validate result acc:    <span style=\"color: #000080; font-weight: bold\">0.722500</span>                                           <a href=\"file:///home/ubuntu/anaconda3/envs/openfl/lib/python3.8/site-packages/openfl/interface/interactive_api/experiment.py\"><span style=\"color: #7f7f7f\">experiment.py</span></a><span style=\"color: #7f7f7f\">:116</span>\n",
       "</pre>\n"
      ],
      "text/plain": [
       "<rich.jupyter.JupyterRenderable at 0x7f0a35f603d0>"
      ]
     },
     "metadata": {},
     "output_type": "display_data"
    },
    {
     "data": {
      "text/html": [
       "<pre style=\"white-space:pre;overflow-x:auto;line-height:normal;font-family:Menlo,'DejaVu Sans Mono',consolas,'Courier New',monospace\"><span style=\"color: #7fbfbf\">[09:32:44] </span>METRIC   Round <span style=\"color: #000080; font-weight: bold\">10</span>, collaborator env_six train result train_loss: <span style=\"color: #000080; font-weight: bold\">0.017463</span>                                                           <a href=\"file:///home/ubuntu/anaconda3/envs/openfl/lib/python3.8/site-packages/openfl/interface/interactive_api/experiment.py\"><span style=\"color: #7f7f7f\">experiment.py</span></a><span style=\"color: #7f7f7f\">:116</span>\n",
       "</pre>\n"
      ],
      "text/plain": [
       "<rich.jupyter.JupyterRenderable at 0x7f0a35f60b50>"
      ]
     },
     "metadata": {},
     "output_type": "display_data"
    },
    {
     "data": {
      "text/html": [
       "<pre style=\"white-space:pre;overflow-x:auto;line-height:normal;font-family:Menlo,'DejaVu Sans Mono',consolas,'Courier New',monospace\"><span style=\"color: #7fbfbf\">           </span>METRIC   Round <span style=\"color: #000080; font-weight: bold\">10</span>, collaborator env_six locally_tuned_model_validate result acc: <span style=\"color: #000080; font-weight: bold\">0.957000</span>                                           <a href=\"file:///home/ubuntu/anaconda3/envs/openfl/lib/python3.8/site-packages/openfl/interface/interactive_api/experiment.py\"><span style=\"color: #7f7f7f\">experiment.py</span></a><span style=\"color: #7f7f7f\">:116</span>\n",
       "</pre>\n"
      ],
      "text/plain": [
       "<rich.jupyter.JupyterRenderable at 0x7f0a35f604f0>"
      ]
     },
     "metadata": {},
     "output_type": "display_data"
    },
    {
     "data": {
      "text/html": [
       "<pre style=\"white-space:pre;overflow-x:auto;line-height:normal;font-family:Menlo,'DejaVu Sans Mono',consolas,'Courier New',monospace\"><span style=\"color: #7fbfbf\">[09:32:45] </span>METRIC   Round <span style=\"color: #000080; font-weight: bold\">10</span>, collaborator env_six aggregated_model_validate result acc:    <span style=\"color: #000080; font-weight: bold\">0.377500</span>                                           <a href=\"file:///home/ubuntu/anaconda3/envs/openfl/lib/python3.8/site-packages/openfl/interface/interactive_api/experiment.py\"><span style=\"color: #7f7f7f\">experiment.py</span></a><span style=\"color: #7f7f7f\">:116</span>\n",
       "</pre>\n"
      ],
      "text/plain": [
       "<rich.jupyter.JupyterRenderable at 0x7f0a35f60280>"
      ]
     },
     "metadata": {},
     "output_type": "display_data"
    },
    {
     "data": {
      "text/html": [
       "<pre style=\"white-space:pre;overflow-x:auto;line-height:normal;font-family:Menlo,'DejaVu Sans Mono',consolas,'Courier New',monospace\"><span style=\"color: #7fbfbf\">[09:32:52] </span>METRIC   Round <span style=\"color: #000080; font-weight: bold\">10</span>, collaborator env_nine train result train_loss:        <span style=\"color: #000080; font-weight: bold\">0.064211</span>                                                   <a href=\"file:///home/ubuntu/anaconda3/envs/openfl/lib/python3.8/site-packages/openfl/interface/interactive_api/experiment.py\"><span style=\"color: #7f7f7f\">experiment.py</span></a><span style=\"color: #7f7f7f\">:116</span>\n",
       "</pre>\n"
      ],
      "text/plain": [
       "<rich.jupyter.JupyterRenderable at 0x7f0a35f60340>"
      ]
     },
     "metadata": {},
     "output_type": "display_data"
    },
    {
     "data": {
      "text/html": [
       "<pre style=\"white-space:pre;overflow-x:auto;line-height:normal;font-family:Menlo,'DejaVu Sans Mono',consolas,'Courier New',monospace\"><span style=\"color: #7fbfbf\">           </span>METRIC   Round <span style=\"color: #000080; font-weight: bold\">10</span>, collaborator env_nine locally_tuned_model_validate result acc:        <span style=\"color: #000080; font-weight: bold\">0.869500</span>                                   <a href=\"file:///home/ubuntu/anaconda3/envs/openfl/lib/python3.8/site-packages/openfl/interface/interactive_api/experiment.py\"><span style=\"color: #7f7f7f\">experiment.py</span></a><span style=\"color: #7f7f7f\">:116</span>\n",
       "</pre>\n"
      ],
      "text/plain": [
       "<rich.jupyter.JupyterRenderable at 0x7f0a35f604f0>"
      ]
     },
     "metadata": {},
     "output_type": "display_data"
    },
    {
     "data": {
      "text/html": [
       "<pre style=\"white-space:pre;overflow-x:auto;line-height:normal;font-family:Menlo,'DejaVu Sans Mono',consolas,'Courier New',monospace\"><span style=\"color: #7fbfbf\">[09:32:53] </span>METRIC   Round <span style=\"color: #000080; font-weight: bold\">10</span>, collaborator env_nine aggregated_model_validate result acc:   <span style=\"color: #000080; font-weight: bold\">0.707000</span>                                           <a href=\"file:///home/ubuntu/anaconda3/envs/openfl/lib/python3.8/site-packages/openfl/interface/interactive_api/experiment.py\"><span style=\"color: #7f7f7f\">experiment.py</span></a><span style=\"color: #7f7f7f\">:116</span>\n",
       "</pre>\n"
      ],
      "text/plain": [
       "<rich.jupyter.JupyterRenderable at 0x7f0a35f600a0>"
      ]
     },
     "metadata": {},
     "output_type": "display_data"
    },
    {
     "data": {
      "text/html": [
       "<pre style=\"white-space:pre;overflow-x:auto;line-height:normal;font-family:Menlo,'DejaVu Sans Mono',consolas,'Courier New',monospace\"><span style=\"color: #7fbfbf\">[09:33:16] </span>METRIC   Round <span style=\"color: #000080; font-weight: bold\">10</span>, collaborator env_five train result train_loss:        <span style=\"color: #000080; font-weight: bold\">0.018553</span>                                                   <a href=\"file:///home/ubuntu/anaconda3/envs/openfl/lib/python3.8/site-packages/openfl/interface/interactive_api/experiment.py\"><span style=\"color: #7f7f7f\">experiment.py</span></a><span style=\"color: #7f7f7f\">:116</span>\n",
       "</pre>\n"
      ],
      "text/plain": [
       "<rich.jupyter.JupyterRenderable at 0x7f0a35f60040>"
      ]
     },
     "metadata": {},
     "output_type": "display_data"
    },
    {
     "data": {
      "text/html": [
       "<pre style=\"white-space:pre;overflow-x:auto;line-height:normal;font-family:Menlo,'DejaVu Sans Mono',consolas,'Courier New',monospace\"><span style=\"color: #7fbfbf\">[09:33:17] </span>METRIC   Round <span style=\"color: #000080; font-weight: bold\">10</span>, collaborator env_five locally_tuned_model_validate result acc:        <span style=\"color: #000080; font-weight: bold\">0.968000</span>                                   <a href=\"file:///home/ubuntu/anaconda3/envs/openfl/lib/python3.8/site-packages/openfl/interface/interactive_api/experiment.py\"><span style=\"color: #7f7f7f\">experiment.py</span></a><span style=\"color: #7f7f7f\">:116</span>\n",
       "</pre>\n"
      ],
      "text/plain": [
       "<rich.jupyter.JupyterRenderable at 0x7f0a35f603d0>"
      ]
     },
     "metadata": {},
     "output_type": "display_data"
    },
    {
     "data": {
      "text/html": [
       "<pre style=\"white-space:pre;overflow-x:auto;line-height:normal;font-family:Menlo,'DejaVu Sans Mono',consolas,'Courier New',monospace\"><span style=\"color: #7fbfbf\">           </span>METRIC   Round <span style=\"color: #000080; font-weight: bold\">10</span>, collaborator env_five aggregated_model_validate result acc:   <span style=\"color: #000080; font-weight: bold\">0.651500</span>                                           <a href=\"file:///home/ubuntu/anaconda3/envs/openfl/lib/python3.8/site-packages/openfl/interface/interactive_api/experiment.py\"><span style=\"color: #7f7f7f\">experiment.py</span></a><span style=\"color: #7f7f7f\">:116</span>\n",
       "</pre>\n"
      ],
      "text/plain": [
       "<rich.jupyter.JupyterRenderable at 0x7f0a35f600a0>"
      ]
     },
     "metadata": {},
     "output_type": "display_data"
    },
    {
     "data": {
      "text/html": [
       "<pre style=\"white-space:pre;overflow-x:auto;line-height:normal;font-family:Menlo,'DejaVu Sans Mono',consolas,'Courier New',monospace\"><span style=\"color: #7fbfbf\">[09:33:28] </span>METRIC   Round <span style=\"color: #000080; font-weight: bold\">10</span>, collaborator Aggregator train result train_loss:      <span style=\"color: #000080; font-weight: bold\">0.035552</span>                                                   <a href=\"file:///home/ubuntu/anaconda3/envs/openfl/lib/python3.8/site-packages/openfl/interface/interactive_api/experiment.py\"><span style=\"color: #7f7f7f\">experiment.py</span></a><span style=\"color: #7f7f7f\">:116</span>\n",
       "</pre>\n"
      ],
      "text/plain": [
       "<rich.jupyter.JupyterRenderable at 0x7f0a35f60490>"
      ]
     },
     "metadata": {},
     "output_type": "display_data"
    },
    {
     "data": {
      "text/html": [
       "<pre style=\"white-space:pre;overflow-x:auto;line-height:normal;font-family:Menlo,'DejaVu Sans Mono',consolas,'Courier New',monospace\"><span style=\"color: #7fbfbf\">           </span>METRIC   Round <span style=\"color: #000080; font-weight: bold\">10</span>, collaborator Aggregator locally_tuned_model_validate result acc:      <span style=\"color: #000080; font-weight: bold\">0.942050</span>                                   <a href=\"file:///home/ubuntu/anaconda3/envs/openfl/lib/python3.8/site-packages/openfl/interface/interactive_api/experiment.py\"><span style=\"color: #7f7f7f\">experiment.py</span></a><span style=\"color: #7f7f7f\">:116</span>\n",
       "</pre>\n"
      ],
      "text/plain": [
       "<rich.jupyter.JupyterRenderable at 0x7f0a35f604c0>"
      ]
     },
     "metadata": {},
     "output_type": "display_data"
    },
    {
     "data": {
      "text/html": [
       "<pre style=\"white-space:pre;overflow-x:auto;line-height:normal;font-family:Menlo,'DejaVu Sans Mono',consolas,'Courier New',monospace\"><span style=\"color: #7fbfbf\">           </span>METRIC   Round <span style=\"color: #000080; font-weight: bold\">10</span>, collaborator Aggregator aggregated_model_validate result acc: <span style=\"color: #000080; font-weight: bold\">0.483350</span>                                           <a href=\"file:///home/ubuntu/anaconda3/envs/openfl/lib/python3.8/site-packages/openfl/interface/interactive_api/experiment.py\"><span style=\"color: #7f7f7f\">experiment.py</span></a><span style=\"color: #7f7f7f\">:116</span>\n",
       "</pre>\n"
      ],
      "text/plain": [
       "<rich.jupyter.JupyterRenderable at 0x7f0a35f600a0>"
      ]
     },
     "metadata": {},
     "output_type": "display_data"
    },
    {
     "data": {
      "text/html": [
       "<pre style=\"white-space:pre;overflow-x:auto;line-height:normal;font-family:Menlo,'DejaVu Sans Mono',consolas,'Courier New',monospace\"><span style=\"color: #7fbfbf\">[09:34:44] </span>METRIC   Round <span style=\"color: #000080; font-weight: bold\">11</span>, collaborator env_one train result train_loss: <span style=\"color: #000080; font-weight: bold\">0.019115</span>                                                           <a href=\"file:///home/ubuntu/anaconda3/envs/openfl/lib/python3.8/site-packages/openfl/interface/interactive_api/experiment.py\"><span style=\"color: #7f7f7f\">experiment.py</span></a><span style=\"color: #7f7f7f\">:116</span>\n",
       "</pre>\n"
      ],
      "text/plain": [
       "<rich.jupyter.JupyterRenderable at 0x7f0a35f60490>"
      ]
     },
     "metadata": {},
     "output_type": "display_data"
    },
    {
     "data": {
      "text/html": [
       "<pre style=\"white-space:pre;overflow-x:auto;line-height:normal;font-family:Menlo,'DejaVu Sans Mono',consolas,'Courier New',monospace\"><span style=\"color: #7fbfbf\">[09:34:45] </span>METRIC   Round <span style=\"color: #000080; font-weight: bold\">11</span>, collaborator env_one locally_tuned_model_validate result acc: <span style=\"color: #000080; font-weight: bold\">0.963500</span>                                           <a href=\"file:///home/ubuntu/anaconda3/envs/openfl/lib/python3.8/site-packages/openfl/interface/interactive_api/experiment.py\"><span style=\"color: #7f7f7f\">experiment.py</span></a><span style=\"color: #7f7f7f\">:116</span>\n",
       "</pre>\n"
      ],
      "text/plain": [
       "<rich.jupyter.JupyterRenderable at 0x7f0a35f604c0>"
      ]
     },
     "metadata": {},
     "output_type": "display_data"
    },
    {
     "data": {
      "text/html": [
       "<pre style=\"white-space:pre;overflow-x:auto;line-height:normal;font-family:Menlo,'DejaVu Sans Mono',consolas,'Courier New',monospace\"><span style=\"color: #7fbfbf\">           </span>METRIC   Round <span style=\"color: #000080; font-weight: bold\">11</span>, collaborator env_one aggregated_model_validate result acc:    <span style=\"color: #000080; font-weight: bold\">0.951500</span>                                           <a href=\"file:///home/ubuntu/anaconda3/envs/openfl/lib/python3.8/site-packages/openfl/interface/interactive_api/experiment.py\"><span style=\"color: #7f7f7f\">experiment.py</span></a><span style=\"color: #7f7f7f\">:116</span>\n",
       "</pre>\n"
      ],
      "text/plain": [
       "<rich.jupyter.JupyterRenderable at 0x7f0a35f600a0>"
      ]
     },
     "metadata": {},
     "output_type": "display_data"
    },
    {
     "data": {
      "text/html": [
       "<pre style=\"white-space:pre;overflow-x:auto;line-height:normal;font-family:Menlo,'DejaVu Sans Mono',consolas,'Courier New',monospace\"><span style=\"color: #7fbfbf\">[09:34:55] </span>METRIC   Round <span style=\"color: #000080; font-weight: bold\">11</span>, collaborator env_four train result train_loss:        <span style=\"color: #000080; font-weight: bold\">0.027973</span>                                                   <a href=\"file:///home/ubuntu/anaconda3/envs/openfl/lib/python3.8/site-packages/openfl/interface/interactive_api/experiment.py\"><span style=\"color: #7f7f7f\">experiment.py</span></a><span style=\"color: #7f7f7f\">:116</span>\n",
       "</pre>\n"
      ],
      "text/plain": [
       "<rich.jupyter.JupyterRenderable at 0x7f0a35f60c40>"
      ]
     },
     "metadata": {},
     "output_type": "display_data"
    },
    {
     "data": {
      "text/html": [
       "<pre style=\"white-space:pre;overflow-x:auto;line-height:normal;font-family:Menlo,'DejaVu Sans Mono',consolas,'Courier New',monospace\"><span style=\"color: #7fbfbf\">           </span>METRIC   Round <span style=\"color: #000080; font-weight: bold\">11</span>, collaborator env_four locally_tuned_model_validate result acc:        <span style=\"color: #000080; font-weight: bold\">0.961500</span>                                   <a href=\"file:///home/ubuntu/anaconda3/envs/openfl/lib/python3.8/site-packages/openfl/interface/interactive_api/experiment.py\"><span style=\"color: #7f7f7f\">experiment.py</span></a><span style=\"color: #7f7f7f\">:116</span>\n",
       "</pre>\n"
      ],
      "text/plain": [
       "<rich.jupyter.JupyterRenderable at 0x7f0a35f60a90>"
      ]
     },
     "metadata": {},
     "output_type": "display_data"
    },
    {
     "data": {
      "text/html": [
       "<pre style=\"white-space:pre;overflow-x:auto;line-height:normal;font-family:Menlo,'DejaVu Sans Mono',consolas,'Courier New',monospace\"><span style=\"color: #7fbfbf\">[09:34:56] </span>METRIC   Round <span style=\"color: #000080; font-weight: bold\">11</span>, collaborator env_seven train result train_loss:       <span style=\"color: #000080; font-weight: bold\">0.088019</span>                                                   <a href=\"file:///home/ubuntu/anaconda3/envs/openfl/lib/python3.8/site-packages/openfl/interface/interactive_api/experiment.py\"><span style=\"color: #7f7f7f\">experiment.py</span></a><span style=\"color: #7f7f7f\">:116</span>\n",
       "</pre>\n"
      ],
      "text/plain": [
       "<rich.jupyter.JupyterRenderable at 0x7f0a35f60370>"
      ]
     },
     "metadata": {},
     "output_type": "display_data"
    },
    {
     "data": {
      "text/html": [
       "<pre style=\"white-space:pre;overflow-x:auto;line-height:normal;font-family:Menlo,'DejaVu Sans Mono',consolas,'Courier New',monospace\"><span style=\"color: #7fbfbf\">           </span>METRIC   Round <span style=\"color: #000080; font-weight: bold\">11</span>, collaborator env_four aggregated_model_validate result acc:   <span style=\"color: #000080; font-weight: bold\">0.478500</span>                                           <a href=\"file:///home/ubuntu/anaconda3/envs/openfl/lib/python3.8/site-packages/openfl/interface/interactive_api/experiment.py\"><span style=\"color: #7f7f7f\">experiment.py</span></a><span style=\"color: #7f7f7f\">:116</span>\n",
       "</pre>\n"
      ],
      "text/plain": [
       "<rich.jupyter.JupyterRenderable at 0x7f0a35f604f0>"
      ]
     },
     "metadata": {},
     "output_type": "display_data"
    },
    {
     "data": {
      "text/html": [
       "<pre style=\"white-space:pre;overflow-x:auto;line-height:normal;font-family:Menlo,'DejaVu Sans Mono',consolas,'Courier New',monospace\"><span style=\"color: #7fbfbf\">           </span>METRIC   Round <span style=\"color: #000080; font-weight: bold\">11</span>, collaborator env_seven locally_tuned_model_validate result acc:       <span style=\"color: #000080; font-weight: bold\">0.880500</span>                                   <a href=\"file:///home/ubuntu/anaconda3/envs/openfl/lib/python3.8/site-packages/openfl/interface/interactive_api/experiment.py\"><span style=\"color: #7f7f7f\">experiment.py</span></a><span style=\"color: #7f7f7f\">:116</span>\n",
       "</pre>\n"
      ],
      "text/plain": [
       "<rich.jupyter.JupyterRenderable at 0x7f0a35f60a90>"
      ]
     },
     "metadata": {},
     "output_type": "display_data"
    },
    {
     "data": {
      "text/html": [
       "<pre style=\"white-space:pre;overflow-x:auto;line-height:normal;font-family:Menlo,'DejaVu Sans Mono',consolas,'Courier New',monospace\"><span style=\"color: #7fbfbf\">[09:34:57] </span>METRIC   Round <span style=\"color: #000080; font-weight: bold\">11</span>, collaborator env_seven aggregated_model_validate result acc:  <span style=\"color: #000080; font-weight: bold\">0.662000</span>                                           <a href=\"file:///home/ubuntu/anaconda3/envs/openfl/lib/python3.8/site-packages/openfl/interface/interactive_api/experiment.py\"><span style=\"color: #7f7f7f\">experiment.py</span></a><span style=\"color: #7f7f7f\">:116</span>\n",
       "</pre>\n"
      ],
      "text/plain": [
       "<rich.jupyter.JupyterRenderable at 0x7f0a35f60370>"
      ]
     },
     "metadata": {},
     "output_type": "display_data"
    },
    {
     "data": {
      "text/html": [
       "<pre style=\"white-space:pre;overflow-x:auto;line-height:normal;font-family:Menlo,'DejaVu Sans Mono',consolas,'Courier New',monospace\"><span style=\"color: #7fbfbf\">[09:35:01] </span>METRIC   Round <span style=\"color: #000080; font-weight: bold\">11</span>, collaborator env_three train result train_loss:       <span style=\"color: #000080; font-weight: bold\">0.028080</span>                                                   <a href=\"file:///home/ubuntu/anaconda3/envs/openfl/lib/python3.8/site-packages/openfl/interface/interactive_api/experiment.py\"><span style=\"color: #7f7f7f\">experiment.py</span></a><span style=\"color: #7f7f7f\">:116</span>\n",
       "</pre>\n"
      ],
      "text/plain": [
       "<rich.jupyter.JupyterRenderable at 0x7f0a35f604f0>"
      ]
     },
     "metadata": {},
     "output_type": "display_data"
    },
    {
     "data": {
      "text/html": [
       "<pre style=\"white-space:pre;overflow-x:auto;line-height:normal;font-family:Menlo,'DejaVu Sans Mono',consolas,'Courier New',monospace\"><span style=\"color: #7fbfbf\">           </span>METRIC   Round <span style=\"color: #000080; font-weight: bold\">11</span>, collaborator env_three locally_tuned_model_validate result acc:       <span style=\"color: #000080; font-weight: bold\">0.967000</span>                                   <a href=\"file:///home/ubuntu/anaconda3/envs/openfl/lib/python3.8/site-packages/openfl/interface/interactive_api/experiment.py\"><span style=\"color: #7f7f7f\">experiment.py</span></a><span style=\"color: #7f7f7f\">:116</span>\n",
       "</pre>\n"
      ],
      "text/plain": [
       "<rich.jupyter.JupyterRenderable at 0x7f0a35f603a0>"
      ]
     },
     "metadata": {},
     "output_type": "display_data"
    },
    {
     "data": {
      "text/html": [
       "<pre style=\"white-space:pre;overflow-x:auto;line-height:normal;font-family:Menlo,'DejaVu Sans Mono',consolas,'Courier New',monospace\"><span style=\"color: #7fbfbf\">[09:35:02] </span>METRIC   Round <span style=\"color: #000080; font-weight: bold\">11</span>, collaborator env_three aggregated_model_validate result acc:  <span style=\"color: #000080; font-weight: bold\">0.179500</span>                                           <a href=\"file:///home/ubuntu/anaconda3/envs/openfl/lib/python3.8/site-packages/openfl/interface/interactive_api/experiment.py\"><span style=\"color: #7f7f7f\">experiment.py</span></a><span style=\"color: #7f7f7f\">:116</span>\n",
       "</pre>\n"
      ],
      "text/plain": [
       "<rich.jupyter.JupyterRenderable at 0x7f0a35f60730>"
      ]
     },
     "metadata": {},
     "output_type": "display_data"
    },
    {
     "data": {
      "text/html": [
       "<pre style=\"white-space:pre;overflow-x:auto;line-height:normal;font-family:Menlo,'DejaVu Sans Mono',consolas,'Courier New',monospace\"><span style=\"color: #7fbfbf\">           </span>METRIC   Round <span style=\"color: #000080; font-weight: bold\">11</span>, collaborator env_eight train result train_loss:       <span style=\"color: #000080; font-weight: bold\">0.046385</span>                                                   <a href=\"file:///home/ubuntu/anaconda3/envs/openfl/lib/python3.8/site-packages/openfl/interface/interactive_api/experiment.py\"><span style=\"color: #7f7f7f\">experiment.py</span></a><span style=\"color: #7f7f7f\">:116</span>\n",
       "</pre>\n"
      ],
      "text/plain": [
       "<rich.jupyter.JupyterRenderable at 0x7f0a35f604f0>"
      ]
     },
     "metadata": {},
     "output_type": "display_data"
    },
    {
     "data": {
      "text/html": [
       "<pre style=\"white-space:pre;overflow-x:auto;line-height:normal;font-family:Menlo,'DejaVu Sans Mono',consolas,'Courier New',monospace\"><span style=\"color: #7fbfbf\">[09:35:03] </span>METRIC   Round <span style=\"color: #000080; font-weight: bold\">11</span>, collaborator env_eight locally_tuned_model_validate result acc:       <span style=\"color: #000080; font-weight: bold\">0.944500</span>                                   <a href=\"file:///home/ubuntu/anaconda3/envs/openfl/lib/python3.8/site-packages/openfl/interface/interactive_api/experiment.py\"><span style=\"color: #7f7f7f\">experiment.py</span></a><span style=\"color: #7f7f7f\">:116</span>\n",
       "</pre>\n"
      ],
      "text/plain": [
       "<rich.jupyter.JupyterRenderable at 0x7f0a35f60250>"
      ]
     },
     "metadata": {},
     "output_type": "display_data"
    },
    {
     "data": {
      "text/html": [
       "<pre style=\"white-space:pre;overflow-x:auto;line-height:normal;font-family:Menlo,'DejaVu Sans Mono',consolas,'Courier New',monospace\"><span style=\"color: #7fbfbf\">           </span>METRIC   Round <span style=\"color: #000080; font-weight: bold\">11</span>, collaborator env_eight aggregated_model_validate result acc:  <span style=\"color: #000080; font-weight: bold\">0.179500</span>                                           <a href=\"file:///home/ubuntu/anaconda3/envs/openfl/lib/python3.8/site-packages/openfl/interface/interactive_api/experiment.py\"><span style=\"color: #7f7f7f\">experiment.py</span></a><span style=\"color: #7f7f7f\">:116</span>\n",
       "</pre>\n"
      ],
      "text/plain": [
       "<rich.jupyter.JupyterRenderable at 0x7f0a35f60a90>"
      ]
     },
     "metadata": {},
     "output_type": "display_data"
    },
    {
     "data": {
      "text/html": [
       "<pre style=\"white-space:pre;overflow-x:auto;line-height:normal;font-family:Menlo,'DejaVu Sans Mono',consolas,'Courier New',monospace\"><span style=\"color: #7fbfbf\">[09:35:17] </span>METRIC   Round <span style=\"color: #000080; font-weight: bold\">11</span>, collaborator env_two train result train_loss: <span style=\"color: #000080; font-weight: bold\">0.021352</span>                                                           <a href=\"file:///home/ubuntu/anaconda3/envs/openfl/lib/python3.8/site-packages/openfl/interface/interactive_api/experiment.py\"><span style=\"color: #7f7f7f\">experiment.py</span></a><span style=\"color: #7f7f7f\">:116</span>\n",
       "</pre>\n"
      ],
      "text/plain": [
       "<rich.jupyter.JupyterRenderable at 0x7f0a35f60490>"
      ]
     },
     "metadata": {},
     "output_type": "display_data"
    },
    {
     "data": {
      "text/html": [
       "<pre style=\"white-space:pre;overflow-x:auto;line-height:normal;font-family:Menlo,'DejaVu Sans Mono',consolas,'Courier New',monospace\"><span style=\"color: #7fbfbf\">[09:35:18] </span>METRIC   Round <span style=\"color: #000080; font-weight: bold\">11</span>, collaborator env_two locally_tuned_model_validate result acc: <span style=\"color: #000080; font-weight: bold\">0.975000</span>                                           <a href=\"file:///home/ubuntu/anaconda3/envs/openfl/lib/python3.8/site-packages/openfl/interface/interactive_api/experiment.py\"><span style=\"color: #7f7f7f\">experiment.py</span></a><span style=\"color: #7f7f7f\">:116</span>\n",
       "</pre>\n"
      ],
      "text/plain": [
       "<rich.jupyter.JupyterRenderable at 0x7f0a35f60730>"
      ]
     },
     "metadata": {},
     "output_type": "display_data"
    },
    {
     "data": {
      "text/html": [
       "<pre style=\"white-space:pre;overflow-x:auto;line-height:normal;font-family:Menlo,'DejaVu Sans Mono',consolas,'Courier New',monospace\"><span style=\"color: #7fbfbf\">           </span>METRIC   Round <span style=\"color: #000080; font-weight: bold\">11</span>, collaborator env_two aggregated_model_validate result acc:    <span style=\"color: #000080; font-weight: bold\">0.215500</span>                                           <a href=\"file:///home/ubuntu/anaconda3/envs/openfl/lib/python3.8/site-packages/openfl/interface/interactive_api/experiment.py\"><span style=\"color: #7f7f7f\">experiment.py</span></a><span style=\"color: #7f7f7f\">:116</span>\n",
       "</pre>\n"
      ],
      "text/plain": [
       "<rich.jupyter.JupyterRenderable at 0x7f0a35f60df0>"
      ]
     },
     "metadata": {},
     "output_type": "display_data"
    },
    {
     "data": {
      "text/html": [
       "<pre style=\"white-space:pre;overflow-x:auto;line-height:normal;font-family:Menlo,'DejaVu Sans Mono',consolas,'Courier New',monospace\"><span style=\"color: #7fbfbf\">[09:35:25] </span>METRIC   Round <span style=\"color: #000080; font-weight: bold\">11</span>, collaborator env_ten train result train_loss: <span style=\"color: #000080; font-weight: bold\">0.028860</span>                                                           <a href=\"file:///home/ubuntu/anaconda3/envs/openfl/lib/python3.8/site-packages/openfl/interface/interactive_api/experiment.py\"><span style=\"color: #7f7f7f\">experiment.py</span></a><span style=\"color: #7f7f7f\">:116</span>\n",
       "</pre>\n"
      ],
      "text/plain": [
       "<rich.jupyter.JupyterRenderable at 0x7f0a35f60490>"
      ]
     },
     "metadata": {},
     "output_type": "display_data"
    },
    {
     "data": {
      "text/html": [
       "<pre style=\"white-space:pre;overflow-x:auto;line-height:normal;font-family:Menlo,'DejaVu Sans Mono',consolas,'Courier New',monospace\"><span style=\"color: #7fbfbf\">[09:35:26] </span>METRIC   Round <span style=\"color: #000080; font-weight: bold\">11</span>, collaborator env_ten locally_tuned_model_validate result acc: <span style=\"color: #000080; font-weight: bold\">0.949500</span>                                           <a href=\"file:///home/ubuntu/anaconda3/envs/openfl/lib/python3.8/site-packages/openfl/interface/interactive_api/experiment.py\"><span style=\"color: #7f7f7f\">experiment.py</span></a><span style=\"color: #7f7f7f\">:116</span>\n",
       "</pre>\n"
      ],
      "text/plain": [
       "<rich.jupyter.JupyterRenderable at 0x7f0a35f600a0>"
      ]
     },
     "metadata": {},
     "output_type": "display_data"
    },
    {
     "data": {
      "text/html": [
       "<pre style=\"white-space:pre;overflow-x:auto;line-height:normal;font-family:Menlo,'DejaVu Sans Mono',consolas,'Courier New',monospace\"><span style=\"color: #7fbfbf\">           </span>METRIC   Round <span style=\"color: #000080; font-weight: bold\">11</span>, collaborator env_ten aggregated_model_validate result acc:    <span style=\"color: #000080; font-weight: bold\">0.473000</span>                                           <a href=\"file:///home/ubuntu/anaconda3/envs/openfl/lib/python3.8/site-packages/openfl/interface/interactive_api/experiment.py\"><span style=\"color: #7f7f7f\">experiment.py</span></a><span style=\"color: #7f7f7f\">:116</span>\n",
       "</pre>\n"
      ],
      "text/plain": [
       "<rich.jupyter.JupyterRenderable at 0x7f0a35f60a90>"
      ]
     },
     "metadata": {},
     "output_type": "display_data"
    },
    {
     "data": {
      "text/html": [
       "<pre style=\"white-space:pre;overflow-x:auto;line-height:normal;font-family:Menlo,'DejaVu Sans Mono',consolas,'Courier New',monospace\"><span style=\"color: #7fbfbf\">[09:36:04] </span>METRIC   Round <span style=\"color: #000080; font-weight: bold\">11</span>, collaborator env_six train result train_loss: <span style=\"color: #000080; font-weight: bold\">0.014936</span>                                                           <a href=\"file:///home/ubuntu/anaconda3/envs/openfl/lib/python3.8/site-packages/openfl/interface/interactive_api/experiment.py\"><span style=\"color: #7f7f7f\">experiment.py</span></a><span style=\"color: #7f7f7f\">:116</span>\n",
       "</pre>\n"
      ],
      "text/plain": [
       "<rich.jupyter.JupyterRenderable at 0x7f0a35f604f0>"
      ]
     },
     "metadata": {},
     "output_type": "display_data"
    },
    {
     "data": {
      "text/html": [
       "<pre style=\"white-space:pre;overflow-x:auto;line-height:normal;font-family:Menlo,'DejaVu Sans Mono',consolas,'Courier New',monospace\"><span style=\"color: #7fbfbf\">           </span>METRIC   Round <span style=\"color: #000080; font-weight: bold\">11</span>, collaborator env_six locally_tuned_model_validate result acc: <span style=\"color: #000080; font-weight: bold\">0.961000</span>                                           <a href=\"file:///home/ubuntu/anaconda3/envs/openfl/lib/python3.8/site-packages/openfl/interface/interactive_api/experiment.py\"><span style=\"color: #7f7f7f\">experiment.py</span></a><span style=\"color: #7f7f7f\">:116</span>\n",
       "</pre>\n"
      ],
      "text/plain": [
       "<rich.jupyter.JupyterRenderable at 0x7f0a35f602b0>"
      ]
     },
     "metadata": {},
     "output_type": "display_data"
    },
    {
     "data": {
      "text/html": [
       "<pre style=\"white-space:pre;overflow-x:auto;line-height:normal;font-family:Menlo,'DejaVu Sans Mono',consolas,'Courier New',monospace\"><span style=\"color: #7fbfbf\">[09:36:05] </span>METRIC   Round <span style=\"color: #000080; font-weight: bold\">11</span>, collaborator env_six aggregated_model_validate result acc:    <span style=\"color: #000080; font-weight: bold\">0.951500</span>                                           <a href=\"file:///home/ubuntu/anaconda3/envs/openfl/lib/python3.8/site-packages/openfl/interface/interactive_api/experiment.py\"><span style=\"color: #7f7f7f\">experiment.py</span></a><span style=\"color: #7f7f7f\">:116</span>\n",
       "</pre>\n"
      ],
      "text/plain": [
       "<rich.jupyter.JupyterRenderable at 0x7f0a35f60370>"
      ]
     },
     "metadata": {},
     "output_type": "display_data"
    },
    {
     "data": {
      "text/html": [
       "<pre style=\"white-space:pre;overflow-x:auto;line-height:normal;font-family:Menlo,'DejaVu Sans Mono',consolas,'Courier New',monospace\"><span style=\"color: #7fbfbf\">[09:36:22] </span>METRIC   Round <span style=\"color: #000080; font-weight: bold\">11</span>, collaborator env_nine train result train_loss:        <span style=\"color: #000080; font-weight: bold\">0.060833</span>                                                   <a href=\"file:///home/ubuntu/anaconda3/envs/openfl/lib/python3.8/site-packages/openfl/interface/interactive_api/experiment.py\"><span style=\"color: #7f7f7f\">experiment.py</span></a><span style=\"color: #7f7f7f\">:116</span>\n",
       "</pre>\n"
      ],
      "text/plain": [
       "<rich.jupyter.JupyterRenderable at 0x7f0a35f60280>"
      ]
     },
     "metadata": {},
     "output_type": "display_data"
    },
    {
     "data": {
      "text/html": [
       "<pre style=\"white-space:pre;overflow-x:auto;line-height:normal;font-family:Menlo,'DejaVu Sans Mono',consolas,'Courier New',monospace\"><span style=\"color: #7fbfbf\">           </span>METRIC   Round <span style=\"color: #000080; font-weight: bold\">11</span>, collaborator env_nine locally_tuned_model_validate result acc:        <span style=\"color: #000080; font-weight: bold\">0.843000</span>                                   <a href=\"file:///home/ubuntu/anaconda3/envs/openfl/lib/python3.8/site-packages/openfl/interface/interactive_api/experiment.py\"><span style=\"color: #7f7f7f\">experiment.py</span></a><span style=\"color: #7f7f7f\">:116</span>\n",
       "</pre>\n"
      ],
      "text/plain": [
       "<rich.jupyter.JupyterRenderable at 0x7f0a35f600d0>"
      ]
     },
     "metadata": {},
     "output_type": "display_data"
    },
    {
     "data": {
      "text/html": [
       "<pre style=\"white-space:pre;overflow-x:auto;line-height:normal;font-family:Menlo,'DejaVu Sans Mono',consolas,'Courier New',monospace\"><span style=\"color: #7fbfbf\">[09:36:23] </span>METRIC   Round <span style=\"color: #000080; font-weight: bold\">11</span>, collaborator env_nine aggregated_model_validate result acc:   <span style=\"color: #000080; font-weight: bold\">0.036000</span>                                           <a href=\"file:///home/ubuntu/anaconda3/envs/openfl/lib/python3.8/site-packages/openfl/interface/interactive_api/experiment.py\"><span style=\"color: #7f7f7f\">experiment.py</span></a><span style=\"color: #7f7f7f\">:116</span>\n",
       "</pre>\n"
      ],
      "text/plain": [
       "<rich.jupyter.JupyterRenderable at 0x7f0a35f601c0>"
      ]
     },
     "metadata": {},
     "output_type": "display_data"
    },
    {
     "data": {
      "text/html": [
       "<pre style=\"white-space:pre;overflow-x:auto;line-height:normal;font-family:Menlo,'DejaVu Sans Mono',consolas,'Courier New',monospace\"><span style=\"color: #7fbfbf\">[09:36:37] </span>METRIC   Round <span style=\"color: #000080; font-weight: bold\">11</span>, collaborator env_five train result train_loss:        <span style=\"color: #000080; font-weight: bold\">0.017282</span>                                                   <a href=\"file:///home/ubuntu/anaconda3/envs/openfl/lib/python3.8/site-packages/openfl/interface/interactive_api/experiment.py\"><span style=\"color: #7f7f7f\">experiment.py</span></a><span style=\"color: #7f7f7f\">:116</span>\n",
       "</pre>\n"
      ],
      "text/plain": [
       "<rich.jupyter.JupyterRenderable at 0x7f0a35f604c0>"
      ]
     },
     "metadata": {},
     "output_type": "display_data"
    },
    {
     "data": {
      "text/html": [
       "<pre style=\"white-space:pre;overflow-x:auto;line-height:normal;font-family:Menlo,'DejaVu Sans Mono',consolas,'Courier New',monospace\"><span style=\"color: #7fbfbf\">           </span>METRIC   Round <span style=\"color: #000080; font-weight: bold\">11</span>, collaborator env_five locally_tuned_model_validate result acc:        <span style=\"color: #000080; font-weight: bold\">0.966500</span>                                   <a href=\"file:///home/ubuntu/anaconda3/envs/openfl/lib/python3.8/site-packages/openfl/interface/interactive_api/experiment.py\"><span style=\"color: #7f7f7f\">experiment.py</span></a><span style=\"color: #7f7f7f\">:116</span>\n",
       "</pre>\n"
      ],
      "text/plain": [
       "<rich.jupyter.JupyterRenderable at 0x7f0a35f60250>"
      ]
     },
     "metadata": {},
     "output_type": "display_data"
    },
    {
     "data": {
      "text/html": [
       "<pre style=\"white-space:pre;overflow-x:auto;line-height:normal;font-family:Menlo,'DejaVu Sans Mono',consolas,'Courier New',monospace\"><span style=\"color: #7fbfbf\">[09:36:38] </span>METRIC   Round <span style=\"color: #000080; font-weight: bold\">11</span>, collaborator env_five aggregated_model_validate result acc:   <span style=\"color: #000080; font-weight: bold\">0.656500</span>                                           <a href=\"file:///home/ubuntu/anaconda3/envs/openfl/lib/python3.8/site-packages/openfl/interface/interactive_api/experiment.py\"><span style=\"color: #7f7f7f\">experiment.py</span></a><span style=\"color: #7f7f7f\">:116</span>\n",
       "</pre>\n"
      ],
      "text/plain": [
       "<rich.jupyter.JupyterRenderable at 0x7f0a35f60100>"
      ]
     },
     "metadata": {},
     "output_type": "display_data"
    },
    {
     "data": {
      "text/html": [
       "<pre style=\"white-space:pre;overflow-x:auto;line-height:normal;font-family:Menlo,'DejaVu Sans Mono',consolas,'Courier New',monospace\"><span style=\"color: #7fbfbf\">[09:36:49] </span>METRIC   Round <span style=\"color: #000080; font-weight: bold\">11</span>, collaborator Aggregator train result train_loss:      <span style=\"color: #000080; font-weight: bold\">0.033812</span>                                                   <a href=\"file:///home/ubuntu/anaconda3/envs/openfl/lib/python3.8/site-packages/openfl/interface/interactive_api/experiment.py\"><span style=\"color: #7f7f7f\">experiment.py</span></a><span style=\"color: #7f7f7f\">:116</span>\n",
       "</pre>\n"
      ],
      "text/plain": [
       "<rich.jupyter.JupyterRenderable at 0x7f0a35f60730>"
      ]
     },
     "metadata": {},
     "output_type": "display_data"
    },
    {
     "data": {
      "text/html": [
       "<pre style=\"white-space:pre;overflow-x:auto;line-height:normal;font-family:Menlo,'DejaVu Sans Mono',consolas,'Courier New',monospace\"><span style=\"color: #7fbfbf\">           </span>METRIC   Round <span style=\"color: #000080; font-weight: bold\">11</span>, collaborator Aggregator locally_tuned_model_validate result acc:      <span style=\"color: #000080; font-weight: bold\">0.941200</span>                                   <a href=\"file:///home/ubuntu/anaconda3/envs/openfl/lib/python3.8/site-packages/openfl/interface/interactive_api/experiment.py\"><span style=\"color: #7f7f7f\">experiment.py</span></a><span style=\"color: #7f7f7f\">:116</span>\n",
       "</pre>\n"
      ],
      "text/plain": [
       "<rich.jupyter.JupyterRenderable at 0x7f0a35f60df0>"
      ]
     },
     "metadata": {},
     "output_type": "display_data"
    },
    {
     "data": {
      "text/html": [
       "<pre style=\"white-space:pre;overflow-x:auto;line-height:normal;font-family:Menlo,'DejaVu Sans Mono',consolas,'Courier New',monospace\"><span style=\"color: #7fbfbf\">           </span>METRIC   Round <span style=\"color: #000080; font-weight: bold\">11</span>, collaborator Aggregator aggregated_model_validate result acc: <span style=\"color: #000080; font-weight: bold\">0.478350</span>                                           <a href=\"file:///home/ubuntu/anaconda3/envs/openfl/lib/python3.8/site-packages/openfl/interface/interactive_api/experiment.py\"><span style=\"color: #7f7f7f\">experiment.py</span></a><span style=\"color: #7f7f7f\">:116</span>\n",
       "</pre>\n"
      ],
      "text/plain": [
       "<rich.jupyter.JupyterRenderable at 0x7f0a35f60490>"
      ]
     },
     "metadata": {},
     "output_type": "display_data"
    },
    {
     "data": {
      "text/html": [
       "<pre style=\"white-space:pre;overflow-x:auto;line-height:normal;font-family:Menlo,'DejaVu Sans Mono',consolas,'Courier New',monospace\"><span style=\"color: #7fbfbf\">[09:38:07] </span>METRIC   Round <span style=\"color: #000080; font-weight: bold\">12</span>, collaborator env_one train result train_loss: <span style=\"color: #000080; font-weight: bold\">0.015543</span>                                                           <a href=\"file:///home/ubuntu/anaconda3/envs/openfl/lib/python3.8/site-packages/openfl/interface/interactive_api/experiment.py\"><span style=\"color: #7f7f7f\">experiment.py</span></a><span style=\"color: #7f7f7f\">:116</span>\n",
       "</pre>\n"
      ],
      "text/plain": [
       "<rich.jupyter.JupyterRenderable at 0x7f0a35f600a0>"
      ]
     },
     "metadata": {},
     "output_type": "display_data"
    },
    {
     "data": {
      "text/html": [
       "<pre style=\"white-space:pre;overflow-x:auto;line-height:normal;font-family:Menlo,'DejaVu Sans Mono',consolas,'Courier New',monospace\"><span style=\"color: #7fbfbf\">           </span>METRIC   Round <span style=\"color: #000080; font-weight: bold\">12</span>, collaborator env_one locally_tuned_model_validate result acc: <span style=\"color: #000080; font-weight: bold\">0.963000</span>                                           <a href=\"file:///home/ubuntu/anaconda3/envs/openfl/lib/python3.8/site-packages/openfl/interface/interactive_api/experiment.py\"><span style=\"color: #7f7f7f\">experiment.py</span></a><span style=\"color: #7f7f7f\">:116</span>\n",
       "</pre>\n"
      ],
      "text/plain": [
       "<rich.jupyter.JupyterRenderable at 0x7f0a35f60370>"
      ]
     },
     "metadata": {},
     "output_type": "display_data"
    },
    {
     "data": {
      "text/html": [
       "<pre style=\"white-space:pre;overflow-x:auto;line-height:normal;font-family:Menlo,'DejaVu Sans Mono',consolas,'Courier New',monospace\"><span style=\"color: #7fbfbf\">[09:38:08] </span>METRIC   Round <span style=\"color: #000080; font-weight: bold\">12</span>, collaborator env_one aggregated_model_validate result acc:    <span style=\"color: #000080; font-weight: bold\">0.406000</span>                                           <a href=\"file:///home/ubuntu/anaconda3/envs/openfl/lib/python3.8/site-packages/openfl/interface/interactive_api/experiment.py\"><span style=\"color: #7f7f7f\">experiment.py</span></a><span style=\"color: #7f7f7f\">:116</span>\n",
       "</pre>\n"
      ],
      "text/plain": [
       "<rich.jupyter.JupyterRenderable at 0x7f0a35f60a90>"
      ]
     },
     "metadata": {},
     "output_type": "display_data"
    },
    {
     "data": {
      "text/html": [
       "<pre style=\"white-space:pre;overflow-x:auto;line-height:normal;font-family:Menlo,'DejaVu Sans Mono',consolas,'Courier New',monospace\"><span style=\"color: #7fbfbf\">[09:38:10] </span>METRIC   Round <span style=\"color: #000080; font-weight: bold\">12</span>, collaborator env_four train result train_loss:        <span style=\"color: #000080; font-weight: bold\">0.026374</span>                                                   <a href=\"file:///home/ubuntu/anaconda3/envs/openfl/lib/python3.8/site-packages/openfl/interface/interactive_api/experiment.py\"><span style=\"color: #7f7f7f\">experiment.py</span></a><span style=\"color: #7f7f7f\">:116</span>\n",
       "</pre>\n"
      ],
      "text/plain": [
       "<rich.jupyter.JupyterRenderable at 0x7f0a35f603a0>"
      ]
     },
     "metadata": {},
     "output_type": "display_data"
    },
    {
     "data": {
      "text/html": [
       "<pre style=\"white-space:pre;overflow-x:auto;line-height:normal;font-family:Menlo,'DejaVu Sans Mono',consolas,'Courier New',monospace\"><span style=\"color: #7fbfbf\">[09:38:11] </span>METRIC   Round <span style=\"color: #000080; font-weight: bold\">12</span>, collaborator env_four locally_tuned_model_validate result acc:        <span style=\"color: #000080; font-weight: bold\">0.951000</span>                                   <a href=\"file:///home/ubuntu/anaconda3/envs/openfl/lib/python3.8/site-packages/openfl/interface/interactive_api/experiment.py\"><span style=\"color: #7f7f7f\">experiment.py</span></a><span style=\"color: #7f7f7f\">:116</span>\n",
       "</pre>\n"
      ],
      "text/plain": [
       "<rich.jupyter.JupyterRenderable at 0x7f0a35f604f0>"
      ]
     },
     "metadata": {},
     "output_type": "display_data"
    },
    {
     "data": {
      "text/html": [
       "<pre style=\"white-space:pre;overflow-x:auto;line-height:normal;font-family:Menlo,'DejaVu Sans Mono',consolas,'Courier New',monospace\"><span style=\"color: #7fbfbf\">           </span>METRIC   Round <span style=\"color: #000080; font-weight: bold\">12</span>, collaborator env_four aggregated_model_validate result acc:   <span style=\"color: #000080; font-weight: bold\">0.024500</span>                                           <a href=\"file:///home/ubuntu/anaconda3/envs/openfl/lib/python3.8/site-packages/openfl/interface/interactive_api/experiment.py\"><span style=\"color: #7f7f7f\">experiment.py</span></a><span style=\"color: #7f7f7f\">:116</span>\n",
       "</pre>\n"
      ],
      "text/plain": [
       "<rich.jupyter.JupyterRenderable at 0x7f0a35f60a90>"
      ]
     },
     "metadata": {},
     "output_type": "display_data"
    },
    {
     "data": {
      "text/html": [
       "<pre style=\"white-space:pre;overflow-x:auto;line-height:normal;font-family:Menlo,'DejaVu Sans Mono',consolas,'Courier New',monospace\"><span style=\"color: #7fbfbf\">[09:38:12] </span>METRIC   Round <span style=\"color: #000080; font-weight: bold\">12</span>, collaborator env_seven train result train_loss:       <span style=\"color: #000080; font-weight: bold\">0.084496</span>                                                   <a href=\"file:///home/ubuntu/anaconda3/envs/openfl/lib/python3.8/site-packages/openfl/interface/interactive_api/experiment.py\"><span style=\"color: #7f7f7f\">experiment.py</span></a><span style=\"color: #7f7f7f\">:116</span>\n",
       "</pre>\n"
      ],
      "text/plain": [
       "<rich.jupyter.JupyterRenderable at 0x7f0a35f60070>"
      ]
     },
     "metadata": {},
     "output_type": "display_data"
    },
    {
     "data": {
      "text/html": [
       "<pre style=\"white-space:pre;overflow-x:auto;line-height:normal;font-family:Menlo,'DejaVu Sans Mono',consolas,'Courier New',monospace\"><span style=\"color: #7fbfbf\">[09:38:13] </span>METRIC   Round <span style=\"color: #000080; font-weight: bold\">12</span>, collaborator env_seven locally_tuned_model_validate result acc:       <span style=\"color: #000080; font-weight: bold\">0.877000</span>                                   <a href=\"file:///home/ubuntu/anaconda3/envs/openfl/lib/python3.8/site-packages/openfl/interface/interactive_api/experiment.py\"><span style=\"color: #7f7f7f\">experiment.py</span></a><span style=\"color: #7f7f7f\">:116</span>\n",
       "</pre>\n"
      ],
      "text/plain": [
       "<rich.jupyter.JupyterRenderable at 0x7f0a35f60df0>"
      ]
     },
     "metadata": {},
     "output_type": "display_data"
    },
    {
     "data": {
      "text/html": [
       "<pre style=\"white-space:pre;overflow-x:auto;line-height:normal;font-family:Menlo,'DejaVu Sans Mono',consolas,'Courier New',monospace\"><span style=\"color: #7fbfbf\">           </span>METRIC   Round <span style=\"color: #000080; font-weight: bold\">12</span>, collaborator env_seven aggregated_model_validate result acc:  <span style=\"color: #000080; font-weight: bold\">0.331500</span>                                           <a href=\"file:///home/ubuntu/anaconda3/envs/openfl/lib/python3.8/site-packages/openfl/interface/interactive_api/experiment.py\"><span style=\"color: #7f7f7f\">experiment.py</span></a><span style=\"color: #7f7f7f\">:116</span>\n",
       "</pre>\n"
      ],
      "text/plain": [
       "<rich.jupyter.JupyterRenderable at 0x7f0a35f60c10>"
      ]
     },
     "metadata": {},
     "output_type": "display_data"
    },
    {
     "data": {
      "text/html": [
       "<pre style=\"white-space:pre;overflow-x:auto;line-height:normal;font-family:Menlo,'DejaVu Sans Mono',consolas,'Courier New',monospace\"><span style=\"color: #7fbfbf\">[09:38:24] </span>METRIC   Round <span style=\"color: #000080; font-weight: bold\">12</span>, collaborator env_eight train result train_loss:       <span style=\"color: #000080; font-weight: bold\">0.039793</span>                                                   <a href=\"file:///home/ubuntu/anaconda3/envs/openfl/lib/python3.8/site-packages/openfl/interface/interactive_api/experiment.py\"><span style=\"color: #7f7f7f\">experiment.py</span></a><span style=\"color: #7f7f7f\">:116</span>\n",
       "</pre>\n"
      ],
      "text/plain": [
       "<rich.jupyter.JupyterRenderable at 0x7f0a35f60040>"
      ]
     },
     "metadata": {},
     "output_type": "display_data"
    },
    {
     "data": {
      "text/html": [
       "<pre style=\"white-space:pre;overflow-x:auto;line-height:normal;font-family:Menlo,'DejaVu Sans Mono',consolas,'Courier New',monospace\"><span style=\"color: #7fbfbf\">[09:38:25] </span>METRIC   Round <span style=\"color: #000080; font-weight: bold\">12</span>, collaborator env_eight locally_tuned_model_validate result acc:       <span style=\"color: #000080; font-weight: bold\">0.950000</span>                                   <a href=\"file:///home/ubuntu/anaconda3/envs/openfl/lib/python3.8/site-packages/openfl/interface/interactive_api/experiment.py\"><span style=\"color: #7f7f7f\">experiment.py</span></a><span style=\"color: #7f7f7f\">:116</span>\n",
       "</pre>\n"
      ],
      "text/plain": [
       "<rich.jupyter.JupyterRenderable at 0x7f0a35f60730>"
      ]
     },
     "metadata": {},
     "output_type": "display_data"
    },
    {
     "data": {
      "text/html": [
       "<pre style=\"white-space:pre;overflow-x:auto;line-height:normal;font-family:Menlo,'DejaVu Sans Mono',consolas,'Courier New',monospace\"><span style=\"color: #7fbfbf\">           </span>METRIC   Round <span style=\"color: #000080; font-weight: bold\">12</span>, collaborator env_eight aggregated_model_validate result acc:  <span style=\"color: #000080; font-weight: bold\">0.468500</span>                                           <a href=\"file:///home/ubuntu/anaconda3/envs/openfl/lib/python3.8/site-packages/openfl/interface/interactive_api/experiment.py\"><span style=\"color: #7f7f7f\">experiment.py</span></a><span style=\"color: #7f7f7f\">:116</span>\n",
       "</pre>\n"
      ],
      "text/plain": [
       "<rich.jupyter.JupyterRenderable at 0x7f0a35f60c10>"
      ]
     },
     "metadata": {},
     "output_type": "display_data"
    },
    {
     "data": {
      "text/html": [
       "<pre style=\"white-space:pre;overflow-x:auto;line-height:normal;font-family:Menlo,'DejaVu Sans Mono',consolas,'Courier New',monospace\"><span style=\"color: #7fbfbf\">[09:38:27] </span>METRIC   Round <span style=\"color: #000080; font-weight: bold\">12</span>, collaborator env_three train result train_loss:       <span style=\"color: #000080; font-weight: bold\">0.023721</span>                                                   <a href=\"file:///home/ubuntu/anaconda3/envs/openfl/lib/python3.8/site-packages/openfl/interface/interactive_api/experiment.py\"><span style=\"color: #7f7f7f\">experiment.py</span></a><span style=\"color: #7f7f7f\">:116</span>\n",
       "</pre>\n"
      ],
      "text/plain": [
       "<rich.jupyter.JupyterRenderable at 0x7f0a35f60100>"
      ]
     },
     "metadata": {},
     "output_type": "display_data"
    },
    {
     "data": {
      "text/html": [
       "<pre style=\"white-space:pre;overflow-x:auto;line-height:normal;font-family:Menlo,'DejaVu Sans Mono',consolas,'Courier New',monospace\"><span style=\"color: #7fbfbf\">[09:38:28] </span>METRIC   Round <span style=\"color: #000080; font-weight: bold\">12</span>, collaborator env_three locally_tuned_model_validate result acc:       <span style=\"color: #000080; font-weight: bold\">0.964000</span>                                   <a href=\"file:///home/ubuntu/anaconda3/envs/openfl/lib/python3.8/site-packages/openfl/interface/interactive_api/experiment.py\"><span style=\"color: #7f7f7f\">experiment.py</span></a><span style=\"color: #7f7f7f\">:116</span>\n",
       "</pre>\n"
      ],
      "text/plain": [
       "<rich.jupyter.JupyterRenderable at 0x7f0a35f603a0>"
      ]
     },
     "metadata": {},
     "output_type": "display_data"
    },
    {
     "data": {
      "text/html": [
       "<pre style=\"white-space:pre;overflow-x:auto;line-height:normal;font-family:Menlo,'DejaVu Sans Mono',consolas,'Courier New',monospace\"><span style=\"color: #7fbfbf\">           </span>METRIC   Round <span style=\"color: #000080; font-weight: bold\">12</span>, collaborator env_three aggregated_model_validate result acc:  <span style=\"color: #000080; font-weight: bold\">0.446500</span>                                           <a href=\"file:///home/ubuntu/anaconda3/envs/openfl/lib/python3.8/site-packages/openfl/interface/interactive_api/experiment.py\"><span style=\"color: #7f7f7f\">experiment.py</span></a><span style=\"color: #7f7f7f\">:116</span>\n",
       "</pre>\n"
      ],
      "text/plain": [
       "<rich.jupyter.JupyterRenderable at 0x7f0a35f60c10>"
      ]
     },
     "metadata": {},
     "output_type": "display_data"
    },
    {
     "data": {
      "text/html": [
       "<pre style=\"white-space:pre;overflow-x:auto;line-height:normal;font-family:Menlo,'DejaVu Sans Mono',consolas,'Courier New',monospace\"><span style=\"color: #7fbfbf\">[09:38:40] </span>METRIC   Round <span style=\"color: #000080; font-weight: bold\">12</span>, collaborator env_two train result train_loss: <span style=\"color: #000080; font-weight: bold\">0.017967</span>                                                           <a href=\"file:///home/ubuntu/anaconda3/envs/openfl/lib/python3.8/site-packages/openfl/interface/interactive_api/experiment.py\"><span style=\"color: #7f7f7f\">experiment.py</span></a><span style=\"color: #7f7f7f\">:116</span>\n",
       "</pre>\n"
      ],
      "text/plain": [
       "<rich.jupyter.JupyterRenderable at 0x7f0a35f60100>"
      ]
     },
     "metadata": {},
     "output_type": "display_data"
    },
    {
     "data": {
      "text/html": [
       "<pre style=\"white-space:pre;overflow-x:auto;line-height:normal;font-family:Menlo,'DejaVu Sans Mono',consolas,'Courier New',monospace\"><span style=\"color: #7fbfbf\">           </span>METRIC   Round <span style=\"color: #000080; font-weight: bold\">12</span>, collaborator env_two locally_tuned_model_validate result acc: <span style=\"color: #000080; font-weight: bold\">0.978000</span>                                           <a href=\"file:///home/ubuntu/anaconda3/envs/openfl/lib/python3.8/site-packages/openfl/interface/interactive_api/experiment.py\"><span style=\"color: #7f7f7f\">experiment.py</span></a><span style=\"color: #7f7f7f\">:116</span>\n",
       "</pre>\n"
      ],
      "text/plain": [
       "<rich.jupyter.JupyterRenderable at 0x7f0a35f603d0>"
      ]
     },
     "metadata": {},
     "output_type": "display_data"
    },
    {
     "data": {
      "text/html": [
       "<pre style=\"white-space:pre;overflow-x:auto;line-height:normal;font-family:Menlo,'DejaVu Sans Mono',consolas,'Courier New',monospace\"><span style=\"color: #7fbfbf\">[09:38:41] </span>METRIC   Round <span style=\"color: #000080; font-weight: bold\">12</span>, collaborator env_two aggregated_model_validate result acc:    <span style=\"color: #000080; font-weight: bold\">0.796000</span>                                           <a href=\"file:///home/ubuntu/anaconda3/envs/openfl/lib/python3.8/site-packages/openfl/interface/interactive_api/experiment.py\"><span style=\"color: #7f7f7f\">experiment.py</span></a><span style=\"color: #7f7f7f\">:116</span>\n",
       "</pre>\n"
      ],
      "text/plain": [
       "<rich.jupyter.JupyterRenderable at 0x7f0a35f60490>"
      ]
     },
     "metadata": {},
     "output_type": "display_data"
    },
    {
     "data": {
      "text/html": [
       "<pre style=\"white-space:pre;overflow-x:auto;line-height:normal;font-family:Menlo,'DejaVu Sans Mono',consolas,'Courier New',monospace\"><span style=\"color: #7fbfbf\">[09:38:52] </span>METRIC   Round <span style=\"color: #000080; font-weight: bold\">12</span>, collaborator env_ten train result train_loss: <span style=\"color: #000080; font-weight: bold\">0.025036</span>                                                           <a href=\"file:///home/ubuntu/anaconda3/envs/openfl/lib/python3.8/site-packages/openfl/interface/interactive_api/experiment.py\"><span style=\"color: #7f7f7f\">experiment.py</span></a><span style=\"color: #7f7f7f\">:116</span>\n",
       "</pre>\n"
      ],
      "text/plain": [
       "<rich.jupyter.JupyterRenderable at 0x7f0a35f600a0>"
      ]
     },
     "metadata": {},
     "output_type": "display_data"
    },
    {
     "data": {
      "text/html": [
       "<pre style=\"white-space:pre;overflow-x:auto;line-height:normal;font-family:Menlo,'DejaVu Sans Mono',consolas,'Courier New',monospace\"><span style=\"color: #7fbfbf\">[09:38:53] </span>METRIC   Round <span style=\"color: #000080; font-weight: bold\">12</span>, collaborator env_ten locally_tuned_model_validate result acc: <span style=\"color: #000080; font-weight: bold\">0.948000</span>                                           <a href=\"file:///home/ubuntu/anaconda3/envs/openfl/lib/python3.8/site-packages/openfl/interface/interactive_api/experiment.py\"><span style=\"color: #7f7f7f\">experiment.py</span></a><span style=\"color: #7f7f7f\">:116</span>\n",
       "</pre>\n"
      ],
      "text/plain": [
       "<rich.jupyter.JupyterRenderable at 0x7f0a35f603d0>"
      ]
     },
     "metadata": {},
     "output_type": "display_data"
    },
    {
     "data": {
      "text/html": [
       "<pre style=\"white-space:pre;overflow-x:auto;line-height:normal;font-family:Menlo,'DejaVu Sans Mono',consolas,'Courier New',monospace\"><span style=\"color: #7fbfbf\">           </span>METRIC   Round <span style=\"color: #000080; font-weight: bold\">12</span>, collaborator env_ten aggregated_model_validate result acc:    <span style=\"color: #000080; font-weight: bold\">0.747000</span>                                           <a href=\"file:///home/ubuntu/anaconda3/envs/openfl/lib/python3.8/site-packages/openfl/interface/interactive_api/experiment.py\"><span style=\"color: #7f7f7f\">experiment.py</span></a><span style=\"color: #7f7f7f\">:116</span>\n",
       "</pre>\n"
      ],
      "text/plain": [
       "<rich.jupyter.JupyterRenderable at 0x7f0a35f600a0>"
      ]
     },
     "metadata": {},
     "output_type": "display_data"
    },
    {
     "data": {
      "text/html": [
       "<pre style=\"white-space:pre;overflow-x:auto;line-height:normal;font-family:Menlo,'DejaVu Sans Mono',consolas,'Courier New',monospace\"><span style=\"color: #7fbfbf\">[09:39:22] </span>METRIC   Round <span style=\"color: #000080; font-weight: bold\">12</span>, collaborator env_six train result train_loss: <span style=\"color: #000080; font-weight: bold\">0.014946</span>                                                           <a href=\"file:///home/ubuntu/anaconda3/envs/openfl/lib/python3.8/site-packages/openfl/interface/interactive_api/experiment.py\"><span style=\"color: #7f7f7f\">experiment.py</span></a><span style=\"color: #7f7f7f\">:116</span>\n",
       "</pre>\n"
      ],
      "text/plain": [
       "<rich.jupyter.JupyterRenderable at 0x7f0a35f601f0>"
      ]
     },
     "metadata": {},
     "output_type": "display_data"
    },
    {
     "data": {
      "text/html": [
       "<pre style=\"white-space:pre;overflow-x:auto;line-height:normal;font-family:Menlo,'DejaVu Sans Mono',consolas,'Courier New',monospace\"><span style=\"color: #7fbfbf\">           </span>METRIC   Round <span style=\"color: #000080; font-weight: bold\">12</span>, collaborator env_six locally_tuned_model_validate result acc: <span style=\"color: #000080; font-weight: bold\">0.964000</span>                                           <a href=\"file:///home/ubuntu/anaconda3/envs/openfl/lib/python3.8/site-packages/openfl/interface/interactive_api/experiment.py\"><span style=\"color: #7f7f7f\">experiment.py</span></a><span style=\"color: #7f7f7f\">:116</span>\n",
       "</pre>\n"
      ],
      "text/plain": [
       "<rich.jupyter.JupyterRenderable at 0x7f0a35f60100>"
      ]
     },
     "metadata": {},
     "output_type": "display_data"
    },
    {
     "data": {
      "text/html": [
       "<pre style=\"white-space:pre;overflow-x:auto;line-height:normal;font-family:Menlo,'DejaVu Sans Mono',consolas,'Courier New',monospace\"><span style=\"color: #7fbfbf\">[09:39:23] </span>METRIC   Round <span style=\"color: #000080; font-weight: bold\">12</span>, collaborator env_six aggregated_model_validate result acc:    <span style=\"color: #000080; font-weight: bold\">0.406000</span>                                           <a href=\"file:///home/ubuntu/anaconda3/envs/openfl/lib/python3.8/site-packages/openfl/interface/interactive_api/experiment.py\"><span style=\"color: #7f7f7f\">experiment.py</span></a><span style=\"color: #7f7f7f\">:116</span>\n",
       "</pre>\n"
      ],
      "text/plain": [
       "<rich.jupyter.JupyterRenderable at 0x7f0a35f602b0>"
      ]
     },
     "metadata": {},
     "output_type": "display_data"
    },
    {
     "data": {
      "text/html": [
       "<pre style=\"white-space:pre;overflow-x:auto;line-height:normal;font-family:Menlo,'DejaVu Sans Mono',consolas,'Courier New',monospace\"><span style=\"color: #7fbfbf\">[09:39:43] </span>METRIC   Round <span style=\"color: #000080; font-weight: bold\">12</span>, collaborator env_nine train result train_loss:        <span style=\"color: #000080; font-weight: bold\">0.055638</span>                                                   <a href=\"file:///home/ubuntu/anaconda3/envs/openfl/lib/python3.8/site-packages/openfl/interface/interactive_api/experiment.py\"><span style=\"color: #7f7f7f\">experiment.py</span></a><span style=\"color: #7f7f7f\">:116</span>\n",
       "</pre>\n"
      ],
      "text/plain": [
       "<rich.jupyter.JupyterRenderable at 0x7f0a35f60280>"
      ]
     },
     "metadata": {},
     "output_type": "display_data"
    },
    {
     "data": {
      "text/html": [
       "<pre style=\"white-space:pre;overflow-x:auto;line-height:normal;font-family:Menlo,'DejaVu Sans Mono',consolas,'Courier New',monospace\"><span style=\"color: #7fbfbf\">           </span>METRIC   Round <span style=\"color: #000080; font-weight: bold\">12</span>, collaborator env_nine locally_tuned_model_validate result acc:        <span style=\"color: #000080; font-weight: bold\">0.864500</span>                                   <a href=\"file:///home/ubuntu/anaconda3/envs/openfl/lib/python3.8/site-packages/openfl/interface/interactive_api/experiment.py\"><span style=\"color: #7f7f7f\">experiment.py</span></a><span style=\"color: #7f7f7f\">:116</span>\n",
       "</pre>\n"
      ],
      "text/plain": [
       "<rich.jupyter.JupyterRenderable at 0x7f0a35f60160>"
      ]
     },
     "metadata": {},
     "output_type": "display_data"
    },
    {
     "data": {
      "text/html": [
       "<pre style=\"white-space:pre;overflow-x:auto;line-height:normal;font-family:Menlo,'DejaVu Sans Mono',consolas,'Courier New',monospace\"><span style=\"color: #7fbfbf\">[09:39:44] </span>METRIC   Round <span style=\"color: #000080; font-weight: bold\">12</span>, collaborator env_nine aggregated_model_validate result acc:   <span style=\"color: #000080; font-weight: bold\">0.716000</span>                                           <a href=\"file:///home/ubuntu/anaconda3/envs/openfl/lib/python3.8/site-packages/openfl/interface/interactive_api/experiment.py\"><span style=\"color: #7f7f7f\">experiment.py</span></a><span style=\"color: #7f7f7f\">:116</span>\n",
       "</pre>\n"
      ],
      "text/plain": [
       "<rich.jupyter.JupyterRenderable at 0x7f0a35f60340>"
      ]
     },
     "metadata": {},
     "output_type": "display_data"
    },
    {
     "data": {
      "text/html": [
       "<pre style=\"white-space:pre;overflow-x:auto;line-height:normal;font-family:Menlo,'DejaVu Sans Mono',consolas,'Courier New',monospace\"><span style=\"color: #7fbfbf\">[09:39:57] </span>METRIC   Round <span style=\"color: #000080; font-weight: bold\">12</span>, collaborator env_five train result train_loss:        <span style=\"color: #000080; font-weight: bold\">0.015667</span>                                                   <a href=\"file:///home/ubuntu/anaconda3/envs/openfl/lib/python3.8/site-packages/openfl/interface/interactive_api/experiment.py\"><span style=\"color: #7f7f7f\">experiment.py</span></a><span style=\"color: #7f7f7f\">:116</span>\n",
       "</pre>\n"
      ],
      "text/plain": [
       "<rich.jupyter.JupyterRenderable at 0x7f0a35f601c0>"
      ]
     },
     "metadata": {},
     "output_type": "display_data"
    },
    {
     "data": {
      "text/html": [
       "<pre style=\"white-space:pre;overflow-x:auto;line-height:normal;font-family:Menlo,'DejaVu Sans Mono',consolas,'Courier New',monospace\"><span style=\"color: #7fbfbf\">[09:39:58] </span>METRIC   Round <span style=\"color: #000080; font-weight: bold\">12</span>, collaborator env_five locally_tuned_model_validate result acc:        <span style=\"color: #000080; font-weight: bold\">0.966000</span>                                   <a href=\"file:///home/ubuntu/anaconda3/envs/openfl/lib/python3.8/site-packages/openfl/interface/interactive_api/experiment.py\"><span style=\"color: #7f7f7f\">experiment.py</span></a><span style=\"color: #7f7f7f\">:116</span>\n",
       "</pre>\n"
      ],
      "text/plain": [
       "<rich.jupyter.JupyterRenderable at 0x7f0a35f60df0>"
      ]
     },
     "metadata": {},
     "output_type": "display_data"
    },
    {
     "data": {
      "text/html": [
       "<pre style=\"white-space:pre;overflow-x:auto;line-height:normal;font-family:Menlo,'DejaVu Sans Mono',consolas,'Courier New',monospace\"><span style=\"color: #7fbfbf\">           </span>METRIC   Round <span style=\"color: #000080; font-weight: bold\">12</span>, collaborator env_five aggregated_model_validate result acc:   <span style=\"color: #000080; font-weight: bold\">0.691500</span>                                           <a href=\"file:///home/ubuntu/anaconda3/envs/openfl/lib/python3.8/site-packages/openfl/interface/interactive_api/experiment.py\"><span style=\"color: #7f7f7f\">experiment.py</span></a><span style=\"color: #7f7f7f\">:116</span>\n",
       "</pre>\n"
      ],
      "text/plain": [
       "<rich.jupyter.JupyterRenderable at 0x7f0a35f60250>"
      ]
     },
     "metadata": {},
     "output_type": "display_data"
    },
    {
     "data": {
      "text/html": [
       "<pre style=\"white-space:pre;overflow-x:auto;line-height:normal;font-family:Menlo,'DejaVu Sans Mono',consolas,'Courier New',monospace\"><span style=\"color: #7fbfbf\">[09:40:09] </span>METRIC   Round <span style=\"color: #000080; font-weight: bold\">12</span>, collaborator Aggregator train result train_loss:      <span style=\"color: #000080; font-weight: bold\">0.030708</span>                                                   <a href=\"file:///home/ubuntu/anaconda3/envs/openfl/lib/python3.8/site-packages/openfl/interface/interactive_api/experiment.py\"><span style=\"color: #7f7f7f\">experiment.py</span></a><span style=\"color: #7f7f7f\">:116</span>\n",
       "</pre>\n"
      ],
      "text/plain": [
       "<rich.jupyter.JupyterRenderable at 0x7f0a35f60220>"
      ]
     },
     "metadata": {},
     "output_type": "display_data"
    },
    {
     "data": {
      "text/html": [
       "<pre style=\"white-space:pre;overflow-x:auto;line-height:normal;font-family:Menlo,'DejaVu Sans Mono',consolas,'Courier New',monospace\"><span style=\"color: #7fbfbf\">[09:40:10] </span>METRIC   Round <span style=\"color: #000080; font-weight: bold\">12</span>, collaborator Aggregator locally_tuned_model_validate result acc:      <span style=\"color: #000080; font-weight: bold\">0.942550</span>                                   <a href=\"file:///home/ubuntu/anaconda3/envs/openfl/lib/python3.8/site-packages/openfl/interface/interactive_api/experiment.py\"><span style=\"color: #7f7f7f\">experiment.py</span></a><span style=\"color: #7f7f7f\">:116</span>\n",
       "</pre>\n"
      ],
      "text/plain": [
       "<rich.jupyter.JupyterRenderable at 0x7f0a35f603a0>"
      ]
     },
     "metadata": {},
     "output_type": "display_data"
    },
    {
     "data": {
      "text/html": [
       "<pre style=\"white-space:pre;overflow-x:auto;line-height:normal;font-family:Menlo,'DejaVu Sans Mono',consolas,'Courier New',monospace\"><span style=\"color: #7fbfbf\">           </span>METRIC   Round <span style=\"color: #000080; font-weight: bold\">12</span>, collaborator Aggregator aggregated_model_validate result acc: <span style=\"color: #000080; font-weight: bold\">0.503350</span>                                           <a href=\"file:///home/ubuntu/anaconda3/envs/openfl/lib/python3.8/site-packages/openfl/interface/interactive_api/experiment.py\"><span style=\"color: #7f7f7f\">experiment.py</span></a><span style=\"color: #7f7f7f\">:116</span>\n",
       "</pre>\n"
      ],
      "text/plain": [
       "<rich.jupyter.JupyterRenderable at 0x7f0a35f60a90>"
      ]
     },
     "metadata": {},
     "output_type": "display_data"
    },
    {
     "data": {
      "text/html": [
       "<pre style=\"white-space:pre;overflow-x:auto;line-height:normal;font-family:Menlo,'DejaVu Sans Mono',consolas,'Courier New',monospace\"><span style=\"color: #7fbfbf\">[09:41:28] </span>METRIC   Round <span style=\"color: #000080; font-weight: bold\">13</span>, collaborator env_one train result train_loss: <span style=\"color: #000080; font-weight: bold\">0.015021</span>                                                           <a href=\"file:///home/ubuntu/anaconda3/envs/openfl/lib/python3.8/site-packages/openfl/interface/interactive_api/experiment.py\"><span style=\"color: #7f7f7f\">experiment.py</span></a><span style=\"color: #7f7f7f\">:116</span>\n",
       "</pre>\n"
      ],
      "text/plain": [
       "<rich.jupyter.JupyterRenderable at 0x7f0a35f60490>"
      ]
     },
     "metadata": {},
     "output_type": "display_data"
    },
    {
     "data": {
      "text/html": [
       "<pre style=\"white-space:pre;overflow-x:auto;line-height:normal;font-family:Menlo,'DejaVu Sans Mono',consolas,'Courier New',monospace\"><span style=\"color: #7fbfbf\">[09:41:29] </span>METRIC   Round <span style=\"color: #000080; font-weight: bold\">13</span>, collaborator env_one locally_tuned_model_validate result acc: <span style=\"color: #000080; font-weight: bold\">0.958500</span>                                           <a href=\"file:///home/ubuntu/anaconda3/envs/openfl/lib/python3.8/site-packages/openfl/interface/interactive_api/experiment.py\"><span style=\"color: #7f7f7f\">experiment.py</span></a><span style=\"color: #7f7f7f\">:116</span>\n",
       "</pre>\n"
      ],
      "text/plain": [
       "<rich.jupyter.JupyterRenderable at 0x7f0a35f602b0>"
      ]
     },
     "metadata": {},
     "output_type": "display_data"
    },
    {
     "data": {
      "text/html": [
       "<pre style=\"white-space:pre;overflow-x:auto;line-height:normal;font-family:Menlo,'DejaVu Sans Mono',consolas,'Courier New',monospace\"><span style=\"color: #7fbfbf\">[09:41:30] </span>METRIC   Round <span style=\"color: #000080; font-weight: bold\">13</span>, collaborator env_one aggregated_model_validate result acc:    <span style=\"color: #000080; font-weight: bold\">0.953500</span>                                           <a href=\"file:///home/ubuntu/anaconda3/envs/openfl/lib/python3.8/site-packages/openfl/interface/interactive_api/experiment.py\"><span style=\"color: #7f7f7f\">experiment.py</span></a><span style=\"color: #7f7f7f\">:116</span>\n",
       "</pre>\n"
      ],
      "text/plain": [
       "<rich.jupyter.JupyterRenderable at 0x7f0a35f601f0>"
      ]
     },
     "metadata": {},
     "output_type": "display_data"
    },
    {
     "data": {
      "text/html": [
       "<pre style=\"white-space:pre;overflow-x:auto;line-height:normal;font-family:Menlo,'DejaVu Sans Mono',consolas,'Courier New',monospace\"><span style=\"color: #7fbfbf\">           </span>METRIC   Round <span style=\"color: #000080; font-weight: bold\">13</span>, collaborator env_four train result train_loss:        <span style=\"color: #000080; font-weight: bold\">0.024589</span>                                                   <a href=\"file:///home/ubuntu/anaconda3/envs/openfl/lib/python3.8/site-packages/openfl/interface/interactive_api/experiment.py\"><span style=\"color: #7f7f7f\">experiment.py</span></a><span style=\"color: #7f7f7f\">:116</span>\n",
       "</pre>\n"
      ],
      "text/plain": [
       "<rich.jupyter.JupyterRenderable at 0x7f0a35f60490>"
      ]
     },
     "metadata": {},
     "output_type": "display_data"
    },
    {
     "data": {
      "text/html": [
       "<pre style=\"white-space:pre;overflow-x:auto;line-height:normal;font-family:Menlo,'DejaVu Sans Mono',consolas,'Courier New',monospace\"><span style=\"color: #7fbfbf\">           </span>METRIC   Round <span style=\"color: #000080; font-weight: bold\">13</span>, collaborator env_four locally_tuned_model_validate result acc:        <span style=\"color: #000080; font-weight: bold\">0.962500</span>                                   <a href=\"file:///home/ubuntu/anaconda3/envs/openfl/lib/python3.8/site-packages/openfl/interface/interactive_api/experiment.py\"><span style=\"color: #7f7f7f\">experiment.py</span></a><span style=\"color: #7f7f7f\">:116</span>\n",
       "</pre>\n"
      ],
      "text/plain": [
       "<rich.jupyter.JupyterRenderable at 0x7f0a35f602b0>"
      ]
     },
     "metadata": {},
     "output_type": "display_data"
    },
    {
     "data": {
      "text/html": [
       "<pre style=\"white-space:pre;overflow-x:auto;line-height:normal;font-family:Menlo,'DejaVu Sans Mono',consolas,'Courier New',monospace\"><span style=\"color: #7fbfbf\">[09:41:31] </span>METRIC   Round <span style=\"color: #000080; font-weight: bold\">13</span>, collaborator env_four aggregated_model_validate result acc:   <span style=\"color: #000080; font-weight: bold\">0.482000</span>                                           <a href=\"file:///home/ubuntu/anaconda3/envs/openfl/lib/python3.8/site-packages/openfl/interface/interactive_api/experiment.py\"><span style=\"color: #7f7f7f\">experiment.py</span></a><span style=\"color: #7f7f7f\">:116</span>\n",
       "</pre>\n"
      ],
      "text/plain": [
       "<rich.jupyter.JupyterRenderable at 0x7f0a35f60b50>"
      ]
     },
     "metadata": {},
     "output_type": "display_data"
    },
    {
     "data": {
      "text/html": [
       "<pre style=\"white-space:pre;overflow-x:auto;line-height:normal;font-family:Menlo,'DejaVu Sans Mono',consolas,'Courier New',monospace\"><span style=\"color: #7fbfbf\">[09:41:37] </span>METRIC   Round <span style=\"color: #000080; font-weight: bold\">13</span>, collaborator env_seven train result train_loss:       <span style=\"color: #000080; font-weight: bold\">0.078271</span>                                                   <a href=\"file:///home/ubuntu/anaconda3/envs/openfl/lib/python3.8/site-packages/openfl/interface/interactive_api/experiment.py\"><span style=\"color: #7f7f7f\">experiment.py</span></a><span style=\"color: #7f7f7f\">:116</span>\n",
       "</pre>\n"
      ],
      "text/plain": [
       "<rich.jupyter.JupyterRenderable at 0x7f0a35f600d0>"
      ]
     },
     "metadata": {},
     "output_type": "display_data"
    },
    {
     "data": {
      "text/html": [
       "<pre style=\"white-space:pre;overflow-x:auto;line-height:normal;font-family:Menlo,'DejaVu Sans Mono',consolas,'Courier New',monospace\"><span style=\"color: #7fbfbf\">           </span>METRIC   Round <span style=\"color: #000080; font-weight: bold\">13</span>, collaborator env_seven locally_tuned_model_validate result acc:       <span style=\"color: #000080; font-weight: bold\">0.881000</span>                                   <a href=\"file:///home/ubuntu/anaconda3/envs/openfl/lib/python3.8/site-packages/openfl/interface/interactive_api/experiment.py\"><span style=\"color: #7f7f7f\">experiment.py</span></a><span style=\"color: #7f7f7f\">:116</span>\n",
       "</pre>\n"
      ],
      "text/plain": [
       "<rich.jupyter.JupyterRenderable at 0x7f0a35f602b0>"
      ]
     },
     "metadata": {},
     "output_type": "display_data"
    },
    {
     "data": {
      "text/html": [
       "<pre style=\"white-space:pre;overflow-x:auto;line-height:normal;font-family:Menlo,'DejaVu Sans Mono',consolas,'Courier New',monospace\"><span style=\"color: #7fbfbf\">           </span>METRIC   Round <span style=\"color: #000080; font-weight: bold\">13</span>, collaborator env_seven aggregated_model_validate result acc:  <span style=\"color: #000080; font-weight: bold\">0.699000</span>                                           <a href=\"file:///home/ubuntu/anaconda3/envs/openfl/lib/python3.8/site-packages/openfl/interface/interactive_api/experiment.py\"><span style=\"color: #7f7f7f\">experiment.py</span></a><span style=\"color: #7f7f7f\">:116</span>\n",
       "</pre>\n"
      ],
      "text/plain": [
       "<rich.jupyter.JupyterRenderable at 0x7f0a35f60b50>"
      ]
     },
     "metadata": {},
     "output_type": "display_data"
    },
    {
     "data": {
      "text/html": [
       "<pre style=\"white-space:pre;overflow-x:auto;line-height:normal;font-family:Menlo,'DejaVu Sans Mono',consolas,'Courier New',monospace\"><span style=\"color: #7fbfbf\">[09:41:43] </span>METRIC   Round <span style=\"color: #000080; font-weight: bold\">13</span>, collaborator env_eight train result train_loss:       <span style=\"color: #000080; font-weight: bold\">0.040560</span>                                                   <a href=\"file:///home/ubuntu/anaconda3/envs/openfl/lib/python3.8/site-packages/openfl/interface/interactive_api/experiment.py\"><span style=\"color: #7f7f7f\">experiment.py</span></a><span style=\"color: #7f7f7f\">:116</span>\n",
       "</pre>\n"
      ],
      "text/plain": [
       "<rich.jupyter.JupyterRenderable at 0x7f0a35f60100>"
      ]
     },
     "metadata": {},
     "output_type": "display_data"
    },
    {
     "data": {
      "text/html": [
       "<pre style=\"white-space:pre;overflow-x:auto;line-height:normal;font-family:Menlo,'DejaVu Sans Mono',consolas,'Courier New',monospace\"><span style=\"color: #7fbfbf\">           </span>METRIC   Round <span style=\"color: #000080; font-weight: bold\">13</span>, collaborator env_eight locally_tuned_model_validate result acc:       <span style=\"color: #000080; font-weight: bold\">0.949000</span>                                   <a href=\"file:///home/ubuntu/anaconda3/envs/openfl/lib/python3.8/site-packages/openfl/interface/interactive_api/experiment.py\"><span style=\"color: #7f7f7f\">experiment.py</span></a><span style=\"color: #7f7f7f\">:116</span>\n",
       "</pre>\n"
      ],
      "text/plain": [
       "<rich.jupyter.JupyterRenderable at 0x7f0a35f601c0>"
      ]
     },
     "metadata": {},
     "output_type": "display_data"
    },
    {
     "data": {
      "text/html": [
       "<pre style=\"white-space:pre;overflow-x:auto;line-height:normal;font-family:Menlo,'DejaVu Sans Mono',consolas,'Courier New',monospace\"><span style=\"color: #7fbfbf\">           </span>METRIC   Round <span style=\"color: #000080; font-weight: bold\">13</span>, collaborator env_eight aggregated_model_validate result acc:  <span style=\"color: #000080; font-weight: bold\">0.195000</span>                                           <a href=\"file:///home/ubuntu/anaconda3/envs/openfl/lib/python3.8/site-packages/openfl/interface/interactive_api/experiment.py\"><span style=\"color: #7f7f7f\">experiment.py</span></a><span style=\"color: #7f7f7f\">:116</span>\n",
       "</pre>\n"
      ],
      "text/plain": [
       "<rich.jupyter.JupyterRenderable at 0x7f0a35f60b50>"
      ]
     },
     "metadata": {},
     "output_type": "display_data"
    },
    {
     "data": {
      "text/html": [
       "<pre style=\"white-space:pre;overflow-x:auto;line-height:normal;font-family:Menlo,'DejaVu Sans Mono',consolas,'Courier New',monospace\"><span style=\"color: #7fbfbf\">[09:41:51] </span>METRIC   Round <span style=\"color: #000080; font-weight: bold\">13</span>, collaborator env_three train result train_loss:       <span style=\"color: #000080; font-weight: bold\">0.025168</span>                                                   <a href=\"file:///home/ubuntu/anaconda3/envs/openfl/lib/python3.8/site-packages/openfl/interface/interactive_api/experiment.py\"><span style=\"color: #7f7f7f\">experiment.py</span></a><span style=\"color: #7f7f7f\">:116</span>\n",
       "</pre>\n"
      ],
      "text/plain": [
       "<rich.jupyter.JupyterRenderable at 0x7f0a35f601f0>"
      ]
     },
     "metadata": {},
     "output_type": "display_data"
    },
    {
     "data": {
      "text/html": [
       "<pre style=\"white-space:pre;overflow-x:auto;line-height:normal;font-family:Menlo,'DejaVu Sans Mono',consolas,'Courier New',monospace\"><span style=\"color: #7fbfbf\">           </span>METRIC   Round <span style=\"color: #000080; font-weight: bold\">13</span>, collaborator env_three locally_tuned_model_validate result acc:       <span style=\"color: #000080; font-weight: bold\">0.968500</span>                                   <a href=\"file:///home/ubuntu/anaconda3/envs/openfl/lib/python3.8/site-packages/openfl/interface/interactive_api/experiment.py\"><span style=\"color: #7f7f7f\">experiment.py</span></a><span style=\"color: #7f7f7f\">:116</span>\n",
       "</pre>\n"
      ],
      "text/plain": [
       "<rich.jupyter.JupyterRenderable at 0x7f0a35f60100>"
      ]
     },
     "metadata": {},
     "output_type": "display_data"
    },
    {
     "data": {
      "text/html": [
       "<pre style=\"white-space:pre;overflow-x:auto;line-height:normal;font-family:Menlo,'DejaVu Sans Mono',consolas,'Courier New',monospace\"><span style=\"color: #7fbfbf\">[09:41:52] </span>METRIC   Round <span style=\"color: #000080; font-weight: bold\">13</span>, collaborator env_three aggregated_model_validate result acc:  <span style=\"color: #000080; font-weight: bold\">0.195000</span>                                           <a href=\"file:///home/ubuntu/anaconda3/envs/openfl/lib/python3.8/site-packages/openfl/interface/interactive_api/experiment.py\"><span style=\"color: #7f7f7f\">experiment.py</span></a><span style=\"color: #7f7f7f\">:116</span>\n",
       "</pre>\n"
      ],
      "text/plain": [
       "<rich.jupyter.JupyterRenderable at 0x7f0a35f60340>"
      ]
     },
     "metadata": {},
     "output_type": "display_data"
    },
    {
     "data": {
      "text/html": [
       "<pre style=\"white-space:pre;overflow-x:auto;line-height:normal;font-family:Menlo,'DejaVu Sans Mono',consolas,'Courier New',monospace\"><span style=\"color: #7fbfbf\">[09:41:56] </span>METRIC   Round <span style=\"color: #000080; font-weight: bold\">13</span>, collaborator env_two train result train_loss: <span style=\"color: #000080; font-weight: bold\">0.018053</span>                                                           <a href=\"file:///home/ubuntu/anaconda3/envs/openfl/lib/python3.8/site-packages/openfl/interface/interactive_api/experiment.py\"><span style=\"color: #7f7f7f\">experiment.py</span></a><span style=\"color: #7f7f7f\">:116</span>\n",
       "</pre>\n"
      ],
      "text/plain": [
       "<rich.jupyter.JupyterRenderable at 0x7f0a35f600a0>"
      ]
     },
     "metadata": {},
     "output_type": "display_data"
    },
    {
     "data": {
      "text/html": [
       "<pre style=\"white-space:pre;overflow-x:auto;line-height:normal;font-family:Menlo,'DejaVu Sans Mono',consolas,'Courier New',monospace\"><span style=\"color: #7fbfbf\">[09:41:57] </span>METRIC   Round <span style=\"color: #000080; font-weight: bold\">13</span>, collaborator env_two locally_tuned_model_validate result acc: <span style=\"color: #000080; font-weight: bold\">0.974000</span>                                           <a href=\"file:///home/ubuntu/anaconda3/envs/openfl/lib/python3.8/site-packages/openfl/interface/interactive_api/experiment.py\"><span style=\"color: #7f7f7f\">experiment.py</span></a><span style=\"color: #7f7f7f\">:116</span>\n",
       "</pre>\n"
      ],
      "text/plain": [
       "<rich.jupyter.JupyterRenderable at 0x7f0a35f60100>"
      ]
     },
     "metadata": {},
     "output_type": "display_data"
    },
    {
     "data": {
      "text/html": [
       "<pre style=\"white-space:pre;overflow-x:auto;line-height:normal;font-family:Menlo,'DejaVu Sans Mono',consolas,'Courier New',monospace\"><span style=\"color: #7fbfbf\">           </span>METRIC   Round <span style=\"color: #000080; font-weight: bold\">13</span>, collaborator env_two aggregated_model_validate result acc:    <span style=\"color: #000080; font-weight: bold\">0.253000</span>                                           <a href=\"file:///home/ubuntu/anaconda3/envs/openfl/lib/python3.8/site-packages/openfl/interface/interactive_api/experiment.py\"><span style=\"color: #7f7f7f\">experiment.py</span></a><span style=\"color: #7f7f7f\">:116</span>\n",
       "</pre>\n"
      ],
      "text/plain": [
       "<rich.jupyter.JupyterRenderable at 0x7f0a35f60340>"
      ]
     },
     "metadata": {},
     "output_type": "display_data"
    },
    {
     "data": {
      "text/html": [
       "<pre style=\"white-space:pre;overflow-x:auto;line-height:normal;font-family:Menlo,'DejaVu Sans Mono',consolas,'Courier New',monospace\"><span style=\"color: #7fbfbf\">[09:42:13] </span>METRIC   Round <span style=\"color: #000080; font-weight: bold\">13</span>, collaborator env_ten train result train_loss: <span style=\"color: #000080; font-weight: bold\">0.025388</span>                                                           <a href=\"file:///home/ubuntu/anaconda3/envs/openfl/lib/python3.8/site-packages/openfl/interface/interactive_api/experiment.py\"><span style=\"color: #7f7f7f\">experiment.py</span></a><span style=\"color: #7f7f7f\">:116</span>\n",
       "</pre>\n"
      ],
      "text/plain": [
       "<rich.jupyter.JupyterRenderable at 0x7f0a35f60df0>"
      ]
     },
     "metadata": {},
     "output_type": "display_data"
    },
    {
     "data": {
      "text/html": [
       "<pre style=\"white-space:pre;overflow-x:auto;line-height:normal;font-family:Menlo,'DejaVu Sans Mono',consolas,'Courier New',monospace\"><span style=\"color: #7fbfbf\">           </span>METRIC   Round <span style=\"color: #000080; font-weight: bold\">13</span>, collaborator env_ten locally_tuned_model_validate result acc: <span style=\"color: #000080; font-weight: bold\">0.947000</span>                                           <a href=\"file:///home/ubuntu/anaconda3/envs/openfl/lib/python3.8/site-packages/openfl/interface/interactive_api/experiment.py\"><span style=\"color: #7f7f7f\">experiment.py</span></a><span style=\"color: #7f7f7f\">:116</span>\n",
       "</pre>\n"
      ],
      "text/plain": [
       "<rich.jupyter.JupyterRenderable at 0x7f0a35f60220>"
      ]
     },
     "metadata": {},
     "output_type": "display_data"
    },
    {
     "data": {
      "text/html": [
       "<pre style=\"white-space:pre;overflow-x:auto;line-height:normal;font-family:Menlo,'DejaVu Sans Mono',consolas,'Courier New',monospace\"><span style=\"color: #7fbfbf\">[09:42:14] </span>METRIC   Round <span style=\"color: #000080; font-weight: bold\">13</span>, collaborator env_ten aggregated_model_validate result acc:    <span style=\"color: #000080; font-weight: bold\">0.476500</span>                                           <a href=\"file:///home/ubuntu/anaconda3/envs/openfl/lib/python3.8/site-packages/openfl/interface/interactive_api/experiment.py\"><span style=\"color: #7f7f7f\">experiment.py</span></a><span style=\"color: #7f7f7f\">:116</span>\n",
       "</pre>\n"
      ],
      "text/plain": [
       "<rich.jupyter.JupyterRenderable at 0x7f0a35f60340>"
      ]
     },
     "metadata": {},
     "output_type": "display_data"
    },
    {
     "data": {
      "text/html": [
       "<pre style=\"white-space:pre;overflow-x:auto;line-height:normal;font-family:Menlo,'DejaVu Sans Mono',consolas,'Courier New',monospace\"><span style=\"color: #7fbfbf\">[09:42:44] </span>METRIC   Round <span style=\"color: #000080; font-weight: bold\">13</span>, collaborator env_six train result train_loss: <span style=\"color: #000080; font-weight: bold\">0.012656</span>                                                           <a href=\"file:///home/ubuntu/anaconda3/envs/openfl/lib/python3.8/site-packages/openfl/interface/interactive_api/experiment.py\"><span style=\"color: #7f7f7f\">experiment.py</span></a><span style=\"color: #7f7f7f\">:116</span>\n",
       "</pre>\n"
      ],
      "text/plain": [
       "<rich.jupyter.JupyterRenderable at 0x7f0a35f60df0>"
      ]
     },
     "metadata": {},
     "output_type": "display_data"
    },
    {
     "data": {
      "text/html": [
       "<pre style=\"white-space:pre;overflow-x:auto;line-height:normal;font-family:Menlo,'DejaVu Sans Mono',consolas,'Courier New',monospace\"><span style=\"color: #7fbfbf\">           </span>METRIC   Round <span style=\"color: #000080; font-weight: bold\">13</span>, collaborator env_six locally_tuned_model_validate result acc: <span style=\"color: #000080; font-weight: bold\">0.964000</span>                                           <a href=\"file:///home/ubuntu/anaconda3/envs/openfl/lib/python3.8/site-packages/openfl/interface/interactive_api/experiment.py\"><span style=\"color: #7f7f7f\">experiment.py</span></a><span style=\"color: #7f7f7f\">:116</span>\n",
       "</pre>\n"
      ],
      "text/plain": [
       "<rich.jupyter.JupyterRenderable at 0x7f0a35f60220>"
      ]
     },
     "metadata": {},
     "output_type": "display_data"
    },
    {
     "data": {
      "text/html": [
       "<pre style=\"white-space:pre;overflow-x:auto;line-height:normal;font-family:Menlo,'DejaVu Sans Mono',consolas,'Courier New',monospace\"><span style=\"color: #7fbfbf\">[09:42:45] </span>METRIC   Round <span style=\"color: #000080; font-weight: bold\">13</span>, collaborator env_six aggregated_model_validate result acc:    <span style=\"color: #000080; font-weight: bold\">0.953500</span>                                           <a href=\"file:///home/ubuntu/anaconda3/envs/openfl/lib/python3.8/site-packages/openfl/interface/interactive_api/experiment.py\"><span style=\"color: #7f7f7f\">experiment.py</span></a><span style=\"color: #7f7f7f\">:116</span>\n",
       "</pre>\n"
      ],
      "text/plain": [
       "<rich.jupyter.JupyterRenderable at 0x7f0a35f60a90>"
      ]
     },
     "metadata": {},
     "output_type": "display_data"
    },
    {
     "data": {
      "text/html": [
       "<pre style=\"white-space:pre;overflow-x:auto;line-height:normal;font-family:Menlo,'DejaVu Sans Mono',consolas,'Courier New',monospace\"><span style=\"color: #7fbfbf\">[09:43:05] </span>METRIC   Round <span style=\"color: #000080; font-weight: bold\">13</span>, collaborator env_nine train result train_loss:        <span style=\"color: #000080; font-weight: bold\">0.052417</span>                                                   <a href=\"file:///home/ubuntu/anaconda3/envs/openfl/lib/python3.8/site-packages/openfl/interface/interactive_api/experiment.py\"><span style=\"color: #7f7f7f\">experiment.py</span></a><span style=\"color: #7f7f7f\">:116</span>\n",
       "</pre>\n"
      ],
      "text/plain": [
       "<rich.jupyter.JupyterRenderable at 0x7f0a35f604f0>"
      ]
     },
     "metadata": {},
     "output_type": "display_data"
    },
    {
     "data": {
      "text/html": [
       "<pre style=\"white-space:pre;overflow-x:auto;line-height:normal;font-family:Menlo,'DejaVu Sans Mono',consolas,'Courier New',monospace\"><span style=\"color: #7fbfbf\">           </span>METRIC   Round <span style=\"color: #000080; font-weight: bold\">13</span>, collaborator env_nine locally_tuned_model_validate result acc:        <span style=\"color: #000080; font-weight: bold\">0.870500</span>                                   <a href=\"file:///home/ubuntu/anaconda3/envs/openfl/lib/python3.8/site-packages/openfl/interface/interactive_api/experiment.py\"><span style=\"color: #7f7f7f\">experiment.py</span></a><span style=\"color: #7f7f7f\">:116</span>\n",
       "</pre>\n"
      ],
      "text/plain": [
       "<rich.jupyter.JupyterRenderable at 0x7f0a35f60220>"
      ]
     },
     "metadata": {},
     "output_type": "display_data"
    },
    {
     "data": {
      "text/html": [
       "<pre style=\"white-space:pre;overflow-x:auto;line-height:normal;font-family:Menlo,'DejaVu Sans Mono',consolas,'Courier New',monospace\"><span style=\"color: #7fbfbf\">[09:43:06] </span>METRIC   Round <span style=\"color: #000080; font-weight: bold\">13</span>, collaborator env_nine aggregated_model_validate result acc:   <span style=\"color: #000080; font-weight: bold\">0.058000</span>                                           <a href=\"file:///home/ubuntu/anaconda3/envs/openfl/lib/python3.8/site-packages/openfl/interface/interactive_api/experiment.py\"><span style=\"color: #7f7f7f\">experiment.py</span></a><span style=\"color: #7f7f7f\">:116</span>\n",
       "</pre>\n"
      ],
      "text/plain": [
       "<rich.jupyter.JupyterRenderable at 0x7f0a35f60a90>"
      ]
     },
     "metadata": {},
     "output_type": "display_data"
    },
    {
     "data": {
      "text/html": [
       "<pre style=\"white-space:pre;overflow-x:auto;line-height:normal;font-family:Menlo,'DejaVu Sans Mono',consolas,'Courier New',monospace\"><span style=\"color: #7fbfbf\">[09:43:16] </span>METRIC   Round <span style=\"color: #000080; font-weight: bold\">13</span>, collaborator env_five train result train_loss:        <span style=\"color: #000080; font-weight: bold\">0.014529</span>                                                   <a href=\"file:///home/ubuntu/anaconda3/envs/openfl/lib/python3.8/site-packages/openfl/interface/interactive_api/experiment.py\"><span style=\"color: #7f7f7f\">experiment.py</span></a><span style=\"color: #7f7f7f\">:116</span>\n",
       "</pre>\n"
      ],
      "text/plain": [
       "<rich.jupyter.JupyterRenderable at 0x7f0a35f604f0>"
      ]
     },
     "metadata": {},
     "output_type": "display_data"
    },
    {
     "data": {
      "text/html": [
       "<pre style=\"white-space:pre;overflow-x:auto;line-height:normal;font-family:Menlo,'DejaVu Sans Mono',consolas,'Courier New',monospace\"><span style=\"color: #7fbfbf\">[09:43:17] </span>METRIC   Round <span style=\"color: #000080; font-weight: bold\">13</span>, collaborator env_five locally_tuned_model_validate result acc:        <span style=\"color: #000080; font-weight: bold\">0.959000</span>                                   <a href=\"file:///home/ubuntu/anaconda3/envs/openfl/lib/python3.8/site-packages/openfl/interface/interactive_api/experiment.py\"><span style=\"color: #7f7f7f\">experiment.py</span></a><span style=\"color: #7f7f7f\">:116</span>\n",
       "</pre>\n"
      ],
      "text/plain": [
       "<rich.jupyter.JupyterRenderable at 0x7f0a35f60220>"
      ]
     },
     "metadata": {},
     "output_type": "display_data"
    },
    {
     "data": {
      "text/html": [
       "<pre style=\"white-space:pre;overflow-x:auto;line-height:normal;font-family:Menlo,'DejaVu Sans Mono',consolas,'Courier New',monospace\"><span style=\"color: #7fbfbf\">           </span>METRIC   Round <span style=\"color: #000080; font-weight: bold\">13</span>, collaborator env_five aggregated_model_validate result acc:   <span style=\"color: #000080; font-weight: bold\">0.698500</span>                                           <a href=\"file:///home/ubuntu/anaconda3/envs/openfl/lib/python3.8/site-packages/openfl/interface/interactive_api/experiment.py\"><span style=\"color: #7f7f7f\">experiment.py</span></a><span style=\"color: #7f7f7f\">:116</span>\n",
       "</pre>\n"
      ],
      "text/plain": [
       "<rich.jupyter.JupyterRenderable at 0x7f0a35f60a90>"
      ]
     },
     "metadata": {},
     "output_type": "display_data"
    },
    {
     "data": {
      "text/html": [
       "<pre style=\"white-space:pre;overflow-x:auto;line-height:normal;font-family:Menlo,'DejaVu Sans Mono',consolas,'Courier New',monospace\"><span style=\"color: #7fbfbf\">[09:43:30] </span>METRIC   Round <span style=\"color: #000080; font-weight: bold\">13</span>, collaborator Aggregator train result train_loss:      <span style=\"color: #000080; font-weight: bold\">0.029319</span>                                                   <a href=\"file:///home/ubuntu/anaconda3/envs/openfl/lib/python3.8/site-packages/openfl/interface/interactive_api/experiment.py\"><span style=\"color: #7f7f7f\">experiment.py</span></a><span style=\"color: #7f7f7f\">:116</span>\n",
       "</pre>\n"
      ],
      "text/plain": [
       "<rich.jupyter.JupyterRenderable at 0x7f0a35f604f0>"
      ]
     },
     "metadata": {},
     "output_type": "display_data"
    },
    {
     "data": {
      "text/html": [
       "<pre style=\"white-space:pre;overflow-x:auto;line-height:normal;font-family:Menlo,'DejaVu Sans Mono',consolas,'Courier New',monospace\"><span style=\"color: #7fbfbf\">           </span>METRIC   Round <span style=\"color: #000080; font-weight: bold\">13</span>, collaborator Aggregator locally_tuned_model_validate result acc:      <span style=\"color: #000080; font-weight: bold\">0.943400</span>                                   <a href=\"file:///home/ubuntu/anaconda3/envs/openfl/lib/python3.8/site-packages/openfl/interface/interactive_api/experiment.py\"><span style=\"color: #7f7f7f\">experiment.py</span></a><span style=\"color: #7f7f7f\">:116</span>\n",
       "</pre>\n"
      ],
      "text/plain": [
       "<rich.jupyter.JupyterRenderable at 0x7f0a35f60220>"
      ]
     },
     "metadata": {},
     "output_type": "display_data"
    },
    {
     "data": {
      "text/html": [
       "<pre style=\"white-space:pre;overflow-x:auto;line-height:normal;font-family:Menlo,'DejaVu Sans Mono',consolas,'Courier New',monospace\"><span style=\"color: #7fbfbf\">           </span>METRIC   Round <span style=\"color: #000080; font-weight: bold\">13</span>, collaborator Aggregator aggregated_model_validate result acc: <span style=\"color: #000080; font-weight: bold\">0.496400</span>                                           <a href=\"file:///home/ubuntu/anaconda3/envs/openfl/lib/python3.8/site-packages/openfl/interface/interactive_api/experiment.py\"><span style=\"color: #7f7f7f\">experiment.py</span></a><span style=\"color: #7f7f7f\">:116</span>\n",
       "</pre>\n"
      ],
      "text/plain": [
       "<rich.jupyter.JupyterRenderable at 0x7f0a35f60a90>"
      ]
     },
     "metadata": {},
     "output_type": "display_data"
    },
    {
     "data": {
      "text/html": [
       "<pre style=\"white-space:pre;overflow-x:auto;line-height:normal;font-family:Menlo,'DejaVu Sans Mono',consolas,'Courier New',monospace\"><span style=\"color: #7fbfbf\">[09:44:40] </span>METRIC   Round <span style=\"color: #000080; font-weight: bold\">14</span>, collaborator env_one train result train_loss: <span style=\"color: #000080; font-weight: bold\">0.013862</span>                                                           <a href=\"file:///home/ubuntu/anaconda3/envs/openfl/lib/python3.8/site-packages/openfl/interface/interactive_api/experiment.py\"><span style=\"color: #7f7f7f\">experiment.py</span></a><span style=\"color: #7f7f7f\">:116</span>\n",
       "</pre>\n"
      ],
      "text/plain": [
       "<rich.jupyter.JupyterRenderable at 0x7f0a35f604f0>"
      ]
     },
     "metadata": {},
     "output_type": "display_data"
    },
    {
     "data": {
      "text/html": [
       "<pre style=\"white-space:pre;overflow-x:auto;line-height:normal;font-family:Menlo,'DejaVu Sans Mono',consolas,'Courier New',monospace\"><span style=\"color: #7fbfbf\">[09:44:41] </span>METRIC   Round <span style=\"color: #000080; font-weight: bold\">14</span>, collaborator env_one locally_tuned_model_validate result acc: <span style=\"color: #000080; font-weight: bold\">0.952500</span>                                           <a href=\"file:///home/ubuntu/anaconda3/envs/openfl/lib/python3.8/site-packages/openfl/interface/interactive_api/experiment.py\"><span style=\"color: #7f7f7f\">experiment.py</span></a><span style=\"color: #7f7f7f\">:116</span>\n",
       "</pre>\n"
      ],
      "text/plain": [
       "<rich.jupyter.JupyterRenderable at 0x7f0a35f60220>"
      ]
     },
     "metadata": {},
     "output_type": "display_data"
    },
    {
     "data": {
      "text/html": [
       "<pre style=\"white-space:pre;overflow-x:auto;line-height:normal;font-family:Menlo,'DejaVu Sans Mono',consolas,'Courier New',monospace\"><span style=\"color: #7fbfbf\">           </span>METRIC   Round <span style=\"color: #000080; font-weight: bold\">14</span>, collaborator env_one aggregated_model_validate result acc:    <span style=\"color: #000080; font-weight: bold\">0.422500</span>                                           <a href=\"file:///home/ubuntu/anaconda3/envs/openfl/lib/python3.8/site-packages/openfl/interface/interactive_api/experiment.py\"><span style=\"color: #7f7f7f\">experiment.py</span></a><span style=\"color: #7f7f7f\">:116</span>\n",
       "</pre>\n"
      ],
      "text/plain": [
       "<rich.jupyter.JupyterRenderable at 0x7f0a35f60340>"
      ]
     },
     "metadata": {},
     "output_type": "display_data"
    },
    {
     "data": {
      "text/html": [
       "<pre style=\"white-space:pre;overflow-x:auto;line-height:normal;font-family:Menlo,'DejaVu Sans Mono',consolas,'Courier New',monospace\"><span style=\"color: #7fbfbf\">[09:44:45] </span>METRIC   Round <span style=\"color: #000080; font-weight: bold\">14</span>, collaborator env_four train result train_loss:        <span style=\"color: #000080; font-weight: bold\">0.022551</span>                                                   <a href=\"file:///home/ubuntu/anaconda3/envs/openfl/lib/python3.8/site-packages/openfl/interface/interactive_api/experiment.py\"><span style=\"color: #7f7f7f\">experiment.py</span></a><span style=\"color: #7f7f7f\">:116</span>\n",
       "</pre>\n"
      ],
      "text/plain": [
       "<rich.jupyter.JupyterRenderable at 0x7f0a35f604c0>"
      ]
     },
     "metadata": {},
     "output_type": "display_data"
    },
    {
     "data": {
      "text/html": [
       "<pre style=\"white-space:pre;overflow-x:auto;line-height:normal;font-family:Menlo,'DejaVu Sans Mono',consolas,'Courier New',monospace\"><span style=\"color: #7fbfbf\">           </span>METRIC   Round <span style=\"color: #000080; font-weight: bold\">14</span>, collaborator env_four locally_tuned_model_validate result acc:        <span style=\"color: #000080; font-weight: bold\">0.954500</span>                                   <a href=\"file:///home/ubuntu/anaconda3/envs/openfl/lib/python3.8/site-packages/openfl/interface/interactive_api/experiment.py\"><span style=\"color: #7f7f7f\">experiment.py</span></a><span style=\"color: #7f7f7f\">:116</span>\n",
       "</pre>\n"
      ],
      "text/plain": [
       "<rich.jupyter.JupyterRenderable at 0x7f0a35f60040>"
      ]
     },
     "metadata": {},
     "output_type": "display_data"
    },
    {
     "data": {
      "text/html": [
       "<pre style=\"white-space:pre;overflow-x:auto;line-height:normal;font-family:Menlo,'DejaVu Sans Mono',consolas,'Courier New',monospace\"><span style=\"color: #7fbfbf\">[09:44:46] </span>METRIC   Round <span style=\"color: #000080; font-weight: bold\">14</span>, collaborator env_four aggregated_model_validate result acc:   <span style=\"color: #000080; font-weight: bold\">0.046500</span>                                           <a href=\"file:///home/ubuntu/anaconda3/envs/openfl/lib/python3.8/site-packages/openfl/interface/interactive_api/experiment.py\"><span style=\"color: #7f7f7f\">experiment.py</span></a><span style=\"color: #7f7f7f\">:116</span>\n",
       "</pre>\n"
      ],
      "text/plain": [
       "<rich.jupyter.JupyterRenderable at 0x7f0a35f60a90>"
      ]
     },
     "metadata": {},
     "output_type": "display_data"
    },
    {
     "data": {
      "text/html": [
       "<pre style=\"white-space:pre;overflow-x:auto;line-height:normal;font-family:Menlo,'DejaVu Sans Mono',consolas,'Courier New',monospace\"><span style=\"color: #7fbfbf\">[09:44:53] </span>METRIC   Round <span style=\"color: #000080; font-weight: bold\">14</span>, collaborator env_seven train result train_loss:       <span style=\"color: #000080; font-weight: bold\">0.075903</span>                                                   <a href=\"file:///home/ubuntu/anaconda3/envs/openfl/lib/python3.8/site-packages/openfl/interface/interactive_api/experiment.py\"><span style=\"color: #7f7f7f\">experiment.py</span></a><span style=\"color: #7f7f7f\">:116</span>\n",
       "</pre>\n"
      ],
      "text/plain": [
       "<rich.jupyter.JupyterRenderable at 0x7f0a35f60370>"
      ]
     },
     "metadata": {},
     "output_type": "display_data"
    },
    {
     "data": {
      "text/html": [
       "<pre style=\"white-space:pre;overflow-x:auto;line-height:normal;font-family:Menlo,'DejaVu Sans Mono',consolas,'Courier New',monospace\"><span style=\"color: #7fbfbf\">[09:44:54] </span>METRIC   Round <span style=\"color: #000080; font-weight: bold\">14</span>, collaborator env_seven locally_tuned_model_validate result acc:       <span style=\"color: #000080; font-weight: bold\">0.879000</span>                                   <a href=\"file:///home/ubuntu/anaconda3/envs/openfl/lib/python3.8/site-packages/openfl/interface/interactive_api/experiment.py\"><span style=\"color: #7f7f7f\">experiment.py</span></a><span style=\"color: #7f7f7f\">:116</span>\n",
       "</pre>\n"
      ],
      "text/plain": [
       "<rich.jupyter.JupyterRenderable at 0x7f0a35f60070>"
      ]
     },
     "metadata": {},
     "output_type": "display_data"
    },
    {
     "data": {
      "text/html": [
       "<pre style=\"white-space:pre;overflow-x:auto;line-height:normal;font-family:Menlo,'DejaVu Sans Mono',consolas,'Courier New',monospace\"><span style=\"color: #7fbfbf\">           </span>METRIC   Round <span style=\"color: #000080; font-weight: bold\">14</span>, collaborator env_seven aggregated_model_validate result acc:  <span style=\"color: #000080; font-weight: bold\">0.336500</span>                                           <a href=\"file:///home/ubuntu/anaconda3/envs/openfl/lib/python3.8/site-packages/openfl/interface/interactive_api/experiment.py\"><span style=\"color: #7f7f7f\">experiment.py</span></a><span style=\"color: #7f7f7f\">:116</span>\n",
       "</pre>\n"
      ],
      "text/plain": [
       "<rich.jupyter.JupyterRenderable at 0x7f0a35f60730>"
      ]
     },
     "metadata": {},
     "output_type": "display_data"
    },
    {
     "data": {
      "text/html": [
       "<pre style=\"white-space:pre;overflow-x:auto;line-height:normal;font-family:Menlo,'DejaVu Sans Mono',consolas,'Courier New',monospace\"><span style=\"color: #7fbfbf\">[09:45:02] </span>METRIC   Round <span style=\"color: #000080; font-weight: bold\">14</span>, collaborator env_three train result train_loss:       <span style=\"color: #000080; font-weight: bold\">0.021579</span>                                                   <a href=\"file:///home/ubuntu/anaconda3/envs/openfl/lib/python3.8/site-packages/openfl/interface/interactive_api/experiment.py\"><span style=\"color: #7f7f7f\">experiment.py</span></a><span style=\"color: #7f7f7f\">:116</span>\n",
       "</pre>\n"
      ],
      "text/plain": [
       "<rich.jupyter.JupyterRenderable at 0x7f0a35f60490>"
      ]
     },
     "metadata": {},
     "output_type": "display_data"
    },
    {
     "data": {
      "text/html": [
       "<pre style=\"white-space:pre;overflow-x:auto;line-height:normal;font-family:Menlo,'DejaVu Sans Mono',consolas,'Courier New',monospace\"><span style=\"color: #7fbfbf\">           </span>METRIC   Round <span style=\"color: #000080; font-weight: bold\">14</span>, collaborator env_three locally_tuned_model_validate result acc:       <span style=\"color: #000080; font-weight: bold\">0.949000</span>                                   <a href=\"file:///home/ubuntu/anaconda3/envs/openfl/lib/python3.8/site-packages/openfl/interface/interactive_api/experiment.py\"><span style=\"color: #7f7f7f\">experiment.py</span></a><span style=\"color: #7f7f7f\">:116</span>\n",
       "</pre>\n"
      ],
      "text/plain": [
       "<rich.jupyter.JupyterRenderable at 0x7f0a35f60100>"
      ]
     },
     "metadata": {},
     "output_type": "display_data"
    },
    {
     "data": {
      "text/html": [
       "<pre style=\"white-space:pre;overflow-x:auto;line-height:normal;font-family:Menlo,'DejaVu Sans Mono',consolas,'Courier New',monospace\"><span style=\"color: #7fbfbf\">[09:45:03] </span>METRIC   Round <span style=\"color: #000080; font-weight: bold\">14</span>, collaborator env_three aggregated_model_validate result acc:  <span style=\"color: #000080; font-weight: bold\">0.459000</span>                                           <a href=\"file:///home/ubuntu/anaconda3/envs/openfl/lib/python3.8/site-packages/openfl/interface/interactive_api/experiment.py\"><span style=\"color: #7f7f7f\">experiment.py</span></a><span style=\"color: #7f7f7f\">:116</span>\n",
       "</pre>\n"
      ],
      "text/plain": [
       "<rich.jupyter.JupyterRenderable at 0x7f0a35f604f0>"
      ]
     },
     "metadata": {},
     "output_type": "display_data"
    },
    {
     "data": {
      "text/html": [
       "<pre style=\"white-space:pre;overflow-x:auto;line-height:normal;font-family:Menlo,'DejaVu Sans Mono',consolas,'Courier New',monospace\"><span style=\"color: #7fbfbf\">[09:45:07] </span>METRIC   Round <span style=\"color: #000080; font-weight: bold\">14</span>, collaborator env_eight train result train_loss:       <span style=\"color: #000080; font-weight: bold\">0.035562</span>                                                   <a href=\"file:///home/ubuntu/anaconda3/envs/openfl/lib/python3.8/site-packages/openfl/interface/interactive_api/experiment.py\"><span style=\"color: #7f7f7f\">experiment.py</span></a><span style=\"color: #7f7f7f\">:116</span>\n",
       "</pre>\n"
      ],
      "text/plain": [
       "<rich.jupyter.JupyterRenderable at 0x7f0a35f60100>"
      ]
     },
     "metadata": {},
     "output_type": "display_data"
    },
    {
     "data": {
      "text/html": [
       "<pre style=\"white-space:pre;overflow-x:auto;line-height:normal;font-family:Menlo,'DejaVu Sans Mono',consolas,'Courier New',monospace\"><span style=\"color: #7fbfbf\">           </span>METRIC   Round <span style=\"color: #000080; font-weight: bold\">14</span>, collaborator env_eight locally_tuned_model_validate result acc:       <span style=\"color: #000080; font-weight: bold\">0.952500</span>                                   <a href=\"file:///home/ubuntu/anaconda3/envs/openfl/lib/python3.8/site-packages/openfl/interface/interactive_api/experiment.py\"><span style=\"color: #7f7f7f\">experiment.py</span></a><span style=\"color: #7f7f7f\">:116</span>\n",
       "</pre>\n"
      ],
      "text/plain": [
       "<rich.jupyter.JupyterRenderable at 0x7f0a35f604f0>"
      ]
     },
     "metadata": {},
     "output_type": "display_data"
    },
    {
     "data": {
      "text/html": [
       "<pre style=\"white-space:pre;overflow-x:auto;line-height:normal;font-family:Menlo,'DejaVu Sans Mono',consolas,'Courier New',monospace\"><span style=\"color: #7fbfbf\">[09:45:08] </span>METRIC   Round <span style=\"color: #000080; font-weight: bold\">14</span>, collaborator env_eight aggregated_model_validate result acc:  <span style=\"color: #000080; font-weight: bold\">0.493000</span>                                           <a href=\"file:///home/ubuntu/anaconda3/envs/openfl/lib/python3.8/site-packages/openfl/interface/interactive_api/experiment.py\"><span style=\"color: #7f7f7f\">experiment.py</span></a><span style=\"color: #7f7f7f\">:116</span>\n",
       "</pre>\n"
      ],
      "text/plain": [
       "<rich.jupyter.JupyterRenderable at 0x7f0a35f60490>"
      ]
     },
     "metadata": {},
     "output_type": "display_data"
    },
    {
     "data": {
      "text/html": [
       "<pre style=\"white-space:pre;overflow-x:auto;line-height:normal;font-family:Menlo,'DejaVu Sans Mono',consolas,'Courier New',monospace\"><span style=\"color: #7fbfbf\">[09:45:17] </span>METRIC   Round <span style=\"color: #000080; font-weight: bold\">14</span>, collaborator env_two train result train_loss: <span style=\"color: #000080; font-weight: bold\">0.015265</span>                                                           <a href=\"file:///home/ubuntu/anaconda3/envs/openfl/lib/python3.8/site-packages/openfl/interface/interactive_api/experiment.py\"><span style=\"color: #7f7f7f\">experiment.py</span></a><span style=\"color: #7f7f7f\">:116</span>\n",
       "</pre>\n"
      ],
      "text/plain": [
       "<rich.jupyter.JupyterRenderable at 0x7f0a35f60100>"
      ]
     },
     "metadata": {},
     "output_type": "display_data"
    },
    {
     "data": {
      "text/html": [
       "<pre style=\"white-space:pre;overflow-x:auto;line-height:normal;font-family:Menlo,'DejaVu Sans Mono',consolas,'Courier New',monospace\"><span style=\"color: #7fbfbf\">[09:45:18] </span>METRIC   Round <span style=\"color: #000080; font-weight: bold\">14</span>, collaborator env_two locally_tuned_model_validate result acc: <span style=\"color: #000080; font-weight: bold\">0.971500</span>                                           <a href=\"file:///home/ubuntu/anaconda3/envs/openfl/lib/python3.8/site-packages/openfl/interface/interactive_api/experiment.py\"><span style=\"color: #7f7f7f\">experiment.py</span></a><span style=\"color: #7f7f7f\">:116</span>\n",
       "</pre>\n"
      ],
      "text/plain": [
       "<rich.jupyter.JupyterRenderable at 0x7f0a35f60490>"
      ]
     },
     "metadata": {},
     "output_type": "display_data"
    },
    {
     "data": {
      "text/html": [
       "<pre style=\"white-space:pre;overflow-x:auto;line-height:normal;font-family:Menlo,'DejaVu Sans Mono',consolas,'Courier New',monospace\"><span style=\"color: #7fbfbf\">           </span>METRIC   Round <span style=\"color: #000080; font-weight: bold\">14</span>, collaborator env_two aggregated_model_validate result acc:    <span style=\"color: #000080; font-weight: bold\">0.824500</span>                                           <a href=\"file:///home/ubuntu/anaconda3/envs/openfl/lib/python3.8/site-packages/openfl/interface/interactive_api/experiment.py\"><span style=\"color: #7f7f7f\">experiment.py</span></a><span style=\"color: #7f7f7f\">:116</span>\n",
       "</pre>\n"
      ],
      "text/plain": [
       "<rich.jupyter.JupyterRenderable at 0x7f0a35f60100>"
      ]
     },
     "metadata": {},
     "output_type": "display_data"
    },
    {
     "data": {
      "text/html": [
       "<pre style=\"white-space:pre;overflow-x:auto;line-height:normal;font-family:Menlo,'DejaVu Sans Mono',consolas,'Courier New',monospace\"><span style=\"color: #7fbfbf\">[09:45:34] </span>METRIC   Round <span style=\"color: #000080; font-weight: bold\">14</span>, collaborator env_ten train result train_loss: <span style=\"color: #000080; font-weight: bold\">0.021689</span>                                                           <a href=\"file:///home/ubuntu/anaconda3/envs/openfl/lib/python3.8/site-packages/openfl/interface/interactive_api/experiment.py\"><span style=\"color: #7f7f7f\">experiment.py</span></a><span style=\"color: #7f7f7f\">:116</span>\n",
       "</pre>\n"
      ],
      "text/plain": [
       "<rich.jupyter.JupyterRenderable at 0x7f0a35f60490>"
      ]
     },
     "metadata": {},
     "output_type": "display_data"
    },
    {
     "data": {
      "text/html": [
       "<pre style=\"white-space:pre;overflow-x:auto;line-height:normal;font-family:Menlo,'DejaVu Sans Mono',consolas,'Courier New',monospace\"><span style=\"color: #7fbfbf\">           </span>METRIC   Round <span style=\"color: #000080; font-weight: bold\">14</span>, collaborator env_ten locally_tuned_model_validate result acc: <span style=\"color: #000080; font-weight: bold\">0.939500</span>                                           <a href=\"file:///home/ubuntu/anaconda3/envs/openfl/lib/python3.8/site-packages/openfl/interface/interactive_api/experiment.py\"><span style=\"color: #7f7f7f\">experiment.py</span></a><span style=\"color: #7f7f7f\">:116</span>\n",
       "</pre>\n"
      ],
      "text/plain": [
       "<rich.jupyter.JupyterRenderable at 0x7f0a35f60100>"
      ]
     },
     "metadata": {},
     "output_type": "display_data"
    },
    {
     "data": {
      "text/html": [
       "<pre style=\"white-space:pre;overflow-x:auto;line-height:normal;font-family:Menlo,'DejaVu Sans Mono',consolas,'Courier New',monospace\"><span style=\"color: #7fbfbf\">[09:45:35] </span>METRIC   Round <span style=\"color: #000080; font-weight: bold\">14</span>, collaborator env_ten aggregated_model_validate result acc:    <span style=\"color: #000080; font-weight: bold\">0.726000</span>                                           <a href=\"file:///home/ubuntu/anaconda3/envs/openfl/lib/python3.8/site-packages/openfl/interface/interactive_api/experiment.py\"><span style=\"color: #7f7f7f\">experiment.py</span></a><span style=\"color: #7f7f7f\">:116</span>\n",
       "</pre>\n"
      ],
      "text/plain": [
       "<rich.jupyter.JupyterRenderable at 0x7f0a35f60490>"
      ]
     },
     "metadata": {},
     "output_type": "display_data"
    },
    {
     "data": {
      "text/html": [
       "<pre style=\"white-space:pre;overflow-x:auto;line-height:normal;font-family:Menlo,'DejaVu Sans Mono',consolas,'Courier New',monospace\"><span style=\"color: #7fbfbf\">[09:46:06] </span>METRIC   Round <span style=\"color: #000080; font-weight: bold\">14</span>, collaborator env_six train result train_loss: <span style=\"color: #000080; font-weight: bold\">0.012175</span>                                                           <a href=\"file:///home/ubuntu/anaconda3/envs/openfl/lib/python3.8/site-packages/openfl/interface/interactive_api/experiment.py\"><span style=\"color: #7f7f7f\">experiment.py</span></a><span style=\"color: #7f7f7f\">:116</span>\n",
       "</pre>\n"
      ],
      "text/plain": [
       "<rich.jupyter.JupyterRenderable at 0x7f0a35f60100>"
      ]
     },
     "metadata": {},
     "output_type": "display_data"
    },
    {
     "data": {
      "text/html": [
       "<pre style=\"white-space:pre;overflow-x:auto;line-height:normal;font-family:Menlo,'DejaVu Sans Mono',consolas,'Courier New',monospace\"><span style=\"color: #7fbfbf\">[09:46:07] </span>METRIC   Round <span style=\"color: #000080; font-weight: bold\">14</span>, collaborator env_six locally_tuned_model_validate result acc: <span style=\"color: #000080; font-weight: bold\">0.963500</span>                                           <a href=\"file:///home/ubuntu/anaconda3/envs/openfl/lib/python3.8/site-packages/openfl/interface/interactive_api/experiment.py\"><span style=\"color: #7f7f7f\">experiment.py</span></a><span style=\"color: #7f7f7f\">:116</span>\n",
       "</pre>\n"
      ],
      "text/plain": [
       "<rich.jupyter.JupyterRenderable at 0x7f0a35f60490>"
      ]
     },
     "metadata": {},
     "output_type": "display_data"
    },
    {
     "data": {
      "text/html": [
       "<pre style=\"white-space:pre;overflow-x:auto;line-height:normal;font-family:Menlo,'DejaVu Sans Mono',consolas,'Courier New',monospace\"><span style=\"color: #7fbfbf\">           </span>METRIC   Round <span style=\"color: #000080; font-weight: bold\">14</span>, collaborator env_six aggregated_model_validate result acc:    <span style=\"color: #000080; font-weight: bold\">0.422500</span>                                           <a href=\"file:///home/ubuntu/anaconda3/envs/openfl/lib/python3.8/site-packages/openfl/interface/interactive_api/experiment.py\"><span style=\"color: #7f7f7f\">experiment.py</span></a><span style=\"color: #7f7f7f\">:116</span>\n",
       "</pre>\n"
      ],
      "text/plain": [
       "<rich.jupyter.JupyterRenderable at 0x7f0a35f60100>"
      ]
     },
     "metadata": {},
     "output_type": "display_data"
    },
    {
     "data": {
      "text/html": [
       "<pre style=\"white-space:pre;overflow-x:auto;line-height:normal;font-family:Menlo,'DejaVu Sans Mono',consolas,'Courier New',monospace\"><span style=\"color: #7fbfbf\">[09:46:27] </span>METRIC   Round <span style=\"color: #000080; font-weight: bold\">14</span>, collaborator env_nine train result train_loss:        <span style=\"color: #000080; font-weight: bold\">0.047304</span>                                                   <a href=\"file:///home/ubuntu/anaconda3/envs/openfl/lib/python3.8/site-packages/openfl/interface/interactive_api/experiment.py\"><span style=\"color: #7f7f7f\">experiment.py</span></a><span style=\"color: #7f7f7f\">:116</span>\n",
       "</pre>\n"
      ],
      "text/plain": [
       "<rich.jupyter.JupyterRenderable at 0x7f0a35f60b50>"
      ]
     },
     "metadata": {},
     "output_type": "display_data"
    },
    {
     "data": {
      "text/html": [
       "<pre style=\"white-space:pre;overflow-x:auto;line-height:normal;font-family:Menlo,'DejaVu Sans Mono',consolas,'Courier New',monospace\"><span style=\"color: #7fbfbf\">[09:46:28] </span>METRIC   Round <span style=\"color: #000080; font-weight: bold\">14</span>, collaborator env_nine locally_tuned_model_validate result acc:        <span style=\"color: #000080; font-weight: bold\">0.860000</span>                                   <a href=\"file:///home/ubuntu/anaconda3/envs/openfl/lib/python3.8/site-packages/openfl/interface/interactive_api/experiment.py\"><span style=\"color: #7f7f7f\">experiment.py</span></a><span style=\"color: #7f7f7f\">:116</span>\n",
       "</pre>\n"
      ],
      "text/plain": [
       "<rich.jupyter.JupyterRenderable at 0x7f0a35f60490>"
      ]
     },
     "metadata": {},
     "output_type": "display_data"
    },
    {
     "data": {
      "text/html": [
       "<pre style=\"white-space:pre;overflow-x:auto;line-height:normal;font-family:Menlo,'DejaVu Sans Mono',consolas,'Courier New',monospace\"><span style=\"color: #7fbfbf\">           </span>METRIC   Round <span style=\"color: #000080; font-weight: bold\">14</span>, collaborator env_nine aggregated_model_validate result acc:   <span style=\"color: #000080; font-weight: bold\">0.717000</span>                                           <a href=\"file:///home/ubuntu/anaconda3/envs/openfl/lib/python3.8/site-packages/openfl/interface/interactive_api/experiment.py\"><span style=\"color: #7f7f7f\">experiment.py</span></a><span style=\"color: #7f7f7f\">:116</span>\n",
       "</pre>\n"
      ],
      "text/plain": [
       "<rich.jupyter.JupyterRenderable at 0x7f0a35f60b50>"
      ]
     },
     "metadata": {},
     "output_type": "display_data"
    },
    {
     "data": {
      "text/html": [
       "<pre style=\"white-space:pre;overflow-x:auto;line-height:normal;font-family:Menlo,'DejaVu Sans Mono',consolas,'Courier New',monospace\"><span style=\"color: #7fbfbf\">[09:46:37] </span>METRIC   Round <span style=\"color: #000080; font-weight: bold\">14</span>, collaborator env_five train result train_loss:        <span style=\"color: #000080; font-weight: bold\">0.013847</span>                                                   <a href=\"file:///home/ubuntu/anaconda3/envs/openfl/lib/python3.8/site-packages/openfl/interface/interactive_api/experiment.py\"><span style=\"color: #7f7f7f\">experiment.py</span></a><span style=\"color: #7f7f7f\">:116</span>\n",
       "</pre>\n"
      ],
      "text/plain": [
       "<rich.jupyter.JupyterRenderable at 0x7f0a35f60490>"
      ]
     },
     "metadata": {},
     "output_type": "display_data"
    },
    {
     "data": {
      "text/html": [
       "<pre style=\"white-space:pre;overflow-x:auto;line-height:normal;font-family:Menlo,'DejaVu Sans Mono',consolas,'Courier New',monospace\"><span style=\"color: #7fbfbf\">           </span>METRIC   Round <span style=\"color: #000080; font-weight: bold\">14</span>, collaborator env_five locally_tuned_model_validate result acc:        <span style=\"color: #000080; font-weight: bold\">0.966500</span>                                   <a href=\"file:///home/ubuntu/anaconda3/envs/openfl/lib/python3.8/site-packages/openfl/interface/interactive_api/experiment.py\"><span style=\"color: #7f7f7f\">experiment.py</span></a><span style=\"color: #7f7f7f\">:116</span>\n",
       "</pre>\n"
      ],
      "text/plain": [
       "<rich.jupyter.JupyterRenderable at 0x7f0a35f60b50>"
      ]
     },
     "metadata": {},
     "output_type": "display_data"
    },
    {
     "data": {
      "text/html": [
       "<pre style=\"white-space:pre;overflow-x:auto;line-height:normal;font-family:Menlo,'DejaVu Sans Mono',consolas,'Courier New',monospace\"><span style=\"color: #7fbfbf\">[09:46:38] </span>METRIC   Round <span style=\"color: #000080; font-weight: bold\">14</span>, collaborator env_five aggregated_model_validate result acc:   <span style=\"color: #000080; font-weight: bold\">0.671000</span>                                           <a href=\"file:///home/ubuntu/anaconda3/envs/openfl/lib/python3.8/site-packages/openfl/interface/interactive_api/experiment.py\"><span style=\"color: #7f7f7f\">experiment.py</span></a><span style=\"color: #7f7f7f\">:116</span>\n",
       "</pre>\n"
      ],
      "text/plain": [
       "<rich.jupyter.JupyterRenderable at 0x7f0a35f60070>"
      ]
     },
     "metadata": {},
     "output_type": "display_data"
    },
    {
     "data": {
      "text/html": [
       "<pre style=\"white-space:pre;overflow-x:auto;line-height:normal;font-family:Menlo,'DejaVu Sans Mono',consolas,'Courier New',monospace\"><span style=\"color: #7fbfbf\">[09:46:49] </span>METRIC   Round <span style=\"color: #000080; font-weight: bold\">14</span>, collaborator Aggregator train result train_loss:      <span style=\"color: #000080; font-weight: bold\">0.026739</span>                                                   <a href=\"file:///home/ubuntu/anaconda3/envs/openfl/lib/python3.8/site-packages/openfl/interface/interactive_api/experiment.py\"><span style=\"color: #7f7f7f\">experiment.py</span></a><span style=\"color: #7f7f7f\">:116</span>\n",
       "</pre>\n"
      ],
      "text/plain": [
       "<rich.jupyter.JupyterRenderable at 0x7f0a35f601c0>"
      ]
     },
     "metadata": {},
     "output_type": "display_data"
    },
    {
     "data": {
      "text/html": [
       "<pre style=\"white-space:pre;overflow-x:auto;line-height:normal;font-family:Menlo,'DejaVu Sans Mono',consolas,'Courier New',monospace\"><span style=\"color: #7fbfbf\">           </span>METRIC   Round <span style=\"color: #000080; font-weight: bold\">14</span>, collaborator Aggregator locally_tuned_model_validate result acc:      <span style=\"color: #000080; font-weight: bold\">0.938850</span>                                   <a href=\"file:///home/ubuntu/anaconda3/envs/openfl/lib/python3.8/site-packages/openfl/interface/interactive_api/experiment.py\"><span style=\"color: #7f7f7f\">experiment.py</span></a><span style=\"color: #7f7f7f\">:116</span>\n",
       "</pre>\n"
      ],
      "text/plain": [
       "<rich.jupyter.JupyterRenderable at 0x7f0a35f60c10>"
      ]
     },
     "metadata": {},
     "output_type": "display_data"
    },
    {
     "data": {
      "text/html": [
       "<pre style=\"white-space:pre;overflow-x:auto;line-height:normal;font-family:Menlo,'DejaVu Sans Mono',consolas,'Courier New',monospace\"><span style=\"color: #7fbfbf\">           </span>METRIC   Round <span style=\"color: #000080; font-weight: bold\">14</span>, collaborator Aggregator aggregated_model_validate result acc: <span style=\"color: #000080; font-weight: bold\">0.511850</span>                                           <a href=\"file:///home/ubuntu/anaconda3/envs/openfl/lib/python3.8/site-packages/openfl/interface/interactive_api/experiment.py\"><span style=\"color: #7f7f7f\">experiment.py</span></a><span style=\"color: #7f7f7f\">:116</span>\n",
       "</pre>\n"
      ],
      "text/plain": [
       "<rich.jupyter.JupyterRenderable at 0x7f0a35f604f0>"
      ]
     },
     "metadata": {},
     "output_type": "display_data"
    },
    {
     "data": {
      "text/html": [
       "<pre style=\"white-space:pre;overflow-x:auto;line-height:normal;font-family:Menlo,'DejaVu Sans Mono',consolas,'Courier New',monospace\"><span style=\"color: #7fbfbf\">[09:48:02] </span>METRIC   Round <span style=\"color: #000080; font-weight: bold\">15</span>, collaborator env_one train result train_loss: <span style=\"color: #000080; font-weight: bold\">0.011787</span>                                                           <a href=\"file:///home/ubuntu/anaconda3/envs/openfl/lib/python3.8/site-packages/openfl/interface/interactive_api/experiment.py\"><span style=\"color: #7f7f7f\">experiment.py</span></a><span style=\"color: #7f7f7f\">:116</span>\n",
       "</pre>\n"
      ],
      "text/plain": [
       "<rich.jupyter.JupyterRenderable at 0x7f0a35f60070>"
      ]
     },
     "metadata": {},
     "output_type": "display_data"
    },
    {
     "data": {
      "text/html": [
       "<pre style=\"white-space:pre;overflow-x:auto;line-height:normal;font-family:Menlo,'DejaVu Sans Mono',consolas,'Courier New',monospace\"><span style=\"color: #7fbfbf\">           </span>METRIC   Round <span style=\"color: #000080; font-weight: bold\">15</span>, collaborator env_one locally_tuned_model_validate result acc: <span style=\"color: #000080; font-weight: bold\">0.962500</span>                                           <a href=\"file:///home/ubuntu/anaconda3/envs/openfl/lib/python3.8/site-packages/openfl/interface/interactive_api/experiment.py\"><span style=\"color: #7f7f7f\">experiment.py</span></a><span style=\"color: #7f7f7f\">:116</span>\n",
       "</pre>\n"
      ],
      "text/plain": [
       "<rich.jupyter.JupyterRenderable at 0x7f0a35f60c10>"
      ]
     },
     "metadata": {},
     "output_type": "display_data"
    },
    {
     "data": {
      "text/html": [
       "<pre style=\"white-space:pre;overflow-x:auto;line-height:normal;font-family:Menlo,'DejaVu Sans Mono',consolas,'Courier New',monospace\"><span style=\"color: #7fbfbf\">[09:48:03] </span>METRIC   Round <span style=\"color: #000080; font-weight: bold\">15</span>, collaborator env_one aggregated_model_validate result acc:    <span style=\"color: #000080; font-weight: bold\">0.951000</span>                                           <a href=\"file:///home/ubuntu/anaconda3/envs/openfl/lib/python3.8/site-packages/openfl/interface/interactive_api/experiment.py\"><span style=\"color: #7f7f7f\">experiment.py</span></a><span style=\"color: #7f7f7f\">:116</span>\n",
       "</pre>\n"
      ],
      "text/plain": [
       "<rich.jupyter.JupyterRenderable at 0x7f0a35f60070>"
      ]
     },
     "metadata": {},
     "output_type": "display_data"
    },
    {
     "data": {
      "text/html": [
       "<pre style=\"white-space:pre;overflow-x:auto;line-height:normal;font-family:Menlo,'DejaVu Sans Mono',consolas,'Courier New',monospace\"><span style=\"color: #7fbfbf\">[09:48:10] </span>METRIC   Round <span style=\"color: #000080; font-weight: bold\">15</span>, collaborator env_four train result train_loss:        <span style=\"color: #000080; font-weight: bold\">0.022498</span>                                                   <a href=\"file:///home/ubuntu/anaconda3/envs/openfl/lib/python3.8/site-packages/openfl/interface/interactive_api/experiment.py\"><span style=\"color: #7f7f7f\">experiment.py</span></a><span style=\"color: #7f7f7f\">:116</span>\n",
       "</pre>\n"
      ],
      "text/plain": [
       "<rich.jupyter.JupyterRenderable at 0x7f0a35f60c10>"
      ]
     },
     "metadata": {},
     "output_type": "display_data"
    },
    {
     "data": {
      "text/html": [
       "<pre style=\"white-space:pre;overflow-x:auto;line-height:normal;font-family:Menlo,'DejaVu Sans Mono',consolas,'Courier New',monospace\"><span style=\"color: #7fbfbf\">           </span>METRIC   Round <span style=\"color: #000080; font-weight: bold\">15</span>, collaborator env_four locally_tuned_model_validate result acc:        <span style=\"color: #000080; font-weight: bold\">0.946500</span>                                   <a href=\"file:///home/ubuntu/anaconda3/envs/openfl/lib/python3.8/site-packages/openfl/interface/interactive_api/experiment.py\"><span style=\"color: #7f7f7f\">experiment.py</span></a><span style=\"color: #7f7f7f\">:116</span>\n",
       "</pre>\n"
      ],
      "text/plain": [
       "<rich.jupyter.JupyterRenderable at 0x7f0a35f60250>"
      ]
     },
     "metadata": {},
     "output_type": "display_data"
    },
    {
     "data": {
      "text/html": [
       "<pre style=\"white-space:pre;overflow-x:auto;line-height:normal;font-family:Menlo,'DejaVu Sans Mono',consolas,'Courier New',monospace\"><span style=\"color: #7fbfbf\">[09:48:11] </span>METRIC   Round <span style=\"color: #000080; font-weight: bold\">15</span>, collaborator env_four aggregated_model_validate result acc:   <span style=\"color: #000080; font-weight: bold\">0.476000</span>                                           <a href=\"file:///home/ubuntu/anaconda3/envs/openfl/lib/python3.8/site-packages/openfl/interface/interactive_api/experiment.py\"><span style=\"color: #7f7f7f\">experiment.py</span></a><span style=\"color: #7f7f7f\">:116</span>\n",
       "</pre>\n"
      ],
      "text/plain": [
       "<rich.jupyter.JupyterRenderable at 0x7f0a35f60490>"
      ]
     },
     "metadata": {},
     "output_type": "display_data"
    },
    {
     "data": {
      "text/html": [
       "<pre style=\"white-space:pre;overflow-x:auto;line-height:normal;font-family:Menlo,'DejaVu Sans Mono',consolas,'Courier New',monospace\"><span style=\"color: #7fbfbf\">[09:48:15] </span>METRIC   Round <span style=\"color: #000080; font-weight: bold\">15</span>, collaborator env_seven train result train_loss:       <span style=\"color: #000080; font-weight: bold\">0.069559</span>                                                   <a href=\"file:///home/ubuntu/anaconda3/envs/openfl/lib/python3.8/site-packages/openfl/interface/interactive_api/experiment.py\"><span style=\"color: #7f7f7f\">experiment.py</span></a><span style=\"color: #7f7f7f\">:116</span>\n",
       "</pre>\n"
      ],
      "text/plain": [
       "<rich.jupyter.JupyterRenderable at 0x7f0a35f60c10>"
      ]
     },
     "metadata": {},
     "output_type": "display_data"
    },
    {
     "data": {
      "text/html": [
       "<pre style=\"white-space:pre;overflow-x:auto;line-height:normal;font-family:Menlo,'DejaVu Sans Mono',consolas,'Courier New',monospace\"><span style=\"color: #7fbfbf\">           </span>METRIC   Round <span style=\"color: #000080; font-weight: bold\">15</span>, collaborator env_seven locally_tuned_model_validate result acc:       <span style=\"color: #000080; font-weight: bold\">0.878000</span>                                   <a href=\"file:///home/ubuntu/anaconda3/envs/openfl/lib/python3.8/site-packages/openfl/interface/interactive_api/experiment.py\"><span style=\"color: #7f7f7f\">experiment.py</span></a><span style=\"color: #7f7f7f\">:116</span>\n",
       "</pre>\n"
      ],
      "text/plain": [
       "<rich.jupyter.JupyterRenderable at 0x7f0a35f60250>"
      ]
     },
     "metadata": {},
     "output_type": "display_data"
    },
    {
     "data": {
      "text/html": [
       "<pre style=\"white-space:pre;overflow-x:auto;line-height:normal;font-family:Menlo,'DejaVu Sans Mono',consolas,'Courier New',monospace\"><span style=\"color: #7fbfbf\">           </span>METRIC   Round <span style=\"color: #000080; font-weight: bold\">15</span>, collaborator env_seven aggregated_model_validate result acc:  <span style=\"color: #000080; font-weight: bold\">0.730000</span>                                           <a href=\"file:///home/ubuntu/anaconda3/envs/openfl/lib/python3.8/site-packages/openfl/interface/interactive_api/experiment.py\"><span style=\"color: #7f7f7f\">experiment.py</span></a><span style=\"color: #7f7f7f\">:116</span>\n",
       "</pre>\n"
      ],
      "text/plain": [
       "<rich.jupyter.JupyterRenderable at 0x7f0a35f600d0>"
      ]
     },
     "metadata": {},
     "output_type": "display_data"
    },
    {
     "data": {
      "text/html": [
       "<pre style=\"white-space:pre;overflow-x:auto;line-height:normal;font-family:Menlo,'DejaVu Sans Mono',consolas,'Courier New',monospace\"><span style=\"color: #7fbfbf\">[09:48:25] </span>METRIC   Round <span style=\"color: #000080; font-weight: bold\">15</span>, collaborator env_three train result train_loss:       <span style=\"color: #000080; font-weight: bold\">0.022306</span>                                                   <a href=\"file:///home/ubuntu/anaconda3/envs/openfl/lib/python3.8/site-packages/openfl/interface/interactive_api/experiment.py\"><span style=\"color: #7f7f7f\">experiment.py</span></a><span style=\"color: #7f7f7f\">:116</span>\n",
       "</pre>\n"
      ],
      "text/plain": [
       "<rich.jupyter.JupyterRenderable at 0x7f0a35f60040>"
      ]
     },
     "metadata": {},
     "output_type": "display_data"
    },
    {
     "data": {
      "text/html": [
       "<pre style=\"white-space:pre;overflow-x:auto;line-height:normal;font-family:Menlo,'DejaVu Sans Mono',consolas,'Courier New',monospace\"><span style=\"color: #7fbfbf\">           </span>METRIC   Round <span style=\"color: #000080; font-weight: bold\">15</span>, collaborator env_three locally_tuned_model_validate result acc:       <span style=\"color: #000080; font-weight: bold\">0.972000</span>                                   <a href=\"file:///home/ubuntu/anaconda3/envs/openfl/lib/python3.8/site-packages/openfl/interface/interactive_api/experiment.py\"><span style=\"color: #7f7f7f\">experiment.py</span></a><span style=\"color: #7f7f7f\">:116</span>\n",
       "</pre>\n"
      ],
      "text/plain": [
       "<rich.jupyter.JupyterRenderable at 0x7f0a35f60490>"
      ]
     },
     "metadata": {},
     "output_type": "display_data"
    },
    {
     "data": {
      "text/html": [
       "<pre style=\"white-space:pre;overflow-x:auto;line-height:normal;font-family:Menlo,'DejaVu Sans Mono',consolas,'Courier New',monospace\"><span style=\"color: #7fbfbf\">[09:48:26] </span>METRIC   Round <span style=\"color: #000080; font-weight: bold\">15</span>, collaborator env_three aggregated_model_validate result acc:  <span style=\"color: #000080; font-weight: bold\">0.186500</span>                                           <a href=\"file:///home/ubuntu/anaconda3/envs/openfl/lib/python3.8/site-packages/openfl/interface/interactive_api/experiment.py\"><span style=\"color: #7f7f7f\">experiment.py</span></a><span style=\"color: #7f7f7f\">:116</span>\n",
       "</pre>\n"
      ],
      "text/plain": [
       "<rich.jupyter.JupyterRenderable at 0x7f0a35f601f0>"
      ]
     },
     "metadata": {},
     "output_type": "display_data"
    },
    {
     "data": {
      "text/html": [
       "<pre style=\"white-space:pre;overflow-x:auto;line-height:normal;font-family:Menlo,'DejaVu Sans Mono',consolas,'Courier New',monospace\"><span style=\"color: #7fbfbf\">[09:48:32] </span>METRIC   Round <span style=\"color: #000080; font-weight: bold\">15</span>, collaborator env_eight train result train_loss:       <span style=\"color: #000080; font-weight: bold\">0.036728</span>                                                   <a href=\"file:///home/ubuntu/anaconda3/envs/openfl/lib/python3.8/site-packages/openfl/interface/interactive_api/experiment.py\"><span style=\"color: #7f7f7f\">experiment.py</span></a><span style=\"color: #7f7f7f\">:116</span>\n",
       "</pre>\n"
      ],
      "text/plain": [
       "<rich.jupyter.JupyterRenderable at 0x7f0a35f600d0>"
      ]
     },
     "metadata": {},
     "output_type": "display_data"
    },
    {
     "data": {
      "text/html": [
       "<pre style=\"white-space:pre;overflow-x:auto;line-height:normal;font-family:Menlo,'DejaVu Sans Mono',consolas,'Courier New',monospace\"><span style=\"color: #7fbfbf\">           </span>METRIC   Round <span style=\"color: #000080; font-weight: bold\">15</span>, collaborator env_eight locally_tuned_model_validate result acc:       <span style=\"color: #000080; font-weight: bold\">0.945000</span>                                   <a href=\"file:///home/ubuntu/anaconda3/envs/openfl/lib/python3.8/site-packages/openfl/interface/interactive_api/experiment.py\"><span style=\"color: #7f7f7f\">experiment.py</span></a><span style=\"color: #7f7f7f\">:116</span>\n",
       "</pre>\n"
      ],
      "text/plain": [
       "<rich.jupyter.JupyterRenderable at 0x7f0a35f601c0>"
      ]
     },
     "metadata": {},
     "output_type": "display_data"
    },
    {
     "data": {
      "text/html": [
       "<pre style=\"white-space:pre;overflow-x:auto;line-height:normal;font-family:Menlo,'DejaVu Sans Mono',consolas,'Courier New',monospace\"><span style=\"color: #7fbfbf\">[09:48:33] </span>METRIC   Round <span style=\"color: #000080; font-weight: bold\">15</span>, collaborator env_eight aggregated_model_validate result acc:  <span style=\"color: #000080; font-weight: bold\">0.186500</span>                                           <a href=\"file:///home/ubuntu/anaconda3/envs/openfl/lib/python3.8/site-packages/openfl/interface/interactive_api/experiment.py\"><span style=\"color: #7f7f7f\">experiment.py</span></a><span style=\"color: #7f7f7f\">:116</span>\n",
       "</pre>\n"
      ],
      "text/plain": [
       "<rich.jupyter.JupyterRenderable at 0x7f0a35f60220>"
      ]
     },
     "metadata": {},
     "output_type": "display_data"
    },
    {
     "data": {
      "text/html": [
       "<pre style=\"white-space:pre;overflow-x:auto;line-height:normal;font-family:Menlo,'DejaVu Sans Mono',consolas,'Courier New',monospace\"><span style=\"color: #7fbfbf\">[09:48:39] </span>METRIC   Round <span style=\"color: #000080; font-weight: bold\">15</span>, collaborator env_two train result train_loss: <span style=\"color: #000080; font-weight: bold\">0.015638</span>                                                           <a href=\"file:///home/ubuntu/anaconda3/envs/openfl/lib/python3.8/site-packages/openfl/interface/interactive_api/experiment.py\"><span style=\"color: #7f7f7f\">experiment.py</span></a><span style=\"color: #7f7f7f\">:116</span>\n",
       "</pre>\n"
      ],
      "text/plain": [
       "<rich.jupyter.JupyterRenderable at 0x7f0a35f601c0>"
      ]
     },
     "metadata": {},
     "output_type": "display_data"
    },
    {
     "data": {
      "text/html": [
       "<pre style=\"white-space:pre;overflow-x:auto;line-height:normal;font-family:Menlo,'DejaVu Sans Mono',consolas,'Courier New',monospace\"><span style=\"color: #7fbfbf\">           </span>METRIC   Round <span style=\"color: #000080; font-weight: bold\">15</span>, collaborator env_two locally_tuned_model_validate result acc: <span style=\"color: #000080; font-weight: bold\">0.975500</span>                                           <a href=\"file:///home/ubuntu/anaconda3/envs/openfl/lib/python3.8/site-packages/openfl/interface/interactive_api/experiment.py\"><span style=\"color: #7f7f7f\">experiment.py</span></a><span style=\"color: #7f7f7f\">:116</span>\n",
       "</pre>\n"
      ],
      "text/plain": [
       "<rich.jupyter.JupyterRenderable at 0x7f0a35f60070>"
      ]
     },
     "metadata": {},
     "output_type": "display_data"
    },
    {
     "data": {
      "text/html": [
       "<pre style=\"white-space:pre;overflow-x:auto;line-height:normal;font-family:Menlo,'DejaVu Sans Mono',consolas,'Courier New',monospace\"><span style=\"color: #7fbfbf\">[09:48:40] </span>METRIC   Round <span style=\"color: #000080; font-weight: bold\">15</span>, collaborator env_two aggregated_model_validate result acc:    <span style=\"color: #000080; font-weight: bold\">0.251000</span>                                           <a href=\"file:///home/ubuntu/anaconda3/envs/openfl/lib/python3.8/site-packages/openfl/interface/interactive_api/experiment.py\"><span style=\"color: #7f7f7f\">experiment.py</span></a><span style=\"color: #7f7f7f\">:116</span>\n",
       "</pre>\n"
      ],
      "text/plain": [
       "<rich.jupyter.JupyterRenderable at 0x7f0a35f60040>"
      ]
     },
     "metadata": {},
     "output_type": "display_data"
    },
    {
     "data": {
      "text/html": [
       "<pre style=\"white-space:pre;overflow-x:auto;line-height:normal;font-family:Menlo,'DejaVu Sans Mono',consolas,'Courier New',monospace\"><span style=\"color: #7fbfbf\">[09:48:50] </span>METRIC   Round <span style=\"color: #000080; font-weight: bold\">15</span>, collaborator env_ten train result train_loss: <span style=\"color: #000080; font-weight: bold\">0.022789</span>                                                           <a href=\"file:///home/ubuntu/anaconda3/envs/openfl/lib/python3.8/site-packages/openfl/interface/interactive_api/experiment.py\"><span style=\"color: #7f7f7f\">experiment.py</span></a><span style=\"color: #7f7f7f\">:116</span>\n",
       "</pre>\n"
      ],
      "text/plain": [
       "<rich.jupyter.JupyterRenderable at 0x7f0a35f60070>"
      ]
     },
     "metadata": {},
     "output_type": "display_data"
    },
    {
     "data": {
      "text/html": [
       "<pre style=\"white-space:pre;overflow-x:auto;line-height:normal;font-family:Menlo,'DejaVu Sans Mono',consolas,'Courier New',monospace\"><span style=\"color: #7fbfbf\">           </span>METRIC   Round <span style=\"color: #000080; font-weight: bold\">15</span>, collaborator env_ten locally_tuned_model_validate result acc: <span style=\"color: #000080; font-weight: bold\">0.952000</span>                                           <a href=\"file:///home/ubuntu/anaconda3/envs/openfl/lib/python3.8/site-packages/openfl/interface/interactive_api/experiment.py\"><span style=\"color: #7f7f7f\">experiment.py</span></a><span style=\"color: #7f7f7f\">:116</span>\n",
       "</pre>\n"
      ],
      "text/plain": [
       "<rich.jupyter.JupyterRenderable at 0x7f0a35f60100>"
      ]
     },
     "metadata": {},
     "output_type": "display_data"
    },
    {
     "data": {
      "text/html": [
       "<pre style=\"white-space:pre;overflow-x:auto;line-height:normal;font-family:Menlo,'DejaVu Sans Mono',consolas,'Courier New',monospace\"><span style=\"color: #7fbfbf\">[09:48:51] </span>METRIC   Round <span style=\"color: #000080; font-weight: bold\">15</span>, collaborator env_ten aggregated_model_validate result acc:    <span style=\"color: #000080; font-weight: bold\">0.482000</span>                                           <a href=\"file:///home/ubuntu/anaconda3/envs/openfl/lib/python3.8/site-packages/openfl/interface/interactive_api/experiment.py\"><span style=\"color: #7f7f7f\">experiment.py</span></a><span style=\"color: #7f7f7f\">:116</span>\n",
       "</pre>\n"
      ],
      "text/plain": [
       "<rich.jupyter.JupyterRenderable at 0x7f0a35f60730>"
      ]
     },
     "metadata": {},
     "output_type": "display_data"
    },
    {
     "data": {
      "text/html": [
       "<pre style=\"white-space:pre;overflow-x:auto;line-height:normal;font-family:Menlo,'DejaVu Sans Mono',consolas,'Courier New',monospace\"><span style=\"color: #7fbfbf\">[09:49:21] </span>METRIC   Round <span style=\"color: #000080; font-weight: bold\">15</span>, collaborator env_six train result train_loss: <span style=\"color: #000080; font-weight: bold\">0.010818</span>                                                           <a href=\"file:///home/ubuntu/anaconda3/envs/openfl/lib/python3.8/site-packages/openfl/interface/interactive_api/experiment.py\"><span style=\"color: #7f7f7f\">experiment.py</span></a><span style=\"color: #7f7f7f\">:116</span>\n",
       "</pre>\n"
      ],
      "text/plain": [
       "<rich.jupyter.JupyterRenderable at 0x7f0a35f60c10>"
      ]
     },
     "metadata": {},
     "output_type": "display_data"
    },
    {
     "data": {
      "text/html": [
       "<pre style=\"white-space:pre;overflow-x:auto;line-height:normal;font-family:Menlo,'DejaVu Sans Mono',consolas,'Courier New',monospace\"><span style=\"color: #7fbfbf\">[09:49:22] </span>METRIC   Round <span style=\"color: #000080; font-weight: bold\">15</span>, collaborator env_six locally_tuned_model_validate result acc: <span style=\"color: #000080; font-weight: bold\">0.961500</span>                                           <a href=\"file:///home/ubuntu/anaconda3/envs/openfl/lib/python3.8/site-packages/openfl/interface/interactive_api/experiment.py\"><span style=\"color: #7f7f7f\">experiment.py</span></a><span style=\"color: #7f7f7f\">:116</span>\n",
       "</pre>\n"
      ],
      "text/plain": [
       "<rich.jupyter.JupyterRenderable at 0x7f0a35f60100>"
      ]
     },
     "metadata": {},
     "output_type": "display_data"
    },
    {
     "data": {
      "text/html": [
       "<pre style=\"white-space:pre;overflow-x:auto;line-height:normal;font-family:Menlo,'DejaVu Sans Mono',consolas,'Courier New',monospace\"><span style=\"color: #7fbfbf\">           </span>METRIC   Round <span style=\"color: #000080; font-weight: bold\">15</span>, collaborator env_six aggregated_model_validate result acc:    <span style=\"color: #000080; font-weight: bold\">0.951000</span>                                           <a href=\"file:///home/ubuntu/anaconda3/envs/openfl/lib/python3.8/site-packages/openfl/interface/interactive_api/experiment.py\"><span style=\"color: #7f7f7f\">experiment.py</span></a><span style=\"color: #7f7f7f\">:116</span>\n",
       "</pre>\n"
      ],
      "text/plain": [
       "<rich.jupyter.JupyterRenderable at 0x7f0a35f60730>"
      ]
     },
     "metadata": {},
     "output_type": "display_data"
    },
    {
     "data": {
      "text/html": [
       "<pre style=\"white-space:pre;overflow-x:auto;line-height:normal;font-family:Menlo,'DejaVu Sans Mono',consolas,'Courier New',monospace\"><span style=\"color: #7fbfbf\">[09:49:49] </span>METRIC   Round <span style=\"color: #000080; font-weight: bold\">15</span>, collaborator env_nine train result train_loss:        <span style=\"color: #000080; font-weight: bold\">0.045983</span>                                                   <a href=\"file:///home/ubuntu/anaconda3/envs/openfl/lib/python3.8/site-packages/openfl/interface/interactive_api/experiment.py\"><span style=\"color: #7f7f7f\">experiment.py</span></a><span style=\"color: #7f7f7f\">:116</span>\n",
       "</pre>\n"
      ],
      "text/plain": [
       "<rich.jupyter.JupyterRenderable at 0x7f0a35f600a0>"
      ]
     },
     "metadata": {},
     "output_type": "display_data"
    },
    {
     "data": {
      "text/html": [
       "<pre style=\"white-space:pre;overflow-x:auto;line-height:normal;font-family:Menlo,'DejaVu Sans Mono',consolas,'Courier New',monospace\"><span style=\"color: #7fbfbf\">[09:49:50] </span>METRIC   Round <span style=\"color: #000080; font-weight: bold\">15</span>, collaborator env_nine locally_tuned_model_validate result acc:        <span style=\"color: #000080; font-weight: bold\">0.866500</span>                                   <a href=\"file:///home/ubuntu/anaconda3/envs/openfl/lib/python3.8/site-packages/openfl/interface/interactive_api/experiment.py\"><span style=\"color: #7f7f7f\">experiment.py</span></a><span style=\"color: #7f7f7f\">:116</span>\n",
       "</pre>\n"
      ],
      "text/plain": [
       "<rich.jupyter.JupyterRenderable at 0x7f0a35f60340>"
      ]
     },
     "metadata": {},
     "output_type": "display_data"
    },
    {
     "data": {
      "text/html": [
       "<pre style=\"white-space:pre;overflow-x:auto;line-height:normal;font-family:Menlo,'DejaVu Sans Mono',consolas,'Courier New',monospace\"><span style=\"color: #7fbfbf\">           </span>METRIC   Round <span style=\"color: #000080; font-weight: bold\">15</span>, collaborator env_nine aggregated_model_validate result acc:   <span style=\"color: #000080; font-weight: bold\">0.065000</span>                                           <a href=\"file:///home/ubuntu/anaconda3/envs/openfl/lib/python3.8/site-packages/openfl/interface/interactive_api/experiment.py\"><span style=\"color: #7f7f7f\">experiment.py</span></a><span style=\"color: #7f7f7f\">:116</span>\n",
       "</pre>\n"
      ],
      "text/plain": [
       "<rich.jupyter.JupyterRenderable at 0x7f0a35f60730>"
      ]
     },
     "metadata": {},
     "output_type": "display_data"
    },
    {
     "data": {
      "text/html": [
       "<pre style=\"white-space:pre;overflow-x:auto;line-height:normal;font-family:Menlo,'DejaVu Sans Mono',consolas,'Courier New',monospace\"><span style=\"color: #7fbfbf\">[09:49:58] </span>METRIC   Round <span style=\"color: #000080; font-weight: bold\">15</span>, collaborator env_five train result train_loss:        <span style=\"color: #000080; font-weight: bold\">0.012735</span>                                                   <a href=\"file:///home/ubuntu/anaconda3/envs/openfl/lib/python3.8/site-packages/openfl/interface/interactive_api/experiment.py\"><span style=\"color: #7f7f7f\">experiment.py</span></a><span style=\"color: #7f7f7f\">:116</span>\n",
       "</pre>\n"
      ],
      "text/plain": [
       "<rich.jupyter.JupyterRenderable at 0x7f0a35f60df0>"
      ]
     },
     "metadata": {},
     "output_type": "display_data"
    },
    {
     "data": {
      "text/html": [
       "<pre style=\"white-space:pre;overflow-x:auto;line-height:normal;font-family:Menlo,'DejaVu Sans Mono',consolas,'Courier New',monospace\"><span style=\"color: #7fbfbf\">[09:49:59] </span>METRIC   Round <span style=\"color: #000080; font-weight: bold\">15</span>, collaborator env_five locally_tuned_model_validate result acc:        <span style=\"color: #000080; font-weight: bold\">0.953500</span>                                   <a href=\"file:///home/ubuntu/anaconda3/envs/openfl/lib/python3.8/site-packages/openfl/interface/interactive_api/experiment.py\"><span style=\"color: #7f7f7f\">experiment.py</span></a><span style=\"color: #7f7f7f\">:116</span>\n",
       "</pre>\n"
      ],
      "text/plain": [
       "<rich.jupyter.JupyterRenderable at 0x7f0a35f60370>"
      ]
     },
     "metadata": {},
     "output_type": "display_data"
    },
    {
     "data": {
      "text/html": [
       "<pre style=\"white-space:pre;overflow-x:auto;line-height:normal;font-family:Menlo,'DejaVu Sans Mono',consolas,'Courier New',monospace\"><span style=\"color: #7fbfbf\">           </span>METRIC   Round <span style=\"color: #000080; font-weight: bold\">15</span>, collaborator env_five aggregated_model_validate result acc:   <span style=\"color: #000080; font-weight: bold\">0.742000</span>                                           <a href=\"file:///home/ubuntu/anaconda3/envs/openfl/lib/python3.8/site-packages/openfl/interface/interactive_api/experiment.py\"><span style=\"color: #7f7f7f\">experiment.py</span></a><span style=\"color: #7f7f7f\">:116</span>\n",
       "</pre>\n"
      ],
      "text/plain": [
       "<rich.jupyter.JupyterRenderable at 0x7f0a35f60730>"
      ]
     },
     "metadata": {},
     "output_type": "display_data"
    },
    {
     "data": {
      "text/html": [
       "<pre style=\"white-space:pre;overflow-x:auto;line-height:normal;font-family:Menlo,'DejaVu Sans Mono',consolas,'Courier New',monospace\"><span style=\"color: #7fbfbf\">[09:50:10] </span>METRIC   Round <span style=\"color: #000080; font-weight: bold\">15</span>, collaborator Aggregator train result train_loss:      <span style=\"color: #000080; font-weight: bold\">0.025878</span>                                                   <a href=\"file:///home/ubuntu/anaconda3/envs/openfl/lib/python3.8/site-packages/openfl/interface/interactive_api/experiment.py\"><span style=\"color: #7f7f7f\">experiment.py</span></a><span style=\"color: #7f7f7f\">:116</span>\n",
       "</pre>\n"
      ],
      "text/plain": [
       "<rich.jupyter.JupyterRenderable at 0x7f0a35f60df0>"
      ]
     },
     "metadata": {},
     "output_type": "display_data"
    },
    {
     "data": {
      "text/html": [
       "<pre style=\"white-space:pre;overflow-x:auto;line-height:normal;font-family:Menlo,'DejaVu Sans Mono',consolas,'Courier New',monospace\"><span style=\"color: #7fbfbf\">           </span>METRIC   Round <span style=\"color: #000080; font-weight: bold\">15</span>, collaborator Aggregator locally_tuned_model_validate result acc:      <span style=\"color: #000080; font-weight: bold\">0.941300</span>                                   <a href=\"file:///home/ubuntu/anaconda3/envs/openfl/lib/python3.8/site-packages/openfl/interface/interactive_api/experiment.py\"><span style=\"color: #7f7f7f\">experiment.py</span></a><span style=\"color: #7f7f7f\">:116</span>\n",
       "</pre>\n"
      ],
      "text/plain": [
       "<rich.jupyter.JupyterRenderable at 0x7f0a35f60370>"
      ]
     },
     "metadata": {},
     "output_type": "display_data"
    },
    {
     "data": {
      "text/html": [
       "<pre style=\"white-space:pre;overflow-x:auto;line-height:normal;font-family:Menlo,'DejaVu Sans Mono',consolas,'Courier New',monospace\"><span style=\"color: #7fbfbf\">           </span>METRIC   Round <span style=\"color: #000080; font-weight: bold\">15</span>, collaborator Aggregator aggregated_model_validate result acc: <span style=\"color: #000080; font-weight: bold\">0.502100</span>                                           <a href=\"file:///home/ubuntu/anaconda3/envs/openfl/lib/python3.8/site-packages/openfl/interface/interactive_api/experiment.py\"><span style=\"color: #7f7f7f\">experiment.py</span></a><span style=\"color: #7f7f7f\">:116</span>\n",
       "</pre>\n"
      ],
      "text/plain": [
       "<rich.jupyter.JupyterRenderable at 0x7f0a35f600a0>"
      ]
     },
     "metadata": {},
     "output_type": "display_data"
    },
    {
     "data": {
      "text/html": [
       "<pre style=\"white-space:pre;overflow-x:auto;line-height:normal;font-family:Menlo,'DejaVu Sans Mono',consolas,'Courier New',monospace\"><span style=\"color: #7fbfbf\">[09:51:24] </span>METRIC   Round <span style=\"color: #000080; font-weight: bold\">16</span>, collaborator env_one train result train_loss: <span style=\"color: #000080; font-weight: bold\">0.014312</span>                                                           <a href=\"file:///home/ubuntu/anaconda3/envs/openfl/lib/python3.8/site-packages/openfl/interface/interactive_api/experiment.py\"><span style=\"color: #7f7f7f\">experiment.py</span></a><span style=\"color: #7f7f7f\">:116</span>\n",
       "</pre>\n"
      ],
      "text/plain": [
       "<rich.jupyter.JupyterRenderable at 0x7f0a35f60280>"
      ]
     },
     "metadata": {},
     "output_type": "display_data"
    },
    {
     "data": {
      "text/html": [
       "<pre style=\"white-space:pre;overflow-x:auto;line-height:normal;font-family:Menlo,'DejaVu Sans Mono',consolas,'Courier New',monospace\"><span style=\"color: #7fbfbf\">[09:51:25] </span>METRIC   Round <span style=\"color: #000080; font-weight: bold\">16</span>, collaborator env_one locally_tuned_model_validate result acc: <span style=\"color: #000080; font-weight: bold\">0.959500</span>                                           <a href=\"file:///home/ubuntu/anaconda3/envs/openfl/lib/python3.8/site-packages/openfl/interface/interactive_api/experiment.py\"><span style=\"color: #7f7f7f\">experiment.py</span></a><span style=\"color: #7f7f7f\">:116</span>\n",
       "</pre>\n"
      ],
      "text/plain": [
       "<rich.jupyter.JupyterRenderable at 0x7f0a35f60730>"
      ]
     },
     "metadata": {},
     "output_type": "display_data"
    },
    {
     "data": {
      "text/html": [
       "<pre style=\"white-space:pre;overflow-x:auto;line-height:normal;font-family:Menlo,'DejaVu Sans Mono',consolas,'Courier New',monospace\"><span style=\"color: #7fbfbf\">[09:51:26] </span>METRIC   Round <span style=\"color: #000080; font-weight: bold\">16</span>, collaborator env_one aggregated_model_validate result acc:    <span style=\"color: #000080; font-weight: bold\">0.410500</span>                                           <a href=\"file:///home/ubuntu/anaconda3/envs/openfl/lib/python3.8/site-packages/openfl/interface/interactive_api/experiment.py\"><span style=\"color: #7f7f7f\">experiment.py</span></a><span style=\"color: #7f7f7f\">:116</span>\n",
       "</pre>\n"
      ],
      "text/plain": [
       "<rich.jupyter.JupyterRenderable at 0x7f0a35f60370>"
      ]
     },
     "metadata": {},
     "output_type": "display_data"
    },
    {
     "data": {
      "text/html": [
       "<pre style=\"white-space:pre;overflow-x:auto;line-height:normal;font-family:Menlo,'DejaVu Sans Mono',consolas,'Courier New',monospace\"><span style=\"color: #7fbfbf\">           </span>METRIC   Round <span style=\"color: #000080; font-weight: bold\">16</span>, collaborator env_four train result train_loss:        <span style=\"color: #000080; font-weight: bold\">0.020896</span>                                                   <a href=\"file:///home/ubuntu/anaconda3/envs/openfl/lib/python3.8/site-packages/openfl/interface/interactive_api/experiment.py\"><span style=\"color: #7f7f7f\">experiment.py</span></a><span style=\"color: #7f7f7f\">:116</span>\n",
       "</pre>\n"
      ],
      "text/plain": [
       "<rich.jupyter.JupyterRenderable at 0x7f0a35f60280>"
      ]
     },
     "metadata": {},
     "output_type": "display_data"
    },
    {
     "data": {
      "text/html": [
       "<pre style=\"white-space:pre;overflow-x:auto;line-height:normal;font-family:Menlo,'DejaVu Sans Mono',consolas,'Courier New',monospace\"><span style=\"color: #7fbfbf\">           </span>METRIC   Round <span style=\"color: #000080; font-weight: bold\">16</span>, collaborator env_four locally_tuned_model_validate result acc:        <span style=\"color: #000080; font-weight: bold\">0.940500</span>                                   <a href=\"file:///home/ubuntu/anaconda3/envs/openfl/lib/python3.8/site-packages/openfl/interface/interactive_api/experiment.py\"><span style=\"color: #7f7f7f\">experiment.py</span></a><span style=\"color: #7f7f7f\">:116</span>\n",
       "</pre>\n"
      ],
      "text/plain": [
       "<rich.jupyter.JupyterRenderable at 0x7f0a35f60250>"
      ]
     },
     "metadata": {},
     "output_type": "display_data"
    },
    {
     "data": {
      "text/html": [
       "<pre style=\"white-space:pre;overflow-x:auto;line-height:normal;font-family:Menlo,'DejaVu Sans Mono',consolas,'Courier New',monospace\"><span style=\"color: #7fbfbf\">[09:51:27] </span>METRIC   Round <span style=\"color: #000080; font-weight: bold\">16</span>, collaborator env_four aggregated_model_validate result acc:   <span style=\"color: #000080; font-weight: bold\">0.051000</span>                                           <a href=\"file:///home/ubuntu/anaconda3/envs/openfl/lib/python3.8/site-packages/openfl/interface/interactive_api/experiment.py\"><span style=\"color: #7f7f7f\">experiment.py</span></a><span style=\"color: #7f7f7f\">:116</span>\n",
       "</pre>\n"
      ],
      "text/plain": [
       "<rich.jupyter.JupyterRenderable at 0x7f0a35f600a0>"
      ]
     },
     "metadata": {},
     "output_type": "display_data"
    },
    {
     "data": {
      "text/html": [
       "<pre style=\"white-space:pre;overflow-x:auto;line-height:normal;font-family:Menlo,'DejaVu Sans Mono',consolas,'Courier New',monospace\"><span style=\"color: #7fbfbf\">[09:51:31] </span>METRIC   Round <span style=\"color: #000080; font-weight: bold\">16</span>, collaborator env_seven train result train_loss:       <span style=\"color: #000080; font-weight: bold\">0.067855</span>                                                   <a href=\"file:///home/ubuntu/anaconda3/envs/openfl/lib/python3.8/site-packages/openfl/interface/interactive_api/experiment.py\"><span style=\"color: #7f7f7f\">experiment.py</span></a><span style=\"color: #7f7f7f\">:116</span>\n",
       "</pre>\n"
      ],
      "text/plain": [
       "<rich.jupyter.JupyterRenderable at 0x7f0a35f60280>"
      ]
     },
     "metadata": {},
     "output_type": "display_data"
    },
    {
     "data": {
      "text/html": [
       "<pre style=\"white-space:pre;overflow-x:auto;line-height:normal;font-family:Menlo,'DejaVu Sans Mono',consolas,'Courier New',monospace\"><span style=\"color: #7fbfbf\">           </span>METRIC   Round <span style=\"color: #000080; font-weight: bold\">16</span>, collaborator env_seven locally_tuned_model_validate result acc:       <span style=\"color: #000080; font-weight: bold\">0.877500</span>                                   <a href=\"file:///home/ubuntu/anaconda3/envs/openfl/lib/python3.8/site-packages/openfl/interface/interactive_api/experiment.py\"><span style=\"color: #7f7f7f\">experiment.py</span></a><span style=\"color: #7f7f7f\">:116</span>\n",
       "</pre>\n"
      ],
      "text/plain": [
       "<rich.jupyter.JupyterRenderable at 0x7f0a35f60250>"
      ]
     },
     "metadata": {},
     "output_type": "display_data"
    },
    {
     "data": {
      "text/html": [
       "<pre style=\"white-space:pre;overflow-x:auto;line-height:normal;font-family:Menlo,'DejaVu Sans Mono',consolas,'Courier New',monospace\"><span style=\"color: #7fbfbf\">[09:51:32] </span>METRIC   Round <span style=\"color: #000080; font-weight: bold\">16</span>, collaborator env_seven aggregated_model_validate result acc:  <span style=\"color: #000080; font-weight: bold\">0.321500</span>                                           <a href=\"file:///home/ubuntu/anaconda3/envs/openfl/lib/python3.8/site-packages/openfl/interface/interactive_api/experiment.py\"><span style=\"color: #7f7f7f\">experiment.py</span></a><span style=\"color: #7f7f7f\">:116</span>\n",
       "</pre>\n"
      ],
      "text/plain": [
       "<rich.jupyter.JupyterRenderable at 0x7f0a35f60250>"
      ]
     },
     "metadata": {},
     "output_type": "display_data"
    },
    {
     "data": {
      "text/html": [
       "<pre style=\"white-space:pre;overflow-x:auto;line-height:normal;font-family:Menlo,'DejaVu Sans Mono',consolas,'Courier New',monospace\"><span style=\"color: #7fbfbf\">[09:51:45] </span>METRIC   Round <span style=\"color: #000080; font-weight: bold\">16</span>, collaborator env_eight train result train_loss:       <span style=\"color: #000080; font-weight: bold\">0.032617</span>                                                   <a href=\"file:///home/ubuntu/anaconda3/envs/openfl/lib/python3.8/site-packages/openfl/interface/interactive_api/experiment.py\"><span style=\"color: #7f7f7f\">experiment.py</span></a><span style=\"color: #7f7f7f\">:116</span>\n",
       "</pre>\n"
      ],
      "text/plain": [
       "<rich.jupyter.JupyterRenderable at 0x7f0a35f60b50>"
      ]
     },
     "metadata": {},
     "output_type": "display_data"
    },
    {
     "data": {
      "text/html": [
       "<pre style=\"white-space:pre;overflow-x:auto;line-height:normal;font-family:Menlo,'DejaVu Sans Mono',consolas,'Courier New',monospace\"><span style=\"color: #7fbfbf\">[09:51:46] </span>METRIC   Round <span style=\"color: #000080; font-weight: bold\">16</span>, collaborator env_eight locally_tuned_model_validate result acc:       <span style=\"color: #000080; font-weight: bold\">0.950500</span>                                   <a href=\"file:///home/ubuntu/anaconda3/envs/openfl/lib/python3.8/site-packages/openfl/interface/interactive_api/experiment.py\"><span style=\"color: #7f7f7f\">experiment.py</span></a><span style=\"color: #7f7f7f\">:116</span>\n",
       "</pre>\n"
      ],
      "text/plain": [
       "<rich.jupyter.JupyterRenderable at 0x7f0a35f60280>"
      ]
     },
     "metadata": {},
     "output_type": "display_data"
    },
    {
     "data": {
      "text/html": [
       "<pre style=\"white-space:pre;overflow-x:auto;line-height:normal;font-family:Menlo,'DejaVu Sans Mono',consolas,'Courier New',monospace\"><span style=\"color: #7fbfbf\">           </span>METRIC   Round <span style=\"color: #000080; font-weight: bold\">16</span>, collaborator env_eight aggregated_model_validate result acc:  <span style=\"color: #000080; font-weight: bold\">0.504000</span>                                           <a href=\"file:///home/ubuntu/anaconda3/envs/openfl/lib/python3.8/site-packages/openfl/interface/interactive_api/experiment.py\"><span style=\"color: #7f7f7f\">experiment.py</span></a><span style=\"color: #7f7f7f\">:116</span>\n",
       "</pre>\n"
      ],
      "text/plain": [
       "<rich.jupyter.JupyterRenderable at 0x7f0a35f60370>"
      ]
     },
     "metadata": {},
     "output_type": "display_data"
    },
    {
     "data": {
      "text/html": [
       "<pre style=\"white-space:pre;overflow-x:auto;line-height:normal;font-family:Menlo,'DejaVu Sans Mono',consolas,'Courier New',monospace\"><span style=\"color: #7fbfbf\">[09:51:51] </span>METRIC   Round <span style=\"color: #000080; font-weight: bold\">16</span>, collaborator env_three train result train_loss:       <span style=\"color: #000080; font-weight: bold\">0.018810</span>                                                   <a href=\"file:///home/ubuntu/anaconda3/envs/openfl/lib/python3.8/site-packages/openfl/interface/interactive_api/experiment.py\"><span style=\"color: #7f7f7f\">experiment.py</span></a><span style=\"color: #7f7f7f\">:116</span>\n",
       "</pre>\n"
      ],
      "text/plain": [
       "<rich.jupyter.JupyterRenderable at 0x7f0a35f60b50>"
      ]
     },
     "metadata": {},
     "output_type": "display_data"
    },
    {
     "data": {
      "text/html": [
       "<pre style=\"white-space:pre;overflow-x:auto;line-height:normal;font-family:Menlo,'DejaVu Sans Mono',consolas,'Courier New',monospace\"><span style=\"color: #7fbfbf\">           </span>METRIC   Round <span style=\"color: #000080; font-weight: bold\">16</span>, collaborator env_three locally_tuned_model_validate result acc:       <span style=\"color: #000080; font-weight: bold\">0.970500</span>                                   <a href=\"file:///home/ubuntu/anaconda3/envs/openfl/lib/python3.8/site-packages/openfl/interface/interactive_api/experiment.py\"><span style=\"color: #7f7f7f\">experiment.py</span></a><span style=\"color: #7f7f7f\">:116</span>\n",
       "</pre>\n"
      ],
      "text/plain": [
       "<rich.jupyter.JupyterRenderable at 0x7f0a35f60280>"
      ]
     },
     "metadata": {},
     "output_type": "display_data"
    },
    {
     "data": {
      "text/html": [
       "<pre style=\"white-space:pre;overflow-x:auto;line-height:normal;font-family:Menlo,'DejaVu Sans Mono',consolas,'Courier New',monospace\"><span style=\"color: #7fbfbf\">[09:51:52] </span>METRIC   Round <span style=\"color: #000080; font-weight: bold\">16</span>, collaborator env_three aggregated_model_validate result acc:  <span style=\"color: #000080; font-weight: bold\">0.458000</span>                                           <a href=\"file:///home/ubuntu/anaconda3/envs/openfl/lib/python3.8/site-packages/openfl/interface/interactive_api/experiment.py\"><span style=\"color: #7f7f7f\">experiment.py</span></a><span style=\"color: #7f7f7f\">:116</span>\n",
       "</pre>\n"
      ],
      "text/plain": [
       "<rich.jupyter.JupyterRenderable at 0x7f0a35f60370>"
      ]
     },
     "metadata": {},
     "output_type": "display_data"
    },
    {
     "data": {
      "text/html": [
       "<pre style=\"white-space:pre;overflow-x:auto;line-height:normal;font-family:Menlo,'DejaVu Sans Mono',consolas,'Courier New',monospace\"><span style=\"color: #7fbfbf\">[09:52:03] </span>METRIC   Round <span style=\"color: #000080; font-weight: bold\">16</span>, collaborator env_two train result train_loss: <span style=\"color: #000080; font-weight: bold\">0.013484</span>                                                           <a href=\"file:///home/ubuntu/anaconda3/envs/openfl/lib/python3.8/site-packages/openfl/interface/interactive_api/experiment.py\"><span style=\"color: #7f7f7f\">experiment.py</span></a><span style=\"color: #7f7f7f\">:116</span>\n",
       "</pre>\n"
      ],
      "text/plain": [
       "<rich.jupyter.JupyterRenderable at 0x7f0a35f60b50>"
      ]
     },
     "metadata": {},
     "output_type": "display_data"
    },
    {
     "data": {
      "text/html": [
       "<pre style=\"white-space:pre;overflow-x:auto;line-height:normal;font-family:Menlo,'DejaVu Sans Mono',consolas,'Courier New',monospace\"><span style=\"color: #7fbfbf\">[09:52:05] </span>METRIC   Round <span style=\"color: #000080; font-weight: bold\">16</span>, collaborator env_two locally_tuned_model_validate result acc: <span style=\"color: #000080; font-weight: bold\">0.978000</span>                                           <a href=\"file:///home/ubuntu/anaconda3/envs/openfl/lib/python3.8/site-packages/openfl/interface/interactive_api/experiment.py\"><span style=\"color: #7f7f7f\">experiment.py</span></a><span style=\"color: #7f7f7f\">:116</span>\n",
       "</pre>\n"
      ],
      "text/plain": [
       "<rich.jupyter.JupyterRenderable at 0x7f0a35f60280>"
      ]
     },
     "metadata": {},
     "output_type": "display_data"
    },
    {
     "data": {
      "text/html": [
       "<pre style=\"white-space:pre;overflow-x:auto;line-height:normal;font-family:Menlo,'DejaVu Sans Mono',consolas,'Courier New',monospace\"><span style=\"color: #7fbfbf\">           </span>METRIC   Round <span style=\"color: #000080; font-weight: bold\">16</span>, collaborator env_two aggregated_model_validate result acc:    <span style=\"color: #000080; font-weight: bold\">0.848000</span>                                           <a href=\"file:///home/ubuntu/anaconda3/envs/openfl/lib/python3.8/site-packages/openfl/interface/interactive_api/experiment.py\"><span style=\"color: #7f7f7f\">experiment.py</span></a><span style=\"color: #7f7f7f\">:116</span>\n",
       "</pre>\n"
      ],
      "text/plain": [
       "<rich.jupyter.JupyterRenderable at 0x7f0a35f60df0>"
      ]
     },
     "metadata": {},
     "output_type": "display_data"
    },
    {
     "data": {
      "text/html": [
       "<pre style=\"white-space:pre;overflow-x:auto;line-height:normal;font-family:Menlo,'DejaVu Sans Mono',consolas,'Courier New',monospace\"><span style=\"color: #7fbfbf\">           </span>METRIC   Round <span style=\"color: #000080; font-weight: bold\">16</span>, collaborator env_ten train result train_loss: <span style=\"color: #000080; font-weight: bold\">0.018903</span>                                                           <a href=\"file:///home/ubuntu/anaconda3/envs/openfl/lib/python3.8/site-packages/openfl/interface/interactive_api/experiment.py\"><span style=\"color: #7f7f7f\">experiment.py</span></a><span style=\"color: #7f7f7f\">:116</span>\n",
       "</pre>\n"
      ],
      "text/plain": [
       "<rich.jupyter.JupyterRenderable at 0x7f0a35f60370>"
      ]
     },
     "metadata": {},
     "output_type": "display_data"
    },
    {
     "data": {
      "text/html": [
       "<pre style=\"white-space:pre;overflow-x:auto;line-height:normal;font-family:Menlo,'DejaVu Sans Mono',consolas,'Courier New',monospace\"><span style=\"color: #7fbfbf\">[09:52:06] </span>METRIC   Round <span style=\"color: #000080; font-weight: bold\">16</span>, collaborator env_ten locally_tuned_model_validate result acc: <span style=\"color: #000080; font-weight: bold\">0.946000</span>                                           <a href=\"file:///home/ubuntu/anaconda3/envs/openfl/lib/python3.8/site-packages/openfl/interface/interactive_api/experiment.py\"><span style=\"color: #7f7f7f\">experiment.py</span></a><span style=\"color: #7f7f7f\">:116</span>\n",
       "</pre>\n"
      ],
      "text/plain": [
       "<rich.jupyter.JupyterRenderable at 0x7f0a35f60a90>"
      ]
     },
     "metadata": {},
     "output_type": "display_data"
    },
    {
     "data": {
      "text/html": [
       "<pre style=\"white-space:pre;overflow-x:auto;line-height:normal;font-family:Menlo,'DejaVu Sans Mono',consolas,'Courier New',monospace\"><span style=\"color: #7fbfbf\">           </span>METRIC   Round <span style=\"color: #000080; font-weight: bold\">16</span>, collaborator env_ten aggregated_model_validate result acc:    <span style=\"color: #000080; font-weight: bold\">0.706500</span>                                           <a href=\"file:///home/ubuntu/anaconda3/envs/openfl/lib/python3.8/site-packages/openfl/interface/interactive_api/experiment.py\"><span style=\"color: #7f7f7f\">experiment.py</span></a><span style=\"color: #7f7f7f\">:116</span>\n",
       "</pre>\n"
      ],
      "text/plain": [
       "<rich.jupyter.JupyterRenderable at 0x7f0a35f604c0>"
      ]
     },
     "metadata": {},
     "output_type": "display_data"
    },
    {
     "data": {
      "text/html": [
       "<pre style=\"white-space:pre;overflow-x:auto;line-height:normal;font-family:Menlo,'DejaVu Sans Mono',consolas,'Courier New',monospace\"><span style=\"color: #7fbfbf\">[09:52:44] </span>METRIC   Round <span style=\"color: #000080; font-weight: bold\">16</span>, collaborator env_six train result train_loss: <span style=\"color: #000080; font-weight: bold\">0.010556</span>                                                           <a href=\"file:///home/ubuntu/anaconda3/envs/openfl/lib/python3.8/site-packages/openfl/interface/interactive_api/experiment.py\"><span style=\"color: #7f7f7f\">experiment.py</span></a><span style=\"color: #7f7f7f\">:116</span>\n",
       "</pre>\n"
      ],
      "text/plain": [
       "<rich.jupyter.JupyterRenderable at 0x7f0a35f60040>"
      ]
     },
     "metadata": {},
     "output_type": "display_data"
    },
    {
     "data": {
      "text/html": [
       "<pre style=\"white-space:pre;overflow-x:auto;line-height:normal;font-family:Menlo,'DejaVu Sans Mono',consolas,'Courier New',monospace\"><span style=\"color: #7fbfbf\">[09:52:45] </span>METRIC   Round <span style=\"color: #000080; font-weight: bold\">16</span>, collaborator env_six locally_tuned_model_validate result acc: <span style=\"color: #000080; font-weight: bold\">0.964000</span>                                           <a href=\"file:///home/ubuntu/anaconda3/envs/openfl/lib/python3.8/site-packages/openfl/interface/interactive_api/experiment.py\"><span style=\"color: #7f7f7f\">experiment.py</span></a><span style=\"color: #7f7f7f\">:116</span>\n",
       "</pre>\n"
      ],
      "text/plain": [
       "<rich.jupyter.JupyterRenderable at 0x7f0a35f601c0>"
      ]
     },
     "metadata": {},
     "output_type": "display_data"
    },
    {
     "data": {
      "text/html": [
       "<pre style=\"white-space:pre;overflow-x:auto;line-height:normal;font-family:Menlo,'DejaVu Sans Mono',consolas,'Courier New',monospace\"><span style=\"color: #7fbfbf\">           </span>METRIC   Round <span style=\"color: #000080; font-weight: bold\">16</span>, collaborator env_six aggregated_model_validate result acc:    <span style=\"color: #000080; font-weight: bold\">0.410500</span>                                           <a href=\"file:///home/ubuntu/anaconda3/envs/openfl/lib/python3.8/site-packages/openfl/interface/interactive_api/experiment.py\"><span style=\"color: #7f7f7f\">experiment.py</span></a><span style=\"color: #7f7f7f\">:116</span>\n",
       "</pre>\n"
      ],
      "text/plain": [
       "<rich.jupyter.JupyterRenderable at 0x7f0a35f60a90>"
      ]
     },
     "metadata": {},
     "output_type": "display_data"
    },
    {
     "data": {
      "text/html": [
       "<pre style=\"white-space:pre;overflow-x:auto;line-height:normal;font-family:Menlo,'DejaVu Sans Mono',consolas,'Courier New',monospace\"><span style=\"color: #7fbfbf\">[09:53:09] </span>METRIC   Round <span style=\"color: #000080; font-weight: bold\">16</span>, collaborator env_nine train result train_loss:        <span style=\"color: #000080; font-weight: bold\">0.042077</span>                                                   <a href=\"file:///home/ubuntu/anaconda3/envs/openfl/lib/python3.8/site-packages/openfl/interface/interactive_api/experiment.py\"><span style=\"color: #7f7f7f\">experiment.py</span></a><span style=\"color: #7f7f7f\">:116</span>\n",
       "</pre>\n"
      ],
      "text/plain": [
       "<rich.jupyter.JupyterRenderable at 0x7f0a35f60040>"
      ]
     },
     "metadata": {},
     "output_type": "display_data"
    },
    {
     "data": {
      "text/html": [
       "<pre style=\"white-space:pre;overflow-x:auto;line-height:normal;font-family:Menlo,'DejaVu Sans Mono',consolas,'Courier New',monospace\"><span style=\"color: #7fbfbf\">[09:53:10] </span>METRIC   Round <span style=\"color: #000080; font-weight: bold\">16</span>, collaborator env_nine locally_tuned_model_validate result acc:        <span style=\"color: #000080; font-weight: bold\">0.863000</span>                                   <a href=\"file:///home/ubuntu/anaconda3/envs/openfl/lib/python3.8/site-packages/openfl/interface/interactive_api/experiment.py\"><span style=\"color: #7f7f7f\">experiment.py</span></a><span style=\"color: #7f7f7f\">:116</span>\n",
       "</pre>\n"
      ],
      "text/plain": [
       "<rich.jupyter.JupyterRenderable at 0x7f0a35f601c0>"
      ]
     },
     "metadata": {},
     "output_type": "display_data"
    },
    {
     "data": {
      "text/html": [
       "<pre style=\"white-space:pre;overflow-x:auto;line-height:normal;font-family:Menlo,'DejaVu Sans Mono',consolas,'Courier New',monospace\"><span style=\"color: #7fbfbf\">           </span>METRIC   Round <span style=\"color: #000080; font-weight: bold\">16</span>, collaborator env_nine aggregated_model_validate result acc:   <span style=\"color: #000080; font-weight: bold\">0.740500</span>                                           <a href=\"file:///home/ubuntu/anaconda3/envs/openfl/lib/python3.8/site-packages/openfl/interface/interactive_api/experiment.py\"><span style=\"color: #7f7f7f\">experiment.py</span></a><span style=\"color: #7f7f7f\">:116</span>\n",
       "</pre>\n"
      ],
      "text/plain": [
       "<rich.jupyter.JupyterRenderable at 0x7f0a35f60370>"
      ]
     },
     "metadata": {},
     "output_type": "display_data"
    },
    {
     "data": {
      "text/html": [
       "<pre style=\"white-space:pre;overflow-x:auto;line-height:normal;font-family:Menlo,'DejaVu Sans Mono',consolas,'Courier New',monospace\"><span style=\"color: #7fbfbf\">[09:53:20] </span>METRIC   Round <span style=\"color: #000080; font-weight: bold\">16</span>, collaborator env_five train result train_loss:        <span style=\"color: #000080; font-weight: bold\">0.011852</span>                                                   <a href=\"file:///home/ubuntu/anaconda3/envs/openfl/lib/python3.8/site-packages/openfl/interface/interactive_api/experiment.py\"><span style=\"color: #7f7f7f\">experiment.py</span></a><span style=\"color: #7f7f7f\">:116</span>\n",
       "</pre>\n"
      ],
      "text/plain": [
       "<rich.jupyter.JupyterRenderable at 0x7f0a35f603a0>"
      ]
     },
     "metadata": {},
     "output_type": "display_data"
    },
    {
     "data": {
      "text/html": [
       "<pre style=\"white-space:pre;overflow-x:auto;line-height:normal;font-family:Menlo,'DejaVu Sans Mono',consolas,'Courier New',monospace\"><span style=\"color: #7fbfbf\">[09:53:21] </span>METRIC   Round <span style=\"color: #000080; font-weight: bold\">16</span>, collaborator env_five locally_tuned_model_validate result acc:        <span style=\"color: #000080; font-weight: bold\">0.952500</span>                                   <a href=\"file:///home/ubuntu/anaconda3/envs/openfl/lib/python3.8/site-packages/openfl/interface/interactive_api/experiment.py\"><span style=\"color: #7f7f7f\">experiment.py</span></a><span style=\"color: #7f7f7f\">:116</span>\n",
       "</pre>\n"
      ],
      "text/plain": [
       "<rich.jupyter.JupyterRenderable at 0x7f0a35f60a90>"
      ]
     },
     "metadata": {},
     "output_type": "display_data"
    },
    {
     "data": {
      "text/html": [
       "<pre style=\"white-space:pre;overflow-x:auto;line-height:normal;font-family:Menlo,'DejaVu Sans Mono',consolas,'Courier New',monospace\"><span style=\"color: #7fbfbf\">           </span>METRIC   Round <span style=\"color: #000080; font-weight: bold\">16</span>, collaborator env_five aggregated_model_validate result acc:   <span style=\"color: #000080; font-weight: bold\">0.636000</span>                                           <a href=\"file:///home/ubuntu/anaconda3/envs/openfl/lib/python3.8/site-packages/openfl/interface/interactive_api/experiment.py\"><span style=\"color: #7f7f7f\">experiment.py</span></a><span style=\"color: #7f7f7f\">:116</span>\n",
       "</pre>\n"
      ],
      "text/plain": [
       "<rich.jupyter.JupyterRenderable at 0x7f0a35f60040>"
      ]
     },
     "metadata": {},
     "output_type": "display_data"
    },
    {
     "data": {
      "text/html": [
       "<pre style=\"white-space:pre;overflow-x:auto;line-height:normal;font-family:Menlo,'DejaVu Sans Mono',consolas,'Courier New',monospace\"><span style=\"color: #7fbfbf\">[09:53:32] </span>METRIC   Round <span style=\"color: #000080; font-weight: bold\">16</span>, collaborator Aggregator train result train_loss:      <span style=\"color: #000080; font-weight: bold\">0.023876</span>                                                   <a href=\"file:///home/ubuntu/anaconda3/envs/openfl/lib/python3.8/site-packages/openfl/interface/interactive_api/experiment.py\"><span style=\"color: #7f7f7f\">experiment.py</span></a><span style=\"color: #7f7f7f\">:116</span>\n",
       "</pre>\n"
      ],
      "text/plain": [
       "<rich.jupyter.JupyterRenderable at 0x7f0a35f60280>"
      ]
     },
     "metadata": {},
     "output_type": "display_data"
    },
    {
     "data": {
      "text/html": [
       "<pre style=\"white-space:pre;overflow-x:auto;line-height:normal;font-family:Menlo,'DejaVu Sans Mono',consolas,'Courier New',monospace\"><span style=\"color: #7fbfbf\">           </span>METRIC   Round <span style=\"color: #000080; font-weight: bold\">16</span>, collaborator Aggregator locally_tuned_model_validate result acc:      <span style=\"color: #000080; font-weight: bold\">0.940200</span>                                   <a href=\"file:///home/ubuntu/anaconda3/envs/openfl/lib/python3.8/site-packages/openfl/interface/interactive_api/experiment.py\"><span style=\"color: #7f7f7f\">experiment.py</span></a><span style=\"color: #7f7f7f\">:116</span>\n",
       "</pre>\n"
      ],
      "text/plain": [
       "<rich.jupyter.JupyterRenderable at 0x7f0a35f601c0>"
      ]
     },
     "metadata": {},
     "output_type": "display_data"
    },
    {
     "data": {
      "text/html": [
       "<pre style=\"white-space:pre;overflow-x:auto;line-height:normal;font-family:Menlo,'DejaVu Sans Mono',consolas,'Courier New',monospace\"><span style=\"color: #7fbfbf\">           </span>METRIC   Round <span style=\"color: #000080; font-weight: bold\">16</span>, collaborator Aggregator aggregated_model_validate result acc: <span style=\"color: #000080; font-weight: bold\">0.508650</span>                                           <a href=\"file:///home/ubuntu/anaconda3/envs/openfl/lib/python3.8/site-packages/openfl/interface/interactive_api/experiment.py\"><span style=\"color: #7f7f7f\">experiment.py</span></a><span style=\"color: #7f7f7f\">:116</span>\n",
       "</pre>\n"
      ],
      "text/plain": [
       "<rich.jupyter.JupyterRenderable at 0x7f0a35f604f0>"
      ]
     },
     "metadata": {},
     "output_type": "display_data"
    },
    {
     "data": {
      "text/html": [
       "<pre style=\"white-space:pre;overflow-x:auto;line-height:normal;font-family:Menlo,'DejaVu Sans Mono',consolas,'Courier New',monospace\"><span style=\"color: #7fbfbf\">[09:54:49] </span>METRIC   Round <span style=\"color: #000080; font-weight: bold\">17</span>, collaborator env_one train result train_loss: <span style=\"color: #000080; font-weight: bold\">0.010819</span>                                                           <a href=\"file:///home/ubuntu/anaconda3/envs/openfl/lib/python3.8/site-packages/openfl/interface/interactive_api/experiment.py\"><span style=\"color: #7f7f7f\">experiment.py</span></a><span style=\"color: #7f7f7f\">:116</span>\n",
       "</pre>\n"
      ],
      "text/plain": [
       "<rich.jupyter.JupyterRenderable at 0x7f0a35f600a0>"
      ]
     },
     "metadata": {},
     "output_type": "display_data"
    },
    {
     "data": {
      "text/html": [
       "<pre style=\"white-space:pre;overflow-x:auto;line-height:normal;font-family:Menlo,'DejaVu Sans Mono',consolas,'Courier New',monospace\"><span style=\"color: #7fbfbf\">           </span>METRIC   Round <span style=\"color: #000080; font-weight: bold\">17</span>, collaborator env_one locally_tuned_model_validate result acc: <span style=\"color: #000080; font-weight: bold\">0.939500</span>                                           <a href=\"file:///home/ubuntu/anaconda3/envs/openfl/lib/python3.8/site-packages/openfl/interface/interactive_api/experiment.py\"><span style=\"color: #7f7f7f\">experiment.py</span></a><span style=\"color: #7f7f7f\">:116</span>\n",
       "</pre>\n"
      ],
      "text/plain": [
       "<rich.jupyter.JupyterRenderable at 0x7f0a35f60a90>"
      ]
     },
     "metadata": {},
     "output_type": "display_data"
    },
    {
     "data": {
      "text/html": [
       "<pre style=\"white-space:pre;overflow-x:auto;line-height:normal;font-family:Menlo,'DejaVu Sans Mono',consolas,'Courier New',monospace\"><span style=\"color: #7fbfbf\">[09:54:50] </span>METRIC   Round <span style=\"color: #000080; font-weight: bold\">17</span>, collaborator env_one aggregated_model_validate result acc:    <span style=\"color: #000080; font-weight: bold\">0.950000</span>                                           <a href=\"file:///home/ubuntu/anaconda3/envs/openfl/lib/python3.8/site-packages/openfl/interface/interactive_api/experiment.py\"><span style=\"color: #7f7f7f\">experiment.py</span></a><span style=\"color: #7f7f7f\">:116</span>\n",
       "</pre>\n"
      ],
      "text/plain": [
       "<rich.jupyter.JupyterRenderable at 0x7f0a35f601c0>"
      ]
     },
     "metadata": {},
     "output_type": "display_data"
    },
    {
     "data": {
      "text/html": [
       "<pre style=\"white-space:pre;overflow-x:auto;line-height:normal;font-family:Menlo,'DejaVu Sans Mono',consolas,'Courier New',monospace\"><span style=\"color: #7fbfbf\">[09:54:52] </span>METRIC   Round <span style=\"color: #000080; font-weight: bold\">17</span>, collaborator env_four train result train_loss:        <span style=\"color: #000080; font-weight: bold\">0.020016</span>                                                   <a href=\"file:///home/ubuntu/anaconda3/envs/openfl/lib/python3.8/site-packages/openfl/interface/interactive_api/experiment.py\"><span style=\"color: #7f7f7f\">experiment.py</span></a><span style=\"color: #7f7f7f\">:116</span>\n",
       "</pre>\n"
      ],
      "text/plain": [
       "<rich.jupyter.JupyterRenderable at 0x7f0a35f600a0>"
      ]
     },
     "metadata": {},
     "output_type": "display_data"
    },
    {
     "data": {
      "text/html": [
       "<pre style=\"white-space:pre;overflow-x:auto;line-height:normal;font-family:Menlo,'DejaVu Sans Mono',consolas,'Courier New',monospace\"><span style=\"color: #7fbfbf\">[09:54:53] </span>METRIC   Round <span style=\"color: #000080; font-weight: bold\">17</span>, collaborator env_four locally_tuned_model_validate result acc:        <span style=\"color: #000080; font-weight: bold\">0.953500</span>                                   <a href=\"file:///home/ubuntu/anaconda3/envs/openfl/lib/python3.8/site-packages/openfl/interface/interactive_api/experiment.py\"><span style=\"color: #7f7f7f\">experiment.py</span></a><span style=\"color: #7f7f7f\">:116</span>\n",
       "</pre>\n"
      ],
      "text/plain": [
       "<rich.jupyter.JupyterRenderable at 0x7f0a35f60a90>"
      ]
     },
     "metadata": {},
     "output_type": "display_data"
    },
    {
     "data": {
      "text/html": [
       "<pre style=\"white-space:pre;overflow-x:auto;line-height:normal;font-family:Menlo,'DejaVu Sans Mono',consolas,'Courier New',monospace\"><span style=\"color: #7fbfbf\">           </span>METRIC   Round <span style=\"color: #000080; font-weight: bold\">17</span>, collaborator env_four aggregated_model_validate result acc:   <span style=\"color: #000080; font-weight: bold\">0.485000</span>                                           <a href=\"file:///home/ubuntu/anaconda3/envs/openfl/lib/python3.8/site-packages/openfl/interface/interactive_api/experiment.py\"><span style=\"color: #7f7f7f\">experiment.py</span></a><span style=\"color: #7f7f7f\">:116</span>\n",
       "</pre>\n"
      ],
      "text/plain": [
       "<rich.jupyter.JupyterRenderable at 0x7f0a35f60280>"
      ]
     },
     "metadata": {},
     "output_type": "display_data"
    },
    {
     "data": {
      "text/html": [
       "<pre style=\"white-space:pre;overflow-x:auto;line-height:normal;font-family:Menlo,'DejaVu Sans Mono',consolas,'Courier New',monospace\"><span style=\"color: #7fbfbf\">[09:54:54] </span>METRIC   Round <span style=\"color: #000080; font-weight: bold\">17</span>, collaborator env_seven train result train_loss:       <span style=\"color: #000080; font-weight: bold\">0.063033</span>                                                   <a href=\"file:///home/ubuntu/anaconda3/envs/openfl/lib/python3.8/site-packages/openfl/interface/interactive_api/experiment.py\"><span style=\"color: #7f7f7f\">experiment.py</span></a><span style=\"color: #7f7f7f\">:116</span>\n",
       "</pre>\n"
      ],
      "text/plain": [
       "<rich.jupyter.JupyterRenderable at 0x7f0a35f60c10>"
      ]
     },
     "metadata": {},
     "output_type": "display_data"
    },
    {
     "data": {
      "text/html": [
       "<pre style=\"white-space:pre;overflow-x:auto;line-height:normal;font-family:Menlo,'DejaVu Sans Mono',consolas,'Courier New',monospace\"><span style=\"color: #7fbfbf\">           </span>METRIC   Round <span style=\"color: #000080; font-weight: bold\">17</span>, collaborator env_seven locally_tuned_model_validate result acc:       <span style=\"color: #000080; font-weight: bold\">0.883000</span>                                   <a href=\"file:///home/ubuntu/anaconda3/envs/openfl/lib/python3.8/site-packages/openfl/interface/interactive_api/experiment.py\"><span style=\"color: #7f7f7f\">experiment.py</span></a><span style=\"color: #7f7f7f\">:116</span>\n",
       "</pre>\n"
      ],
      "text/plain": [
       "<rich.jupyter.JupyterRenderable at 0x7f0a35f601c0>"
      ]
     },
     "metadata": {},
     "output_type": "display_data"
    },
    {
     "data": {
      "text/html": [
       "<pre style=\"white-space:pre;overflow-x:auto;line-height:normal;font-family:Menlo,'DejaVu Sans Mono',consolas,'Courier New',monospace\"><span style=\"color: #7fbfbf\">[09:54:55] </span>METRIC   Round <span style=\"color: #000080; font-weight: bold\">17</span>, collaborator env_seven aggregated_model_validate result acc:  <span style=\"color: #000080; font-weight: bold\">0.772000</span>                                           <a href=\"file:///home/ubuntu/anaconda3/envs/openfl/lib/python3.8/site-packages/openfl/interface/interactive_api/experiment.py\"><span style=\"color: #7f7f7f\">experiment.py</span></a><span style=\"color: #7f7f7f\">:116</span>\n",
       "</pre>\n"
      ],
      "text/plain": [
       "<rich.jupyter.JupyterRenderable at 0x7f0a35f60370>"
      ]
     },
     "metadata": {},
     "output_type": "display_data"
    },
    {
     "data": {
      "text/html": [
       "<pre style=\"white-space:pre;overflow-x:auto;line-height:normal;font-family:Menlo,'DejaVu Sans Mono',consolas,'Courier New',monospace\"><span style=\"color: #7fbfbf\">[09:55:06] </span>METRIC   Round <span style=\"color: #000080; font-weight: bold\">17</span>, collaborator env_three train result train_loss:       <span style=\"color: #000080; font-weight: bold\">0.020116</span>                                                   <a href=\"file:///home/ubuntu/anaconda3/envs/openfl/lib/python3.8/site-packages/openfl/interface/interactive_api/experiment.py\"><span style=\"color: #7f7f7f\">experiment.py</span></a><span style=\"color: #7f7f7f\">:116</span>\n",
       "</pre>\n"
      ],
      "text/plain": [
       "<rich.jupyter.JupyterRenderable at 0x7f0a35f60280>"
      ]
     },
     "metadata": {},
     "output_type": "display_data"
    },
    {
     "data": {
      "text/html": [
       "<pre style=\"white-space:pre;overflow-x:auto;line-height:normal;font-family:Menlo,'DejaVu Sans Mono',consolas,'Courier New',monospace\"><span style=\"color: #7fbfbf\">[09:55:07] </span>METRIC   Round <span style=\"color: #000080; font-weight: bold\">17</span>, collaborator env_three locally_tuned_model_validate result acc:       <span style=\"color: #000080; font-weight: bold\">0.970500</span>                                   <a href=\"file:///home/ubuntu/anaconda3/envs/openfl/lib/python3.8/site-packages/openfl/interface/interactive_api/experiment.py\"><span style=\"color: #7f7f7f\">experiment.py</span></a><span style=\"color: #7f7f7f\">:116</span>\n",
       "</pre>\n"
      ],
      "text/plain": [
       "<rich.jupyter.JupyterRenderable at 0x7f0a35f601c0>"
      ]
     },
     "metadata": {},
     "output_type": "display_data"
    },
    {
     "data": {
      "text/html": [
       "<pre style=\"white-space:pre;overflow-x:auto;line-height:normal;font-family:Menlo,'DejaVu Sans Mono',consolas,'Courier New',monospace\"><span style=\"color: #7fbfbf\">           </span>METRIC   Round <span style=\"color: #000080; font-weight: bold\">17</span>, collaborator env_three aggregated_model_validate result acc:  <span style=\"color: #000080; font-weight: bold\">0.208500</span>                                           <a href=\"file:///home/ubuntu/anaconda3/envs/openfl/lib/python3.8/site-packages/openfl/interface/interactive_api/experiment.py\"><span style=\"color: #7f7f7f\">experiment.py</span></a><span style=\"color: #7f7f7f\">:116</span>\n",
       "</pre>\n"
      ],
      "text/plain": [
       "<rich.jupyter.JupyterRenderable at 0x7f0a35f60370>"
      ]
     },
     "metadata": {},
     "output_type": "display_data"
    },
    {
     "data": {
      "text/html": [
       "<pre style=\"white-space:pre;overflow-x:auto;line-height:normal;font-family:Menlo,'DejaVu Sans Mono',consolas,'Courier New',monospace\"><span style=\"color: #7fbfbf\">[09:55:08] </span>METRIC   Round <span style=\"color: #000080; font-weight: bold\">17</span>, collaborator env_eight train result train_loss:       <span style=\"color: #000080; font-weight: bold\">0.032751</span>                                                   <a href=\"file:///home/ubuntu/anaconda3/envs/openfl/lib/python3.8/site-packages/openfl/interface/interactive_api/experiment.py\"><span style=\"color: #7f7f7f\">experiment.py</span></a><span style=\"color: #7f7f7f\">:116</span>\n",
       "</pre>\n"
      ],
      "text/plain": [
       "<rich.jupyter.JupyterRenderable at 0x7f0a35f60040>"
      ]
     },
     "metadata": {},
     "output_type": "display_data"
    },
    {
     "data": {
      "text/html": [
       "<pre style=\"white-space:pre;overflow-x:auto;line-height:normal;font-family:Menlo,'DejaVu Sans Mono',consolas,'Courier New',monospace\"><span style=\"color: #7fbfbf\">[09:55:09] </span>METRIC   Round <span style=\"color: #000080; font-weight: bold\">17</span>, collaborator env_eight locally_tuned_model_validate result acc:       <span style=\"color: #000080; font-weight: bold\">0.954000</span>                                   <a href=\"file:///home/ubuntu/anaconda3/envs/openfl/lib/python3.8/site-packages/openfl/interface/interactive_api/experiment.py\"><span style=\"color: #7f7f7f\">experiment.py</span></a><span style=\"color: #7f7f7f\">:116</span>\n",
       "</pre>\n"
      ],
      "text/plain": [
       "<rich.jupyter.JupyterRenderable at 0x7f0a35f60730>"
      ]
     },
     "metadata": {},
     "output_type": "display_data"
    },
    {
     "data": {
      "text/html": [
       "<pre style=\"white-space:pre;overflow-x:auto;line-height:normal;font-family:Menlo,'DejaVu Sans Mono',consolas,'Courier New',monospace\"><span style=\"color: #7fbfbf\">           </span>METRIC   Round <span style=\"color: #000080; font-weight: bold\">17</span>, collaborator env_eight aggregated_model_validate result acc:  <span style=\"color: #000080; font-weight: bold\">0.211500</span>                                           <a href=\"file:///home/ubuntu/anaconda3/envs/openfl/lib/python3.8/site-packages/openfl/interface/interactive_api/experiment.py\"><span style=\"color: #7f7f7f\">experiment.py</span></a><span style=\"color: #7f7f7f\">:116</span>\n",
       "</pre>\n"
      ],
      "text/plain": [
       "<rich.jupyter.JupyterRenderable at 0x7f0a35f60280>"
      ]
     },
     "metadata": {},
     "output_type": "display_data"
    },
    {
     "data": {
      "text/html": [
       "<pre style=\"white-space:pre;overflow-x:auto;line-height:normal;font-family:Menlo,'DejaVu Sans Mono',consolas,'Courier New',monospace\"><span style=\"color: #7fbfbf\">[09:55:18] </span>METRIC   Round <span style=\"color: #000080; font-weight: bold\">17</span>, collaborator env_two train result train_loss: <span style=\"color: #000080; font-weight: bold\">0.014838</span>                                                           <a href=\"file:///home/ubuntu/anaconda3/envs/openfl/lib/python3.8/site-packages/openfl/interface/interactive_api/experiment.py\"><span style=\"color: #7f7f7f\">experiment.py</span></a><span style=\"color: #7f7f7f\">:116</span>\n",
       "</pre>\n"
      ],
      "text/plain": [
       "<rich.jupyter.JupyterRenderable at 0x7f0a35f604c0>"
      ]
     },
     "metadata": {},
     "output_type": "display_data"
    },
    {
     "data": {
      "text/html": [
       "<pre style=\"white-space:pre;overflow-x:auto;line-height:normal;font-family:Menlo,'DejaVu Sans Mono',consolas,'Courier New',monospace\"><span style=\"color: #7fbfbf\">           </span>METRIC   Round <span style=\"color: #000080; font-weight: bold\">17</span>, collaborator env_two locally_tuned_model_validate result acc: <span style=\"color: #000080; font-weight: bold\">0.977500</span>                                           <a href=\"file:///home/ubuntu/anaconda3/envs/openfl/lib/python3.8/site-packages/openfl/interface/interactive_api/experiment.py\"><span style=\"color: #7f7f7f\">experiment.py</span></a><span style=\"color: #7f7f7f\">:116</span>\n",
       "</pre>\n"
      ],
      "text/plain": [
       "<rich.jupyter.JupyterRenderable at 0x7f0a35f60370>"
      ]
     },
     "metadata": {},
     "output_type": "display_data"
    },
    {
     "data": {
      "text/html": [
       "<pre style=\"white-space:pre;overflow-x:auto;line-height:normal;font-family:Menlo,'DejaVu Sans Mono',consolas,'Courier New',monospace\"><span style=\"color: #7fbfbf\">[09:55:19] </span>METRIC   Round <span style=\"color: #000080; font-weight: bold\">17</span>, collaborator env_two aggregated_model_validate result acc:    <span style=\"color: #000080; font-weight: bold\">0.261000</span>                                           <a href=\"file:///home/ubuntu/anaconda3/envs/openfl/lib/python3.8/site-packages/openfl/interface/interactive_api/experiment.py\"><span style=\"color: #7f7f7f\">experiment.py</span></a><span style=\"color: #7f7f7f\">:116</span>\n",
       "</pre>\n"
      ],
      "text/plain": [
       "<rich.jupyter.JupyterRenderable at 0x7f0a35f60730>"
      ]
     },
     "metadata": {},
     "output_type": "display_data"
    },
    {
     "data": {
      "text/html": [
       "<pre style=\"white-space:pre;overflow-x:auto;line-height:normal;font-family:Menlo,'DejaVu Sans Mono',consolas,'Courier New',monospace\"><span style=\"color: #7fbfbf\">[09:55:34] </span>METRIC   Round <span style=\"color: #000080; font-weight: bold\">17</span>, collaborator env_ten train result train_loss: <span style=\"color: #000080; font-weight: bold\">0.020289</span>                                                           <a href=\"file:///home/ubuntu/anaconda3/envs/openfl/lib/python3.8/site-packages/openfl/interface/interactive_api/experiment.py\"><span style=\"color: #7f7f7f\">experiment.py</span></a><span style=\"color: #7f7f7f\">:116</span>\n",
       "</pre>\n"
      ],
      "text/plain": [
       "<rich.jupyter.JupyterRenderable at 0x7f0a35f604c0>"
      ]
     },
     "metadata": {},
     "output_type": "display_data"
    },
    {
     "data": {
      "text/html": [
       "<pre style=\"white-space:pre;overflow-x:auto;line-height:normal;font-family:Menlo,'DejaVu Sans Mono',consolas,'Courier New',monospace\"><span style=\"color: #7fbfbf\">[09:55:35] </span>METRIC   Round <span style=\"color: #000080; font-weight: bold\">17</span>, collaborator env_ten locally_tuned_model_validate result acc: <span style=\"color: #000080; font-weight: bold\">0.945500</span>                                           <a href=\"file:///home/ubuntu/anaconda3/envs/openfl/lib/python3.8/site-packages/openfl/interface/interactive_api/experiment.py\"><span style=\"color: #7f7f7f\">experiment.py</span></a><span style=\"color: #7f7f7f\">:116</span>\n",
       "</pre>\n"
      ],
      "text/plain": [
       "<rich.jupyter.JupyterRenderable at 0x7f0a35f60370>"
      ]
     },
     "metadata": {},
     "output_type": "display_data"
    },
    {
     "data": {
      "text/html": [
       "<pre style=\"white-space:pre;overflow-x:auto;line-height:normal;font-family:Menlo,'DejaVu Sans Mono',consolas,'Courier New',monospace\"><span style=\"color: #7fbfbf\">[09:55:36] </span>METRIC   Round <span style=\"color: #000080; font-weight: bold\">17</span>, collaborator env_ten aggregated_model_validate result acc:    <span style=\"color: #000080; font-weight: bold\">0.478000</span>                                           <a href=\"file:///home/ubuntu/anaconda3/envs/openfl/lib/python3.8/site-packages/openfl/interface/interactive_api/experiment.py\"><span style=\"color: #7f7f7f\">experiment.py</span></a><span style=\"color: #7f7f7f\">:116</span>\n",
       "</pre>\n"
      ],
      "text/plain": [
       "<rich.jupyter.JupyterRenderable at 0x7f0a35f60730>"
      ]
     },
     "metadata": {},
     "output_type": "display_data"
    },
    {
     "data": {
      "text/html": [
       "<pre style=\"white-space:pre;overflow-x:auto;line-height:normal;font-family:Menlo,'DejaVu Sans Mono',consolas,'Courier New',monospace\"><span style=\"color: #7fbfbf\">[09:56:13] </span>METRIC   Round <span style=\"color: #000080; font-weight: bold\">17</span>, collaborator env_six train result train_loss: <span style=\"color: #000080; font-weight: bold\">0.009389</span>                                                           <a href=\"file:///home/ubuntu/anaconda3/envs/openfl/lib/python3.8/site-packages/openfl/interface/interactive_api/experiment.py\"><span style=\"color: #7f7f7f\">experiment.py</span></a><span style=\"color: #7f7f7f\">:116</span>\n",
       "</pre>\n"
      ],
      "text/plain": [
       "<rich.jupyter.JupyterRenderable at 0x7f0a35f604c0>"
      ]
     },
     "metadata": {},
     "output_type": "display_data"
    },
    {
     "data": {
      "text/html": [
       "<pre style=\"white-space:pre;overflow-x:auto;line-height:normal;font-family:Menlo,'DejaVu Sans Mono',consolas,'Courier New',monospace\"><span style=\"color: #7fbfbf\">           </span>METRIC   Round <span style=\"color: #000080; font-weight: bold\">17</span>, collaborator env_six locally_tuned_model_validate result acc: <span style=\"color: #000080; font-weight: bold\">0.951500</span>                                           <a href=\"file:///home/ubuntu/anaconda3/envs/openfl/lib/python3.8/site-packages/openfl/interface/interactive_api/experiment.py\"><span style=\"color: #7f7f7f\">experiment.py</span></a><span style=\"color: #7f7f7f\">:116</span>\n",
       "</pre>\n"
      ],
      "text/plain": [
       "<rich.jupyter.JupyterRenderable at 0x7f0a35f60070>"
      ]
     },
     "metadata": {},
     "output_type": "display_data"
    },
    {
     "data": {
      "text/html": [
       "<pre style=\"white-space:pre;overflow-x:auto;line-height:normal;font-family:Menlo,'DejaVu Sans Mono',consolas,'Courier New',monospace\"><span style=\"color: #7fbfbf\">[09:56:14] </span>METRIC   Round <span style=\"color: #000080; font-weight: bold\">17</span>, collaborator env_six aggregated_model_validate result acc:    <span style=\"color: #000080; font-weight: bold\">0.950000</span>                                           <a href=\"file:///home/ubuntu/anaconda3/envs/openfl/lib/python3.8/site-packages/openfl/interface/interactive_api/experiment.py\"><span style=\"color: #7f7f7f\">experiment.py</span></a><span style=\"color: #7f7f7f\">:116</span>\n",
       "</pre>\n"
      ],
      "text/plain": [
       "<rich.jupyter.JupyterRenderable at 0x7f0a35f60a90>"
      ]
     },
     "metadata": {},
     "output_type": "display_data"
    },
    {
     "data": {
      "text/html": [
       "<pre style=\"white-space:pre;overflow-x:auto;line-height:normal;font-family:Menlo,'DejaVu Sans Mono',consolas,'Courier New',monospace\"><span style=\"color: #7fbfbf\">[09:56:33] </span>METRIC   Round <span style=\"color: #000080; font-weight: bold\">17</span>, collaborator env_nine train result train_loss:        <span style=\"color: #000080; font-weight: bold\">0.040687</span>                                                   <a href=\"file:///home/ubuntu/anaconda3/envs/openfl/lib/python3.8/site-packages/openfl/interface/interactive_api/experiment.py\"><span style=\"color: #7f7f7f\">experiment.py</span></a><span style=\"color: #7f7f7f\">:116</span>\n",
       "</pre>\n"
      ],
      "text/plain": [
       "<rich.jupyter.JupyterRenderable at 0x7f0a35f60070>"
      ]
     },
     "metadata": {},
     "output_type": "display_data"
    },
    {
     "data": {
      "text/html": [
       "<pre style=\"white-space:pre;overflow-x:auto;line-height:normal;font-family:Menlo,'DejaVu Sans Mono',consolas,'Courier New',monospace\"><span style=\"color: #7fbfbf\">           </span>METRIC   Round <span style=\"color: #000080; font-weight: bold\">17</span>, collaborator env_nine locally_tuned_model_validate result acc:        <span style=\"color: #000080; font-weight: bold\">0.841500</span>                                   <a href=\"file:///home/ubuntu/anaconda3/envs/openfl/lib/python3.8/site-packages/openfl/interface/interactive_api/experiment.py\"><span style=\"color: #7f7f7f\">experiment.py</span></a><span style=\"color: #7f7f7f\">:116</span>\n",
       "</pre>\n"
      ],
      "text/plain": [
       "<rich.jupyter.JupyterRenderable at 0x7f0a35f60c10>"
      ]
     },
     "metadata": {},
     "output_type": "display_data"
    },
    {
     "data": {
      "text/html": [
       "<pre style=\"white-space:pre;overflow-x:auto;line-height:normal;font-family:Menlo,'DejaVu Sans Mono',consolas,'Courier New',monospace\"><span style=\"color: #7fbfbf\">[09:56:34] </span>METRIC   Round <span style=\"color: #000080; font-weight: bold\">17</span>, collaborator env_nine aggregated_model_validate result acc:   <span style=\"color: #000080; font-weight: bold\">0.054000</span>                                           <a href=\"file:///home/ubuntu/anaconda3/envs/openfl/lib/python3.8/site-packages/openfl/interface/interactive_api/experiment.py\"><span style=\"color: #7f7f7f\">experiment.py</span></a><span style=\"color: #7f7f7f\">:116</span>\n",
       "</pre>\n"
      ],
      "text/plain": [
       "<rich.jupyter.JupyterRenderable at 0x7f0a35f60a90>"
      ]
     },
     "metadata": {},
     "output_type": "display_data"
    },
    {
     "data": {
      "text/html": [
       "<pre style=\"white-space:pre;overflow-x:auto;line-height:normal;font-family:Menlo,'DejaVu Sans Mono',consolas,'Courier New',monospace\"><span style=\"color: #7fbfbf\">[09:56:37] </span>METRIC   Round <span style=\"color: #000080; font-weight: bold\">17</span>, collaborator env_five train result train_loss:        <span style=\"color: #000080; font-weight: bold\">0.011339</span>                                                   <a href=\"file:///home/ubuntu/anaconda3/envs/openfl/lib/python3.8/site-packages/openfl/interface/interactive_api/experiment.py\"><span style=\"color: #7f7f7f\">experiment.py</span></a><span style=\"color: #7f7f7f\">:116</span>\n",
       "</pre>\n"
      ],
      "text/plain": [
       "<rich.jupyter.JupyterRenderable at 0x7f0a35f60070>"
      ]
     },
     "metadata": {},
     "output_type": "display_data"
    },
    {
     "data": {
      "text/html": [
       "<pre style=\"white-space:pre;overflow-x:auto;line-height:normal;font-family:Menlo,'DejaVu Sans Mono',consolas,'Courier New',monospace\"><span style=\"color: #7fbfbf\">[09:56:38] </span>METRIC   Round <span style=\"color: #000080; font-weight: bold\">17</span>, collaborator env_five locally_tuned_model_validate result acc:        <span style=\"color: #000080; font-weight: bold\">0.959000</span>                                   <a href=\"file:///home/ubuntu/anaconda3/envs/openfl/lib/python3.8/site-packages/openfl/interface/interactive_api/experiment.py\"><span style=\"color: #7f7f7f\">experiment.py</span></a><span style=\"color: #7f7f7f\">:116</span>\n",
       "</pre>\n"
      ],
      "text/plain": [
       "<rich.jupyter.JupyterRenderable at 0x7f0a35f60c10>"
      ]
     },
     "metadata": {},
     "output_type": "display_data"
    },
    {
     "data": {
      "text/html": [
       "<pre style=\"white-space:pre;overflow-x:auto;line-height:normal;font-family:Menlo,'DejaVu Sans Mono',consolas,'Courier New',monospace\"><span style=\"color: #7fbfbf\">           </span>METRIC   Round <span style=\"color: #000080; font-weight: bold\">17</span>, collaborator env_five aggregated_model_validate result acc:   <span style=\"color: #000080; font-weight: bold\">0.775000</span>                                           <a href=\"file:///home/ubuntu/anaconda3/envs/openfl/lib/python3.8/site-packages/openfl/interface/interactive_api/experiment.py\"><span style=\"color: #7f7f7f\">experiment.py</span></a><span style=\"color: #7f7f7f\">:116</span>\n",
       "</pre>\n"
      ],
      "text/plain": [
       "<rich.jupyter.JupyterRenderable at 0x7f0a35f60100>"
      ]
     },
     "metadata": {},
     "output_type": "display_data"
    },
    {
     "data": {
      "text/html": [
       "<pre style=\"white-space:pre;overflow-x:auto;line-height:normal;font-family:Menlo,'DejaVu Sans Mono',consolas,'Courier New',monospace\"><span style=\"color: #7fbfbf\">[09:56:49] </span>METRIC   Round <span style=\"color: #000080; font-weight: bold\">17</span>, collaborator Aggregator train result train_loss:      <span style=\"color: #000080; font-weight: bold\">0.023166</span>                                                   <a href=\"file:///home/ubuntu/anaconda3/envs/openfl/lib/python3.8/site-packages/openfl/interface/interactive_api/experiment.py\"><span style=\"color: #7f7f7f\">experiment.py</span></a><span style=\"color: #7f7f7f\">:116</span>\n",
       "</pre>\n"
      ],
      "text/plain": [
       "<rich.jupyter.JupyterRenderable at 0x7f0a35f601c0>"
      ]
     },
     "metadata": {},
     "output_type": "display_data"
    },
    {
     "data": {
      "text/html": [
       "<pre style=\"white-space:pre;overflow-x:auto;line-height:normal;font-family:Menlo,'DejaVu Sans Mono',consolas,'Courier New',monospace\"><span style=\"color: #7fbfbf\">[09:56:50] </span>METRIC   Round <span style=\"color: #000080; font-weight: bold\">17</span>, collaborator Aggregator locally_tuned_model_validate result acc:      <span style=\"color: #000080; font-weight: bold\">0.937550</span>                                   <a href=\"file:///home/ubuntu/anaconda3/envs/openfl/lib/python3.8/site-packages/openfl/interface/interactive_api/experiment.py\"><span style=\"color: #7f7f7f\">experiment.py</span></a><span style=\"color: #7f7f7f\">:116</span>\n",
       "</pre>\n"
      ],
      "text/plain": [
       "<rich.jupyter.JupyterRenderable at 0x7f0a35f60c10>"
      ]
     },
     "metadata": {},
     "output_type": "display_data"
    },
    {
     "data": {
      "text/html": [
       "<pre style=\"white-space:pre;overflow-x:auto;line-height:normal;font-family:Menlo,'DejaVu Sans Mono',consolas,'Courier New',monospace\"><span style=\"color: #7fbfbf\">           </span>METRIC   Round <span style=\"color: #000080; font-weight: bold\">17</span>, collaborator Aggregator aggregated_model_validate result acc: <span style=\"color: #000080; font-weight: bold\">0.514500</span>                                           <a href=\"file:///home/ubuntu/anaconda3/envs/openfl/lib/python3.8/site-packages/openfl/interface/interactive_api/experiment.py\"><span style=\"color: #7f7f7f\">experiment.py</span></a><span style=\"color: #7f7f7f\">:116</span>\n",
       "</pre>\n"
      ],
      "text/plain": [
       "<rich.jupyter.JupyterRenderable at 0x7f0a35f60100>"
      ]
     },
     "metadata": {},
     "output_type": "display_data"
    },
    {
     "data": {
      "text/html": [
       "<pre style=\"white-space:pre;overflow-x:auto;line-height:normal;font-family:Menlo,'DejaVu Sans Mono',consolas,'Courier New',monospace\"><span style=\"color: #7fbfbf\">[09:58:01] </span>METRIC   Round <span style=\"color: #000080; font-weight: bold\">18</span>, collaborator env_one train result train_loss: <span style=\"color: #000080; font-weight: bold\">0.010556</span>                                                           <a href=\"file:///home/ubuntu/anaconda3/envs/openfl/lib/python3.8/site-packages/openfl/interface/interactive_api/experiment.py\"><span style=\"color: #7f7f7f\">experiment.py</span></a><span style=\"color: #7f7f7f\">:116</span>\n",
       "</pre>\n"
      ],
      "text/plain": [
       "<rich.jupyter.JupyterRenderable at 0x7f0a35f60280>"
      ]
     },
     "metadata": {},
     "output_type": "display_data"
    },
    {
     "data": {
      "text/html": [
       "<pre style=\"white-space:pre;overflow-x:auto;line-height:normal;font-family:Menlo,'DejaVu Sans Mono',consolas,'Courier New',monospace\"><span style=\"color: #7fbfbf\">           </span>METRIC   Round <span style=\"color: #000080; font-weight: bold\">18</span>, collaborator env_one locally_tuned_model_validate result acc: <span style=\"color: #000080; font-weight: bold\">0.967000</span>                                           <a href=\"file:///home/ubuntu/anaconda3/envs/openfl/lib/python3.8/site-packages/openfl/interface/interactive_api/experiment.py\"><span style=\"color: #7f7f7f\">experiment.py</span></a><span style=\"color: #7f7f7f\">:116</span>\n",
       "</pre>\n"
      ],
      "text/plain": [
       "<rich.jupyter.JupyterRenderable at 0x7f0a35f60a90>"
      ]
     },
     "metadata": {},
     "output_type": "display_data"
    },
    {
     "data": {
      "text/html": [
       "<pre style=\"white-space:pre;overflow-x:auto;line-height:normal;font-family:Menlo,'DejaVu Sans Mono',consolas,'Courier New',monospace\"><span style=\"color: #7fbfbf\">[09:58:02] </span>METRIC   Round <span style=\"color: #000080; font-weight: bold\">18</span>, collaborator env_one aggregated_model_validate result acc:    <span style=\"color: #000080; font-weight: bold\">0.435500</span>                                           <a href=\"file:///home/ubuntu/anaconda3/envs/openfl/lib/python3.8/site-packages/openfl/interface/interactive_api/experiment.py\"><span style=\"color: #7f7f7f\">experiment.py</span></a><span style=\"color: #7f7f7f\">:116</span>\n",
       "</pre>\n"
      ],
      "text/plain": [
       "<rich.jupyter.JupyterRenderable at 0x7f0a35f60730>"
      ]
     },
     "metadata": {},
     "output_type": "display_data"
    },
    {
     "data": {
      "text/html": [
       "<pre style=\"white-space:pre;overflow-x:auto;line-height:normal;font-family:Menlo,'DejaVu Sans Mono',consolas,'Courier New',monospace\"><span style=\"color: #7fbfbf\">[09:58:08] </span>METRIC   Round <span style=\"color: #000080; font-weight: bold\">18</span>, collaborator env_four train result train_loss:        <span style=\"color: #000080; font-weight: bold\">0.019096</span>                                                   <a href=\"file:///home/ubuntu/anaconda3/envs/openfl/lib/python3.8/site-packages/openfl/interface/interactive_api/experiment.py\"><span style=\"color: #7f7f7f\">experiment.py</span></a><span style=\"color: #7f7f7f\">:116</span>\n",
       "</pre>\n"
      ],
      "text/plain": [
       "<rich.jupyter.JupyterRenderable at 0x7f0a35f60b50>"
      ]
     },
     "metadata": {},
     "output_type": "display_data"
    },
    {
     "data": {
      "text/html": [
       "<pre style=\"white-space:pre;overflow-x:auto;line-height:normal;font-family:Menlo,'DejaVu Sans Mono',consolas,'Courier New',monospace\"><span style=\"color: #7fbfbf\">[09:58:09] </span>METRIC   Round <span style=\"color: #000080; font-weight: bold\">18</span>, collaborator env_four locally_tuned_model_validate result acc:        <span style=\"color: #000080; font-weight: bold\">0.960500</span>                                   <a href=\"file:///home/ubuntu/anaconda3/envs/openfl/lib/python3.8/site-packages/openfl/interface/interactive_api/experiment.py\"><span style=\"color: #7f7f7f\">experiment.py</span></a><span style=\"color: #7f7f7f\">:116</span>\n",
       "</pre>\n"
      ],
      "text/plain": [
       "<rich.jupyter.JupyterRenderable at 0x7f0a35f60a90>"
      ]
     },
     "metadata": {},
     "output_type": "display_data"
    },
    {
     "data": {
      "text/html": [
       "<pre style=\"white-space:pre;overflow-x:auto;line-height:normal;font-family:Menlo,'DejaVu Sans Mono',consolas,'Courier New',monospace\"><span style=\"color: #7fbfbf\">           </span>METRIC   Round <span style=\"color: #000080; font-weight: bold\">18</span>, collaborator env_four aggregated_model_validate result acc:   <span style=\"color: #000080; font-weight: bold\">0.075000</span>                                           <a href=\"file:///home/ubuntu/anaconda3/envs/openfl/lib/python3.8/site-packages/openfl/interface/interactive_api/experiment.py\"><span style=\"color: #7f7f7f\">experiment.py</span></a><span style=\"color: #7f7f7f\">:116</span>\n",
       "</pre>\n"
      ],
      "text/plain": [
       "<rich.jupyter.JupyterRenderable at 0x7f0a35f60280>"
      ]
     },
     "metadata": {},
     "output_type": "display_data"
    },
    {
     "data": {
      "text/html": [
       "<pre style=\"white-space:pre;overflow-x:auto;line-height:normal;font-family:Menlo,'DejaVu Sans Mono',consolas,'Courier New',monospace\"><span style=\"color: #7fbfbf\">[09:58:17] </span>METRIC   Round <span style=\"color: #000080; font-weight: bold\">18</span>, collaborator env_seven train result train_loss:       <span style=\"color: #000080; font-weight: bold\">0.062361</span>                                                   <a href=\"file:///home/ubuntu/anaconda3/envs/openfl/lib/python3.8/site-packages/openfl/interface/interactive_api/experiment.py\"><span style=\"color: #7f7f7f\">experiment.py</span></a><span style=\"color: #7f7f7f\">:116</span>\n",
       "</pre>\n"
      ],
      "text/plain": [
       "<rich.jupyter.JupyterRenderable at 0x7f0a35f60070>"
      ]
     },
     "metadata": {},
     "output_type": "display_data"
    },
    {
     "data": {
      "text/html": [
       "<pre style=\"white-space:pre;overflow-x:auto;line-height:normal;font-family:Menlo,'DejaVu Sans Mono',consolas,'Courier New',monospace\"><span style=\"color: #7fbfbf\">           </span>METRIC   Round <span style=\"color: #000080; font-weight: bold\">18</span>, collaborator env_seven locally_tuned_model_validate result acc:       <span style=\"color: #000080; font-weight: bold\">0.878000</span>                                   <a href=\"file:///home/ubuntu/anaconda3/envs/openfl/lib/python3.8/site-packages/openfl/interface/interactive_api/experiment.py\"><span style=\"color: #7f7f7f\">experiment.py</span></a><span style=\"color: #7f7f7f\">:116</span>\n",
       "</pre>\n"
      ],
      "text/plain": [
       "<rich.jupyter.JupyterRenderable at 0x7f0a35f60730>"
      ]
     },
     "metadata": {},
     "output_type": "display_data"
    },
    {
     "data": {
      "text/html": [
       "<pre style=\"white-space:pre;overflow-x:auto;line-height:normal;font-family:Menlo,'DejaVu Sans Mono',consolas,'Courier New',monospace\"><span style=\"color: #7fbfbf\">           </span>METRIC   Round <span style=\"color: #000080; font-weight: bold\">18</span>, collaborator env_seven aggregated_model_validate result acc:  <span style=\"color: #000080; font-weight: bold\">0.324000</span>                                           <a href=\"file:///home/ubuntu/anaconda3/envs/openfl/lib/python3.8/site-packages/openfl/interface/interactive_api/experiment.py\"><span style=\"color: #7f7f7f\">experiment.py</span></a><span style=\"color: #7f7f7f\">:116</span>\n",
       "</pre>\n"
      ],
      "text/plain": [
       "<rich.jupyter.JupyterRenderable at 0x7f0a35f60a90>"
      ]
     },
     "metadata": {},
     "output_type": "display_data"
    },
    {
     "data": {
      "text/html": [
       "<pre style=\"white-space:pre;overflow-x:auto;line-height:normal;font-family:Menlo,'DejaVu Sans Mono',consolas,'Courier New',monospace\"><span style=\"color: #7fbfbf\">[09:58:21] </span>METRIC   Round <span style=\"color: #000080; font-weight: bold\">18</span>, collaborator env_eight train result train_loss:       <span style=\"color: #000080; font-weight: bold\">0.029525</span>                                                   <a href=\"file:///home/ubuntu/anaconda3/envs/openfl/lib/python3.8/site-packages/openfl/interface/interactive_api/experiment.py\"><span style=\"color: #7f7f7f\">experiment.py</span></a><span style=\"color: #7f7f7f\">:116</span>\n",
       "</pre>\n"
      ],
      "text/plain": [
       "<rich.jupyter.JupyterRenderable at 0x7f0a35f60250>"
      ]
     },
     "metadata": {},
     "output_type": "display_data"
    },
    {
     "data": {
      "text/html": [
       "<pre style=\"white-space:pre;overflow-x:auto;line-height:normal;font-family:Menlo,'DejaVu Sans Mono',consolas,'Courier New',monospace\"><span style=\"color: #7fbfbf\">           </span>METRIC   Round <span style=\"color: #000080; font-weight: bold\">18</span>, collaborator env_eight locally_tuned_model_validate result acc:       <span style=\"color: #000080; font-weight: bold\">0.948000</span>                                   <a href=\"file:///home/ubuntu/anaconda3/envs/openfl/lib/python3.8/site-packages/openfl/interface/interactive_api/experiment.py\"><span style=\"color: #7f7f7f\">experiment.py</span></a><span style=\"color: #7f7f7f\">:116</span>\n",
       "</pre>\n"
      ],
      "text/plain": [
       "<rich.jupyter.JupyterRenderable at 0x7f0a35f60c10>"
      ]
     },
     "metadata": {},
     "output_type": "display_data"
    },
    {
     "data": {
      "text/html": [
       "<pre style=\"white-space:pre;overflow-x:auto;line-height:normal;font-family:Menlo,'DejaVu Sans Mono',consolas,'Courier New',monospace\"><span style=\"color: #7fbfbf\">           </span>METRIC   Round <span style=\"color: #000080; font-weight: bold\">18</span>, collaborator env_eight aggregated_model_validate result acc:  <span style=\"color: #000080; font-weight: bold\">0.527000</span>                                           <a href=\"file:///home/ubuntu/anaconda3/envs/openfl/lib/python3.8/site-packages/openfl/interface/interactive_api/experiment.py\"><span style=\"color: #7f7f7f\">experiment.py</span></a><span style=\"color: #7f7f7f\">:116</span>\n",
       "</pre>\n"
      ],
      "text/plain": [
       "<rich.jupyter.JupyterRenderable at 0x7f0a35f600a0>"
      ]
     },
     "metadata": {},
     "output_type": "display_data"
    },
    {
     "data": {
      "text/html": [
       "<pre style=\"white-space:pre;overflow-x:auto;line-height:normal;font-family:Menlo,'DejaVu Sans Mono',consolas,'Courier New',monospace\"><span style=\"color: #7fbfbf\">[09:58:27] </span>METRIC   Round <span style=\"color: #000080; font-weight: bold\">18</span>, collaborator env_three train result train_loss:       <span style=\"color: #000080; font-weight: bold\">0.017165</span>                                                   <a href=\"file:///home/ubuntu/anaconda3/envs/openfl/lib/python3.8/site-packages/openfl/interface/interactive_api/experiment.py\"><span style=\"color: #7f7f7f\">experiment.py</span></a><span style=\"color: #7f7f7f\">:116</span>\n",
       "</pre>\n"
      ],
      "text/plain": [
       "<rich.jupyter.JupyterRenderable at 0x7f0a35f60370>"
      ]
     },
     "metadata": {},
     "output_type": "display_data"
    },
    {
     "data": {
      "text/html": [
       "<pre style=\"white-space:pre;overflow-x:auto;line-height:normal;font-family:Menlo,'DejaVu Sans Mono',consolas,'Courier New',monospace\"><span style=\"color: #7fbfbf\">[09:58:28] </span>METRIC   Round <span style=\"color: #000080; font-weight: bold\">18</span>, collaborator env_three locally_tuned_model_validate result acc:       <span style=\"color: #000080; font-weight: bold\">0.966500</span>                                   <a href=\"file:///home/ubuntu/anaconda3/envs/openfl/lib/python3.8/site-packages/openfl/interface/interactive_api/experiment.py\"><span style=\"color: #7f7f7f\">experiment.py</span></a><span style=\"color: #7f7f7f\">:116</span>\n",
       "</pre>\n"
      ],
      "text/plain": [
       "<rich.jupyter.JupyterRenderable at 0x7f0a35f60b50>"
      ]
     },
     "metadata": {},
     "output_type": "display_data"
    },
    {
     "data": {
      "text/html": [
       "<pre style=\"white-space:pre;overflow-x:auto;line-height:normal;font-family:Menlo,'DejaVu Sans Mono',consolas,'Courier New',monospace\"><span style=\"color: #7fbfbf\">[09:58:29] </span>METRIC   Round <span style=\"color: #000080; font-weight: bold\">18</span>, collaborator env_three aggregated_model_validate result acc:  <span style=\"color: #000080; font-weight: bold\">0.465000</span>                                           <a href=\"file:///home/ubuntu/anaconda3/envs/openfl/lib/python3.8/site-packages/openfl/interface/interactive_api/experiment.py\"><span style=\"color: #7f7f7f\">experiment.py</span></a><span style=\"color: #7f7f7f\">:116</span>\n",
       "</pre>\n"
      ],
      "text/plain": [
       "<rich.jupyter.JupyterRenderable at 0x7f0a35f600a0>"
      ]
     },
     "metadata": {},
     "output_type": "display_data"
    },
    {
     "data": {
      "text/html": [
       "<pre style=\"white-space:pre;overflow-x:auto;line-height:normal;font-family:Menlo,'DejaVu Sans Mono',consolas,'Courier New',monospace\"><span style=\"color: #7fbfbf\">[09:58:39] </span>METRIC   Round <span style=\"color: #000080; font-weight: bold\">18</span>, collaborator env_two train result train_loss: <span style=\"color: #000080; font-weight: bold\">0.011765</span>                                                           <a href=\"file:///home/ubuntu/anaconda3/envs/openfl/lib/python3.8/site-packages/openfl/interface/interactive_api/experiment.py\"><span style=\"color: #7f7f7f\">experiment.py</span></a><span style=\"color: #7f7f7f\">:116</span>\n",
       "</pre>\n"
      ],
      "text/plain": [
       "<rich.jupyter.JupyterRenderable at 0x7f0a35f60370>"
      ]
     },
     "metadata": {},
     "output_type": "display_data"
    },
    {
     "data": {
      "text/html": [
       "<pre style=\"white-space:pre;overflow-x:auto;line-height:normal;font-family:Menlo,'DejaVu Sans Mono',consolas,'Courier New',monospace\"><span style=\"color: #7fbfbf\">           </span>METRIC   Round <span style=\"color: #000080; font-weight: bold\">18</span>, collaborator env_two locally_tuned_model_validate result acc: <span style=\"color: #000080; font-weight: bold\">0.968500</span>                                           <a href=\"file:///home/ubuntu/anaconda3/envs/openfl/lib/python3.8/site-packages/openfl/interface/interactive_api/experiment.py\"><span style=\"color: #7f7f7f\">experiment.py</span></a><span style=\"color: #7f7f7f\">:116</span>\n",
       "</pre>\n"
      ],
      "text/plain": [
       "<rich.jupyter.JupyterRenderable at 0x7f0a35f60b50>"
      ]
     },
     "metadata": {},
     "output_type": "display_data"
    },
    {
     "data": {
      "text/html": [
       "<pre style=\"white-space:pre;overflow-x:auto;line-height:normal;font-family:Menlo,'DejaVu Sans Mono',consolas,'Courier New',monospace\"><span style=\"color: #7fbfbf\">[09:58:40] </span>METRIC   Round <span style=\"color: #000080; font-weight: bold\">18</span>, collaborator env_two aggregated_model_validate result acc:    <span style=\"color: #000080; font-weight: bold\">0.837000</span>                                           <a href=\"file:///home/ubuntu/anaconda3/envs/openfl/lib/python3.8/site-packages/openfl/interface/interactive_api/experiment.py\"><span style=\"color: #7f7f7f\">experiment.py</span></a><span style=\"color: #7f7f7f\">:116</span>\n",
       "</pre>\n"
      ],
      "text/plain": [
       "<rich.jupyter.JupyterRenderable at 0x7f0a35f601c0>"
      ]
     },
     "metadata": {},
     "output_type": "display_data"
    },
    {
     "data": {
      "text/html": [
       "<pre style=\"white-space:pre;overflow-x:auto;line-height:normal;font-family:Menlo,'DejaVu Sans Mono',consolas,'Courier New',monospace\"><span style=\"color: #7fbfbf\">[09:58:50] </span>METRIC   Round <span style=\"color: #000080; font-weight: bold\">18</span>, collaborator env_ten train result train_loss: <span style=\"color: #000080; font-weight: bold\">0.016676</span>                                                           <a href=\"file:///home/ubuntu/anaconda3/envs/openfl/lib/python3.8/site-packages/openfl/interface/interactive_api/experiment.py\"><span style=\"color: #7f7f7f\">experiment.py</span></a><span style=\"color: #7f7f7f\">:116</span>\n",
       "</pre>\n"
      ],
      "text/plain": [
       "<rich.jupyter.JupyterRenderable at 0x7f0a35f60220>"
      ]
     },
     "metadata": {},
     "output_type": "display_data"
    },
    {
     "data": {
      "text/html": [
       "<pre style=\"white-space:pre;overflow-x:auto;line-height:normal;font-family:Menlo,'DejaVu Sans Mono',consolas,'Courier New',monospace\"><span style=\"color: #7fbfbf\">[09:58:51] </span>METRIC   Round <span style=\"color: #000080; font-weight: bold\">18</span>, collaborator env_ten locally_tuned_model_validate result acc: <span style=\"color: #000080; font-weight: bold\">0.946000</span>                                           <a href=\"file:///home/ubuntu/anaconda3/envs/openfl/lib/python3.8/site-packages/openfl/interface/interactive_api/experiment.py\"><span style=\"color: #7f7f7f\">experiment.py</span></a><span style=\"color: #7f7f7f\">:116</span>\n",
       "</pre>\n"
      ],
      "text/plain": [
       "<rich.jupyter.JupyterRenderable at 0x7f0a35f60b50>"
      ]
     },
     "metadata": {},
     "output_type": "display_data"
    },
    {
     "data": {
      "text/html": [
       "<pre style=\"white-space:pre;overflow-x:auto;line-height:normal;font-family:Menlo,'DejaVu Sans Mono',consolas,'Courier New',monospace\"><span style=\"color: #7fbfbf\">           </span>METRIC   Round <span style=\"color: #000080; font-weight: bold\">18</span>, collaborator env_ten aggregated_model_validate result acc:    <span style=\"color: #000080; font-weight: bold\">0.732000</span>                                           <a href=\"file:///home/ubuntu/anaconda3/envs/openfl/lib/python3.8/site-packages/openfl/interface/interactive_api/experiment.py\"><span style=\"color: #7f7f7f\">experiment.py</span></a><span style=\"color: #7f7f7f\">:116</span>\n",
       "</pre>\n"
      ],
      "text/plain": [
       "<rich.jupyter.JupyterRenderable at 0x7f0a35f60370>"
      ]
     },
     "metadata": {},
     "output_type": "display_data"
    },
    {
     "data": {
      "text/html": [
       "<pre style=\"white-space:pre;overflow-x:auto;line-height:normal;font-family:Menlo,'DejaVu Sans Mono',consolas,'Courier New',monospace\"><span style=\"color: #7fbfbf\">[09:59:17] </span>METRIC   Round <span style=\"color: #000080; font-weight: bold\">18</span>, collaborator env_six train result train_loss: <span style=\"color: #000080; font-weight: bold\">0.009136</span>                                                           <a href=\"file:///home/ubuntu/anaconda3/envs/openfl/lib/python3.8/site-packages/openfl/interface/interactive_api/experiment.py\"><span style=\"color: #7f7f7f\">experiment.py</span></a><span style=\"color: #7f7f7f\">:116</span>\n",
       "</pre>\n"
      ],
      "text/plain": [
       "<rich.jupyter.JupyterRenderable at 0x7f0a35f60df0>"
      ]
     },
     "metadata": {},
     "output_type": "display_data"
    },
    {
     "data": {
      "text/html": [
       "<pre style=\"white-space:pre;overflow-x:auto;line-height:normal;font-family:Menlo,'DejaVu Sans Mono',consolas,'Courier New',monospace\"><span style=\"color: #7fbfbf\">[09:59:18] </span>METRIC   Round <span style=\"color: #000080; font-weight: bold\">18</span>, collaborator env_six locally_tuned_model_validate result acc: <span style=\"color: #000080; font-weight: bold\">0.957500</span>                                           <a href=\"file:///home/ubuntu/anaconda3/envs/openfl/lib/python3.8/site-packages/openfl/interface/interactive_api/experiment.py\"><span style=\"color: #7f7f7f\">experiment.py</span></a><span style=\"color: #7f7f7f\">:116</span>\n",
       "</pre>\n"
      ],
      "text/plain": [
       "<rich.jupyter.JupyterRenderable at 0x7f0a35f601c0>"
      ]
     },
     "metadata": {},
     "output_type": "display_data"
    },
    {
     "data": {
      "text/html": [
       "<pre style=\"white-space:pre;overflow-x:auto;line-height:normal;font-family:Menlo,'DejaVu Sans Mono',consolas,'Courier New',monospace\"><span style=\"color: #7fbfbf\">           </span>METRIC   Round <span style=\"color: #000080; font-weight: bold\">18</span>, collaborator env_six aggregated_model_validate result acc:    <span style=\"color: #000080; font-weight: bold\">0.435500</span>                                           <a href=\"file:///home/ubuntu/anaconda3/envs/openfl/lib/python3.8/site-packages/openfl/interface/interactive_api/experiment.py\"><span style=\"color: #7f7f7f\">experiment.py</span></a><span style=\"color: #7f7f7f\">:116</span>\n",
       "</pre>\n"
      ],
      "text/plain": [
       "<rich.jupyter.JupyterRenderable at 0x7f0a35f60b50>"
      ]
     },
     "metadata": {},
     "output_type": "display_data"
    },
    {
     "data": {
      "text/html": [
       "<pre style=\"white-space:pre;overflow-x:auto;line-height:normal;font-family:Menlo,'DejaVu Sans Mono',consolas,'Courier New',monospace\"><span style=\"color: #7fbfbf\">[09:59:44] </span>METRIC   Round <span style=\"color: #000080; font-weight: bold\">18</span>, collaborator env_nine train result train_loss:        <span style=\"color: #000080; font-weight: bold\">0.036388</span>                                                   <a href=\"file:///home/ubuntu/anaconda3/envs/openfl/lib/python3.8/site-packages/openfl/interface/interactive_api/experiment.py\"><span style=\"color: #7f7f7f\">experiment.py</span></a><span style=\"color: #7f7f7f\">:116</span>\n",
       "</pre>\n"
      ],
      "text/plain": [
       "<rich.jupyter.JupyterRenderable at 0x7f0a35f601c0>"
      ]
     },
     "metadata": {},
     "output_type": "display_data"
    },
    {
     "data": {
      "text/html": [
       "<pre style=\"white-space:pre;overflow-x:auto;line-height:normal;font-family:Menlo,'DejaVu Sans Mono',consolas,'Courier New',monospace\"><span style=\"color: #7fbfbf\">           </span>METRIC   Round <span style=\"color: #000080; font-weight: bold\">18</span>, collaborator env_nine locally_tuned_model_validate result acc:        <span style=\"color: #000080; font-weight: bold\">0.855500</span>                                   <a href=\"file:///home/ubuntu/anaconda3/envs/openfl/lib/python3.8/site-packages/openfl/interface/interactive_api/experiment.py\"><span style=\"color: #7f7f7f\">experiment.py</span></a><span style=\"color: #7f7f7f\">:116</span>\n",
       "</pre>\n"
      ],
      "text/plain": [
       "<rich.jupyter.JupyterRenderable at 0x7f0a35f604c0>"
      ]
     },
     "metadata": {},
     "output_type": "display_data"
    },
    {
     "data": {
      "text/html": [
       "<pre style=\"white-space:pre;overflow-x:auto;line-height:normal;font-family:Menlo,'DejaVu Sans Mono',consolas,'Courier New',monospace\"><span style=\"color: #7fbfbf\">[09:59:45] </span>METRIC   Round <span style=\"color: #000080; font-weight: bold\">18</span>, collaborator env_nine aggregated_model_validate result acc:   <span style=\"color: #000080; font-weight: bold\">0.750500</span>                                           <a href=\"file:///home/ubuntu/anaconda3/envs/openfl/lib/python3.8/site-packages/openfl/interface/interactive_api/experiment.py\"><span style=\"color: #7f7f7f\">experiment.py</span></a><span style=\"color: #7f7f7f\">:116</span>\n",
       "</pre>\n"
      ],
      "text/plain": [
       "<rich.jupyter.JupyterRenderable at 0x7f0a35f604f0>"
      ]
     },
     "metadata": {},
     "output_type": "display_data"
    },
    {
     "data": {
      "text/html": [
       "<pre style=\"white-space:pre;overflow-x:auto;line-height:normal;font-family:Menlo,'DejaVu Sans Mono',consolas,'Courier New',monospace\"><span style=\"color: #7fbfbf\">[09:59:59] </span>METRIC   Round <span style=\"color: #000080; font-weight: bold\">18</span>, collaborator env_five train result train_loss:        <span style=\"color: #000080; font-weight: bold\">0.010316</span>                                                   <a href=\"file:///home/ubuntu/anaconda3/envs/openfl/lib/python3.8/site-packages/openfl/interface/interactive_api/experiment.py\"><span style=\"color: #7f7f7f\">experiment.py</span></a><span style=\"color: #7f7f7f\">:116</span>\n",
       "</pre>\n"
      ],
      "text/plain": [
       "<rich.jupyter.JupyterRenderable at 0x7f0a35f60b50>"
      ]
     },
     "metadata": {},
     "output_type": "display_data"
    },
    {
     "data": {
      "text/html": [
       "<pre style=\"white-space:pre;overflow-x:auto;line-height:normal;font-family:Menlo,'DejaVu Sans Mono',consolas,'Courier New',monospace\"><span style=\"color: #7fbfbf\">[10:00:00] </span>METRIC   Round <span style=\"color: #000080; font-weight: bold\">18</span>, collaborator env_five locally_tuned_model_validate result acc:        <span style=\"color: #000080; font-weight: bold\">0.962500</span>                                   <a href=\"file:///home/ubuntu/anaconda3/envs/openfl/lib/python3.8/site-packages/openfl/interface/interactive_api/experiment.py\"><span style=\"color: #7f7f7f\">experiment.py</span></a><span style=\"color: #7f7f7f\">:116</span>\n",
       "</pre>\n"
      ],
      "text/plain": [
       "<rich.jupyter.JupyterRenderable at 0x7f0a35f601c0>"
      ]
     },
     "metadata": {},
     "output_type": "display_data"
    },
    {
     "data": {
      "text/html": [
       "<pre style=\"white-space:pre;overflow-x:auto;line-height:normal;font-family:Menlo,'DejaVu Sans Mono',consolas,'Courier New',monospace\"><span style=\"color: #7fbfbf\">           </span>METRIC   Round <span style=\"color: #000080; font-weight: bold\">18</span>, collaborator env_five aggregated_model_validate result acc:   <span style=\"color: #000080; font-weight: bold\">0.627500</span>                                           <a href=\"file:///home/ubuntu/anaconda3/envs/openfl/lib/python3.8/site-packages/openfl/interface/interactive_api/experiment.py\"><span style=\"color: #7f7f7f\">experiment.py</span></a><span style=\"color: #7f7f7f\">:116</span>\n",
       "</pre>\n"
      ],
      "text/plain": [
       "<rich.jupyter.JupyterRenderable at 0x7f0a35f604f0>"
      ]
     },
     "metadata": {},
     "output_type": "display_data"
    },
    {
     "data": {
      "text/html": [
       "<pre style=\"white-space:pre;overflow-x:auto;line-height:normal;font-family:Menlo,'DejaVu Sans Mono',consolas,'Courier New',monospace\"><span style=\"color: #7fbfbf\">[10:00:12] </span>METRIC   Round <span style=\"color: #000080; font-weight: bold\">18</span>, collaborator Aggregator train result train_loss:      <span style=\"color: #000080; font-weight: bold\">0.021125</span>                                                   <a href=\"file:///home/ubuntu/anaconda3/envs/openfl/lib/python3.8/site-packages/openfl/interface/interactive_api/experiment.py\"><span style=\"color: #7f7f7f\">experiment.py</span></a><span style=\"color: #7f7f7f\">:116</span>\n",
       "</pre>\n"
      ],
      "text/plain": [
       "<rich.jupyter.JupyterRenderable at 0x7f0a35f60b50>"
      ]
     },
     "metadata": {},
     "output_type": "display_data"
    },
    {
     "data": {
      "text/html": [
       "<pre style=\"white-space:pre;overflow-x:auto;line-height:normal;font-family:Menlo,'DejaVu Sans Mono',consolas,'Courier New',monospace\"><span style=\"color: #7fbfbf\">           </span>METRIC   Round <span style=\"color: #000080; font-weight: bold\">18</span>, collaborator Aggregator locally_tuned_model_validate result acc:      <span style=\"color: #000080; font-weight: bold\">0.941000</span>                                   <a href=\"file:///home/ubuntu/anaconda3/envs/openfl/lib/python3.8/site-packages/openfl/interface/interactive_api/experiment.py\"><span style=\"color: #7f7f7f\">experiment.py</span></a><span style=\"color: #7f7f7f\">:116</span>\n",
       "</pre>\n"
      ],
      "text/plain": [
       "<rich.jupyter.JupyterRenderable at 0x7f0a35f60df0>"
      ]
     },
     "metadata": {},
     "output_type": "display_data"
    },
    {
     "data": {
      "text/html": [
       "<pre style=\"white-space:pre;overflow-x:auto;line-height:normal;font-family:Menlo,'DejaVu Sans Mono',consolas,'Courier New',monospace\"><span style=\"color: #7fbfbf\">           </span>METRIC   Round <span style=\"color: #000080; font-weight: bold\">18</span>, collaborator Aggregator aggregated_model_validate result acc: <span style=\"color: #000080; font-weight: bold\">0.520900</span>                                           <a href=\"file:///home/ubuntu/anaconda3/envs/openfl/lib/python3.8/site-packages/openfl/interface/interactive_api/experiment.py\"><span style=\"color: #7f7f7f\">experiment.py</span></a><span style=\"color: #7f7f7f\">:116</span>\n",
       "</pre>\n"
      ],
      "text/plain": [
       "<rich.jupyter.JupyterRenderable at 0x7f0a35f603a0>"
      ]
     },
     "metadata": {},
     "output_type": "display_data"
    },
    {
     "data": {
      "text/html": [
       "<pre style=\"white-space:pre;overflow-x:auto;line-height:normal;font-family:Menlo,'DejaVu Sans Mono',consolas,'Courier New',monospace\"><span style=\"color: #7fbfbf\">[10:01:28] </span>METRIC   Round <span style=\"color: #000080; font-weight: bold\">19</span>, collaborator env_one train result train_loss: <span style=\"color: #000080; font-weight: bold\">0.008850</span>                                                           <a href=\"file:///home/ubuntu/anaconda3/envs/openfl/lib/python3.8/site-packages/openfl/interface/interactive_api/experiment.py\"><span style=\"color: #7f7f7f\">experiment.py</span></a><span style=\"color: #7f7f7f\">:116</span>\n",
       "</pre>\n"
      ],
      "text/plain": [
       "<rich.jupyter.JupyterRenderable at 0x7f0a35f60220>"
      ]
     },
     "metadata": {},
     "output_type": "display_data"
    },
    {
     "data": {
      "text/html": [
       "<pre style=\"white-space:pre;overflow-x:auto;line-height:normal;font-family:Menlo,'DejaVu Sans Mono',consolas,'Courier New',monospace\"><span style=\"color: #7fbfbf\">[10:01:29] </span>METRIC   Round <span style=\"color: #000080; font-weight: bold\">19</span>, collaborator env_one locally_tuned_model_validate result acc: <span style=\"color: #000080; font-weight: bold\">0.966000</span>                                           <a href=\"file:///home/ubuntu/anaconda3/envs/openfl/lib/python3.8/site-packages/openfl/interface/interactive_api/experiment.py\"><span style=\"color: #7f7f7f\">experiment.py</span></a><span style=\"color: #7f7f7f\">:116</span>\n",
       "</pre>\n"
      ],
      "text/plain": [
       "<rich.jupyter.JupyterRenderable at 0x7f0a35f601f0>"
      ]
     },
     "metadata": {},
     "output_type": "display_data"
    },
    {
     "data": {
      "text/html": [
       "<pre style=\"white-space:pre;overflow-x:auto;line-height:normal;font-family:Menlo,'DejaVu Sans Mono',consolas,'Courier New',monospace\"><span style=\"color: #7fbfbf\">           </span>METRIC   Round <span style=\"color: #000080; font-weight: bold\">19</span>, collaborator env_one aggregated_model_validate result acc:    <span style=\"color: #000080; font-weight: bold\">0.943500</span>                                           <a href=\"file:///home/ubuntu/anaconda3/envs/openfl/lib/python3.8/site-packages/openfl/interface/interactive_api/experiment.py\"><span style=\"color: #7f7f7f\">experiment.py</span></a><span style=\"color: #7f7f7f\">:116</span>\n",
       "</pre>\n"
      ],
      "text/plain": [
       "<rich.jupyter.JupyterRenderable at 0x7f0a35f60b50>"
      ]
     },
     "metadata": {},
     "output_type": "display_data"
    },
    {
     "data": {
      "text/html": [
       "<pre style=\"white-space:pre;overflow-x:auto;line-height:normal;font-family:Menlo,'DejaVu Sans Mono',consolas,'Courier New',monospace\"><span style=\"color: #7fbfbf\">[10:01:33] </span>METRIC   Round <span style=\"color: #000080; font-weight: bold\">19</span>, collaborator env_four train result train_loss:        <span style=\"color: #000080; font-weight: bold\">0.017467</span>                                                   <a href=\"file:///home/ubuntu/anaconda3/envs/openfl/lib/python3.8/site-packages/openfl/interface/interactive_api/experiment.py\"><span style=\"color: #7f7f7f\">experiment.py</span></a><span style=\"color: #7f7f7f\">:116</span>\n",
       "</pre>\n"
      ],
      "text/plain": [
       "<rich.jupyter.JupyterRenderable at 0x7f0a35f60220>"
      ]
     },
     "metadata": {},
     "output_type": "display_data"
    },
    {
     "data": {
      "text/html": [
       "<pre style=\"white-space:pre;overflow-x:auto;line-height:normal;font-family:Menlo,'DejaVu Sans Mono',consolas,'Courier New',monospace\"><span style=\"color: #7fbfbf\">[10:01:34] </span>METRIC   Round <span style=\"color: #000080; font-weight: bold\">19</span>, collaborator env_four locally_tuned_model_validate result acc:        <span style=\"color: #000080; font-weight: bold\">0.955000</span>                                   <a href=\"file:///home/ubuntu/anaconda3/envs/openfl/lib/python3.8/site-packages/openfl/interface/interactive_api/experiment.py\"><span style=\"color: #7f7f7f\">experiment.py</span></a><span style=\"color: #7f7f7f\">:116</span>\n",
       "</pre>\n"
      ],
      "text/plain": [
       "<rich.jupyter.JupyterRenderable at 0x7f0a35f601f0>"
      ]
     },
     "metadata": {},
     "output_type": "display_data"
    },
    {
     "data": {
      "text/html": [
       "<pre style=\"white-space:pre;overflow-x:auto;line-height:normal;font-family:Menlo,'DejaVu Sans Mono',consolas,'Courier New',monospace\"><span style=\"color: #7fbfbf\">           </span>METRIC   Round <span style=\"color: #000080; font-weight: bold\">19</span>, collaborator env_four aggregated_model_validate result acc:   <span style=\"color: #000080; font-weight: bold\">0.483500</span>                                           <a href=\"file:///home/ubuntu/anaconda3/envs/openfl/lib/python3.8/site-packages/openfl/interface/interactive_api/experiment.py\"><span style=\"color: #7f7f7f\">experiment.py</span></a><span style=\"color: #7f7f7f\">:116</span>\n",
       "</pre>\n"
      ],
      "text/plain": [
       "<rich.jupyter.JupyterRenderable at 0x7f0a35f601c0>"
      ]
     },
     "metadata": {},
     "output_type": "display_data"
    },
    {
     "data": {
      "text/html": [
       "<pre style=\"white-space:pre;overflow-x:auto;line-height:normal;font-family:Menlo,'DejaVu Sans Mono',consolas,'Courier New',monospace\"><span style=\"color: #7fbfbf\">[10:01:38] </span>METRIC   Round <span style=\"color: #000080; font-weight: bold\">19</span>, collaborator env_seven train result train_loss:       <span style=\"color: #000080; font-weight: bold\">0.058553</span>                                                   <a href=\"file:///home/ubuntu/anaconda3/envs/openfl/lib/python3.8/site-packages/openfl/interface/interactive_api/experiment.py\"><span style=\"color: #7f7f7f\">experiment.py</span></a><span style=\"color: #7f7f7f\">:116</span>\n",
       "</pre>\n"
      ],
      "text/plain": [
       "<rich.jupyter.JupyterRenderable at 0x7f0a35f604f0>"
      ]
     },
     "metadata": {},
     "output_type": "display_data"
    },
    {
     "data": {
      "text/html": [
       "<pre style=\"white-space:pre;overflow-x:auto;line-height:normal;font-family:Menlo,'DejaVu Sans Mono',consolas,'Courier New',monospace\"><span style=\"color: #7fbfbf\">           </span>METRIC   Round <span style=\"color: #000080; font-weight: bold\">19</span>, collaborator env_seven locally_tuned_model_validate result acc:       <span style=\"color: #000080; font-weight: bold\">0.885500</span>                                   <a href=\"file:///home/ubuntu/anaconda3/envs/openfl/lib/python3.8/site-packages/openfl/interface/interactive_api/experiment.py\"><span style=\"color: #7f7f7f\">experiment.py</span></a><span style=\"color: #7f7f7f\">:116</span>\n",
       "</pre>\n"
      ],
      "text/plain": [
       "<rich.jupyter.JupyterRenderable at 0x7f0a35f60b50>"
      ]
     },
     "metadata": {},
     "output_type": "display_data"
    },
    {
     "data": {
      "text/html": [
       "<pre style=\"white-space:pre;overflow-x:auto;line-height:normal;font-family:Menlo,'DejaVu Sans Mono',consolas,'Courier New',monospace\"><span style=\"color: #7fbfbf\">[10:01:39] </span>METRIC   Round <span style=\"color: #000080; font-weight: bold\">19</span>, collaborator env_seven aggregated_model_validate result acc:  <span style=\"color: #000080; font-weight: bold\">0.811500</span>                                           <a href=\"file:///home/ubuntu/anaconda3/envs/openfl/lib/python3.8/site-packages/openfl/interface/interactive_api/experiment.py\"><span style=\"color: #7f7f7f\">experiment.py</span></a><span style=\"color: #7f7f7f\">:116</span>\n",
       "</pre>\n"
      ],
      "text/plain": [
       "<rich.jupyter.JupyterRenderable at 0x7f0a35f601f0>"
      ]
     },
     "metadata": {},
     "output_type": "display_data"
    },
    {
     "data": {
      "text/html": [
       "<pre style=\"white-space:pre;overflow-x:auto;line-height:normal;font-family:Menlo,'DejaVu Sans Mono',consolas,'Courier New',monospace\"><span style=\"color: #7fbfbf\">[10:01:40] </span>METRIC   Round <span style=\"color: #000080; font-weight: bold\">19</span>, collaborator env_eight train result train_loss:       <span style=\"color: #000080; font-weight: bold\">0.029797</span>                                                   <a href=\"file:///home/ubuntu/anaconda3/envs/openfl/lib/python3.8/site-packages/openfl/interface/interactive_api/experiment.py\"><span style=\"color: #7f7f7f\">experiment.py</span></a><span style=\"color: #7f7f7f\">:116</span>\n",
       "</pre>\n"
      ],
      "text/plain": [
       "<rich.jupyter.JupyterRenderable at 0x7f0a35f604f0>"
      ]
     },
     "metadata": {},
     "output_type": "display_data"
    },
    {
     "data": {
      "text/html": [
       "<pre style=\"white-space:pre;overflow-x:auto;line-height:normal;font-family:Menlo,'DejaVu Sans Mono',consolas,'Courier New',monospace\"><span style=\"color: #7fbfbf\">           </span>METRIC   Round <span style=\"color: #000080; font-weight: bold\">19</span>, collaborator env_eight locally_tuned_model_validate result acc:       <span style=\"color: #000080; font-weight: bold\">0.949000</span>                                   <a href=\"file:///home/ubuntu/anaconda3/envs/openfl/lib/python3.8/site-packages/openfl/interface/interactive_api/experiment.py\"><span style=\"color: #7f7f7f\">experiment.py</span></a><span style=\"color: #7f7f7f\">:116</span>\n",
       "</pre>\n"
      ],
      "text/plain": [
       "<rich.jupyter.JupyterRenderable at 0x7f0a35f603a0>"
      ]
     },
     "metadata": {},
     "output_type": "display_data"
    },
    {
     "data": {
      "text/html": [
       "<pre style=\"white-space:pre;overflow-x:auto;line-height:normal;font-family:Menlo,'DejaVu Sans Mono',consolas,'Courier New',monospace\"><span style=\"color: #7fbfbf\">           </span>METRIC   Round <span style=\"color: #000080; font-weight: bold\">19</span>, collaborator env_eight aggregated_model_validate result acc:  <span style=\"color: #000080; font-weight: bold\">0.229500</span>                                           <a href=\"file:///home/ubuntu/anaconda3/envs/openfl/lib/python3.8/site-packages/openfl/interface/interactive_api/experiment.py\"><span style=\"color: #7f7f7f\">experiment.py</span></a><span style=\"color: #7f7f7f\">:116</span>\n",
       "</pre>\n"
      ],
      "text/plain": [
       "<rich.jupyter.JupyterRenderable at 0x7f0a35f60b50>"
      ]
     },
     "metadata": {},
     "output_type": "display_data"
    },
    {
     "data": {
      "text/html": [
       "<pre style=\"white-space:pre;overflow-x:auto;line-height:normal;font-family:Menlo,'DejaVu Sans Mono',consolas,'Courier New',monospace\"><span style=\"color: #7fbfbf\">[10:01:53] </span>METRIC   Round <span style=\"color: #000080; font-weight: bold\">19</span>, collaborator env_three train result train_loss:       <span style=\"color: #000080; font-weight: bold\">0.018708</span>                                                   <a href=\"file:///home/ubuntu/anaconda3/envs/openfl/lib/python3.8/site-packages/openfl/interface/interactive_api/experiment.py\"><span style=\"color: #7f7f7f\">experiment.py</span></a><span style=\"color: #7f7f7f\">:116</span>\n",
       "</pre>\n"
      ],
      "text/plain": [
       "<rich.jupyter.JupyterRenderable at 0x7f0a35f60c10>"
      ]
     },
     "metadata": {},
     "output_type": "display_data"
    },
    {
     "data": {
      "text/html": [
       "<pre style=\"white-space:pre;overflow-x:auto;line-height:normal;font-family:Menlo,'DejaVu Sans Mono',consolas,'Courier New',monospace\"><span style=\"color: #7fbfbf\">[10:01:54] </span>METRIC   Round <span style=\"color: #000080; font-weight: bold\">19</span>, collaborator env_three locally_tuned_model_validate result acc:       <span style=\"color: #000080; font-weight: bold\">0.969000</span>                                   <a href=\"file:///home/ubuntu/anaconda3/envs/openfl/lib/python3.8/site-packages/openfl/interface/interactive_api/experiment.py\"><span style=\"color: #7f7f7f\">experiment.py</span></a><span style=\"color: #7f7f7f\">:116</span>\n",
       "</pre>\n"
      ],
      "text/plain": [
       "<rich.jupyter.JupyterRenderable at 0x7f0a35f60280>"
      ]
     },
     "metadata": {},
     "output_type": "display_data"
    },
    {
     "data": {
      "text/html": [
       "<pre style=\"white-space:pre;overflow-x:auto;line-height:normal;font-family:Menlo,'DejaVu Sans Mono',consolas,'Courier New',monospace\"><span style=\"color: #7fbfbf\">           </span>METRIC   Round <span style=\"color: #000080; font-weight: bold\">19</span>, collaborator env_three aggregated_model_validate result acc:  <span style=\"color: #000080; font-weight: bold\">0.225000</span>                                           <a href=\"file:///home/ubuntu/anaconda3/envs/openfl/lib/python3.8/site-packages/openfl/interface/interactive_api/experiment.py\"><span style=\"color: #7f7f7f\">experiment.py</span></a><span style=\"color: #7f7f7f\">:116</span>\n",
       "</pre>\n"
      ],
      "text/plain": [
       "<rich.jupyter.JupyterRenderable at 0x7f0a35f60df0>"
      ]
     },
     "metadata": {},
     "output_type": "display_data"
    },
    {
     "data": {
      "text/html": [
       "<pre style=\"white-space:pre;overflow-x:auto;line-height:normal;font-family:Menlo,'DejaVu Sans Mono',consolas,'Courier New',monospace\"><span style=\"color: #7fbfbf\">[10:02:05] </span>METRIC   Round <span style=\"color: #000080; font-weight: bold\">19</span>, collaborator env_two train result train_loss: <span style=\"color: #000080; font-weight: bold\">0.013560</span>                                                           <a href=\"file:///home/ubuntu/anaconda3/envs/openfl/lib/python3.8/site-packages/openfl/interface/interactive_api/experiment.py\"><span style=\"color: #7f7f7f\">experiment.py</span></a><span style=\"color: #7f7f7f\">:116</span>\n",
       "</pre>\n"
      ],
      "text/plain": [
       "<rich.jupyter.JupyterRenderable at 0x7f0a35f604c0>"
      ]
     },
     "metadata": {},
     "output_type": "display_data"
    },
    {
     "data": {
      "text/html": [
       "<pre style=\"white-space:pre;overflow-x:auto;line-height:normal;font-family:Menlo,'DejaVu Sans Mono',consolas,'Courier New',monospace\"><span style=\"color: #7fbfbf\">           </span>METRIC   Round <span style=\"color: #000080; font-weight: bold\">19</span>, collaborator env_two locally_tuned_model_validate result acc: <span style=\"color: #000080; font-weight: bold\">0.977500</span>                                           <a href=\"file:///home/ubuntu/anaconda3/envs/openfl/lib/python3.8/site-packages/openfl/interface/interactive_api/experiment.py\"><span style=\"color: #7f7f7f\">experiment.py</span></a><span style=\"color: #7f7f7f\">:116</span>\n",
       "</pre>\n"
      ],
      "text/plain": [
       "<rich.jupyter.JupyterRenderable at 0x7f0a35f60b50>"
      ]
     },
     "metadata": {},
     "output_type": "display_data"
    },
    {
     "data": {
      "text/html": [
       "<pre style=\"white-space:pre;overflow-x:auto;line-height:normal;font-family:Menlo,'DejaVu Sans Mono',consolas,'Courier New',monospace\"><span style=\"color: #7fbfbf\">[10:02:06] </span>METRIC   Round <span style=\"color: #000080; font-weight: bold\">19</span>, collaborator env_two aggregated_model_validate result acc:    <span style=\"color: #000080; font-weight: bold\">0.279000</span>                                           <a href=\"file:///home/ubuntu/anaconda3/envs/openfl/lib/python3.8/site-packages/openfl/interface/interactive_api/experiment.py\"><span style=\"color: #7f7f7f\">experiment.py</span></a><span style=\"color: #7f7f7f\">:116</span>\n",
       "</pre>\n"
      ],
      "text/plain": [
       "<rich.jupyter.JupyterRenderable at 0x7f0a35f60730>"
      ]
     },
     "metadata": {},
     "output_type": "display_data"
    },
    {
     "data": {
      "text/html": [
       "<pre style=\"white-space:pre;overflow-x:auto;line-height:normal;font-family:Menlo,'DejaVu Sans Mono',consolas,'Courier New',monospace\"><span style=\"color: #7fbfbf\">[10:02:15] </span>METRIC   Round <span style=\"color: #000080; font-weight: bold\">19</span>, collaborator env_ten train result train_loss: <span style=\"color: #000080; font-weight: bold\">0.018442</span>                                                           <a href=\"file:///home/ubuntu/anaconda3/envs/openfl/lib/python3.8/site-packages/openfl/interface/interactive_api/experiment.py\"><span style=\"color: #7f7f7f\">experiment.py</span></a><span style=\"color: #7f7f7f\">:116</span>\n",
       "</pre>\n"
      ],
      "text/plain": [
       "<rich.jupyter.JupyterRenderable at 0x7f0a35f60490>"
      ]
     },
     "metadata": {},
     "output_type": "display_data"
    },
    {
     "data": {
      "text/html": [
       "<pre style=\"white-space:pre;overflow-x:auto;line-height:normal;font-family:Menlo,'DejaVu Sans Mono',consolas,'Courier New',monospace\"><span style=\"color: #7fbfbf\">[10:02:16] </span>METRIC   Round <span style=\"color: #000080; font-weight: bold\">19</span>, collaborator env_ten locally_tuned_model_validate result acc: <span style=\"color: #000080; font-weight: bold\">0.946500</span>                                           <a href=\"file:///home/ubuntu/anaconda3/envs/openfl/lib/python3.8/site-packages/openfl/interface/interactive_api/experiment.py\"><span style=\"color: #7f7f7f\">experiment.py</span></a><span style=\"color: #7f7f7f\">:116</span>\n",
       "</pre>\n"
      ],
      "text/plain": [
       "<rich.jupyter.JupyterRenderable at 0x7f0a35f604c0>"
      ]
     },
     "metadata": {},
     "output_type": "display_data"
    },
    {
     "data": {
      "text/html": [
       "<pre style=\"white-space:pre;overflow-x:auto;line-height:normal;font-family:Menlo,'DejaVu Sans Mono',consolas,'Courier New',monospace\"><span style=\"color: #7fbfbf\">           </span>METRIC   Round <span style=\"color: #000080; font-weight: bold\">19</span>, collaborator env_ten aggregated_model_validate result acc:    <span style=\"color: #000080; font-weight: bold\">0.477000</span>                                           <a href=\"file:///home/ubuntu/anaconda3/envs/openfl/lib/python3.8/site-packages/openfl/interface/interactive_api/experiment.py\"><span style=\"color: #7f7f7f\">experiment.py</span></a><span style=\"color: #7f7f7f\">:116</span>\n",
       "</pre>\n"
      ],
      "text/plain": [
       "<rich.jupyter.JupyterRenderable at 0x7f0a35f601c0>"
      ]
     },
     "metadata": {},
     "output_type": "display_data"
    },
    {
     "data": {
      "text/html": [
       "<pre style=\"white-space:pre;overflow-x:auto;line-height:normal;font-family:Menlo,'DejaVu Sans Mono',consolas,'Courier New',monospace\"><span style=\"color: #7fbfbf\">[10:02:41] </span>METRIC   Round <span style=\"color: #000080; font-weight: bold\">19</span>, collaborator env_six train result train_loss: <span style=\"color: #000080; font-weight: bold\">0.008543</span>                                                           <a href=\"file:///home/ubuntu/anaconda3/envs/openfl/lib/python3.8/site-packages/openfl/interface/interactive_api/experiment.py\"><span style=\"color: #7f7f7f\">experiment.py</span></a><span style=\"color: #7f7f7f\">:116</span>\n",
       "</pre>\n"
      ],
      "text/plain": [
       "<rich.jupyter.JupyterRenderable at 0x7f0a35f60c10>"
      ]
     },
     "metadata": {},
     "output_type": "display_data"
    },
    {
     "data": {
      "text/html": [
       "<pre style=\"white-space:pre;overflow-x:auto;line-height:normal;font-family:Menlo,'DejaVu Sans Mono',consolas,'Courier New',monospace\"><span style=\"color: #7fbfbf\">[10:02:42] </span>METRIC   Round <span style=\"color: #000080; font-weight: bold\">19</span>, collaborator env_six locally_tuned_model_validate result acc: <span style=\"color: #000080; font-weight: bold\">0.961000</span>                                           <a href=\"file:///home/ubuntu/anaconda3/envs/openfl/lib/python3.8/site-packages/openfl/interface/interactive_api/experiment.py\"><span style=\"color: #7f7f7f\">experiment.py</span></a><span style=\"color: #7f7f7f\">:116</span>\n",
       "</pre>\n"
      ],
      "text/plain": [
       "<rich.jupyter.JupyterRenderable at 0x7f0a35f60df0>"
      ]
     },
     "metadata": {},
     "output_type": "display_data"
    },
    {
     "data": {
      "text/html": [
       "<pre style=\"white-space:pre;overflow-x:auto;line-height:normal;font-family:Menlo,'DejaVu Sans Mono',consolas,'Courier New',monospace\"><span style=\"color: #7fbfbf\">           </span>METRIC   Round <span style=\"color: #000080; font-weight: bold\">19</span>, collaborator env_six aggregated_model_validate result acc:    <span style=\"color: #000080; font-weight: bold\">0.943500</span>                                           <a href=\"file:///home/ubuntu/anaconda3/envs/openfl/lib/python3.8/site-packages/openfl/interface/interactive_api/experiment.py\"><span style=\"color: #7f7f7f\">experiment.py</span></a><span style=\"color: #7f7f7f\">:116</span>\n",
       "</pre>\n"
      ],
      "text/plain": [
       "<rich.jupyter.JupyterRenderable at 0x7f0a35f60490>"
      ]
     },
     "metadata": {},
     "output_type": "display_data"
    },
    {
     "data": {
      "text/html": [
       "<pre style=\"white-space:pre;overflow-x:auto;line-height:normal;font-family:Menlo,'DejaVu Sans Mono',consolas,'Courier New',monospace\"><span style=\"color: #7fbfbf\">[10:03:04] </span>METRIC   Round <span style=\"color: #000080; font-weight: bold\">19</span>, collaborator env_nine train result train_loss:        <span style=\"color: #000080; font-weight: bold\">0.036471</span>                                                   <a href=\"file:///home/ubuntu/anaconda3/envs/openfl/lib/python3.8/site-packages/openfl/interface/interactive_api/experiment.py\"><span style=\"color: #7f7f7f\">experiment.py</span></a><span style=\"color: #7f7f7f\">:116</span>\n",
       "</pre>\n"
      ],
      "text/plain": [
       "<rich.jupyter.JupyterRenderable at 0x7f0a35f60100>"
      ]
     },
     "metadata": {},
     "output_type": "display_data"
    },
    {
     "data": {
      "text/html": [
       "<pre style=\"white-space:pre;overflow-x:auto;line-height:normal;font-family:Menlo,'DejaVu Sans Mono',consolas,'Courier New',monospace\"><span style=\"color: #7fbfbf\">           </span>METRIC   Round <span style=\"color: #000080; font-weight: bold\">19</span>, collaborator env_nine locally_tuned_model_validate result acc:        <span style=\"color: #000080; font-weight: bold\">0.860000</span>                                   <a href=\"file:///home/ubuntu/anaconda3/envs/openfl/lib/python3.8/site-packages/openfl/interface/interactive_api/experiment.py\"><span style=\"color: #7f7f7f\">experiment.py</span></a><span style=\"color: #7f7f7f\">:116</span>\n",
       "</pre>\n"
      ],
      "text/plain": [
       "<rich.jupyter.JupyterRenderable at 0x7f0a35f60730>"
      ]
     },
     "metadata": {},
     "output_type": "display_data"
    },
    {
     "data": {
      "text/html": [
       "<pre style=\"white-space:pre;overflow-x:auto;line-height:normal;font-family:Menlo,'DejaVu Sans Mono',consolas,'Courier New',monospace\"><span style=\"color: #7fbfbf\">[10:03:05] </span>METRIC   Round <span style=\"color: #000080; font-weight: bold\">19</span>, collaborator env_nine aggregated_model_validate result acc:   <span style=\"color: #000080; font-weight: bold\">0.055000</span>                                           <a href=\"file:///home/ubuntu/anaconda3/envs/openfl/lib/python3.8/site-packages/openfl/interface/interactive_api/experiment.py\"><span style=\"color: #7f7f7f\">experiment.py</span></a><span style=\"color: #7f7f7f\">:116</span>\n",
       "</pre>\n"
      ],
      "text/plain": [
       "<rich.jupyter.JupyterRenderable at 0x7f0a35f60b50>"
      ]
     },
     "metadata": {},
     "output_type": "display_data"
    },
    {
     "data": {
      "text/html": [
       "<pre style=\"white-space:pre;overflow-x:auto;line-height:normal;font-family:Menlo,'DejaVu Sans Mono',consolas,'Courier New',monospace\"><span style=\"color: #7fbfbf\">[10:03:19] </span>METRIC   Round <span style=\"color: #000080; font-weight: bold\">19</span>, collaborator env_five train result train_loss:        <span style=\"color: #000080; font-weight: bold\">0.009606</span>                                                   <a href=\"file:///home/ubuntu/anaconda3/envs/openfl/lib/python3.8/site-packages/openfl/interface/interactive_api/experiment.py\"><span style=\"color: #7f7f7f\">experiment.py</span></a><span style=\"color: #7f7f7f\">:116</span>\n",
       "</pre>\n"
      ],
      "text/plain": [
       "<rich.jupyter.JupyterRenderable at 0x7f0a35f604c0>"
      ]
     },
     "metadata": {},
     "output_type": "display_data"
    },
    {
     "data": {
      "text/html": [
       "<pre style=\"white-space:pre;overflow-x:auto;line-height:normal;font-family:Menlo,'DejaVu Sans Mono',consolas,'Courier New',monospace\"><span style=\"color: #7fbfbf\">[10:03:20] </span>METRIC   Round <span style=\"color: #000080; font-weight: bold\">19</span>, collaborator env_five locally_tuned_model_validate result acc:        <span style=\"color: #000080; font-weight: bold\">0.970500</span>                                   <a href=\"file:///home/ubuntu/anaconda3/envs/openfl/lib/python3.8/site-packages/openfl/interface/interactive_api/experiment.py\"><span style=\"color: #7f7f7f\">experiment.py</span></a><span style=\"color: #7f7f7f\">:116</span>\n",
       "</pre>\n"
      ],
      "text/plain": [
       "<rich.jupyter.JupyterRenderable at 0x7f0a35f600d0>"
      ]
     },
     "metadata": {},
     "output_type": "display_data"
    },
    {
     "data": {
      "text/html": [
       "<pre style=\"white-space:pre;overflow-x:auto;line-height:normal;font-family:Menlo,'DejaVu Sans Mono',consolas,'Courier New',monospace\"><span style=\"color: #7fbfbf\">           </span>METRIC   Round <span style=\"color: #000080; font-weight: bold\">19</span>, collaborator env_five aggregated_model_validate result acc:   <span style=\"color: #000080; font-weight: bold\">0.820000</span>                                           <a href=\"file:///home/ubuntu/anaconda3/envs/openfl/lib/python3.8/site-packages/openfl/interface/interactive_api/experiment.py\"><span style=\"color: #7f7f7f\">experiment.py</span></a><span style=\"color: #7f7f7f\">:116</span>\n",
       "</pre>\n"
      ],
      "text/plain": [
       "<rich.jupyter.JupyterRenderable at 0x7f0a35f60c40>"
      ]
     },
     "metadata": {},
     "output_type": "display_data"
    },
    {
     "data": {
      "text/html": [
       "<pre style=\"white-space:pre;overflow-x:auto;line-height:normal;font-family:Menlo,'DejaVu Sans Mono',consolas,'Courier New',monospace\"><span style=\"color: #7fbfbf\">[10:03:31] </span>METRIC   Round <span style=\"color: #000080; font-weight: bold\">19</span>, collaborator Aggregator train result train_loss:      <span style=\"color: #000080; font-weight: bold\">0.020900</span>                                                   <a href=\"file:///home/ubuntu/anaconda3/envs/openfl/lib/python3.8/site-packages/openfl/interface/interactive_api/experiment.py\"><span style=\"color: #7f7f7f\">experiment.py</span></a><span style=\"color: #7f7f7f\">:116</span>\n",
       "</pre>\n"
      ],
      "text/plain": [
       "<rich.jupyter.JupyterRenderable at 0x7f0a35f601c0>"
      ]
     },
     "metadata": {},
     "output_type": "display_data"
    },
    {
     "data": {
      "text/html": [
       "<pre style=\"white-space:pre;overflow-x:auto;line-height:normal;font-family:Menlo,'DejaVu Sans Mono',consolas,'Courier New',monospace\"><span style=\"color: #7fbfbf\">           </span>METRIC   Round <span style=\"color: #000080; font-weight: bold\">19</span>, collaborator Aggregator locally_tuned_model_validate result acc:      <span style=\"color: #000080; font-weight: bold\">0.944000</span>                                   <a href=\"file:///home/ubuntu/anaconda3/envs/openfl/lib/python3.8/site-packages/openfl/interface/interactive_api/experiment.py\"><span style=\"color: #7f7f7f\">experiment.py</span></a><span style=\"color: #7f7f7f\">:116</span>\n",
       "</pre>\n"
      ],
      "text/plain": [
       "<rich.jupyter.JupyterRenderable at 0x7f0a35f60c10>"
      ]
     },
     "metadata": {},
     "output_type": "display_data"
    },
    {
     "data": {
      "text/html": [
       "<pre style=\"white-space:pre;overflow-x:auto;line-height:normal;font-family:Menlo,'DejaVu Sans Mono',consolas,'Courier New',monospace\"><span style=\"color: #7fbfbf\">           </span>METRIC   Round <span style=\"color: #000080; font-weight: bold\">19</span>, collaborator Aggregator aggregated_model_validate result acc: <span style=\"color: #000080; font-weight: bold\">0.526750</span>                                           <a href=\"file:///home/ubuntu/anaconda3/envs/openfl/lib/python3.8/site-packages/openfl/interface/interactive_api/experiment.py\"><span style=\"color: #7f7f7f\">experiment.py</span></a><span style=\"color: #7f7f7f\">:116</span>\n",
       "</pre>\n"
      ],
      "text/plain": [
       "<rich.jupyter.JupyterRenderable at 0x7f0a35f60df0>"
      ]
     },
     "metadata": {},
     "output_type": "display_data"
    }
   ],
   "source": [
    "# If user want to stop IPython session, then reconnect and check how experiment is going\n",
    "# fl_experiment.restore_experiment_state(model_interface)\n",
    "\n",
    "fl_experiment.stream_metrics(tensorboard_logs=True)"
   ]
  },
  {
   "cell_type": "code",
   "execution_count": null,
   "id": "2f2b1786",
   "metadata": {},
   "outputs": [],
   "source": []
  },
  {
   "cell_type": "code",
   "execution_count": null,
   "id": "939de07c",
   "metadata": {},
   "outputs": [],
   "source": []
  },
  {
   "cell_type": "code",
   "execution_count": null,
   "id": "bbd2250e",
   "metadata": {},
   "outputs": [],
   "source": []
  }
 ],
 "metadata": {
  "kernelspec": {
   "display_name": "Python 3 (ipykernel)",
   "language": "python",
   "name": "python3"
  },
  "language_info": {
   "codemirror_mode": {
    "name": "ipython",
    "version": 3
   },
   "file_extension": ".py",
   "mimetype": "text/x-python",
   "name": "python",
   "nbconvert_exporter": "python",
   "pygments_lexer": "ipython3",
   "version": "3.8.13"
  }
 },
 "nbformat": 4,
 "nbformat_minor": 5
}
